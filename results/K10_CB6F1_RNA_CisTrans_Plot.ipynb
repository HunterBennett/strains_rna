{
 "cells": [
  {
   "cell_type": "code",
   "execution_count": null,
   "metadata": {},
   "outputs": [],
   "source": [
    "# header ###\n",
    "__author__ = \"Hunter Bennett\"\n",
    "__license__ = \"BSD\"\n",
    "__email__ = \"hunter.r.bennett@gmail.com\"\n",
    "%load_ext autoreload\n",
    "%autoreload 2\n",
    "%matplotlib inline\n",
    "### imports ###\n",
    "import sys\n",
    "import os\n",
    "import re\n",
    "import glob\n",
    "import pandas as pd\n",
    "import numpy as np\n",
    "import matplotlib\n",
    "import matplotlib.pyplot as plt\n",
    "from matplotlib.patches import Patch\n",
    "from matplotlib_venn import venn3\n",
    "import seaborn as sns\n",
    "\n",
    "# import custom functions\n",
    "sys.path.insert(0, '/home/h1bennet/code/')\n",
    "from hbUtils import ngs_qc, quantile_normalize_df\n",
    "from homer_preprocessing import import_homer_diffgene, read_homer_gene_exp, read_annotated_peaks\n",
    "from plotting_scripts import plot_exp_rpkm, gene_list_bar_plot"
   ]
  },
  {
   "cell_type": "code",
   "execution_count": 2,
   "metadata": {},
   "outputs": [],
   "source": [
    "#### PLOTTING PARAMETERS FOR MANUSCRIPT ####\n",
    "# # get matplotlib to save readable fonts\n",
    "matplotlib.rcParams['pdf.fonttype'] = 42\n",
    "matplotlib.rcParams['ps.fonttype'] = 42\n",
    "matplotlib.rcParams['font.size'] = 6\n",
    "matplotlib.rcParams['savefig.dpi'] = 500\n",
    "\n",
    "\n",
    "# line widths\n",
    "matplotlib.rcParams['axes.linewidth'] = 1\n",
    "matplotlib.rcParams['xtick.major.width'] = 1\n",
    "matplotlib.rcParams['ytick.major.width'] = 1\n",
    "\n",
    "# adjust defualt color for plots to black\n",
    "# normal default is a dark gray\n",
    "COLOR = 'black'\n",
    "matplotlib.rcParams['text.color'] = COLOR\n",
    "matplotlib.rcParams['axes.labelcolor'] = COLOR\n",
    "matplotlib.rcParams['xtick.color'] = COLOR\n",
    "matplotlib.rcParams['ytick.color'] = COLOR\n",
    "matplotlib.rcParams['axes.edgecolor'] = COLOR\n",
    "\n",
    "#### PLOT PARAMETERS FOR THIS PLOT ####"
   ]
  },
  {
   "cell_type": "code",
   "execution_count": 3,
   "metadata": {},
   "outputs": [],
   "source": [
    "workingDirectory = '/home/h1bennet/strains_rna/results/A10_Manuscript_Figures_AllLiverCells//'\n",
    "dataDirectory = '/home/ttroutman/strainsKupffer/rnaKupfferF1/'\n",
    "if not os.path.isdir(workingDirectory):\n",
    "    os.mkdir(workingDirectory)\n",
    "os.chdir(workingDirectory)\n",
    "\n",
    "if not os.path.isdir('./figures/'):\n",
    "    os.mkdir('./figures/')"
   ]
  },
  {
   "cell_type": "markdown",
   "metadata": {},
   "source": [
    "To do this analysis we will pull from the differential analysis performed by Ty at the following location:  \n",
    "\n",
    "     /home/ttroutman/strainsKupffer/rnaKupfferF1/\n",
    "     \n",
    "The following two files are relevant  \n",
    "\n",
    "     /home/ttroutman/strainsKupffer/rnaKupfferF1/c57bl6j_perfect.vs.balbcj_perfect.scatter.txt\n",
    "     /home/ttroutman/strainsKupffer/rnaKupfferF1/c57bl6j_control.vs.balbcj_control.scatter.txt"
   ]
  },
  {
   "cell_type": "code",
   "execution_count": 4,
   "metadata": {},
   "outputs": [],
   "source": [
    "diffDir = '/home/ttroutman/strainsKupffer/rnaKupfferF1/rnaDiff/'\n",
    "rnaQuan = '/home/ttroutman/strainsKupffer/rnaKupfferF1/rnaQuan/rawT.txt'\n"
   ]
  },
  {
   "cell_type": "code",
   "execution_count": 5,
   "metadata": {},
   "outputs": [],
   "source": [
    "tpm = pd.read_csv(rnaQuan,\n",
    "                  index_col=0,\n",
    "                  sep='\\t')"
   ]
  },
  {
   "cell_type": "code",
   "execution_count": 6,
   "metadata": {},
   "outputs": [],
   "source": [
    "groups = ['balbcj_variants',\n",
    "          'c57bl6j_variants',\n",
    "          'balbcj_perfect',\n",
    "          'c57bl6j_perfect',\n",
    "          'balbcj_control',\n",
    "          'c57bl6j_control']\n",
    "\n",
    "log2tpm_thresh = 3.169925"
   ]
  },
  {
   "cell_type": "code",
   "execution_count": 7,
   "metadata": {},
   "outputs": [],
   "source": [
    "avg_tpm_dict = {}\n",
    "for group in groups:\n",
    "    avg = tpm.loc[:, tpm.columns.str.contains(group)].mean(1)\n",
    "    avg_tpm_dict[group] = avg\n",
    "    \n",
    "avg_tpm_df = pd.DataFrame(avg_tpm_dict)\n",
    "# log transform data\n",
    "log_tpm_df = np.log2(avg_tpm_df+1)\n",
    "# filter on expression\n",
    "log_tpm_df = log_tpm_df.reindex(log_tpm_df.index[(log_tpm_df > log2tpm_thresh).any(1)])"
   ]
  },
  {
   "cell_type": "markdown",
   "metadata": {},
   "source": [
    "calculate fold changes for each comparison of interest"
   ]
  },
  {
   "cell_type": "markdown",
   "metadata": {},
   "source": [
    "# Check with ty that  \"variants\" are perfectly aligned reads overlapping variants"
   ]
  },
  {
   "cell_type": "code",
   "execution_count": 8,
   "metadata": {
    "scrolled": true
   },
   "outputs": [],
   "source": [
    "log_tpm_df['f1_fc_perfect'] = log_tpm_df['c57bl6j_perfect'] - log_tpm_df['balbcj_perfect']\n",
    "log_tpm_df['f1_fc_variants'] = log_tpm_df['c57bl6j_variants'] - log_tpm_df['balbcj_variants']\n",
    "log_tpm_df['p1_fc'] = log_tpm_df['c57bl6j_control'] - log_tpm_df['balbcj_control']"
   ]
  },
  {
   "cell_type": "markdown",
   "metadata": {},
   "source": [
    "### set gene lists\n",
    "For plotting we don't care about directionality, but for extracting gene lists we will have to\n",
    "pull out balb biased and c57 biased trans genes"
   ]
  },
  {
   "cell_type": "code",
   "execution_count": 9,
   "metadata": {},
   "outputs": [],
   "source": [
    "cis = np.abs(log_tpm_df.p1_fc - log_tpm_df.f1_fc_variants) < 1\n",
    "trans = ((~cis) &(np.abs(log_tpm_df.p1_fc) > 1) & ((np.abs(log_tpm_df.f1_fc_variants) < 1)))\n",
    "mixed = (~cis) & (~trans)"
   ]
  },
  {
   "cell_type": "code",
   "execution_count": 10,
   "metadata": {},
   "outputs": [
    {
     "data": {
      "image/png": "[encoded data removed]",
      "text/plain": [
       "<Figure size 432x432 with 1 Axes>"
      ]
     },
     "metadata": {
      "needs_background": "light"
     },
     "output_type": "display_data"
    }
   ],
   "source": [
    "fig, ax = plt.subplots(figsize=(6,6))\n",
    "\n",
    "\n",
    "ax.plot([-10,10],\n",
    "        [-10,10],\n",
    "        c='k',\n",
    "        linewidth=0.5)\n",
    "\n",
    "ax.scatter(log_tpm_df.p1_fc,\n",
    "           log_tpm_df.f1_fc_variants,\n",
    "           s=5,\n",
    "           c='k')\n",
    "\n",
    "ax.scatter(log_tpm_df.p1_fc[cis],\n",
    "           log_tpm_df.f1_fc_variants[cis],\n",
    "           s=5,\n",
    "           c='r')\n",
    "\n",
    "ax.scatter(log_tpm_df.p1_fc[trans],\n",
    "           log_tpm_df.f1_fc_variants[trans],\n",
    "           s=5,\n",
    "           c='b')\n",
    "\n",
    "ax.scatter(log_tpm_df.p1_fc[mixed],\n",
    "           log_tpm_df.f1_fc_variants[mixed],\n",
    "           s=5,\n",
    "           c='g')\n",
    "ax.set_xlabel('Log2(C57BL6J P1 / BALBCJ P1)')\n",
    "ax.set_ylabel('Log2(CB6JF1 C57 /CB6JF1 BALB)')\n",
    "\n",
    "ax.set_xlim([-5,5]);\n",
    "ax.set_ylim([-5,5]);"
   ]
  },
  {
   "cell_type": "code",
   "execution_count": 11,
   "metadata": {},
   "outputs": [],
   "source": [
    "trans_c57 = ((~cis) & ((log_tpm_df.p1_fc) > 1) & (np.abs(log_tpm_df.f1_fc_variants) < 1))\n",
    "trans_balb = ((~cis) & ((log_tpm_df.p1_fc) < -1) & (np.abs(log_tpm_df.f1_fc_variants) < 1))\n",
    "mixed_c57 = ((~cis) & ((np.abs(log_tpm_df.p1_fc) < 1) & ((log_tpm_df.f1_fc_variants) > 1)))\n",
    "mixed_balb = ((~cis) & ((np.abs(log_tpm_df.p1_fc) < 1) & ((log_tpm_df.f1_fc_variants) < -1)))"
   ]
  },
  {
   "cell_type": "code",
   "execution_count": 12,
   "metadata": {},
   "outputs": [],
   "source": [
    "lists = [trans_c57, trans_balb, mixed_c57, mixed_balb]\n",
    "labels = ['trans_c57', 'trans_balb', 'mixed_c57', 'mixed_balb']"
   ]
  },
  {
   "cell_type": "code",
   "execution_count": 13,
   "metadata": {},
   "outputs": [
    {
     "data": {
      "text/plain": [
       "139"
      ]
     },
     "execution_count": 13,
     "metadata": {},
     "output_type": "execute_result"
    }
   ],
   "source": [
    "len(trans_c57.index[trans_c57])"
   ]
  },
  {
   "cell_type": "markdown",
   "metadata": {},
   "source": [
    "## Write out gene list"
   ]
  },
  {
   "cell_type": "code",
   "execution_count": 14,
   "metadata": {},
   "outputs": [],
   "source": [
    "if not os.path.isdir('./gene_lists/'):\n",
    "    os.mkdir('./gene_lists')"
   ]
  },
  {
   "cell_type": "code",
   "execution_count": 15,
   "metadata": {},
   "outputs": [],
   "source": [
    "for label, genelist in zip(labels, lists):\n",
    "    with open('./gene_lists/cb6f1_kupffer_'+label+'.txt', 'w') as f:\n",
    "        f.write('Gene\\n')\n",
    "        for i in genelist.index[genelist].tolist():\n",
    "            f.write(i+'\\n')\n",
    "        f.close()"
   ]
  },
  {
   "cell_type": "markdown",
   "metadata": {},
   "source": [
    "# Make plot for only variants"
   ]
  },
  {
   "cell_type": "code",
   "execution_count": 16,
   "metadata": {},
   "outputs": [],
   "source": [
    "no_vars = (log_tpm_df.balbcj_variants==0) & (log_tpm_df.c57bl6j_variants==0) "
   ]
  },
  {
   "cell_type": "code",
   "execution_count": 17,
   "metadata": {},
   "outputs": [],
   "source": [
    "log_tpm_df_filt = log_tpm_df.reindex(log_tpm_df.index[~no_vars])"
   ]
  },
  {
   "cell_type": "code",
   "execution_count": 18,
   "metadata": {},
   "outputs": [
    {
     "data": {
      "text/plain": [
       "(4407, 9)"
      ]
     },
     "execution_count": 18,
     "metadata": {},
     "output_type": "execute_result"
    }
   ],
   "source": [
    "log_tpm_df_filt.shape"
   ]
  },
  {
   "cell_type": "code",
   "execution_count": 19,
   "metadata": {},
   "outputs": [],
   "source": [
    "cis = np.abs(log_tpm_df_filt.p1_fc - log_tpm_df_filt.f1_fc_variants) < 1\n",
    "trans = ((~cis) &(np.abs(log_tpm_df_filt.p1_fc) > 1) & ((np.abs(log_tpm_df_filt.f1_fc_variants) < 1)))\n",
    "mixed = (~cis) & (~trans)"
   ]
  },
  {
   "cell_type": "code",
   "execution_count": 20,
   "metadata": {},
   "outputs": [
    {
     "data": {
      "image/png": "[encoded data removed]",
      "text/plain": [
       "<Figure size 432x432 with 1 Axes>"
      ]
     },
     "metadata": {
      "needs_background": "light"
     },
     "output_type": "display_data"
    }
   ],
   "source": [
    "fig, ax = plt.subplots(figsize=(6,6))\n",
    "\n",
    "\n",
    "ax.plot([-10,10],\n",
    "        [-10,10],\n",
    "        c='k',\n",
    "        linewidth=0.5)\n",
    "\n",
    "ax.scatter(log_tpm_df_filt.p1_fc,\n",
    "           log_tpm_df_filt.f1_fc_variants,\n",
    "           s=5,\n",
    "           c='k')\n",
    "\n",
    "ax.scatter(log_tpm_df_filt.p1_fc[cis],\n",
    "           log_tpm_df_filt.f1_fc_variants[cis],\n",
    "           s=5,\n",
    "           c='r')\n",
    "\n",
    "ax.scatter(log_tpm_df_filt.p1_fc[trans],\n",
    "           log_tpm_df_filt.f1_fc_variants[trans],\n",
    "           s=5,\n",
    "           c='b')\n",
    "\n",
    "ax.scatter(log_tpm_df_filt.p1_fc[mixed],\n",
    "           log_tpm_df_filt.f1_fc_variants[mixed],\n",
    "           s=5,\n",
    "           c='g')\n",
    "ax.set_xlabel('Log2(C57BL6J P1 / BALBCJ P1)')\n",
    "ax.set_ylabel('Log2(CB6JF1 C57 /CB6JF1 BALB)')\n",
    "\n",
    "ax.set_xlim([-5,5]);\n",
    "ax.set_ylim([-5,5]);"
   ]
  },
  {
   "cell_type": "code",
   "execution_count": 21,
   "metadata": {},
   "outputs": [],
   "source": [
    "trans_c57_filt = ((~cis) & ((log_tpm_df_filt.p1_fc) > 1) & (np.abs(log_tpm_df_filt.f1_fc_variants) < 1))\n",
    "trans_balb_filt = ((~cis) & ((log_tpm_df_filt.p1_fc) < -1) & (np.abs(log_tpm_df_filt.f1_fc_variants) < 1))\n",
    "mixed_c57_filt = ((~cis) & ((np.abs(log_tpm_df_filt.p1_fc) < 1) & ((log_tpm_df_filt.f1_fc_variants) > 1)))\n",
    "mixed_balb_filt = ((~cis) & ((np.abs(log_tpm_df_filt.p1_fc) < 1) & ((log_tpm_df_filt.f1_fc_variants) < -1)))"
   ]
  },
  {
   "cell_type": "code",
   "execution_count": 22,
   "metadata": {},
   "outputs": [],
   "source": [
    "lists = [trans_c57_filt, trans_balb_filt, mixed_c57_filt, mixed_balb_filt]\n",
    "labels = ['trans_c57_filt', 'trans_balb_filt', 'mixed_c57_filt', 'mixed_balb_filt']"
   ]
  },
  {
   "cell_type": "code",
   "execution_count": 23,
   "metadata": {},
   "outputs": [
    {
     "data": {
      "text/plain": [
       "56"
      ]
     },
     "execution_count": 23,
     "metadata": {},
     "output_type": "execute_result"
    }
   ],
   "source": [
    "len(trans_balb_filt.index[trans_balb_filt])"
   ]
  },
  {
   "cell_type": "code",
   "execution_count": 24,
   "metadata": {},
   "outputs": [
    {
     "data": {
      "text/plain": [
       "66"
      ]
     },
     "execution_count": 24,
     "metadata": {},
     "output_type": "execute_result"
    }
   ],
   "source": [
    "len(trans_c57_filt.index[trans_c57_filt])"
   ]
  },
  {
   "cell_type": "code",
   "execution_count": 25,
   "metadata": {},
   "outputs": [],
   "source": [
    "for label, genelist in zip(labels, lists):\n",
    "    with open('./gene_lists/cb6f1_kupffer_'+label+'.txt', 'w') as f:\n",
    "        f.write('Gene\\n')\n",
    "        for i in genelist.index[genelist].tolist():\n",
    "            f.write(i+'\\n')\n",
    "        f.close()"
   ]
  },
  {
   "cell_type": "markdown",
   "metadata": {},
   "source": [
    "# Try to replicate Ty's Analysis"
   ]
  },
  {
   "cell_type": "markdown",
   "metadata": {},
   "source": [
    "Only difference is I think he uses the p value as well..."
   ]
  },
  {
   "cell_type": "markdown",
   "metadata": {},
   "source": [
    "pull diff genes"
   ]
  },
  {
   "cell_type": "code",
   "execution_count": 26,
   "metadata": {},
   "outputs": [
    {
     "name": "stdout",
     "output_type": "stream",
     "text": [
      "ge all transcripts (23608, 20)\n",
      "Diff Gene selected transcripts (7667, 7)\n",
      "ge selected transcripts (7667, 20)\n"
     ]
    }
   ],
   "source": [
    "diff_gene_control, tpm_control, tpm_mat_control, tpm_mat_quant_control = import_homer_diffgene(\n",
    "    diffDir+'/balbcj_control.vs.c57bl6j_control.scatter.txt',\n",
    "    rnaQuan)"
   ]
  },
  {
   "cell_type": "code",
   "execution_count": 27,
   "metadata": {},
   "outputs": [
    {
     "data": {
      "text/html": [
       "<div>\n",
       "<style scoped>\n",
       "    .dataframe tbody tr th:only-of-type {\n",
       "        vertical-align: middle;\n",
       "    }\n",
       "\n",
       "    .dataframe tbody tr th {\n",
       "        vertical-align: top;\n",
       "    }\n",
       "\n",
       "    .dataframe thead th {\n",
       "        text-align: right;\n",
       "    }\n",
       "</style>\n",
       "<table border=\"1\" class=\"dataframe\">\n",
       "  <thead>\n",
       "    <tr style=\"text-align: right;\">\n",
       "      <th></th>\n",
       "      <th>baseMean</th>\n",
       "      <th>log2FoldChange</th>\n",
       "      <th>lfcSE</th>\n",
       "      <th>stat</th>\n",
       "      <th>pvalue</th>\n",
       "      <th>padj</th>\n",
       "      <th>contrast</th>\n",
       "    </tr>\n",
       "    <tr>\n",
       "      <th>RepeatID</th>\n",
       "      <th></th>\n",
       "      <th></th>\n",
       "      <th></th>\n",
       "      <th></th>\n",
       "      <th></th>\n",
       "      <th></th>\n",
       "      <th></th>\n",
       "    </tr>\n",
       "  </thead>\n",
       "  <tbody>\n",
       "    <tr>\n",
       "      <th>Mia2</th>\n",
       "      <td>2122.428634</td>\n",
       "      <td>0.135183</td>\n",
       "      <td>0.112605</td>\n",
       "      <td>1.200505</td>\n",
       "      <td>0.229943</td>\n",
       "      <td>0.421966</td>\n",
       "      <td>c57bl6j_control-balbcj_control</td>\n",
       "    </tr>\n",
       "    <tr>\n",
       "      <th>Sugp2</th>\n",
       "      <td>363.618280</td>\n",
       "      <td>-0.093574</td>\n",
       "      <td>0.177396</td>\n",
       "      <td>-0.527486</td>\n",
       "      <td>0.597856</td>\n",
       "      <td>0.761549</td>\n",
       "      <td>c57bl6j_control-balbcj_control</td>\n",
       "    </tr>\n",
       "    <tr>\n",
       "      <th>March1</th>\n",
       "      <td>2224.623579</td>\n",
       "      <td>0.618832</td>\n",
       "      <td>0.139304</td>\n",
       "      <td>4.442298</td>\n",
       "      <td>0.000009</td>\n",
       "      <td>0.000108</td>\n",
       "      <td>c57bl6j_control-balbcj_control</td>\n",
       "    </tr>\n",
       "    <tr>\n",
       "      <th>Vapa</th>\n",
       "      <td>1639.783462</td>\n",
       "      <td>-0.061662</td>\n",
       "      <td>0.114556</td>\n",
       "      <td>-0.538267</td>\n",
       "      <td>0.590393</td>\n",
       "      <td>0.756694</td>\n",
       "      <td>c57bl6j_control-balbcj_control</td>\n",
       "    </tr>\n",
       "    <tr>\n",
       "      <th>Crat</th>\n",
       "      <td>836.618028</td>\n",
       "      <td>0.089090</td>\n",
       "      <td>0.135613</td>\n",
       "      <td>0.656938</td>\n",
       "      <td>0.511221</td>\n",
       "      <td>0.701739</td>\n",
       "      <td>c57bl6j_control-balbcj_control</td>\n",
       "    </tr>\n",
       "  </tbody>\n",
       "</table>\n",
       "</div>"
      ],
      "text/plain": [
       "             baseMean  log2FoldChange     lfcSE      stat    pvalue      padj  \\\n",
       "RepeatID                                                                        \n",
       "Mia2      2122.428634        0.135183  0.112605  1.200505  0.229943  0.421966   \n",
       "Sugp2      363.618280       -0.093574  0.177396 -0.527486  0.597856  0.761549   \n",
       "March1    2224.623579        0.618832  0.139304  4.442298  0.000009  0.000108   \n",
       "Vapa      1639.783462       -0.061662  0.114556 -0.538267  0.590393  0.756694   \n",
       "Crat       836.618028        0.089090  0.135613  0.656938  0.511221  0.701739   \n",
       "\n",
       "                                contrast  \n",
       "RepeatID                                  \n",
       "Mia2      c57bl6j_control-balbcj_control  \n",
       "Sugp2     c57bl6j_control-balbcj_control  \n",
       "March1    c57bl6j_control-balbcj_control  \n",
       "Vapa      c57bl6j_control-balbcj_control  \n",
       "Crat      c57bl6j_control-balbcj_control  "
      ]
     },
     "execution_count": 27,
     "metadata": {},
     "output_type": "execute_result"
    }
   ],
   "source": [
    "diff_gene_control.head()"
   ]
  },
  {
   "cell_type": "code",
   "execution_count": 28,
   "metadata": {},
   "outputs": [
    {
     "name": "stdout",
     "output_type": "stream",
     "text": [
      "ge all transcripts (23608, 20)\n",
      "Diff Gene selected transcripts (3587, 7)\n",
      "ge selected transcripts (3587, 20)\n"
     ]
    }
   ],
   "source": [
    "diff_gene_variants, tpm_variants, tpm_mat_variants, tpm_mat_quant_variants = import_homer_diffgene(\n",
    "    diffDir+'/balbcj_variants.vs.c57bl6j_variants.scatter.txt',\n",
    "    rnaQuan)"
   ]
  },
  {
   "cell_type": "code",
   "execution_count": 29,
   "metadata": {},
   "outputs": [
    {
     "data": {
      "text/plain": [
       "(2945, 14)"
      ]
     },
     "execution_count": 29,
     "metadata": {},
     "output_type": "execute_result"
    }
   ],
   "source": [
    "df = diff_gene_control.merge(diff_gene_variants,\n",
    "                             suffixes=['_p1', '_f1'],\n",
    "                             left_index=True,\n",
    "                             right_index=True,\n",
    "                             how='outer')\n",
    "\n",
    "# i was going to fill na but this would be wrong...\n",
    "# df['log2FoldChange_f1'].fillna(0, inplace=True)\n",
    "# df['pvalue_f1'].fillna(1, inplace=True)\n",
    "# df['padj_f1'].fillna(1, inplace=True)\n",
    "\n",
    "df = df.dropna(how='any')\n",
    "df.shape"
   ]
  },
  {
   "cell_type": "code",
   "execution_count": 30,
   "metadata": {},
   "outputs": [],
   "source": [
    "fc = np.log2(2)\n",
    "padj = 0.05"
   ]
  },
  {
   "cell_type": "code",
   "execution_count": 31,
   "metadata": {},
   "outputs": [],
   "source": [
    "parental_balb = (df['log2FoldChange_p1'] < -fc) & (df['padj_p1'] < 0.05)\n",
    "f1_balb = (df['log2FoldChange_f1'] < -fc) & (df['padj_f1'] < 0.05)\n",
    "parental_c57 = (df['log2FoldChange_p1'] > fc) & (df['padj_p1'] < 0.05)\n",
    "f1_c57 = (df['log2FoldChange_f1']  > fc) & (df['padj_f1'] < 0.05)"
   ]
  },
  {
   "cell_type": "code",
   "execution_count": 32,
   "metadata": {},
   "outputs": [],
   "source": [
    "cis_balb = parental_balb & f1_balb\n",
    "trans_balb = parental_balb & (~f1_balb)\n",
    "mixed_balb = (~parental_balb) & (f1_balb)\n",
    "cis_c57 = parental_c57 & f1_c57\n",
    "trans_c57 = parental_c57 & (~f1_c57)\n",
    "mixed_c57 = (~parental_c57) & (f1_c57)"
   ]
  },
  {
   "cell_type": "code",
   "execution_count": 33,
   "metadata": {},
   "outputs": [
    {
     "data": {
      "text/plain": [
       "63"
      ]
     },
     "execution_count": 33,
     "metadata": {},
     "output_type": "execute_result"
    }
   ],
   "source": [
    "trans_balb.sum()"
   ]
  },
  {
   "cell_type": "code",
   "execution_count": 34,
   "metadata": {},
   "outputs": [
    {
     "data": {
      "text/plain": [
       "61"
      ]
     },
     "execution_count": 34,
     "metadata": {},
     "output_type": "execute_result"
    }
   ],
   "source": [
    "trans_c57.sum()"
   ]
  },
  {
   "cell_type": "code",
   "execution_count": 35,
   "metadata": {},
   "outputs": [],
   "source": [
    "lists = [cis_balb, trans_balb, mixed_balb,\n",
    "         cis_c57, trans_c57, mixed_c57]\n",
    "labels = ['cis_balb_filt_pval', 'trans_balb_filt_pval', 'mixed_balb_filt_pval',\n",
    "          'cis_c57_filt_pval', 'trans_c57_filt_pval', 'mixed_c57_filt_pval']\n",
    "\n",
    "viridis = matplotlib.cm.get_cmap('viridis')\n",
    "colors = [viridis(0.6), viridis(0.4), viridis(0.2),\n",
    "          viridis(0.6), viridis(0.4), viridis(0.2)]"
   ]
  },
  {
   "cell_type": "markdown",
   "metadata": {},
   "source": [
    "Create legend objects"
   ]
  },
  {
   "cell_type": "code",
   "execution_count": 36,
   "metadata": {},
   "outputs": [],
   "source": [
    "n_cis = cis_balb.sum() + cis_c57.sum()\n",
    "n_trans = trans_balb.sum() + trans_c57.sum()\n",
    "n_mixed = mixed_balb.sum() + mixed_c57.sum()\n",
    "n_same = df.shape[0] - (n_cis + n_trans + n_mixed)"
   ]
  },
  {
   "cell_type": "code",
   "execution_count": 37,
   "metadata": {},
   "outputs": [],
   "source": [
    "from matplotlib.lines import Line2D\n",
    "legend_elements = [Line2D([0], [0],\n",
    "                          marker='o', color='w',\n",
    "                          label='Same: %i' % n_same,\n",
    "                          markerfacecolor=viridis(0.99),\n",
    "                          markersize=3),\n",
    "                   Line2D([0], [0],\n",
    "                          marker='o', color='w',\n",
    "                          label='Cis: %i' % n_cis,\n",
    "                          markerfacecolor=viridis(0.6),\n",
    "                          markersize=3),\n",
    "                   Line2D([0], [0],\n",
    "                          marker='o', color='w',\n",
    "                          label='Trans: %i' % n_trans,\n",
    "                          markerfacecolor=viridis(0.4),\n",
    "                          markersize=3),\n",
    "                   Line2D([0], [0],\n",
    "                          marker='o', color='w',\n",
    "                          label='Mixed: %i' % n_mixed,\n",
    "                          markerfacecolor=viridis(0.2),\n",
    "                          markersize=3)]"
   ]
  },
  {
   "cell_type": "code",
   "execution_count": 38,
   "metadata": {},
   "outputs": [
    {
     "data": {
      "image/png": "[encoded data removed]",
      "text/plain": [
       "<Figure size 144x144 with 1 Axes>"
      ]
     },
     "metadata": {
      "needs_background": "light"
     },
     "output_type": "display_data"
    }
   ],
   "source": [
    "fig, ax = plt.subplots(figsize=(2,2))\n",
    "\n",
    "# plot bounding lines\n",
    "ax.plot([-10,10], [-10,10], c='k',\n",
    "        linewidth=0.5, zorder=1)\n",
    "ax.axhline(0, c='k', linewidth=0.5,\n",
    "           zorder=1)\n",
    "ax.axvline(0, c='k', linewidth=0.5,\n",
    "           zorder=1)\n",
    "\n",
    "ax.scatter(df.log2FoldChange_p1,\n",
    "           df.log2FoldChange_f1,\n",
    "           s=1,\n",
    "           c=[viridis(0.99)],\n",
    "           zorder=2)\n",
    "\n",
    "for genelist, color in zip(lists, colors):\n",
    "    ax.scatter(df.loc[genelist, 'log2FoldChange_p1'],\n",
    "               df.loc[genelist, 'log2FoldChange_f1'],\n",
    "               s=1,\n",
    "               c=[color],\n",
    "               zorder=3)\n",
    "# Hide the right and top spines\n",
    "ax.spines['right'].set_visible(False)\n",
    "ax.spines['top'].set_visible(False)\n",
    "\n",
    "ax.set_xlabel('C57/BALB\\nLog2(FC F0)')\n",
    "ax.set_ylabel('C57/BALB\\nLog2(FC F1)')\n",
    "\n",
    "ax.legend(handles=legend_elements,\n",
    "          fontsize=6,\n",
    "          frameon=False, ncol=1, loc=(-0.05,0.7),\n",
    "          handletextpad=0.05, columnspacing=0.05)\n",
    "\n",
    "ax.set_xlim([-5,5]);\n",
    "ax.set_ylim([-5,5]);\n",
    "\n",
    "plt.savefig('./fancy_figures/cis_trans_diff_expression_filt.pdf',\n",
    "            bbox_inches='tight')"
   ]
  },
  {
   "cell_type": "code",
   "execution_count": null,
   "metadata": {},
   "outputs": [],
   "source": []
  }
 ],
 "metadata": {
  "kernelspec": {
   "display_name": "dataviz",
   "language": "python",
   "name": "dataviz"
  },
  "language_info": {
   "codemirror_mode": {
    "name": "ipython",
    "version": 3
   },
   "file_extension": ".py",
   "mimetype": "text/x-python",
   "name": "python",
   "nbconvert_exporter": "python",
   "pygments_lexer": "ipython3",
   "version": "3.7.5"
  }
 },
 "nbformat": 4,
 "nbformat_minor": 2
}
