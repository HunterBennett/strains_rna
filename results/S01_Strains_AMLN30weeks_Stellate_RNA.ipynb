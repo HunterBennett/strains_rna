{
 "cells": [
  {
   "cell_type": "code",
   "execution_count": 1,
   "metadata": {},
   "outputs": [],
   "source": [
    "### header ###\n",
    "__author__ = \"Hunter Bennett\"\n",
    "__license__ = \"BSD\"\n",
    "__email__ = \"hunter.r.bennett@gmail.com\"\n",
    "%load_ext autoreload\n",
    "%autoreload 2\n",
    "%matplotlib inline\n",
    "### imports ###\n",
    "import sys\n",
    "import os\n",
    "import re\n",
    "import glob\n",
    "import pandas as pd\n",
    "import numpy as np\n",
    "import matplotlib\n",
    "import matplotlib.pyplot as plt \n",
    "import seaborn as sns\n",
    "\n",
    "matplotlib.rcParams['savefig.dpi'] = 200\n",
    "sys.setrecursionlimit(3000)\n",
    "sns.set(font_scale=1)\n",
    "sns.set_context('talk')\n",
    "sns.set_style('white')\n",
    "\n",
    "# import custom functions\n",
    "sys.path.insert(0, '/home/h1bennet/code/')\n",
    "from hbUtils import ngs_qc, quantile_normalize_df\n",
    "from homer_preprocessing import read_homer_gene_exp, import_homer_diffgene, pull_comparisons_get_diff\n",
    "from plotting_scripts import label_point, pca_rpkm_mat, get_diff_volcano, plot_exp_rpkm, gene_list_bar_plot"
   ]
  },
  {
   "cell_type": "code",
   "execution_count": 2,
   "metadata": {},
   "outputs": [],
   "source": [
    "workingDirectory = '/home/h1bennet/strains_rna/results/S01_Strains_AMLN30weeks_Stellate_RNA/'\n",
    "dataDirectory = '/home/h1bennet/strains/data/RNA/AMLN_30week_stellate/'\n",
    "if not os.path.isdir(workingDirectory):\n",
    "    os.mkdir(workingDirectory)\n",
    "os.chdir(workingDirectory)\n"
   ]
  },
  {
   "cell_type": "markdown",
   "metadata": {},
   "source": [
    "# Check qc stats"
   ]
  },
  {
   "cell_type": "code",
   "execution_count": 5,
   "metadata": {},
   "outputs": [
    {
     "name": "stdout",
     "output_type": "stream",
     "text": [
      "/home/h1bennet/strains/data/RNA/AMLN_30week_stellate//\n",
      "./AMLN_30week_stellate_qc/\n"
     ]
    },
    {
     "data": {
      "text/plain": [
       "<Figure size 432x288 with 0 Axes>"
      ]
     },
     "metadata": {},
     "output_type": "display_data"
    }
   ],
   "source": [
    "qc = ngs_qc(dataDirectory)"
   ]
  },
  {
   "cell_type": "code",
   "execution_count": 6,
   "metadata": {},
   "outputs": [
    {
     "data": {
      "text/html": [
       "<div>\n",
       "<style scoped>\n",
       "    .dataframe tbody tr th:only-of-type {\n",
       "        vertical-align: middle;\n",
       "    }\n",
       "\n",
       "    .dataframe tbody tr th {\n",
       "        vertical-align: top;\n",
       "    }\n",
       "\n",
       "    .dataframe thead th {\n",
       "        text-align: right;\n",
       "    }\n",
       "</style>\n",
       "<table border=\"1\" class=\"dataframe\">\n",
       "  <thead>\n",
       "    <tr style=\"text-align: right;\">\n",
       "      <th></th>\n",
       "      <th>uniquePositions</th>\n",
       "      <th>fragmentLengthEstimate</th>\n",
       "      <th>tagsPerBP</th>\n",
       "      <th>clonality</th>\n",
       "      <th>GC_Content</th>\n",
       "      <th>totalReads</th>\n",
       "      <th>uniquelyMappedReads</th>\n",
       "      <th>multiMappedReads</th>\n",
       "      <th>frac_unmappedReads_mismatch</th>\n",
       "      <th>frac_unmappedReads_short</th>\n",
       "      <th>frac_unmappedReads_other</th>\n",
       "      <th>uniquelyMappedFraction</th>\n",
       "      <th>mappedFraction</th>\n",
       "    </tr>\n",
       "  </thead>\n",
       "  <tbody>\n",
       "    <tr>\n",
       "      <th>NCoRWT_Stellate_RNA_AMLNDiet_30week_LN136C_160919</th>\n",
       "      <td>6576118.0</td>\n",
       "      <td>75.0</td>\n",
       "      <td>0.006846</td>\n",
       "      <td>2.833</td>\n",
       "      <td>0.535</td>\n",
       "      <td>20230955.0</td>\n",
       "      <td>18627981.0</td>\n",
       "      <td>1313941.0</td>\n",
       "      <td>0.0</td>\n",
       "      <td>0.0075</td>\n",
       "      <td>0.0015</td>\n",
       "      <td>0.920766</td>\n",
       "      <td>0.9910</td>\n",
       "    </tr>\n",
       "    <tr>\n",
       "      <th>NCoRWT_Stellate_RNA_AMLNDiet_30week_LN141A_160921</th>\n",
       "      <td>6291304.0</td>\n",
       "      <td>75.0</td>\n",
       "      <td>0.006919</td>\n",
       "      <td>2.992</td>\n",
       "      <td>0.513</td>\n",
       "      <td>20257885.0</td>\n",
       "      <td>18824376.0</td>\n",
       "      <td>1087178.0</td>\n",
       "      <td>0.0</td>\n",
       "      <td>0.0104</td>\n",
       "      <td>0.0017</td>\n",
       "      <td>0.929237</td>\n",
       "      <td>0.9879</td>\n",
       "    </tr>\n",
       "    <tr>\n",
       "      <th>aj_Stellate_RNA_AMLNDiet_30week_AJ3c_160928</th>\n",
       "      <td>3448777.0</td>\n",
       "      <td>75.0</td>\n",
       "      <td>0.005989</td>\n",
       "      <td>4.725</td>\n",
       "      <td>-1.000</td>\n",
       "      <td>18682105.0</td>\n",
       "      <td>16295238.0</td>\n",
       "      <td>1491094.0</td>\n",
       "      <td>0.0</td>\n",
       "      <td>0.0357</td>\n",
       "      <td>0.0045</td>\n",
       "      <td>0.872238</td>\n",
       "      <td>0.9598</td>\n",
       "    </tr>\n",
       "    <tr>\n",
       "      <th>aj_Stellate_RNA_AMLNDiet_30week_AJ3d_160928</th>\n",
       "      <td>7327742.0</td>\n",
       "      <td>75.0</td>\n",
       "      <td>0.007609</td>\n",
       "      <td>2.826</td>\n",
       "      <td>-1.000</td>\n",
       "      <td>23131476.0</td>\n",
       "      <td>20706921.0</td>\n",
       "      <td>1994070.0</td>\n",
       "      <td>0.0</td>\n",
       "      <td>0.0053</td>\n",
       "      <td>0.0052</td>\n",
       "      <td>0.895184</td>\n",
       "      <td>0.9895</td>\n",
       "    </tr>\n",
       "    <tr>\n",
       "      <th>balbc_Stellate_RNA_AMLNDiet_30week_Balb3a_160928</th>\n",
       "      <td>6623060.0</td>\n",
       "      <td>75.0</td>\n",
       "      <td>0.007995</td>\n",
       "      <td>3.285</td>\n",
       "      <td>-1.000</td>\n",
       "      <td>24601509.0</td>\n",
       "      <td>21757514.0</td>\n",
       "      <td>2441818.0</td>\n",
       "      <td>0.0</td>\n",
       "      <td>0.0033</td>\n",
       "      <td>0.0051</td>\n",
       "      <td>0.884398</td>\n",
       "      <td>0.9916</td>\n",
       "    </tr>\n",
       "    <tr>\n",
       "      <th>balbc_Stellate_RNA_AMLNDiet_30week_Balb3d_160928</th>\n",
       "      <td>7170478.0</td>\n",
       "      <td>75.0</td>\n",
       "      <td>0.007052</td>\n",
       "      <td>2.677</td>\n",
       "      <td>-1.000</td>\n",
       "      <td>21915375.0</td>\n",
       "      <td>19193474.0</td>\n",
       "      <td>2069686.0</td>\n",
       "      <td>0.0</td>\n",
       "      <td>0.0126</td>\n",
       "      <td>0.0066</td>\n",
       "      <td>0.875799</td>\n",
       "      <td>0.9808</td>\n",
       "    </tr>\n",
       "  </tbody>\n",
       "</table>\n",
       "</div>"
      ],
      "text/plain": [
       "                                                   uniquePositions  \\\n",
       "NCoRWT_Stellate_RNA_AMLNDiet_30week_LN136C_160919        6576118.0   \n",
       "NCoRWT_Stellate_RNA_AMLNDiet_30week_LN141A_160921        6291304.0   \n",
       "aj_Stellate_RNA_AMLNDiet_30week_AJ3c_160928              3448777.0   \n",
       "aj_Stellate_RNA_AMLNDiet_30week_AJ3d_160928              7327742.0   \n",
       "balbc_Stellate_RNA_AMLNDiet_30week_Balb3a_160928         6623060.0   \n",
       "balbc_Stellate_RNA_AMLNDiet_30week_Balb3d_160928         7170478.0   \n",
       "\n",
       "                                                   fragmentLengthEstimate  \\\n",
       "NCoRWT_Stellate_RNA_AMLNDiet_30week_LN136C_160919                    75.0   \n",
       "NCoRWT_Stellate_RNA_AMLNDiet_30week_LN141A_160921                    75.0   \n",
       "aj_Stellate_RNA_AMLNDiet_30week_AJ3c_160928                          75.0   \n",
       "aj_Stellate_RNA_AMLNDiet_30week_AJ3d_160928                          75.0   \n",
       "balbc_Stellate_RNA_AMLNDiet_30week_Balb3a_160928                     75.0   \n",
       "balbc_Stellate_RNA_AMLNDiet_30week_Balb3d_160928                     75.0   \n",
       "\n",
       "                                                   tagsPerBP  clonality  \\\n",
       "NCoRWT_Stellate_RNA_AMLNDiet_30week_LN136C_160919   0.006846      2.833   \n",
       "NCoRWT_Stellate_RNA_AMLNDiet_30week_LN141A_160921   0.006919      2.992   \n",
       "aj_Stellate_RNA_AMLNDiet_30week_AJ3c_160928         0.005989      4.725   \n",
       "aj_Stellate_RNA_AMLNDiet_30week_AJ3d_160928         0.007609      2.826   \n",
       "balbc_Stellate_RNA_AMLNDiet_30week_Balb3a_160928    0.007995      3.285   \n",
       "balbc_Stellate_RNA_AMLNDiet_30week_Balb3d_160928    0.007052      2.677   \n",
       "\n",
       "                                                   GC_Content  totalReads  \\\n",
       "NCoRWT_Stellate_RNA_AMLNDiet_30week_LN136C_160919       0.535  20230955.0   \n",
       "NCoRWT_Stellate_RNA_AMLNDiet_30week_LN141A_160921       0.513  20257885.0   \n",
       "aj_Stellate_RNA_AMLNDiet_30week_AJ3c_160928            -1.000  18682105.0   \n",
       "aj_Stellate_RNA_AMLNDiet_30week_AJ3d_160928            -1.000  23131476.0   \n",
       "balbc_Stellate_RNA_AMLNDiet_30week_Balb3a_160928       -1.000  24601509.0   \n",
       "balbc_Stellate_RNA_AMLNDiet_30week_Balb3d_160928       -1.000  21915375.0   \n",
       "\n",
       "                                                   uniquelyMappedReads  \\\n",
       "NCoRWT_Stellate_RNA_AMLNDiet_30week_LN136C_160919           18627981.0   \n",
       "NCoRWT_Stellate_RNA_AMLNDiet_30week_LN141A_160921           18824376.0   \n",
       "aj_Stellate_RNA_AMLNDiet_30week_AJ3c_160928                 16295238.0   \n",
       "aj_Stellate_RNA_AMLNDiet_30week_AJ3d_160928                 20706921.0   \n",
       "balbc_Stellate_RNA_AMLNDiet_30week_Balb3a_160928            21757514.0   \n",
       "balbc_Stellate_RNA_AMLNDiet_30week_Balb3d_160928            19193474.0   \n",
       "\n",
       "                                                   multiMappedReads  \\\n",
       "NCoRWT_Stellate_RNA_AMLNDiet_30week_LN136C_160919         1313941.0   \n",
       "NCoRWT_Stellate_RNA_AMLNDiet_30week_LN141A_160921         1087178.0   \n",
       "aj_Stellate_RNA_AMLNDiet_30week_AJ3c_160928               1491094.0   \n",
       "aj_Stellate_RNA_AMLNDiet_30week_AJ3d_160928               1994070.0   \n",
       "balbc_Stellate_RNA_AMLNDiet_30week_Balb3a_160928          2441818.0   \n",
       "balbc_Stellate_RNA_AMLNDiet_30week_Balb3d_160928          2069686.0   \n",
       "\n",
       "                                                   frac_unmappedReads_mismatch  \\\n",
       "NCoRWT_Stellate_RNA_AMLNDiet_30week_LN136C_160919                          0.0   \n",
       "NCoRWT_Stellate_RNA_AMLNDiet_30week_LN141A_160921                          0.0   \n",
       "aj_Stellate_RNA_AMLNDiet_30week_AJ3c_160928                                0.0   \n",
       "aj_Stellate_RNA_AMLNDiet_30week_AJ3d_160928                                0.0   \n",
       "balbc_Stellate_RNA_AMLNDiet_30week_Balb3a_160928                           0.0   \n",
       "balbc_Stellate_RNA_AMLNDiet_30week_Balb3d_160928                           0.0   \n",
       "\n",
       "                                                   frac_unmappedReads_short  \\\n",
       "NCoRWT_Stellate_RNA_AMLNDiet_30week_LN136C_160919                    0.0075   \n",
       "NCoRWT_Stellate_RNA_AMLNDiet_30week_LN141A_160921                    0.0104   \n",
       "aj_Stellate_RNA_AMLNDiet_30week_AJ3c_160928                          0.0357   \n",
       "aj_Stellate_RNA_AMLNDiet_30week_AJ3d_160928                          0.0053   \n",
       "balbc_Stellate_RNA_AMLNDiet_30week_Balb3a_160928                     0.0033   \n",
       "balbc_Stellate_RNA_AMLNDiet_30week_Balb3d_160928                     0.0126   \n",
       "\n",
       "                                                   frac_unmappedReads_other  \\\n",
       "NCoRWT_Stellate_RNA_AMLNDiet_30week_LN136C_160919                    0.0015   \n",
       "NCoRWT_Stellate_RNA_AMLNDiet_30week_LN141A_160921                    0.0017   \n",
       "aj_Stellate_RNA_AMLNDiet_30week_AJ3c_160928                          0.0045   \n",
       "aj_Stellate_RNA_AMLNDiet_30week_AJ3d_160928                          0.0052   \n",
       "balbc_Stellate_RNA_AMLNDiet_30week_Balb3a_160928                     0.0051   \n",
       "balbc_Stellate_RNA_AMLNDiet_30week_Balb3d_160928                     0.0066   \n",
       "\n",
       "                                                   uniquelyMappedFraction  \\\n",
       "NCoRWT_Stellate_RNA_AMLNDiet_30week_LN136C_160919                0.920766   \n",
       "NCoRWT_Stellate_RNA_AMLNDiet_30week_LN141A_160921                0.929237   \n",
       "aj_Stellate_RNA_AMLNDiet_30week_AJ3c_160928                      0.872238   \n",
       "aj_Stellate_RNA_AMLNDiet_30week_AJ3d_160928                      0.895184   \n",
       "balbc_Stellate_RNA_AMLNDiet_30week_Balb3a_160928                 0.884398   \n",
       "balbc_Stellate_RNA_AMLNDiet_30week_Balb3d_160928                 0.875799   \n",
       "\n",
       "                                                   mappedFraction  \n",
       "NCoRWT_Stellate_RNA_AMLNDiet_30week_LN136C_160919          0.9910  \n",
       "NCoRWT_Stellate_RNA_AMLNDiet_30week_LN141A_160921          0.9879  \n",
       "aj_Stellate_RNA_AMLNDiet_30week_AJ3c_160928                0.9598  \n",
       "aj_Stellate_RNA_AMLNDiet_30week_AJ3d_160928                0.9895  \n",
       "balbc_Stellate_RNA_AMLNDiet_30week_Balb3a_160928           0.9916  \n",
       "balbc_Stellate_RNA_AMLNDiet_30week_Balb3d_160928           0.9808  "
      ]
     },
     "execution_count": 6,
     "metadata": {},
     "output_type": "execute_result"
    }
   ],
   "source": [
    "qc"
   ]
  },
  {
   "cell_type": "markdown",
   "metadata": {},
   "source": [
    "# Run Oyoung's pipeline to process RNA-seq data consistantly."
   ]
  },
  {
   "cell_type": "code",
   "execution_count": 8,
   "metadata": {},
   "outputs": [],
   "source": [
    "c57_paths = list(np.sort(glob.glob(dataDirectory+'/NCoRWT*')))\n",
    "balbc_paths = list(np.sort(glob.glob(dataDirectory+'/balb*')))\n",
    "aj_paths = list(np.sort(glob.glob(dataDirectory+'/aj*')))"
   ]
  },
  {
   "cell_type": "code",
   "execution_count": 11,
   "metadata": {},
   "outputs": [],
   "source": [
    "c57_ids = [i.split('/')[-1].split('_')[5] for i in c57_paths]\n",
    "balbc_ids = [i.split('/')[-1].split('_')[5] for i in balbc_paths]\n",
    "aj_ids = [i.split('/')[-1].split('_')[5] for i in aj_paths]"
   ]
  },
  {
   "cell_type": "code",
   "execution_count": 14,
   "metadata": {},
   "outputs": [],
   "source": [
    "ids = ['c57_stellate_amlndiet_30weeks',\n",
    "       'balbc_stellate_amlndiet_30weeks',\n",
    "       'aj_stellate_amlndiet_30weeks']\n",
    "colors = ['#006d2c',\n",
    "          '#08519c',\n",
    "          '#a50f15']\n",
    "paths = [';'.join(c57_paths),\n",
    "         ';'.join(balbc_paths),\n",
    "         ';'.join(aj_paths)]\n",
    "short_ids = [';'.join([ids[0]+'_'+i for i in c57_ids]),\n",
    "             ';'.join([ids[1]+'_'+i for i in balbc_ids]),\n",
    "             ';'.join([ids[2]+'_'+i for i in aj_ids])]"
   ]
  },
  {
   "cell_type": "code",
   "execution_count": 15,
   "metadata": {},
   "outputs": [],
   "source": [
    "pd.DataFrame([ids,colors,paths,short_ids]).T.to_csv('./sampleDef.txt',\n",
    "                                                    sep='\\t',\n",
    "                                                    header=False,\n",
    "                                                    index=False)"
   ]
  },
  {
   "cell_type": "markdown",
   "metadata": {},
   "source": [
    "# Run O'young RNA pipeline"
   ]
  },
  {
   "cell_type": "markdown",
   "metadata": {},
   "source": [
    "Run the code below in BASH\n",
    "\n",
    "    source activate r-ouyangPipe\n",
    "    \n",
    "    mkdir ./expression/\n",
    "    \n",
    "    mkdir ./differential/\n",
    "    \n",
    "    rnaQuan.R ./sampleDef.txt -o ./expression/\n",
    "\n",
    "    rnaDiff.R ./sampleDef.txt -c ./expression/rawC.txt \\\n",
    "    -t ./expression/rawT.txt -o ./differential/\n",
    "\n",
    "    # annotate scatter files with tag counts\n",
    "    for scatter in ./differential/*scatter.txt;\n",
    "    do diff2Homer.R -d $scatter -q ./expression/HOMER.rawTPM.txt;\n",
    "    done"
   ]
  },
  {
   "cell_type": "markdown",
   "metadata": {},
   "source": [
    "### Make sure to check the PCA pdf file for outliers"
   ]
  },
  {
   "cell_type": "markdown",
   "metadata": {},
   "source": [
    "# Import differential gene files for examination and plotting"
   ]
  },
  {
   "cell_type": "markdown",
   "metadata": {},
   "source": [
    "## Write differential genes to list for metascape"
   ]
  },
  {
   "cell_type": "code",
   "execution_count": 16,
   "metadata": {},
   "outputs": [],
   "source": [
    "if not os.path.isdir('./gene_lists/'):\n",
    "    os.mkdir('./gene_lists')"
   ]
  },
  {
   "cell_type": "code",
   "execution_count": 17,
   "metadata": {},
   "outputs": [],
   "source": [
    "strains = ['aj', 'balb', 'c57']\n",
    "log2fc = 1\n",
    "padj = 0.05"
   ]
  },
  {
   "cell_type": "code",
   "execution_count": 18,
   "metadata": {
    "scrolled": false
   },
   "outputs": [],
   "source": [
    "gene_list_dict ={}"
   ]
  },
  {
   "cell_type": "code",
   "execution_count": 19,
   "metadata": {
    "scrolled": false
   },
   "outputs": [
    {
     "name": "stdout",
     "output_type": "stream",
     "text": [
      "./differential/aj_stellate_amlndiet_30weeks.vs.balbc_stellate_amlndiet_30weeks.scatter.homer.txt\n",
      "ge all transcripts (24940, 13)\n",
      "Diff Gene selected transcripts (7889, 14)\n",
      "ge selected transcripts (7889, 13)\n",
      "./differential/aj_stellate_amlndiet_30weeks.vs.c57_stellate_amlndiet_30weeks.scatter.homer.txt\n",
      "ge all transcripts (24940, 13)\n",
      "Diff Gene selected transcripts (8876, 14)\n",
      "ge selected transcripts (8876, 13)\n",
      "./differential/balbc_stellate_amlndiet_30weeks.vs.aj_stellate_amlndiet_30weeks.scatter.homer.txt\n",
      "ge all transcripts (24940, 13)\n",
      "Diff Gene selected transcripts (7889, 14)\n",
      "ge selected transcripts (7889, 13)\n",
      "./differential/balbc_stellate_amlndiet_30weeks.vs.c57_stellate_amlndiet_30weeks.scatter.homer.txt\n",
      "ge all transcripts (24940, 13)\n",
      "Diff Gene selected transcripts (8986, 14)\n",
      "ge selected transcripts (8986, 13)\n",
      "./differential/c57_stellate_amlndiet_30weeks.vs.balbc_stellate_amlndiet_30weeks.scatter.homer.txt\n",
      "ge all transcripts (24940, 13)\n",
      "Diff Gene selected transcripts (8986, 14)\n",
      "ge selected transcripts (8986, 13)\n",
      "./differential/c57_stellate_amlndiet_30weeks.vs.aj_stellate_amlndiet_30weeks.scatter.homer.txt\n",
      "ge all transcripts (24940, 13)\n",
      "Diff Gene selected transcripts (8876, 14)\n",
      "ge selected transcripts (8876, 13)\n"
     ]
    }
   ],
   "source": [
    "for strain in strains:\n",
    "    # initialize gene lists\n",
    "    g_intersect = set()\n",
    "    g_union = set()\n",
    "    for i in glob.glob('./differential/'+strain+'*homer.txt'):\n",
    "        print(i)\n",
    "        # read in gene expression data\n",
    "        df, tpm, tpm_mat, tpm_mat_quant = import_homer_diffgene(\n",
    "            depath=i,\n",
    "            gepath='./expression/HOMER.rawTPM.txt',\n",
    "            gene_name_index=True)\n",
    "\n",
    "        # select differential genes\n",
    "        df = df.loc[~(df.chr.str.contains('chrX|chrY|ChrUn')), :]\n",
    "        sig_genes = df.index[(df['padj'] < padj) & (df['log2FoldChange'] >= log2fc)].to_list()\n",
    "        \n",
    "        # add to sets\n",
    "        if len(g_union) == 0:\n",
    "            g_union = set(sig_genes)\n",
    "            g_intersect = set(sig_genes)\n",
    "        else:\n",
    "            g_union = g_union.union(sig_genes)\n",
    "            g_intersect = g_intersect.intersection(sig_genes)\n",
    "        \n",
    "        # print('union set length:', print(len(g_union)))\n",
    "        # print('intersection set length:', print(len(g_intersect)))\n",
    "    \n",
    "    # after getting union and intersection sets add to dict\n",
    "    gene_list_dict[strain+'_union'] = list(g_union)\n",
    "    gene_list_dict[strain+'_intersection'] = list(g_intersect)\n",
    "        "
   ]
  },
  {
   "cell_type": "code",
   "execution_count": 21,
   "metadata": {},
   "outputs": [
    {
     "name": "stdout",
     "output_type": "stream",
     "text": [
      "aj_union\n",
      "954 genes\n",
      "aj_intersection\n",
      "8 genes\n",
      "balb_union\n",
      "1305 genes\n",
      "balb_intersection\n",
      "239 genes\n",
      "c57_union\n",
      "1698 genes\n",
      "c57_intersection\n",
      "1016 genes\n"
     ]
    }
   ],
   "source": [
    "for key in gene_list_dict.keys():\n",
    "    print(key)\n",
    "    print(len(gene_list_dict[key]), 'genes')\n",
    "    with open('./gene_lists/'+key+'_stellate_amln_genes_fc_'+str(log2fc)+'_pval_'+str(padj)+'.txt', 'w') as f:\n",
    "        f.write('Gene\\n')\n",
    "        for i in gene_list_dict[key]:\n",
    "            f.write(i+'\\n')\n",
    "        f.close()\n"
   ]
  },
  {
   "cell_type": "code",
   "execution_count": null,
   "metadata": {},
   "outputs": [],
   "source": []
  }
 ],
 "metadata": {
  "kernelspec": {
   "display_name": "dataviz",
   "language": "python",
   "name": "dataviz"
  },
  "language_info": {
   "codemirror_mode": {
    "name": "ipython",
    "version": 3
   },
   "file_extension": ".py",
   "mimetype": "text/x-python",
   "name": "python",
   "nbconvert_exporter": "python",
   "pygments_lexer": "ipython3",
   "version": "3.7.5"
  }
 },
 "nbformat": 4,
 "nbformat_minor": 2
}
