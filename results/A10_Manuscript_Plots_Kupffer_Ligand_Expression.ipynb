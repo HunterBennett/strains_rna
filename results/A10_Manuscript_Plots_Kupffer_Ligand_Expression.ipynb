{
 "cells": [
  {
   "cell_type": "code",
   "execution_count": 2,
   "id": "organizational-special",
   "metadata": {},
   "outputs": [],
   "source": [
    "### header ###\n",
    "__author__ = \"Hunter Bennett\"\n",
    "__license__ = \"BSD\"\n",
    "__email__ = \"hunter.r.bennett@gmail.com\"\n",
    "%load_ext autoreload\n",
    "%autoreload 2\n",
    "%matplotlib inline\n",
    "### imports ###\n",
    "import sys\n",
    "import os\n",
    "import re\n",
    "import glob\n",
    "import pandas as pd\n",
    "import numpy as np\n",
    "import matplotlib\n",
    "import matplotlib.pyplot as plt\n",
    "from matplotlib.patches import Patch\n",
    "import seaborn as sns\n",
    "\n",
    "# import custom functions\n",
    "sys.path.insert(0, '/home/h1bennet/code/')\n",
    "from homer_preprocessing import import_homer_diffgene, read_homer_gene_exp\n",
    "from plotting_scripts import plot_exp_rpkm, gene_list_bar_plot"
   ]
  },
  {
   "cell_type": "code",
   "execution_count": 3,
   "id": "strong-trace",
   "metadata": {},
   "outputs": [],
   "source": [
    "#### PLOTTING PARAMETERS FOR MANUSCRIPT ####\n",
    "# # get matplotlib to save readable fonts\n",
    "matplotlib.rcParams['pdf.fonttype'] = 42\n",
    "matplotlib.rcParams['ps.fonttype'] = 42\n",
    "matplotlib.rcParams['font.size'] = 6\n",
    "matplotlib.rcParams['savefig.dpi'] = 500\n",
    "\n",
    "\n",
    "# line widths\n",
    "matplotlib.rcParams['axes.linewidth'] = 1\n",
    "matplotlib.rcParams['xtick.major.width'] = 1\n",
    "matplotlib.rcParams['ytick.major.width'] = 1\n",
    "\n",
    "# adjust defualt color for plots to black\n",
    "# normal default is a dark gray\n",
    "COLOR = 'black'\n",
    "matplotlib.rcParams['text.color'] = COLOR\n",
    "matplotlib.rcParams['axes.labelcolor'] = COLOR\n",
    "matplotlib.rcParams['xtick.color'] = COLOR\n",
    "matplotlib.rcParams['ytick.color'] = COLOR\n",
    "matplotlib.rcParams['axes.edgecolor'] = COLOR\n",
    "\n",
    "#### PLOT PARAMETERS FOR THIS PLOT ####"
   ]
  },
  {
   "cell_type": "code",
   "execution_count": 4,
   "id": "affecting-transition",
   "metadata": {},
   "outputs": [],
   "source": [
    "workingDirectory = '/home/h1bennet/strains_rna/results/A10_Manuscript_Figures_AllLiverCells//'\n",
    "dataDirectory = '/home/h1bennet/strains_rna/results/A00_Strains_Control_WholeLiver_RNA/'\n",
    "if not os.path.isdir(workingDirectory):\n",
    "    os.mkdir(workingDirectory)\n",
    "os.chdir(workingDirectory)\n"
   ]
  },
  {
   "cell_type": "markdown",
   "id": "local-nirvana",
   "metadata": {},
   "source": [
    "Goal is easy visualization of gene expression across hepatic cell types."
   ]
  },
  {
   "cell_type": "markdown",
   "id": "bright-hometown",
   "metadata": {},
   "source": [
    "# Extract differential genes "
   ]
  },
  {
   "cell_type": "code",
   "execution_count": 5,
   "id": "featured-cedar",
   "metadata": {},
   "outputs": [],
   "source": [
    "strains = ['aj', 'balbc', 'c57']\n",
    "cells = ['hepatocyte', 'kupffer', 'lsec', 'stellate']\n",
    "log2fc = 1\n",
    "padj = 0.05\n",
    "gene_list_dict ={}"
   ]
  },
  {
   "cell_type": "code",
   "execution_count": 6,
   "id": "anonymous-maine",
   "metadata": {},
   "outputs": [
    {
     "name": "stdout",
     "output_type": "stream",
     "text": [
      "/home/h1bennet/strains_rna/results/A00_Strains_Control_WholeLiver_RNA//differential/aj_hepatocyte_control_young.vs.balbc_hepatocyte_control_young.scatter.homer.txt\n",
      "ge all transcripts (24940, 43)\n",
      "Diff Gene selected transcripts (5501, 14)\n",
      "ge selected transcripts (5501, 43)\n",
      "/home/h1bennet/strains_rna/results/A00_Strains_Control_WholeLiver_RNA//differential/aj_hepatocyte_control_young.vs.c57_hepatocyte_control_young.scatter.homer.txt\n",
      "ge all transcripts (24940, 43)\n",
      "Diff Gene selected transcripts (5494, 14)\n",
      "ge selected transcripts (5494, 43)\n",
      "/home/h1bennet/strains_rna/results/A00_Strains_Control_WholeLiver_RNA//differential/aj_kupffer_control_young.vs.c57_kupffer_control_young.scatter.homer.txt\n",
      "ge all transcripts (24940, 43)\n",
      "Diff Gene selected transcripts (7652, 14)\n",
      "ge selected transcripts (7652, 43)\n",
      "/home/h1bennet/strains_rna/results/A00_Strains_Control_WholeLiver_RNA//differential/aj_kupffer_control_young.vs.balbc_kupffer_control_young.scatter.homer.txt\n",
      "ge all transcripts (24940, 43)\n",
      "Diff Gene selected transcripts (7612, 14)\n",
      "ge selected transcripts (7612, 43)\n",
      "/home/h1bennet/strains_rna/results/A00_Strains_Control_WholeLiver_RNA//differential/aj_lsec_control_young.vs.balbc_lsec_control_young.scatter.homer.txt\n",
      "ge all transcripts (24940, 43)\n",
      "Diff Gene selected transcripts (8926, 14)\n",
      "ge selected transcripts (8926, 43)\n",
      "/home/h1bennet/strains_rna/results/A00_Strains_Control_WholeLiver_RNA//differential/aj_lsec_control_young.vs.c57_lsec_control_young.scatter.homer.txt\n",
      "ge all transcripts (24940, 43)\n",
      "Diff Gene selected transcripts (8952, 14)\n",
      "ge selected transcripts (8952, 43)\n",
      "/home/h1bennet/strains_rna/results/A00_Strains_Control_WholeLiver_RNA//differential/aj_stellate_control_young.vs.c57_stellate_control_young.scatter.homer.txt\n",
      "ge all transcripts (24940, 43)\n",
      "Diff Gene selected transcripts (9368, 14)\n",
      "ge selected transcripts (9368, 43)\n",
      "/home/h1bennet/strains_rna/results/A00_Strains_Control_WholeLiver_RNA//differential/aj_stellate_control_young.vs.balbc_stellate_control_young.scatter.homer.txt\n",
      "ge all transcripts (24940, 43)\n",
      "Diff Gene selected transcripts (9336, 14)\n",
      "ge selected transcripts (9336, 43)\n",
      "/home/h1bennet/strains_rna/results/A00_Strains_Control_WholeLiver_RNA//differential/balbc_hepatocyte_control_young.vs.aj_hepatocyte_control_young.scatter.homer.txt\n",
      "ge all transcripts (24940, 43)\n",
      "Diff Gene selected transcripts (5501, 14)\n",
      "ge selected transcripts (5501, 43)\n",
      "/home/h1bennet/strains_rna/results/A00_Strains_Control_WholeLiver_RNA//differential/balbc_hepatocyte_control_young.vs.c57_hepatocyte_control_young.scatter.homer.txt\n",
      "ge all transcripts (24940, 43)\n",
      "Diff Gene selected transcripts (5650, 14)\n",
      "ge selected transcripts (5650, 43)\n",
      "/home/h1bennet/strains_rna/results/A00_Strains_Control_WholeLiver_RNA//differential/balbc_kupffer_control_young.vs.aj_kupffer_control_young.scatter.homer.txt\n",
      "ge all transcripts (24940, 43)\n",
      "Diff Gene selected transcripts (7612, 14)\n",
      "ge selected transcripts (7612, 43)\n",
      "/home/h1bennet/strains_rna/results/A00_Strains_Control_WholeLiver_RNA//differential/balbc_kupffer_control_young.vs.c57_kupffer_control_young.scatter.homer.txt\n",
      "ge all transcripts (24940, 43)\n",
      "Diff Gene selected transcripts (7659, 14)\n",
      "ge selected transcripts (7659, 43)\n",
      "/home/h1bennet/strains_rna/results/A00_Strains_Control_WholeLiver_RNA//differential/balbc_lsec_control_young.vs.aj_lsec_control_young.scatter.homer.txt\n",
      "ge all transcripts (24940, 43)\n",
      "Diff Gene selected transcripts (8926, 14)\n",
      "ge selected transcripts (8926, 43)\n",
      "/home/h1bennet/strains_rna/results/A00_Strains_Control_WholeLiver_RNA//differential/balbc_lsec_control_young.vs.c57_lsec_control_young.scatter.homer.txt\n",
      "ge all transcripts (24940, 43)\n",
      "Diff Gene selected transcripts (8900, 14)\n",
      "ge selected transcripts (8900, 43)\n",
      "/home/h1bennet/strains_rna/results/A00_Strains_Control_WholeLiver_RNA//differential/balbc_stellate_control_young.vs.aj_stellate_control_young.scatter.homer.txt\n",
      "ge all transcripts (24940, 43)\n",
      "Diff Gene selected transcripts (9336, 14)\n",
      "ge selected transcripts (9336, 43)\n",
      "/home/h1bennet/strains_rna/results/A00_Strains_Control_WholeLiver_RNA//differential/balbc_stellate_control_young.vs.c57_stellate_control_young.scatter.homer.txt\n",
      "ge all transcripts (24940, 43)\n",
      "Diff Gene selected transcripts (9343, 14)\n",
      "ge selected transcripts (9343, 43)\n",
      "/home/h1bennet/strains_rna/results/A00_Strains_Control_WholeLiver_RNA//differential/c57_hepatocyte_control_young.vs.balbc_hepatocyte_control_young.scatter.homer.txt\n",
      "ge all transcripts (24940, 43)\n",
      "Diff Gene selected transcripts (5650, 14)\n",
      "ge selected transcripts (5650, 43)\n",
      "/home/h1bennet/strains_rna/results/A00_Strains_Control_WholeLiver_RNA//differential/c57_hepatocyte_control_young.vs.aj_hepatocyte_control_young.scatter.homer.txt\n",
      "ge all transcripts (24940, 43)\n",
      "Diff Gene selected transcripts (5494, 14)\n",
      "ge selected transcripts (5494, 43)\n",
      "/home/h1bennet/strains_rna/results/A00_Strains_Control_WholeLiver_RNA//differential/c57_kupffer_control_young.vs.balbc_kupffer_control_young.scatter.homer.txt\n",
      "ge all transcripts (24940, 43)\n",
      "Diff Gene selected transcripts (7659, 14)\n",
      "ge selected transcripts (7659, 43)\n",
      "/home/h1bennet/strains_rna/results/A00_Strains_Control_WholeLiver_RNA//differential/c57_kupffer_control_young.vs.aj_kupffer_control_young.scatter.homer.txt\n",
      "ge all transcripts (24940, 43)\n",
      "Diff Gene selected transcripts (7652, 14)\n",
      "ge selected transcripts (7652, 43)\n",
      "/home/h1bennet/strains_rna/results/A00_Strains_Control_WholeLiver_RNA//differential/c57_lsec_control_young.vs.aj_lsec_control_young.scatter.homer.txt\n",
      "ge all transcripts (24940, 43)\n",
      "Diff Gene selected transcripts (8952, 14)\n",
      "ge selected transcripts (8952, 43)\n",
      "/home/h1bennet/strains_rna/results/A00_Strains_Control_WholeLiver_RNA//differential/c57_lsec_control_young.vs.balbc_lsec_control_young.scatter.homer.txt\n",
      "ge all transcripts (24940, 43)\n",
      "Diff Gene selected transcripts (8900, 14)\n",
      "ge selected transcripts (8900, 43)\n",
      "/home/h1bennet/strains_rna/results/A00_Strains_Control_WholeLiver_RNA//differential/c57_stellate_control_young.vs.balbc_stellate_control_young.scatter.homer.txt\n",
      "ge all transcripts (24940, 43)\n",
      "Diff Gene selected transcripts (9343, 14)\n",
      "ge selected transcripts (9343, 43)\n",
      "/home/h1bennet/strains_rna/results/A00_Strains_Control_WholeLiver_RNA//differential/c57_stellate_control_young.vs.aj_stellate_control_young.scatter.homer.txt\n",
      "ge all transcripts (24940, 43)\n",
      "Diff Gene selected transcripts (9368, 14)\n",
      "ge selected transcripts (9368, 43)\n"
     ]
    }
   ],
   "source": [
    "for strain in strains:\n",
    "    for cell in cells:\n",
    "        strain_cell = strain+'_'+cell\n",
    "        # initialize gene lists\n",
    "        g_intersect = set()\n",
    "        g_union = set()\n",
    "        for i in glob.glob(dataDirectory+'/differential/'+strain_cell+'*homer.txt'):\n",
    "            print(i)\n",
    "            # read in gene expression data\n",
    "            df, tpm, tpm_mat, tpm_mat_quant = import_homer_diffgene(\n",
    "                depath=i,\n",
    "                gepath=dataDirectory+'/expression/HOMER.rawTPM.txt',\n",
    "                gene_name_index=True)\n",
    "\n",
    "            # select differential genes\n",
    "            df = df.loc[~(df.chr.str.contains('chrX|chrY|ChrUn')), :]\n",
    "            sig_genes = df.index[(df['padj'] < padj) & (df['log2FoldChange'] <= -log2fc)].to_list()\n",
    "\n",
    "            # add to sets\n",
    "            if len(g_union) == 0:\n",
    "                g_union = set(sig_genes)\n",
    "                g_intersect = set(sig_genes)\n",
    "            else:\n",
    "                g_union = g_union.union(sig_genes)\n",
    "                g_intersect = g_intersect.intersection(sig_genes)\n",
    "\n",
    "            # print('union set length:', print(len(g_union)))\n",
    "            # print('intersection set length:', print(len(g_intersect)))\n",
    "\n",
    "        # after getting union and intersection sets add to dict\n",
    "        gene_list_dict[strain_cell+'_union'] = list(g_union)\n",
    "        gene_list_dict[strain_cell+'_intersection'] = list(g_intersect)\n",
    "        "
   ]
  },
  {
   "cell_type": "markdown",
   "id": "prescribed-advisory",
   "metadata": {},
   "source": [
    "# Heatmap of ligand expression"
   ]
  },
  {
   "cell_type": "code",
   "execution_count": 7,
   "id": "falling-operation",
   "metadata": {},
   "outputs": [],
   "source": [
    "if not os.path.isdir('./fancy_figures/'):\n",
    "    os.mkdir('./fancy_figures/')"
   ]
  },
  {
   "cell_type": "markdown",
   "id": "european-chapel",
   "metadata": {},
   "source": [
    "### Read in nichenet ligands"
   ]
  },
  {
   "cell_type": "code",
   "execution_count": 8,
   "id": "harmful-pearl",
   "metadata": {},
   "outputs": [
    {
     "data": {
      "text/plain": [
       "['Cxcl1', 'Cxcl2', 'Cxcl3', 'Cxcl5', 'Ppbp']"
      ]
     },
     "execution_count": 8,
     "metadata": {},
     "output_type": "execute_result"
    }
   ],
   "source": [
    "ligands = pd.read_csv('/home/h1bennet/data/gene_lists/nichenet_ligands.txt',\n",
    "                      sep='\\t')['x'].str.capitalize().tolist()\n",
    "ligands[:5]"
   ]
  },
  {
   "cell_type": "code",
   "execution_count": 9,
   "id": "ideal-clause",
   "metadata": {},
   "outputs": [
    {
     "data": {
      "text/plain": [
       "['Cxcr2', 'Cxcr1', 'Cxcr3', 'Cxcr4', 'Cxcr5']"
      ]
     },
     "execution_count": 9,
     "metadata": {},
     "output_type": "execute_result"
    }
   ],
   "source": [
    "receptors = pd.read_csv(\n",
    "    '/home/h1bennet/data/gene_lists/nichenet_receptors.csv')['to'].str.capitalize().tolist()\n",
    "receptors[:5]"
   ]
  },
  {
   "cell_type": "markdown",
   "id": "ready-magnitude",
   "metadata": {},
   "source": [
    "### Read in expression values"
   ]
  },
  {
   "cell_type": "code",
   "execution_count": 10,
   "id": "least-exhibit",
   "metadata": {},
   "outputs": [],
   "source": [
    "tpm_mat = pd.read_csv('../A00_Strains_Control_WholeLiver_RNA/expression/rawT.txt', sep='\\t', index_col=0)"
   ]
  },
  {
   "cell_type": "markdown",
   "id": "answering-treatment",
   "metadata": {},
   "source": [
    "### pull average expression"
   ]
  },
  {
   "cell_type": "code",
   "execution_count": 11,
   "id": "adaptive-commander",
   "metadata": {},
   "outputs": [],
   "source": [
    "avg_tpm_dict = {}\n",
    "for strain in strains:\n",
    "    for cell in cells:\n",
    "        strain_cell = strain+'_'+cell\n",
    "        avg = tpm_mat.loc[:, tpm_mat.columns.str.contains(strain_cell)].mean(1)\n",
    "        avg_tpm_dict[strain_cell] = avg"
   ]
  },
  {
   "cell_type": "code",
   "execution_count": 12,
   "id": "explicit-thong",
   "metadata": {},
   "outputs": [],
   "source": [
    "avg_tpm_df = pd.DataFrame(avg_tpm_dict)"
   ]
  },
  {
   "cell_type": "code",
   "execution_count": 13,
   "id": "virtual-fisher",
   "metadata": {
    "scrolled": true
   },
   "outputs": [
    {
     "data": {
      "text/plain": [
       "Index(['aj_hepatocyte', 'aj_kupffer', 'aj_lsec', 'aj_stellate',\n",
       "       'balbc_hepatocyte', 'balbc_kupffer', 'balbc_lsec', 'balbc_stellate',\n",
       "       'c57_hepatocyte', 'c57_kupffer', 'c57_lsec', 'c57_stellate'],\n",
       "      dtype='object')"
      ]
     },
     "execution_count": 13,
     "metadata": {},
     "output_type": "execute_result"
    }
   ],
   "source": [
    "avg_tpm_df.columns"
   ]
  },
  {
   "cell_type": "markdown",
   "id": "emerging-blocking",
   "metadata": {},
   "source": [
    "set order manually"
   ]
  },
  {
   "cell_type": "code",
   "execution_count": 14,
   "id": "established-cleaner",
   "metadata": {},
   "outputs": [],
   "source": [
    "reorder_cols = ['aj_hepatocyte', 'balbc_hepatocyte', 'c57_hepatocyte',\n",
    "                'aj_kupffer','balbc_kupffer','c57_kupffer',\n",
    "                'aj_lsec','balbc_lsec','c57_lsec',\n",
    "                'aj_stellate','balbc_stellate','c57_stellate']"
   ]
  },
  {
   "cell_type": "code",
   "execution_count": 15,
   "id": "senior-welding",
   "metadata": {},
   "outputs": [],
   "source": [
    "avg_tpm_df = avg_tpm_df.loc[:, reorder_cols]"
   ]
  },
  {
   "cell_type": "code",
   "execution_count": 16,
   "id": "maritime-promise",
   "metadata": {},
   "outputs": [],
   "source": [
    "avg_tpm_df.to_csv('./hepatic_cells_average_tpm.txt',\n",
    "                  sep='\\t')"
   ]
  },
  {
   "cell_type": "markdown",
   "id": "registered-tower",
   "metadata": {},
   "source": [
    "# Kupffer plots with union gene set for kupffer cells"
   ]
  },
  {
   "cell_type": "code",
   "execution_count": 17,
   "id": "hundred-class",
   "metadata": {},
   "outputs": [],
   "source": [
    "avg_tpm_df_kup = avg_tpm_df.loc[:, avg_tpm_df.columns.str.contains('kupffer')]"
   ]
  },
  {
   "cell_type": "code",
   "execution_count": 18,
   "id": "written-racing",
   "metadata": {},
   "outputs": [
    {
     "name": "stdout",
     "output_type": "stream",
     "text": [
      "525 activated genes\n",
      "37 activated receptors\n"
     ]
    }
   ],
   "source": [
    "act = []\n",
    "for key in gene_list_dict.keys():\n",
    "    if ('union' in key) and ('kupffer' in key):\n",
    "        act.extend(gene_list_dict[key])\n",
    "\n",
    "act = set(act)\n",
    "# overlap with ligands\n",
    "act_receptors = act.intersection(receptors)\n",
    "print(len(act), 'activated genes')\n",
    "print(len(act_receptors), 'activated receptors')"
   ]
  },
  {
   "cell_type": "code",
   "execution_count": 19,
   "id": "indoor-violence",
   "metadata": {},
   "outputs": [
    {
     "name": "stderr",
     "output_type": "stream",
     "text": [
      "/gpfs/data01/glasslab/home/h1bennet/.conda/envs/dataviz/lib/python3.7/site-packages/ipykernel_launcher.py:10: ClusterWarning: scipy.cluster: The symmetric non-negative hollow observation matrix looks suspiciously like an uncondensed distance matrix\n",
      "  # Remove the CWD from sys.path while we load stuff.\n"
     ]
    }
   ],
   "source": [
    "# cluster targets\n",
    "import scipy\n",
    "import scipy.cluster.hierarchy as sch\n",
    "import scipy.spatial.distance as dist\n",
    "\n",
    "tmp_mat = np.log2(avg_tpm_df_kup.loc[act_receptors]+1)\n",
    "\n",
    "d1 = dist.pdist(tmp_mat)\n",
    "D1 = dist.squareform(d1)\n",
    "Y1 = sch.linkage(D1, method='average', metric='euclidean') ### array-clustering metric - 'average', 'single', 'centroid', 'complete'\n",
    "Z1 = sch.dendrogram(Y1, no_plot=True)"
   ]
  },
  {
   "cell_type": "code",
   "execution_count": 20,
   "id": "diagnostic-nature",
   "metadata": {},
   "outputs": [
    {
     "data": {
      "image/png": "[encoded data removed]",
      "text/plain": [
       "<Figure size 72x288 with 1 Axes>"
      ]
     },
     "metadata": {
      "needs_background": "light"
     },
     "output_type": "display_data"
    }
   ],
   "source": [
    "f, ax = plt.subplots(1, figsize=(1,4))\n",
    "sns.heatmap(\n",
    "    tmp_mat.iloc[Z1['leaves'], :],\n",
    "#     cbar_kws={'orientation':'horizontal',\n",
    "#               'label': 'Log2(TPM+1)'},\n",
    "    vmin=0,\n",
    "    vmax=10,\n",
    "    cbar=False,\n",
    "    # cbar_ax=cbar_ax,\n",
    "    cmap='Reds',\n",
    "    yticklabels=1,\n",
    "    ax=ax)\n",
    "\n",
    "plt.savefig('./fancy_figures/diff_expressed_receptors_avg_exp_no_cbar.pdf', bbox_inches='tight')\n"
   ]
  },
  {
   "cell_type": "markdown",
   "id": "fuzzy-baking",
   "metadata": {},
   "source": [
    "# Union gene set"
   ]
  },
  {
   "cell_type": "code",
   "execution_count": 21,
   "id": "exposed-documentary",
   "metadata": {},
   "outputs": [],
   "source": [
    "avg_tpm_df_filt = avg_tpm_df.loc[:, ~avg_tpm_df.columns.str.contains('kupffer')]"
   ]
  },
  {
   "cell_type": "code",
   "execution_count": 22,
   "id": "entire-french",
   "metadata": {},
   "outputs": [
    {
     "name": "stdout",
     "output_type": "stream",
     "text": [
      "1931 activated genes\n",
      "88 activated ligands\n"
     ]
    }
   ],
   "source": [
    "act = []\n",
    "for key in gene_list_dict.keys():\n",
    "    if ('union' in key) and ('kupffer' not in key):\n",
    "        act.extend(gene_list_dict[key])\n",
    "\n",
    "act = set(act)\n",
    "# overlap with ligands\n",
    "act_ligands = act.intersection(ligands)\n",
    "print(len(act), 'activated genes')\n",
    "print(len(act_ligands), 'activated ligands')"
   ]
  },
  {
   "cell_type": "code",
   "execution_count": 23,
   "id": "genetic-leader",
   "metadata": {},
   "outputs": [
    {
     "name": "stderr",
     "output_type": "stream",
     "text": [
      "/gpfs/data01/glasslab/home/h1bennet/.conda/envs/dataviz/lib/python3.7/site-packages/ipykernel_launcher.py:10: ClusterWarning: scipy.cluster: The symmetric non-negative hollow observation matrix looks suspiciously like an uncondensed distance matrix\n",
      "  # Remove the CWD from sys.path while we load stuff.\n"
     ]
    }
   ],
   "source": [
    "# cluster targets\n",
    "import scipy\n",
    "import scipy.cluster.hierarchy as sch\n",
    "import scipy.spatial.distance as dist\n",
    "\n",
    "tmp_mat = np.log2(avg_tpm_df_filt.loc[act_ligands]+1)\n",
    "\n",
    "d1 = dist.pdist(tmp_mat)\n",
    "D1 = dist.squareform(d1)\n",
    "Y1 = sch.linkage(D1, method='average', metric='euclidean') ### array-clustering metric - 'average', 'single', 'centroid', 'complete'\n",
    "Z1 = sch.dendrogram(Y1, no_plot=True)"
   ]
  },
  {
   "cell_type": "markdown",
   "id": "chubby-effort",
   "metadata": {},
   "source": [
    "## Pot without colorbar"
   ]
  },
  {
   "cell_type": "code",
   "execution_count": 24,
   "id": "floating-reducing",
   "metadata": {},
   "outputs": [
    {
     "data": {
      "image/png": "[encoded data removed]",
      "text/plain": [
       "<Figure size 108x432 with 1 Axes>"
      ]
     },
     "metadata": {
      "needs_background": "light"
     },
     "output_type": "display_data"
    }
   ],
   "source": [
    "f, ax = plt.subplots(1, figsize=(1.5,6))\n",
    "sns.heatmap(\n",
    "    tmp_mat.iloc[Z1['leaves'], :],\n",
    "#     cbar_kws={'orientation':'horizontal',\n",
    "#               'label': 'Log2(TPM+1)'},\n",
    "    vmax=10,\n",
    "    cbar=False,\n",
    "    # cbar_ax=cbar_ax,\n",
    "    cmap='Reds',\n",
    "    yticklabels=1,\n",
    "    ax=ax)\n",
    "\n",
    "plt.savefig('./fancy_figures/diff_expressed_ligands_no_cbar.pdf', bbox_inches='tight')\n"
   ]
  },
  {
   "cell_type": "markdown",
   "id": "patient-boating",
   "metadata": {},
   "source": [
    "# Plot without colorbar or tick labels"
   ]
  },
  {
   "cell_type": "code",
   "execution_count": 33,
   "id": "coupled-working",
   "metadata": {},
   "outputs": [
    {
     "data": {
      "image/png": "[encoded data removed]",
      "text/plain": [
       "<Figure size 72x288 with 1 Axes>"
      ]
     },
     "metadata": {
      "needs_background": "light"
     },
     "output_type": "display_data"
    }
   ],
   "source": [
    "f, ax = plt.subplots(1, figsize=(1, 4))\n",
    "sns.heatmap(\n",
    "    tmp_mat.iloc[Z1['leaves'], :],\n",
    "#     cbar_kws={'orientation':'horizontal',\n",
    "#               'label': 'Log2(TPM+1)'},\n",
    "    vmax=10,\n",
    "    cbar=False,\n",
    "    # cbar_ax=cbar_ax,\n",
    "    cmap='Reds',\n",
    "    yticklabels=0,\n",
    "    ax=ax)\n",
    "\n",
    "plt.savefig('./fancy_figures/diff_expressed_ligands_no_cbar_noticks.pdf', bbox_inches='tight')\n"
   ]
  },
  {
   "cell_type": "markdown",
   "id": "smart-settle",
   "metadata": {},
   "source": [
    "# Plot with colorbar"
   ]
  },
  {
   "cell_type": "code",
   "execution_count": 26,
   "id": "turned-connection",
   "metadata": {},
   "outputs": [
    {
     "data": {
      "image/png": "[encoded data removed]",
      "text/plain": [
       "<Figure size 108x612 with 2 Axes>"
      ]
     },
     "metadata": {
      "needs_background": "light"
     },
     "output_type": "display_data"
    }
   ],
   "source": [
    "grid_kws = {\"height_ratios\": (.9, .025,), \"hspace\": .3}\n",
    "f, (ax, cbar_ax) = plt.subplots(2, gridspec_kw=grid_kws, figsize=(1.5,8.5))\n",
    "sns.heatmap(\n",
    "    tmp_mat.iloc[Z1['leaves'], :],\n",
    "    cbar_kws={'orientation':'horizontal',\n",
    "              'label': 'Log2(TPM+1)'},\n",
    "    vmax=10,\n",
    "    cbar_ax=cbar_ax,\n",
    "    cmap='Reds',\n",
    "    yticklabels=1,\n",
    "    ax=ax)\n",
    "\n",
    "plt.savefig('./fancy_figures/diff_expressed_ligands.pdf', bbox_inches='tight')\n"
   ]
  },
  {
   "cell_type": "markdown",
   "id": "premier-remark",
   "metadata": {},
   "source": [
    "# Plot colorbar"
   ]
  },
  {
   "cell_type": "code",
   "execution_count": 32,
   "id": "proof-missile",
   "metadata": {},
   "outputs": [
    {
     "data": {
      "image/png": "[encoded data removed]",
      "text/plain": [
       "<Figure size 144x72 with 2 Axes>"
      ]
     },
     "metadata": {
      "needs_background": "light"
     },
     "output_type": "display_data"
    }
   ],
   "source": [
    "fig, ax = plt.subplots(figsize=(2,1))\n",
    "\n",
    "cmap = matplotlib.cm.Reds\n",
    "norm = matplotlib.colors.Normalize(vmin=0, vmax=10)\n",
    "plt.gca().set_visible(False)\n",
    "cb = fig.colorbar(matplotlib.cm.ScalarMappable(norm=norm,  cmap=cmap),\n",
    "                  use_gridspec=True,\n",
    "                  orientation='horizontal',\n",
    "                  label='log2(TPM+1)',\n",
    "                  aspect=8)\n",
    "plt.savefig('./fancy_figures/colorbar.pdf',\n",
    "            bbox_inches='tight')"
   ]
  },
  {
   "cell_type": "markdown",
   "id": "amino-michael",
   "metadata": {},
   "source": [
    "# Plot each cell type independently..."
   ]
  },
  {
   "cell_type": "code",
   "execution_count": 76,
   "id": "funded-scope",
   "metadata": {},
   "outputs": [
    {
     "data": {
      "text/html": [
       "<div>\n",
       "<style scoped>\n",
       "    .dataframe tbody tr th:only-of-type {\n",
       "        vertical-align: middle;\n",
       "    }\n",
       "\n",
       "    .dataframe tbody tr th {\n",
       "        vertical-align: top;\n",
       "    }\n",
       "\n",
       "    .dataframe thead th {\n",
       "        text-align: right;\n",
       "    }\n",
       "</style>\n",
       "<table border=\"1\" class=\"dataframe\">\n",
       "  <thead>\n",
       "    <tr style=\"text-align: right;\">\n",
       "      <th></th>\n",
       "      <th>aj_hepatocyte</th>\n",
       "      <th>balbc_hepatocyte</th>\n",
       "      <th>c57_hepatocyte</th>\n",
       "    </tr>\n",
       "  </thead>\n",
       "  <tbody>\n",
       "  </tbody>\n",
       "</table>\n",
       "</div>"
      ],
      "text/plain": [
       "Empty DataFrame\n",
       "Columns: [aj_hepatocyte, balbc_hepatocyte, c57_hepatocyte]\n",
       "Index: []"
      ]
     },
     "execution_count": 76,
     "metadata": {},
     "output_type": "execute_result"
    }
   ],
   "source": [
    "tmp_mat"
   ]
  },
  {
   "cell_type": "code",
   "execution_count": 79,
   "id": "occupational-diamond",
   "metadata": {},
   "outputs": [
    {
     "data": {
      "text/plain": [
       "set()"
      ]
     },
     "execution_count": 79,
     "metadata": {},
     "output_type": "execute_result"
    }
   ],
   "source": [
    "act"
   ]
  },
  {
   "cell_type": "code",
   "execution_count": 88,
   "id": "seeing-strength",
   "metadata": {
    "scrolled": false
   },
   "outputs": [
    {
     "name": "stdout",
     "output_type": "stream",
     "text": [
      "hepatocyte\n",
      "590 activated genes\n",
      "12 activated ligands\n",
      "kupffer\n",
      "525 activated genes\n",
      "26 activated ligands\n"
     ]
    },
    {
     "name": "stderr",
     "output_type": "stream",
     "text": [
      "/gpfs/data01/glasslab/home/h1bennet/.conda/envs/dataviz/lib/python3.7/site-packages/ipykernel_launcher.py:19: ClusterWarning: scipy.cluster: The symmetric non-negative hollow observation matrix looks suspiciously like an uncondensed distance matrix\n"
     ]
    },
    {
     "name": "stdout",
     "output_type": "stream",
     "text": [
      "lsec\n",
      "497 activated genes\n",
      "22 activated ligands\n",
      "stellate\n",
      "1249 activated genes\n",
      "70 activated ligands\n"
     ]
    },
    {
     "data": {
      "image/png": "[encoded data removed]",
      "text/plain": [
       "<Figure size 108x86.4 with 1 Axes>"
      ]
     },
     "metadata": {
      "needs_background": "light"
     },
     "output_type": "display_data"
    },
    {
     "data": {
      "image/png": "[encoded data removed]",
      "text/plain": [
       "<Figure size 108x187.2 with 1 Axes>"
      ]
     },
     "metadata": {
      "needs_background": "light"
     },
     "output_type": "display_data"
    },
    {
     "data": {
      "image/png": "[encoded data removed]",
      "text/plain": [
       "<Figure size 108x158.4 with 1 Axes>"
      ]
     },
     "metadata": {
      "needs_background": "light"
     },
     "output_type": "display_data"
    },
    {
     "data": {
      "image/png": "[encoded data removed]",
      "text/plain": [
       "<Figure size 108x504 with 1 Axes>"
      ]
     },
     "metadata": {
      "needs_background": "light"
     },
     "output_type": "display_data"
    }
   ],
   "source": [
    "for cell in ['hepatocyte', 'kupffer', 'lsec', 'stellate']:\n",
    "    print(cell)\n",
    "    act = []\n",
    "    for key in gene_list_dict.keys():\n",
    "        if ('union' in key) and (cell in key):\n",
    "            act.extend(gene_list_dict[key])\n",
    "\n",
    "    act = set(act)\n",
    "    # overlap with ligands\n",
    "    act_ligands = act.intersection(ligands)\n",
    "    print(len(act), 'activated genes')\n",
    "    print(len(act_ligands), 'activated ligands')\n",
    "    \n",
    "    tmp_mat = np.log2(avg_tpm_df.loc[act_ligands]+1)\n",
    "    tmp_mat = tmp_mat.loc[:, tmp_mat.columns.str.contains(cell)]\n",
    "\n",
    "    d1 = dist.pdist(tmp_mat)\n",
    "    D1 = dist.squareform(d1)\n",
    "    Y1 = sch.linkage(D1, method='average', metric='euclidean') ### array-clustering metric - 'average', 'single', 'centroid', 'complete'\n",
    "    Z1 = sch.dendrogram(Y1, no_plot=True)\n",
    "    \n",
    "    f, ax = plt.subplots(1, figsize=(1.5,len(act_ligands)/10))\n",
    "    sns.heatmap(\n",
    "        tmp_mat.iloc[Z1['leaves'], :],\n",
    "        #     cbar_kws={'orientation':'horizontal',\n",
    "        #               'label': 'Log2(TPM+1)'},\n",
    "        vmax=10,\n",
    "        cbar=False,\n",
    "        # cbar_ax=cbar_ax,\n",
    "        cmap='Reds',\n",
    "        yticklabels=0,\n",
    "        ax=ax)\n",
    "    \n",
    "    plt.savefig('./fancy_figures/%s_expressed_receptors_no_cbar_noticks.pdf' % cell,\n",
    "                bbox_inches='tight')\n"
   ]
  },
  {
   "cell_type": "code",
   "execution_count": null,
   "id": "worthy-opportunity",
   "metadata": {},
   "outputs": [],
   "source": []
  }
 ],
 "metadata": {
  "kernelspec": {
   "display_name": "dataviz",
   "language": "python",
   "name": "dataviz"
  },
  "language_info": {
   "codemirror_mode": {
    "name": "ipython",
    "version": 3
   },
   "file_extension": ".py",
   "mimetype": "text/x-python",
   "name": "python",
   "nbconvert_exporter": "python",
   "pygments_lexer": "ipython3",
   "version": "3.7.5"
  }
 },
 "nbformat": 4,
 "nbformat_minor": 5
}
