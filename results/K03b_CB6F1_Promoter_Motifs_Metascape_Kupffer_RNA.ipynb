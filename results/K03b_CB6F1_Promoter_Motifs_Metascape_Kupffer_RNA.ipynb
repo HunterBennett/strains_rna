{
 "cells": [
  {
   "cell_type": "code",
   "execution_count": 2,
   "metadata": {},
   "outputs": [],
   "source": [
    "### header ###\n",
    "__author__ = \"Hunter Bennett\"\n",
    "__license__ = \"BSD\"\n",
    "__email__ = \"hunter.r.bennett@gmail.com\"\n",
    "%load_ext autoreload\n",
    "%autoreload 2\n",
    "%matplotlib inline\n",
    "### imports ###\n",
    "import sys\n",
    "import os\n",
    "import re\n",
    "import glob\n",
    "import pandas as pd\n",
    "import numpy as np\n",
    "import matplotlib\n",
    "import matplotlib.pyplot as plt\n",
    "from matplotlib.patches import Patch\n",
    "from matplotlib_venn import venn3\n",
    "import seaborn as sns\n",
    "\n",
    "# import custom functions\n",
    "sys.path.insert(0, '/home/h1bennet/code/')\n",
    "from hbUtils import ngs_qc, quantile_normalize_df\n",
    "from homer_preprocessing import import_homer_diffgene, read_homer_gene_exp, read_annotated_peaks\n",
    "from plotting_scripts import plot_exp_rpkm, gene_list_bar_plot"
   ]
  },
  {
   "cell_type": "code",
   "execution_count": 3,
   "metadata": {},
   "outputs": [],
   "source": [
    "#### PLOTTING PARAMETERS FOR MANUSCRIPT ####\n",
    "# # get matplotlib to save readable fonts\n",
    "matplotlib.rcParams['pdf.fonttype'] = 42\n",
    "matplotlib.rcParams['ps.fonttype'] = 42\n",
    "matplotlib.rcParams['font.size'] = 6\n",
    "\n",
    "# line widths\n",
    "matplotlib.rcParams['axes.linewidth'] = 1\n",
    "matplotlib.rcParams['xtick.major.width'] = 1\n",
    "matplotlib.rcParams['ytick.major.width'] = 1\n",
    "\n",
    "# adjust defualt color for plots to black\n",
    "# normal default is a dark gray\n",
    "COLOR = 'black'\n",
    "matplotlib.rcParams['text.color'] = COLOR\n",
    "matplotlib.rcParams['axes.labelcolor'] = COLOR\n",
    "matplotlib.rcParams['xtick.color'] = COLOR\n",
    "matplotlib.rcParams['ytick.color'] = COLOR\n",
    "matplotlib.rcParams['axes.edgecolor'] = COLOR\n",
    "\n",
    "#### PLOT PARAMETERS FOR THIS PLOT ####"
   ]
  },
  {
   "cell_type": "code",
   "execution_count": 4,
   "metadata": {},
   "outputs": [],
   "source": [
    "workingDirectory = '/home/h1bennet/strains_rna/results/K03_CB6F1_Kupffer_RNA/'\n",
    "dataDirectory = '/home/ttroutman/strainsKupffer/rnaKupfferF1/'\n",
    "if not os.path.isdir(workingDirectory):\n",
    "    os.mkdir(workingDirectory)\n",
    "os.chdir(workingDirectory)\n",
    "\n",
    "if not os.path.isdir('./promoter_motifs/'):\n",
    "    os.mkdir('./promoter_motifs/')\n",
    "    \n",
    "if not os.path.isdir('./motif_scanning/'):\n",
    "    os.mkdir('./motif_scanning/')\n",
    "    \n",
    "if not os.path.isdir('./figures/'):\n",
    "    os.mkdir('./figures/')"
   ]
  },
  {
   "cell_type": "markdown",
   "metadata": {},
   "source": [
    "To do this analysis we will pull from the differential analysis performed by Ty at the following location:  \n",
    "\n",
    "     /home/ttroutman/strainsKupffer/rnaKupfferF1/\n",
    "     \n",
    "The following two files are relevant  \n",
    "\n",
    "     /home/ttroutman/strainsKupffer/rnaKupfferF1/c57bl6j_perfect.vs.balbcj_perfect.scatter.txt\n",
    "     /home/ttroutman/strainsKupffer/rnaKupfferF1/c57bl6j_control.vs.balbcj_control.scatter.txt"
   ]
  },
  {
   "cell_type": "code",
   "execution_count": 4,
   "metadata": {},
   "outputs": [],
   "source": [
    "diffDir = '/home/ttroutman/strainsKupffer/rnaKupfferF1/rnaDiff/'\n",
    "rnaQuan = '/home/ttroutman/strainsKupffer/rnaKupfferF1/rnaQuan/rawT.txt'\n"
   ]
  },
  {
   "cell_type": "markdown",
   "metadata": {},
   "source": [
    "# Motif analysis\n",
    "\n",
    "In another workbook we determined lists of cis, trans, and mixed genes, now we will look at motif enrichment at their promoters."
   ]
  },
  {
   "cell_type": "code",
   "execution_count": 5,
   "metadata": {},
   "outputs": [],
   "source": [
    "# %%bash\n",
    "\n",
    "# for i in ./gene_lists/*.txt;\n",
    "# do out=${i/gene_lists/promoter_motifs};\n",
    "# out=${out/.txt/_motifs};\n",
    "# findMotifs.pl $i mouse $out; done"
   ]
  },
  {
   "cell_type": "markdown",
   "metadata": {},
   "source": [
    "Look for NFKB p65 motif"
   ]
  },
  {
   "cell_type": "markdown",
   "metadata": {},
   "source": [
    "     findMotifs.pl ./gene_lists/cb6f1_kupffer_trans_c57_filt_pval.txt mouse ./motif_scanning/ \\\n",
    "     -find /bioinformatics/homer/motifs/nfkb.motif > ./motif_scanning/cb6f1_kupffer_trans_c57_filt_pval_nfkb.txt\n",
    "     \n",
    "     findMotifs.pl ./gene_lists/cb6f1_kupffer_trans_c57_filt_pval.txt mouse ./motif_scanning/ \\\n",
    "     -find /bioinformatics/homer/motifs/p50.motif > ./motif_scanning/cb6f1_kupffer_trans_c57_filt_pval_p50.txt\n",
    "     \n",
    "     findMotifs.pl ./gene_lists/cb6f1_kupffer_trans_c57_filt_pval.txt mouse ./motif_scanning/ \\\n",
    "     -find /bioinformatics/homer/motifs/p65.motif > ./motif_scanning/cb6f1_kupffer_trans_c57_filt_pval_p65.txt"
   ]
  },
  {
   "cell_type": "markdown",
   "metadata": {},
   "source": [
    "# Metascape "
   ]
  },
  {
   "cell_type": "code",
   "execution_count": 6,
   "metadata": {},
   "outputs": [],
   "source": [
    "meta = pd.read_excel('./gene_lists/cb6f1_kupffer_trans_balb/metascape_result.xlsx',\n",
    "                     sheet_name=1)"
   ]
  },
  {
   "cell_type": "code",
   "execution_count": 7,
   "metadata": {},
   "outputs": [],
   "source": [
    "c57_terms = ['GO:0048002','GO:0031663','GO:0050778','ko04620']\n",
    "c57_term_strings = ['Antigen Presentation',\n",
    "                    'LPS Mediated Signaling',\n",
    "                    'Pos. Reg. of Immune Resp.',\n",
    "                    'TLR Signaling Pathway']\n",
    "balb_terms = ['GO:0001906', 'GO:0070098', 'GO:0009154', 'ko04380']"
   ]
  },
  {
   "cell_type": "code",
   "execution_count": 8,
   "metadata": {},
   "outputs": [],
   "source": [
    "meta_filt = meta.loc[meta['Term'].str.contains('|'.join(balb_terms))]\n",
    "meta_filt = meta_filt.sort_values('LogP', ascending=True)\n",
    "meta_filt = meta_filt.reindex(meta_filt.Term.drop_duplicates().index)"
   ]
  },
  {
   "cell_type": "markdown",
   "metadata": {},
   "source": [
    "## Manually curate list of terms for each strain"
   ]
  },
  {
   "cell_type": "code",
   "execution_count": 9,
   "metadata": {},
   "outputs": [],
   "source": [
    "c57_terms = ['GO:0048002','GO:0031663','GO:0050778','ko04620']\n",
    "c57_term_strings = ['Antigen\\nPresentation',\n",
    "                    'LPS Mediated\\nSignaling',\n",
    "                    'Pos. Reg. of\\nImmune Resp.',\n",
    "                    'TLR Signaling\\nPathway']\n",
    "balb_terms = ['GO:0001906', 'GO:0070098', 'GO:0009154', 'ko04380']\n",
    "balb_term_strings = ['Cell\\nKilling',\n",
    "                    'Chemokine\\nSignaling',\n",
    "                    'Osteoclast\\ndiff.',\n",
    "                    'Purine\\nCatabolism']"
   ]
  },
  {
   "cell_type": "code",
   "execution_count": 10,
   "metadata": {},
   "outputs": [
    {
     "data": {
      "image/png": "[encoded data removed]",
      "text/plain": [
       "<Figure size 216x108 with 2 Axes>"
      ]
     },
     "metadata": {
      "needs_background": "light"
     },
     "output_type": "display_data"
    }
   ],
   "source": [
    "fig, (ax1, ax2) = plt.subplots(1, 2, figsize=(3,1.5),\n",
    "                               sharex=True)\n",
    "plt.subplots_adjust(wspace=0.7)\n",
    "\n",
    "meta = pd.read_excel('./gene_lists/cb6f1_kupffer_trans_c57/metascape_result.xlsx',\n",
    "                     sheet_name=1)\n",
    "meta_filt = meta.loc[meta['Term'].str.contains('|'.join(c57_terms))]\n",
    "meta_filt = meta_filt.sort_values('LogP', ascending=True)\n",
    "meta_filt = meta_filt.reindex(meta_filt.Term.drop_duplicates().index)\n",
    "\n",
    "y_ind = np.arange(len(c57_terms))\n",
    "enrichment = -meta_filt['Log(q-value)']\n",
    "ax1.barh(y_ind,\n",
    "         enrichment,\n",
    "         align='center',\n",
    "         linewidth=1,\n",
    "         edgecolor='k',\n",
    "         color='#31a354')\n",
    "ax1.set_yticks(y_ind)\n",
    "ax1.set_yticklabels(c57_term_strings)\n",
    "ax1.invert_yaxis()\n",
    "ax1.set_title('C57BL/6J Trans')\n",
    "ax1.set_xlabel('-log(FDR)')\n",
    "\n",
    "\n",
    "meta = pd.read_excel('./gene_lists/cb6f1_kupffer_trans_balb/metascape_result.xlsx',\n",
    "                     sheet_name=1)\n",
    "meta_filt = meta.loc[meta['Term'].str.contains('|'.join(balb_terms))]\n",
    "meta_filt = meta_filt.sort_values('LogP', ascending=True)\n",
    "meta_filt = meta_filt.reindex(meta_filt.Term.drop_duplicates().index)\n",
    "\n",
    "y_ind = np.arange(len(balb_terms))\n",
    "enrichment = -meta_filt['Log(q-value)']\n",
    "ax2.barh(y_ind,\n",
    "         enrichment,\n",
    "         align='center',\n",
    "         linewidth=1,\n",
    "         edgecolor='k',\n",
    "         color='#3182bd')\n",
    "ax2.set_yticks(y_ind)\n",
    "ax2.set_yticklabels(balb_term_strings)\n",
    "ax2.invert_yaxis()\n",
    "ax2.set_title('BALB/cJ Trans')\n",
    "ax2.set_xlabel('-log(FDR)')\n",
    "\n",
    "plt.savefig('../A10_Manuscript_Figures_AllLiverCells/rna_trans_enriched_GO_wide.pdf',\n",
    "            bbox_inches='tight')"
   ]
  },
  {
   "cell_type": "code",
   "execution_count": 11,
   "metadata": {},
   "outputs": [
    {
     "data": {
      "image/png": "[encoded data removed]",
      "text/plain": [
       "<Figure size 108x288 with 2 Axes>"
      ]
     },
     "metadata": {
      "needs_background": "light"
     },
     "output_type": "display_data"
    }
   ],
   "source": [
    "fig, (ax1, ax2) = plt.subplots(2, 1, figsize=(1.5,4),\n",
    "                               sharex=True)\n",
    "plt.subplots_adjust(hspace=0.3)\n",
    "\n",
    "meta = pd.read_excel('./gene_lists/cb6f1_kupffer_trans_c57/metascape_result.xlsx',\n",
    "                     sheet_name=1)\n",
    "meta_filt = meta.loc[meta['Term'].str.contains('|'.join(c57_terms))]\n",
    "meta_filt = meta_filt.sort_values('LogP', ascending=True)\n",
    "meta_filt = meta_filt.reindex(meta_filt.Term.drop_duplicates().index)\n",
    "\n",
    "y_ind = np.arange(len(c57_terms))\n",
    "enrichment = -meta_filt['Log(q-value)']\n",
    "ax1.barh(y_ind,\n",
    "         enrichment,\n",
    "         align='center',\n",
    "         linewidth=1,\n",
    "         edgecolor='k',\n",
    "         color='#31a354')\n",
    "ax1.set_yticks(y_ind)\n",
    "ax1.set_yticklabels(c57_term_strings)\n",
    "ax1.invert_yaxis()\n",
    "ax1.set_title('C57BL/6J Trans')\n",
    "\n",
    "\n",
    "meta = pd.read_excel('./gene_lists/cb6f1_kupffer_trans_balb/metascape_result.xlsx',\n",
    "                     sheet_name=1)\n",
    "meta_filt = meta.loc[meta['Term'].str.contains('|'.join(balb_terms))]\n",
    "meta_filt = meta_filt.sort_values('LogP', ascending=True)\n",
    "meta_filt = meta_filt.reindex(meta_filt.Term.drop_duplicates().index)\n",
    "\n",
    "y_ind = np.arange(len(balb_terms))\n",
    "enrichment = -meta_filt['Log(q-value)']\n",
    "ax2.barh(y_ind,\n",
    "         enrichment,\n",
    "         align='center',\n",
    "         linewidth=1,\n",
    "         edgecolor='k',\n",
    "         color='#3182bd')\n",
    "ax2.set_yticks(y_ind)\n",
    "ax2.set_yticklabels(balb_term_strings)\n",
    "ax2.invert_yaxis()\n",
    "ax2.set_title('BALB/cJ Trans')\n",
    "ax2.set_xlabel('-log(FDR)')\n",
    "\n",
    "plt.savefig('../A10_Manuscript_Figures_AllLiverCells/rna_trans_enriched_GO_long.pdf',\n",
    "            bbox_inches='tight')"
   ]
  }
 ],
 "metadata": {
  "kernelspec": {
   "display_name": "dataviz",
   "language": "python",
   "name": "dataviz"
  },
  "language_info": {
   "codemirror_mode": {
    "name": "ipython",
    "version": 3
   },
   "file_extension": ".py",
   "mimetype": "text/x-python",
   "name": "python",
   "nbconvert_exporter": "python",
   "pygments_lexer": "ipython3",
   "version": "3.7.5"
  }
 },
 "nbformat": 4,
 "nbformat_minor": 2
}
