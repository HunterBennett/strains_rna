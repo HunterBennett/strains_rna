{
 "cells": [
  {
   "cell_type": "markdown",
   "metadata": {},
   "source": [
    "Hunter Bennett | Glass Lab | Kupffer Strains Project | February 24 2021  \n",
    "\n",
    "This notebook is for making fancier figure level plots describing differential gene expression for the strains NASH paper. It generates the following plots:\n",
    "1. Differential scatter plot similar to those make in Link et al. 2018 showing differential peaks at fc > 2 and fc > 4."
   ]
  },
  {
   "cell_type": "code",
   "execution_count": 2,
   "metadata": {},
   "outputs": [],
   "source": [
    "### header ###\n",
    "__author__ = \"Hunter Bennett\"\n",
    "__license__ = \"BSD\"\n",
    "__email__ = \"hunter.r.bennett@gmail.com\"\n",
    "%load_ext autoreload\n",
    "%autoreload 2\n",
    "### imports ###\n",
    "import sys\n",
    "%matplotlib inline\n",
    "import os\n",
    "import re\n",
    "import glob\n",
    "import pandas as pd\n",
    "import numpy as np\n",
    "import matplotlib\n",
    "import matplotlib.pyplot as plt \n",
    "import seaborn as sns\n",
    "\n",
    "# import custom functions\n",
    "import sys\n",
    "sys.path.insert(0, '/home/h1bennet/code/')\n",
    "from hbUtils import ngs_qc, quantile_normalize_df\n",
    "from plotting_scripts import label_point, pca_rpkm_mat, get_diff_volcano\n",
    "from homer_preprocessing import read_annotated_peaks, import_homer_diffgene, pull_comparisons_get_diff"
   ]
  },
  {
   "cell_type": "code",
   "execution_count": 3,
   "metadata": {},
   "outputs": [],
   "source": [
    "#### PLOTTING PARAMETERS FOR MANUSCRIPT ####\n",
    "# # get matplotlib to save readable fonts\n",
    "matplotlib.rcParams['pdf.fonttype'] = 42\n",
    "matplotlib.rcParams['ps.fonttype'] = 42\n",
    "matplotlib.rcParams['font.size'] = 6\n",
    "matplotlib.rcParams['savefig.dpi'] = 500\n",
    "\n",
    "# line widths\n",
    "matplotlib.rcParams['axes.linewidth'] = 1\n",
    "matplotlib.rcParams['xtick.major.width'] = 1\n",
    "matplotlib.rcParams['ytick.major.width'] = 1\n",
    "\n",
    "# adjust defualt color for plots to black\n",
    "# normal default is a dark gray\n",
    "COLOR = 'black'\n",
    "matplotlib.rcParams['text.color'] = COLOR\n",
    "matplotlib.rcParams['axes.labelcolor'] = COLOR\n",
    "matplotlib.rcParams['xtick.color'] = COLOR\n",
    "matplotlib.rcParams['ytick.color'] = COLOR\n",
    "matplotlib.rcParams['axes.edgecolor'] = COLOR\n",
    "\n",
    "#### PLOT PARAMETERS FOR THIS PLOT ####"
   ]
  },
  {
   "cell_type": "code",
   "execution_count": 4,
   "metadata": {},
   "outputs": [],
   "source": [
    "dataDirectory = '../A00_Strains_Control_WholeLiver_RNA/'\n",
    "workingDirectory = '/home/h1bennet/strains_rna/results/A10_Manuscript_Figures_AllLiverCells/'\n",
    "if not os.path.isdir(workingDirectory):\n",
    "    os.mkdir(workingDirectory)\n",
    "os.chdir(workingDirectory)"
   ]
  },
  {
   "cell_type": "markdown",
   "metadata": {},
   "source": [
    "# Make folder for \"fancy figures\" for manuscript"
   ]
  },
  {
   "cell_type": "code",
   "execution_count": 5,
   "metadata": {},
   "outputs": [],
   "source": [
    "if not os.path.isdir('./fancy_figures/'):\n",
    "    os.mkdir('./fancy_figures/')"
   ]
  },
  {
   "cell_type": "markdown",
   "metadata": {},
   "source": [
    "### Import differential peaks"
   ]
  },
  {
   "cell_type": "code",
   "execution_count": 6,
   "metadata": {},
   "outputs": [
    {
     "name": "stdout",
     "output_type": "stream",
     "text": [
      "ge all transcripts (24940, 43)\n",
      "Diff Gene selected transcripts (5501, 14)\n",
      "ge selected transcripts (5501, 43)\n"
     ]
    }
   ],
   "source": [
    "diff, tpm, tpm_mat, tpm_mat_quant = import_homer_diffgene(\n",
    "    '../A00_Strains_Control_WholeLiver_RNA/differential/aj_hepatocyte_control_young.vs.balbc_hepatocyte_control_young.scatter.homer.txt',\n",
    "    '../A00_Strains_Control_WholeLiver_RNA/expression/HOMER.rawTPM.txt')"
   ]
  },
  {
   "cell_type": "markdown",
   "metadata": {},
   "source": [
    "# Set parameters that don't change throughout plotting"
   ]
  },
  {
   "cell_type": "code",
   "execution_count": 7,
   "metadata": {
    "scrolled": true
   },
   "outputs": [
    {
     "data": {
      "text/plain": [
       "['aj_hepatocyte_control_young.vs.balbc_hepatocyte_control_young.scatter.homer.txt',\n",
       " 'aj_stellate_control_young.vs.c57_stellate_control_young.scatter.txt',\n",
       " 'aj_kupffer_control_young.vs.c57_kupffer_control_young.scatter.pdf',\n",
       " 'overall.heatmap.txt',\n",
       " 'aj_lsec_control_young.vs.balbc_lsec_control_young.scatter.pdf',\n",
       " 'aj_stellate_control_young.vs.balbc_stellate_control_young.scatter.txt',\n",
       " 'c57_stellate_control_young.vs.balbc_stellate_control_young.scatter.pdf',\n",
       " 'c57_lsec_control_young.vs.aj_lsec_control_young.scatter.homer.txt',\n",
       " 'c57_lsec_control_young.vs.balbc_lsec_control_young.scatter.pdf',\n",
       " 'aj_kupffer_control_young.vs.c57_kupffer_control_young.scatter.txt',\n",
       " 'balbc_lsec_control_young.vs.aj_lsec_control_young.scatter.homer.txt',\n",
       " 'balbc_lsec_control_young.vs.c57_lsec_control_young.scatter.txt',\n",
       " 'c57_stellate_control_young.vs.aj_stellate_control_young.scatter.pdf',\n",
       " 'c57_kupffer_control_young.vs.balbc_kupffer_control_young.scatter.txt',\n",
       " 'c57_lsec_control_young.vs.aj_lsec_control_young.scatter.pdf',\n",
       " 'balbc_kupffer_control_young.vs.c57_kupffer_control_young.scatter.pdf',\n",
       " 'aj_kupffer_control_young.vs.balbc_kupffer_control_young.scatter.txt',\n",
       " 'aj_lsec_control_young.vs.c57_lsec_control_young.scatter.txt',\n",
       " 'balbc_stellate_control_young.vs.aj_stellate_control_young.scatter.pdf',\n",
       " 'aj_stellate_control_young.vs.balbc_stellate_control_young.scatter.pdf',\n",
       " 'aj_lsec_control_young.vs.balbc_lsec_control_young.scatter.homer.txt',\n",
       " 'aj_stellate_control_young.vs.c57_stellate_control_young.scatter.pdf',\n",
       " 'aj_stellate_control_young.vs.c57_stellate_control_young.scatter.homer.txt',\n",
       " 'balbc_kupffer_control_young.vs.c57_kupffer_control_young.scatter.txt',\n",
       " 'c57_stellate_control_young.vs.balbc_stellate_control_young.scatter.txt',\n",
       " 'c57_stellate_control_young.vs.balbc_stellate_control_young.scatter.homer.txt',\n",
       " 'balbc_hepatocyte_control_young.vs.aj_hepatocyte_control_young.scatter.pdf',\n",
       " 'balbc_kupffer_control_young.vs.aj_kupffer_control_young.scatter.homer.txt',\n",
       " 'balbc_hepatocyte_control_young.vs.c57_hepatocyte_control_young.scatter.txt',\n",
       " 'c57_stellate_control_young.vs.aj_stellate_control_young.scatter.txt',\n",
       " 'c57_lsec_control_young.vs.balbc_lsec_control_young.scatter.homer.txt',\n",
       " 'balbc_lsec_control_young.vs.c57_lsec_control_young.scatter.homer.txt',\n",
       " 'c57_kupffer_control_young.vs.aj_kupffer_control_young.scatter.pdf',\n",
       " 'aj_hepatocyte_control_young.vs.c57_hepatocyte_control_young.scatter.homer.txt',\n",
       " 'c57_hepatocyte_control_young.vs.aj_hepatocyte_control_young.scatter.pdf',\n",
       " 'c57_kupffer_control_young.vs.balbc_kupffer_control_young.scatter.pdf',\n",
       " 'c57_hepatocyte_control_young.vs.aj_hepatocyte_control_young.scatter.txt',\n",
       " 'aj_kupffer_control_young.vs.c57_kupffer_control_young.scatter.homer.txt',\n",
       " 'balbc_lsec_control_young.vs.c57_lsec_control_young.scatter.pdf',\n",
       " 'aj_hepatocyte_control_young.vs.balbc_hepatocyte_control_young.scatter.txt',\n",
       " 'c57_stellate_control_young.vs.aj_stellate_control_young.scatter.homer.txt',\n",
       " 'balbc_hepatocyte_control_young.vs.aj_hepatocyte_control_young.scatter.txt',\n",
       " 'aj_stellate_control_young.vs.balbc_stellate_control_young.scatter.homer.txt',\n",
       " 'aj_hepatocyte_control_young.vs.c57_hepatocyte_control_young.scatter.txt',\n",
       " 'balbc_stellate_control_young.vs.aj_stellate_control_young.scatter.homer.txt',\n",
       " 'c57_hepatocyte_control_young.vs.balbc_hepatocyte_control_young.scatter.homer.txt',\n",
       " 'aj_lsec_control_young.vs.c57_lsec_control_young.scatter.pdf',\n",
       " 'balbc_kupffer_control_young.vs.c57_kupffer_control_young.scatter.homer.txt',\n",
       " 'c57_kupffer_control_young.vs.balbc_kupffer_control_young.scatter.homer.txt',\n",
       " 'c57_kupffer_control_young.vs.aj_kupffer_control_young.scatter.homer.txt',\n",
       " 'aj_lsec_control_young.vs.c57_lsec_control_young.scatter.homer.txt',\n",
       " 'balbc_lsec_control_young.vs.aj_lsec_control_young.scatter.txt',\n",
       " 'balbc_kupffer_control_young.vs.aj_kupffer_control_young.scatter.txt',\n",
       " 'balbc_hepatocyte_control_young.vs.c57_hepatocyte_control_young.scatter.pdf',\n",
       " 'balbc_hepatocyte_control_young.vs.aj_hepatocyte_control_young.scatter.homer.txt',\n",
       " 'aj_lsec_control_young.vs.balbc_lsec_control_young.scatter.txt',\n",
       " 'balbc_stellate_control_young.vs.c57_stellate_control_young.scatter.txt',\n",
       " 'balbc_kupffer_control_young.vs.aj_kupffer_control_young.scatter.pdf',\n",
       " 'c57_hepatocyte_control_young.vs.balbc_hepatocyte_control_young.scatter.pdf',\n",
       " 'balbc_lsec_control_young.vs.aj_lsec_control_young.scatter.pdf',\n",
       " 'aj_hepatocyte_control_young.vs.balbc_hepatocyte_control_young.scatter.pdf',\n",
       " 'balbc_hepatocyte_control_young.vs.c57_hepatocyte_control_young.scatter.homer.txt',\n",
       " 'balbc_stellate_control_young.vs.c57_stellate_control_young.scatter.pdf',\n",
       " 'c57_hepatocyte_control_young.vs.balbc_hepatocyte_control_young.scatter.txt',\n",
       " 'balbc_stellate_control_young.vs.c57_stellate_control_young.scatter.homer.txt',\n",
       " 'aj_hepatocyte_control_young.vs.c57_hepatocyte_control_young.scatter.pdf',\n",
       " 'balbc_stellate_control_young.vs.aj_stellate_control_young.scatter.txt',\n",
       " 'c57_lsec_control_young.vs.aj_lsec_control_young.scatter.txt',\n",
       " 'c57_hepatocyte_control_young.vs.aj_hepatocyte_control_young.scatter.homer.txt',\n",
       " 'overall.heatmap.pdf',\n",
       " 'c57_kupffer_control_young.vs.aj_kupffer_control_young.scatter.txt',\n",
       " 'aj_kupffer_control_young.vs.balbc_kupffer_control_young.scatter.pdf',\n",
       " 'aj_kupffer_control_young.vs.balbc_kupffer_control_young.scatter.homer.txt',\n",
       " 'c57_lsec_control_young.vs.balbc_lsec_control_young.scatter.txt']"
      ]
     },
     "execution_count": 7,
     "metadata": {},
     "output_type": "execute_result"
    }
   ],
   "source": [
    "os.listdir(dataDirectory+'/differential/')"
   ]
  },
  {
   "cell_type": "code",
   "execution_count": 8,
   "metadata": {},
   "outputs": [
    {
     "data": {
      "text/plain": [
       "'balbc_kupffer_control_young.vs.c57_kupffer_control_young.scatter.homer.txt'"
      ]
     },
     "execution_count": 8,
     "metadata": {},
     "output_type": "execute_result"
    }
   ],
   "source": [
    "         'aj_kupffer_control_young.vs.balbc_kupffer_control_young.scatter.homer.txt',\n",
    "         'aj_kupffer_control_young.vs.c57_kupffer_control_young.scatter.homer.txt',\n",
    "         'balbc_kupffer_control_young.vs.c57_kupffer_control_young.scatter.homer.txt'"
   ]
  },
  {
   "cell_type": "code",
   "execution_count": 9,
   "metadata": {},
   "outputs": [],
   "source": [
    "comps = ['aj_hepatocyte_control_young.vs.balbc_hepatocyte_control_young.scatter.homer.txt',\n",
    "         'aj_hepatocyte_control_young.vs.c57_hepatocyte_control_young.scatter.homer.txt',\n",
    "         'balbc_hepatocyte_control_young.vs.c57_hepatocyte_control_young.scatter.homer.txt',\n",
    "         'aj_lsec_control_young.vs.balbc_lsec_control_young.scatter.homer.txt',\n",
    "         'aj_lsec_control_young.vs.c57_lsec_control_young.scatter.homer.txt',\n",
    "         'balbc_lsec_control_young.vs.c57_lsec_control_young.scatter.homer.txt',\n",
    "         'aj_kupffer_control_young.vs.balbc_kupffer_control_young.scatter.homer.txt',\n",
    "         'aj_kupffer_control_young.vs.c57_kupffer_control_young.scatter.homer.txt',\n",
    "         'balbc_kupffer_control_young.vs.c57_kupffer_control_young.scatter.homer.txt',\n",
    "         'aj_stellate_control_young.vs.balbc_stellate_control_young.scatter.homer.txt',\n",
    "         'aj_stellate_control_young.vs.c57_stellate_control_young.scatter.homer.txt',\n",
    "         'balbc_stellate_control_young.vs.c57_stellate_control_young.scatter.homer.txt']\n",
    "\n",
    "ids = [['AJ.*Hep', 'BALB.*Hep'],\n",
    "       ['AJ.*Hep', 'C57.*Hep'],\n",
    "       ['BALB.*Hep', 'C57.*Hep'],\n",
    "       ['AJ.*LSEC', 'BALB.*LSEC'],\n",
    "       ['AJ.*LSEC', 'C57.*LSEC'],\n",
    "       ['BALB.*LSEC', 'C57.*LSEC'],\n",
    "       ['AJ.*Stellate', 'BALB.*Stellate'],\n",
    "       ['AJ.*Stellate', 'C57.*Stellate'],\n",
    "       ['BALB.*Stellate', 'C57.*Stellate']]\n",
    "\n",
    "labels = ['aj_vs_balb',\n",
    "          'aj_vs_c57',\n",
    "          'balbc_vs_c57']\n",
    "\n",
    "colors = [['#636363', '#de2d26'],\n",
    "          ['#636363', '#de2d26'],\n",
    "          ['#636363', '#de2d26'],\n",
    "          ['#636363', '#de2d26'],\n",
    "          ['#636363', '#de2d26'],\n",
    "          ['#636363', '#de2d26'],\n",
    "          ['#636363', '#de2d26'],\n",
    "          ['#636363', '#de2d26'],\n",
    "          ['#636363', '#de2d26']]\n",
    "\n",
    "# set plotting thresholds\n",
    "pthresh = 0.05\n",
    "fontsize=8\n",
    "labelsize=6\n",
    "lfcthresh = (1,2)\n",
    "dotsize = 0.5\n",
    "ax_max = 16\n",
    "n_yticks = 5\n",
    "ytickstep = 3\n",
    "color = '#636363'\n",
    "filename='kupffer_niche_rna_scatter_label_small.png'"
   ]
  },
  {
   "cell_type": "code",
   "execution_count": 10,
   "metadata": {},
   "outputs": [
    {
     "name": "stdout",
     "output_type": "stream",
     "text": [
      "ge all transcripts (24940, 43)\n",
      "Diff Gene selected transcripts (5501, 14)\n",
      "ge selected transcripts (5501, 43)\n",
      "aj_hepatocyte_control_young.vs.balbc_hepatocyte_control_young.scatter.homer.txt N diff genes: 269\n",
      "ge all transcripts (24940, 43)\n",
      "Diff Gene selected transcripts (5494, 14)\n",
      "ge selected transcripts (5494, 43)\n",
      "aj_hepatocyte_control_young.vs.c57_hepatocyte_control_young.scatter.homer.txt N diff genes: 177\n",
      "ge all transcripts (24940, 43)\n",
      "Diff Gene selected transcripts (5650, 14)\n",
      "ge selected transcripts (5650, 43)\n",
      "balbc_hepatocyte_control_young.vs.c57_hepatocyte_control_young.scatter.homer.txt N diff genes: 432\n",
      "ge all transcripts (24940, 43)\n",
      "Diff Gene selected transcripts (8926, 14)\n",
      "ge selected transcripts (8926, 43)\n",
      "aj_lsec_control_young.vs.balbc_lsec_control_young.scatter.homer.txt N diff genes: 174\n",
      "ge all transcripts (24940, 43)\n",
      "Diff Gene selected transcripts (8952, 14)\n",
      "ge selected transcripts (8952, 43)\n",
      "aj_lsec_control_young.vs.c57_lsec_control_young.scatter.homer.txt N diff genes: 324\n",
      "ge all transcripts (24940, 43)\n",
      "Diff Gene selected transcripts (8900, 14)\n",
      "ge selected transcripts (8900, 43)\n",
      "balbc_lsec_control_young.vs.c57_lsec_control_young.scatter.homer.txt N diff genes: 296\n",
      "ge all transcripts (24940, 43)\n",
      "Diff Gene selected transcripts (7612, 14)\n",
      "ge selected transcripts (7612, 43)\n",
      "aj_kupffer_control_young.vs.balbc_kupffer_control_young.scatter.homer.txt N diff genes: 191\n",
      "ge all transcripts (24940, 43)\n",
      "Diff Gene selected transcripts (7652, 14)\n",
      "ge selected transcripts (7652, 43)\n",
      "aj_kupffer_control_young.vs.c57_kupffer_control_young.scatter.homer.txt N diff genes: 284\n",
      "ge all transcripts (24940, 43)\n",
      "Diff Gene selected transcripts (7659, 14)\n",
      "ge selected transcripts (7659, 43)\n",
      "balbc_kupffer_control_young.vs.c57_kupffer_control_young.scatter.homer.txt N diff genes: 359\n",
      "ge all transcripts (24940, 43)\n",
      "Diff Gene selected transcripts (9336, 14)\n",
      "ge selected transcripts (9336, 43)\n",
      "aj_stellate_control_young.vs.balbc_stellate_control_young.scatter.homer.txt N diff genes: 708\n",
      "ge all transcripts (24940, 43)\n",
      "Diff Gene selected transcripts (9368, 14)\n",
      "ge selected transcripts (9368, 43)\n",
      "aj_stellate_control_young.vs.c57_stellate_control_young.scatter.homer.txt N diff genes: 549\n",
      "ge all transcripts (24940, 43)\n",
      "Diff Gene selected transcripts (9343, 14)\n",
      "ge selected transcripts (9343, 43)\n",
      "balbc_stellate_control_young.vs.c57_stellate_control_young.scatter.homer.txt N diff genes: 763\n"
     ]
    }
   ],
   "source": [
    "n_diff_genes_list = []\n",
    "n_diff_genes_dict = {}\n",
    "for comp in comps:\n",
    "\n",
    "    de, tpm, tpm_mat, tpm_mat_quant = import_homer_diffgene(\n",
    "        dataDirectory+'./differential/'+comp,\n",
    "        dataDirectory+'./expression/HOMER.rawTPM.txt',\n",
    "        gene_name_index=True)\n",
    "    \n",
    "    print(comp, 'N diff genes:', ((de.padj < pthresh) & (np.abs(de.log2FoldChange) >= lfcthresh[0])).sum())\n",
    "    \n",
    "    n_diff_genes_list.append(((de.padj < pthresh) & (np.abs(de.log2FoldChange) >= lfcthresh[0])).sum())\n",
    "    n_diff_genes_dict[comp.split('.scatter')[0]] = ((de.padj < pthresh) & (np.abs(de.log2FoldChange) >= lfcthresh[0])).sum()"
   ]
  },
  {
   "cell_type": "code",
   "execution_count": 13,
   "metadata": {},
   "outputs": [
    {
     "data": {
      "text/plain": [
       "aj_hepatocyte_control_young.vs.balbc_hepatocyte_control_young     269\n",
       "aj_hepatocyte_control_young.vs.c57_hepatocyte_control_young       177\n",
       "balbc_hepatocyte_control_young.vs.c57_hepatocyte_control_young    432\n",
       "aj_lsec_control_young.vs.balbc_lsec_control_young                 174\n",
       "aj_lsec_control_young.vs.c57_lsec_control_young                   324\n",
       "balbc_lsec_control_young.vs.c57_lsec_control_young                296\n",
       "aj_kupffer_control_young.vs.balbc_kupffer_control_young           191\n",
       "aj_kupffer_control_young.vs.c57_kupffer_control_young             284\n",
       "balbc_kupffer_control_young.vs.c57_kupffer_control_young          359\n",
       "aj_stellate_control_young.vs.balbc_stellate_control_young         708\n",
       "aj_stellate_control_young.vs.c57_stellate_control_young           549\n",
       "balbc_stellate_control_young.vs.c57_stellate_control_young        763\n",
       "dtype: int64"
      ]
     },
     "execution_count": 13,
     "metadata": {},
     "output_type": "execute_result"
    }
   ],
   "source": [
    "pd.Series(n_diff_genes_dict)"
   ]
  },
  {
   "cell_type": "code",
   "execution_count": 44,
   "metadata": {},
   "outputs": [],
   "source": [
    "diff_gene_frame = pd.DataFrame(np.array(n_diff_genes_list).reshape(4,3),\n",
    "                               index=['Hepatocytes', 'Kupffer Cells', 'LSECs', 'Stellate Cells'],\n",
    "                               columns=['AJ vs. BALB', 'AJ vs. C57', 'BALB vs. C57']).T"
   ]
  },
  {
   "cell_type": "code",
   "execution_count": 45,
   "metadata": {},
   "outputs": [
    {
     "data": {
      "text/html": [
       "<div>\n",
       "<style scoped>\n",
       "    .dataframe tbody tr th:only-of-type {\n",
       "        vertical-align: middle;\n",
       "    }\n",
       "\n",
       "    .dataframe tbody tr th {\n",
       "        vertical-align: top;\n",
       "    }\n",
       "\n",
       "    .dataframe thead th {\n",
       "        text-align: right;\n",
       "    }\n",
       "</style>\n",
       "<table border=\"1\" class=\"dataframe\">\n",
       "  <thead>\n",
       "    <tr style=\"text-align: right;\">\n",
       "      <th></th>\n",
       "      <th>Hepatocytes</th>\n",
       "      <th>Kupffer Cells</th>\n",
       "      <th>LSECs</th>\n",
       "      <th>Stellate Cells</th>\n",
       "    </tr>\n",
       "  </thead>\n",
       "  <tbody>\n",
       "    <tr>\n",
       "      <th>AJ vs. BALB</th>\n",
       "      <td>269</td>\n",
       "      <td>174</td>\n",
       "      <td>191</td>\n",
       "      <td>708</td>\n",
       "    </tr>\n",
       "    <tr>\n",
       "      <th>AJ vs. C57</th>\n",
       "      <td>177</td>\n",
       "      <td>324</td>\n",
       "      <td>284</td>\n",
       "      <td>549</td>\n",
       "    </tr>\n",
       "    <tr>\n",
       "      <th>BALB vs. C57</th>\n",
       "      <td>432</td>\n",
       "      <td>296</td>\n",
       "      <td>359</td>\n",
       "      <td>763</td>\n",
       "    </tr>\n",
       "  </tbody>\n",
       "</table>\n",
       "</div>"
      ],
      "text/plain": [
       "              Hepatocytes  Kupffer Cells  LSECs  Stellate Cells\n",
       "AJ vs. BALB           269            174    191             708\n",
       "AJ vs. C57            177            324    284             549\n",
       "BALB vs. C57          432            296    359             763"
      ]
     },
     "execution_count": 45,
     "metadata": {},
     "output_type": "execute_result"
    }
   ],
   "source": [
    "diff_gene_frame"
   ]
  },
  {
   "cell_type": "code",
   "execution_count": 46,
   "metadata": {},
   "outputs": [],
   "source": [
    "diff_gene_frame['million_muts'] = pd.Series({'AJ vs. BALB': 2.37,\n",
    "                                             'AJ vs. C57': 4.40,\n",
    "                                             'BALB vs. C57':4.74})"
   ]
  },
  {
   "cell_type": "code",
   "execution_count": 47,
   "metadata": {},
   "outputs": [
    {
     "data": {
      "text/html": [
       "<div>\n",
       "<style scoped>\n",
       "    .dataframe tbody tr th:only-of-type {\n",
       "        vertical-align: middle;\n",
       "    }\n",
       "\n",
       "    .dataframe tbody tr th {\n",
       "        vertical-align: top;\n",
       "    }\n",
       "\n",
       "    .dataframe thead th {\n",
       "        text-align: right;\n",
       "    }\n",
       "</style>\n",
       "<table border=\"1\" class=\"dataframe\">\n",
       "  <thead>\n",
       "    <tr style=\"text-align: right;\">\n",
       "      <th></th>\n",
       "      <th>Hepatocytes</th>\n",
       "      <th>Kupffer Cells</th>\n",
       "      <th>LSECs</th>\n",
       "      <th>Stellate Cells</th>\n",
       "      <th>million_muts</th>\n",
       "    </tr>\n",
       "  </thead>\n",
       "  <tbody>\n",
       "    <tr>\n",
       "      <th>AJ vs. BALB</th>\n",
       "      <td>269</td>\n",
       "      <td>174</td>\n",
       "      <td>191</td>\n",
       "      <td>708</td>\n",
       "      <td>2.37</td>\n",
       "    </tr>\n",
       "    <tr>\n",
       "      <th>AJ vs. C57</th>\n",
       "      <td>177</td>\n",
       "      <td>324</td>\n",
       "      <td>284</td>\n",
       "      <td>549</td>\n",
       "      <td>4.40</td>\n",
       "    </tr>\n",
       "    <tr>\n",
       "      <th>BALB vs. C57</th>\n",
       "      <td>432</td>\n",
       "      <td>296</td>\n",
       "      <td>359</td>\n",
       "      <td>763</td>\n",
       "      <td>4.74</td>\n",
       "    </tr>\n",
       "  </tbody>\n",
       "</table>\n",
       "</div>"
      ],
      "text/plain": [
       "              Hepatocytes  Kupffer Cells  LSECs  Stellate Cells  million_muts\n",
       "AJ vs. BALB           269            174    191             708          2.37\n",
       "AJ vs. C57            177            324    284             549          4.40\n",
       "BALB vs. C57          432            296    359             763          4.74"
      ]
     },
     "execution_count": 47,
     "metadata": {},
     "output_type": "execute_result"
    }
   ],
   "source": [
    "diff_gene_frame"
   ]
  },
  {
   "cell_type": "code",
   "execution_count": 84,
   "metadata": {},
   "outputs": [],
   "source": [
    "s=5"
   ]
  },
  {
   "cell_type": "code",
   "execution_count": 93,
   "metadata": {},
   "outputs": [
    {
     "data": {
      "image/png": "[encoded data removed]",
      "text/plain": [
       "<Figure size 72x72 with 1 Axes>"
      ]
     },
     "metadata": {
      "needs_background": "light"
     },
     "output_type": "display_data"
    }
   ],
   "source": [
    "fig, ax = plt.subplots(figsize=(1,1))\n",
    "\n",
    "ax.scatter(diff_gene_frame.million_muts,\n",
    "           diff_gene_frame.loc[:, 'Hepatocytes'],\n",
    "           s=s,\n",
    "           c='#d95f0e',\n",
    "           label='Hep.')\n",
    "ax.scatter(diff_gene_frame.million_muts,\n",
    "           diff_gene_frame.loc[:, 'Kupffer Cells'],\n",
    "           s=s,\n",
    "           c='#31a354',\n",
    "           label='KC')\n",
    "ax.scatter(diff_gene_frame.million_muts,\n",
    "           diff_gene_frame.loc[:, 'LSECs'],\n",
    "           s=s,\n",
    "           c='#de2d26',\n",
    "           label='LSEC')\n",
    "ax.scatter(diff_gene_frame.million_muts,\n",
    "           diff_gene_frame.loc[:, 'Stellate Cells'],\n",
    "           s=s,\n",
    "           c='#756bb1',\n",
    "           label='HSC')\n",
    "\n",
    "# Hide the right and top spines\n",
    "ax.spines['right'].set_visible(False)\n",
    "ax.spines['top'].set_visible(False)\n",
    "\n",
    "\n",
    "ax.set_xlim(0, 6)\n",
    "ax.set_ylim(0,1000)\n",
    "ax.set_xlabel('Number of Mutations\\nbetween strains (Millions)')\n",
    "ax.set_ylabel('Number of Differentially\\nExpressed Genes')\n",
    "ax.legend(fontsize=6,markerscale=1, frameon=False, ncol=1, loc=(0.9,0.1),\n",
    "          handletextpad=0.05, columnspacing=0.05)\n",
    "\n",
    "plt.savefig('./fancy_figures/mutational_burden_correlation.pdf',\n",
    "            bbox_inches='tight')"
   ]
  },
  {
   "cell_type": "code",
   "execution_count": null,
   "metadata": {},
   "outputs": [],
   "source": []
  }
 ],
 "metadata": {
  "kernelspec": {
   "display_name": "dataviz",
   "language": "python",
   "name": "dataviz"
  },
  "language_info": {
   "codemirror_mode": {
    "name": "ipython",
    "version": 3
   },
   "file_extension": ".py",
   "mimetype": "text/x-python",
   "name": "python",
   "nbconvert_exporter": "python",
   "pygments_lexer": "ipython3",
   "version": "3.7.5"
  }
 },
 "nbformat": 4,
 "nbformat_minor": 2
}
