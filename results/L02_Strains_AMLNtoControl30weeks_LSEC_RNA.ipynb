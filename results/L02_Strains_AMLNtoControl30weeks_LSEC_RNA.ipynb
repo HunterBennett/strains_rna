{
 "cells": [
  {
   "cell_type": "code",
   "execution_count": 1,
   "metadata": {},
   "outputs": [],
   "source": [
    "### header ###\n",
    "__author__ = \"Hunter Bennett\"\n",
    "__license__ = \"BSD\"\n",
    "__email__ = \"hunter.r.bennett@gmail.com\"\n",
    "%load_ext autoreload\n",
    "%autoreload 2\n",
    "%matplotlib inline\n",
    "### imports ###\n",
    "import sys\n",
    "import os\n",
    "import re\n",
    "import glob\n",
    "import pandas as pd\n",
    "import numpy as np\n",
    "import matplotlib\n",
    "import matplotlib.pyplot as plt\n",
    "from matplotlib_venn import venn3\n",
    "import seaborn as sns\n",
    "\n",
    "matplotlib.rcParams['savefig.dpi'] = 200\n",
    "sys.setrecursionlimit(3000)\n",
    "sns.set(font_scale=1)\n",
    "sns.set_context('talk')\n",
    "sns.set_style('white')\n",
    "\n",
    "# import custom functions\n",
    "sys.path.insert(0, '/home/h1bennet/code/')\n",
    "from hbUtils import ngs_qc, quantile_normalize_df\n",
    "from homer_preprocessing import import_homer_diffgene\n",
    "from plotting_scripts import plot_exp_rpkm, gene_list_bar_plot"
   ]
  },
  {
   "cell_type": "code",
   "execution_count": 2,
   "metadata": {},
   "outputs": [],
   "source": [
    "workingDirectory = '/home/h1bennet/strains_rna/results/00_Strains_AMLNtoControl_LSEC_RNA/'\n",
    "amlnDirectory = '/home/h1bennet/strains/data/RNA/AMLN_30week_lsec/'\n",
    "controlDirectory = '/home/h1bennet/strains/data/RNA/control_lsec'\n",
    "if not os.path.isdir(workingDirectory):\n",
    "    os.mkdir(workingDirectory)\n",
    "os.chdir(workingDirectory)\n"
   ]
  },
  {
   "cell_type": "markdown",
   "metadata": {},
   "source": [
    "# Run Oyoung's pipeline to process RNA-seq data consistantly."
   ]
  },
  {
   "cell_type": "code",
   "execution_count": 3,
   "metadata": {},
   "outputs": [],
   "source": [
    "c57_control_paths = list(np.sort(glob.glob(controlDirectory+'/C57*')))\n",
    "balbc_control_paths = list(np.sort(glob.glob(controlDirectory+'/BALBC*')))\n",
    "aj_control_paths = list(np.sort(glob.glob(controlDirectory+'/AJ*')))\n",
    "\n",
    "c57_control_ids = [i.split('/')[-1].split('_')[4] for i in c57_control_paths]\n",
    "balbc_control_ids = [i.split('/')[-1].split('_')[4] for i in balbc_control_paths]\n",
    "aj_control_ids = [i.split('/')[-1].split('_')[4] for i in aj_control_paths]"
   ]
  },
  {
   "cell_type": "code",
   "execution_count": 4,
   "metadata": {},
   "outputs": [],
   "source": [
    "c57_amln_paths = list(np.sort(glob.glob(amlnDirectory+'/NCoRWT*')))\n",
    "balbc_amln_paths = list(np.sort(glob.glob(amlnDirectory+'/*BALB6*')))\n",
    "aj_amln_paths = list(np.sort(glob.glob(amlnDirectory+'/aj*')))\n",
    "\n",
    "c57_amln_ids = [i.split('/')[-1].split('_')[7] for i in c57_amln_paths]\n",
    "balbc_amln_ids = [i.split('/')[-1].split('_')[7] for i in balbc_amln_paths]\n",
    "aj_amln_ids = [i.split('/')[-1].split('_')[7] for i in aj_amln_paths]"
   ]
  },
  {
   "cell_type": "markdown",
   "metadata": {},
   "source": [
    "Put together into three separate comparisons"
   ]
  },
  {
   "cell_type": "code",
   "execution_count": 5,
   "metadata": {},
   "outputs": [],
   "source": [
    "ids = ['c57_lsec_control_young',\n",
    "       'c57_lsec_amlndiet_30weeks',\n",
    "       'balbc_lsec_control_young',\n",
    "       'balbc_lsec_amlndiet_30weeks',\n",
    "       'aj_lsec_control_young',\n",
    "       'aj_lsec_amlndiet_30weeks']\n",
    "\n",
    "colors = ['#74c476',\n",
    "          '#006d2c',\n",
    "          '#6baed6',\n",
    "          '#08519c',\n",
    "          '#de2d26',\n",
    "          '#a50f15']\n",
    "\n",
    "paths = [';'.join(c57_control_paths),\n",
    "         ';'.join(c57_amln_paths),\n",
    "         ';'.join(balbc_control_paths),\n",
    "         ';'.join(balbc_amln_paths),\n",
    "         ';'.join(aj_control_paths),\n",
    "         ';'.join(aj_amln_paths)]\n",
    "\n",
    "short_ids = [';'.join([ids[0]+'_'+i for i in c57_control_ids]),\n",
    "             ';'.join([ids[1]+'_'+i for i in c57_amln_ids]),\n",
    "             ';'.join([ids[0]+'_'+i for i in balbc_control_ids]),\n",
    "             ';'.join([ids[1]+'_'+i for i in balbc_amln_ids]),\n",
    "             ';'.join([ids[0]+'_'+i for i in aj_control_ids]),\n",
    "             ';'.join([ids[1]+'_'+i for i in aj_amln_ids])]\n",
    "\n",
    "pd.DataFrame([ids,colors,paths,short_ids]).T.to_csv('./sampleDef.txt',\n",
    "                                                    sep='\\t',\n",
    "                                                    header=False,\n",
    "                                                    index=False)"
   ]
  },
  {
   "cell_type": "markdown",
   "metadata": {},
   "source": [
    "# Run O'young RNA pipeline"
   ]
  },
  {
   "cell_type": "markdown",
   "metadata": {},
   "source": [
    "Run the code below in BASH.\n",
    "Edited for this pipeline to lower the minimum TPM threshold as this has kind of messed up our differential gene calling for borderline genes that do not meet the TPM in two of the strains ie TPM > 8 in one strain and TPM of 7 in the other two.\n",
    "\n",
    "    source activate r-ouyangPipe\n",
    "    \n",
    "    mkdir ./expression/\n",
    "    \n",
    "    mkdir ./differential/\n",
    "    \n",
    "    rnaQuan.R ./sampleDef.txt -o ./expression/\n",
    "\n",
    "    rnaDiff.R ./sampleDef.txt -c ./expression/rawC.txt \\\n",
    "    -t ./expression/rawT.txt -m 4 -o ./differential/\n",
    "    \n",
    "    rm ./differential/c57*aj*\n",
    "    rm ./differential/c57*balbc*\n",
    "    rm ./differential/balbc*aj*\n",
    "    rm ./differential/balbc*c57*\n",
    "    rm ./differential/aj*c57*\n",
    "    rm ./differential/aj*balbc*\n",
    "\n",
    "    # annotate scatter files with tag counts\n",
    "    for scatter in ./differential/*scatter.txt;\n",
    "    do diff2Homer.R -d $scatter -q ./expression/HOMER.rawTPM.txt;\n",
    "    done"
   ]
  },
  {
   "cell_type": "markdown",
   "metadata": {},
   "source": [
    "### Make sure to check the PCA pdf file for outliers"
   ]
  },
  {
   "cell_type": "markdown",
   "metadata": {},
   "source": [
    "## Make jupyter hub for vizualization"
   ]
  },
  {
   "cell_type": "markdown",
   "metadata": {},
   "source": [
    "    makeMultiWigHub.pl hrb_strains_viz_lsec_rna_amln_control_merged mm10 \\\n",
    "    -color 251,106,74 165,15,21 107,174,214 8,81,156 116,196,118 0,109,44 \\\n",
    "    -d ./expression/mergeTag/aj_lsec_control_young/ \\\n",
    "    ./expression/mergeTag/aj_lsec_amlndiet_30weeks/ \\\n",
    "    ./expression/mergeTag/balbc_lsec_control_young \\\n",
    "    ./expression/mergeTag/balbc_lsec_amlndiet_30weeks \\\n",
    "    ./expression/mergeTag/c57_lsec_control_young \\\n",
    "    ./expression/mergeTag/c57_lsec_amlndiet_30weeks"
   ]
  },
  {
   "cell_type": "markdown",
   "metadata": {},
   "source": [
    "# Import differential gene files for examination and plotting"
   ]
  },
  {
   "cell_type": "markdown",
   "metadata": {},
   "source": [
    "Make folder for figures"
   ]
  },
  {
   "cell_type": "code",
   "execution_count": 6,
   "metadata": {},
   "outputs": [],
   "source": [
    "if not os.path.isdir('./figures/'):\n",
    "    os.mkdir('./figures')"
   ]
  },
  {
   "cell_type": "markdown",
   "metadata": {},
   "source": [
    "## Write differential genes to list for metascape"
   ]
  },
  {
   "cell_type": "code",
   "execution_count": 7,
   "metadata": {},
   "outputs": [],
   "source": [
    "if not os.path.isdir('./gene_lists/'):\n",
    "    os.mkdir('./gene_lists')"
   ]
  },
  {
   "cell_type": "code",
   "execution_count": 8,
   "metadata": {},
   "outputs": [],
   "source": [
    "log2fc = 1\n",
    "pval = 0.05\n",
    "gene_list_dict ={}"
   ]
  },
  {
   "cell_type": "code",
   "execution_count": 23,
   "metadata": {
    "scrolled": false
   },
   "outputs": [
    {
     "name": "stdout",
     "output_type": "stream",
     "text": [
      "./differential/aj_lsec_amlndiet_30weeks.vs.aj_lsec_control_young.scatter.homer.txt\n",
      "ge all transcripts (24940, 25)\n",
      "Diff Gene selected transcripts (10836, 14)\n",
      "ge selected transcripts (10836, 25)\n",
      "./differential/aj_lsec_control_young.vs.aj_lsec_amlndiet_30weeks.scatter.homer.txt\n",
      "ge all transcripts (24940, 25)\n",
      "Diff Gene selected transcripts (10836, 14)\n",
      "ge selected transcripts (10836, 25)\n",
      "./differential/balbc_lsec_amlndiet_30weeks.vs.balbc_lsec_control_young.scatter.homer.txt\n",
      "ge all transcripts (24940, 25)\n",
      "Diff Gene selected transcripts (10413, 14)\n",
      "ge selected transcripts (10413, 25)\n",
      "./differential/balbc_lsec_control_young.vs.balbc_lsec_amlndiet_30weeks.scatter.homer.txt\n",
      "ge all transcripts (24940, 25)\n",
      "Diff Gene selected transcripts (10413, 14)\n",
      "ge selected transcripts (10413, 25)\n",
      "./differential/c57_lsec_amlndiet_30weeks.vs.c57_lsec_control_young.scatter.homer.txt\n",
      "ge all transcripts (24940, 25)\n",
      "Diff Gene selected transcripts (10836, 14)\n",
      "ge selected transcripts (10836, 25)\n",
      "./differential/c57_lsec_control_young.vs.c57_lsec_amlndiet_30weeks.scatter.homer.txt\n",
      "ge all transcripts (24940, 25)\n",
      "Diff Gene selected transcripts (10836, 14)\n",
      "ge selected transcripts (10836, 25)\n"
     ]
    }
   ],
   "source": [
    "for i in np.sort(glob.glob('./differential/*homer.txt')):\n",
    "    print(i)\n",
    "    # read in gene expression data\n",
    "    df, tpm, tpm_mat, tpm_mat_quant = import_homer_diffgene(\n",
    "        depath=i,\n",
    "        gepath='./expression/HOMER.rawTPM.txt',\n",
    "        gene_name_index=True)\n",
    "\n",
    "    # select differential genes\n",
    "    df = df.loc[~(df.chr.str.contains('chrX|chrY|ChrUn')), :]\n",
    "    sig_genes = df.index[(df['padj'] < pval) & (df['log2FoldChange'] >= log2fc)].to_list()\n",
    "    gene_list_dict[i.split('.')[3]+'_up'] = list(sig_genes)\n",
    "    # print('union set length:', print(len(g_union)))\n",
    "    # print('intersection set length:', print(len(g_intersect)))\n"
   ]
  },
  {
   "cell_type": "code",
   "execution_count": 11,
   "metadata": {},
   "outputs": [
    {
     "name": "stdout",
     "output_type": "stream",
     "text": [
      "aj_lsec_control_young_up\n",
      "353 genes\n",
      "aj_lsec_amlndiet_30weeks_up\n",
      "775 genes\n",
      "balbc_lsec_control_young_up\n",
      "170 genes\n",
      "balbc_lsec_amlndiet_30weeks_up\n",
      "145 genes\n",
      "c57_lsec_control_young_up\n",
      "431 genes\n",
      "c57_lsec_amlndiet_30weeks_up\n",
      "728 genes\n"
     ]
    }
   ],
   "source": [
    "for key in gene_list_dict.keys():\n",
    "    print(key)\n",
    "    print(len(gene_list_dict[key]), 'genes')\n",
    "    with open('./gene_lists/'+key+'_lsec_genes_fc_'+str(log2fc)+'_pval_'+str(pval)+'.txt', 'w') as f:\n",
    "        f.write('Gene\\n')\n",
    "        for i in gene_list_dict[key]:\n",
    "            f.write(i+'\\n')\n",
    "        f.close()"
   ]
  },
  {
   "cell_type": "markdown",
   "metadata": {},
   "source": [
    "# How many AMLN induced genes are common"
   ]
  },
  {
   "cell_type": "code",
   "execution_count": 13,
   "metadata": {},
   "outputs": [
    {
     "data": {
      "image/png": "[encoded data removed]",
      "text/plain": [
       "<Figure size 576x576 with 1 Axes>"
      ]
     },
     "metadata": {},
     "output_type": "display_data"
    }
   ],
   "source": [
    "fig, ax = plt.subplots(figsize=(8,8))\n",
    "\n",
    "# venn3 accepts a list with the following order\n",
    "# (100, 010, 110, 001, 101, 011, 111)\n",
    "# group1, group2, group1+2, group3, group1+3, group2+3, group3\n",
    "venn3(subsets=[set(gene_list_dict['c57_lsec_amlndiet_30weeks_up']),\n",
    "               set(gene_list_dict['balbc_lsec_amlndiet_30weeks_up']),\n",
    "               set(gene_list_dict['aj_lsec_amlndiet_30weeks_up'])],\n",
    "     ax=ax,\n",
    "     set_colors=('#006d2c', '#08519c', '#a50f15'),\n",
    "     set_labels=('C57', 'BALBC', 'AJ'),\n",
    "     alpha=0.5)\n",
    "ax.set_title('NASH Activated LSEC Genes');\n",
    "\n",
    "plt.savefig('./figures/venn3_activated_genes.png', bbox_inches='tight')"
   ]
  },
  {
   "cell_type": "code",
   "execution_count": 14,
   "metadata": {},
   "outputs": [
    {
     "data": {
      "image/png": "[encoded data removed]",
      "text/plain": [
       "<Figure size 576x576 with 1 Axes>"
      ]
     },
     "metadata": {},
     "output_type": "display_data"
    }
   ],
   "source": [
    "fig, ax = plt.subplots(figsize=(8,8))\n",
    "\n",
    "# venn3 accepts a list with the following order\n",
    "# (100, 010, 110, 001, 101, 011, 111)\n",
    "# group1, group2, group1+2, group3, group1+3, group2+3, group3\n",
    "venn3(subsets=[set(gene_list_dict['c57_lsec_control_young_up']),\n",
    "               set(gene_list_dict['balbc_lsec_control_young_up']),\n",
    "               set(gene_list_dict['aj_lsec_control_young_up'])],\n",
    "     ax=ax,\n",
    "     set_colors=('#006d2c', '#08519c', '#a50f15'),\n",
    "     set_labels=('C57', 'BALBC', 'AJ'),\n",
    "     alpha=0.5)\n",
    "ax.set_title('NASH Repressed LSEC Genes');\n",
    "\n",
    "plt.savefig('./figures/venn3_repressed_genes.png', bbox_inches='tight')"
   ]
  },
  {
   "cell_type": "markdown",
   "metadata": {},
   "source": [
    "### Pull sets for manual examination"
   ]
  },
  {
   "cell_type": "markdown",
   "metadata": {},
   "source": [
    "activated genes"
   ]
  },
  {
   "cell_type": "code",
   "execution_count": 15,
   "metadata": {},
   "outputs": [],
   "source": [
    "all3 = set(gene_list_dict['aj_lsec_amlndiet_30weeks_up']).intersection(set(gene_list_dict['balbc_lsec_amlndiet_30weeks_up']).intersection(gene_list_dict['c57_lsec_amlndiet_30weeks_up']))\n",
    "C57_balbc = set(gene_list_dict['c57_lsec_amlndiet_30weeks_up']).intersection(set(gene_list_dict['balbc_lsec_amlndiet_30weeks_up']).difference(all3))\n",
    "C57_aj = set(gene_list_dict['c57_lsec_amlndiet_30weeks_up']).intersection(set(gene_list_dict['aj_lsec_amlndiet_30weeks_up']).difference(all3))\n",
    "balbc_aj = set(gene_list_dict['balbc_lsec_amlndiet_30weeks_up']).intersection(gene_list_dict['aj_lsec_amlndiet_30weeks_up']).difference(all3)\n",
    "C57_private = set(gene_list_dict['c57_lsec_amlndiet_30weeks_up']).difference(set(all3).union(set(C57_balbc).union(C57_aj)))\n",
    "balbc_private = set(gene_list_dict['balbc_lsec_amlndiet_30weeks_up']).difference(set(all3).union(set(C57_balbc).union(balbc_aj)))\n",
    "aj_private = set(gene_list_dict['aj_lsec_amlndiet_30weeks_up']).difference(set(all3).union(set(C57_aj).union(balbc_aj)))"
   ]
  },
  {
   "cell_type": "code",
   "execution_count": 16,
   "metadata": {},
   "outputs": [],
   "source": [
    "genesets = [aj_private, balbc_private, C57_private]\n",
    "genesetnames = ['aj_private', 'balbc_private', 'c57_private']\n",
    "for listname, genelist in zip(genesetnames, genesets):\n",
    "    with open('./gene_lists/'+listname+'_lsec_genes_fc_'+str(log2fc)+'_pval_'+str(pval)+'.txt', 'w') as f:\n",
    "        f.write('Gene\\n')\n",
    "        for i in genelist:\n",
    "            f.write(i+'\\n')\n",
    "        f.close()"
   ]
  },
  {
   "cell_type": "markdown",
   "metadata": {},
   "source": [
    "# Plot potential nichenet ligands"
   ]
  },
  {
   "cell_type": "code",
   "execution_count": 105,
   "metadata": {},
   "outputs": [],
   "source": [
    "tpm_mat = pd.read_csv('./expression/rawT.txt', sep='\\t', index_col=0)"
   ]
  },
  {
   "cell_type": "code",
   "execution_count": 106,
   "metadata": {},
   "outputs": [
    {
     "data": {
      "text/plain": [
       "['Cxcl1', 'Cxcl2', 'Cxcl3', 'Cxcl5', 'Ppbp']"
      ]
     },
     "execution_count": 106,
     "metadata": {},
     "output_type": "execute_result"
    }
   ],
   "source": [
    "ligands = pd.read_csv('/home/h1bennet/data/gene_lists/nichenet_ligands.txt',\n",
    "                      sep='\\t')['x'].str.capitalize().tolist()\n",
    "ligands[:5]"
   ]
  },
  {
   "cell_type": "markdown",
   "metadata": {},
   "source": [
    "Collect ALL activated NASH genes"
   ]
  },
  {
   "cell_type": "code",
   "execution_count": 107,
   "metadata": {},
   "outputs": [],
   "source": [
    "amln_act = []\n",
    "for key in gene_list_dict.keys():\n",
    "    if 'amln' in key:\n",
    "        amln_act.extend(gene_list_dict[key])\n",
    "\n",
    "amln_act = set(amln_act)"
   ]
  },
  {
   "cell_type": "markdown",
   "metadata": {},
   "source": [
    "Assess for overlap with ligands"
   ]
  },
  {
   "cell_type": "code",
   "execution_count": 108,
   "metadata": {},
   "outputs": [],
   "source": [
    "amln_act_ligands = amln_act.intersection(ligands)"
   ]
  },
  {
   "cell_type": "markdown",
   "metadata": {},
   "source": [
    "## Plot for all samples"
   ]
  },
  {
   "cell_type": "code",
   "execution_count": 109,
   "metadata": {
    "scrolled": false
   },
   "outputs": [],
   "source": [
    "sns.clustermap(\n",
    "    np.log2(tpm_mat.loc[amln_act_ligands]+1),\n",
    "    col_cluster=False,\n",
    "    #z_score=0,\n",
    "    cmap='Reds',\n",
    "    #vmin=-2,\n",
    "    vmax=8,\n",
    "    col_colors = ['#74c476', '#74c476', '#74c476', '#74c476',\n",
    "          '#006d2c', '#006d2c',\n",
    "          '#6baed6', '#6baed6', '#6baed6', '#6baed6',\n",
    "          '#08519c', '#08519c',\n",
    "          '#de2d26', '#de2d26', '#de2d26', '#de2d26',\n",
    "          '#a50f15', '#a50f15'],\n",
    "    figsize=(8,24),\n",
    "    yticklabels=1)\n",
    "\n",
    "plt.savefig('./figures/diff_genes_ligands_clustermap.png', bbox_inches='tight')\n",
    "plt.close()"
   ]
  },
  {
   "cell_type": "code",
   "execution_count": 110,
   "metadata": {
    "scrolled": false
   },
   "outputs": [],
   "source": [
    "sns.clustermap(\n",
    "    tpm_mat.loc[amln_act_ligands],\n",
    "    col_cluster=False,\n",
    "    z_score=0,\n",
    "    cmap='RdBu_r',\n",
    "    vmin=-2,\n",
    "    vmax=2,\n",
    "    col_colors = ['#74c476', '#74c476', '#74c476', '#74c476',\n",
    "          '#006d2c', '#006d2c',\n",
    "          '#6baed6', '#6baed6', '#6baed6', '#6baed6',\n",
    "          '#08519c', '#08519c',\n",
    "          '#de2d26', '#de2d26', '#de2d26', '#de2d26',\n",
    "          '#a50f15', '#a50f15'],\n",
    "    figsize=(8,24),\n",
    "    yticklabels=1)\n",
    "\n",
    "plt.savefig('./figures/diff_genes_ligands_clustermap_zscore.png', bbox_inches='tight')\n",
    "plt.close()"
   ]
  },
  {
   "cell_type": "markdown",
   "metadata": {},
   "source": [
    "## Plot Strain Specific Ligands"
   ]
  },
  {
   "cell_type": "code",
   "execution_count": 111,
   "metadata": {},
   "outputs": [],
   "source": [
    "all_strain_spec = C57_private.union(aj_private).union(balbc_private)\n",
    "all_strain_spec_ligands = all_strain_spec.intersection(ligands)"
   ]
  },
  {
   "cell_type": "code",
   "execution_count": 112,
   "metadata": {},
   "outputs": [],
   "source": [
    "sns.clustermap(\n",
    "    np.log2(tpm_mat.loc[all_strain_spec_ligands]+1),\n",
    "    col_cluster=False,\n",
    "    #z_score=0,\n",
    "    cmap='Reds',\n",
    "    #vmin=-2,\n",
    "    vmax=8,\n",
    "    col_colors = ['#74c476', '#74c476', '#74c476', '#74c476',\n",
    "          '#006d2c', '#006d2c',\n",
    "          '#6baed6', '#6baed6', '#6baed6', '#6baed6',\n",
    "          '#08519c', '#08519c',\n",
    "          '#de2d26', '#de2d26', '#de2d26', '#de2d26',\n",
    "          '#a50f15', '#a50f15'],\n",
    "    figsize=(8,12),\n",
    "    yticklabels=1,\n",
    "    xticklabels=0)\n",
    "\n",
    "plt.savefig('./figures/diff_genes_strainspecligands_clustermap.png',\n",
    "            bbox_inches='tight')\n",
    "plt.close()"
   ]
  },
  {
   "cell_type": "code",
   "execution_count": 113,
   "metadata": {},
   "outputs": [],
   "source": [
    "sns.clustermap(\n",
    "    tpm_mat.loc[all_strain_spec_ligands],\n",
    "    col_cluster=False,\n",
    "    z_score=0,\n",
    "    cmap='RdBu_r',\n",
    "    vmin=-3,\n",
    "    vmax=3,\n",
    "    col_colors = ['#74c476', '#74c476', '#74c476', '#74c476',\n",
    "          '#006d2c', '#006d2c',\n",
    "          '#6baed6', '#6baed6', '#6baed6', '#6baed6',\n",
    "          '#08519c', '#08519c',\n",
    "          '#de2d26', '#de2d26', '#de2d26', '#de2d26',\n",
    "          '#a50f15', '#a50f15'],\n",
    "    figsize=(8,12),\n",
    "    yticklabels=1,\n",
    "    xticklabels=0)\n",
    "\n",
    "plt.savefig('./figures/diff_genes_strainspecligands_clustermap_zscore.png',\n",
    "            bbox_inches='tight')\n",
    "plt.close()"
   ]
  },
  {
   "cell_type": "markdown",
   "metadata": {},
   "source": [
    "# Plot specific genes as barplots"
   ]
  },
  {
   "cell_type": "code",
   "execution_count": 36,
   "metadata": {},
   "outputs": [],
   "source": [
    "groups = [[0,1,2,3],\n",
    "          [4,5],\n",
    "          [6,7,8,9],\n",
    "          [10,11],\n",
    "          [12,13,14,15],\n",
    "          [16,17]]\n",
    "\n",
    "group_labels = ['C57BL/6J LSEC Control young',\n",
    "                'C57BL/6J LSEC AMLN 30 weeks',\n",
    "                'Balb/cJ LSEC Control young',\n",
    "                'Balb/cJ LSEC AMLN 30 weeks',\n",
    "                'AJ LSEC Control young',\n",
    "                'AJ LSEC AMLN 30 weeks',]\n",
    "\n",
    "colors = ['#74c476',\n",
    "          '#006d2c',\n",
    "          '#6baed6',\n",
    "          '#08519c',\n",
    "          '#de2d26',\n",
    "          '#a50f15']"
   ]
  },
  {
   "cell_type": "code",
   "execution_count": 85,
   "metadata": {
    "scrolled": true
   },
   "outputs": [
    {
     "data": {
      "image/png": "[encoded data removed]",
      "text/plain": [
       "<Figure size 288x288 with 1 Axes>"
      ]
     },
     "metadata": {
      "needs_background": "light"
     },
     "output_type": "display_data"
    }
   ],
   "source": [
    "fig, ax = plt.subplots(figsize=(4, 4))\n",
    "\n",
    "gene_list_bar_plot(['Itgb7'],\n",
    "                   tpm_mat,\n",
    "                   groups=groups,\n",
    "                   group_labels = group_labels,\n",
    "                   colors = colors,\n",
    "                   ax=ax)\n",
    "\n",
    "ax.get_legend().remove()"
   ]
  },
  {
   "cell_type": "code",
   "execution_count": null,
   "metadata": {},
   "outputs": [],
   "source": []
  }
 ],
 "metadata": {
  "kernelspec": {
   "display_name": "dataviz",
   "language": "python",
   "name": "dataviz"
  },
  "language_info": {
   "codemirror_mode": {
    "name": "ipython",
    "version": 3
   },
   "file_extension": ".py",
   "mimetype": "text/x-python",
   "name": "python",
   "nbconvert_exporter": "python",
   "pygments_lexer": "ipython3",
   "version": "3.7.5"
  }
 },
 "nbformat": 4,
 "nbformat_minor": 2
}
