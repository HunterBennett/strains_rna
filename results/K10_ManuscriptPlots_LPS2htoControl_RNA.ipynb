{
 "cells": [
  {
   "cell_type": "code",
   "execution_count": 1,
   "metadata": {},
   "outputs": [],
   "source": [
    "### header ###\n",
    "__author__ = \"Hunter Bennett\"\n",
    "__license__ = \"BSD\"\n",
    "__email__ = \"hunter.r.bennett@gmail.com\"\n",
    "%load_ext autoreload\n",
    "%autoreload 2\n",
    "%matplotlib inline\n",
    "### imports ###\n",
    "import sys\n",
    "import os\n",
    "import re\n",
    "import glob\n",
    "import pandas as pd\n",
    "import numpy as np\n",
    "import matplotlib\n",
    "import matplotlib.pyplot as plt\n",
    "import scipy.stats as stats\n",
    "from matplotlib_venn import venn3, venn2\n",
    "import seaborn as sns\n",
    "\n",
    "# import custom functions\n",
    "sys.path.insert(0, '/home/h1bennet/code/')\n",
    "from hbUtils import ngs_qc, quantile_normalize_df\n",
    "from homer_preprocessing import import_homer_diffgene\n",
    "from plotting_scripts import plot_exp_rpkm, gene_list_bar_plot"
   ]
  },
  {
   "cell_type": "code",
   "execution_count": 2,
   "metadata": {},
   "outputs": [],
   "source": [
    "workingDirectory = '/home/h1bennet/strains_rna/results/A10_Manuscript_Figures_AllLiverCells//'\n",
    "lpsDirectory = '/home/h1bennet/strains/data/RNA/LPS_2h_kupffer_cohort2/'\n",
    "controlDirectory = '/home/h1bennet/strains/data/RNA/control_kupffer/'\n",
    "if not os.path.isdir(workingDirectory):\n",
    "    os.mkdir(workingDirectory)\n",
    "os.chdir(workingDirectory)\n"
   ]
  },
  {
   "cell_type": "code",
   "execution_count": 3,
   "metadata": {},
   "outputs": [],
   "source": [
    "#### PLOTTING PARAMETERS FOR MANUSCRIPT ####\n",
    "# # get matplotlib to save readable fonts\n",
    "matplotlib.rcParams['pdf.fonttype'] = 42\n",
    "matplotlib.rcParams['ps.fonttype'] = 42\n",
    "matplotlib.rcParams['font.size'] = 6\n",
    "matplotlib.rcParams['savefig.dpi'] = 500\n",
    "\n",
    "\n",
    "# line widths\n",
    "matplotlib.rcParams['axes.linewidth'] = 1\n",
    "matplotlib.rcParams['xtick.major.width'] = 1\n",
    "matplotlib.rcParams['ytick.major.width'] = 1\n",
    "\n",
    "# adjust defualt color for plots to black\n",
    "# normal default is a dark gray\n",
    "COLOR = 'black'\n",
    "matplotlib.rcParams['text.color'] = COLOR\n",
    "matplotlib.rcParams['axes.labelcolor'] = COLOR\n",
    "matplotlib.rcParams['xtick.color'] = COLOR\n",
    "matplotlib.rcParams['ytick.color'] = COLOR\n",
    "matplotlib.rcParams['axes.edgecolor'] = COLOR\n",
    "\n",
    "#### PLOT PARAMETERS FOR THIS PLOT ####"
   ]
  },
  {
   "cell_type": "markdown",
   "metadata": {},
   "source": [
    "Make folder for figures"
   ]
  },
  {
   "cell_type": "code",
   "execution_count": 4,
   "metadata": {},
   "outputs": [],
   "source": [
    "if not os.path.isdir('./lps_treatment/'):\n",
    "    os.mkdir('./lps_treatment/')"
   ]
  },
  {
   "cell_type": "markdown",
   "metadata": {},
   "source": [
    "Plot our own version of scatter"
   ]
  },
  {
   "cell_type": "code",
   "execution_count": 7,
   "metadata": {},
   "outputs": [],
   "source": [
    "comps = ['balbc_kupffer_control.vs.balbc_kupffer_lps_2hours.scatter.homer.txt']\n",
    "\n",
    "ids = [['BALB.*Kupffer', 'balb.*lp']]\n",
    "\n",
    "labels = [['Control\\nLog2(TPM+1)', 'LPS 2hours\\nLog2(TPM+1)']]\n",
    "\n",
    "colors = [['#bdbdbd', '#08519c']]\n",
    "\n",
    "# set plotting thresholds\n",
    "pthresh = 0.05\n",
    "fontsize=8\n",
    "labelsize=6\n",
    "lfcthresh = (np.log2(2),2)\n",
    "dotsize = 1\n",
    "ax_max = 16\n",
    "n_yticks = 5\n",
    "ytickstep = 3\n",
    "color = '#636363'\n",
    "filename='lps_treatment_combined_scatter.pdf'"
   ]
  },
  {
   "cell_type": "code",
   "execution_count": 8,
   "metadata": {},
   "outputs": [
    {
     "name": "stdout",
     "output_type": "stream",
     "text": [
      "balbc_kupffer_control.vs.balbc_kupffer_lps_2hours.scatter.homer.txt\n",
      "ge all transcripts (24940, 14)\n",
      "Diff Gene selected transcripts (9132, 14)\n",
      "ge selected transcripts (9132, 14)\n",
      "6272 peaks\n",
      "1452 genes up in group 1\n",
      "1408 genes up in group 2\n"
     ]
    },
    {
     "data": {
      "image/png": "[encoded data removed]",
      "text/plain": [
       "<Figure size 144x144 with 1 Axes>"
      ]
     },
     "metadata": {
      "needs_background": "light"
     },
     "output_type": "display_data"
    }
   ],
   "source": [
    "fig, ax = plt.subplots(1,1,\n",
    "                        figsize=(2,2),\n",
    "                        sharex=True,\n",
    "                        sharey=True)\n",
    "plt.subplots_adjust(wspace=0.2,\n",
    "                    hspace=0.2)\n",
    "\n",
    "# set count for labeling axes\n",
    "count=0\n",
    "\n",
    "for comp, grep, labs, color in zip(comps, ids, labels, colors):\n",
    "    print(comp)\n",
    "    de, tpm, tpm_mat, tpm_mat_quant = import_homer_diffgene(\n",
    "        '../K07_Strains_LPS2htoControl/differential/'+comp,\n",
    "        '../K07_Strains_LPS2htoControl/expression/HOMER.rawTPM.txt',\n",
    "        gene_name_index=True)\n",
    "    \n",
    "    # extract columns\n",
    "    g0 = tpm_mat.columns.str.contains(grep[0])\n",
    "    g1 = tpm_mat.columns.str.contains(grep[1])\n",
    "    col = g0 | g1\n",
    "    \n",
    "    de['logtpm'] = np.log2(tpm_mat.loc[:, col].mean(1)+1)\n",
    "    de['log10p'] = -np.log10(de.padj + 10**(-50))\n",
    "    de['g0_mean'] = np.log2(tpm_mat.loc[:, g0].mean(1)+1)\n",
    "    de['g1_mean'] = np.log2(tpm_mat.loc[:, g1].mean(1)+1)\n",
    "       \n",
    "    # plot group by group scatter:\n",
    "    de_nonsig = de.reindex(de.index[((de.padj >= pthresh) | (np.abs(de.log2FoldChange) <= lfcthresh[0]))])\n",
    "    de_sig_fc1 = de.reindex(de.index[(de.padj < pthresh) & (np.abs(de.log2FoldChange) >= lfcthresh[0])])\n",
    "    \n",
    "    # check number of peaks in each group\n",
    "    print(de_nonsig.shape[0], 'peaks')\n",
    "    print((de_sig_fc1.log2FoldChange > lfcthresh[0]).sum(), 'genes up in group 1')\n",
    "    print((de_sig_fc1.log2FoldChange < -lfcthresh[0]).sum(), 'genes up in group 2')\n",
    "    \n",
    "    for df, c in zip([de_nonsig, de_sig_fc1],\n",
    "                     color):\n",
    "        ax.scatter(\n",
    "            x=df.g0_mean,\n",
    "            y=df.g1_mean,\n",
    "            c=c,\n",
    "            s=dotsize,\n",
    "            rasterized=True\n",
    "        )\n",
    "     \n",
    "    # Hide the right and top spines\n",
    "    ax.spines['right'].set_visible(False)\n",
    "    ax.spines['top'].set_visible(False)\n",
    "    \n",
    "\n",
    "    ax.set_xlabel(labs[0], fontsize=labelsize+2)\n",
    "    ax.set_ylabel(labs[1], fontsize=labelsize+2)\n",
    "    \n",
    "    #set max and min\n",
    "    ax.set_xlim([0,ax_max])\n",
    "    ax.set_ylim([0,ax_max])\n",
    "    \n",
    "    # set ticks\n",
    "    ax.set_xticks(np.arange(0,ax_max,ytickstep))\n",
    "    ax.set_xticklabels(np.arange(0,ax_max,ytickstep),\n",
    "                       fontdict={'fontsize':labelsize})\n",
    "    ax.set_yticks(np.arange(0,ax_max,ytickstep))\n",
    "    ax.set_yticklabels(np.arange(0,ax_max,ytickstep),\n",
    "                       fontdict={'fontsize':labelsize})\n",
    "    \n",
    "    count = count + 1\n",
    "plt.savefig('./lps_treatment/'+filename, bbox_inches='tight')"
   ]
  },
  {
   "cell_type": "markdown",
   "metadata": {},
   "source": [
    "## Write differential genes to list for metascape"
   ]
  },
  {
   "cell_type": "code",
   "execution_count": 16,
   "metadata": {},
   "outputs": [],
   "source": [
    "if not os.path.isdir('./gene_lists/'):\n",
    "    os.mkdir('./gene_lists')"
   ]
  },
  {
   "cell_type": "code",
   "execution_count": 17,
   "metadata": {},
   "outputs": [],
   "source": [
    "log2fc = np.log2(2)\n",
    "pval = 0.05\n",
    "gene_list_dict ={}"
   ]
  },
  {
   "cell_type": "code",
   "execution_count": 18,
   "metadata": {
    "scrolled": false
   },
   "outputs": [
    {
     "name": "stdout",
     "output_type": "stream",
     "text": [
      "./differential/balbc_kupffer_control.vs.balbc_kupffer_lps_2hours.scatter.homer.txt\n",
      "ge all transcripts (24940, 14)\n",
      "Diff Gene selected transcripts (9132, 14)\n",
      "ge selected transcripts (9132, 14)\n",
      "./differential/balbc_kupffer_lps_2hours.vs.balbc_kupffer_control.scatter.homer.txt\n",
      "ge all transcripts (24940, 14)\n",
      "Diff Gene selected transcripts (9132, 14)\n",
      "ge selected transcripts (9132, 14)\n"
     ]
    }
   ],
   "source": [
    "for i in np.sort(glob.glob('./differential/c57*c57*homer.txt')):\n",
    "    print(i)\n",
    "    # read in gene expression data\n",
    "    df, tpm, tpm_mat, tpm_mat_quant = import_homer_diffgene(\n",
    "        depath=i,\n",
    "        gepath='./expression/HOMER.rawTPM.txt',\n",
    "        gene_name_index=True)\n",
    "\n",
    "    # select differential genes\n",
    "    df = df.loc[~(df.chr.str.contains('chrX|chrY|ChrUn')), :]\n",
    "    sig_genes = df.index[(df['padj'] < pval) & (df['log2FoldChange'] >= log2fc)].to_list()\n",
    "    gene_list_dict[i.split('.')[3]+'_up'] = list(sig_genes)\n",
    "    # print('union set length:', print(len(g_union)))\n",
    "    # print('intersection set length:', print(len(g_intersect)))\n",
    "\n",
    "for i in np.sort(glob.glob('./differential/balb*balb*homer.txt')):\n",
    "    print(i)\n",
    "    # read in gene expression data\n",
    "    df, tpm, tpm_mat, tpm_mat_quant = import_homer_diffgene(\n",
    "        depath=i,\n",
    "        gepath='./expression/HOMER.rawTPM.txt',\n",
    "        gene_name_index=True)\n",
    "\n",
    "    # select differential genes\n",
    "    df = df.loc[~(df.chr.str.contains('chrX|chrY|ChrUn')), :]\n",
    "    sig_genes = df.index[(df['padj'] < pval) & (df['log2FoldChange'] >= log2fc)].to_list()\n",
    "    gene_list_dict[i.split('.')[3]+'_up'] = list(sig_genes)\n",
    "    # print('union set length:', print(len(g_union)))\n",
    "    # print('intersection set length:', print(len(g_intersect)))\n",
    "    \n",
    "for i in np.sort(glob.glob('./differential/aj*aj*homer.txt')):\n",
    "    print(i)\n",
    "    # read in gene expression data\n",
    "    df, tpm, tpm_mat, tpm_mat_quant = import_homer_diffgene(\n",
    "        depath=i,\n",
    "        gepath='./expression/HOMER.rawTPM.txt',\n",
    "        gene_name_index=True)\n",
    "\n",
    "    # select differential genes\n",
    "    df = df.loc[~(df.chr.str.contains('chrX|chrY|ChrUn')), :]\n",
    "    sig_genes = df.index[(df['padj'] < pval) & (df['log2FoldChange'] >= log2fc)].to_list()\n",
    "    gene_list_dict[i.split('.')[3]+'_up'] = list(sig_genes)\n",
    "    # print('union set length:', print(len(g_union)))\n",
    "    # print('intersection set length:', print(len(g_intersect)))"
   ]
  },
  {
   "cell_type": "code",
   "execution_count": 19,
   "metadata": {},
   "outputs": [
    {
     "name": "stdout",
     "output_type": "stream",
     "text": [
      "balbc_kupffer_lps_2hours_up\n",
      "1407 genes\n",
      "balbc_kupffer_control_up\n",
      "1381 genes\n"
     ]
    }
   ],
   "source": [
    "for key in gene_list_dict.keys():\n",
    "    print(key)\n",
    "    print(len(gene_list_dict[key]), 'genes')\n",
    "    with open('./gene_lists/'+key+'_kupffer_genes_fc_%.2f_pval_%.2f_.txt' % (log2fc, pval), 'w') as f:\n",
    "        f.write('Gene\\n')\n",
    "        for i in gene_list_dict[key]:\n",
    "            f.write(i+'\\n')\n",
    "        f.close()"
   ]
  },
  {
   "cell_type": "code",
   "execution_count": null,
   "metadata": {},
   "outputs": [],
   "source": []
  }
 ],
 "metadata": {
  "kernelspec": {
   "display_name": "dataviz",
   "language": "python",
   "name": "dataviz"
  },
  "language_info": {
   "codemirror_mode": {
    "name": "ipython",
    "version": 3
   },
   "file_extension": ".py",
   "mimetype": "text/x-python",
   "name": "python",
   "nbconvert_exporter": "python",
   "pygments_lexer": "ipython3",
   "version": "3.7.5"
  }
 },
 "nbformat": 4,
 "nbformat_minor": 2
}
