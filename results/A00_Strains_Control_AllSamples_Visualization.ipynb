{
 "cells": [
  {
   "cell_type": "code",
   "execution_count": 1,
   "id": "organizational-special",
   "metadata": {},
   "outputs": [],
   "source": [
    "### header ###\n",
    "__author__ = \"Hunter Bennett\"\n",
    "__license__ = \"BSD\"\n",
    "__email__ = \"hunter.r.bennett@gmail.com\"\n",
    "%load_ext autoreload\n",
    "%autoreload 2\n",
    "%matplotlib inline\n",
    "### imports ###\n",
    "import sys\n",
    "import os\n",
    "import re\n",
    "import glob\n",
    "import pandas as pd\n",
    "import numpy as np\n",
    "import matplotlib\n",
    "import matplotlib.pyplot as plt\n",
    "from matplotlib.patches import Patch\n",
    "import seaborn as sns\n",
    "\n",
    "# import custom functions\n",
    "sys.path.insert(0, '/home/h1bennet/code/')\n",
    "from homer_preprocessing import import_homer_diffgene, read_homer_gene_exp\n",
    "from plotting_scripts import plot_exp_rpkm, gene_list_bar_plot"
   ]
  },
  {
   "cell_type": "markdown",
   "id": "local-nirvana",
   "metadata": {},
   "source": [
    "Goal is easy visualization of gene expression across hepatic cell types."
   ]
  },
  {
   "cell_type": "code",
   "execution_count": 2,
   "id": "funny-portal",
   "metadata": {},
   "outputs": [],
   "source": [
    "tpm = pd.read_csv(\n",
    "    '/gpfs/data01/glasslab/home/h1bennet/strains_rna/results/A00_Strains_Control_WholeLiver_RNA/expression/rawT.txt',\n",
    "    index_col=0,\n",
    "    sep='\\t')"
   ]
  },
  {
   "cell_type": "code",
   "execution_count": 3,
   "id": "signal-gossip",
   "metadata": {},
   "outputs": [],
   "source": [
    "# Kupffer\n",
    "kc_groups = [[0,1],\n",
    "             [2,3],\n",
    "             [4,5]]\n",
    "\n",
    "kc_group_labels = ['C57BL/6J Kupffer Control young',\n",
    "                   'Balb/cJ Kupffer Control young',\n",
    "                   'AJ Kupffer Control young']\n",
    "\n",
    "kc_colors = ['#74c476', '#6baed6', '#de2d26']\n",
    "\n",
    "# Hepatocyte\n",
    "hep_groups = [[6,7,8],\n",
    "              [9,10],\n",
    "              [11,12]]\n",
    "\n",
    "hep_group_labels = ['C57BL/6J Hepatocyte Control young',\n",
    "                    'Balb/cJ Hepatocyte Control young',\n",
    "                    'AJ Hepatocyte Control young']\n",
    "\n",
    "hep_colors = ['#74c476', '#6baed6', '#de2d26']\n",
    "\n",
    "# LSEC\n",
    "lsec_groups = [[13,14,15,16],\n",
    "               [17,18,19,20],\n",
    "               [21,22,23,24]]\n",
    "\n",
    "lsec_group_labels = ['C57BL/6J LSEC Control young',\n",
    "                     'Balb/cJ LSEC Control young',\n",
    "                     'AJ LSEC Control young']\n",
    "\n",
    "lsec_colors = ['#74c476', '#6baed6', '#de2d26']\n",
    "\n",
    "# Stellate\n",
    "stel_groups = [[25,26,27],\n",
    "               [28,29,30,31],\n",
    "               [32,33,34,35]]\n",
    "\n",
    "stel_group_labels = ['C57BL/6J Stellate Control young',\n",
    "                     'Balb/cJ Stellate Control young',\n",
    "                     'AJ Stellate Control young',]\n",
    "\n",
    "stel_colors = ['#74c476', '#de2d26', '#6baed6']"
   ]
  },
  {
   "cell_type": "markdown",
   "id": "rolled-detection",
   "metadata": {},
   "source": [
    "Make legend"
   ]
  },
  {
   "cell_type": "code",
   "execution_count": 4,
   "id": "executive-stationery",
   "metadata": {},
   "outputs": [],
   "source": [
    "strain_labels = ['C57BL6/J', 'BALB/cJ', 'AJ']\n",
    "strain_colors = ['#74c476', '#6baed6', '#de2d26']"
   ]
  },
  {
   "cell_type": "code",
   "execution_count": 5,
   "id": "roman-yield",
   "metadata": {},
   "outputs": [],
   "source": [
    "legend_elements = []\n",
    "for lab, col in  zip(strain_labels, strain_colors):\n",
    "    legend_elements.append(Patch(label=lab, color=col))"
   ]
  },
  {
   "cell_type": "code",
   "execution_count": 6,
   "id": "after-subcommittee",
   "metadata": {},
   "outputs": [
    {
     "data": {
      "image/png": "[encoded data removed]",
      "text/plain": [
       "<Figure size 936x216 with 5 Axes>"
      ]
     },
     "metadata": {
      "needs_background": "light"
     },
     "output_type": "display_data"
    }
   ],
   "source": [
    "gene = 'Il15'\n",
    "\n",
    "fig, axs = plt.subplots(1, 5,\n",
    "                       figsize=(13, 3),\n",
    "                       sharey=True)\n",
    "plt.subplots_adjust(wspace=0.2)\n",
    "\n",
    "for group, label, color, ax in zip([kc_groups,lsec_groups,stel_groups,hep_groups],\n",
    "                                   [kc_group_labels,lsec_group_labels,stel_group_labels,hep_group_labels],\n",
    "                                   [kc_colors,lsec_colors,stel_colors,hep_colors],\n",
    "                                   axs.flatten()[:4]):\n",
    "\n",
    "    gene_list_bar_plot([gene],\n",
    "                       tpm,\n",
    "                       groups=group,\n",
    "                       group_labels = label,\n",
    "                       colors = color,\n",
    "                       width=0.2, \n",
    "                       ax=ax)\n",
    "    ax.set_title(label[0].split(' ')[1])\n",
    "\n",
    "    ax.get_legend().remove()\n",
    "\n",
    "axs[4].legend(handles=legend_elements, loc='center');\n",
    "axs[4].spines['top'].set_visible(False);\n",
    "axs[4].spines['right'].set_visible(False);\n",
    "axs[4].spines['left'].set_visible(False);\n",
    "axs[4].spines['bottom'].set_visible(False);\n",
    "axs[4].set_xticklabels('');\n",
    "# axs[4].set_yticklabels('')"
   ]
  },
  {
   "cell_type": "code",
   "execution_count": null,
   "id": "announced-questionnaire",
   "metadata": {},
   "outputs": [],
   "source": []
  }
 ],
 "metadata": {
  "kernelspec": {
   "display_name": "dataviz",
   "language": "python",
   "name": "dataviz"
  },
  "language_info": {
   "codemirror_mode": {
    "name": "ipython",
    "version": 3
   },
   "file_extension": ".py",
   "mimetype": "text/x-python",
   "name": "python",
   "nbconvert_exporter": "python",
   "pygments_lexer": "ipython3",
   "version": "3.7.5"
  }
 },
 "nbformat": 4,
 "nbformat_minor": 5
}
