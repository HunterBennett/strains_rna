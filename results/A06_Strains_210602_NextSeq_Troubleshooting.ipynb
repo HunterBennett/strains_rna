{
 "cells": [
  {
   "cell_type": "code",
   "execution_count": 2,
   "metadata": {},
   "outputs": [],
   "source": [
    "### header ###\n",
    "__author__ = \"Hunter Bennett\"\n",
    "__license__ = \"BSD\"\n",
    "__email__ = \"hunter.r.bennett@gmail.com\"\n",
    "%load_ext autoreload\n",
    "%autoreload 2\n",
    "%matplotlib inline\n",
    "### imports ###\n",
    "import sys\n",
    "import os\n",
    "import re\n",
    "import glob\n",
    "import pandas as pd\n",
    "import numpy as np\n",
    "import matplotlib\n",
    "import matplotlib.pyplot as plt \n",
    "import seaborn as sns\n",
    "\n",
    "matplotlib.rcParams['savefig.dpi'] = 200\n",
    "sys.setrecursionlimit(3000)\n",
    "sns.set(font_scale=1)\n",
    "sns.set_context('talk')\n",
    "sns.set_style('white')\n",
    "\n",
    "# import custom functions\n",
    "sys.path.insert(0, '/home/h1bennet/code/')\n",
    "from hbUtils import ngs_qc, quantile_normalize_df\n",
    "from homer_preprocessing import read_homer_gene_exp, import_homer_diffgene, pull_comparisons_get_diff\n",
    "from plotting_scripts import label_point, pca_rpkm_mat, get_diff_volcano, plot_exp_rpkm, gene_list_bar_plot"
   ]
  },
  {
   "cell_type": "code",
   "execution_count": 3,
   "metadata": {},
   "outputs": [],
   "source": [
    "workingDirectory = '/home/h1bennet/strains_rna/results/A06_Strains_210602_NextSeq_Troubleshooting/'\n",
    "controlDirectory = '/home/h1bennet/strains/data/RNA/control_kupffer/'\n",
    "leptinDirectory = '/home/h1bennet/strains/data/RNA/leptin_6h_strains_kupffer/'\n",
    "leptinLSECDirectory = '/home/h1bennet/strains/data/RNA/leptin_6h_strains_lsec/'\n",
    "lpsDirectory = '/home/h1bennet/strains/data/RNA/LPS_2h_kupffer_cohort2/'\n",
    "if not os.path.isdir(workingDirectory):\n",
    "    os.mkdir(workingDirectory)\n",
    "os.chdir(workingDirectory)\n"
   ]
  },
  {
   "cell_type": "markdown",
   "metadata": {},
   "source": [
    "# Check qc stats"
   ]
  },
  {
   "cell_type": "markdown",
   "metadata": {},
   "source": [
    "# Run Oyoung's pipeline to process RNA-seq data consistantly."
   ]
  },
  {
   "cell_type": "code",
   "execution_count": 6,
   "metadata": {},
   "outputs": [],
   "source": [
    "c57_control_paths = list(np.sort(glob.glob(controlDirectory+'/C57*')))\n",
    "balbc_control_paths = list(np.sort(glob.glob(controlDirectory+'/BALB*')))\n",
    "aj_control_paths = list(np.sort(glob.glob(controlDirectory+'/AJ*')))\n",
    "\n",
    "c57_control_ids = [i.split('/')[-1].split('_')[3] for i in c57_control_paths]\n",
    "balbc_control_ids = [i.split('/')[-1].split('_')[3] for i in balbc_control_paths]\n",
    "aj_control_ids = [i.split('/')[-1].split('_')[3] for i in aj_control_paths]"
   ]
  },
  {
   "cell_type": "code",
   "execution_count": 7,
   "metadata": {},
   "outputs": [],
   "source": [
    "c57_leptin_paths = list(np.sort(glob.glob(leptinDirectory+'/c57*')))\n",
    "balbc_leptin_paths = list(np.sort(glob.glob(leptinDirectory+'/balb*')))\n",
    "aj_leptin_paths = list(np.sort(glob.glob(leptinDirectory+'/aj*')))\n",
    "\n",
    "c57_leptin_ids = [i.split('/')[-1].split('_')[7] for i in c57_leptin_paths]\n",
    "balbc_leptin_ids = [i.split('/')[-1].split('_')[7] for i in balbc_leptin_paths]\n",
    "aj_leptin_ids = [i.split('/')[-1].split('_')[7] for i in aj_leptin_paths]"
   ]
  },
  {
   "cell_type": "code",
   "execution_count": 28,
   "metadata": {},
   "outputs": [],
   "source": [
    "c57_leptinLSEC_paths = list(np.sort(glob.glob(leptinLSECDirectory+'/c57*')))\n",
    "balbc_leptinLSEC_paths = list(np.sort(glob.glob(leptinLSECDirectory+'/balb*')))\n",
    "aj_leptinLSEC_paths = list(np.sort(glob.glob(leptinLSECDirectory+'/aj*')))\n",
    "\n",
    "c57_leptinLSEC_ids = [i.split('/')[-1].split('_')[7] for i in c57_leptinLSEC_paths]\n",
    "balbc_leptinLSEC_ids = [i.split('/')[-1].split('_')[7] for i in balbc_leptinLSEC_paths]\n",
    "aj_leptinLSEC_ids = [i.split('/')[-1].split('_')[7] for i in aj_leptinLSEC_paths]"
   ]
  },
  {
   "cell_type": "code",
   "execution_count": 29,
   "metadata": {},
   "outputs": [],
   "source": [
    "c57_lps_paths = list(np.sort(glob.glob(lpsDirectory+'/c57*')))\n",
    "balbc_lps_paths = list(np.sort(glob.glob(lpsDirectory+'/balb*')))\n",
    "# aj_lps_paths = list(np.sort(glob.glob(lpsDirectory+'/AJ*')))\n",
    "\n",
    "c57_lps_ids = [i.split('/')[-1].split('_')[7] for i in c57_lps_paths]\n",
    "balbc_lps_ids = [i.split('/')[-1].split('_')[7] for i in balbc_lps_paths]\n",
    "# aj_lps_ids = [i.split('/')[-1].split('_')[4] for i in aj_lps_paths]"
   ]
  },
  {
   "cell_type": "code",
   "execution_count": 30,
   "metadata": {},
   "outputs": [],
   "source": [
    "ids = ['c57_kupffer_control_young',\n",
    "       'balbc_kupffer_control_young',\n",
    "       'aj_kupffer_control_young',\n",
    "       'c57_kupffer_leptin_6h',\n",
    "       'balbc_kupffer_leptin_6h',\n",
    "       'aj_kupffer_leptin_6h',\n",
    "       'c57_lsec_leptin_6h',\n",
    "       'balbc_lsec_leptin_6h',\n",
    "       'aj_lsec_leptin_6h',\n",
    "       'c57_kupffer_lps_2h',\n",
    "       'balbc_kupffer_lps_2h']\n",
    "       \n",
    "colors = ['#31a354',\n",
    "          '#3182bd',\n",
    "          '#de2d26',\n",
    "          '#31a354',\n",
    "          '#3182bd',\n",
    "          '#de2d26',\n",
    "          '#31a354',\n",
    "          '#3182bd',\n",
    "          '#de2d26',\n",
    "          '#31a354',\n",
    "          '#3182bd']\n",
    "       \n",
    "paths = [';'.join(c57_control_paths),\n",
    "         ';'.join(balbc_control_paths),\n",
    "         ';'.join(aj_control_paths),\n",
    "         ';'.join(c57_leptin_paths),\n",
    "         ';'.join(balbc_leptin_paths),\n",
    "         ';'.join(aj_leptin_paths),\n",
    "         ';'.join(c57_leptinLSEC_paths),\n",
    "         ';'.join(balbc_leptinLSEC_paths),\n",
    "         ';'.join(aj_leptinLSEC_paths),\n",
    "         ';'.join(c57_lps_paths),\n",
    "         ';'.join(balbc_lps_paths)]\n",
    "       \n",
    "short_ids = [';'.join(c57_control_ids),\n",
    "             ';'.join(balbc_control_ids),\n",
    "             ';'.join(aj_control_ids),\n",
    "             ';'.join(c57_leptin_ids),\n",
    "             ';'.join(balbc_leptin_ids),\n",
    "             ';'.join(aj_leptin_ids),\n",
    "             ';'.join(c57_leptinLSEC_ids),\n",
    "             ';'.join(balbc_leptinLSEC_ids),\n",
    "             ';'.join(aj_leptinLSEC_ids),\n",
    "             ';'.join(c57_lps_ids),\n",
    "             ';'.join(balbc_lps_ids)]"
   ]
  },
  {
   "cell_type": "code",
   "execution_count": 31,
   "metadata": {},
   "outputs": [
    {
     "name": "stdout",
     "output_type": "stream",
     "text": [
      "[1, 1, 1, 1, 2, 1, 1, 1, 1, 0, 1]\n",
      "[1, 1, 1, 1, 2, 1, 1, 1, 1, 0, 1]\n"
     ]
    }
   ],
   "source": [
    "print([i.count(';') for i in paths])\n",
    "print([i.count(';') for i in short_ids])"
   ]
  },
  {
   "cell_type": "code",
   "execution_count": 32,
   "metadata": {},
   "outputs": [
    {
     "data": {
      "text/html": [
       "<div>\n",
       "<style scoped>\n",
       "    .dataframe tbody tr th:only-of-type {\n",
       "        vertical-align: middle;\n",
       "    }\n",
       "\n",
       "    .dataframe tbody tr th {\n",
       "        vertical-align: top;\n",
       "    }\n",
       "\n",
       "    .dataframe thead th {\n",
       "        text-align: right;\n",
       "    }\n",
       "</style>\n",
       "<table border=\"1\" class=\"dataframe\">\n",
       "  <thead>\n",
       "    <tr style=\"text-align: right;\">\n",
       "      <th></th>\n",
       "      <th>0</th>\n",
       "      <th>1</th>\n",
       "      <th>2</th>\n",
       "      <th>3</th>\n",
       "    </tr>\n",
       "  </thead>\n",
       "  <tbody>\n",
       "    <tr>\n",
       "      <th>0</th>\n",
       "      <td>c57_kupffer_control_young</td>\n",
       "      <td>#31a354</td>\n",
       "      <td>/home/h1bennet/strains/data/RNA/control_kupffe...</td>\n",
       "      <td>C5701C;C5701D</td>\n",
       "    </tr>\n",
       "    <tr>\n",
       "      <th>1</th>\n",
       "      <td>balbc_kupffer_control_young</td>\n",
       "      <td>#3182bd</td>\n",
       "      <td>/home/h1bennet/strains/data/RNA/control_kupffe...</td>\n",
       "      <td>BALB01C;BALB01D</td>\n",
       "    </tr>\n",
       "    <tr>\n",
       "      <th>2</th>\n",
       "      <td>aj_kupffer_control_young</td>\n",
       "      <td>#de2d26</td>\n",
       "      <td>/home/h1bennet/strains/data/RNA/control_kupffe...</td>\n",
       "      <td>AJ01C;AJ01D</td>\n",
       "    </tr>\n",
       "    <tr>\n",
       "      <th>3</th>\n",
       "      <td>c57_kupffer_leptin_6h</td>\n",
       "      <td>#31a354</td>\n",
       "      <td>/home/h1bennet/strains/data/RNA/leptin_6h_stra...</td>\n",
       "      <td>rep1;rep2</td>\n",
       "    </tr>\n",
       "    <tr>\n",
       "      <th>4</th>\n",
       "      <td>balbc_kupffer_leptin_6h</td>\n",
       "      <td>#3182bd</td>\n",
       "      <td>/home/h1bennet/strains/data/RNA/leptin_6h_stra...</td>\n",
       "      <td>rep1;rep2;rep3</td>\n",
       "    </tr>\n",
       "    <tr>\n",
       "      <th>5</th>\n",
       "      <td>aj_kupffer_leptin_6h</td>\n",
       "      <td>#de2d26</td>\n",
       "      <td>/home/h1bennet/strains/data/RNA/leptin_6h_stra...</td>\n",
       "      <td>rep1;rep2</td>\n",
       "    </tr>\n",
       "    <tr>\n",
       "      <th>6</th>\n",
       "      <td>c57_lsec_leptin_6h</td>\n",
       "      <td>#31a354</td>\n",
       "      <td>/home/h1bennet/strains/data/RNA/leptin_6h_stra...</td>\n",
       "      <td>rep1;rep2</td>\n",
       "    </tr>\n",
       "    <tr>\n",
       "      <th>7</th>\n",
       "      <td>balbc_lsec_leptin_6h</td>\n",
       "      <td>#3182bd</td>\n",
       "      <td>/home/h1bennet/strains/data/RNA/leptin_6h_stra...</td>\n",
       "      <td>rep1;rep2</td>\n",
       "    </tr>\n",
       "    <tr>\n",
       "      <th>8</th>\n",
       "      <td>aj_lsec_leptin_6h</td>\n",
       "      <td>#de2d26</td>\n",
       "      <td>/home/h1bennet/strains/data/RNA/leptin_6h_stra...</td>\n",
       "      <td>rep1;rep2</td>\n",
       "    </tr>\n",
       "    <tr>\n",
       "      <th>9</th>\n",
       "      <td>c57_kupffer_lps_2h</td>\n",
       "      <td>#31a354</td>\n",
       "      <td>/home/h1bennet/strains/data/RNA/LPS_2h_kupffer...</td>\n",
       "      <td>2A</td>\n",
       "    </tr>\n",
       "    <tr>\n",
       "      <th>10</th>\n",
       "      <td>balbc_kupffer_lps_2h</td>\n",
       "      <td>#3182bd</td>\n",
       "      <td>/home/h1bennet/strains/data/RNA/LPS_2h_kupffer...</td>\n",
       "      <td>1A;1B</td>\n",
       "    </tr>\n",
       "  </tbody>\n",
       "</table>\n",
       "</div>"
      ],
      "text/plain": [
       "                              0        1  \\\n",
       "0     c57_kupffer_control_young  #31a354   \n",
       "1   balbc_kupffer_control_young  #3182bd   \n",
       "2      aj_kupffer_control_young  #de2d26   \n",
       "3         c57_kupffer_leptin_6h  #31a354   \n",
       "4       balbc_kupffer_leptin_6h  #3182bd   \n",
       "5          aj_kupffer_leptin_6h  #de2d26   \n",
       "6            c57_lsec_leptin_6h  #31a354   \n",
       "7          balbc_lsec_leptin_6h  #3182bd   \n",
       "8             aj_lsec_leptin_6h  #de2d26   \n",
       "9            c57_kupffer_lps_2h  #31a354   \n",
       "10         balbc_kupffer_lps_2h  #3182bd   \n",
       "\n",
       "                                                    2                3  \n",
       "0   /home/h1bennet/strains/data/RNA/control_kupffe...    C5701C;C5701D  \n",
       "1   /home/h1bennet/strains/data/RNA/control_kupffe...  BALB01C;BALB01D  \n",
       "2   /home/h1bennet/strains/data/RNA/control_kupffe...      AJ01C;AJ01D  \n",
       "3   /home/h1bennet/strains/data/RNA/leptin_6h_stra...        rep1;rep2  \n",
       "4   /home/h1bennet/strains/data/RNA/leptin_6h_stra...   rep1;rep2;rep3  \n",
       "5   /home/h1bennet/strains/data/RNA/leptin_6h_stra...        rep1;rep2  \n",
       "6   /home/h1bennet/strains/data/RNA/leptin_6h_stra...        rep1;rep2  \n",
       "7   /home/h1bennet/strains/data/RNA/leptin_6h_stra...        rep1;rep2  \n",
       "8   /home/h1bennet/strains/data/RNA/leptin_6h_stra...        rep1;rep2  \n",
       "9   /home/h1bennet/strains/data/RNA/LPS_2h_kupffer...               2A  \n",
       "10  /home/h1bennet/strains/data/RNA/LPS_2h_kupffer...            1A;1B  "
      ]
     },
     "execution_count": 32,
     "metadata": {},
     "output_type": "execute_result"
    }
   ],
   "source": [
    "pd.DataFrame([ids,colors,paths,short_ids]).T"
   ]
  },
  {
   "cell_type": "code",
   "execution_count": 33,
   "metadata": {},
   "outputs": [],
   "source": [
    "pd.DataFrame([ids,colors,paths,short_ids]).T.to_csv('./sampleDef.txt',\n",
    "                                                    sep='\\t',\n",
    "                                                    header=False,\n",
    "                                                    index=False)"
   ]
  },
  {
   "cell_type": "markdown",
   "metadata": {},
   "source": [
    "# Run O'young RNA pipeline"
   ]
  },
  {
   "cell_type": "markdown",
   "metadata": {},
   "source": [
    "Run the code below in BASH\n",
    "\n",
    "    source activate r-ouyangPipe\n",
    "    \n",
    "    mkdir ./expression/\n",
    "    \n",
    "    mkdir ./differential/\n",
    "    \n",
    "    alignStats.R ./sampleDef.txt > qcStats.txt\n",
    "    \n",
    "    rnaQuan.R ./sampleDef.txt -o ./expression/\n",
    "    \n",
    "    rnaDiff.R ./sampleDef.txt -c ./expression/rawC.txt \\\n",
    "    -t ./expression/rawT.txt -o ./differential/\n",
    "    \n",
    "    #remove files comparing across cell types\n",
    "    rm ./differential/*kupffer*lsec*\n",
    "    rm ./differential/*kupffer*hepatocyte*\n",
    "    rm ./differential/*kupffer*stellate*\n",
    "    rm ./differential/*lsec*kupffer*\n",
    "    rm ./differential/*lsec*hepatocyte*\n",
    "    rm ./differential/*lsec*stellate*\n",
    "    rm ./differential/*stellate*kupffer*\n",
    "    rm ./differential/*stellate*lsec*\n",
    "    rm ./differential/*stellate*hepatocyte*\n",
    "    rm ./differential/*hepatocyte*kupffer*\n",
    "    rm ./differential/*hepatocyte*lsec*\n",
    "    rm ./differential/*hepatocyte*stellate*\n",
    "    \n",
    "    # annotate scatter files with tag counts\n",
    "    for scatter in ./differential/*scatter.txt;\n",
    "    do diff2Homer.R -d $scatter -q ./expression/HOMER.rawTPM.txt;\n",
    "    done"
   ]
  },
  {
   "cell_type": "markdown",
   "metadata": {},
   "source": [
    "### Make sure to check the PCA pdf file for outliers"
   ]
  }
 ],
 "metadata": {
  "kernelspec": {
   "display_name": "dataviz",
   "language": "python",
   "name": "dataviz"
  },
  "language_info": {
   "codemirror_mode": {
    "name": "ipython",
    "version": 3
   },
   "file_extension": ".py",
   "mimetype": "text/x-python",
   "name": "python",
   "nbconvert_exporter": "python",
   "pygments_lexer": "ipython3",
   "version": "3.7.5"
  }
 },
 "nbformat": 4,
 "nbformat_minor": 2
}
