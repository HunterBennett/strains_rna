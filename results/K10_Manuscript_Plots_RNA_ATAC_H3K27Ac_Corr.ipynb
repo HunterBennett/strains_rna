{
 "cells": [
  {
   "cell_type": "code",
   "execution_count": 2,
   "metadata": {},
   "outputs": [],
   "source": [
    "### header ###\n",
    "__author__ = \"Hunter Bennett\"\n",
    "__license__ = \"BSD\"\n",
    "__email__ = \"hunter.r.bennett@gmail.com\"\n",
    "%load_ext autoreload\n",
    "%autoreload 2\n",
    "%matplotlib inline\n",
    "### imports ###\n",
    "import sys\n",
    "import os\n",
    "import re\n",
    "import glob\n",
    "import pandas as pd\n",
    "import numpy as np\n",
    "import matplotlib\n",
    "import matplotlib.pyplot as plt \n",
    "from matplotlib.patches import Patch\n",
    "import seaborn as sns\n",
    "\n",
    "# import custom functions\n",
    "sys.path.insert(0, '/home/h1bennet/code/')\n",
    "from hbUtils import ngs_qc, quantile_normalize_df\n",
    "from homer_preprocessing import read_homer_gene_exp, import_homer_diffgene, pull_comparisons_get_diff\n",
    "from plotting_scripts import label_point, pca_rpkm_mat, get_diff_volcano, plot_exp_rpkm, gene_list_bar_plot"
   ]
  },
  {
   "cell_type": "code",
   "execution_count": 3,
   "metadata": {},
   "outputs": [],
   "source": [
    "workingDirectory = '/home/h1bennet/strains_rna/results/A10_Manuscript_Figures_AllLiverCells/'\n",
    "dataDirectory = '/home/h1bennet/strains_rna/results/K00_Strains_Control_Kupffer_RNA/'\n",
    "if not os.path.isdir(workingDirectory):\n",
    "    os.mkdir(workingDirectory)\n",
    "os.chdir(workingDirectory)\n"
   ]
  },
  {
   "cell_type": "code",
   "execution_count": 4,
   "metadata": {},
   "outputs": [],
   "source": [
    "#### PLOTTING PARAMETERS FOR MANUSCRIPT ####\n",
    "# # get matplotlib to save readable fonts\n",
    "matplotlib.rcParams['pdf.fonttype'] = 42\n",
    "matplotlib.rcParams['ps.fonttype'] = 42\n",
    "matplotlib.rcParams['font.size'] = 6\n",
    "matplotlib.rcParams['savefig.dpi'] = 500\n",
    "\n",
    "\n",
    "# line widths\n",
    "matplotlib.rcParams['axes.linewidth'] = 1\n",
    "matplotlib.rcParams['xtick.major.width'] = 1\n",
    "matplotlib.rcParams['ytick.major.width'] = 1\n",
    "\n",
    "# adjust defualt color for plots to black\n",
    "# normal default is a dark gray\n",
    "COLOR = 'black'\n",
    "matplotlib.rcParams['text.color'] = COLOR\n",
    "matplotlib.rcParams['axes.labelcolor'] = COLOR\n",
    "matplotlib.rcParams['xtick.color'] = COLOR\n",
    "matplotlib.rcParams['ytick.color'] = COLOR\n",
    "matplotlib.rcParams['axes.edgecolor'] = COLOR\n",
    "\n",
    "#### PLOT PARAMETERS FOR THIS PLOT ####"
   ]
  },
  {
   "cell_type": "markdown",
   "metadata": {},
   "source": [
    "To do this analysis we will pull from the differential analysis performed by Ty at the following location:  \n",
    "\n",
    "     /home/ttroutman/strainsKupffer/rnaKupfferNASH/\n",
    " "
   ]
  },
  {
   "cell_type": "markdown",
   "metadata": {},
   "source": [
    "# Annotate promoters with H3K27Ac and ATAC"
   ]
  },
  {
   "cell_type": "code",
   "execution_count": 5,
   "metadata": {},
   "outputs": [],
   "source": [
    "tagdirs_atac = np.sort(glob.glob('/home/h1bennet/strains/data/ATAC/control_cohort2/*'))\n",
    "tagdirs_h3k27ac = ['/home/h1bennet/strains/data/H3K27Ac/control/02_aj_Kupffer_H3K27Ac_control_young_AJ10ABC_161208',\n",
    "                   '/home/h1bennet/strains/data/H3K27Ac/control/02_aj_Kupffer_H3K27Ac_control_young_AJ11AB_161208',\n",
    "                   '/home/h1bennet/strains/data/H3K27Ac/control_cohort2_untrimmed/tag_mouse_aj_Male_Kupffer_ChIP_H3K27ac_Chow_healthyoung_AJ1104_TDT_l20201212_GGCTTAAG_TCGTGACC_S29_L001.aj.bowtie2_shifted_from_AJ.sam',\n",
    "                   '/home/h1bennet/strains/data/H3K27Ac/control/01_balbc_Kupffer_H3K27Ac_control_young_Balb10ABC_170915',\n",
    "                   '/home/h1bennet/strains/data/H3K27Ac/control/01_balbc_Kupffer_H3K27Ac_control_young_Balb11AB_170915',\n",
    "                   '/home/h1bennet/strains/data/H3K27Ac/control_cohort2_untrimmed/tag_mouse_balbcj_Male_Kupffer_ChIP_H3K27ac_Chow_healthyoung_BALB1104_TDT_l20201212_AATCCGGA_CTACAGTT_S30_L001.balbcj.bowtie2_shifted_from_BALBCJ.sam',\n",
    "                   '/home/h1bennet/strains/data/H3K27Ac/control/00_C57_Kupffer_H3K27Ac_control_young_C571A_170915',\n",
    "                   '/home/h1bennet/strains/data/H3K27Ac/control/00_C57_Kupffer_H3K27Ac_control_young_C572A_180423',\n",
    "                   '/home/h1bennet/strains/data/H3K27Ac/control_cohort2_untrimmed/tag_mouse_c57bl6j_Male_Kupffer_ChIP_H3K27ac_Chow_healthyoung_C571104_TDT_l20201212_TAATACAG_ATATTCAC_S31_L001.c57bl6j.bowtie2_shifted_from_C57BL6J.sam']\n",
    "\n",
    "tagdirs = list(tagdirs_atac)+tagdirs_h3k27ac"
   ]
  },
  {
   "cell_type": "code",
   "execution_count": 6,
   "metadata": {},
   "outputs": [],
   "source": [
    "with open('./annotatePromoters_homer.sh', 'w') as f:\n",
    "    annotate_prom = ['annotatePeaks.pl', 'tss', 'mm10', '-d \\\\\\n',\n",
    "                       ' \\\\\\n'.join(tagdirs), '>',\n",
    "                       './mm10_promoters_strains_atac_h3k27ac &\\n\\n']\n",
    "\n",
    "    \n",
    "    f.write(' '.join(annotate_prom))    \n",
    "    \n",
    "    f.close()"
   ]
  },
  {
   "cell_type": "markdown",
   "metadata": {},
   "source": [
    "# Import differential gene files for examination and plotting"
   ]
  },
  {
   "cell_type": "markdown",
   "metadata": {},
   "source": [
    "## Write differential genes to list for metascape"
   ]
  },
  {
   "cell_type": "code",
   "execution_count": 7,
   "metadata": {},
   "outputs": [],
   "source": [
    "if not os.path.isdir('./gene_lists/'):\n",
    "    os.mkdir('./gene_lists')"
   ]
  },
  {
   "cell_type": "code",
   "execution_count": 8,
   "metadata": {},
   "outputs": [],
   "source": [
    "strains = ['aj', 'balb', 'c57']\n",
    "log2fc = 1\n",
    "padj = 0.05\n",
    "diffpath = '/home/ttroutman/strainsKupffer/rnaKupfferNASH/rnaDiff/'"
   ]
  },
  {
   "cell_type": "code",
   "execution_count": 9,
   "metadata": {
    "scrolled": false
   },
   "outputs": [],
   "source": [
    "gene_list_dict ={}"
   ]
  },
  {
   "cell_type": "code",
   "execution_count": 10,
   "metadata": {
    "scrolled": true
   },
   "outputs": [
    {
     "name": "stdout",
     "output_type": "stream",
     "text": [
      "/home/ttroutman/strainsKupffer/rnaKupfferNASH/rnaDiff/aj_control.vs.c57bl6j_control.scatter.txt\n",
      "/home/ttroutman/strainsKupffer/rnaKupfferNASH/rnaDiff/aj_control.vs.balbcj_control.scatter.txt\n",
      "/home/ttroutman/strainsKupffer/rnaKupfferNASH/rnaDiff/balbcj_control.vs.aj_control.scatter.txt\n",
      "/home/ttroutman/strainsKupffer/rnaKupfferNASH/rnaDiff/balbcj_control.vs.c57bl6j_control.scatter.txt\n",
      "/home/ttroutman/strainsKupffer/rnaKupfferNASH/rnaDiff/c57bl6j_control.vs.aj_control.scatter.txt\n",
      "/home/ttroutman/strainsKupffer/rnaKupfferNASH/rnaDiff/c57bl6j_control.vs.balbcj_control.scatter.txt\n"
     ]
    }
   ],
   "source": [
    "for strain in strains:\n",
    "    # initialize gene lists\n",
    "    g_intersect = set()\n",
    "    g_union = set()\n",
    "    for i in glob.glob(diffpath+strain+'*control.vs.*control*.txt'):\n",
    "        print(i)\n",
    "        df = pd.read_csv(i,\n",
    "                 sep='\\t',\n",
    "                 index_col=0)\n",
    "\n",
    "        # select differential genes\n",
    "        # df = df.loc[~(df.chr.str.contains('chrX|chrY|ChrUn')), :]\n",
    "        sig_genes = df.index[(df['padj'] < padj) & (df['log2FoldChange'] <= -log2fc)].to_list()\n",
    "        \n",
    "        # add to sets\n",
    "        if len(g_union) == 0:\n",
    "            g_union = set(sig_genes)\n",
    "            g_intersect = set(sig_genes)\n",
    "        else:\n",
    "            g_union = g_union.union(sig_genes)\n",
    "            g_intersect = g_intersect.intersection(sig_genes)\n",
    "        \n",
    "        # print('union set length:', print(len(g_union)))\n",
    "        # print('intersection set length:', print(len(g_intersect)))\n",
    "    \n",
    "    # after getting union and intersection sets add to dict\n",
    "    gene_list_dict[strain+'_union'] = list(g_union)\n",
    "    gene_list_dict[strain+'_intersection'] = list(g_intersect)\n",
    "        "
   ]
  },
  {
   "cell_type": "markdown",
   "metadata": {},
   "source": [
    "Write gene lists separately"
   ]
  },
  {
   "cell_type": "code",
   "execution_count": 11,
   "metadata": {},
   "outputs": [
    {
     "name": "stdout",
     "output_type": "stream",
     "text": [
      "aj_union\n",
      "227 genes\n",
      "aj_intersection\n",
      "33 genes\n",
      "balb_union\n",
      "230 genes\n",
      "balb_intersection\n",
      "45 genes\n",
      "c57_union\n",
      "236 genes\n",
      "c57_intersection\n",
      "69 genes\n"
     ]
    }
   ],
   "source": [
    "for key in gene_list_dict.keys():\n",
    "    print(key)\n",
    "    print(len(gene_list_dict[key]), 'genes')\n",
    "    with open('./gene_lists/'+key+'_kupffer_genes_fc_'+str(log2fc)+'_pval_'+str(padj)+'.txt', 'w') as f:\n",
    "        f.write('Gene\\n')\n",
    "        for i in gene_list_dict[key]:\n",
    "            f.write(i+'\\n')\n",
    "        f.close()\n"
   ]
  },
  {
   "cell_type": "code",
   "execution_count": 12,
   "metadata": {},
   "outputs": [],
   "source": [
    "df = pd.read_csv('./mm10_promoters_strains_atac_h3k27ac.txt',\n",
    "                 sep='\\t', index_col=0)\n",
    "df.index = df.index.rename('RefseqID')\n",
    "df = df.reset_index().set_index('Gene Name')\n",
    "\n",
    "df_mat = df.loc[:, df.columns.str.contains('Tag Count in given bp')]\n",
    "# clean columns\n",
    "df_mat.columns = df_mat.columns.str.split('/').str[-1]"
   ]
  },
  {
   "cell_type": "code",
   "execution_count": 13,
   "metadata": {},
   "outputs": [],
   "source": [
    "greps = ['aj.*ATAC',\n",
    "         'balbc.*ATAC',\n",
    "         'c57bl6j.*ATAC',\n",
    "         'aj.*H3K27',\n",
    "         'balb.*H3K27',\n",
    "         '57.*H3K27']\n",
    "\n",
    "colnames = ['aj_atac_average',\n",
    "            'balbcj_atac_average',\n",
    "            'c57bl6j_atac_average',\n",
    "            'aj_h3k27ac_average',\n",
    "            'balbcj_h3k27ac_average',\n",
    "            'c57bl6j_h3k27ac_average']"
   ]
  },
  {
   "cell_type": "code",
   "execution_count": 14,
   "metadata": {},
   "outputs": [],
   "source": [
    "avg_tags_dict = {}\n",
    "for colname, grep in zip(colnames, greps):\n",
    "    avg_tags_dict[colname] = df_mat.loc[:, df_mat.columns.str.contains(grep)].mean(1)\n",
    "    \n",
    "avg_tags_df = pd.DataFrame(avg_tags_dict)\n",
    "\n",
    "# get average ATAC and H3K27ac\n",
    "avg_tags_df_atac = avg_tags_df.loc[:, avg_tags_df.columns.str.contains('atac')]\n",
    "avg_tags_df_h3k27ac = avg_tags_df.loc[:, avg_tags_df.columns.str.contains('h3k27ac')]"
   ]
  },
  {
   "cell_type": "markdown",
   "metadata": {},
   "source": [
    "### Filter duplicates"
   ]
  },
  {
   "cell_type": "code",
   "execution_count": 15,
   "metadata": {},
   "outputs": [
    {
     "name": "stderr",
     "output_type": "stream",
     "text": [
      "/gpfs/data01/glasslab/home/h1bennet/.conda/envs/dataviz/lib/python3.7/site-packages/pandas/core/indexing.py:376: SettingWithCopyWarning: \n",
      "A value is trying to be set on a copy of a slice from a DataFrame.\n",
      "Try using .loc[row_indexer,col_indexer] = value instead\n",
      "\n",
      "See the caveats in the documentation: http://pandas.pydata.org/pandas-docs/stable/user_guide/indexing.html#returning-a-view-versus-a-copy\n",
      "  self.obj[key] = _infer_fill_value(value)\n",
      "/gpfs/data01/glasslab/home/h1bennet/.conda/envs/dataviz/lib/python3.7/site-packages/pandas/core/indexing.py:576: SettingWithCopyWarning: \n",
      "A value is trying to be set on a copy of a slice from a DataFrame.\n",
      "Try using .loc[row_indexer,col_indexer] = value instead\n",
      "\n",
      "See the caveats in the documentation: http://pandas.pydata.org/pandas-docs/stable/user_guide/indexing.html#returning-a-view-versus-a-copy\n",
      "  self.obj[item_labels[indexer[info_axis]]] = value\n"
     ]
    }
   ],
   "source": [
    "avg_tags_df_atac.loc[:, 'mean_tags'] = avg_tags_df_atac.mean(1)\n",
    "avg_tags_df_atac = avg_tags_df_atac.sort_values('mean_tags', ascending=False).reset_index()\n",
    "avg_tags_df_atac = avg_tags_df_atac.drop_duplicates(subset='Gene Name',\n",
    "                                                    keep='first')\n",
    "avg_tags_df_atac = avg_tags_df_atac.drop(columns='mean_tags')\n",
    "\n",
    "\n",
    "avg_tags_df_atac = avg_tags_df_atac.set_index('Gene Name')"
   ]
  },
  {
   "cell_type": "code",
   "execution_count": 16,
   "metadata": {},
   "outputs": [],
   "source": [
    "avg_tags_df_h3k27ac.loc[:, 'mean_tags'] = avg_tags_df_h3k27ac.mean(1)\n",
    "avg_tags_df_h3k27ac = avg_tags_df_h3k27ac.sort_values('mean_tags', ascending=False).reset_index()\n",
    "avg_tags_df_h3k27ac = avg_tags_df_h3k27ac.drop_duplicates(subset='Gene Name',\n",
    "                                                    keep='first')\n",
    "avg_tags_df_h3k27ac = avg_tags_df_h3k27ac.drop(columns='mean_tags')\n",
    "\n",
    "avg_tags_df_h3k27ac = avg_tags_df_h3k27ac.set_index('Gene Name')"
   ]
  },
  {
   "cell_type": "markdown",
   "metadata": {},
   "source": [
    "# Read in expression values"
   ]
  },
  {
   "cell_type": "code",
   "execution_count": 17,
   "metadata": {},
   "outputs": [],
   "source": [
    "tpm_mat = pd.read_csv('/home/ttroutman/strainsKupffer/rnaKupfferNASH/rnaQuan/rawT.txt',\n",
    "                      sep='\\t', index_col=0)\n",
    "tpm_mat = tpm_mat.loc[:, tpm_mat.columns.str.contains('control')]\n",
    "\n",
    "# clean columns\n",
    "tpm_mat.columns = tpm_mat.columns.str.split('/').str[-1]"
   ]
  },
  {
   "cell_type": "markdown",
   "metadata": {},
   "source": [
    "# Stopped here! need to make box plot or scatter charting strain bias."
   ]
  },
  {
   "cell_type": "code",
   "execution_count": 18,
   "metadata": {},
   "outputs": [
    {
     "data": {
      "text/plain": [
       "Index(['aj_atac_average', 'balbcj_atac_average', 'c57bl6j_atac_average'], dtype='object')"
      ]
     },
     "execution_count": 18,
     "metadata": {},
     "output_type": "execute_result"
    }
   ],
   "source": [
    "avg_tags_df_atac.columns"
   ]
  },
  {
   "cell_type": "code",
   "execution_count": 19,
   "metadata": {
    "scrolled": true
   },
   "outputs": [
    {
     "data": {
      "text/plain": [
       "dict_keys(['aj_union', 'aj_intersection', 'balb_union', 'balb_intersection', 'c57_union', 'c57_intersection'])"
      ]
     },
     "execution_count": 19,
     "metadata": {},
     "output_type": "execute_result"
    }
   ],
   "source": [
    "gene_list_dict.keys()"
   ]
  },
  {
   "cell_type": "code",
   "execution_count": 20,
   "metadata": {},
   "outputs": [],
   "source": [
    "data_list = [np.log2(avg_tags_df_atac.loc[gene_list_dict['aj_intersection'], 'aj_atac_average']+1),\n",
    "             np.log2(avg_tags_df_atac.loc[gene_list_dict['aj_intersection'], 'balbcj_atac_average']+1),\n",
    "             np.log2(avg_tags_df_atac.loc[gene_list_dict['aj_intersection'], 'c57bl6j_atac_average']+1),\n",
    "             np.log2(avg_tags_df_atac.loc[gene_list_dict['balb_intersection'], 'aj_atac_average']+1),\n",
    "             np.log2(avg_tags_df_atac.loc[gene_list_dict['balb_intersection'], 'balbcj_atac_average']+1),\n",
    "             np.log2(avg_tags_df_atac.loc[gene_list_dict['balb_intersection'], 'c57bl6j_atac_average']+1),\n",
    "             np.log2(avg_tags_df_atac.loc[gene_list_dict['c57_intersection'], 'aj_atac_average']+1),\n",
    "             np.log2(avg_tags_df_atac.loc[gene_list_dict['c57_intersection'], 'balbcj_atac_average']+1),\n",
    "             np.log2(avg_tags_df_atac.loc[gene_list_dict['c57_intersection'], 'c57bl6j_atac_average']+1)]\n",
    "\n",
    "colors = ['#de2d26', '#3182bd', '#31a354']\n",
    "c='k'"
   ]
  },
  {
   "cell_type": "code",
   "execution_count": 21,
   "metadata": {},
   "outputs": [
    {
     "data": {
      "image/png": "[encoded data removed]",
      "text/plain": [
       "<Figure size 216x144 with 6 Axes>"
      ]
     },
     "metadata": {
      "needs_background": "light"
     },
     "output_type": "display_data"
    }
   ],
   "source": [
    "fig, axs = plt.subplots(2,3,figsize=(3,2),\n",
    "                        sharey=True)\n",
    "plt.subplots_adjust(wspace=0.2, hspace=0.4)\n",
    "\n",
    "for i, ax in zip(['aj_intersection', 'balb_intersection', 'c57_intersection'], axs[0]):\n",
    "\n",
    "    sns.boxplot(data=[np.log2(avg_tags_df_atac.loc[gene_list_dict[i], 'aj_atac_average']+1),\n",
    "                      np.log2(avg_tags_df_atac.loc[gene_list_dict[i], 'balbcj_atac_average']+1),\n",
    "                      np.log2(avg_tags_df_atac.loc[gene_list_dict[i], 'c57bl6j_atac_average']+1)],\n",
    "                boxprops=dict(edgecolor=c),\n",
    "                capprops=dict(color=c),\n",
    "                whiskerprops=dict(color=c),\n",
    "                flierprops=dict(color=c, markeredgecolor=c),\n",
    "                medianprops=dict(color=c),\n",
    "                palette=colors,\n",
    "                width=0.5,\n",
    "                linewidth=0.5,\n",
    "                \n",
    "                fliersize=0.5,\n",
    "                ax=ax)\n",
    "    ax.set_xticks([])\n",
    "    # Hide the right and top spines\n",
    "    ax.spines['right'].set_visible(False)\n",
    "    ax.spines['top'].set_visible(False)\n",
    "    \n",
    "\n",
    "for i, ax in zip(['aj_intersection', 'balb_intersection', 'c57_intersection'], axs[1]):\n",
    "\n",
    "    sns.boxplot(data=[np.log2(avg_tags_df_h3k27ac.loc[gene_list_dict[i], 'aj_h3k27ac_average']+1),\n",
    "                      np.log2(avg_tags_df_h3k27ac.loc[gene_list_dict[i], 'balbcj_h3k27ac_average']+1),\n",
    "                      np.log2(avg_tags_df_h3k27ac.loc[gene_list_dict[i], 'c57bl6j_h3k27ac_average']+1)],\n",
    "                boxprops=dict(edgecolor=c),\n",
    "                capprops=dict(color=c),\n",
    "                whiskerprops=dict(color=c),\n",
    "                flierprops=dict(color=c, markeredgecolor=c),\n",
    "                medianprops=dict(color=c),\n",
    "                palette=colors,\n",
    "                width=0.5,\n",
    "                linewidth=0.5,\n",
    "                fliersize=0.5,\n",
    "                ax=ax)\n",
    "    ax.set_xticks([])\n",
    "    # Hide the right and top spines\n",
    "    ax.spines['right'].set_visible(False)\n",
    "    ax.spines['top'].set_visible(False)\n",
    "    \n",
    "    axs[0,0].set_ylabel('Log ATAC')\n",
    "    axs[1,0].set_ylabel('Log H3K27Ac')\n",
    "\n",
    "    axs[1,0].set_xlabel('A/J Specific')\n",
    "    axs[1,1].set_xlabel('BALB/cJ Specific')\n",
    "    axs[1,2].set_xlabel('C57BL/6J Specific')\n",
    "    \n",
    "    \n",
    "plt.savefig('./fancy_figures/atac_h3k27ac_promoter_corr.pdf',\n",
    "            bbox_inches='tight')\n"
   ]
  },
  {
   "cell_type": "markdown",
   "metadata": {},
   "source": [
    "# Check statistical differences using p values..."
   ]
  },
  {
   "cell_type": "code",
   "execution_count": 29,
   "metadata": {},
   "outputs": [],
   "source": [
    "from scipy.stats import ttest_ind\n",
    "from scipy.stats import wilcoxon"
   ]
  },
  {
   "cell_type": "code",
   "execution_count": 32,
   "metadata": {},
   "outputs": [
    {
     "name": "stdout",
     "output_type": "stream",
     "text": [
      "aj_intersection\n",
      "aj vs balb t-test\n",
      "WilcoxonResult(statistic=109.0, pvalue=0.0021815615385407695)\n",
      "aj vs c57 t-test\n",
      "WilcoxonResult(statistic=276.0, pvalue=0.9359149665170619)\n",
      "\n",
      "balb_intersection\n",
      "balb vs aj t-test\n",
      "WilcoxonResult(statistic=88.0, pvalue=1.2471023325714447e-06)\n",
      "balb vs c57 t-test\n",
      "WilcoxonResult(statistic=251.0, pvalue=0.0026285848460617725)\n",
      "\n",
      "c57_intersection\n",
      "c57 vs aj t-test\n",
      "WilcoxonResult(statistic=7.0, pvalue=7.087259912068191e-13)\n",
      "c57 vs balb t-test\n",
      "WilcoxonResult(statistic=60.0, pvalue=1.5824412772185743e-11)\n",
      "\n"
     ]
    }
   ],
   "source": [
    "strain_dict = {'aj':'aj',\n",
    "               'balb':'balbcj',\n",
    "               'c57':'c57bl6j'}\n",
    "for i in ['aj', 'balb', 'c57']:\n",
    "    print(i+'_intersection')\n",
    "    for j in ['aj', 'balb', 'c57']:\n",
    "        if i != j:\n",
    "            print(i, 'vs', j, 't-test')\n",
    "            print(wilcoxon(avg_tags_df_atac.loc[gene_list_dict[i+'_intersection'], strain_dict[i]+'_atac_average'],\n",
    "                            avg_tags_df_atac.loc[gene_list_dict[i+'_intersection'], strain_dict[j]+'_atac_average']))\n",
    "    print()"
   ]
  },
  {
   "cell_type": "code",
   "execution_count": 33,
   "metadata": {},
   "outputs": [
    {
     "name": "stdout",
     "output_type": "stream",
     "text": [
      "aj_intersection\n",
      "aj vs balb t-test\n",
      "WilcoxonResult(statistic=71.0, pvalue=0.00018161179181607043)\n",
      "aj vs c57 t-test\n",
      "WilcoxonResult(statistic=92.0, pvalue=0.0007569203798492143)\n",
      "\n",
      "balb_intersection\n",
      "balb vs aj t-test\n",
      "WilcoxonResult(statistic=80.0, pvalue=7.880498373969902e-07)\n",
      "balb vs c57 t-test\n",
      "WilcoxonResult(statistic=63.0, pvalue=2.8944642487941924e-07)\n",
      "\n",
      "c57_intersection\n",
      "c57 vs aj t-test\n",
      "WilcoxonResult(statistic=456.0, pvalue=7.016472119889226e-06)\n",
      "c57 vs balb t-test\n",
      "WilcoxonResult(statistic=336.0, pvalue=1.8816659874716024e-07)\n",
      "\n"
     ]
    }
   ],
   "source": [
    "strain_dict = {'aj':'aj',\n",
    "               'balb':'balbcj',\n",
    "               'c57':'c57bl6j'}\n",
    "for i in ['aj', 'balb', 'c57']:\n",
    "    print(i+'_intersection')\n",
    "    for j in ['aj', 'balb', 'c57']:\n",
    "        if i != j:\n",
    "            print(i, 'vs', j, 't-test')\n",
    "            print(wilcoxon(avg_tags_df_h3k27ac.loc[gene_list_dict[i+'_intersection'], strain_dict[i]+'_h3k27ac_average'],\n",
    "                            avg_tags_df_h3k27ac.loc[gene_list_dict[i+'_intersection'], strain_dict[j]+'_h3k27ac_average']))\n",
    "    print()"
   ]
  },
  {
   "cell_type": "code",
   "execution_count": null,
   "metadata": {},
   "outputs": [],
   "source": []
  }
 ],
 "metadata": {
  "kernelspec": {
   "display_name": "dataviz",
   "language": "python",
   "name": "dataviz"
  },
  "language_info": {
   "codemirror_mode": {
    "name": "ipython",
    "version": 3
   },
   "file_extension": ".py",
   "mimetype": "text/x-python",
   "name": "python",
   "nbconvert_exporter": "python",
   "pygments_lexer": "ipython3",
   "version": "3.7.5"
  }
 },
 "nbformat": 4,
 "nbformat_minor": 2
}
