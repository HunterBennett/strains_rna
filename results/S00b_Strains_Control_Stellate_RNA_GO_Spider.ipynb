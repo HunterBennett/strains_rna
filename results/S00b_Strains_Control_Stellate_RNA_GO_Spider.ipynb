{
 "cells": [
  {
   "cell_type": "code",
   "execution_count": 1,
   "metadata": {},
   "outputs": [],
   "source": [
    "### header ###\n",
    "__author__ = \"Hunter Bennett\"\n",
    "__license__ = \"BSD\"\n",
    "__email__ = \"hunter.r.bennett@gmail.com\"\n",
    "%load_ext autoreload\n",
    "%autoreload 2\n",
    "%matplotlib inline\n",
    "### imports ###\n",
    "import sys\n",
    "import os\n",
    "import re\n",
    "import glob\n",
    "import pandas as pd\n",
    "import numpy as np\n",
    "import matplotlib\n",
    "import matplotlib.pyplot as plt \n",
    "from matplotlib.patches import Patch\n",
    "import seaborn as sns\n",
    "\n",
    "# spider plot functions\n",
    "from matplotlib.patches import Circle, RegularPolygon\n",
    "from matplotlib.path import Path\n",
    "from matplotlib.projections.polar import PolarAxes\n",
    "from matplotlib.projections import register_projection\n",
    "from matplotlib.spines import Spine\n",
    "from matplotlib.transforms import Affine2D\n",
    "\n",
    "# clustering functions\n",
    "# cluster targets\n",
    "import scipy\n",
    "import scipy.cluster.hierarchy as sch\n",
    "import scipy.spatial.distance as dist\n",
    "\n",
    "# set plotting functions\n",
    "matplotlib.rcParams['savefig.dpi'] = 500\n",
    "sns.set(font_scale=1)\n",
    "sns.set_context('talk')\n",
    "sns.set_style('white')\n",
    "# get matplotlib to save readable fonts\n",
    "matplotlib.rcParams['pdf.fonttype'] = 42\n",
    "matplotlib.rcParams['ps.fonttype'] = 42\n",
    "\n",
    "# import custom functions\n",
    "sys.path.insert(0, '/home/h1bennet/code/')\n",
    "from hbUtils import ngs_qc, quantile_normalize_df\n",
    "from homer_preprocessing import read_homer_gene_exp, import_homer_diffgene, pull_comparisons_get_diff\n",
    "from plotting_scripts import label_point, pca_rpkm_mat, get_diff_volcano, plot_exp_rpkm, gene_list_bar_plot"
   ]
  },
  {
   "cell_type": "code",
   "execution_count": 2,
   "metadata": {},
   "outputs": [],
   "source": [
    "# define functions\n",
    "def radar_factory(num_vars, frame='circle'):\n",
    "    \"\"\"\n",
    "    Create a radar chart with `num_vars` axes.\n",
    "\n",
    "    This function creates a RadarAxes projection and registers it.\n",
    "\n",
    "    Parameters\n",
    "    ----------\n",
    "    num_vars : int\n",
    "        Number of variables for radar chart.\n",
    "    frame : {'circle', 'polygon'}\n",
    "        Shape of frame surrounding axes.\n",
    "\n",
    "    \"\"\"\n",
    "    # calculate evenly-spaced axis angles\n",
    "    theta = np.linspace(0, 2*np.pi, num_vars, endpoint=False)\n",
    "\n",
    "    class RadarAxes(PolarAxes):\n",
    "\n",
    "        name = 'radar'\n",
    "        # use 1 line segment to connect specified points\n",
    "        RESOLUTION = 1\n",
    "\n",
    "        def __init__(self, *args, **kwargs):\n",
    "            super().__init__(*args, **kwargs)\n",
    "            # rotate plot such that the first axis is at the top\n",
    "            self.set_theta_zero_location('N')\n",
    "\n",
    "        def fill(self, *args, closed=True, **kwargs):\n",
    "            \"\"\"Override fill so that line is closed by default\"\"\"\n",
    "            return super().fill(closed=closed, *args, **kwargs)\n",
    "\n",
    "        def plot(self, *args, **kwargs):\n",
    "            \"\"\"Override plot so that line is closed by default\"\"\"\n",
    "            lines = super().plot(*args, **kwargs)\n",
    "            for line in lines:\n",
    "                self._close_line(line)\n",
    "\n",
    "        def _close_line(self, line):\n",
    "            x, y = line.get_data()\n",
    "            # FIXME: markers at x[0], y[0] get doubled-up\n",
    "            if x[0] != x[-1]:\n",
    "                x = np.append(x, x[0])\n",
    "                y = np.append(y, y[0])\n",
    "                line.set_data(x, y)\n",
    "\n",
    "        def set_varlabels(self, labels, fontsize=8):\n",
    "            self.set_thetagrids(np.degrees(theta), labels, fontsize=fontsize)\n",
    "\n",
    "        def _gen_axes_patch(self):\n",
    "            # The Axes patch must be centered at (0.5, 0.5) and of radius 0.5\n",
    "            # in axes coordinates.\n",
    "            if frame == 'circle':\n",
    "                return Circle((0.5, 0.5), 0.5)\n",
    "            elif frame == 'polygon':\n",
    "                return RegularPolygon((0.5, 0.5), num_vars,\n",
    "                                      radius=.5, edgecolor=\"k\")\n",
    "            else:\n",
    "                raise ValueError(\"Unknown value for 'frame': %s\" % frame)\n",
    "\n",
    "        def _gen_axes_spines(self):\n",
    "            if frame == 'circle':\n",
    "                return super()._gen_axes_spines()\n",
    "            elif frame == 'polygon':\n",
    "                # spine_type must be 'left'/'right'/'top'/'bottom'/'circle'.\n",
    "                spine = Spine(axes=self,\n",
    "                              spine_type='circle',\n",
    "                              path=Path.unit_regular_polygon(num_vars))\n",
    "                # unit_regular_polygon gives a polygon of radius 1 centered at\n",
    "                # (0, 0) but we want a polygon of radius 0.5 centered at (0.5,\n",
    "                # 0.5) in axes coordinates.\n",
    "                spine.set_transform(Affine2D().scale(.5).translate(.5, .5)\n",
    "                                    + self.transAxes)\n",
    "                return {'polar': spine}\n",
    "            else:\n",
    "                raise ValueError(\"Unknown value for 'frame': %s\" % frame)\n",
    "\n",
    "    register_projection(RadarAxes)\n",
    "    return theta"
   ]
  },
  {
   "cell_type": "code",
   "execution_count": 3,
   "metadata": {},
   "outputs": [],
   "source": [
    "workingDirectory = '/home/h1bennet/strains_rna/results/S00_Strains_Control_Stellate_RNA/'\n",
    "dataDirectory = '/home/h1bennet/strains/data/RNA/control_lsec/'\n",
    "if not os.path.isdir(workingDirectory):\n",
    "    os.mkdir(workingDirectory)\n",
    "os.chdir(workingDirectory)\n"
   ]
  },
  {
   "cell_type": "markdown",
   "metadata": {},
   "source": [
    "# Import differential gene files for examination and plotting"
   ]
  },
  {
   "cell_type": "code",
   "execution_count": 4,
   "metadata": {},
   "outputs": [],
   "source": [
    "if not os.path.isdir('./gene_lists/'):\n",
    "    os.mkdir('./gene_lists')"
   ]
  },
  {
   "cell_type": "code",
   "execution_count": 5,
   "metadata": {},
   "outputs": [],
   "source": [
    "strains = ['aj', 'balb', 'c57']\n",
    "log2fc = 1\n",
    "padj = 0.05\n",
    "diffpath = ''"
   ]
  },
  {
   "cell_type": "code",
   "execution_count": 6,
   "metadata": {
    "scrolled": false
   },
   "outputs": [],
   "source": [
    "gene_list_dict ={}"
   ]
  },
  {
   "cell_type": "markdown",
   "metadata": {},
   "source": [
    "### Extract \"intersection\" and \"union\" gene sets"
   ]
  },
  {
   "cell_type": "code",
   "execution_count": 7,
   "metadata": {
    "scrolled": true
   },
   "outputs": [
    {
     "name": "stdout",
     "output_type": "stream",
     "text": [
      "./differential/aj_stellate_control_young.vs.c57_stellate_control_young.scatter.txt\n",
      "./differential/aj_stellate_control_young.vs.balbc_stellate_control_young.scatter.txt\n",
      "./differential/c57_stellate_control_young.vs.balbc_stellate_control_young.scatter.txt\n",
      "./differential/c57_stellate_control_young.vs.aj_stellate_control_young.scatter.txt\n",
      "./differential/balbc_stellate_control_young.vs.c57_stellate_control_young.scatter.txt\n",
      "./differential/balbc_stellate_control_young.vs.aj_stellate_control_young.scatter.txt\n",
      "./differential/aj_stellate_control_young.vs.c57_stellate_control_young.scatter.txt\n",
      "./differential/aj_stellate_control_young.vs.balbc_stellate_control_young.scatter.txt\n",
      "./differential/c57_stellate_control_young.vs.balbc_stellate_control_young.scatter.txt\n",
      "./differential/c57_stellate_control_young.vs.aj_stellate_control_young.scatter.txt\n",
      "./differential/balbc_stellate_control_young.vs.c57_stellate_control_young.scatter.txt\n",
      "./differential/balbc_stellate_control_young.vs.aj_stellate_control_young.scatter.txt\n",
      "./differential/aj_stellate_control_young.vs.c57_stellate_control_young.scatter.txt\n",
      "./differential/aj_stellate_control_young.vs.balbc_stellate_control_young.scatter.txt\n",
      "./differential/c57_stellate_control_young.vs.balbc_stellate_control_young.scatter.txt\n",
      "./differential/c57_stellate_control_young.vs.aj_stellate_control_young.scatter.txt\n",
      "./differential/balbc_stellate_control_young.vs.c57_stellate_control_young.scatter.txt\n",
      "./differential/balbc_stellate_control_young.vs.aj_stellate_control_young.scatter.txt\n"
     ]
    }
   ],
   "source": [
    "for strain in strains:\n",
    "    # initialize gene lists\n",
    "    g_intersect = set()\n",
    "    g_union = set()\n",
    "    for i in glob.glob('./differential/*control*.vs.*control*scatter.txt'):\n",
    "        print(i)\n",
    "        df = pd.read_csv(i,\n",
    "                 sep='\\t',\n",
    "                 index_col=0)\n",
    "\n",
    "        # select differential genes\n",
    "        # df = df.loc[~(df.chr.str.contains('chrX|chrY|ChrUn')), :]\n",
    "        sig_genes = df.index[(df['padj'] < padj) & (df['log2FoldChange'] <= -log2fc)].to_list()\n",
    "        \n",
    "        # add to sets\n",
    "        if len(g_union) == 0:\n",
    "            g_union = set(sig_genes)\n",
    "            g_intersect = set(sig_genes)\n",
    "        else:\n",
    "            g_union = g_union.union(sig_genes)\n",
    "            g_intersect = g_intersect.intersection(sig_genes)\n",
    "        \n",
    "        # print('union set length:', print(len(g_union)))\n",
    "        # print('intersection set length:', print(len(g_intersect)))\n",
    "    \n",
    "    # after getting union and intersection sets add to dict\n",
    "    gene_list_dict[strain+'_union'] = list(g_union)\n",
    "    gene_list_dict[strain+'_intersection'] = list(g_intersect)\n",
    "        "
   ]
  },
  {
   "cell_type": "markdown",
   "metadata": {},
   "source": [
    "### Write gene lists together for combined GO analysis"
   ]
  },
  {
   "cell_type": "code",
   "execution_count": 8,
   "metadata": {},
   "outputs": [],
   "source": [
    "meta_df = pd.DataFrame.from_dict(gene_list_dict, orient='index').T\n",
    "meta_df.to_csv('./gene_lists/all_stellate_genes_fc_'+str(log2fc)+'_pval_'+str(padj)+'.csv',\n",
    "               # sep='',\n",
    "               index=False)"
   ]
  },
  {
   "cell_type": "markdown",
   "metadata": {},
   "source": [
    "### Try with homer\n",
    "HOMER is nice because it explicitly tests enrichment in all lists so that\n",
    "we know we are comparing the same test - metascape does filtering for top 25 or top 100.\n",
    "    \n",
    "    for i in *genes*txt; do findGO.pl $i mouse ${i/.txt/_go} -cpu 4; done"
   ]
  },
  {
   "cell_type": "markdown",
   "metadata": {},
   "source": [
    "### Read in go biological process terms"
   ]
  },
  {
   "cell_type": "code",
   "execution_count": 11,
   "metadata": {},
   "outputs": [],
   "source": [
    "df_dict = {}\n",
    "for i in np.sort(glob.glob('./gene_lists/*go/biological_process.txt')):\n",
    "    df = pd.read_csv(i, sep='\\t', index_col=0)\n",
    "    df_dict[i.split('/')[2].split('_stellate')[0]] = df"
   ]
  },
  {
   "cell_type": "markdown",
   "metadata": {},
   "source": [
    "# extract subset of terms for spider plot\n",
    "Unbiased extraction of top three terms"
   ]
  },
  {
   "cell_type": "code",
   "execution_count": 12,
   "metadata": {},
   "outputs": [],
   "source": [
    "n=3\n",
    "top_terms = []\n",
    "for i in ['aj_union', 'balb_union', 'c57_union']:\n",
    "    top_terms.extend(df_dict[i].sort_values('logP', ascending=True).index.tolist()[:n])\n",
    "    \n",
    "top_terms_set = set(top_terms)"
   ]
  },
  {
   "cell_type": "markdown",
   "metadata": {},
   "source": [
    "# create DF with term IDs and scores"
   ]
  },
  {
   "cell_type": "code",
   "execution_count": 13,
   "metadata": {},
   "outputs": [],
   "source": [
    "df = df_dict['aj_union'].loc[top_terms_set, ['Term', 'logP']]\n",
    "df = df.merge(df_dict['balb_union'].loc[top_terms_set, ['logP']],\n",
    "              left_index=True,\n",
    "              right_index=True,\n",
    "              suffixes=('_aj', '_balb'))\n",
    "df = df.merge(df_dict['c57_union'].loc[top_terms_set, ['logP']],\n",
    "              left_index=True,\n",
    "              right_index=True,\n",
    "              suffixes=('', '_c57'))"
   ]
  },
  {
   "cell_type": "markdown",
   "metadata": {},
   "source": [
    "# cluster terms\n",
    "This makes a spider plot in which the strains specific functions are clustered together"
   ]
  },
  {
   "cell_type": "code",
   "execution_count": 14,
   "metadata": {},
   "outputs": [
    {
     "name": "stderr",
     "output_type": "stream",
     "text": [
      "/gpfs/data01/glasslab/home/h1bennet/.conda/envs/dataviz/lib/python3.7/site-packages/ipykernel_launcher.py:3: ClusterWarning: scipy.cluster: The symmetric non-negative hollow observation matrix looks suspiciously like an uncondensed distance matrix\n",
      "  This is separate from the ipykernel package so we can avoid doing imports until\n"
     ]
    },
    {
     "data": {
      "image/png": "[encoded data removed]",
      "text/plain": [
       "<Figure size 432x288 with 1 Axes>"
      ]
     },
     "metadata": {
      "needs_background": "light"
     },
     "output_type": "display_data"
    }
   ],
   "source": [
    "d2 = dist.pdist(df.iloc[:, 1:])\n",
    "D2 = dist.squareform(d2)\n",
    "Y2 = sch.linkage(D2, method='average', metric='euclidean') ### array-clustering metric - 'average', 'single', 'centroid', 'complete'\n",
    "Z2 = sch.dendrogram(Y2)"
   ]
  },
  {
   "cell_type": "markdown",
   "metadata": {},
   "source": [
    "### Make spider plot"
   ]
  },
  {
   "cell_type": "code",
   "execution_count": 15,
   "metadata": {},
   "outputs": [
    {
     "data": {
      "image/png": "[encoded data removed]",
      "text/plain": [
       "<Figure size 216x216 with 1 Axes>"
      ]
     },
     "metadata": {
      "needs_background": "light"
     },
     "output_type": "display_data"
    }
   ],
   "source": [
    "theta = radar_factory(df.shape[0], frame='polygon')\n",
    "fig, ax = plt.subplots(figsize=(3, 3),\n",
    "                       subplot_kw=dict(projection='radar'))\n",
    "\n",
    "ax.set_rgrids([5,15,25],\n",
    "              fontsize=8)\n",
    "\n",
    "# ax.set_title(title, weight='bold', size='medium', position=(0.5, 1.1),\n",
    "#              horizontalalignment='center', verticalalignment='center')\n",
    "colors = ['#e41a1c', '#377eb8', '#4daf4a']\n",
    "lists = ['logP_aj', 'logP_balb', 'logP']\n",
    "\n",
    "for color, logp_lists in zip(colors, lists):\n",
    "    ax.plot(theta,\n",
    "            -df[logp_lists].iloc[Z2['leaves']],\n",
    "            color=color,\n",
    "            linewidth=1,\n",
    "            marker='o',\n",
    "            markersize=5,\n",
    "            markerfacecolor='white')\n",
    "    ax.fill(theta,\n",
    "            -df[logp_lists].iloc[Z2['leaves']],\n",
    "            color=color,\n",
    "            alpha=0.25)\n",
    "ax.set_varlabels(df['Term'].iloc[Z2['leaves']],\n",
    "                 fontsize=8)\n",
    "\n",
    "plt.savefig('./figures/spider_plot_top_'+str(n)+'_terms.pdf',\n",
    "            sep='\\t')"
   ]
  },
  {
   "cell_type": "markdown",
   "metadata": {},
   "source": [
    "# Check whether bar plot is informative\n",
    "The best way to explain this information is unclear"
   ]
  },
  {
   "cell_type": "code",
   "execution_count": 16,
   "metadata": {},
   "outputs": [],
   "source": [
    "# # pivot to long format for use in seaborn\n",
    "# df_long = df.iloc[Z2['leaves'], :].melt(id_vars=['Term'])\n",
    "# df_long.value = -df_long.value\n",
    "\n",
    "# sns.catplot(x=\"value\",\n",
    "#             y=\"Term\",\n",
    "#             hue=\"variable\",\n",
    "#             kind=\"bar\",\n",
    "#             data=df_long)\n"
   ]
  },
  {
   "cell_type": "markdown",
   "metadata": {},
   "source": [
    "# Make with custom gene list\n",
    "Extract top 15 terms per cell type for manual examination"
   ]
  },
  {
   "cell_type": "code",
   "execution_count": 17,
   "metadata": {},
   "outputs": [],
   "source": [
    "n=15\n",
    "top_terms = []\n",
    "for i in ['aj_union', 'balb_union', 'c57_union']:\n",
    "    top_terms.extend(df_dict[i].sort_values('logP', ascending=True).index.tolist()[:n])\n",
    "    \n",
    "top_terms_set = set(top_terms)\n",
    "\n",
    "df = df_dict['aj_union'].loc[top_terms_set, ['Term', 'logP']]\n",
    "df = df.merge(df_dict['balb_union'].loc[top_terms_set, ['logP']],\n",
    "              left_index=True,\n",
    "              right_index=True,\n",
    "              suffixes=('_aj', '_balb'))\n",
    "df = df.merge(df_dict['c57_union'].loc[top_terms_set, ['logP']],\n",
    "              left_index=True,\n",
    "              right_index=True,\n",
    "              suffixes=('', '_c57'))"
   ]
  },
  {
   "cell_type": "markdown",
   "metadata": {},
   "source": [
    "Look at sorted term list and select terms of interest"
   ]
  },
  {
   "cell_type": "code",
   "execution_count": null,
   "metadata": {},
   "outputs": [],
   "source": []
  },
  {
   "cell_type": "code",
   "execution_count": 20,
   "metadata": {
    "scrolled": true
   },
   "outputs": [
    {
     "data": {
      "text/html": [
       "<div>\n",
       "<style scoped>\n",
       "    .dataframe tbody tr th:only-of-type {\n",
       "        vertical-align: middle;\n",
       "    }\n",
       "\n",
       "    .dataframe tbody tr th {\n",
       "        vertical-align: top;\n",
       "    }\n",
       "\n",
       "    .dataframe thead th {\n",
       "        text-align: right;\n",
       "    }\n",
       "</style>\n",
       "<table border=\"1\" class=\"dataframe\">\n",
       "  <thead>\n",
       "    <tr style=\"text-align: right;\">\n",
       "      <th></th>\n",
       "      <th>Term</th>\n",
       "      <th>logP_aj</th>\n",
       "      <th>logP_balb</th>\n",
       "      <th>logP</th>\n",
       "    </tr>\n",
       "    <tr>\n",
       "      <th>TermID</th>\n",
       "      <th></th>\n",
       "      <th></th>\n",
       "      <th></th>\n",
       "      <th></th>\n",
       "    </tr>\n",
       "  </thead>\n",
       "  <tbody>\n",
       "    <tr>\n",
       "      <th>GO:0002376</th>\n",
       "      <td>immune system process</td>\n",
       "      <td>-109.932</td>\n",
       "      <td>-4.054</td>\n",
       "      <td>-70.784</td>\n",
       "    </tr>\n",
       "    <tr>\n",
       "      <th>GO:0048583</th>\n",
       "      <td>regulation of response to stimulus</td>\n",
       "      <td>-44.603</td>\n",
       "      <td>-3.868</td>\n",
       "      <td>-58.706</td>\n",
       "    </tr>\n",
       "    <tr>\n",
       "      <th>GO:0002682</th>\n",
       "      <td>regulation of immune system process</td>\n",
       "      <td>-78.392</td>\n",
       "      <td>-0.642</td>\n",
       "      <td>-54.098</td>\n",
       "    </tr>\n",
       "    <tr>\n",
       "      <th>GO:0048584</th>\n",
       "      <td>positive regulation of response to stimulus</td>\n",
       "      <td>-44.404</td>\n",
       "      <td>-6.698</td>\n",
       "      <td>-53.968</td>\n",
       "    </tr>\n",
       "    <tr>\n",
       "      <th>GO:0006955</th>\n",
       "      <td>immune response</td>\n",
       "      <td>-68.227</td>\n",
       "      <td>-1.958</td>\n",
       "      <td>-50.306</td>\n",
       "    </tr>\n",
       "    <tr>\n",
       "      <th>GO:0002252</th>\n",
       "      <td>immune effector process</td>\n",
       "      <td>-44.690</td>\n",
       "      <td>-7.625</td>\n",
       "      <td>-48.395</td>\n",
       "    </tr>\n",
       "    <tr>\n",
       "      <th>GO:0002684</th>\n",
       "      <td>positive regulation of immune system process</td>\n",
       "      <td>-68.813</td>\n",
       "      <td>-1.135</td>\n",
       "      <td>-47.007</td>\n",
       "    </tr>\n",
       "    <tr>\n",
       "      <th>GO:0006952</th>\n",
       "      <td>defense response</td>\n",
       "      <td>-51.698</td>\n",
       "      <td>-2.410</td>\n",
       "      <td>-46.505</td>\n",
       "    </tr>\n",
       "    <tr>\n",
       "      <th>GO:0007166</th>\n",
       "      <td>cell surface receptor signaling pathway</td>\n",
       "      <td>-27.626</td>\n",
       "      <td>-0.936</td>\n",
       "      <td>-43.467</td>\n",
       "    </tr>\n",
       "    <tr>\n",
       "      <th>GO:0050896</th>\n",
       "      <td>response to stimulus</td>\n",
       "      <td>-19.775</td>\n",
       "      <td>-1.015</td>\n",
       "      <td>-41.225</td>\n",
       "    </tr>\n",
       "    <tr>\n",
       "      <th>GO:0001775</th>\n",
       "      <td>cell activation</td>\n",
       "      <td>-64.298</td>\n",
       "      <td>-0.720</td>\n",
       "      <td>-41.099</td>\n",
       "    </tr>\n",
       "    <tr>\n",
       "      <th>GO:0050776</th>\n",
       "      <td>regulation of immune response</td>\n",
       "      <td>-49.651</td>\n",
       "      <td>-0.700</td>\n",
       "      <td>-39.040</td>\n",
       "    </tr>\n",
       "    <tr>\n",
       "      <th>GO:0030155</th>\n",
       "      <td>regulation of cell adhesion</td>\n",
       "      <td>-30.802</td>\n",
       "      <td>-1.538</td>\n",
       "      <td>-38.744</td>\n",
       "    </tr>\n",
       "    <tr>\n",
       "      <th>GO:0048518</th>\n",
       "      <td>positive regulation of biological process</td>\n",
       "      <td>-30.347</td>\n",
       "      <td>-2.592</td>\n",
       "      <td>-36.571</td>\n",
       "    </tr>\n",
       "    <tr>\n",
       "      <th>GO:0045321</th>\n",
       "      <td>leukocyte activation</td>\n",
       "      <td>-58.368</td>\n",
       "      <td>-0.866</td>\n",
       "      <td>-36.340</td>\n",
       "    </tr>\n",
       "    <tr>\n",
       "      <th>GO:0050865</th>\n",
       "      <td>regulation of cell activation</td>\n",
       "      <td>-50.200</td>\n",
       "      <td>-1.260</td>\n",
       "      <td>-33.119</td>\n",
       "    </tr>\n",
       "    <tr>\n",
       "      <th>GO:0006954</th>\n",
       "      <td>inflammatory response</td>\n",
       "      <td>-37.697</td>\n",
       "      <td>-0.568</td>\n",
       "      <td>-32.458</td>\n",
       "    </tr>\n",
       "    <tr>\n",
       "      <th>GO:0002694</th>\n",
       "      <td>regulation of leukocyte activation</td>\n",
       "      <td>-44.757</td>\n",
       "      <td>-0.575</td>\n",
       "      <td>-29.969</td>\n",
       "    </tr>\n",
       "    <tr>\n",
       "      <th>GO:0002274</th>\n",
       "      <td>myeloid leukocyte activation</td>\n",
       "      <td>-38.655</td>\n",
       "      <td>-0.139</td>\n",
       "      <td>-27.942</td>\n",
       "    </tr>\n",
       "    <tr>\n",
       "      <th>GO:0009611</th>\n",
       "      <td>response to wounding</td>\n",
       "      <td>-10.152</td>\n",
       "      <td>-11.323</td>\n",
       "      <td>-18.986</td>\n",
       "    </tr>\n",
       "    <tr>\n",
       "      <th>GO:0022610</th>\n",
       "      <td>biological adhesion</td>\n",
       "      <td>-20.314</td>\n",
       "      <td>-10.913</td>\n",
       "      <td>-18.082</td>\n",
       "    </tr>\n",
       "    <tr>\n",
       "      <th>GO:0007155</th>\n",
       "      <td>cell adhesion</td>\n",
       "      <td>-18.871</td>\n",
       "      <td>-11.204</td>\n",
       "      <td>-17.475</td>\n",
       "    </tr>\n",
       "    <tr>\n",
       "      <th>GO:0051607</th>\n",
       "      <td>defense response to virus</td>\n",
       "      <td>-4.150</td>\n",
       "      <td>-12.476</td>\n",
       "      <td>-9.937</td>\n",
       "    </tr>\n",
       "    <tr>\n",
       "      <th>GO:0009615</th>\n",
       "      <td>response to virus</td>\n",
       "      <td>-4.081</td>\n",
       "      <td>-11.102</td>\n",
       "      <td>-9.778</td>\n",
       "    </tr>\n",
       "    <tr>\n",
       "      <th>GO:0043062</th>\n",
       "      <td>extracellular structure organization</td>\n",
       "      <td>-1.800</td>\n",
       "      <td>-18.255</td>\n",
       "      <td>-6.879</td>\n",
       "    </tr>\n",
       "    <tr>\n",
       "      <th>GO:0030198</th>\n",
       "      <td>extracellular matrix organization</td>\n",
       "      <td>-0.590</td>\n",
       "      <td>-20.998</td>\n",
       "      <td>-6.106</td>\n",
       "    </tr>\n",
       "    <tr>\n",
       "      <th>GO:0032964</th>\n",
       "      <td>collagen biosynthetic process</td>\n",
       "      <td>0.000</td>\n",
       "      <td>-11.714</td>\n",
       "      <td>-4.253</td>\n",
       "    </tr>\n",
       "    <tr>\n",
       "      <th>GO:0097435</th>\n",
       "      <td>supramolecular fiber organization</td>\n",
       "      <td>-1.411</td>\n",
       "      <td>-10.813</td>\n",
       "      <td>-2.521</td>\n",
       "    </tr>\n",
       "    <tr>\n",
       "      <th>GO:0030199</th>\n",
       "      <td>collagen fibril organization</td>\n",
       "      <td>0.000</td>\n",
       "      <td>-16.254</td>\n",
       "      <td>-1.307</td>\n",
       "    </tr>\n",
       "    <tr>\n",
       "      <th>GO:0006518</th>\n",
       "      <td>peptide metabolic process</td>\n",
       "      <td>-7.343</td>\n",
       "      <td>-11.032</td>\n",
       "      <td>-1.246</td>\n",
       "    </tr>\n",
       "    <tr>\n",
       "      <th>GO:0071840</th>\n",
       "      <td>cellular component organization or biogenesis</td>\n",
       "      <td>-5.584</td>\n",
       "      <td>-10.463</td>\n",
       "      <td>-1.219</td>\n",
       "    </tr>\n",
       "    <tr>\n",
       "      <th>GO:0042274</th>\n",
       "      <td>ribosomal small subunit biogenesis</td>\n",
       "      <td>-14.811</td>\n",
       "      <td>-12.987</td>\n",
       "      <td>-0.837</td>\n",
       "    </tr>\n",
       "    <tr>\n",
       "      <th>GO:0006412</th>\n",
       "      <td>translation</td>\n",
       "      <td>-8.353</td>\n",
       "      <td>-10.360</td>\n",
       "      <td>-0.401</td>\n",
       "    </tr>\n",
       "    <tr>\n",
       "      <th>GO:0043043</th>\n",
       "      <td>peptide biosynthetic process</td>\n",
       "      <td>-7.495</td>\n",
       "      <td>-10.793</td>\n",
       "      <td>-0.317</td>\n",
       "    </tr>\n",
       "  </tbody>\n",
       "</table>\n",
       "</div>"
      ],
      "text/plain": [
       "                                                     Term  logP_aj  logP_balb  \\\n",
       "TermID                                                                          \n",
       "GO:0002376                          immune system process -109.932     -4.054   \n",
       "GO:0048583             regulation of response to stimulus  -44.603     -3.868   \n",
       "GO:0002682            regulation of immune system process  -78.392     -0.642   \n",
       "GO:0048584    positive regulation of response to stimulus  -44.404     -6.698   \n",
       "GO:0006955                                immune response  -68.227     -1.958   \n",
       "GO:0002252                        immune effector process  -44.690     -7.625   \n",
       "GO:0002684   positive regulation of immune system process  -68.813     -1.135   \n",
       "GO:0006952                               defense response  -51.698     -2.410   \n",
       "GO:0007166        cell surface receptor signaling pathway  -27.626     -0.936   \n",
       "GO:0050896                           response to stimulus  -19.775     -1.015   \n",
       "GO:0001775                                cell activation  -64.298     -0.720   \n",
       "GO:0050776                  regulation of immune response  -49.651     -0.700   \n",
       "GO:0030155                    regulation of cell adhesion  -30.802     -1.538   \n",
       "GO:0048518      positive regulation of biological process  -30.347     -2.592   \n",
       "GO:0045321                           leukocyte activation  -58.368     -0.866   \n",
       "GO:0050865                  regulation of cell activation  -50.200     -1.260   \n",
       "GO:0006954                          inflammatory response  -37.697     -0.568   \n",
       "GO:0002694             regulation of leukocyte activation  -44.757     -0.575   \n",
       "GO:0002274                   myeloid leukocyte activation  -38.655     -0.139   \n",
       "GO:0009611                           response to wounding  -10.152    -11.323   \n",
       "GO:0022610                            biological adhesion  -20.314    -10.913   \n",
       "GO:0007155                                  cell adhesion  -18.871    -11.204   \n",
       "GO:0051607                      defense response to virus   -4.150    -12.476   \n",
       "GO:0009615                              response to virus   -4.081    -11.102   \n",
       "GO:0043062           extracellular structure organization   -1.800    -18.255   \n",
       "GO:0030198              extracellular matrix organization   -0.590    -20.998   \n",
       "GO:0032964                  collagen biosynthetic process    0.000    -11.714   \n",
       "GO:0097435              supramolecular fiber organization   -1.411    -10.813   \n",
       "GO:0030199                   collagen fibril organization    0.000    -16.254   \n",
       "GO:0006518                      peptide metabolic process   -7.343    -11.032   \n",
       "GO:0071840  cellular component organization or biogenesis   -5.584    -10.463   \n",
       "GO:0042274             ribosomal small subunit biogenesis  -14.811    -12.987   \n",
       "GO:0006412                                    translation   -8.353    -10.360   \n",
       "GO:0043043                   peptide biosynthetic process   -7.495    -10.793   \n",
       "\n",
       "              logP  \n",
       "TermID              \n",
       "GO:0002376 -70.784  \n",
       "GO:0048583 -58.706  \n",
       "GO:0002682 -54.098  \n",
       "GO:0048584 -53.968  \n",
       "GO:0006955 -50.306  \n",
       "GO:0002252 -48.395  \n",
       "GO:0002684 -47.007  \n",
       "GO:0006952 -46.505  \n",
       "GO:0007166 -43.467  \n",
       "GO:0050896 -41.225  \n",
       "GO:0001775 -41.099  \n",
       "GO:0050776 -39.040  \n",
       "GO:0030155 -38.744  \n",
       "GO:0048518 -36.571  \n",
       "GO:0045321 -36.340  \n",
       "GO:0050865 -33.119  \n",
       "GO:0006954 -32.458  \n",
       "GO:0002694 -29.969  \n",
       "GO:0002274 -27.942  \n",
       "GO:0009611 -18.986  \n",
       "GO:0022610 -18.082  \n",
       "GO:0007155 -17.475  \n",
       "GO:0051607  -9.937  \n",
       "GO:0009615  -9.778  \n",
       "GO:0043062  -6.879  \n",
       "GO:0030198  -6.106  \n",
       "GO:0032964  -4.253  \n",
       "GO:0097435  -2.521  \n",
       "GO:0030199  -1.307  \n",
       "GO:0006518  -1.246  \n",
       "GO:0071840  -1.219  \n",
       "GO:0042274  -0.837  \n",
       "GO:0006412  -0.401  \n",
       "GO:0043043  -0.317  "
      ]
     },
     "execution_count": 20,
     "metadata": {},
     "output_type": "execute_result"
    }
   ],
   "source": [
    "df.sort_values('logP').round(3)"
   ]
  },
  {
   "cell_type": "markdown",
   "metadata": {},
   "source": [
    "## Select terms"
   ]
  },
  {
   "cell_type": "code",
   "execution_count": 29,
   "metadata": {},
   "outputs": [],
   "source": [
    "go_list = ['GO:0006954', 'GO:0009611', 'GO:0007166',\n",
    "           'GO:0030198', 'GO:0030199', 'GO:0051607',\n",
    "           'GO:0032964', 'GO:0022610', 'GO:0006952']\n",
    "\n",
    "# extract merged DF\n",
    "df = df_dict['aj_union'].loc[go_list, ['Term', 'logP']]\n",
    "df = df.merge(df_dict['balb_union'].loc[go_list, ['logP']],\n",
    "              left_index=True,\n",
    "              right_index=True,\n",
    "              suffixes=('_aj', '_balb'))\n",
    "df = df.merge(df_dict['c57_union'].loc[go_list, ['logP']],\n",
    "              left_index=True,\n",
    "              right_index=True,\n",
    "              suffixes=('', '_c57'))"
   ]
  },
  {
   "cell_type": "markdown",
   "metadata": {},
   "source": [
    "# cluster terms\n",
    "This makes a spider plot in which the strains specific functions are clustered together"
   ]
  },
  {
   "cell_type": "code",
   "execution_count": 30,
   "metadata": {},
   "outputs": [
    {
     "name": "stderr",
     "output_type": "stream",
     "text": [
      "/gpfs/data01/glasslab/home/h1bennet/.conda/envs/dataviz/lib/python3.7/site-packages/ipykernel_launcher.py:3: ClusterWarning: scipy.cluster: The symmetric non-negative hollow observation matrix looks suspiciously like an uncondensed distance matrix\n",
      "  This is separate from the ipykernel package so we can avoid doing imports until\n"
     ]
    },
    {
     "data": {
      "image/png": "[encoded data removed]",
      "text/plain": [
       "<Figure size 432x288 with 1 Axes>"
      ]
     },
     "metadata": {
      "needs_background": "light"
     },
     "output_type": "display_data"
    }
   ],
   "source": [
    "d2 = dist.pdist(df.iloc[:, 1:])\n",
    "D2 = dist.squareform(d2)\n",
    "Y2 = sch.linkage(D2, method='average', metric='euclidean') ### array-clustering metric - 'average', 'single', 'centroid', 'complete'\n",
    "Z2 = sch.dendrogram(Y2)"
   ]
  },
  {
   "cell_type": "code",
   "execution_count": 31,
   "metadata": {},
   "outputs": [
    {
     "data": {
      "image/png": "[encoded data removed]",
      "text/plain": [
       "<Figure size 216x216 with 1 Axes>"
      ]
     },
     "metadata": {
      "needs_background": "light"
     },
     "output_type": "display_data"
    }
   ],
   "source": [
    "theta = radar_factory(df.shape[0], frame='polygon')\n",
    "fig, ax = plt.subplots(figsize=(3, 3),\n",
    "                       subplot_kw=dict(projection='radar'))\n",
    "\n",
    "ax.set_rgrids([10,20,30],\n",
    "              fontsize=8)\n",
    "\n",
    "# ax.set_title(title, weight='bold', size='medium', position=(0.5, 1.1),\n",
    "#              horizontalalignment='center', verticalalignment='center')\n",
    "colors = ['#e41a1c', '#377eb8', '#4daf4a']\n",
    "lists = ['logP_aj', 'logP_balb', 'logP']\n",
    "\n",
    "for color, logp_lists in zip(colors, lists):\n",
    "    ax.plot(theta,\n",
    "            -df[logp_lists].iloc[Z2['leaves']],\n",
    "            color=color,\n",
    "            linewidth=1,\n",
    "            marker='o',\n",
    "            markersize=5,\n",
    "            markerfacecolor='white')\n",
    "    ax.fill(theta,\n",
    "            -df[logp_lists].iloc[Z2['leaves']],\n",
    "            color=color,\n",
    "            alpha=0.25)\n",
    "ax.set_varlabels(df['Term'].iloc[Z2['leaves']],\n",
    "                 fontsize=8)\n",
    "\n",
    "plt.savefig('./figures/spider_plot_curated_terms.pdf',sep='\\t')"
   ]
  },
  {
   "cell_type": "code",
   "execution_count": null,
   "metadata": {},
   "outputs": [],
   "source": []
  },
  {
   "cell_type": "code",
   "execution_count": null,
   "metadata": {},
   "outputs": [],
   "source": []
  }
 ],
 "metadata": {
  "kernelspec": {
   "display_name": "dataviz",
   "language": "python",
   "name": "dataviz"
  },
  "language_info": {
   "codemirror_mode": {
    "name": "ipython",
    "version": 3
   },
   "file_extension": ".py",
   "mimetype": "text/x-python",
   "name": "python",
   "nbconvert_exporter": "python",
   "pygments_lexer": "ipython3",
   "version": "3.7.5"
  }
 },
 "nbformat": 4,
 "nbformat_minor": 2
}
