{
 "cells": [
  {
   "cell_type": "code",
   "execution_count": 1,
   "metadata": {},
   "outputs": [],
   "source": [
    "### header ###\n",
    "__author__ = \"Hunter Bennett\"\n",
    "__license__ = \"BSD\"\n",
    "__email__ = \"hunter.r.bennett@gmail.com\"\n",
    "%load_ext autoreload\n",
    "%autoreload 2\n",
    "%matplotlib inline\n",
    "### imports ###\n",
    "import sys\n",
    "import os\n",
    "import re\n",
    "import glob\n",
    "import pandas as pd\n",
    "import numpy as np\n",
    "import matplotlib\n",
    "import matplotlib.pyplot as plt \n",
    "import seaborn as sns\n",
    "\n",
    "matplotlib.rcParams['savefig.dpi'] = 200\n",
    "sys.setrecursionlimit(3000)\n",
    "sns.set(font_scale=1)\n",
    "sns.set_context('talk')\n",
    "sns.set_style('white')\n",
    "\n",
    "# import custom functions\n",
    "sys.path.insert(0, '/home/h1bennet/code/')\n",
    "from hbUtils import ngs_qc, quantile_normalize_df\n",
    "from homer_preprocessing import read_homer_gene_exp, import_homer_diffgene, pull_comparisons_get_diff\n",
    "from plotting_scripts import label_point, pca_rpkm_mat, get_diff_volcano, plot_exp_rpkm, gene_list_bar_plot"
   ]
  },
  {
   "cell_type": "code",
   "execution_count": 2,
   "metadata": {},
   "outputs": [],
   "source": [
    "workingDirectory = '/home/h1bennet/strains_rna/results/WL00_Strains_Control_WholeLiver_RNA/'\n",
    "dataDirectory = '/home/h1bennet/strains/data/RNA/control_wholeliver/'\n",
    "if not os.path.isdir(workingDirectory):\n",
    "    os.mkdir(workingDirectory)\n",
    "os.chdir(workingDirectory)\n"
   ]
  },
  {
   "cell_type": "markdown",
   "metadata": {},
   "source": [
    "# Check qc stats"
   ]
  },
  {
   "cell_type": "code",
   "execution_count": 3,
   "metadata": {
    "scrolled": false
   },
   "outputs": [
    {
     "name": "stdout",
     "output_type": "stream",
     "text": [
      "/home/h1bennet/strains/data/RNA/control_wholeliver//\n",
      "./control_wholeliver_qc/\n"
     ]
    },
    {
     "data": {
      "text/plain": [
       "<Figure size 432x288 with 0 Axes>"
      ]
     },
     "metadata": {},
     "output_type": "display_data"
    }
   ],
   "source": [
    "qc = ngs_qc(dataDirectory)"
   ]
  },
  {
   "cell_type": "code",
   "execution_count": 4,
   "metadata": {},
   "outputs": [
    {
     "data": {
      "text/html": [
       "<div>\n",
       "<style scoped>\n",
       "    .dataframe tbody tr th:only-of-type {\n",
       "        vertical-align: middle;\n",
       "    }\n",
       "\n",
       "    .dataframe tbody tr th {\n",
       "        vertical-align: top;\n",
       "    }\n",
       "\n",
       "    .dataframe thead th {\n",
       "        text-align: right;\n",
       "    }\n",
       "</style>\n",
       "<table border=\"1\" class=\"dataframe\">\n",
       "  <thead>\n",
       "    <tr style=\"text-align: right;\">\n",
       "      <th></th>\n",
       "      <th>uniquePositions</th>\n",
       "      <th>fragmentLengthEstimate</th>\n",
       "      <th>tagsPerBP</th>\n",
       "      <th>clonality</th>\n",
       "      <th>GC_Content</th>\n",
       "      <th>totalReads</th>\n",
       "      <th>uniquelyMappedReads</th>\n",
       "      <th>multiMappedReads</th>\n",
       "      <th>frac_unmappedReads_mismatch</th>\n",
       "      <th>frac_unmappedReads_short</th>\n",
       "      <th>frac_unmappedReads_other</th>\n",
       "      <th>uniquelyMappedFraction</th>\n",
       "      <th>mappedFraction</th>\n",
       "    </tr>\n",
       "  </thead>\n",
       "  <tbody>\n",
       "    <tr>\n",
       "      <th>NCoRWT_WholeLiver_RNA_ControlDiet_21week_LN169A_161011</th>\n",
       "      <td>5418430.0</td>\n",
       "      <td>75.0</td>\n",
       "      <td>0.009055</td>\n",
       "      <td>4.547</td>\n",
       "      <td>0.518</td>\n",
       "      <td>28446962.0</td>\n",
       "      <td>24637537.0</td>\n",
       "      <td>3244770.0</td>\n",
       "      <td>0.0</td>\n",
       "      <td>0.0028</td>\n",
       "      <td>0.0040</td>\n",
       "      <td>0.866087</td>\n",
       "      <td>0.9932</td>\n",
       "    </tr>\n",
       "    <tr>\n",
       "      <th>NCoRWT_WholeLiver_RNA_ControlDiet_21week_LN169B_161019</th>\n",
       "      <td>6143422.0</td>\n",
       "      <td>75.0</td>\n",
       "      <td>0.008829</td>\n",
       "      <td>3.911</td>\n",
       "      <td>0.508</td>\n",
       "      <td>28320636.0</td>\n",
       "      <td>24027018.0</td>\n",
       "      <td>3615957.0</td>\n",
       "      <td>0.0</td>\n",
       "      <td>0.0031</td>\n",
       "      <td>0.0043</td>\n",
       "      <td>0.848393</td>\n",
       "      <td>0.9926</td>\n",
       "    </tr>\n",
       "    <tr>\n",
       "      <th>aj_WholeLiver_RNA_ControlDiet_21week_AJ7A_160829.aj.star_shifted_from_AJ.sam</th>\n",
       "      <td>6454076.0</td>\n",
       "      <td>75.0</td>\n",
       "      <td>0.009564</td>\n",
       "      <td>4.032</td>\n",
       "      <td>-1.000</td>\n",
       "      <td>30328593.0</td>\n",
       "      <td>26023507.0</td>\n",
       "      <td>3285931.0</td>\n",
       "      <td>0.0</td>\n",
       "      <td>0.0036</td>\n",
       "      <td>0.0037</td>\n",
       "      <td>0.858052</td>\n",
       "      <td>0.9927</td>\n",
       "    </tr>\n",
       "    <tr>\n",
       "      <th>aj_WholeLiver_RNA_ControlDiet_21week_AJ7C_160915.aj.star_shifted_from_AJ.sam</th>\n",
       "      <td>6436851.0</td>\n",
       "      <td>75.0</td>\n",
       "      <td>0.009766</td>\n",
       "      <td>4.129</td>\n",
       "      <td>-1.000</td>\n",
       "      <td>31302418.0</td>\n",
       "      <td>26576241.0</td>\n",
       "      <td>3469062.0</td>\n",
       "      <td>0.0</td>\n",
       "      <td>0.0034</td>\n",
       "      <td>0.0032</td>\n",
       "      <td>0.849016</td>\n",
       "      <td>0.9934</td>\n",
       "    </tr>\n",
       "    <tr>\n",
       "      <th>aj_WholeLiver_RNA_ControlDiet_21week_AJ7D_160915.aj.star_shifted_from_AJ.sam</th>\n",
       "      <td>6792930.0</td>\n",
       "      <td>75.0</td>\n",
       "      <td>0.009777</td>\n",
       "      <td>3.917</td>\n",
       "      <td>-1.000</td>\n",
       "      <td>30959468.0</td>\n",
       "      <td>26606947.0</td>\n",
       "      <td>3215638.0</td>\n",
       "      <td>0.0</td>\n",
       "      <td>0.0037</td>\n",
       "      <td>0.0034</td>\n",
       "      <td>0.859412</td>\n",
       "      <td>0.9929</td>\n",
       "    </tr>\n",
       "    <tr>\n",
       "      <th>balbc_WholeLiver_RNA_ControlDiet_21week_BALB7A_160829.balbcj.star_shifted_from_BALBCJ.sam</th>\n",
       "      <td>3247208.0</td>\n",
       "      <td>75.0</td>\n",
       "      <td>0.006483</td>\n",
       "      <td>5.432</td>\n",
       "      <td>-1.000</td>\n",
       "      <td>21059751.0</td>\n",
       "      <td>17639457.0</td>\n",
       "      <td>2204592.0</td>\n",
       "      <td>0.0</td>\n",
       "      <td>0.0417</td>\n",
       "      <td>0.0064</td>\n",
       "      <td>0.837591</td>\n",
       "      <td>0.9519</td>\n",
       "    </tr>\n",
       "    <tr>\n",
       "      <th>balbc_WholeLiver_RNA_ControlDiet_21week_BALB7B_160915.balbcj.star_shifted_from_BALBCJ.sam</th>\n",
       "      <td>4533870.0</td>\n",
       "      <td>75.0</td>\n",
       "      <td>0.009134</td>\n",
       "      <td>5.482</td>\n",
       "      <td>-1.000</td>\n",
       "      <td>28591122.0</td>\n",
       "      <td>24853107.0</td>\n",
       "      <td>3295667.0</td>\n",
       "      <td>0.0</td>\n",
       "      <td>0.0044</td>\n",
       "      <td>0.0043</td>\n",
       "      <td>0.869260</td>\n",
       "      <td>0.9913</td>\n",
       "    </tr>\n",
       "    <tr>\n",
       "      <th>balbc_WholeLiver_RNA_ControlDiet_21week_BALB7D_160915.balbcj.star_shifted_from_BALBCJ.sam</th>\n",
       "      <td>6070319.0</td>\n",
       "      <td>75.0</td>\n",
       "      <td>0.008992</td>\n",
       "      <td>4.031</td>\n",
       "      <td>-1.000</td>\n",
       "      <td>28022806.0</td>\n",
       "      <td>24471101.0</td>\n",
       "      <td>3164767.0</td>\n",
       "      <td>0.0</td>\n",
       "      <td>0.0049</td>\n",
       "      <td>0.0035</td>\n",
       "      <td>0.873257</td>\n",
       "      <td>0.9916</td>\n",
       "    </tr>\n",
       "  </tbody>\n",
       "</table>\n",
       "</div>"
      ],
      "text/plain": [
       "                                                    uniquePositions  \\\n",
       "NCoRWT_WholeLiver_RNA_ControlDiet_21week_LN169A...        5418430.0   \n",
       "NCoRWT_WholeLiver_RNA_ControlDiet_21week_LN169B...        6143422.0   \n",
       "aj_WholeLiver_RNA_ControlDiet_21week_AJ7A_16082...        6454076.0   \n",
       "aj_WholeLiver_RNA_ControlDiet_21week_AJ7C_16091...        6436851.0   \n",
       "aj_WholeLiver_RNA_ControlDiet_21week_AJ7D_16091...        6792930.0   \n",
       "balbc_WholeLiver_RNA_ControlDiet_21week_BALB7A_...        3247208.0   \n",
       "balbc_WholeLiver_RNA_ControlDiet_21week_BALB7B_...        4533870.0   \n",
       "balbc_WholeLiver_RNA_ControlDiet_21week_BALB7D_...        6070319.0   \n",
       "\n",
       "                                                    fragmentLengthEstimate  \\\n",
       "NCoRWT_WholeLiver_RNA_ControlDiet_21week_LN169A...                    75.0   \n",
       "NCoRWT_WholeLiver_RNA_ControlDiet_21week_LN169B...                    75.0   \n",
       "aj_WholeLiver_RNA_ControlDiet_21week_AJ7A_16082...                    75.0   \n",
       "aj_WholeLiver_RNA_ControlDiet_21week_AJ7C_16091...                    75.0   \n",
       "aj_WholeLiver_RNA_ControlDiet_21week_AJ7D_16091...                    75.0   \n",
       "balbc_WholeLiver_RNA_ControlDiet_21week_BALB7A_...                    75.0   \n",
       "balbc_WholeLiver_RNA_ControlDiet_21week_BALB7B_...                    75.0   \n",
       "balbc_WholeLiver_RNA_ControlDiet_21week_BALB7D_...                    75.0   \n",
       "\n",
       "                                                    tagsPerBP  clonality  \\\n",
       "NCoRWT_WholeLiver_RNA_ControlDiet_21week_LN169A...   0.009055      4.547   \n",
       "NCoRWT_WholeLiver_RNA_ControlDiet_21week_LN169B...   0.008829      3.911   \n",
       "aj_WholeLiver_RNA_ControlDiet_21week_AJ7A_16082...   0.009564      4.032   \n",
       "aj_WholeLiver_RNA_ControlDiet_21week_AJ7C_16091...   0.009766      4.129   \n",
       "aj_WholeLiver_RNA_ControlDiet_21week_AJ7D_16091...   0.009777      3.917   \n",
       "balbc_WholeLiver_RNA_ControlDiet_21week_BALB7A_...   0.006483      5.432   \n",
       "balbc_WholeLiver_RNA_ControlDiet_21week_BALB7B_...   0.009134      5.482   \n",
       "balbc_WholeLiver_RNA_ControlDiet_21week_BALB7D_...   0.008992      4.031   \n",
       "\n",
       "                                                    GC_Content  totalReads  \\\n",
       "NCoRWT_WholeLiver_RNA_ControlDiet_21week_LN169A...       0.518  28446962.0   \n",
       "NCoRWT_WholeLiver_RNA_ControlDiet_21week_LN169B...       0.508  28320636.0   \n",
       "aj_WholeLiver_RNA_ControlDiet_21week_AJ7A_16082...      -1.000  30328593.0   \n",
       "aj_WholeLiver_RNA_ControlDiet_21week_AJ7C_16091...      -1.000  31302418.0   \n",
       "aj_WholeLiver_RNA_ControlDiet_21week_AJ7D_16091...      -1.000  30959468.0   \n",
       "balbc_WholeLiver_RNA_ControlDiet_21week_BALB7A_...      -1.000  21059751.0   \n",
       "balbc_WholeLiver_RNA_ControlDiet_21week_BALB7B_...      -1.000  28591122.0   \n",
       "balbc_WholeLiver_RNA_ControlDiet_21week_BALB7D_...      -1.000  28022806.0   \n",
       "\n",
       "                                                    uniquelyMappedReads  \\\n",
       "NCoRWT_WholeLiver_RNA_ControlDiet_21week_LN169A...           24637537.0   \n",
       "NCoRWT_WholeLiver_RNA_ControlDiet_21week_LN169B...           24027018.0   \n",
       "aj_WholeLiver_RNA_ControlDiet_21week_AJ7A_16082...           26023507.0   \n",
       "aj_WholeLiver_RNA_ControlDiet_21week_AJ7C_16091...           26576241.0   \n",
       "aj_WholeLiver_RNA_ControlDiet_21week_AJ7D_16091...           26606947.0   \n",
       "balbc_WholeLiver_RNA_ControlDiet_21week_BALB7A_...           17639457.0   \n",
       "balbc_WholeLiver_RNA_ControlDiet_21week_BALB7B_...           24853107.0   \n",
       "balbc_WholeLiver_RNA_ControlDiet_21week_BALB7D_...           24471101.0   \n",
       "\n",
       "                                                    multiMappedReads  \\\n",
       "NCoRWT_WholeLiver_RNA_ControlDiet_21week_LN169A...         3244770.0   \n",
       "NCoRWT_WholeLiver_RNA_ControlDiet_21week_LN169B...         3615957.0   \n",
       "aj_WholeLiver_RNA_ControlDiet_21week_AJ7A_16082...         3285931.0   \n",
       "aj_WholeLiver_RNA_ControlDiet_21week_AJ7C_16091...         3469062.0   \n",
       "aj_WholeLiver_RNA_ControlDiet_21week_AJ7D_16091...         3215638.0   \n",
       "balbc_WholeLiver_RNA_ControlDiet_21week_BALB7A_...         2204592.0   \n",
       "balbc_WholeLiver_RNA_ControlDiet_21week_BALB7B_...         3295667.0   \n",
       "balbc_WholeLiver_RNA_ControlDiet_21week_BALB7D_...         3164767.0   \n",
       "\n",
       "                                                    frac_unmappedReads_mismatch  \\\n",
       "NCoRWT_WholeLiver_RNA_ControlDiet_21week_LN169A...                          0.0   \n",
       "NCoRWT_WholeLiver_RNA_ControlDiet_21week_LN169B...                          0.0   \n",
       "aj_WholeLiver_RNA_ControlDiet_21week_AJ7A_16082...                          0.0   \n",
       "aj_WholeLiver_RNA_ControlDiet_21week_AJ7C_16091...                          0.0   \n",
       "aj_WholeLiver_RNA_ControlDiet_21week_AJ7D_16091...                          0.0   \n",
       "balbc_WholeLiver_RNA_ControlDiet_21week_BALB7A_...                          0.0   \n",
       "balbc_WholeLiver_RNA_ControlDiet_21week_BALB7B_...                          0.0   \n",
       "balbc_WholeLiver_RNA_ControlDiet_21week_BALB7D_...                          0.0   \n",
       "\n",
       "                                                    frac_unmappedReads_short  \\\n",
       "NCoRWT_WholeLiver_RNA_ControlDiet_21week_LN169A...                    0.0028   \n",
       "NCoRWT_WholeLiver_RNA_ControlDiet_21week_LN169B...                    0.0031   \n",
       "aj_WholeLiver_RNA_ControlDiet_21week_AJ7A_16082...                    0.0036   \n",
       "aj_WholeLiver_RNA_ControlDiet_21week_AJ7C_16091...                    0.0034   \n",
       "aj_WholeLiver_RNA_ControlDiet_21week_AJ7D_16091...                    0.0037   \n",
       "balbc_WholeLiver_RNA_ControlDiet_21week_BALB7A_...                    0.0417   \n",
       "balbc_WholeLiver_RNA_ControlDiet_21week_BALB7B_...                    0.0044   \n",
       "balbc_WholeLiver_RNA_ControlDiet_21week_BALB7D_...                    0.0049   \n",
       "\n",
       "                                                    frac_unmappedReads_other  \\\n",
       "NCoRWT_WholeLiver_RNA_ControlDiet_21week_LN169A...                    0.0040   \n",
       "NCoRWT_WholeLiver_RNA_ControlDiet_21week_LN169B...                    0.0043   \n",
       "aj_WholeLiver_RNA_ControlDiet_21week_AJ7A_16082...                    0.0037   \n",
       "aj_WholeLiver_RNA_ControlDiet_21week_AJ7C_16091...                    0.0032   \n",
       "aj_WholeLiver_RNA_ControlDiet_21week_AJ7D_16091...                    0.0034   \n",
       "balbc_WholeLiver_RNA_ControlDiet_21week_BALB7A_...                    0.0064   \n",
       "balbc_WholeLiver_RNA_ControlDiet_21week_BALB7B_...                    0.0043   \n",
       "balbc_WholeLiver_RNA_ControlDiet_21week_BALB7D_...                    0.0035   \n",
       "\n",
       "                                                    uniquelyMappedFraction  \\\n",
       "NCoRWT_WholeLiver_RNA_ControlDiet_21week_LN169A...                0.866087   \n",
       "NCoRWT_WholeLiver_RNA_ControlDiet_21week_LN169B...                0.848393   \n",
       "aj_WholeLiver_RNA_ControlDiet_21week_AJ7A_16082...                0.858052   \n",
       "aj_WholeLiver_RNA_ControlDiet_21week_AJ7C_16091...                0.849016   \n",
       "aj_WholeLiver_RNA_ControlDiet_21week_AJ7D_16091...                0.859412   \n",
       "balbc_WholeLiver_RNA_ControlDiet_21week_BALB7A_...                0.837591   \n",
       "balbc_WholeLiver_RNA_ControlDiet_21week_BALB7B_...                0.869260   \n",
       "balbc_WholeLiver_RNA_ControlDiet_21week_BALB7D_...                0.873257   \n",
       "\n",
       "                                                    mappedFraction  \n",
       "NCoRWT_WholeLiver_RNA_ControlDiet_21week_LN169A...          0.9932  \n",
       "NCoRWT_WholeLiver_RNA_ControlDiet_21week_LN169B...          0.9926  \n",
       "aj_WholeLiver_RNA_ControlDiet_21week_AJ7A_16082...          0.9927  \n",
       "aj_WholeLiver_RNA_ControlDiet_21week_AJ7C_16091...          0.9934  \n",
       "aj_WholeLiver_RNA_ControlDiet_21week_AJ7D_16091...          0.9929  \n",
       "balbc_WholeLiver_RNA_ControlDiet_21week_BALB7A_...          0.9519  \n",
       "balbc_WholeLiver_RNA_ControlDiet_21week_BALB7B_...          0.9913  \n",
       "balbc_WholeLiver_RNA_ControlDiet_21week_BALB7D_...          0.9916  "
      ]
     },
     "execution_count": 4,
     "metadata": {},
     "output_type": "execute_result"
    }
   ],
   "source": [
    "qc"
   ]
  },
  {
   "cell_type": "markdown",
   "metadata": {},
   "source": [
    "# Run Oyoung's pipeline to process RNA-seq data consistantly."
   ]
  },
  {
   "cell_type": "code",
   "execution_count": 5,
   "metadata": {},
   "outputs": [],
   "source": [
    "c57_paths = list(np.sort(glob.glob(dataDirectory+'/NCoRWT*')))\n",
    "balbc_paths = list(np.sort(glob.glob(dataDirectory+'/balbc*')))\n",
    "aj_paths = list(np.sort(glob.glob(dataDirectory+'/aj*')))"
   ]
  },
  {
   "cell_type": "code",
   "execution_count": 6,
   "metadata": {},
   "outputs": [],
   "source": [
    "c57_ids = [i.split('/')[-1].split('_')[4] for i in c57_paths]\n",
    "balbc_ids = [i.split('/')[-1].split('_')[4] for i in balbc_paths]\n",
    "aj_ids = [i.split('/')[-1].split('_')[4] for i in aj_paths]"
   ]
  },
  {
   "cell_type": "code",
   "execution_count": 7,
   "metadata": {},
   "outputs": [],
   "source": [
    "ids = ['c57_wholeliver_control_21weeks',\n",
    "       'balbc_wholeliver_control_21weeks',\n",
    "       'aj_wholeliver_control_21weeks']\n",
    "colors = ['#31a354',\n",
    "          '#3182bd',\n",
    "          '#de2d26']\n",
    "paths = [';'.join(c57_paths),\n",
    "         ';'.join(balbc_paths),\n",
    "         ';'.join(aj_paths)]\n",
    "short_ids = [';'.join([ids[0]+'_'+i for i in c57_ids]),\n",
    "             ';'.join([ids[1]+'_'+i for i in balbc_ids]),\n",
    "             ';'.join([ids[2]+'_'+i for i in aj_ids])]"
   ]
  },
  {
   "cell_type": "code",
   "execution_count": 8,
   "metadata": {},
   "outputs": [],
   "source": [
    "pd.DataFrame([ids,colors,paths,short_ids]).T.to_csv('./sampleDef.txt',\n",
    "                                                    sep='\\t',\n",
    "                                                    header=False,\n",
    "                                                    index=False)"
   ]
  },
  {
   "cell_type": "markdown",
   "metadata": {},
   "source": [
    "# Run O'young RNA pipeline"
   ]
  },
  {
   "cell_type": "markdown",
   "metadata": {},
   "source": [
    "Run the code below in BASH\n",
    "\n",
    "    source activate r-ouyangPipe\n",
    "    \n",
    "    mkdir ./expression/\n",
    "    \n",
    "    mkdir ./differential/\n",
    "    \n",
    "    rnaQuan.R ./sampleDef.txt -o ./expression/\n",
    "\n",
    "    rnaDiff.R ./sampleDef.txt -c ./expression/rawC.txt \\\n",
    "    -t ./expression/rawT.txt -o ./differential/\n",
    "\n",
    "    # annotate scatter files with tag counts\n",
    "    for scatter in ./differential/*scatter.txt;\n",
    "    do diff2Homer.R -d $scatter -q ./expression/HOMER.rawTPM.txt;\n",
    "    done"
   ]
  },
  {
   "cell_type": "markdown",
   "metadata": {},
   "source": [
    "### Make sure to check the PCA pdf file for outliers"
   ]
  },
  {
   "cell_type": "markdown",
   "metadata": {},
   "source": [
    "# Import differential gene files for examination and plotting"
   ]
  },
  {
   "cell_type": "code",
   "execution_count": 9,
   "metadata": {},
   "outputs": [],
   "source": [
    "if not os.path.isdir('./gene_lists/'):\n",
    "    os.mkdir('./gene_lists')"
   ]
  },
  {
   "cell_type": "code",
   "execution_count": 10,
   "metadata": {},
   "outputs": [],
   "source": [
    "strains = ['aj', 'balb', 'c57']\n",
    "log2fc = 1\n",
    "padj = 0.05"
   ]
  },
  {
   "cell_type": "code",
   "execution_count": 11,
   "metadata": {},
   "outputs": [],
   "source": [
    "gene_list_dict ={}"
   ]
  },
  {
   "cell_type": "code",
   "execution_count": 14,
   "metadata": {},
   "outputs": [
    {
     "name": "stdout",
     "output_type": "stream",
     "text": [
      "./differential/aj_wholeliver_control_21weeks.vs.c57_wholeliver_control_21weeks.scatter.homer.txt\n",
      "ge all transcripts (24940, 15)\n",
      "Diff Gene selected transcripts (5769, 14)\n",
      "ge selected transcripts (5769, 15)\n",
      "./differential/aj_wholeliver_control_21weeks.vs.balbc_wholeliver_control_21weeks.scatter.homer.txt\n",
      "ge all transcripts (24940, 15)\n",
      "Diff Gene selected transcripts (6085, 14)\n",
      "ge selected transcripts (6085, 15)\n",
      "./differential/balbc_wholeliver_control_21weeks.vs.aj_wholeliver_control_21weeks.scatter.homer.txt\n",
      "ge all transcripts (24940, 15)\n",
      "Diff Gene selected transcripts (6085, 14)\n",
      "ge selected transcripts (6085, 15)\n",
      "./differential/balbc_wholeliver_control_21weeks.vs.c57_wholeliver_control_21weeks.scatter.homer.txt\n",
      "ge all transcripts (24940, 15)\n",
      "Diff Gene selected transcripts (6114, 14)\n",
      "ge selected transcripts (6114, 15)\n",
      "./differential/c57_wholeliver_control_21weeks.vs.balbc_wholeliver_control_21weeks.scatter.homer.txt\n",
      "ge all transcripts (24940, 15)\n",
      "Diff Gene selected transcripts (6114, 14)\n",
      "ge selected transcripts (6114, 15)\n",
      "./differential/c57_wholeliver_control_21weeks.vs.aj_wholeliver_control_21weeks.scatter.homer.txt\n",
      "ge all transcripts (24940, 15)\n",
      "Diff Gene selected transcripts (5769, 14)\n",
      "ge selected transcripts (5769, 15)\n"
     ]
    }
   ],
   "source": [
    "for strain in strains:\n",
    "    # initialize gene lists\n",
    "    g_intersect = set()\n",
    "    g_union = set()\n",
    "    for i in glob.glob('./differential/'+strain+'*homer.txt'):\n",
    "        print(i)\n",
    "        # read in gene expression data\n",
    "        df, tpm, tpm_mat, tpm_mat_quant = import_homer_diffgene(\n",
    "            depath=i,\n",
    "            gepath='./expression/HOMER.rawTPM.txt',\n",
    "            gene_name_index=True)\n",
    "\n",
    "        # select differential genes\n",
    "        df = df.loc[~(df.chr.str.contains('chrX|chrY|ChrUn')), :]\n",
    "        sig_genes = df.index[(df['padj'] < padj) & (df['log2FoldChange'] <= -log2fc)].to_list()\n",
    "        \n",
    "        # add to sets\n",
    "        if len(g_union) == 0:\n",
    "            g_union = set(sig_genes)\n",
    "            g_intersect = set(sig_genes)\n",
    "        else:\n",
    "            g_union = g_union.union(sig_genes)\n",
    "            g_intersect = g_intersect.intersection(sig_genes)\n",
    "        \n",
    "        # print('union set length:', print(len(g_union)))\n",
    "        # print('intersection set length:', print(len(g_intersect)))\n",
    "    \n",
    "    # after getting union and intersection sets add to dict\n",
    "    gene_list_dict[strain+'_union'] = list(g_union)\n",
    "    gene_list_dict[strain+'_intersection'] = list(g_intersect)\n",
    "        "
   ]
  },
  {
   "cell_type": "code",
   "execution_count": 15,
   "metadata": {},
   "outputs": [
    {
     "name": "stdout",
     "output_type": "stream",
     "text": [
      "aj_union\n",
      "214 genes\n",
      "aj_intersection\n",
      "41 genes\n",
      "balb_union\n",
      "158 genes\n",
      "balb_intersection\n",
      "39 genes\n",
      "c57_union\n",
      "155 genes\n",
      "c57_intersection\n",
      "34 genes\n"
     ]
    }
   ],
   "source": [
    "for key in gene_list_dict.keys():\n",
    "    print(key)\n",
    "    print(len(gene_list_dict[key]), 'genes')\n",
    "    with open('./gene_lists/'+key+'_wholeliver_control_genes_fc_'+str(log2fc)+'_pval_'+str(padj)+'.txt', 'w') as f:\n",
    "        f.write('Gene\\n')\n",
    "        for i in gene_list_dict[key]:\n",
    "            f.write(i+'\\n')\n",
    "        f.close()"
   ]
  },
  {
   "cell_type": "markdown",
   "metadata": {},
   "source": [
    "# Plot potential nichenet ligands"
   ]
  },
  {
   "cell_type": "code",
   "execution_count": 16,
   "metadata": {},
   "outputs": [],
   "source": [
    "if not os.path.isdir('./figures/'):\n",
    "    os.mkdir('./figures')"
   ]
  },
  {
   "cell_type": "markdown",
   "metadata": {},
   "source": [
    "Read in raw expression values"
   ]
  },
  {
   "cell_type": "code",
   "execution_count": 17,
   "metadata": {},
   "outputs": [],
   "source": [
    "tpm_mat = pd.read_csv('./expression/rawT.txt', sep='\\t', index_col=0)"
   ]
  },
  {
   "cell_type": "markdown",
   "metadata": {},
   "source": [
    "Read in nichenet ligand list"
   ]
  },
  {
   "cell_type": "code",
   "execution_count": 18,
   "metadata": {},
   "outputs": [
    {
     "data": {
      "text/plain": [
       "['Cxcl1', 'Cxcl2', 'Cxcl3', 'Cxcl5', 'Ppbp']"
      ]
     },
     "execution_count": 18,
     "metadata": {},
     "output_type": "execute_result"
    }
   ],
   "source": [
    "ligands = pd.read_csv('/home/h1bennet/data/gene_lists/nichenet_ligands.txt',\n",
    "                      sep='\\t')['x'].str.capitalize().tolist()\n",
    "ligands[:5]"
   ]
  },
  {
   "cell_type": "code",
   "execution_count": 19,
   "metadata": {},
   "outputs": [],
   "source": [
    "act = []\n",
    "for key in gene_list_dict.keys():\n",
    "    if 'intersection' in key:\n",
    "        act.extend(gene_list_dict[key])\n",
    "\n",
    "act = set(act)\n",
    "# overlap with ligands\n",
    "act_ligands = act.intersection(ligands)"
   ]
  },
  {
   "cell_type": "code",
   "execution_count": 20,
   "metadata": {},
   "outputs": [
    {
     "data": {
      "text/plain": [
       "{'Serpine2'}"
      ]
     },
     "execution_count": 20,
     "metadata": {},
     "output_type": "execute_result"
    }
   ],
   "source": [
    "act_ligands"
   ]
  },
  {
   "cell_type": "code",
   "execution_count": 22,
   "metadata": {},
   "outputs": [
    {
     "data": {
      "text/plain": [
       "Index(['RepeatID', 'chr', 'start', 'end', 'strand', 'Length', 'Copies',\n",
       "       'Annotation/Divergence',\n",
       "       '/home/h1bennet/strains/data/RNA/control_wholeliver/NCoRWT_WholeLiver_RNA_ControlDiet_21week_LN169A_161011 TPM',\n",
       "       '/home/h1bennet/strains/data/RNA/control_wholeliver/NCoRWT_WholeLiver_RNA_ControlDiet_21week_LN169B_161019 TPM',\n",
       "       '/home/h1bennet/strains/data/RNA/control_wholeliver/balbc_WholeLiver_RNA_ControlDiet_21week_BALB7A_160829.balbcj.star_shifted_from_BALBCJ.sam TPM',\n",
       "       '/home/h1bennet/strains/data/RNA/control_wholeliver/balbc_WholeLiver_RNA_ControlDiet_21week_BALB7B_160915.balbcj.star_shifted_from_BALBCJ.sam TPM',\n",
       "       '/home/h1bennet/strains/data/RNA/control_wholeliver/balbc_WholeLiver_RNA_ControlDiet_21week_BALB7D_160915.balbcj.star_shifted_from_BALBCJ.sam TPM',\n",
       "       '/home/h1bennet/strains/data/RNA/control_wholeliver/aj_WholeLiver_RNA_ControlDiet_21week_AJ7A_160829.aj.star_shifted_from_AJ.sam TPM',\n",
       "       '/home/h1bennet/strains/data/RNA/control_wholeliver/aj_WholeLiver_RNA_ControlDiet_21week_AJ7C_160915.aj.star_shifted_from_AJ.sam TPM',\n",
       "       '/home/h1bennet/strains/data/RNA/control_wholeliver/aj_WholeLiver_RNA_ControlDiet_21week_AJ7D_160915.aj.star_shifted_from_AJ.sam TPM'],\n",
       "      dtype='object')"
      ]
     },
     "execution_count": 22,
     "metadata": {},
     "output_type": "execute_result"
    }
   ],
   "source": [
    "tpm.columns"
   ]
  },
  {
   "cell_type": "code",
   "execution_count": 25,
   "metadata": {},
   "outputs": [],
   "source": [
    "groups = [[0,1],\n",
    "          [2,3,4],\n",
    "          [5,6,7]]\n",
    "\n",
    "group_labels = ['C57BL/6J LSEC Control young',\n",
    "                'Balb/cJ LSEC Control young',\n",
    "                'AJ LSEC Control young']\n",
    "\n",
    "colors = ['#74c476',\n",
    "          '#6baed6',\n",
    "          '#de2d26']"
   ]
  },
  {
   "cell_type": "code",
   "execution_count": 26,
   "metadata": {},
   "outputs": [
    {
     "data": {
      "image/png": "[encoded data removed]",
      "text/plain": [
       "<Figure size 288x288 with 1 Axes>"
      ]
     },
     "metadata": {
      "needs_background": "light"
     },
     "output_type": "display_data"
    }
   ],
   "source": [
    "fig, ax = plt.subplots(figsize=(4, 4))\n",
    "\n",
    "gene_list_bar_plot(act_ligands,\n",
    "                   tpm_mat,\n",
    "                   groups=groups,\n",
    "                   group_labels = group_labels,\n",
    "                   colors = colors,\n",
    "                   ax=ax)\n",
    "\n",
    "ax.get_legend().remove()"
   ]
  },
  {
   "cell_type": "markdown",
   "metadata": {},
   "source": [
    "# Look at union gene set"
   ]
  },
  {
   "cell_type": "code",
   "execution_count": 27,
   "metadata": {},
   "outputs": [],
   "source": [
    "act = []\n",
    "for key in gene_list_dict.keys():\n",
    "    if 'union' in key:\n",
    "        act.extend(gene_list_dict[key])\n",
    "\n",
    "act = set(act)\n",
    "# overlap with ligands\n",
    "act_ligands = act.intersection(ligands)"
   ]
  },
  {
   "cell_type": "code",
   "execution_count": 29,
   "metadata": {},
   "outputs": [
    {
     "data": {
      "image/png": "[encoded data removed]",
      "text/plain": [
       "<Figure size 288x432 with 5 Axes>"
      ]
     },
     "metadata": {
      "needs_background": "light"
     },
     "output_type": "display_data"
    }
   ],
   "source": [
    "sns.clustermap(\n",
    "    np.log2(tpm_mat.loc[act_ligands]+1),\n",
    "    col_cluster=False,\n",
    "    #z_score=0,\n",
    "    cmap='Reds',\n",
    "    #vmin=-2,\n",
    "    vmax=8,\n",
    "    col_colors = ['#74c476', '#74c476',\n",
    "          '#6baed6', '#6baed6', '#6baed6',\n",
    "          '#de2d26', '#de2d26', '#de2d26'],\n",
    "    figsize=(4,6),\n",
    "    yticklabels=1)\n",
    "\n",
    "plt.savefig('./figures/diff_genes_union_ligands_clustermap.png', bbox_inches='tight')\n",
    "# plt.close()"
   ]
  },
  {
   "cell_type": "code",
   "execution_count": 31,
   "metadata": {},
   "outputs": [
    {
     "data": {
      "image/png": "[encoded data removed]",
      "text/plain": [
       "<Figure size 288x432 with 5 Axes>"
      ]
     },
     "metadata": {
      "needs_background": "light"
     },
     "output_type": "display_data"
    }
   ],
   "source": [
    "sns.clustermap(\n",
    "    np.log2(tpm_mat.loc[act_ligands]+1),\n",
    "    col_cluster=False,\n",
    "    z_score=0,\n",
    "    cmap='RdBu_r',\n",
    "    vmin=-2,\n",
    "    vmax=2,\n",
    "    col_colors = ['#74c476', '#74c476',\n",
    "          '#6baed6', '#6baed6', '#6baed6',\n",
    "          '#de2d26', '#de2d26', '#de2d26'],\n",
    "    figsize=(4,6),\n",
    "    yticklabels=1)\n",
    "\n",
    "plt.savefig('./figures/diff_genes_union_ligands_clustermap_zscore.png', bbox_inches='tight')\n",
    "# plt.close()"
   ]
  },
  {
   "cell_type": "code",
   "execution_count": null,
   "metadata": {},
   "outputs": [],
   "source": []
  }
 ],
 "metadata": {
  "kernelspec": {
   "display_name": "dataviz",
   "language": "python",
   "name": "dataviz"
  },
  "language_info": {
   "codemirror_mode": {
    "name": "ipython",
    "version": 3
   },
   "file_extension": ".py",
   "mimetype": "text/x-python",
   "name": "python",
   "nbconvert_exporter": "python",
   "pygments_lexer": "ipython3",
   "version": "3.7.5"
  }
 },
 "nbformat": 4,
 "nbformat_minor": 2
}
