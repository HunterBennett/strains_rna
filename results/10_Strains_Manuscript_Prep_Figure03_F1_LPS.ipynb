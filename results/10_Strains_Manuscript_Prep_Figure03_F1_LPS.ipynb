{
 "cells": [
  {
   "cell_type": "markdown",
   "id": "adaptive-router",
   "metadata": {},
   "source": [
    "Hunter Bennett | Glass Lab | Kupffer Strains Project | April 27 2021  \n",
    "\n",
    "This series of notebooks is for manuscript preparation of \"final\" figures for import into Adobe Illustrator.\n",
    "\n",
    "This notebook in particular prepares a panel showing that leptin treatment induces BALBcJ specific gene expression."
   ]
  },
  {
   "cell_type": "code",
   "execution_count": 1,
   "id": "controlled-architecture",
   "metadata": {},
   "outputs": [],
   "source": [
    "### header ###\n",
    "__author__ = \"Hunter Bennett\"\n",
    "__license__ = \"BSD\"\n",
    "__email__ = \"hunter.r.bennett@gmail.com\"\n",
    "%load_ext autoreload\n",
    "%autoreload 2\n",
    "### imports ###\n",
    "import sys\n",
    "%matplotlib inline\n",
    "import os\n",
    "import re\n",
    "import glob\n",
    "import pandas as pd\n",
    "import numpy as np\n",
    "import matplotlib\n",
    "import matplotlib.pyplot as plt\n",
    "from matplotlib.patches import Patch\n",
    "import seaborn as sns\n",
    "\n",
    "# import custom functions\n",
    "import sys\n",
    "sys.path.insert(0, '/home/h1bennet/code/')\n",
    "from hbUtils import ngs_qc, quantile_normalize_df\n",
    "from plotting_scripts import label_point, pca_rpkm_mat, get_diff_volcano, gene_list_bar_plot\n",
    "from homer_preprocessing import read_annotated_peaks, import_homer_diffgene, pull_comparisons_get_diff"
   ]
  },
  {
   "cell_type": "code",
   "execution_count": 2,
   "id": "sophisticated-consultancy",
   "metadata": {},
   "outputs": [],
   "source": [
    "dataDirectory = '/home/h1bennet/strains_rna/results/K07_Strains_LPS2htoControl/'\n",
    "workingDirectory = '/home/h1bennet/strains_rna/results/10_Strains_Manuscript_Prep/'\n",
    "if not os.path.isdir(workingDirectory):\n",
    "    os.mkdir(workingDirectory)\n",
    "os.chdir(workingDirectory)"
   ]
  },
  {
   "cell_type": "code",
   "execution_count": 3,
   "id": "blond-memphis",
   "metadata": {},
   "outputs": [],
   "source": [
    "#### PLOTTING PARAMETERS FOR MANUSCRIPT ####\n",
    "# # get matplotlib to save readable fonts\n",
    "matplotlib.rcParams['pdf.fonttype'] = 42\n",
    "matplotlib.rcParams['ps.fonttype'] = 42\n",
    "matplotlib.rcParams['font.size'] = 6\n",
    "matplotlib.rcParams['savefig.dpi'] = 500\n",
    "\n",
    "# line widths\n",
    "matplotlib.rcParams['axes.linewidth'] = 1\n",
    "matplotlib.rcParams['xtick.major.width'] = 1\n",
    "matplotlib.rcParams['ytick.major.width'] = 1\n",
    "\n",
    "# adjust defualt color for plots to black\n",
    "# normal default is a dark gray\n",
    "COLOR = 'black'\n",
    "matplotlib.rcParams['text.color'] = COLOR\n",
    "matplotlib.rcParams['axes.labelcolor'] = COLOR\n",
    "matplotlib.rcParams['xtick.color'] = COLOR\n",
    "matplotlib.rcParams['ytick.color'] = COLOR\n",
    "matplotlib.rcParams['axes.edgecolor'] = COLOR\n",
    "\n",
    "#### PLOT PARAMETERS FOR THIS PLOT ####"
   ]
  },
  {
   "cell_type": "markdown",
   "id": "amazing-collectible",
   "metadata": {},
   "source": [
    "# Define plotting function"
   ]
  },
  {
   "cell_type": "code",
   "execution_count": 4,
   "id": "thousand-learning",
   "metadata": {},
   "outputs": [],
   "source": [
    "def gene_list_bar_plot_illus(genes, data, groups,\n",
    "                             group_labels, colors, width=0.5,\n",
    "                             spacing=0.0, title='', ylabel='', xlabel='',\n",
    "                             xticklabels=[],\n",
    "                             ax=None):\n",
    "    '''This function allows for visualization of expression in qPCR style\n",
    "    bar plots for multiple genes contained in an rpkm data file.\n",
    "    \n",
    "        Accepts:\n",
    "            genes (str): list of geneIDs to plot\n",
    "            data (pandas DataFrame): dataset in gene x sample format with geneIDs as index\n",
    "            groups (int): groups of samples in the columns of data\n",
    "            group_labels (str): labels of each group in groups\n",
    "            colors (str) = colors of each group in groups\n",
    "            width (float) = width of bars to plot, default 0.5\n",
    "            spacing (float) = extra spacing between bars to plot, default 0.0\n",
    "            relative (bool) = whether to standardize plot so that first group mean is 1,\n",
    "            ax (matplotlib.Axes object) = plot axis\n",
    "        \n",
    "        Returns:\n",
    "            ax (matplotlib.Axes object) = gene list bar plot'''\n",
    "\n",
    "    import pandas as pd\n",
    "    import matplotlib.pyplot as plt    \n",
    "    import numpy as np\n",
    "\n",
    "    # calculate means and standard deviations for plotting\n",
    "    # adjust if using a relative method (control group set to 1)\n",
    "    # get mean and std\n",
    "    means = []\n",
    "    stds = []\n",
    "    for (group, label) in zip(groups, group_labels):\n",
    "        means.append(data.iloc[:, group].reindex(genes).mean(1))\n",
    "        stds.append(data.iloc[:, group].reindex(genes).std(1))\n",
    "    \n",
    "    # set axis\n",
    "    if ax==None:\n",
    "        ax = plt.gca()\n",
    "    \n",
    "\n",
    "    # plot\n",
    "    ind = np.arange(len(genes))\n",
    "    ind = np.arange(len(genes))    # the x locations for the groups\n",
    "    i = 0\n",
    "    for mean, std, group, label, color in zip(means, stds, groups, group_labels, colors):\n",
    "        ax.bar(ind + (width+spacing)*i,\n",
    "               mean,\n",
    "               width,\n",
    "               color=color,\n",
    "               yerr=[np.zeros(len(std)), std],\n",
    "               edgecolor='k',\n",
    "               linewidth=1,\n",
    "               capsize=20,\n",
    "               error_kw={'elinewidth':1,\n",
    "                         'capthick':1,\n",
    "                         'capsize':4},\n",
    "               label=label)\n",
    "        i+=1\n",
    "        \n",
    "    if len(xticklabels) > 0:\n",
    "        ax.set_xticks([ind + (width+spacing)*i for i in np.arange(len(xticklabels))]);\n",
    "        ax.set_xticklabels(xticklabels);\n",
    "    ax.legend(fontsize=10);\n",
    "    ax.set_ylabel(ylabel, fontsize=8)\n",
    "    ax.set_xlabel(xlabel, fontsize=8)\n",
    "    ax.set_title(title, fontsize=8)\n",
    "    \n",
    "    return ax"
   ]
  },
  {
   "cell_type": "code",
   "execution_count": 5,
   "id": "referenced-characterization",
   "metadata": {},
   "outputs": [
    {
     "data": {
      "text/plain": [
       "array([0, 1, 2])"
      ]
     },
     "execution_count": 5,
     "metadata": {},
     "output_type": "execute_result"
    }
   ],
   "source": [
    "np.arange(0,len(['a','b','c']))"
   ]
  },
  {
   "cell_type": "markdown",
   "id": "pressed-lodge",
   "metadata": {},
   "source": [
    "# Make folder for figures"
   ]
  },
  {
   "cell_type": "code",
   "execution_count": 6,
   "id": "massive-fifteen",
   "metadata": {},
   "outputs": [],
   "source": [
    "if not os.path.isdir('./lps_treatment_rna_bar_plots/'):\n",
    "    os.mkdir('./lps_treatment_rna_bar_plots/')"
   ]
  },
  {
   "cell_type": "markdown",
   "id": "oriental-earth",
   "metadata": {},
   "source": [
    "# Import RNA-seq data"
   ]
  },
  {
   "cell_type": "code",
   "execution_count": 7,
   "id": "miniature-article",
   "metadata": {},
   "outputs": [],
   "source": [
    "pval = 0.05\n",
    "log2fc = np.log2(2)"
   ]
  },
  {
   "cell_type": "markdown",
   "id": "sonic-ballet",
   "metadata": {},
   "source": [
    "Read in data from experiment"
   ]
  },
  {
   "cell_type": "code",
   "execution_count": 8,
   "id": "premier-warrior",
   "metadata": {},
   "outputs": [
    {
     "name": "stdout",
     "output_type": "stream",
     "text": [
      "ge all transcripts (24940, 14)\n",
      "Diff Gene selected transcripts (9132, 14)\n",
      "ge selected transcripts (9132, 14)\n"
     ]
    }
   ],
   "source": [
    "de, tpm, tpm_mat, tpm_mat_quant = import_homer_diffgene(\n",
    "    dataDirectory+'/differential/balbc_kupffer_control.vs.balbc_kupffer_lps_2hours.scatter.homer.txt',\n",
    "    dataDirectory+'/expression/HOMER.rawTPM.txt',\n",
    "    gene_name_index=True)"
   ]
  },
  {
   "cell_type": "code",
   "execution_count": 9,
   "id": "homeless-hampshire",
   "metadata": {},
   "outputs": [
    {
     "name": "stdout",
     "output_type": "stream",
     "text": [
      "/home/h1bennet/strains_rna/results/K07_Strains_LPS2htoControl//differential/balbc_kupffer_control.vs.balbc_kupffer_lps_2hours.scatter.homer.txt\n",
      "ge all transcripts (24940, 14)\n",
      "Diff Gene selected transcripts (9132, 14)\n",
      "ge selected transcripts (9132, 14)\n",
      "/home/h1bennet/strains_rna/results/K07_Strains_LPS2htoControl//differential/balbc_kupffer_lps_2hours.vs.balbc_kupffer_control.scatter.homer.txt\n",
      "ge all transcripts (24940, 14)\n",
      "Diff Gene selected transcripts (9132, 14)\n",
      "ge selected transcripts (9132, 14)\n"
     ]
    }
   ],
   "source": [
    "gene_list_dict = {}\n",
    "for i in np.sort(glob.glob(dataDirectory+'/differential/balb*balb*homer.txt')):\n",
    "    print(i)\n",
    "    # read in gene expression data\n",
    "    df, tpm, tpm_mat, tpm_mat_quant = import_homer_diffgene(\n",
    "        depath=i,\n",
    "        gepath=dataDirectory+'/expression/HOMER.rawTPM.txt',\n",
    "        gene_name_index=True)\n",
    "\n",
    "    # select differential genes\n",
    "    df = df.loc[~(df.chr.str.contains('chrX|chrY|ChrUn')), :]\n",
    "    sig_genes = df.index[(df['padj'] < pval) & (df['log2FoldChange'] >= log2fc)].to_list()\n",
    "    gene_list_dict[i.split('.')[2]+'_up'] = list(sig_genes)\n",
    "    # print('union set length:', print(len(g_union)))\n",
    "    # print('intersection set length:', print(len(g_intersect)))\n",
    "    "
   ]
  },
  {
   "cell_type": "code",
   "execution_count": 10,
   "id": "foster-final",
   "metadata": {},
   "outputs": [
    {
     "data": {
      "text/plain": [
       "dict_keys(['balbc_kupffer_lps_2hours_up', 'balbc_kupffer_control_up'])"
      ]
     },
     "execution_count": 10,
     "metadata": {},
     "output_type": "execute_result"
    }
   ],
   "source": [
    "gene_list_dict.keys()"
   ]
  },
  {
   "cell_type": "code",
   "execution_count": 11,
   "id": "indie-jenny",
   "metadata": {},
   "outputs": [],
   "source": [
    "with open('/home/h1bennet/strains_rna/results/K03_CB6F1_Kupffer_RNA/gene_lists/cb6f1_kupffer_trans_c57_filt.txt', 'r') as f:\n",
    "    c57_trans = [i.strip() for i in f.readlines()[1:]]"
   ]
  },
  {
   "cell_type": "code",
   "execution_count": 12,
   "id": "strategic-assets",
   "metadata": {},
   "outputs": [
    {
     "name": "stdout",
     "output_type": "stream",
     "text": [
      "1407 genes up in Balb KC + LPS\n",
      "66 C57 trans regulated genes\n",
      "29 shared\n"
     ]
    }
   ],
   "source": [
    "print(len(gene_list_dict['balbc_kupffer_lps_2hours_up']), 'genes up in Balb KC + LPS')\n",
    "print(len(c57_trans), 'C57 trans regulated genes')\n",
    "print(len(set(gene_list_dict['balbc_kupffer_lps_2hours_up']).intersection(c57_trans)), 'shared')"
   ]
  },
  {
   "cell_type": "code",
   "execution_count": null,
   "id": "wrapped-translation",
   "metadata": {},
   "outputs": [],
   "source": [
    "np.sort(list(set(gene_list_dict['balbc_kupffer_lps_2hours_up']).intersection(c57_trans)))"
   ]
  },
  {
   "cell_type": "code",
   "execution_count": 43,
   "id": "convinced-storage",
   "metadata": {},
   "outputs": [],
   "source": [
    "with open('/home/h1bennet/strains_rna/results/K03_CB6F1_Kupffer_RNA/gene_lists/cb6f1_kupffer_trans_c57_filt_pval.txt', 'r') as f:\n",
    "    c57_trans = [i.strip() for i in f.readlines()[1:]]"
   ]
  },
  {
   "cell_type": "code",
   "execution_count": 44,
   "id": "front-serbia",
   "metadata": {},
   "outputs": [
    {
     "name": "stdout",
     "output_type": "stream",
     "text": [
      "1407 genes up in Balb KC + LPS\n",
      "61 C57 trans regulated genes\n",
      "26 shared\n"
     ]
    }
   ],
   "source": [
    "print(len(gene_list_dict['balbc_kupffer_lps_2hours_up']), 'genes up in Balb KC + LPS')\n",
    "print(len(c57_trans), 'C57 trans regulated genes')\n",
    "print(len(set(gene_list_dict['balbc_kupffer_lps_2hours_up']).intersection(c57_trans)), 'shared')"
   ]
  },
  {
   "cell_type": "code",
   "execution_count": 45,
   "id": "separate-walker",
   "metadata": {},
   "outputs": [
    {
     "data": {
      "text/plain": [
       "array(['4930503L19Rik', 'Aoah', 'Batf3', 'C4b', 'Cd40', 'Cd74', 'Cfb',\n",
       "       'Ddhd1', 'Fam219a', 'H2-Aa', 'H2-Ab1', 'H2-DMb1', 'H2-Eb1',\n",
       "       'H2-Q7', 'H2-Q9', 'Ikbke', 'Lbp', 'Marco', 'Mmp14', 'Pde4b',\n",
       "       'Pim1', 'Plbd1', 'Pot1b', 'Procr', 'Rbbp8', 'Tnfaip3'],\n",
       "      dtype='<U13')"
      ]
     },
     "execution_count": 45,
     "metadata": {},
     "output_type": "execute_result"
    }
   ],
   "source": [
    "np.sort(list(set(gene_list_dict['balbc_kupffer_lps_2hours_up']).intersection(c57_trans)))"
   ]
  },
  {
   "cell_type": "code",
   "execution_count": 14,
   "id": "disciplinary-drinking",
   "metadata": {},
   "outputs": [],
   "source": [
    "groups = [[0,1],\n",
    "          # [2],\n",
    "          [3,4],\n",
    "          [5,6]]\n",
    "\n",
    "group_labels = ['C57BL/6J',\n",
    "                # 'C57BL/6J Kupffer LPS 2 hours',\n",
    "                'Balb/cJ',\n",
    "                'Balb/cJ\\n+LPS']\n",
    "\n",
    "colors = ['#74c476',\n",
    "          # '#006d2c',\n",
    "          '#6baed6',\n",
    "          '#08519c']\n",
    "\n",
    "legend_elements = []\n",
    "for lab, col in  zip(group_labels, colors):\n",
    "    legend_elements.append(Patch(label=lab, color=col))"
   ]
  },
  {
   "cell_type": "code",
   "execution_count": 15,
   "id": "historical-capitol",
   "metadata": {},
   "outputs": [],
   "source": [
    "lps_induced_genes = ['Aoah', 'Batf3', 'Ikbke', 'Irak3', 'Marco', 'Mmp14', 'Pde4b', 'Tnf', 'Tnfaip3']"
   ]
  },
  {
   "cell_type": "code",
   "execution_count": 16,
   "id": "humanitarian-south",
   "metadata": {
    "scrolled": true
   },
   "outputs": [
    {
     "data": {
      "image/png": "[encoded data removed]",
      "text/plain": [
       "<Figure size 360x360 with 9 Axes>"
      ]
     },
     "metadata": {
      "needs_background": "light"
     },
     "output_type": "display_data"
    }
   ],
   "source": [
    "fig, axs = plt.subplots(3, 3, figsize=(5,5))\n",
    "plt.subplots_adjust(wspace=0.4, hspace=0.6)\n",
    "\n",
    "\n",
    "for gene, ax in zip(lps_induced_genes, axs.flat):\n",
    "    gene_list_bar_plot_illus([gene],\n",
    "                       tpm_mat,\n",
    "                       groups=groups,\n",
    "                       group_labels = group_labels,\n",
    "                       colors = colors,\n",
    "                       xticklabels=group_labels,\n",
    "                       title=gene,\n",
    "                       xlabel='',\n",
    "                       ylabel='',\n",
    "                       spacing=0.025,\n",
    "                       width = 0.10,\n",
    "                       ax=ax)\n",
    "    \n",
    "    # Hide the right and top spines\n",
    "    ax.spines['right'].set_visible(False)\n",
    "    ax.spines['top'].set_visible(False)\n",
    "    ax.get_legend().remove()\n",
    "    \n",
    "axs[0][0].set_ylabel('Expression (TPM)');\n",
    "axs[1][0].set_ylabel('Expression (TPM)');\n",
    "axs[2][0].set_ylabel('Expression (TPM)');\n",
    "\n",
    "plt.savefig('./lps_treatment_rna_bar_plots/balbcj_lps_treatment_c57_tans_genes.png',\n",
    "            bbox_inches='tight')"
   ]
  },
  {
   "cell_type": "markdown",
   "id": "accessory-replica",
   "metadata": {},
   "source": [
    "## Can also try this as a heatmap of all C57 trans genes"
   ]
  },
  {
   "cell_type": "code",
   "execution_count": 47,
   "id": "liberal-state",
   "metadata": {},
   "outputs": [],
   "source": [
    "groups = [[0,1],\n",
    "          [3,4],\n",
    "          [5,6]]\n",
    "\n",
    "cols = [i for j in groups for i in j]\n",
    "\n",
    "group_labels = ['C57BL/6J',\n",
    "                'Balb/cJ',\n",
    "                'Balb/cJ\\n+LPS']"
   ]
  },
  {
   "cell_type": "code",
   "execution_count": 48,
   "id": "registered-opera",
   "metadata": {},
   "outputs": [
    {
     "data": {
      "image/png": "[encoded data removed]",
      "text/plain": [
       "<Figure size 144x432 with 2 Axes>"
      ]
     },
     "metadata": {
      "needs_background": "light"
     },
     "output_type": "display_data"
    }
   ],
   "source": [
    "fig, ax = plt.subplots(figsize=(2,6))\n",
    "\n",
    "# sort by average expression in C57\n",
    "tmp_mat = np.log2(tpm_mat.loc[c57_trans, :].iloc[:, cols]+1).dropna()\n",
    "tmp_mat.columns = tmp_mat.columns.str.split('/').str[-1].str.split('_HBENN').str[0]\n",
    "tmp_mat['c57_mean'] = tmp_mat.iloc[:, groups[0]].mean(1)\n",
    "tmp_mat = tmp_mat.sort_values('c57_mean', ascending=False)\n",
    "tmp_mat = tmp_mat.drop(columns=['c57_mean'])\n",
    "\n",
    "cm = sns.heatmap(\n",
    "    tmp_mat,\n",
    "    cmap='Reds',\n",
    "    linewidths=1,\n",
    "    linecolor='black',\n",
    "    cbar=True,\n",
    "    vmin=0,\n",
    "    vmax=10,\n",
    "    # annot=True,\n",
    "    cbar_kws={'label': '-log2(TPM+1)'},\n",
    "    ax=ax,\n",
    "    xticklabels=1,\n",
    "    yticklabels=1,\n",
    "    square=False)\n",
    "\n",
    "plt.savefig('./lps_treatment_rna_bar_plots/balbcj_lps_treatment_c57_tans_genes_heatmap_log2.png',\n",
    "            bbox_inches='tight')"
   ]
  },
  {
   "cell_type": "code",
   "execution_count": 49,
   "id": "cooked-union",
   "metadata": {},
   "outputs": [
    {
     "data": {
      "image/png": "[encoded data removed]",
      "text/plain": [
       "<Figure size 417.6x90 with 2 Axes>"
      ]
     },
     "metadata": {
      "needs_background": "light"
     },
     "output_type": "display_data"
    }
   ],
   "source": [
    "fig, ax = plt.subplots(figsize=(5.8,1.25))\n",
    "\n",
    "# sort by average expression in C57\n",
    "tmp_mat = np.log2(tpm_mat.loc[c57_trans, :].iloc[:, cols]+1).dropna()\n",
    "tmp_mat.columns = tmp_mat.columns.str.split('/').str[-1].str.split('_HBENN').str[0]\n",
    "tmp_mat['c57_mean'] = tmp_mat.iloc[:, groups[0]].mean(1)\n",
    "tmp_mat = tmp_mat.sort_values('c57_mean', ascending=False)\n",
    "tmp_mat = tmp_mat.drop(columns=['c57_mean'])\n",
    "\n",
    "cm = sns.heatmap(\n",
    "    tmp_mat.T,\n",
    "    cmap='Reds',\n",
    "    linewidths=1,\n",
    "    linecolor='black',\n",
    "    cbar=True,\n",
    "    vmin=0,\n",
    "    vmax=10,\n",
    "    # annot=True,\n",
    "    cbar_kws={'label': '-log2(TPM+1)',\n",
    "              'pad':0.01},\n",
    "    ax=ax,\n",
    "    xticklabels=1,\n",
    "    yticklabels=0,\n",
    "    square=False)\n",
    "\n",
    "ax.set_xticklabels(ax.get_xticklabels(),\n",
    "                   rotation=45,\n",
    "                   va='top',\n",
    "                   ha='right');\n",
    "ax.set_xlabel('')\n",
    "\n",
    "plt.savefig('./lps_treatment_rna_bar_plots/balbcj_lps_treatment_c57_tans_genes_heatmap_log2_horizontal.pdf',\n",
    "            bbox_inches='tight')"
   ]
  },
  {
   "cell_type": "code",
   "execution_count": null,
   "id": "precise-administrator",
   "metadata": {},
   "outputs": [],
   "source": []
  },
  {
   "cell_type": "markdown",
   "id": "essential-press",
   "metadata": {},
   "source": [
    "## Also try as a z-scored heatmap"
   ]
  },
  {
   "cell_type": "code",
   "execution_count": 20,
   "id": "fuzzy-singer",
   "metadata": {},
   "outputs": [
    {
     "data": {
      "image/png": "[encoded data removed]",
      "text/plain": [
       "<Figure size 144x432 with 2 Axes>"
      ]
     },
     "metadata": {
      "needs_background": "light"
     },
     "output_type": "display_data"
    }
   ],
   "source": [
    "fig, ax = plt.subplots(figsize=(2,6))\n",
    "\n",
    "# sort by average expression in C57\n",
    "tmp_mat = tpm_mat.loc[c57_trans, :].iloc[:, cols].dropna()\n",
    "tmp_mat.columns = tmp_mat.columns.str.split('/').str[-1].str.split('_HBENN').str[0]\n",
    "\n",
    "# z-score by ligand\n",
    "sd = np.std(tmp_mat, 1)\n",
    "mean = np.mean(tmp_mat, 1)\n",
    "z_frame = tmp_mat.subtract(mean, axis='rows').divide(sd, axis='rows')\n",
    "# z_frame.columns = z_frame.columns.str.split('_').str[0]\n",
    "\n",
    "z_frame['c57_mean'] = z_frame.iloc[:, groups[0]].mean(1)\n",
    "z_frame = z_frame.sort_values('c57_mean', ascending=False)\n",
    "z_frame = z_frame.drop(columns=['c57_mean'])\n",
    "\n",
    "cm = sns.heatmap(z_frame,\n",
    "    cmap='RdBu_r',\n",
    "    linewidths=1,\n",
    "    linecolor='black',\n",
    "    cbar=True,\n",
    "    vmin=-2,\n",
    "    vmax=2,\n",
    "    # annot=True,\n",
    "    cbar_kws={'label': 'Z-Score)'},\n",
    "    ax=ax,\n",
    "    xticklabels=1,\n",
    "    square=False)\n",
    "\n",
    "plt.savefig('./lps_treatment_rna_bar_plots/balbcj_lps_treatment_c57_tans_genes_heatmap_zscore.png',\n",
    "            bbox_inches='tight')"
   ]
  },
  {
   "cell_type": "code",
   "execution_count": null,
   "id": "sitting-device",
   "metadata": {},
   "outputs": [],
   "source": []
  },
  {
   "cell_type": "code",
   "execution_count": null,
   "id": "innovative-commons",
   "metadata": {},
   "outputs": [],
   "source": []
  }
 ],
 "metadata": {
  "kernelspec": {
   "display_name": "dataviz",
   "language": "python",
   "name": "dataviz"
  },
  "language_info": {
   "codemirror_mode": {
    "name": "ipython",
    "version": 3
   },
   "file_extension": ".py",
   "mimetype": "text/x-python",
   "name": "python",
   "nbconvert_exporter": "python",
   "pygments_lexer": "ipython3",
   "version": "3.7.5"
  }
 },
 "nbformat": 4,
 "nbformat_minor": 5
}
