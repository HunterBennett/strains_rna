{
 "cells": [
  {
   "cell_type": "code",
   "execution_count": 1,
   "metadata": {},
   "outputs": [],
   "source": [
    "### header ###\n",
    "__author__ = \"Hunter Bennett\"\n",
    "__license__ = \"BSD\"\n",
    "__email__ = \"hunter.r.bennett@gmail.com\"\n",
    "%load_ext autoreload\n",
    "%autoreload 2\n",
    "%matplotlib inline\n",
    "### imports ###\n",
    "import sys\n",
    "import os\n",
    "import re\n",
    "import glob\n",
    "import pandas as pd\n",
    "import numpy as np\n",
    "import matplotlib\n",
    "import matplotlib.pyplot as plt\n",
    "from matplotlib.patches import Patch\n",
    "from matplotlib_venn import venn2\n",
    "import seaborn as sns\n",
    "\n",
    "matplotlib.rcParams['savefig.dpi'] = 200\n",
    "sys.setrecursionlimit(3000)\n",
    "sns.set(font_scale=1)\n",
    "sns.set_context('talk')\n",
    "sns.set_style('white')\n",
    "\n",
    "# import custom functions\n",
    "sys.path.insert(0, '/home/h1bennet/code/')\n",
    "from hbUtils import ngs_qc, quantile_normalize_df\n",
    "from homer_preprocessing import read_homer_gene_exp, import_homer_diffgene, pull_comparisons_get_diff\n",
    "from plotting_scripts import label_point, pca_rpkm_mat, get_diff_volcano, plot_exp_rpkm, gene_list_bar_plot"
   ]
  },
  {
   "cell_type": "code",
   "execution_count": 3,
   "metadata": {},
   "outputs": [],
   "source": [
    "workingDirectory = '/home/h1bennet/strains_rna/results/K05_Kupffer_DT_Ablation_CDAAHFD/'\n",
    "dataDirectory = '/data/mm10/Kupffer/RNA/'\n",
    "if not os.path.isdir(workingDirectory):\n",
    "    os.mkdir(workingDirectory)\n",
    "os.chdir(workingDirectory)\n",
    "\n",
    "# make folder for figures\n",
    "if not os.path.isdir('./figures/'):\n",
    "    os.mkdir('./figures')\n",
    "    \n",
    "# make folder for gene lists\n",
    "if not os.path.isdir('./gene_lists/'):\n",
    "    os.mkdir('./gene_lists')\n",
    "    \n",
    "if not os.path.isdir('./promoter_motif_finding'):\n",
    "    os.mkdir('./promoter_motif_finding')"
   ]
  },
  {
   "cell_type": "markdown",
   "metadata": {},
   "source": [
    "# Check qc stats"
   ]
  },
  {
   "cell_type": "markdown",
   "metadata": {},
   "source": [
    "# Run Oyoung's pipeline to process RNA-seq data consistantly."
   ]
  },
  {
   "cell_type": "code",
   "execution_count": 14,
   "metadata": {},
   "outputs": [],
   "source": [
    "ids =  ['DTRneg_Tim4Neg_CDAHFD4w',\n",
    "        'DTRneg_Tim4Pos_CDAHFD4w',\n",
    "        'DTRpos_Tim4Neg_CDAHFD4w',\n",
    "        'DTRpos_Tim4Pos_CDAHFD4w']"
   ]
  },
  {
   "cell_type": "code",
   "execution_count": 15,
   "metadata": {},
   "outputs": [],
   "source": [
    "dtrn_tim4n = [dataDirectory+'mouse_Clec4fDTRN_M_KupfferTim4Neg_RNA_polyA_DT4wCDAHFD4w_TDTMS_rep1870_TDT_l20190926_GTGAAA',\n",
    "              dataDirectory+'mouse_Clec4fDTRN_M_KupfferTim4Neg_RNA_polyA_DT4wCDAHFD4w_TDTMS_rep1926_TDT_l20190926_GTGGCC']\n",
    "\n",
    "dtrn_tim4p = [dataDirectory+'mouse_Clec4fDTRN_M_KupfferTim4Pos_RNA_polyA_DT4wCDAHFD4w_TDTMS_rep1870_TDT_l20190926_AGTTCC',\n",
    "              dataDirectory+'mouse_Clec4fDTRN_M_KupfferTim4Pos_RNA_polyA_DT4wCDAHFD4w_TDTMS_rep1926_TDT_l20190926_ATGTCA']\n",
    "\n",
    "dtrp_tim4n = [dataDirectory+'mouse_Clec4fDTRP_M_KupfferTim4Neg_RNA_polyA_DT4wCDAHFD4w_TDTMS_rep1880_TDT_l20190926_CCGTCC',\n",
    "              dataDirectory+'mouse_Clec4fDTRP_M_KupfferTim4Neg_RNA_polyA_DT4wCDAHFD4w_TDTMS_rep1916_TDT_l20190926_GTCCGC']\n",
    "\n",
    "dtrp_tim4p = [dataDirectory+'mouse_Clec4fDTRP_M_KupfferTim4Pos_RNA_polyA_DT4wCDAHFD4w_TDTMS_rep1880_TDT_l20190926_GGCTAC',\n",
    "              dataDirectory+'mouse_Clec4fDTRP_M_KupfferTim4Pos_RNA_polyA_DT4wCDAHFD4w_TDTMS_rep1916_TDT_l20190926_AGTCAA']"
   ]
  },
  {
   "cell_type": "code",
   "execution_count": 16,
   "metadata": {},
   "outputs": [],
   "source": [
    "dtrn_tim4n_ids = [i.split('/')[-1].split('_')[8] for i in dtrn_tim4n]\n",
    "dtrn_tim4p_ids = [i.split('/')[-1].split('_')[8] for i in dtrn_tim4p]\n",
    "dtrp_tim4n_ids = [i.split('/')[-1].split('_')[8] for i in dtrp_tim4n]\n",
    "dtrp_tim4p_ids = [i.split('/')[-1].split('_')[8] for i in dtrp_tim4p]"
   ]
  },
  {
   "cell_type": "code",
   "execution_count": 17,
   "metadata": {},
   "outputs": [],
   "source": [
    "\n",
    "colors = ['#fdcc8a',\n",
    "          '#fc8d59',\n",
    "          '#e34a33',\n",
    "          '#b30000']\n",
    "\n",
    "paths = [';'.join(dtrn_tim4n),\n",
    "         ';'.join(dtrn_tim4p),\n",
    "         ';'.join(dtrp_tim4n),\n",
    "         ';'.join(dtrp_tim4p)]\n",
    "\n",
    "short_ids = [';'.join(dtrn_tim4n_ids),\n",
    "             ';'.join(dtrn_tim4p_ids),\n",
    "             ';'.join(dtrp_tim4n_ids),\n",
    "             ';'.join(dtrp_tim4p_ids)]"
   ]
  },
  {
   "cell_type": "code",
   "execution_count": 18,
   "metadata": {},
   "outputs": [],
   "source": [
    "pd.DataFrame([ids,colors,paths,short_ids]).T.to_csv('./sampleDef.txt',\n",
    "                                                    sep='\\t',\n",
    "                                                    header=False,\n",
    "                                                    index=False)"
   ]
  },
  {
   "cell_type": "markdown",
   "metadata": {},
   "source": [
    "# Run O'young RNA pipeline"
   ]
  },
  {
   "cell_type": "markdown",
   "metadata": {},
   "source": [
    "Run the code below in BASH\n",
    "\n",
    "    source activate r-ouyangPipe\n",
    "    \n",
    "    alignStats.R ./sampleDef.txt > qcStats.txt\n",
    "    \n",
    "    mkdir ./expression/\n",
    "    \n",
    "    mkdir ./differential/\n",
    "    \n",
    "    rnaQuan.R ./sampleDef.txt -o ./expression/\n",
    "\n",
    "    rnaDiff.R ./sampleDef.txt -c ./expression/rawC.txt \\\n",
    "    -t ./expression/rawT.txt -o ./differential/\n",
    "\n",
    "    # annotate scatter files with tag counts\n",
    "    for scatter in ./differential/*scatter.txt;\n",
    "    do diff2Homer.R -d $scatter -q ./expression/HOMER.rawTPM.txt;\n",
    "    done"
   ]
  },
  {
   "cell_type": "markdown",
   "metadata": {},
   "source": [
    "# Collect genes for writing to metascape"
   ]
  },
  {
   "cell_type": "markdown",
   "metadata": {},
   "source": [
    "We will also save repeat ids for motif finding"
   ]
  },
  {
   "cell_type": "code",
   "execution_count": 11,
   "metadata": {},
   "outputs": [],
   "source": [
    "log2fc = 1\n",
    "padj = 0.05\n",
    "gene_list_dict = {}\n",
    "id_list_dict = {}"
   ]
  },
  {
   "cell_type": "markdown",
   "metadata": {},
   "source": [
    "with o'young's pipeline the first member of the comparison is the denominator (negative log2fc is 'up' in first relative to second)"
   ]
  },
  {
   "cell_type": "code",
   "execution_count": 12,
   "metadata": {
    "scrolled": true
   },
   "outputs": [
    {
     "name": "stdout",
     "output_type": "stream",
     "text": [
      "./differential/obob_f480high_leptin.vs.obob_f480int_veh.scatter.homer.txt\n",
      "Group 0: obob_f480high_leptin\n",
      "Group 1: obob_f480int_veh\n",
      "ge all transcripts (24940, 20)\n",
      "Diff Gene selected transcripts (8073, 14)\n",
      "ge selected transcripts (8073, 20)\n",
      "./differential/c57bl6j_kupffer.vs.obob_f480high_leptin.scatter.homer.txt\n",
      "Group 0: c57bl6j_kupffer\n",
      "Group 1: obob_f480high_leptin\n",
      "ge all transcripts (24940, 20)\n",
      "Diff Gene selected transcripts (7738, 14)\n",
      "ge selected transcripts (7738, 20)\n",
      "./differential/obob_f480high_veh.vs.obob_f480int_veh.scatter.homer.txt\n",
      "Group 0: obob_f480high_veh\n",
      "Group 1: obob_f480int_veh\n",
      "ge all transcripts (24940, 20)\n",
      "Diff Gene selected transcripts (8125, 14)\n",
      "ge selected transcripts (8125, 20)\n",
      "./differential/obob_f480high_veh.vs.het_f480high_veh.scatter.homer.txt\n",
      "Group 0: obob_f480high_veh\n",
      "Group 1: het_f480high_veh\n",
      "ge all transcripts (24940, 20)\n",
      "Diff Gene selected transcripts (7914, 14)\n",
      "ge selected transcripts (7914, 20)\n",
      "./differential/obob_f480high_leptin.vs.het_f480high_veh.scatter.homer.txt\n",
      "Group 0: obob_f480high_leptin\n",
      "Group 1: het_f480high_veh\n",
      "ge all transcripts (24940, 20)\n",
      "Diff Gene selected transcripts (7754, 14)\n",
      "ge selected transcripts (7754, 20)\n",
      "./differential/c57bl6j_kupffer.vs.obob_f480high_veh.scatter.homer.txt\n",
      "Group 0: c57bl6j_kupffer\n",
      "Group 1: obob_f480high_veh\n",
      "ge all transcripts (24940, 20)\n",
      "Diff Gene selected transcripts (7924, 14)\n",
      "ge selected transcripts (7924, 20)\n",
      "./differential/het_f480high_veh.vs.obob_f480int_veh.scatter.homer.txt\n",
      "Group 0: het_f480high_veh\n",
      "Group 1: obob_f480int_veh\n",
      "ge all transcripts (24940, 20)\n",
      "Diff Gene selected transcripts (7913, 14)\n",
      "ge selected transcripts (7913, 20)\n",
      "./differential/obob_f480int_veh.vs.obob_f480high_veh.scatter.homer.txt\n",
      "Group 0: obob_f480int_veh\n",
      "Group 1: obob_f480high_veh\n",
      "ge all transcripts (24940, 20)\n",
      "Diff Gene selected transcripts (8125, 14)\n",
      "ge selected transcripts (8125, 20)\n",
      "./differential/obob_f480int_veh.vs.het_f480high_veh.scatter.homer.txt\n",
      "Group 0: obob_f480int_veh\n",
      "Group 1: het_f480high_veh\n",
      "ge all transcripts (24940, 20)\n",
      "Diff Gene selected transcripts (7913, 14)\n",
      "ge selected transcripts (7913, 20)\n",
      "./differential/het_f480high_veh.vs.obob_f480high_leptin.scatter.homer.txt\n",
      "Group 0: het_f480high_veh\n",
      "Group 1: obob_f480high_leptin\n",
      "ge all transcripts (24940, 20)\n",
      "Diff Gene selected transcripts (7754, 14)\n",
      "ge selected transcripts (7754, 20)\n",
      "./differential/c57bl6j_kupffer.vs.het_f480high_veh.scatter.homer.txt\n",
      "Group 0: c57bl6j_kupffer\n",
      "Group 1: het_f480high_veh\n",
      "ge all transcripts (24940, 20)\n",
      "Diff Gene selected transcripts (7594, 14)\n",
      "ge selected transcripts (7594, 20)\n",
      "./differential/obob_f480high_veh.vs.obob_f480high_leptin.scatter.homer.txt\n",
      "Group 0: obob_f480high_veh\n",
      "Group 1: obob_f480high_leptin\n",
      "ge all transcripts (24940, 20)\n",
      "Diff Gene selected transcripts (8047, 14)\n",
      "ge selected transcripts (8047, 20)\n",
      "./differential/het_f480high_veh.vs.c57bl6j_kupffer.scatter.homer.txt\n",
      "Group 0: het_f480high_veh\n",
      "Group 1: c57bl6j_kupffer\n",
      "ge all transcripts (24940, 20)\n",
      "Diff Gene selected transcripts (7594, 14)\n",
      "ge selected transcripts (7594, 20)\n",
      "./differential/obob_f480int_veh.vs.c57bl6j_kupffer.scatter.homer.txt\n",
      "Group 0: obob_f480int_veh\n",
      "Group 1: c57bl6j_kupffer\n",
      "ge all transcripts (24940, 20)\n",
      "Diff Gene selected transcripts (7936, 14)\n",
      "ge selected transcripts (7936, 20)\n",
      "./differential/obob_f480high_leptin.vs.c57bl6j_kupffer.scatter.homer.txt\n",
      "Group 0: obob_f480high_leptin\n",
      "Group 1: c57bl6j_kupffer\n",
      "ge all transcripts (24940, 20)\n",
      "Diff Gene selected transcripts (7738, 14)\n",
      "ge selected transcripts (7738, 20)\n",
      "./differential/c57bl6j_kupffer.vs.obob_f480int_veh.scatter.homer.txt\n",
      "Group 0: c57bl6j_kupffer\n",
      "Group 1: obob_f480int_veh\n",
      "ge all transcripts (24940, 20)\n",
      "Diff Gene selected transcripts (7936, 14)\n",
      "ge selected transcripts (7936, 20)\n",
      "./differential/obob_f480int_veh.vs.obob_f480high_leptin.scatter.homer.txt\n",
      "Group 0: obob_f480int_veh\n",
      "Group 1: obob_f480high_leptin\n",
      "ge all transcripts (24940, 20)\n",
      "Diff Gene selected transcripts (8073, 14)\n",
      "ge selected transcripts (8073, 20)\n",
      "./differential/obob_f480high_veh.vs.c57bl6j_kupffer.scatter.homer.txt\n",
      "Group 0: obob_f480high_veh\n",
      "Group 1: c57bl6j_kupffer\n",
      "ge all transcripts (24940, 20)\n",
      "Diff Gene selected transcripts (7924, 14)\n",
      "ge selected transcripts (7924, 20)\n",
      "./differential/obob_f480high_leptin.vs.obob_f480high_veh.scatter.homer.txt\n",
      "Group 0: obob_f480high_leptin\n",
      "Group 1: obob_f480high_veh\n",
      "ge all transcripts (24940, 20)\n",
      "Diff Gene selected transcripts (8047, 14)\n",
      "ge selected transcripts (8047, 20)\n",
      "./differential/het_f480high_veh.vs.obob_f480high_veh.scatter.homer.txt\n",
      "Group 0: het_f480high_veh\n",
      "Group 1: obob_f480high_veh\n",
      "ge all transcripts (24940, 20)\n",
      "Diff Gene selected transcripts (7914, 14)\n",
      "ge selected transcripts (7914, 20)\n"
     ]
    }
   ],
   "source": [
    "for i in glob.glob('./differential/*homer.txt'):\n",
    "    print(i)\n",
    "    groups = [i.split('/')[-1].replace('.scatter.homer.txt', '').split('.vs.')[0],\n",
    "              i.split('/')[-1].replace('.scatter.homer.txt', '').split('.vs.')[1]]\n",
    "    print('Group 0: '+groups[0])\n",
    "    print('Group 1: '+groups[1])\n",
    "    # read in gene expression data\n",
    "    df, tpm, tpm_mat, tpm_mat_quant = import_homer_diffgene(\n",
    "        depath=i,\n",
    "        gepath='./expression/HOMER.rawTPM.txt',\n",
    "        gene_name_index=True)\n",
    "\n",
    "    # select differential genes\n",
    "    df = df.loc[~(df.chr.str.contains('chrX|chrY|ChrUn')), :]\n",
    "    sig_genes_g0 = df.index[(df['padj'] < padj) & (df['log2FoldChange'] <= -log2fc)].to_list()\n",
    "    sig_genes_g1 = df.index[(df['padj'] < padj) & (df['log2FoldChange'] >= log2fc)].to_list()\n",
    "    sig_id_g0 = df.RepeatID[(df['padj'] < padj) & (df['log2FoldChange'] <= -log2fc)].to_list()\n",
    "    sig_id_g1 = df.RepeatID[(df['padj'] < padj) & (df['log2FoldChange'] >= log2fc)].to_list()\n",
    "    gene_list_dict[i.split('/')[-1].replace('.scatter.homer.txt', '_up_'+groups[0])] = sig_genes_g0\n",
    "    gene_list_dict[i.split('/')[-1].replace('.scatter.homer.txt', '_up_'+groups[1])] = sig_genes_g1\n",
    "    id_list_dict[i.split('/')[-1].replace('.scatter.homer.txt', '_up_'+groups[0])] = sig_genes_g0\n",
    "    id_list_dict[i.split('/')[-1].replace('.scatter.homer.txt', '_up_'+groups[1])] = sig_genes_g1"
   ]
  },
  {
   "cell_type": "code",
   "execution_count": 13,
   "metadata": {
    "scrolled": true
   },
   "outputs": [
    {
     "name": "stdout",
     "output_type": "stream",
     "text": [
      "obob_f480high_leptin.vs.obob_f480int_veh_up_obob_f480high_leptin\n",
      "20 genes\n",
      "obob_f480high_leptin.vs.obob_f480int_veh_up_obob_f480int_veh\n",
      "42 genes\n",
      "c57bl6j_kupffer.vs.obob_f480high_leptin_up_c57bl6j_kupffer\n",
      "64 genes\n",
      "c57bl6j_kupffer.vs.obob_f480high_leptin_up_obob_f480high_leptin\n",
      "66 genes\n",
      "obob_f480high_veh.vs.obob_f480int_veh_up_obob_f480high_veh\n",
      "0 genes\n",
      "obob_f480high_veh.vs.obob_f480int_veh_up_obob_f480int_veh\n",
      "0 genes\n",
      "obob_f480high_veh.vs.het_f480high_veh_up_obob_f480high_veh\n",
      "15 genes\n",
      "obob_f480high_veh.vs.het_f480high_veh_up_het_f480high_veh\n",
      "12 genes\n",
      "obob_f480high_leptin.vs.het_f480high_veh_up_obob_f480high_leptin\n",
      "46 genes\n",
      "obob_f480high_leptin.vs.het_f480high_veh_up_het_f480high_veh\n",
      "105 genes\n",
      "c57bl6j_kupffer.vs.obob_f480high_veh_up_c57bl6j_kupffer\n",
      "34 genes\n",
      "c57bl6j_kupffer.vs.obob_f480high_veh_up_obob_f480high_veh\n",
      "114 genes\n",
      "het_f480high_veh.vs.obob_f480int_veh_up_het_f480high_veh\n",
      "4 genes\n",
      "het_f480high_veh.vs.obob_f480int_veh_up_obob_f480int_veh\n",
      "14 genes\n",
      "obob_f480int_veh.vs.obob_f480high_veh_up_obob_f480int_veh\n",
      "0 genes\n",
      "obob_f480int_veh.vs.obob_f480high_veh_up_obob_f480high_veh\n",
      "0 genes\n",
      "obob_f480int_veh.vs.het_f480high_veh_up_obob_f480int_veh\n",
      "14 genes\n",
      "obob_f480int_veh.vs.het_f480high_veh_up_het_f480high_veh\n",
      "4 genes\n",
      "het_f480high_veh.vs.obob_f480high_leptin_up_het_f480high_veh\n",
      "105 genes\n",
      "het_f480high_veh.vs.obob_f480high_leptin_up_obob_f480high_leptin\n",
      "46 genes\n",
      "c57bl6j_kupffer.vs.het_f480high_veh_up_c57bl6j_kupffer\n",
      "35 genes\n",
      "c57bl6j_kupffer.vs.het_f480high_veh_up_het_f480high_veh\n",
      "128 genes\n",
      "obob_f480high_veh.vs.obob_f480high_leptin_up_obob_f480high_veh\n",
      "54 genes\n",
      "obob_f480high_veh.vs.obob_f480high_leptin_up_obob_f480high_leptin\n",
      "36 genes\n",
      "het_f480high_veh.vs.c57bl6j_kupffer_up_het_f480high_veh\n",
      "128 genes\n",
      "het_f480high_veh.vs.c57bl6j_kupffer_up_c57bl6j_kupffer\n",
      "35 genes\n",
      "obob_f480int_veh.vs.c57bl6j_kupffer_up_obob_f480int_veh\n",
      "97 genes\n",
      "obob_f480int_veh.vs.c57bl6j_kupffer_up_c57bl6j_kupffer\n",
      "25 genes\n",
      "obob_f480high_leptin.vs.c57bl6j_kupffer_up_obob_f480high_leptin\n",
      "66 genes\n",
      "obob_f480high_leptin.vs.c57bl6j_kupffer_up_c57bl6j_kupffer\n",
      "64 genes\n",
      "c57bl6j_kupffer.vs.obob_f480int_veh_up_c57bl6j_kupffer\n",
      "25 genes\n",
      "c57bl6j_kupffer.vs.obob_f480int_veh_up_obob_f480int_veh\n",
      "97 genes\n",
      "obob_f480int_veh.vs.obob_f480high_leptin_up_obob_f480int_veh\n",
      "42 genes\n",
      "obob_f480int_veh.vs.obob_f480high_leptin_up_obob_f480high_leptin\n",
      "20 genes\n",
      "obob_f480high_veh.vs.c57bl6j_kupffer_up_obob_f480high_veh\n",
      "114 genes\n",
      "obob_f480high_veh.vs.c57bl6j_kupffer_up_c57bl6j_kupffer\n",
      "34 genes\n",
      "obob_f480high_leptin.vs.obob_f480high_veh_up_obob_f480high_leptin\n",
      "36 genes\n",
      "obob_f480high_leptin.vs.obob_f480high_veh_up_obob_f480high_veh\n",
      "54 genes\n",
      "het_f480high_veh.vs.obob_f480high_veh_up_het_f480high_veh\n",
      "12 genes\n",
      "het_f480high_veh.vs.obob_f480high_veh_up_obob_f480high_veh\n",
      "15 genes\n"
     ]
    }
   ],
   "source": [
    "for key in gene_list_dict.keys():\n",
    "    print(key)\n",
    "    print(len(gene_list_dict[key]), 'genes')\n",
    "    with open('./gene_lists/'+key+'_genes_fc_'+str(log2fc)+'_pval_'+str(padj)+'.txt', 'w') as f:\n",
    "        f.write('Gene\\n')\n",
    "        for i in gene_list_dict[key]:\n",
    "            f.write(i+'\\n')\n",
    "        f.close()"
   ]
  },
  {
   "cell_type": "code",
   "execution_count": 14,
   "metadata": {
    "scrolled": true
   },
   "outputs": [
    {
     "name": "stdout",
     "output_type": "stream",
     "text": [
      "obob_f480high_leptin.vs.obob_f480int_veh_up_obob_f480high_leptin\n",
      "20 genes\n",
      "obob_f480high_leptin.vs.obob_f480int_veh_up_obob_f480int_veh\n",
      "42 genes\n",
      "c57bl6j_kupffer.vs.obob_f480high_leptin_up_c57bl6j_kupffer\n",
      "64 genes\n",
      "c57bl6j_kupffer.vs.obob_f480high_leptin_up_obob_f480high_leptin\n",
      "66 genes\n",
      "obob_f480high_veh.vs.obob_f480int_veh_up_obob_f480high_veh\n",
      "0 genes\n",
      "obob_f480high_veh.vs.obob_f480int_veh_up_obob_f480int_veh\n",
      "0 genes\n",
      "obob_f480high_veh.vs.het_f480high_veh_up_obob_f480high_veh\n",
      "15 genes\n",
      "obob_f480high_veh.vs.het_f480high_veh_up_het_f480high_veh\n",
      "12 genes\n",
      "obob_f480high_leptin.vs.het_f480high_veh_up_obob_f480high_leptin\n",
      "46 genes\n",
      "obob_f480high_leptin.vs.het_f480high_veh_up_het_f480high_veh\n",
      "105 genes\n",
      "c57bl6j_kupffer.vs.obob_f480high_veh_up_c57bl6j_kupffer\n",
      "34 genes\n",
      "c57bl6j_kupffer.vs.obob_f480high_veh_up_obob_f480high_veh\n",
      "114 genes\n",
      "het_f480high_veh.vs.obob_f480int_veh_up_het_f480high_veh\n",
      "4 genes\n",
      "het_f480high_veh.vs.obob_f480int_veh_up_obob_f480int_veh\n",
      "14 genes\n",
      "obob_f480int_veh.vs.obob_f480high_veh_up_obob_f480int_veh\n",
      "0 genes\n",
      "obob_f480int_veh.vs.obob_f480high_veh_up_obob_f480high_veh\n",
      "0 genes\n",
      "obob_f480int_veh.vs.het_f480high_veh_up_obob_f480int_veh\n",
      "14 genes\n",
      "obob_f480int_veh.vs.het_f480high_veh_up_het_f480high_veh\n",
      "4 genes\n",
      "het_f480high_veh.vs.obob_f480high_leptin_up_het_f480high_veh\n",
      "105 genes\n",
      "het_f480high_veh.vs.obob_f480high_leptin_up_obob_f480high_leptin\n",
      "46 genes\n",
      "c57bl6j_kupffer.vs.het_f480high_veh_up_c57bl6j_kupffer\n",
      "35 genes\n",
      "c57bl6j_kupffer.vs.het_f480high_veh_up_het_f480high_veh\n",
      "128 genes\n",
      "obob_f480high_veh.vs.obob_f480high_leptin_up_obob_f480high_veh\n",
      "54 genes\n",
      "obob_f480high_veh.vs.obob_f480high_leptin_up_obob_f480high_leptin\n",
      "36 genes\n",
      "het_f480high_veh.vs.c57bl6j_kupffer_up_het_f480high_veh\n",
      "128 genes\n",
      "het_f480high_veh.vs.c57bl6j_kupffer_up_c57bl6j_kupffer\n",
      "35 genes\n",
      "obob_f480int_veh.vs.c57bl6j_kupffer_up_obob_f480int_veh\n",
      "97 genes\n",
      "obob_f480int_veh.vs.c57bl6j_kupffer_up_c57bl6j_kupffer\n",
      "25 genes\n",
      "obob_f480high_leptin.vs.c57bl6j_kupffer_up_obob_f480high_leptin\n",
      "66 genes\n",
      "obob_f480high_leptin.vs.c57bl6j_kupffer_up_c57bl6j_kupffer\n",
      "64 genes\n",
      "c57bl6j_kupffer.vs.obob_f480int_veh_up_c57bl6j_kupffer\n",
      "25 genes\n",
      "c57bl6j_kupffer.vs.obob_f480int_veh_up_obob_f480int_veh\n",
      "97 genes\n",
      "obob_f480int_veh.vs.obob_f480high_leptin_up_obob_f480int_veh\n",
      "42 genes\n",
      "obob_f480int_veh.vs.obob_f480high_leptin_up_obob_f480high_leptin\n",
      "20 genes\n",
      "obob_f480high_veh.vs.c57bl6j_kupffer_up_obob_f480high_veh\n",
      "114 genes\n",
      "obob_f480high_veh.vs.c57bl6j_kupffer_up_c57bl6j_kupffer\n",
      "34 genes\n",
      "obob_f480high_leptin.vs.obob_f480high_veh_up_obob_f480high_leptin\n",
      "36 genes\n",
      "obob_f480high_leptin.vs.obob_f480high_veh_up_obob_f480high_veh\n",
      "54 genes\n",
      "het_f480high_veh.vs.obob_f480high_veh_up_het_f480high_veh\n",
      "12 genes\n",
      "het_f480high_veh.vs.obob_f480high_veh_up_obob_f480high_veh\n",
      "15 genes\n"
     ]
    }
   ],
   "source": [
    "for key in id_list_dict.keys():\n",
    "    print(key)\n",
    "    print(len(id_list_dict[key]), 'genes')\n",
    "    with open('./promoter_motif_finding/'+key+'_id_fc_'+str(log2fc)+'_pval_'+str(padj)+'.txt', 'w') as f:\n",
    "        f.write('Gene\\n')\n",
    "        for i in id_list_dict[key]:\n",
    "            f.write(i+'\\n')\n",
    "        f.close()"
   ]
  },
  {
   "cell_type": "markdown",
   "metadata": {},
   "source": [
    "# Single gene plots"
   ]
  },
  {
   "cell_type": "code",
   "execution_count": 19,
   "metadata": {},
   "outputs": [],
   "source": [
    "tpm_mat = pd.read_csv('./expression/rawT.txt', sep='\\t', index_col=0)"
   ]
  },
  {
   "cell_type": "code",
   "execution_count": 22,
   "metadata": {},
   "outputs": [
    {
     "name": "stdout",
     "output_type": "stream",
     "text": [
      "0 DTRneg_Tim4Neg_CDAHFD4w_rep1870\n",
      "1 DTRneg_Tim4Neg_CDAHFD4w_rep1926\n",
      "2 DTRneg_Tim4Pos_CDAHFD4w_rep1870\n",
      "3 DTRneg_Tim4Pos_CDAHFD4w_rep1926\n",
      "4 DTRpos_Tim4Neg_CDAHFD4w_rep1880\n",
      "5 DTRpos_Tim4Neg_CDAHFD4w_rep1916\n",
      "6 DTRpos_Tim4Pos_CDAHFD4w_rep1880\n",
      "7 DTRpos_Tim4Pos_CDAHFD4w_rep1916\n"
     ]
    }
   ],
   "source": [
    "for i, col in zip(range(0, tpm_mat.shape[1]), tpm_mat.columns):\n",
    "    print(i,col)"
   ]
  },
  {
   "cell_type": "markdown",
   "metadata": {},
   "source": [
    "#### Aside - make a tpm plot for chris"
   ]
  },
  {
   "cell_type": "code",
   "execution_count": 16,
   "metadata": {},
   "outputs": [],
   "source": [
    "# chris_tpm = pd.read_csv('./AJ Balb C57 Healthy NASH CCL4.csv', index_col=0)\n",
    "\n",
    "# chris_tpm_new = chris_tpm.merge(tpm_mat.iloc[:, 2:],\n",
    "#                                 left_index=True,\n",
    "#                                 right_index=True,\n",
    "#                                 how='left')\n",
    "\n",
    "# chris_tpm_new.to_csv('./AJ Balb C57 Healthy NASH CCL4 obob leptin.csv')"
   ]
  },
  {
   "cell_type": "code",
   "execution_count": 23,
   "metadata": {},
   "outputs": [],
   "source": [
    "groups = [[0,1],\n",
    "          [2,3],\n",
    "          [4,5],\n",
    "          [6,7]]\n",
    "\n",
    "group_labels = ['DTRneg_Tim4neg_CDAHFD4wk',\n",
    "                'DTRneg_Tim4pos_CDAHFD4wk',\n",
    "                'DTRpos_Tim4neg_CDAHFD4wk',\n",
    "                'DTRpos_Tim4pos_CDAHFD4wk']\n",
    "\n",
    "colors = ['#fdcc8a',\n",
    "          '#fc8d59',\n",
    "          '#e34a33',\n",
    "          '#b30000']\n",
    "\n",
    "\n",
    "# make legend\n",
    "legend_elements = []\n",
    "for lab, col in  zip(group_labels, colors):\n",
    "    legend_elements.append(Patch(label=lab, color=col))"
   ]
  },
  {
   "cell_type": "code",
   "execution_count": 26,
   "metadata": {},
   "outputs": [
    {
     "data": {
      "image/png": "[encoded data removed]",
      "text/plain": [
       "<Figure size 720x288 with 2 Axes>"
      ]
     },
     "metadata": {
      "needs_background": "light"
     },
     "output_type": "display_data"
    }
   ],
   "source": [
    "fig, axs = plt.subplots(1, 2, figsize=(10, 4))\n",
    "\n",
    "gene_list_bar_plot(['Timd4'],\n",
    "                   tpm_mat,\n",
    "                   groups=groups,\n",
    "                   group_labels = group_labels,\n",
    "                   colors = colors,\n",
    "                   width=0.15,\n",
    "                   ax=axs[0])\n",
    "\n",
    "axs[0].get_legend().remove()\n",
    "\n",
    "axs[1].legend(handles=legend_elements, loc='center');\n",
    "axs[1].spines['top'].set_visible(False);\n",
    "axs[1].spines['right'].set_visible(False);\n",
    "axs[1].spines['left'].set_visible(False);\n",
    "axs[1].spines['bottom'].set_visible(False);\n",
    "axs[1].set_xticklabels('');"
   ]
  },
  {
   "cell_type": "markdown",
   "metadata": {},
   "source": [
    "Plot with F480Hi only"
   ]
  },
  {
   "cell_type": "code",
   "execution_count": 23,
   "metadata": {},
   "outputs": [],
   "source": [
    "groups = [[0,1],\n",
    "          [2,3],\n",
    "          [4,5,6],\n",
    "          [7,8]]\n",
    "\n",
    "group_labels = ['c57bl6j_kupffer',\n",
    "                'het_f480high_veh',\n",
    "                'obob_f480high_veh',\n",
    "                'obob_f480high_leptin']\n",
    "\n",
    "colors = ['#bdbdbd',\n",
    "          '#636363',\n",
    "          '#fc9272',\n",
    "          '#de2d26']\n",
    "\n",
    "# make legend\n",
    "legend_elements = []\n",
    "for lab, col in  zip(group_labels, colors):\n",
    "    legend_elements.append(Patch(label=lab, color=col))"
   ]
  },
  {
   "cell_type": "code",
   "execution_count": 24,
   "metadata": {},
   "outputs": [
    {
     "data": {
      "image/png": "[encoded data removed]",
      "text/plain": [
       "<Figure size 864x288 with 2 Axes>"
      ]
     },
     "metadata": {
      "needs_background": "light"
     },
     "output_type": "display_data"
    }
   ],
   "source": [
    "fig, axs = plt.subplots(1, 2, figsize=(12, 4))\n",
    "\n",
    "gene_list_bar_plot(['Itgax'],\n",
    "                   tpm_mat,\n",
    "                   groups=groups,\n",
    "                   group_labels = group_labels,\n",
    "                   colors = colors,\n",
    "                   width = 0.2,\n",
    "                   ax=axs[0])\n",
    "\n",
    "axs[0].get_legend().remove()\n",
    "\n",
    "axs[1].legend(handles=legend_elements, loc='center');\n",
    "axs[1].spines['top'].set_visible(False);\n",
    "axs[1].spines['right'].set_visible(False);\n",
    "axs[1].spines['left'].set_visible(False);\n",
    "axs[1].spines['bottom'].set_visible(False);\n",
    "axs[1].set_xticklabels('');"
   ]
  }
 ],
 "metadata": {
  "kernelspec": {
   "display_name": "dataviz",
   "language": "python",
   "name": "dataviz"
  },
  "language_info": {
   "codemirror_mode": {
    "name": "ipython",
    "version": 3
   },
   "file_extension": ".py",
   "mimetype": "text/x-python",
   "name": "python",
   "nbconvert_exporter": "python",
   "pygments_lexer": "ipython3",
   "version": "3.7.5"
  }
 },
 "nbformat": 4,
 "nbformat_minor": 2
}
