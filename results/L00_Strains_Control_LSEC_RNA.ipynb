{
 "cells": [
  {
   "cell_type": "code",
   "execution_count": 1,
   "metadata": {},
   "outputs": [],
   "source": [
    "### header ###\n",
    "__author__ = \"Hunter Bennett\"\n",
    "__license__ = \"BSD\"\n",
    "__email__ = \"hunter.r.bennett@gmail.com\"\n",
    "%load_ext autoreload\n",
    "%autoreload 2\n",
    "%matplotlib inline\n",
    "### imports ###\n",
    "import sys\n",
    "import os\n",
    "import re\n",
    "import glob\n",
    "import pandas as pd\n",
    "import numpy as np\n",
    "import matplotlib\n",
    "import matplotlib.pyplot as plt \n",
    "import seaborn as sns\n",
    "\n",
    "matplotlib.rcParams['savefig.dpi'] = 200\n",
    "sys.setrecursionlimit(3000)\n",
    "sns.set(font_scale=1)\n",
    "sns.set_context('talk')\n",
    "sns.set_style('white')\n",
    "\n",
    "# import custom functions\n",
    "sys.path.insert(0, '/home/h1bennet/code/')\n",
    "from hbUtils import ngs_qc, quantile_normalize_df\n",
    "from homer_preprocessing import read_homer_gene_exp, import_homer_diffgene, pull_comparisons_get_diff\n",
    "from plotting_scripts import label_point, pca_rpkm_mat, get_diff_volcano, plot_exp_rpkm, gene_list_bar_plot"
   ]
  },
  {
   "cell_type": "code",
   "execution_count": 2,
   "metadata": {},
   "outputs": [],
   "source": [
    "workingDirectory = '/home/h1bennet/strains_rna/results/L00_Strains_Control_LSEC_RNA/'\n",
    "dataDirectory = '/home/h1bennet/strains/data/RNA/control_lsec'\n",
    "if not os.path.isdir(workingDirectory):\n",
    "    os.mkdir(workingDirectory)\n",
    "os.chdir(workingDirectory)\n"
   ]
  },
  {
   "cell_type": "markdown",
   "metadata": {},
   "source": [
    "# Check qc stats"
   ]
  },
  {
   "cell_type": "code",
   "execution_count": 3,
   "metadata": {},
   "outputs": [
    {
     "name": "stdout",
     "output_type": "stream",
     "text": [
      "/home/h1bennet/strains/data/RNA/control_lsec/\n",
      "./control_lsec_qc/\n"
     ]
    },
    {
     "data": {
      "text/plain": [
       "<Figure size 432x288 with 0 Axes>"
      ]
     },
     "metadata": {},
     "output_type": "display_data"
    }
   ],
   "source": [
    "qc = ngs_qc('/home/h1bennet/strains/data/RNA/control_lsec')"
   ]
  },
  {
   "cell_type": "code",
   "execution_count": 4,
   "metadata": {},
   "outputs": [
    {
     "data": {
      "text/html": [
       "<div>\n",
       "<style scoped>\n",
       "    .dataframe tbody tr th:only-of-type {\n",
       "        vertical-align: middle;\n",
       "    }\n",
       "\n",
       "    .dataframe tbody tr th {\n",
       "        vertical-align: top;\n",
       "    }\n",
       "\n",
       "    .dataframe thead th {\n",
       "        text-align: right;\n",
       "    }\n",
       "</style>\n",
       "<table border=\"1\" class=\"dataframe\">\n",
       "  <thead>\n",
       "    <tr style=\"text-align: right;\">\n",
       "      <th></th>\n",
       "      <th>uniquePositions</th>\n",
       "      <th>fragmentLengthEstimate</th>\n",
       "      <th>tagsPerBP</th>\n",
       "      <th>clonality</th>\n",
       "      <th>GC_Content</th>\n",
       "      <th>totalReads</th>\n",
       "      <th>uniquelyMappedReads</th>\n",
       "      <th>multiMappedReads</th>\n",
       "      <th>frac_unmappedReads_mismatch</th>\n",
       "      <th>frac_unmappedReads_short</th>\n",
       "      <th>frac_unmappedReads_other</th>\n",
       "      <th>uniquelyMappedFraction</th>\n",
       "      <th>mappedFraction</th>\n",
       "    </tr>\n",
       "  </thead>\n",
       "  <tbody>\n",
       "    <tr>\n",
       "      <th>AJ_M_LSEC_RNA_AJ01A_HBENN_l20201124_TACCGAGG_CCTGAACT.aj.star_shifted_from_AJ.sam</th>\n",
       "      <td>4706841.0</td>\n",
       "      <td>75.0</td>\n",
       "      <td>0.003157</td>\n",
       "      <td>1.825</td>\n",
       "      <td>2.721584e+09</td>\n",
       "      <td>9726144.0</td>\n",
       "      <td>8591204.0</td>\n",
       "      <td>522160.0</td>\n",
       "      <td>0.0</td>\n",
       "      <td>0.0535</td>\n",
       "      <td>0.0037</td>\n",
       "      <td>0.883310</td>\n",
       "      <td>0.9428</td>\n",
       "    </tr>\n",
       "    <tr>\n",
       "      <th>AJ_M_LSEC_RNA_AJ01B_HBENN_l20201124_CGTTAGAA_TTCAGGTC.aj.star_shifted_from_AJ.sam</th>\n",
       "      <td>5013272.0</td>\n",
       "      <td>75.0</td>\n",
       "      <td>0.003789</td>\n",
       "      <td>2.057</td>\n",
       "      <td>2.721897e+09</td>\n",
       "      <td>11589227.0</td>\n",
       "      <td>10314088.0</td>\n",
       "      <td>637268.0</td>\n",
       "      <td>0.0</td>\n",
       "      <td>0.0449</td>\n",
       "      <td>0.0042</td>\n",
       "      <td>0.889972</td>\n",
       "      <td>0.9509</td>\n",
       "    </tr>\n",
       "    <tr>\n",
       "      <th>AJ_M_LSEC_RNA_AJ01C_HBENN_l20201124_AGCCTCAT_AGTAGAGA.aj.star_shifted_from_AJ.sam</th>\n",
       "      <td>7277467.0</td>\n",
       "      <td>75.0</td>\n",
       "      <td>0.006947</td>\n",
       "      <td>2.597</td>\n",
       "      <td>2.720757e+09</td>\n",
       "      <td>20329897.0</td>\n",
       "      <td>18900120.0</td>\n",
       "      <td>1093970.0</td>\n",
       "      <td>0.0</td>\n",
       "      <td>0.0064</td>\n",
       "      <td>0.0045</td>\n",
       "      <td>0.929671</td>\n",
       "      <td>0.9891</td>\n",
       "    </tr>\n",
       "    <tr>\n",
       "      <th>AJ_M_LSEC_RNA_AJ01D_HBENN_l20201124_GATTCTGC_GACGAGAG.aj.star_shifted_from_AJ.sam</th>\n",
       "      <td>6625975.0</td>\n",
       "      <td>75.0</td>\n",
       "      <td>0.005157</td>\n",
       "      <td>2.118</td>\n",
       "      <td>2.721152e+09</td>\n",
       "      <td>15121849.0</td>\n",
       "      <td>14032414.0</td>\n",
       "      <td>760215.0</td>\n",
       "      <td>0.0</td>\n",
       "      <td>0.0117</td>\n",
       "      <td>0.0044</td>\n",
       "      <td>0.927956</td>\n",
       "      <td>0.9839</td>\n",
       "    </tr>\n",
       "    <tr>\n",
       "      <th>BALBC_M_LSEC_RNA_BALB01A_HBENN_l20201124_TCGTAGTG_AGACTTGG.balbcj.star_shifted_from_BALBCJ.sam</th>\n",
       "      <td>7037785.0</td>\n",
       "      <td>75.0</td>\n",
       "      <td>0.005719</td>\n",
       "      <td>2.211</td>\n",
       "      <td>2.721487e+09</td>\n",
       "      <td>17000928.0</td>\n",
       "      <td>15563949.0</td>\n",
       "      <td>1041083.0</td>\n",
       "      <td>0.0</td>\n",
       "      <td>0.0114</td>\n",
       "      <td>0.0041</td>\n",
       "      <td>0.915476</td>\n",
       "      <td>0.9845</td>\n",
       "    </tr>\n",
       "    <tr>\n",
       "      <th>BALBC_M_LSEC_RNA_BALB01B_HBENN_l20201124_CTACGACA_GAGTCCAA.balbcj.star_shifted_from_BALBCJ.sam</th>\n",
       "      <td>5920730.0</td>\n",
       "      <td>75.0</td>\n",
       "      <td>0.004955</td>\n",
       "      <td>2.277</td>\n",
       "      <td>2.720454e+09</td>\n",
       "      <td>14974401.0</td>\n",
       "      <td>13479888.0</td>\n",
       "      <td>853054.0</td>\n",
       "      <td>0.0</td>\n",
       "      <td>0.0330</td>\n",
       "      <td>0.0040</td>\n",
       "      <td>0.900195</td>\n",
       "      <td>0.9630</td>\n",
       "    </tr>\n",
       "    <tr>\n",
       "      <th>BALBC_M_LSEC_RNA_BALB01C_HBENN_l20201124_TAAGTGGT_CTTAAGCC.balbcj.star_shifted_from_BALBCJ.sam</th>\n",
       "      <td>7421259.0</td>\n",
       "      <td>75.0</td>\n",
       "      <td>0.006480</td>\n",
       "      <td>2.376</td>\n",
       "      <td>2.721375e+09</td>\n",
       "      <td>18990506.0</td>\n",
       "      <td>17634997.0</td>\n",
       "      <td>986437.0</td>\n",
       "      <td>0.0</td>\n",
       "      <td>0.0077</td>\n",
       "      <td>0.0048</td>\n",
       "      <td>0.928622</td>\n",
       "      <td>0.9875</td>\n",
       "    </tr>\n",
       "    <tr>\n",
       "      <th>BALBC_M_LSEC_RNA_BALB01D_HBENN_l20201124_CGGACAAC_TCCGGATT.balbcj.star_shifted_from_BALBCJ.sam</th>\n",
       "      <td>7327959.0</td>\n",
       "      <td>75.0</td>\n",
       "      <td>0.005508</td>\n",
       "      <td>2.046</td>\n",
       "      <td>2.721579e+09</td>\n",
       "      <td>16477818.0</td>\n",
       "      <td>14991248.0</td>\n",
       "      <td>1006112.0</td>\n",
       "      <td>0.0</td>\n",
       "      <td>0.0184</td>\n",
       "      <td>0.0042</td>\n",
       "      <td>0.909784</td>\n",
       "      <td>0.9774</td>\n",
       "    </tr>\n",
       "    <tr>\n",
       "      <th>C57B6J_M_LSEC_RNA_C5701A_HBENN_l20201124_ATATGGAT_CTGTATTA</th>\n",
       "      <td>7237137.0</td>\n",
       "      <td>75.0</td>\n",
       "      <td>0.005849</td>\n",
       "      <td>2.200</td>\n",
       "      <td>4.810000e-01</td>\n",
       "      <td>18211635.0</td>\n",
       "      <td>15918830.0</td>\n",
       "      <td>1090304.0</td>\n",
       "      <td>0.0</td>\n",
       "      <td>0.0540</td>\n",
       "      <td>0.0048</td>\n",
       "      <td>0.874102</td>\n",
       "      <td>0.9412</td>\n",
       "    </tr>\n",
       "    <tr>\n",
       "      <th>C57B6J_M_LSEC_RNA_C5701B_HBENN_l20201124_GCGCAAGC_TCACGCCG</th>\n",
       "      <td>6852539.0</td>\n",
       "      <td>75.0</td>\n",
       "      <td>0.005025</td>\n",
       "      <td>1.996</td>\n",
       "      <td>4.850000e-01</td>\n",
       "      <td>15206153.0</td>\n",
       "      <td>13676416.0</td>\n",
       "      <td>931650.0</td>\n",
       "      <td>0.0</td>\n",
       "      <td>0.0262</td>\n",
       "      <td>0.0048</td>\n",
       "      <td>0.899400</td>\n",
       "      <td>0.9690</td>\n",
       "    </tr>\n",
       "    <tr>\n",
       "      <th>C57B6J_M_LSEC_RNA_C5701C_HBENN_l20201124_AAGATACT_ACTTACAT</th>\n",
       "      <td>7108848.0</td>\n",
       "      <td>75.0</td>\n",
       "      <td>0.006115</td>\n",
       "      <td>2.340</td>\n",
       "      <td>4.800000e-01</td>\n",
       "      <td>18180021.0</td>\n",
       "      <td>16634753.0</td>\n",
       "      <td>1061946.0</td>\n",
       "      <td>0.0</td>\n",
       "      <td>0.0127</td>\n",
       "      <td>0.0055</td>\n",
       "      <td>0.915002</td>\n",
       "      <td>0.9818</td>\n",
       "    </tr>\n",
       "    <tr>\n",
       "      <th>C57B6J_M_LSEC_RNA_C5701D_HBENN_l20201124_GGAGCGTC_GTCCGTGC</th>\n",
       "      <td>7554318.0</td>\n",
       "      <td>75.0</td>\n",
       "      <td>0.005989</td>\n",
       "      <td>2.157</td>\n",
       "      <td>4.810000e-01</td>\n",
       "      <td>17834439.0</td>\n",
       "      <td>16293547.0</td>\n",
       "      <td>1060827.0</td>\n",
       "      <td>0.0</td>\n",
       "      <td>0.0145</td>\n",
       "      <td>0.0047</td>\n",
       "      <td>0.913600</td>\n",
       "      <td>0.9808</td>\n",
       "    </tr>\n",
       "  </tbody>\n",
       "</table>\n",
       "</div>"
      ],
      "text/plain": [
       "                                                    uniquePositions  \\\n",
       "AJ_M_LSEC_RNA_AJ01A_HBENN_l20201124_TACCGAGG_CC...        4706841.0   \n",
       "AJ_M_LSEC_RNA_AJ01B_HBENN_l20201124_CGTTAGAA_TT...        5013272.0   \n",
       "AJ_M_LSEC_RNA_AJ01C_HBENN_l20201124_AGCCTCAT_AG...        7277467.0   \n",
       "AJ_M_LSEC_RNA_AJ01D_HBENN_l20201124_GATTCTGC_GA...        6625975.0   \n",
       "BALBC_M_LSEC_RNA_BALB01A_HBENN_l20201124_TCGTAG...        7037785.0   \n",
       "BALBC_M_LSEC_RNA_BALB01B_HBENN_l20201124_CTACGA...        5920730.0   \n",
       "BALBC_M_LSEC_RNA_BALB01C_HBENN_l20201124_TAAGTG...        7421259.0   \n",
       "BALBC_M_LSEC_RNA_BALB01D_HBENN_l20201124_CGGACA...        7327959.0   \n",
       "C57B6J_M_LSEC_RNA_C5701A_HBENN_l20201124_ATATGG...        7237137.0   \n",
       "C57B6J_M_LSEC_RNA_C5701B_HBENN_l20201124_GCGCAA...        6852539.0   \n",
       "C57B6J_M_LSEC_RNA_C5701C_HBENN_l20201124_AAGATA...        7108848.0   \n",
       "C57B6J_M_LSEC_RNA_C5701D_HBENN_l20201124_GGAGCG...        7554318.0   \n",
       "\n",
       "                                                    fragmentLengthEstimate  \\\n",
       "AJ_M_LSEC_RNA_AJ01A_HBENN_l20201124_TACCGAGG_CC...                    75.0   \n",
       "AJ_M_LSEC_RNA_AJ01B_HBENN_l20201124_CGTTAGAA_TT...                    75.0   \n",
       "AJ_M_LSEC_RNA_AJ01C_HBENN_l20201124_AGCCTCAT_AG...                    75.0   \n",
       "AJ_M_LSEC_RNA_AJ01D_HBENN_l20201124_GATTCTGC_GA...                    75.0   \n",
       "BALBC_M_LSEC_RNA_BALB01A_HBENN_l20201124_TCGTAG...                    75.0   \n",
       "BALBC_M_LSEC_RNA_BALB01B_HBENN_l20201124_CTACGA...                    75.0   \n",
       "BALBC_M_LSEC_RNA_BALB01C_HBENN_l20201124_TAAGTG...                    75.0   \n",
       "BALBC_M_LSEC_RNA_BALB01D_HBENN_l20201124_CGGACA...                    75.0   \n",
       "C57B6J_M_LSEC_RNA_C5701A_HBENN_l20201124_ATATGG...                    75.0   \n",
       "C57B6J_M_LSEC_RNA_C5701B_HBENN_l20201124_GCGCAA...                    75.0   \n",
       "C57B6J_M_LSEC_RNA_C5701C_HBENN_l20201124_AAGATA...                    75.0   \n",
       "C57B6J_M_LSEC_RNA_C5701D_HBENN_l20201124_GGAGCG...                    75.0   \n",
       "\n",
       "                                                    tagsPerBP  clonality  \\\n",
       "AJ_M_LSEC_RNA_AJ01A_HBENN_l20201124_TACCGAGG_CC...   0.003157      1.825   \n",
       "AJ_M_LSEC_RNA_AJ01B_HBENN_l20201124_CGTTAGAA_TT...   0.003789      2.057   \n",
       "AJ_M_LSEC_RNA_AJ01C_HBENN_l20201124_AGCCTCAT_AG...   0.006947      2.597   \n",
       "AJ_M_LSEC_RNA_AJ01D_HBENN_l20201124_GATTCTGC_GA...   0.005157      2.118   \n",
       "BALBC_M_LSEC_RNA_BALB01A_HBENN_l20201124_TCGTAG...   0.005719      2.211   \n",
       "BALBC_M_LSEC_RNA_BALB01B_HBENN_l20201124_CTACGA...   0.004955      2.277   \n",
       "BALBC_M_LSEC_RNA_BALB01C_HBENN_l20201124_TAAGTG...   0.006480      2.376   \n",
       "BALBC_M_LSEC_RNA_BALB01D_HBENN_l20201124_CGGACA...   0.005508      2.046   \n",
       "C57B6J_M_LSEC_RNA_C5701A_HBENN_l20201124_ATATGG...   0.005849      2.200   \n",
       "C57B6J_M_LSEC_RNA_C5701B_HBENN_l20201124_GCGCAA...   0.005025      1.996   \n",
       "C57B6J_M_LSEC_RNA_C5701C_HBENN_l20201124_AAGATA...   0.006115      2.340   \n",
       "C57B6J_M_LSEC_RNA_C5701D_HBENN_l20201124_GGAGCG...   0.005989      2.157   \n",
       "\n",
       "                                                      GC_Content  totalReads  \\\n",
       "AJ_M_LSEC_RNA_AJ01A_HBENN_l20201124_TACCGAGG_CC...  2.721584e+09   9726144.0   \n",
       "AJ_M_LSEC_RNA_AJ01B_HBENN_l20201124_CGTTAGAA_TT...  2.721897e+09  11589227.0   \n",
       "AJ_M_LSEC_RNA_AJ01C_HBENN_l20201124_AGCCTCAT_AG...  2.720757e+09  20329897.0   \n",
       "AJ_M_LSEC_RNA_AJ01D_HBENN_l20201124_GATTCTGC_GA...  2.721152e+09  15121849.0   \n",
       "BALBC_M_LSEC_RNA_BALB01A_HBENN_l20201124_TCGTAG...  2.721487e+09  17000928.0   \n",
       "BALBC_M_LSEC_RNA_BALB01B_HBENN_l20201124_CTACGA...  2.720454e+09  14974401.0   \n",
       "BALBC_M_LSEC_RNA_BALB01C_HBENN_l20201124_TAAGTG...  2.721375e+09  18990506.0   \n",
       "BALBC_M_LSEC_RNA_BALB01D_HBENN_l20201124_CGGACA...  2.721579e+09  16477818.0   \n",
       "C57B6J_M_LSEC_RNA_C5701A_HBENN_l20201124_ATATGG...  4.810000e-01  18211635.0   \n",
       "C57B6J_M_LSEC_RNA_C5701B_HBENN_l20201124_GCGCAA...  4.850000e-01  15206153.0   \n",
       "C57B6J_M_LSEC_RNA_C5701C_HBENN_l20201124_AAGATA...  4.800000e-01  18180021.0   \n",
       "C57B6J_M_LSEC_RNA_C5701D_HBENN_l20201124_GGAGCG...  4.810000e-01  17834439.0   \n",
       "\n",
       "                                                    uniquelyMappedReads  \\\n",
       "AJ_M_LSEC_RNA_AJ01A_HBENN_l20201124_TACCGAGG_CC...            8591204.0   \n",
       "AJ_M_LSEC_RNA_AJ01B_HBENN_l20201124_CGTTAGAA_TT...           10314088.0   \n",
       "AJ_M_LSEC_RNA_AJ01C_HBENN_l20201124_AGCCTCAT_AG...           18900120.0   \n",
       "AJ_M_LSEC_RNA_AJ01D_HBENN_l20201124_GATTCTGC_GA...           14032414.0   \n",
       "BALBC_M_LSEC_RNA_BALB01A_HBENN_l20201124_TCGTAG...           15563949.0   \n",
       "BALBC_M_LSEC_RNA_BALB01B_HBENN_l20201124_CTACGA...           13479888.0   \n",
       "BALBC_M_LSEC_RNA_BALB01C_HBENN_l20201124_TAAGTG...           17634997.0   \n",
       "BALBC_M_LSEC_RNA_BALB01D_HBENN_l20201124_CGGACA...           14991248.0   \n",
       "C57B6J_M_LSEC_RNA_C5701A_HBENN_l20201124_ATATGG...           15918830.0   \n",
       "C57B6J_M_LSEC_RNA_C5701B_HBENN_l20201124_GCGCAA...           13676416.0   \n",
       "C57B6J_M_LSEC_RNA_C5701C_HBENN_l20201124_AAGATA...           16634753.0   \n",
       "C57B6J_M_LSEC_RNA_C5701D_HBENN_l20201124_GGAGCG...           16293547.0   \n",
       "\n",
       "                                                    multiMappedReads  \\\n",
       "AJ_M_LSEC_RNA_AJ01A_HBENN_l20201124_TACCGAGG_CC...          522160.0   \n",
       "AJ_M_LSEC_RNA_AJ01B_HBENN_l20201124_CGTTAGAA_TT...          637268.0   \n",
       "AJ_M_LSEC_RNA_AJ01C_HBENN_l20201124_AGCCTCAT_AG...         1093970.0   \n",
       "AJ_M_LSEC_RNA_AJ01D_HBENN_l20201124_GATTCTGC_GA...          760215.0   \n",
       "BALBC_M_LSEC_RNA_BALB01A_HBENN_l20201124_TCGTAG...         1041083.0   \n",
       "BALBC_M_LSEC_RNA_BALB01B_HBENN_l20201124_CTACGA...          853054.0   \n",
       "BALBC_M_LSEC_RNA_BALB01C_HBENN_l20201124_TAAGTG...          986437.0   \n",
       "BALBC_M_LSEC_RNA_BALB01D_HBENN_l20201124_CGGACA...         1006112.0   \n",
       "C57B6J_M_LSEC_RNA_C5701A_HBENN_l20201124_ATATGG...         1090304.0   \n",
       "C57B6J_M_LSEC_RNA_C5701B_HBENN_l20201124_GCGCAA...          931650.0   \n",
       "C57B6J_M_LSEC_RNA_C5701C_HBENN_l20201124_AAGATA...         1061946.0   \n",
       "C57B6J_M_LSEC_RNA_C5701D_HBENN_l20201124_GGAGCG...         1060827.0   \n",
       "\n",
       "                                                    frac_unmappedReads_mismatch  \\\n",
       "AJ_M_LSEC_RNA_AJ01A_HBENN_l20201124_TACCGAGG_CC...                          0.0   \n",
       "AJ_M_LSEC_RNA_AJ01B_HBENN_l20201124_CGTTAGAA_TT...                          0.0   \n",
       "AJ_M_LSEC_RNA_AJ01C_HBENN_l20201124_AGCCTCAT_AG...                          0.0   \n",
       "AJ_M_LSEC_RNA_AJ01D_HBENN_l20201124_GATTCTGC_GA...                          0.0   \n",
       "BALBC_M_LSEC_RNA_BALB01A_HBENN_l20201124_TCGTAG...                          0.0   \n",
       "BALBC_M_LSEC_RNA_BALB01B_HBENN_l20201124_CTACGA...                          0.0   \n",
       "BALBC_M_LSEC_RNA_BALB01C_HBENN_l20201124_TAAGTG...                          0.0   \n",
       "BALBC_M_LSEC_RNA_BALB01D_HBENN_l20201124_CGGACA...                          0.0   \n",
       "C57B6J_M_LSEC_RNA_C5701A_HBENN_l20201124_ATATGG...                          0.0   \n",
       "C57B6J_M_LSEC_RNA_C5701B_HBENN_l20201124_GCGCAA...                          0.0   \n",
       "C57B6J_M_LSEC_RNA_C5701C_HBENN_l20201124_AAGATA...                          0.0   \n",
       "C57B6J_M_LSEC_RNA_C5701D_HBENN_l20201124_GGAGCG...                          0.0   \n",
       "\n",
       "                                                    frac_unmappedReads_short  \\\n",
       "AJ_M_LSEC_RNA_AJ01A_HBENN_l20201124_TACCGAGG_CC...                    0.0535   \n",
       "AJ_M_LSEC_RNA_AJ01B_HBENN_l20201124_CGTTAGAA_TT...                    0.0449   \n",
       "AJ_M_LSEC_RNA_AJ01C_HBENN_l20201124_AGCCTCAT_AG...                    0.0064   \n",
       "AJ_M_LSEC_RNA_AJ01D_HBENN_l20201124_GATTCTGC_GA...                    0.0117   \n",
       "BALBC_M_LSEC_RNA_BALB01A_HBENN_l20201124_TCGTAG...                    0.0114   \n",
       "BALBC_M_LSEC_RNA_BALB01B_HBENN_l20201124_CTACGA...                    0.0330   \n",
       "BALBC_M_LSEC_RNA_BALB01C_HBENN_l20201124_TAAGTG...                    0.0077   \n",
       "BALBC_M_LSEC_RNA_BALB01D_HBENN_l20201124_CGGACA...                    0.0184   \n",
       "C57B6J_M_LSEC_RNA_C5701A_HBENN_l20201124_ATATGG...                    0.0540   \n",
       "C57B6J_M_LSEC_RNA_C5701B_HBENN_l20201124_GCGCAA...                    0.0262   \n",
       "C57B6J_M_LSEC_RNA_C5701C_HBENN_l20201124_AAGATA...                    0.0127   \n",
       "C57B6J_M_LSEC_RNA_C5701D_HBENN_l20201124_GGAGCG...                    0.0145   \n",
       "\n",
       "                                                    frac_unmappedReads_other  \\\n",
       "AJ_M_LSEC_RNA_AJ01A_HBENN_l20201124_TACCGAGG_CC...                    0.0037   \n",
       "AJ_M_LSEC_RNA_AJ01B_HBENN_l20201124_CGTTAGAA_TT...                    0.0042   \n",
       "AJ_M_LSEC_RNA_AJ01C_HBENN_l20201124_AGCCTCAT_AG...                    0.0045   \n",
       "AJ_M_LSEC_RNA_AJ01D_HBENN_l20201124_GATTCTGC_GA...                    0.0044   \n",
       "BALBC_M_LSEC_RNA_BALB01A_HBENN_l20201124_TCGTAG...                    0.0041   \n",
       "BALBC_M_LSEC_RNA_BALB01B_HBENN_l20201124_CTACGA...                    0.0040   \n",
       "BALBC_M_LSEC_RNA_BALB01C_HBENN_l20201124_TAAGTG...                    0.0048   \n",
       "BALBC_M_LSEC_RNA_BALB01D_HBENN_l20201124_CGGACA...                    0.0042   \n",
       "C57B6J_M_LSEC_RNA_C5701A_HBENN_l20201124_ATATGG...                    0.0048   \n",
       "C57B6J_M_LSEC_RNA_C5701B_HBENN_l20201124_GCGCAA...                    0.0048   \n",
       "C57B6J_M_LSEC_RNA_C5701C_HBENN_l20201124_AAGATA...                    0.0055   \n",
       "C57B6J_M_LSEC_RNA_C5701D_HBENN_l20201124_GGAGCG...                    0.0047   \n",
       "\n",
       "                                                    uniquelyMappedFraction  \\\n",
       "AJ_M_LSEC_RNA_AJ01A_HBENN_l20201124_TACCGAGG_CC...                0.883310   \n",
       "AJ_M_LSEC_RNA_AJ01B_HBENN_l20201124_CGTTAGAA_TT...                0.889972   \n",
       "AJ_M_LSEC_RNA_AJ01C_HBENN_l20201124_AGCCTCAT_AG...                0.929671   \n",
       "AJ_M_LSEC_RNA_AJ01D_HBENN_l20201124_GATTCTGC_GA...                0.927956   \n",
       "BALBC_M_LSEC_RNA_BALB01A_HBENN_l20201124_TCGTAG...                0.915476   \n",
       "BALBC_M_LSEC_RNA_BALB01B_HBENN_l20201124_CTACGA...                0.900195   \n",
       "BALBC_M_LSEC_RNA_BALB01C_HBENN_l20201124_TAAGTG...                0.928622   \n",
       "BALBC_M_LSEC_RNA_BALB01D_HBENN_l20201124_CGGACA...                0.909784   \n",
       "C57B6J_M_LSEC_RNA_C5701A_HBENN_l20201124_ATATGG...                0.874102   \n",
       "C57B6J_M_LSEC_RNA_C5701B_HBENN_l20201124_GCGCAA...                0.899400   \n",
       "C57B6J_M_LSEC_RNA_C5701C_HBENN_l20201124_AAGATA...                0.915002   \n",
       "C57B6J_M_LSEC_RNA_C5701D_HBENN_l20201124_GGAGCG...                0.913600   \n",
       "\n",
       "                                                    mappedFraction  \n",
       "AJ_M_LSEC_RNA_AJ01A_HBENN_l20201124_TACCGAGG_CC...          0.9428  \n",
       "AJ_M_LSEC_RNA_AJ01B_HBENN_l20201124_CGTTAGAA_TT...          0.9509  \n",
       "AJ_M_LSEC_RNA_AJ01C_HBENN_l20201124_AGCCTCAT_AG...          0.9891  \n",
       "AJ_M_LSEC_RNA_AJ01D_HBENN_l20201124_GATTCTGC_GA...          0.9839  \n",
       "BALBC_M_LSEC_RNA_BALB01A_HBENN_l20201124_TCGTAG...          0.9845  \n",
       "BALBC_M_LSEC_RNA_BALB01B_HBENN_l20201124_CTACGA...          0.9630  \n",
       "BALBC_M_LSEC_RNA_BALB01C_HBENN_l20201124_TAAGTG...          0.9875  \n",
       "BALBC_M_LSEC_RNA_BALB01D_HBENN_l20201124_CGGACA...          0.9774  \n",
       "C57B6J_M_LSEC_RNA_C5701A_HBENN_l20201124_ATATGG...          0.9412  \n",
       "C57B6J_M_LSEC_RNA_C5701B_HBENN_l20201124_GCGCAA...          0.9690  \n",
       "C57B6J_M_LSEC_RNA_C5701C_HBENN_l20201124_AAGATA...          0.9818  \n",
       "C57B6J_M_LSEC_RNA_C5701D_HBENN_l20201124_GGAGCG...          0.9808  "
      ]
     },
     "execution_count": 4,
     "metadata": {},
     "output_type": "execute_result"
    }
   ],
   "source": [
    "qc"
   ]
  },
  {
   "cell_type": "markdown",
   "metadata": {},
   "source": [
    "# Run Oyoung's pipeline to process RNA-seq data consistantly."
   ]
  },
  {
   "cell_type": "code",
   "execution_count": 5,
   "metadata": {},
   "outputs": [],
   "source": [
    "c57_paths = list(np.sort(glob.glob(dataDirectory+'/C57*')))\n",
    "balbc_paths = list(np.sort(glob.glob(dataDirectory+'/BALBC*')))\n",
    "aj_paths = list(np.sort(glob.glob(dataDirectory+'/AJ*')))"
   ]
  },
  {
   "cell_type": "code",
   "execution_count": 6,
   "metadata": {},
   "outputs": [],
   "source": [
    "c57_ids = [i.split('/')[-1].split('_')[4] for i in c57_paths]\n",
    "balbc_ids = [i.split('/')[-1].split('_')[4] for i in balbc_paths]\n",
    "aj_ids = [i.split('/')[-1].split('_')[4] for i in aj_paths]"
   ]
  },
  {
   "cell_type": "code",
   "execution_count": 7,
   "metadata": {},
   "outputs": [],
   "source": [
    "ids = ['c57_lsec_control_young',\n",
    "       'balbc_lsec_control_young',\n",
    "       'aj_lsec_control_young']\n",
    "colors = ['#31a354',\n",
    "          '#3182bd',\n",
    "          '#de2d26']\n",
    "paths = [';'.join(c57_paths),\n",
    "         ';'.join(balbc_paths),\n",
    "         ';'.join(aj_paths)]\n",
    "short_ids = [';'.join([ids[0]+'_'+i for i in c57_ids]),\n",
    "             ';'.join([ids[1]+'_'+i for i in balbc_ids]),\n",
    "             ';'.join([ids[2]+'_'+i for i in aj_ids])]"
   ]
  },
  {
   "cell_type": "code",
   "execution_count": 8,
   "metadata": {},
   "outputs": [],
   "source": [
    "pd.DataFrame([ids,colors,paths,short_ids]).T.to_csv('./sampleDef.txt',\n",
    "                                                    sep='\\t',\n",
    "                                                    header=False,\n",
    "                                                    index=False)"
   ]
  },
  {
   "cell_type": "markdown",
   "metadata": {},
   "source": [
    "# Run O'young RNA pipeline"
   ]
  },
  {
   "cell_type": "markdown",
   "metadata": {},
   "source": [
    "Run the code below in BASH\n",
    "\n",
    "    source activate r-ouyangPipe\n",
    "    \n",
    "    mkdir ./expression/\n",
    "    \n",
    "    mkdir ./differential/\n",
    "    \n",
    "    rnaQuan.R ./sampleDef.txt -o ./expression/\n",
    "\n",
    "    rnaDiff.R ./sampleDef.txt -c ./expression/rawC.txt \\\n",
    "    -t ./expression/rawT.txt -o ./differential/\n",
    "\n",
    "    # annotate scatter files with tag counts\n",
    "    for scatter in ./differential/*scatter.txt;\n",
    "    do diff2Homer.R -d $scatter -q ./expression/HOMER.rawTPM.txt;\n",
    "    done"
   ]
  },
  {
   "cell_type": "markdown",
   "metadata": {},
   "source": [
    "### Make sure to check the PCA pdf file for outliers"
   ]
  },
  {
   "cell_type": "markdown",
   "metadata": {},
   "source": [
    "# Import differential gene files for examination and plotting"
   ]
  },
  {
   "cell_type": "code",
   "execution_count": 9,
   "metadata": {},
   "outputs": [],
   "source": [
    "if not os.path.isdir('./gene_lists/'):\n",
    "    os.mkdir('./gene_lists')"
   ]
  },
  {
   "cell_type": "code",
   "execution_count": 10,
   "metadata": {},
   "outputs": [],
   "source": [
    "strains = ['aj', 'balb', 'c57']\n",
    "log2fc = 1\n",
    "padj = 0.05"
   ]
  },
  {
   "cell_type": "code",
   "execution_count": 11,
   "metadata": {},
   "outputs": [],
   "source": [
    "gene_list_dict ={}"
   ]
  },
  {
   "cell_type": "code",
   "execution_count": 12,
   "metadata": {},
   "outputs": [
    {
     "name": "stdout",
     "output_type": "stream",
     "text": [
      "./differential/aj_lsec_control_young.vs.balbc_lsec_control_young.scatter.homer.txt\n",
      "ge all transcripts (24940, 19)\n",
      "Diff Gene selected transcripts (8925, 14)\n",
      "ge selected transcripts (8925, 19)\n",
      "./differential/aj_lsec_control_young.vs.c57_lsec_control_young.scatter.homer.txt\n",
      "ge all transcripts (24940, 19)\n",
      "Diff Gene selected transcripts (8953, 14)\n",
      "ge selected transcripts (8953, 19)\n",
      "./differential/balbc_lsec_control_young.vs.aj_lsec_control_young.scatter.homer.txt\n",
      "ge all transcripts (24940, 19)\n",
      "Diff Gene selected transcripts (8925, 14)\n",
      "ge selected transcripts (8925, 19)\n",
      "./differential/balbc_lsec_control_young.vs.c57_lsec_control_young.scatter.homer.txt\n",
      "ge all transcripts (24940, 19)\n",
      "Diff Gene selected transcripts (8903, 14)\n",
      "ge selected transcripts (8903, 19)\n",
      "./differential/c57_lsec_control_young.vs.aj_lsec_control_young.scatter.homer.txt\n",
      "ge all transcripts (24940, 19)\n",
      "Diff Gene selected transcripts (8953, 14)\n",
      "ge selected transcripts (8953, 19)\n",
      "./differential/c57_lsec_control_young.vs.balbc_lsec_control_young.scatter.homer.txt\n",
      "ge all transcripts (24940, 19)\n",
      "Diff Gene selected transcripts (8903, 14)\n",
      "ge selected transcripts (8903, 19)\n"
     ]
    }
   ],
   "source": [
    "for strain in strains:\n",
    "    # initialize gene lists\n",
    "    g_intersect = set()\n",
    "    g_union = set()\n",
    "    for i in glob.glob('./differential/'+strain+'*homer.txt'):\n",
    "        print(i)\n",
    "        # read in gene expression data\n",
    "        df, tpm, tpm_mat, tpm_mat_quant = import_homer_diffgene(\n",
    "            depath=i,\n",
    "            gepath='./expression/HOMER.rawTPM.txt',\n",
    "            gene_name_index=True)\n",
    "\n",
    "        # select differential genes\n",
    "        df = df.loc[~(df.chr.str.contains('chrX|chrY|ChrUn')), :]\n",
    "        sig_genes = df.index[(df['padj'] < padj) & (df['log2FoldChange'] <= -log2fc)].to_list()\n",
    "        \n",
    "        # add to sets\n",
    "        if len(g_union) == 0:\n",
    "            g_union = set(sig_genes)\n",
    "            g_intersect = set(sig_genes)\n",
    "        else:\n",
    "            g_union = g_union.union(sig_genes)\n",
    "            g_intersect = g_intersect.intersection(sig_genes)\n",
    "        \n",
    "        # print('union set length:', print(len(g_union)))\n",
    "        # print('intersection set length:', print(len(g_intersect)))\n",
    "    \n",
    "    # after getting union and intersection sets add to dict\n",
    "    gene_list_dict[strain+'_union'] = list(g_union)\n",
    "    gene_list_dict[strain+'_intersection'] = list(g_intersect)\n",
    "        "
   ]
  },
  {
   "cell_type": "code",
   "execution_count": 13,
   "metadata": {
    "scrolled": true
   },
   "outputs": [
    {
     "name": "stdout",
     "output_type": "stream",
     "text": [
      "aj_union\n",
      "186 genes\n",
      "aj_intersection\n",
      "33 genes\n",
      "balb_union\n",
      "184 genes\n",
      "balb_intersection\n",
      "36 genes\n",
      "c57_union\n",
      "248 genes\n",
      "c57_intersection\n",
      "85 genes\n"
     ]
    }
   ],
   "source": [
    "for key in gene_list_dict.keys():\n",
    "    print(key)\n",
    "    print(len(gene_list_dict[key]), 'genes')\n",
    "    with open('./gene_lists/'+key+'_lsec_genes_fc_'+str(log2fc)+'_pval_'+str(padj)+'.txt', 'w') as f:\n",
    "        f.write('Gene\\n')\n",
    "        for i in gene_list_dict[key]:\n",
    "            f.write(i+'\\n')\n",
    "        f.close()"
   ]
  },
  {
   "cell_type": "markdown",
   "metadata": {},
   "source": [
    "# Plot potential nichenet ligands"
   ]
  },
  {
   "cell_type": "code",
   "execution_count": 14,
   "metadata": {},
   "outputs": [],
   "source": [
    "if not os.path.isdir('./figures/'):\n",
    "    os.mkdir('./figures')"
   ]
  },
  {
   "cell_type": "markdown",
   "metadata": {},
   "source": [
    "Read in raw expression values"
   ]
  },
  {
   "cell_type": "code",
   "execution_count": 26,
   "metadata": {},
   "outputs": [],
   "source": [
    "tpm_mat = pd.read_csv('./expression/rawT.txt', sep='\\t', index_col=0)"
   ]
  },
  {
   "cell_type": "markdown",
   "metadata": {},
   "source": [
    "Read in nichenet ligand list"
   ]
  },
  {
   "cell_type": "code",
   "execution_count": 27,
   "metadata": {},
   "outputs": [
    {
     "data": {
      "text/plain": [
       "['Cxcl1', 'Cxcl2', 'Cxcl3', 'Cxcl5', 'Ppbp']"
      ]
     },
     "execution_count": 27,
     "metadata": {},
     "output_type": "execute_result"
    }
   ],
   "source": [
    "ligands = pd.read_csv('/home/h1bennet/data/gene_lists/nichenet_ligands.txt',\n",
    "                      sep='\\t')['x'].str.capitalize().tolist()\n",
    "ligands[:5]"
   ]
  },
  {
   "cell_type": "markdown",
   "metadata": {},
   "source": [
    "### Intersection gene set"
   ]
  },
  {
   "cell_type": "code",
   "execution_count": 28,
   "metadata": {},
   "outputs": [],
   "source": [
    "act = []\n",
    "for key in gene_list_dict.keys():\n",
    "    if 'intersection' in key:\n",
    "        act.extend(gene_list_dict[key])\n",
    "\n",
    "act = set(act)\n",
    "# overlap with ligands\n",
    "act_ligands = act.intersection(ligands)"
   ]
  },
  {
   "cell_type": "code",
   "execution_count": 29,
   "metadata": {},
   "outputs": [
    {
     "data": {
      "text/plain": [
       "{'Pdgfb'}"
      ]
     },
     "execution_count": 29,
     "metadata": {},
     "output_type": "execute_result"
    }
   ],
   "source": [
    "act_ligands"
   ]
  },
  {
   "cell_type": "code",
   "execution_count": 30,
   "metadata": {},
   "outputs": [],
   "source": [
    "groups = [[0,1,2,3],\n",
    "          [4,5,6,7],\n",
    "          [8,9,10,11]]\n",
    "\n",
    "group_labels = ['C57BL/6J LSEC Control young',\n",
    "                'Balb/cJ LSEC Control young',\n",
    "                'AJ LSEC Control young']\n",
    "\n",
    "colors = ['#74c476',\n",
    "          '#6baed6',\n",
    "          '#de2d26']\n"
   ]
  },
  {
   "cell_type": "code",
   "execution_count": 31,
   "metadata": {},
   "outputs": [
    {
     "data": {
      "image/png": "[encoded data removed]",
      "text/plain": [
       "<Figure size 288x288 with 1 Axes>"
      ]
     },
     "metadata": {
      "needs_background": "light"
     },
     "output_type": "display_data"
    }
   ],
   "source": [
    "fig, ax = plt.subplots(figsize=(4, 4))\n",
    "\n",
    "gene_list_bar_plot(['Lepr'],\n",
    "                   tpm_mat,\n",
    "                   groups=groups,\n",
    "                   group_labels = group_labels,\n",
    "                   colors = colors,\n",
    "                   ax=ax)\n",
    "\n",
    "ax.set_ylim([0,175])\n",
    "\n",
    "ax.get_legend().remove()"
   ]
  },
  {
   "cell_type": "code",
   "execution_count": null,
   "metadata": {},
   "outputs": [],
   "source": []
  },
  {
   "cell_type": "code",
   "execution_count": 33,
   "metadata": {},
   "outputs": [
    {
     "data": {
      "image/png": "[encoded data removed]",
      "text/plain": [
       "<Figure size 1152x288 with 1 Axes>"
      ]
     },
     "metadata": {
      "needs_background": "light"
     },
     "output_type": "display_data"
    }
   ],
   "source": [
    "gene = ['Nr1d1', 'Nr1d2', 'Per1', 'Per2', 'Per3', 'Cry1', 'Clock', 'Bmal1']\n",
    "\n",
    "fig, ax = plt.subplots(1, 1,\n",
    "                       figsize=(16, 4))\n",
    "\n",
    "gene_list_bar_plot(gene,\n",
    "                   tpm_mat,\n",
    "                   groups=groups,\n",
    "                   group_labels = group_labels,\n",
    "                   colors = colors,\n",
    "                   width=0.2, \n",
    "                   # relative='True',\n",
    "                   ax=ax)\n",
    "\n",
    "ax.get_legend().remove()"
   ]
  },
  {
   "cell_type": "markdown",
   "metadata": {},
   "source": [
    "Only one value in activated ligands so we can just do a barplot :O "
   ]
  },
  {
   "cell_type": "code",
   "execution_count": 21,
   "metadata": {},
   "outputs": [],
   "source": [
    "# sns.clustermap(\n",
    "#     np.log2(tpm_mat.loc[act_ligands]+1),\n",
    "#     col_cluster=False,\n",
    "#     #z_score=0,\n",
    "#     cmap='Reds',\n",
    "#     #vmin=-2,\n",
    "#     vmax=8,\n",
    "#     col_colors = ['#74c476', '#74c476', '#74c476', '#74c476',\n",
    "#           '#6baed6', '#6baed6', '#6baed6', '#6baed6',\n",
    "#           '#de2d26', '#de2d26', '#de2d26', '#de2d26'],\n",
    "#     figsize=(4,6),\n",
    "#     yticklabels=1)\n",
    "\n",
    "# plt.savefig('./figures/diff_genes_intersection_ligands_clustermap.png', bbox_inches='tight')\n",
    "# # plt.close()"
   ]
  },
  {
   "cell_type": "markdown",
   "metadata": {},
   "source": [
    "# Look at union gene set"
   ]
  },
  {
   "cell_type": "code",
   "execution_count": 22,
   "metadata": {},
   "outputs": [],
   "source": [
    "act = []\n",
    "for key in gene_list_dict.keys():\n",
    "    if 'union' in key:\n",
    "        act.extend(gene_list_dict[key])\n",
    "\n",
    "act = set(act)\n",
    "# overlap with ligands\n",
    "act_ligands = act.intersection(ligands)"
   ]
  },
  {
   "cell_type": "code",
   "execution_count": 23,
   "metadata": {
    "scrolled": false
   },
   "outputs": [
    {
     "data": {
      "image/png": "[encoded data removed]",
      "text/plain": [
       "<Figure size 288x864 with 5 Axes>"
      ]
     },
     "metadata": {
      "needs_background": "light"
     },
     "output_type": "display_data"
    }
   ],
   "source": [
    "sns.clustermap(\n",
    "    np.log2(tpm_mat.loc[act_ligands]+1),\n",
    "    col_cluster=False,\n",
    "    #z_score=0,\n",
    "    cmap='Reds',\n",
    "    #vmin=-2,\n",
    "    vmax=8,\n",
    "    col_colors = ['#74c476', '#74c476', '#74c476', '#74c476',\n",
    "          '#6baed6', '#6baed6', '#6baed6', '#6baed6',\n",
    "          '#de2d26', '#de2d26', '#de2d26', '#de2d26'],\n",
    "    figsize=(4,12),\n",
    "    yticklabels=1)\n",
    "\n",
    "plt.savefig('./figures/diff_genes_union_ligands_clustermap.png', bbox_inches='tight')\n",
    "# plt.close()"
   ]
  },
  {
   "cell_type": "code",
   "execution_count": 24,
   "metadata": {
    "scrolled": false
   },
   "outputs": [
    {
     "data": {
      "image/png": "[encoded data removed]",
      "text/plain": [
       "<Figure size 288x864 with 5 Axes>"
      ]
     },
     "metadata": {
      "needs_background": "light"
     },
     "output_type": "display_data"
    }
   ],
   "source": [
    "sns.clustermap(\n",
    "    np.log2(tpm_mat.loc[act_ligands]+1),\n",
    "    col_cluster=False,\n",
    "    z_score=0,\n",
    "    cmap='RdBu_r',\n",
    "    vmin=-2,\n",
    "    vmax=2,\n",
    "    col_colors = ['#74c476', '#74c476', '#74c476', '#74c476',\n",
    "          '#6baed6', '#6baed6', '#6baed6', '#6baed6',\n",
    "          '#de2d26', '#de2d26', '#de2d26', '#de2d26'],\n",
    "    figsize=(4,12),\n",
    "    yticklabels=1)\n",
    "\n",
    "plt.savefig('./figures/diff_genes_union_ligands_clustermap_zscore.png', bbox_inches='tight')\n",
    "# plt.close()"
   ]
  }
 ],
 "metadata": {
  "kernelspec": {
   "display_name": "dataviz",
   "language": "python",
   "name": "dataviz"
  },
  "language_info": {
   "codemirror_mode": {
    "name": "ipython",
    "version": 3
   },
   "file_extension": ".py",
   "mimetype": "text/x-python",
   "name": "python",
   "nbconvert_exporter": "python",
   "pygments_lexer": "ipython3",
   "version": "3.7.5"
  }
 },
 "nbformat": 4,
 "nbformat_minor": 2
}
