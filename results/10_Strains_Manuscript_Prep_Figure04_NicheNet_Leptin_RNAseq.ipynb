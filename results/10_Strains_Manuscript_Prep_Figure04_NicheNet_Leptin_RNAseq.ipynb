{
 "cells": [
  {
   "cell_type": "markdown",
   "id": "bizarre-stewart",
   "metadata": {},
   "source": [
    "Hunter Bennett | Glass Lab | Kupffer Strains Project | April 27 2021  \n",
    "\n",
    "This series of notebooks is for manuscript preparation of \"final\" figures for import into Adobe Illustrator.\n",
    "\n",
    "This notebook in particular prepares a panel showing that leptin treatment induces BALBcJ specific gene expression."
   ]
  },
  {
   "cell_type": "code",
   "execution_count": 1,
   "id": "aquatic-colors",
   "metadata": {},
   "outputs": [],
   "source": [
    "### header ###\n",
    "__author__ = \"Hunter Bennett\"\n",
    "__license__ = \"BSD\"\n",
    "__email__ = \"hunter.r.bennett@gmail.com\"\n",
    "%load_ext autoreload\n",
    "%autoreload 2\n",
    "### imports ###\n",
    "import sys\n",
    "%matplotlib inline\n",
    "import os\n",
    "import re\n",
    "import glob\n",
    "import pandas as pd\n",
    "import numpy as np\n",
    "import matplotlib\n",
    "import matplotlib.pyplot as plt \n",
    "import seaborn as sns\n",
    "\n",
    "# import custom functions\n",
    "import sys\n",
    "sys.path.insert(0, '/home/h1bennet/code/')\n",
    "from hbUtils import ngs_qc, quantile_normalize_df\n",
    "from plotting_scripts import label_point, pca_rpkm_mat, get_diff_volcano, gene_list_bar_plot\n",
    "from homer_preprocessing import read_annotated_peaks, import_homer_diffpeak, pull_comparisons_get_diff"
   ]
  },
  {
   "cell_type": "code",
   "execution_count": 2,
   "id": "local-respect",
   "metadata": {},
   "outputs": [],
   "source": [
    "workingDirectory = '/home/h1bennet/strains_rna/results/10_Strains_Manuscript_Prep/'\n",
    "if not os.path.isdir(workingDirectory):\n",
    "    os.mkdir(workingDirectory)\n",
    "os.chdir(workingDirectory)"
   ]
  },
  {
   "cell_type": "code",
   "execution_count": 3,
   "id": "burning-gates",
   "metadata": {},
   "outputs": [],
   "source": [
    "#### PLOTTING PARAMETERS FOR MANUSCRIPT ####\n",
    "# # get matplotlib to save readable fonts\n",
    "matplotlib.rcParams['pdf.fonttype'] = 42\n",
    "matplotlib.rcParams['ps.fonttype'] = 42\n",
    "matplotlib.rcParams['font.size'] = 6\n",
    "matplotlib.rcParams['savefig.dpi'] = 500\n",
    "\n",
    "# line widths\n",
    "matplotlib.rcParams['axes.linewidth'] = 1\n",
    "matplotlib.rcParams['xtick.major.width'] = 1\n",
    "matplotlib.rcParams['ytick.major.width'] = 1\n",
    "\n",
    "# adjust defualt color for plots to black\n",
    "# normal default is a dark gray\n",
    "COLOR = 'black'\n",
    "matplotlib.rcParams['text.color'] = COLOR\n",
    "matplotlib.rcParams['axes.labelcolor'] = COLOR\n",
    "matplotlib.rcParams['xtick.color'] = COLOR\n",
    "matplotlib.rcParams['ytick.color'] = COLOR\n",
    "matplotlib.rcParams['axes.edgecolor'] = COLOR\n",
    "\n",
    "#### PLOT PARAMETERS FOR THIS PLOT ####"
   ]
  },
  {
   "cell_type": "markdown",
   "id": "opposed-requirement",
   "metadata": {},
   "source": [
    "# Define plotting function"
   ]
  },
  {
   "cell_type": "code",
   "execution_count": 4,
   "id": "animal-ferry",
   "metadata": {},
   "outputs": [],
   "source": [
    "def gene_list_bar_plot_illus(genes, data, groups,\n",
    "                             group_labels, colors, width=0.5,\n",
    "                             spacing=0.0, title='', ylabel='', xlabel='',\n",
    "                             xticklabels=[],\n",
    "                             ax=None):\n",
    "    '''This function allows for visualization of expression in qPCR style\n",
    "    bar plots for multiple genes contained in an rpkm data file.\n",
    "    \n",
    "        Accepts:\n",
    "            genes (str): list of geneIDs to plot\n",
    "            data (pandas DataFrame): dataset in gene x sample format with geneIDs as index\n",
    "            groups (int): groups of samples in the columns of data\n",
    "            group_labels (str): labels of each group in groups\n",
    "            colors (str) = colors of each group in groups\n",
    "            width (float) = width of bars to plot, default 0.5\n",
    "            spacing (float) = extra spacing between bars to plot, default 0.0\n",
    "            relative (bool) = whether to standardize plot so that first group mean is 1,\n",
    "            ax (matplotlib.Axes object) = plot axis\n",
    "        \n",
    "        Returns:\n",
    "            ax (matplotlib.Axes object) = gene list bar plot'''\n",
    "\n",
    "    import pandas as pd\n",
    "    import matplotlib.pyplot as plt    \n",
    "    import numpy as np\n",
    "\n",
    "    # calculate means and standard deviations for plotting\n",
    "    # adjust if using a relative method (control group set to 1)\n",
    "    # get mean and std\n",
    "    means = []\n",
    "    stds = []\n",
    "    for (group, label) in zip(groups, group_labels):\n",
    "        means.append(data.iloc[:, group].reindex(genes).mean(1))\n",
    "        stds.append(data.iloc[:, group].reindex(genes).std(1))\n",
    "    \n",
    "    # set axis\n",
    "    if ax==None:\n",
    "        ax = plt.gca()\n",
    "    \n",
    "\n",
    "    # plot\n",
    "    ind = np.arange(len(genes))\n",
    "    ind = np.arange(len(genes))    # the x locations for the groups\n",
    "    i = 0\n",
    "    for mean, std, group, label, color in zip(means, stds, groups, group_labels, colors):\n",
    "        ax.bar(ind + (width+spacing)*i,\n",
    "               mean,\n",
    "               width,\n",
    "               color=color,\n",
    "               yerr=[np.zeros(len(std)), std],\n",
    "               edgecolor='k',\n",
    "               linewidth=1,\n",
    "               capsize=20,\n",
    "               error_kw={'elinewidth':1,\n",
    "                         'capthick':1,\n",
    "                         'capsize':4},\n",
    "               label=label)\n",
    "        i+=1\n",
    "        \n",
    "    if len(xticklabels) > 0:\n",
    "        ax.set_xticks([ind + (width+spacing)*i for i in np.arange(len(xticklabels))]);\n",
    "        ax.set_xticklabels(xticklabels);\n",
    "    ax.legend(fontsize=10);\n",
    "    ax.set_ylabel(ylabel, fontsize=8)\n",
    "    ax.set_xlabel(xlabel, fontsize=8)\n",
    "    ax.set_title(title, fontsize=8)\n",
    "    \n",
    "    return ax"
   ]
  },
  {
   "cell_type": "code",
   "execution_count": 5,
   "id": "bigger-affiliate",
   "metadata": {},
   "outputs": [
    {
     "data": {
      "text/plain": [
       "array([0, 1, 2])"
      ]
     },
     "execution_count": 5,
     "metadata": {},
     "output_type": "execute_result"
    }
   ],
   "source": [
    "np.arange(0,len(['a','b','c']))"
   ]
  },
  {
   "cell_type": "markdown",
   "id": "gentle-phenomenon",
   "metadata": {},
   "source": [
    "# Make folder for figures"
   ]
  },
  {
   "cell_type": "code",
   "execution_count": 6,
   "id": "synthetic-extension",
   "metadata": {},
   "outputs": [],
   "source": [
    "if not os.path.isdir('./leptin_replacement_rna_bar_plots/'):\n",
    "    os.mkdir('./leptin_replacement_rna_bar_plots/')"
   ]
  },
  {
   "cell_type": "markdown",
   "id": "neither-review",
   "metadata": {},
   "source": [
    "# Import RNA-seq data"
   ]
  },
  {
   "cell_type": "code",
   "execution_count": 7,
   "id": "developed-sigma",
   "metadata": {},
   "outputs": [],
   "source": [
    "tpm_mat = pd.read_csv(\n",
    "    '/home/h1bennet/strains_rna/results/K06b_Strains_Leptin6htoControl_Kupffer_OutliersDropped/expression/rawT.txt',\n",
    "    sep='\\t',\n",
    "    index_col=0)"
   ]
  },
  {
   "cell_type": "code",
   "execution_count": 8,
   "id": "roman-extra",
   "metadata": {},
   "outputs": [],
   "source": [
    "groups = [# [0,1],\n",
    "          # [2],\n",
    "          [3,4],\n",
    "          # [5,6],\n",
    "          [7,8],\n",
    "          [9,10]\n",
    "         ]\n",
    "\n",
    "group_labels = [# 'C57BL/6J Kupffer Control young',\n",
    "                # 'C57BL/6J Kupffer leptin 6 hours',\n",
    "                'Balb/cJ',\n",
    "                # 'Balb/cJ Kupffer leptin 6 hours',\n",
    "                'A/J',\n",
    "                'A/J\\nLeptin',]\n",
    "\n",
    "colors = [# '#74c476',\n",
    "          # '#006d2c',\n",
    "          '#6baed6',\n",
    "          # '#08519c',\n",
    "          '#de2d26',\n",
    "          '#a50f15']"
   ]
  },
  {
   "cell_type": "code",
   "execution_count": 9,
   "id": "british-keeping",
   "metadata": {},
   "outputs": [],
   "source": [
    "leptin_induced_genes = ['Ifi27l2a', 'Lgals1', 'Anxa2', 'Trem2', 'Rcan1', 'Per1']"
   ]
  },
  {
   "cell_type": "code",
   "execution_count": 14,
   "id": "discrete-namibia",
   "metadata": {},
   "outputs": [
    {
     "data": {
      "image/png": "[encoded data removed]",
      "text/plain": [
       "<Figure size 288x216 with 6 Axes>"
      ]
     },
     "metadata": {
      "needs_background": "light"
     },
     "output_type": "display_data"
    }
   ],
   "source": [
    "fig, axs = plt.subplots(2, 3, figsize=(4,3))\n",
    "plt.subplots_adjust(wspace=0.4, hspace=0.6)\n",
    "\n",
    "\n",
    "for gene, ax in zip(leptin_induced_genes, axs.flat):\n",
    "    gene_list_bar_plot_illus([gene],\n",
    "                       tpm_mat,\n",
    "                       groups=groups,\n",
    "                       group_labels = group_labels,\n",
    "                       colors = colors,\n",
    "                       xticklabels=group_labels,\n",
    "                       title=gene,\n",
    "                       xlabel='',\n",
    "                       ylabel='',\n",
    "                       spacing=0.025,\n",
    "                       width = 0.10,\n",
    "                       ax=ax)\n",
    "    \n",
    "    # Hide the right and top spines\n",
    "    ax.spines['right'].set_visible(False)\n",
    "    ax.spines['top'].set_visible(False)\n",
    "    ax.get_legend().remove()\n",
    "    \n",
    "axs[0][0].set_ylabel('Expression (TPM)');\n",
    "axs[1][0].set_ylabel('Expression (TPM)');\n",
    "\n",
    "plt.savefig('./leptin_replacement_rna_bar_plots/aj_leptin_treatment_balb_union_genes.pdf',\n",
    "            bbox_inches='tight')"
   ]
  },
  {
   "cell_type": "code",
   "execution_count": 19,
   "id": "inclusive-opportunity",
   "metadata": {},
   "outputs": [
    {
     "data": {
      "image/png": "[encoded data removed]",
      "text/plain": [
       "<Figure size 144x216 with 6 Axes>"
      ]
     },
     "metadata": {
      "needs_background": "light"
     },
     "output_type": "display_data"
    }
   ],
   "source": [
    "fig, axs = plt.subplots(3, 2, figsize=(2,3))\n",
    "plt.subplots_adjust(wspace=0.4, hspace=1)\n",
    "\n",
    "\n",
    "for gene, ax in zip(leptin_induced_genes, axs.flat):\n",
    "    gene_list_bar_plot_illus([gene],\n",
    "                       tpm_mat,\n",
    "                       groups=groups,\n",
    "                       group_labels = group_labels,\n",
    "                       colors = colors,\n",
    "                       xticklabels=group_labels,\n",
    "                       # title=gene,\n",
    "                       xlabel='',\n",
    "                       ylabel='',\n",
    "                       spacing=0.025,\n",
    "                       width = 0.10,\n",
    "                       ax=ax)\n",
    "    \n",
    "    # Hide the right and top spines\n",
    "    ax.spines['right'].set_visible(False)\n",
    "    ax.spines['top'].set_visible(False)\n",
    "    ax.set_title(gene, fontsize=6)\n",
    "    ax.get_legend().remove()\n",
    "    \n",
    "axs[0][0].set_ylabel('TPM', fontsize=6);\n",
    "axs[1][0].set_ylabel('TPM', fontsize=6);\n",
    "axs[2][0].set_ylabel('TPM', fontsize=6);\n",
    "\n",
    "plt.savefig('./leptin_replacement_rna_bar_plots/aj_leptin_treatment_balb_union_genes_long.pdf',\n",
    "            bbox_inches='tight')"
   ]
  },
  {
   "cell_type": "code",
   "execution_count": 21,
   "id": "final-virgin",
   "metadata": {},
   "outputs": [],
   "source": [
    "leptin_repressed_genes = ['Vipr1', 'Fosb', 'Mturn', 'Rnf144b']"
   ]
  },
  {
   "cell_type": "code",
   "execution_count": 24,
   "id": "mechanical-chain",
   "metadata": {},
   "outputs": [
    {
     "data": {
      "image/png": "[encoded data removed]",
      "text/plain": [
       "<Figure size 144x144 with 4 Axes>"
      ]
     },
     "metadata": {
      "needs_background": "light"
     },
     "output_type": "display_data"
    }
   ],
   "source": [
    "fig, axs = plt.subplots(2, 2, figsize=(2,2))\n",
    "plt.subplots_adjust(wspace=0.4, hspace=1)\n",
    "\n",
    "\n",
    "for gene, ax in zip(leptin_repressed_genes, axs.flat):\n",
    "    gene_list_bar_plot_illus([gene],\n",
    "                       tpm_mat,\n",
    "                       groups=groups,\n",
    "                       group_labels = group_labels,\n",
    "                       colors = colors,\n",
    "                       xticklabels=group_labels,\n",
    "                       # title=gene,\n",
    "                       xlabel='',\n",
    "                       ylabel='',\n",
    "                       spacing=0.025,\n",
    "                       width = 0.10,\n",
    "                       ax=ax)\n",
    "    \n",
    "    # Hide the right and top spines\n",
    "    ax.spines['right'].set_visible(False)\n",
    "    ax.spines['top'].set_visible(False)\n",
    "    ax.set_title(gene, fontsize=6)\n",
    "    ax.get_legend().remove()\n",
    "    \n",
    "axs[0][0].set_ylabel('TPM', fontsize=6);\n",
    "axs[1][0].set_ylabel('TPM', fontsize=6);\n",
    "# axs[2][0].set_ylabel('TPM', fontsize=6);\n",
    "plt.savefig('./leptin_replacement_rna_bar_plots/aj_leptin_treatment_repressed_aj_union_genes_long.pdf',\n",
    "        bbox_inches='tight')"
   ]
  },
  {
   "cell_type": "code",
   "execution_count": null,
   "id": "adapted-invention",
   "metadata": {},
   "outputs": [],
   "source": []
  }
 ],
 "metadata": {
  "kernelspec": {
   "display_name": "dataviz",
   "language": "python",
   "name": "dataviz"
  },
  "language_info": {
   "codemirror_mode": {
    "name": "ipython",
    "version": 3
   },
   "file_extension": ".py",
   "mimetype": "text/x-python",
   "name": "python",
   "nbconvert_exporter": "python",
   "pygments_lexer": "ipython3",
   "version": "3.7.5"
  }
 },
 "nbformat": 4,
 "nbformat_minor": 5
}
