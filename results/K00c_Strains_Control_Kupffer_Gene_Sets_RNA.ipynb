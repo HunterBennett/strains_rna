{
 "cells": [
  {
   "cell_type": "code",
   "execution_count": 1,
   "metadata": {},
   "outputs": [],
   "source": [
    "### header ###\n",
    "__author__ = \"Hunter Bennett\"\n",
    "__license__ = \"BSD\"\n",
    "__email__ = \"hunter.r.bennett@gmail.com\"\n",
    "%load_ext autoreload\n",
    "%autoreload 2\n",
    "%matplotlib inline\n",
    "### imports ###\n",
    "import sys\n",
    "import os\n",
    "import re\n",
    "import glob\n",
    "import pandas as pd\n",
    "import numpy as np\n",
    "import matplotlib\n",
    "import matplotlib.pyplot as plt \n",
    "from matplotlib.patches import Patch\n",
    "import seaborn as sns\n",
    "\n",
    "# set plotting functions\n",
    "matplotlib.rcParams['savefig.dpi'] = 500\n",
    "sns.set(font_scale=1)\n",
    "sns.set_context('talk')\n",
    "sns.set_style('white')\n",
    "# get matplotlib to save readable fonts\n",
    "matplotlib.rcParams['pdf.fonttype'] = 42\n",
    "matplotlib.rcParams['ps.fonttype'] = 42\n",
    "\n",
    "# import custom functions\n",
    "sys.path.insert(0, '/home/h1bennet/code/')\n",
    "from hbUtils import ngs_qc, quantile_normalize_df\n",
    "from homer_preprocessing import read_homer_gene_exp, import_homer_diffgene, pull_comparisons_get_diff\n",
    "from plotting_scripts import label_point, pca_rpkm_mat, get_diff_volcano, plot_exp_rpkm, gene_list_bar_plot"
   ]
  },
  {
   "cell_type": "code",
   "execution_count": 2,
   "metadata": {},
   "outputs": [],
   "source": [
    "workingDirectory = '/home/h1bennet/strains_rna/results/K00_Strains_Control_Kupffer_RNA/'\n",
    "dataDirectory = '/home/h1bennet/strains/data/RNA/control_kupffer/'\n",
    "if not os.path.isdir(workingDirectory):\n",
    "    os.mkdir(workingDirectory)\n",
    "os.chdir(workingDirectory)\n"
   ]
  },
  {
   "cell_type": "markdown",
   "metadata": {},
   "source": [
    "To do this analysis we will pull from the differential analysis performed by Ty at the following location:  \n",
    "\n",
    "     /home/ttroutman/strainsKupffer/rnaKupfferNASH/\n",
    " "
   ]
  },
  {
   "cell_type": "markdown",
   "metadata": {},
   "source": [
    "# Import differential gene files for examination and plotting"
   ]
  },
  {
   "cell_type": "markdown",
   "metadata": {},
   "source": [
    "## Write differential genes to list for metascape"
   ]
  },
  {
   "cell_type": "code",
   "execution_count": 3,
   "metadata": {},
   "outputs": [],
   "source": [
    "if not os.path.isdir('./gene_lists/'):\n",
    "    os.mkdir('./gene_lists')"
   ]
  },
  {
   "cell_type": "code",
   "execution_count": 4,
   "metadata": {},
   "outputs": [],
   "source": [
    "strains = ['aj', 'balb', 'c57']\n",
    "log2fc = 1\n",
    "padj = 0.05\n",
    "diffpath = '/home/ttroutman/strainsKupffer/rnaKupfferNASH/rnaDiff/'\n",
    "diffpath2 = '/home/ttroutman/strainsKupffer/rnaKupfferHealthyYoung_20210111/rnaDiff/'"
   ]
  },
  {
   "cell_type": "code",
   "execution_count": 5,
   "metadata": {
    "scrolled": false
   },
   "outputs": [],
   "source": [
    "gene_list_dict ={}"
   ]
  },
  {
   "cell_type": "code",
   "execution_count": 6,
   "metadata": {
    "scrolled": true
   },
   "outputs": [
    {
     "name": "stdout",
     "output_type": "stream",
     "text": [
      "/home/ttroutman/strainsKupffer/rnaKupfferHealthyYoung_20210111/rnaDiff/aj_control.vs.c57bl6j_control.scatter.txt\n",
      "/home/ttroutman/strainsKupffer/rnaKupfferHealthyYoung_20210111/rnaDiff/aj_control.vs.balbcj_control.scatter.txt\n",
      "/home/ttroutman/strainsKupffer/rnaKupfferHealthyYoung_20210111/rnaDiff/balbcj_control.vs.aj_control.scatter.txt\n",
      "/home/ttroutman/strainsKupffer/rnaKupfferHealthyYoung_20210111/rnaDiff/balbcj_control.vs.c57bl6j_control.scatter.txt\n",
      "/home/ttroutman/strainsKupffer/rnaKupfferHealthyYoung_20210111/rnaDiff/c57bl6j_control.vs.aj_control.scatter.txt\n",
      "/home/ttroutman/strainsKupffer/rnaKupfferHealthyYoung_20210111/rnaDiff/c57bl6j_control.vs.balbcj_control.scatter.txt\n"
     ]
    }
   ],
   "source": [
    "for strain in strains:\n",
    "    # initialize gene lists\n",
    "    g_intersect = set()\n",
    "    g_union = set()\n",
    "    for i in glob.glob(diffpath2+strain+'*control.vs.*control*.txt'):\n",
    "        print(i)\n",
    "        df = pd.read_csv(i,\n",
    "                 sep='\\t',\n",
    "                 index_col=0)\n",
    "\n",
    "        # select differential genes\n",
    "        # df = df.loc[~(df.chr.str.contains('chrX|chrY|ChrUn')), :]\n",
    "        sig_genes = df.index[(df['padj'] < padj) & (df['log2FoldChange'] <= -log2fc)].to_list()\n",
    "        \n",
    "        # add to sets\n",
    "        if len(g_union) == 0:\n",
    "            g_union = set(sig_genes)\n",
    "            g_intersect = set(sig_genes)\n",
    "        else:\n",
    "            g_union = g_union.union(sig_genes)\n",
    "            g_intersect = g_intersect.intersection(sig_genes)\n",
    "        \n",
    "#         print('union set length:', print(len(g_union)))\n",
    "#         print('intersection set length:', print(len(g_intersect)))\n",
    "    \n",
    "    # after getting union and intersection sets add to dict\n",
    "    gene_list_dict[strain+'_union'] = list(g_union)\n",
    "    gene_list_dict[strain+'_intersection'] = list(g_intersect)\n",
    "        "
   ]
  },
  {
   "cell_type": "code",
   "execution_count": 7,
   "metadata": {},
   "outputs": [
    {
     "name": "stdout",
     "output_type": "stream",
     "text": [
      "aj_union : 226\n",
      "aj_intersection : 33\n",
      "balb_union : 230\n",
      "balb_intersection : 45\n",
      "c57_union : 237\n",
      "c57_intersection : 69\n"
     ]
    }
   ],
   "source": [
    "for key in gene_list_dict.keys():\n",
    "    print(key,':',len(gene_list_dict[key]))"
   ]
  },
  {
   "cell_type": "markdown",
   "metadata": {},
   "source": [
    "read in Ty's gene lists"
   ]
  },
  {
   "cell_type": "code",
   "execution_count": 8,
   "metadata": {},
   "outputs": [],
   "source": [
    "ty_aj_union = []\n",
    "with open('/home/ttroutman/strainsKupffer/rnaKupfferHealthyYoung_20210111/selfAnalysis/ajUnion.tsv', 'r') as f:\n",
    "    f.readline()\n",
    "    for line in f.readlines():\n",
    "        ty_aj_union.append(line.split('\\t')[0])"
   ]
  },
  {
   "cell_type": "code",
   "execution_count": 9,
   "metadata": {},
   "outputs": [
    {
     "name": "stdout",
     "output_type": "stream",
     "text": [
      "226\n",
      "226\n",
      "226\n"
     ]
    }
   ],
   "source": [
    "print(len(set(ty_aj_union)))\n",
    "print(len(set(gene_list_dict['aj_union'])))\n",
    "print(len(set(ty_aj_union).intersection(gene_list_dict['aj_union'])))"
   ]
  },
  {
   "cell_type": "code",
   "execution_count": 10,
   "metadata": {},
   "outputs": [],
   "source": [
    "ty_balb_union = []\n",
    "with open('/home/ttroutman/strainsKupffer/rnaKupfferHealthyYoung_20210111/selfAnalysis/balbUnion.tsv', 'r') as f:\n",
    "    f.readline()\n",
    "    for line in f.readlines():\n",
    "        ty_balb_union.append(line.split('\\t')[0])"
   ]
  },
  {
   "cell_type": "code",
   "execution_count": 11,
   "metadata": {},
   "outputs": [
    {
     "name": "stdout",
     "output_type": "stream",
     "text": [
      "230\n",
      "230\n",
      "230\n"
     ]
    }
   ],
   "source": [
    "print(len(set(ty_balb_union)))\n",
    "print(len(set(gene_list_dict['balb_union'])))\n",
    "print(len(set(ty_balb_union).intersection(gene_list_dict['balb_union'])))"
   ]
  },
  {
   "cell_type": "code",
   "execution_count": 12,
   "metadata": {},
   "outputs": [],
   "source": [
    "ty_c57_union = []\n",
    "with open('/home/ttroutman/strainsKupffer/rnaKupfferHealthyYoung_20210111/selfAnalysis/c57Union.tsv', 'r') as f:\n",
    "    f.readline()\n",
    "    for line in f.readlines():\n",
    "        ty_c57_union.append(line.split('\\t')[0])"
   ]
  },
  {
   "cell_type": "code",
   "execution_count": 13,
   "metadata": {},
   "outputs": [
    {
     "name": "stdout",
     "output_type": "stream",
     "text": [
      "237\n",
      "237\n",
      "237\n"
     ]
    }
   ],
   "source": [
    "print(len(set(ty_c57_union)))\n",
    "print(len(set(gene_list_dict['c57_union'])))\n",
    "print(len(set(ty_c57_union).intersection(gene_list_dict['c57_union'])))"
   ]
  },
  {
   "cell_type": "markdown",
   "metadata": {},
   "source": [
    "# Need to extract all 6 categories of gene regulation"
   ]
  },
  {
   "cell_type": "code",
   "execution_count": 14,
   "metadata": {},
   "outputs": [
    {
     "data": {
      "text/plain": [
       "dict_keys(['aj_union', 'aj_intersection', 'balb_union', 'balb_intersection', 'c57_union', 'c57_intersection'])"
      ]
     },
     "execution_count": 14,
     "metadata": {},
     "output_type": "execute_result"
    }
   ],
   "source": [
    "gene_list_dict.keys()"
   ]
  },
  {
   "cell_type": "code",
   "execution_count": 15,
   "metadata": {},
   "outputs": [],
   "source": [
    "aj_balb = set(gene_list_dict['aj_union']).intersection(gene_list_dict['balb_union'])"
   ]
  },
  {
   "cell_type": "code",
   "execution_count": 16,
   "metadata": {},
   "outputs": [],
   "source": [
    "aj_balb = set(gene_list_dict['aj_union']).intersection(gene_list_dict['balb_union'])\n",
    "aj_c57 = set(gene_list_dict['aj_union']).intersection(gene_list_dict['c57_union'])\n",
    "balb_c57 = set(gene_list_dict['balb_union']).intersection(gene_list_dict['c57_union'])"
   ]
  },
  {
   "cell_type": "code",
   "execution_count": 17,
   "metadata": {},
   "outputs": [],
   "source": [
    "gene_member_dict = {}\n",
    "gene_lists = [gene_list_dict['aj_union'],\n",
    "              gene_list_dict['balb_union'],\n",
    "              gene_list_dict['c57_union'],\n",
    "              aj_balb,\n",
    "              aj_c57,\n",
    "              balb_c57,]\n",
    "\n",
    "list_names = ['aj_union',\n",
    "              'balb_union',\n",
    "              'c57_union',\n",
    "              'aj_balb_shared',\n",
    "              'aj_c57_shared',\n",
    "              'balb_c57_shared']\n",
    "\n",
    "for gene_list, name in zip(gene_lists, list_names):\n",
    "    for i in gene_list:\n",
    "        gene_member_dict[i.upper()] = name\n",
    "\n",
    "gene_member_series = pd.Series(gene_member_dict, name='target_group')\n",
    "gene_member_series.index.name = 'target'\n",
    "\n",
    "gene_member_series.to_csv('./diff_gene_membership_uppercase.txt',\n",
    "                                   sep='\\t',\n",
    "                                   header=True)"
   ]
  },
  {
   "cell_type": "code",
   "execution_count": 18,
   "metadata": {},
   "outputs": [],
   "source": [
    "gene_member_dict = {}\n",
    "gene_lists = [gene_list_dict['aj_union'],\n",
    "              gene_list_dict['balb_union'],\n",
    "              gene_list_dict['c57_union'],\n",
    "              aj_balb,\n",
    "              aj_c57,\n",
    "              balb_c57,]\n",
    "\n",
    "list_names = ['aj_union',\n",
    "              'balb_union',\n",
    "              'c57_union',\n",
    "              'aj_balb_shared',\n",
    "              'aj_c57_shared',\n",
    "              'balb_c57_shared']\n",
    "\n",
    "for gene_list, name in zip(gene_lists, list_names):\n",
    "    for i in gene_list:\n",
    "        gene_member_dict[i] = name\n",
    "        \n",
    "gene_member_series = pd.Series(gene_member_dict, name='target_group')\n",
    "gene_member_series.index.name = 'target'\n",
    "\n",
    "gene_member_series.to_csv('./diff_gene_membership.txt',\n",
    "                                   sep='\\t',\n",
    "                                   header=True)"
   ]
  }
 ],
 "metadata": {
  "kernelspec": {
   "display_name": "dataviz",
   "language": "python",
   "name": "dataviz"
  },
  "language_info": {
   "codemirror_mode": {
    "name": "ipython",
    "version": 3
   },
   "file_extension": ".py",
   "mimetype": "text/x-python",
   "name": "python",
   "nbconvert_exporter": "python",
   "pygments_lexer": "ipython3",
   "version": "3.7.5"
  }
 },
 "nbformat": 4,
 "nbformat_minor": 2
}
