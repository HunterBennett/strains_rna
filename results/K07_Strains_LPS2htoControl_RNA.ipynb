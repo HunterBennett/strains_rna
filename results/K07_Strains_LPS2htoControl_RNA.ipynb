{
 "cells": [
  {
   "cell_type": "code",
   "execution_count": 1,
   "metadata": {},
   "outputs": [],
   "source": [
    "### header ###\n",
    "__author__ = \"Hunter Bennett\"\n",
    "__license__ = \"BSD\"\n",
    "__email__ = \"hunter.r.bennett@gmail.com\"\n",
    "%load_ext autoreload\n",
    "%autoreload 2\n",
    "%matplotlib inline\n",
    "### imports ###\n",
    "import sys\n",
    "import os\n",
    "import re\n",
    "import glob\n",
    "import pandas as pd\n",
    "import numpy as np\n",
    "import matplotlib\n",
    "import matplotlib.pyplot as plt\n",
    "import scipy.stats as stats\n",
    "from matplotlib_venn import venn3, venn2\n",
    "import seaborn as sns\n",
    "\n",
    "matplotlib.rcParams['savefig.dpi'] = 200\n",
    "sys.setrecursionlimit(3000)\n",
    "sns.set(font_scale=1)\n",
    "sns.set_context('talk')\n",
    "sns.set_style('white')\n",
    "\n",
    "# import custom functions\n",
    "sys.path.insert(0, '/home/h1bennet/code/')\n",
    "from hbUtils import ngs_qc, quantile_normalize_df\n",
    "from homer_preprocessing import import_homer_diffgene\n",
    "from plotting_scripts import plot_exp_rpkm, gene_list_bar_plot"
   ]
  },
  {
   "cell_type": "code",
   "execution_count": 2,
   "metadata": {},
   "outputs": [],
   "source": [
    "workingDirectory = '/home/h1bennet/strains_rna/results/K07_Strains_LPS2htoControl/'\n",
    "lpsDirectory = '/home/h1bennet/strains/data/RNA/LPS_2h_kupffer_cohort2/'\n",
    "controlDirectory = '/home/h1bennet/strains/data/RNA/control_kupffer/'\n",
    "if not os.path.isdir(workingDirectory):\n",
    "    os.mkdir(workingDirectory)\n",
    "os.chdir(workingDirectory)\n"
   ]
  },
  {
   "cell_type": "markdown",
   "metadata": {},
   "source": [
    "# Make hub to look at individual files"
   ]
  },
  {
   "cell_type": "code",
   "execution_count": 3,
   "metadata": {
    "scrolled": true
   },
   "outputs": [
    {
     "data": {
      "text/plain": [
       "array(['AJ_Kupffer_RNA_AJ01C_HBENN_l20201208_TACCGAGG_CCTGAACT.aj.star_shifted_from_AJ.sam',\n",
       "       'AJ_Kupffer_RNA_AJ01D_HBENN_l20201208_CGTTAGAA_TTCAGGTC.aj.star_shifted_from_AJ.sam',\n",
       "       'BALBC_Kupffer_RNA_BALB01C_HBENN_l20201208_AGCCTCAT_AGTAGAGA.balbcj.star_shifted_from_BALBCJ.sam',\n",
       "       'BALBC_Kupffer_RNA_BALB01D_HBENN_l20201208_GATTCTGC_GACGAGAG.balbcj.star_shifted_from_BALBCJ.sam',\n",
       "       'C57B6J_Tim4PosKupffer_RNA_C5701C_HBENN_l20201208_TCGTAGTG_AGACTTGG',\n",
       "       'C57B6J_Tim4PosKupffer_RNA_C5701D_HBENN_l20201208_CTACGACA_GAGTCCAA',\n",
       "       'qcStats.txt'], dtype='<U95')"
      ]
     },
     "execution_count": 3,
     "metadata": {},
     "output_type": "execute_result"
    }
   ],
   "source": [
    "np.sort(os.listdir(controlDirectory))"
   ]
  },
  {
   "cell_type": "markdown",
   "metadata": {},
   "source": [
    "    makeMultiWigHub.pl hrb_strains_qc_kupffer_control_leptin6h_rna mm10 \\\n",
    "    -color 222,45,38 222,45,38 \\\n",
    "    165,15,21 165,15,21 \\\n",
    "    49,130,189 49,130,189 \\\n",
    "    8,81,156 8,81,156 8,81,156 \\\n",
    "    49,163,84 49,163,84 \\\n",
    "    0,109,44 0,109,44 0,109,44 \\\n",
    "    -force -d /home/h1bennet/strains/data/RNA/control_kupffer/AJ_Kupffer_RNA_AJ01C_HBENN_l20201208_TACCGAGG_CCTGAACT.aj.star_shifted_from_AJ.sam \\\n",
    "    /home/h1bennet/strains/data/RNA/control_kupffer/AJ_Kupffer_RNA_AJ01D_HBENN_l20201208_CGTTAGAA_TTCAGGTC.aj.star_shifted_from_AJ.sam \\\n",
    "    /home/h1bennet/strains/data/RNA/leptin_6h_strains_kupffer/aj_M_Kupffer_RNA_polyA_leptin_6h_rep1_HBENN_l20210529_GCGCTCTA_GCTCCGAC.aj.star_shifted_from_AJ.sam \\\n",
    "    /home/h1bennet/strains/data/RNA/leptin_6h_strains_kupffer/aj_M_Kupffer_RNA_polyA_leptin_6h_rep2_HBENN_l20210529_GAATGAGA_GAGGCATT.aj.star_shifted_from_AJ.sam \\\n",
    "    /home/h1bennet/strains/data/RNA/control_kupffer/BALBC_Kupffer_RNA_BALB01C_HBENN_l20201208_AGCCTCAT_AGTAGAGA.balbcj.star_shifted_from_BALBCJ.sam \\\n",
    "    /home/h1bennet/strains/data/RNA/control_kupffer/BALBC_Kupffer_RNA_BALB01D_HBENN_l20201208_GATTCTGC_GACGAGAG.balbcj.star_shifted_from_BALBCJ.sam \\\n",
    "    /home/h1bennet/strains/data/RNA/leptin_6h_strains_kupffer/balbcj_M_Kupffer_RNA_polyA_leptin_6h_rep1_HBENN_l20210529_CAACAATG_CTTCACGG.balbcj.star_shifted_from_BALBCJ.sam \\\n",
    "    /home/h1bennet/strains/data/RNA/leptin_6h_strains_kupffer/balbcj_M_Kupffer_RNA_polyA_leptin_6h_rep2_HBENN_l20210529_TGGTGGCA_TCCTGTAA.balbcj.star_shifted_from_BALBCJ.sam \\\n",
    "    /home/h1bennet/strains/data/RNA/leptin_6h_strains_kupffer/balbcj_M_Kupffer_RNA_polyA_leptin_6h_rep3_HBENN_l20210529_AGGCAGAG_AGAATGCC.balbcj.star_shifted_from_BALBCJ.sam \\\n",
    "    /home/h1bennet/strains/data/RNA/control_kupffer/C57B6J_Tim4PosKupffer_RNA_C5701C_HBENN_l20201208_TCGTAGTG_AGACTTGG \\\n",
    "    /home/h1bennet/strains/data/RNA/control_kupffer/C57B6J_Tim4PosKupffer_RNA_C5701D_HBENN_l20201208_CTACGACA_GAGTCCAA \\\n",
    "    /home/h1bennet/strains/data/RNA/leptin_6h_strains_kupffer/c57bl6j_M_Kupffer_RNA_polyA_leptin_6h_rep1_HBENN_l20210529_AACAGGTT_ATACCAAG.c57bl6j.star_shifted_from_C57BL6J.sam \\\n",
    "    /home/h1bennet/strains/data/RNA/leptin_6h_strains_kupffer/c57bl6j_M_Kupffer_RNA_polyA_leptin_6h_rep2_HBENN_l20210529_GGTGAACC_GCGTTGGA.c57bl6j.star_shifted_from_C57BL6J.sam"
   ]
  },
  {
   "cell_type": "markdown",
   "metadata": {},
   "source": [
    "# Run Oyoung's pipeline to process RNA-seq data consistantly."
   ]
  },
  {
   "cell_type": "code",
   "execution_count": 4,
   "metadata": {},
   "outputs": [],
   "source": [
    "c57_control_paths = list(np.sort(glob.glob(controlDirectory+'/C57*')))\n",
    "balbc_control_paths = list(np.sort(glob.glob(controlDirectory+'/BALB*')))\n",
    "aj_control_paths = list(np.sort(glob.glob(controlDirectory+'/AJ*')))\n",
    "\n",
    "c57_control_ids = [i.split('/')[-1].split('_')[3] for i in c57_control_paths]\n",
    "balbc_control_ids = [i.split('/')[-1].split('_')[3] for i in balbc_control_paths]\n",
    "aj_control_ids = [i.split('/')[-1].split('_')[3] for i in aj_control_paths]"
   ]
  },
  {
   "cell_type": "code",
   "execution_count": 5,
   "metadata": {},
   "outputs": [],
   "source": [
    "c57_lps_paths = list(np.sort(glob.glob(lpsDirectory+'/*c57*.sam')))\n",
    "balbc_lps_paths = list(np.sort(glob.glob(lpsDirectory+'/*balb*.sam')))\n",
    "aj_lps_paths = list(np.sort(glob.glob(lpsDirectory+'/aj*')))\n",
    "\n",
    "c57_lps_ids = [i.split('/')[-1].split('_')[7] for i in c57_lps_paths]\n",
    "balbc_lps_ids = [i.split('/')[-1].split('_')[7] for i in balbc_lps_paths]\n",
    "aj_lps_ids = [i.split('/')[-1].split('_')[7] for i in aj_lps_paths]"
   ]
  },
  {
   "cell_type": "code",
   "execution_count": 6,
   "metadata": {},
   "outputs": [
    {
     "data": {
      "text/plain": [
       "['/home/h1bennet/strains/data/RNA/LPS_2h_kupffer_cohort2/balbcj_M_Kupffer_RNA_polyA_lps_2h_1A_HBENN_l20210513_AAGATACT_ACTTACAT.balbcj.star_shifted_from_BALBCJ.sam',\n",
       " '/home/h1bennet/strains/data/RNA/LPS_2h_kupffer_cohort2/balbcj_M_Kupffer_RNA_polyA_lps_2h_1B_HBENN_l20210513_GGAGCGTC_GTCCGTGC.balbcj.star_shifted_from_BALBCJ.sam']"
      ]
     },
     "execution_count": 6,
     "metadata": {},
     "output_type": "execute_result"
    }
   ],
   "source": [
    "balbc_lps_paths"
   ]
  },
  {
   "cell_type": "markdown",
   "metadata": {},
   "source": [
    "Put together into three separate comparisons"
   ]
  },
  {
   "cell_type": "code",
   "execution_count": 7,
   "metadata": {},
   "outputs": [],
   "source": [
    "ids = ['c57_kupffer_control',\n",
    "       'c57_kupffer_lps_2hours',\n",
    "       'balbc_kupffer_control',\n",
    "       'balbc_kupffer_lps_2hours',\n",
    "       # 'aj_kupffer_control',\n",
    "       # 'aj_kupffer_lps_2hours'\n",
    "      ]\n",
    "\n",
    "colors = ['#74c476',\n",
    "          '#006d2c',\n",
    "          '#6baed6',\n",
    "          '#08519c',\n",
    "          # '#de2d26',\n",
    "          # '#a50f15'\n",
    "         ]\n",
    "\n",
    "paths = [';'.join(c57_control_paths),\n",
    "         ';'.join(c57_lps_paths),\n",
    "         ';'.join(balbc_control_paths),\n",
    "         ';'.join(balbc_lps_paths),\n",
    "         # ';'.join(aj_control_paths),\n",
    "         # ';'.join(aj_lps_paths)\n",
    "        ]\n",
    "\n",
    "short_ids = [';'.join(c57_control_ids),\n",
    "             ';'.join(c57_lps_ids),\n",
    "             ';'.join(balbc_control_ids),\n",
    "             ';'.join(balbc_lps_ids),\n",
    "             # ';'.join(aj_control_ids),\n",
    "             # ';'.join(aj_lps_ids)\n",
    "            ]\n",
    "\n",
    "pd.DataFrame([ids,colors,paths,short_ids]).T.to_csv('./sampleDef.txt',\n",
    "                                                    sep='\\t',\n",
    "                                                    header=False,\n",
    "                                                    index=False)"
   ]
  },
  {
   "cell_type": "code",
   "execution_count": 8,
   "metadata": {},
   "outputs": [
    {
     "data": {
      "text/html": [
       "<div>\n",
       "<style scoped>\n",
       "    .dataframe tbody tr th:only-of-type {\n",
       "        vertical-align: middle;\n",
       "    }\n",
       "\n",
       "    .dataframe tbody tr th {\n",
       "        vertical-align: top;\n",
       "    }\n",
       "\n",
       "    .dataframe thead th {\n",
       "        text-align: right;\n",
       "    }\n",
       "</style>\n",
       "<table border=\"1\" class=\"dataframe\">\n",
       "  <thead>\n",
       "    <tr style=\"text-align: right;\">\n",
       "      <th></th>\n",
       "      <th>0</th>\n",
       "      <th>1</th>\n",
       "      <th>2</th>\n",
       "      <th>3</th>\n",
       "    </tr>\n",
       "  </thead>\n",
       "  <tbody>\n",
       "    <tr>\n",
       "      <th>0</th>\n",
       "      <td>c57_kupffer_control</td>\n",
       "      <td>#74c476</td>\n",
       "      <td>/home/h1bennet/strains/data/RNA/control_kupffe...</td>\n",
       "      <td>C5701C;C5701D</td>\n",
       "    </tr>\n",
       "    <tr>\n",
       "      <th>1</th>\n",
       "      <td>c57_kupffer_lps_2hours</td>\n",
       "      <td>#006d2c</td>\n",
       "      <td>/home/h1bennet/strains/data/RNA/LPS_2h_kupffer...</td>\n",
       "      <td>2A</td>\n",
       "    </tr>\n",
       "    <tr>\n",
       "      <th>2</th>\n",
       "      <td>balbc_kupffer_control</td>\n",
       "      <td>#6baed6</td>\n",
       "      <td>/home/h1bennet/strains/data/RNA/control_kupffe...</td>\n",
       "      <td>BALB01C;BALB01D</td>\n",
       "    </tr>\n",
       "    <tr>\n",
       "      <th>3</th>\n",
       "      <td>balbc_kupffer_lps_2hours</td>\n",
       "      <td>#08519c</td>\n",
       "      <td>/home/h1bennet/strains/data/RNA/LPS_2h_kupffer...</td>\n",
       "      <td>1A;1B</td>\n",
       "    </tr>\n",
       "  </tbody>\n",
       "</table>\n",
       "</div>"
      ],
      "text/plain": [
       "                          0        1  \\\n",
       "0       c57_kupffer_control  #74c476   \n",
       "1    c57_kupffer_lps_2hours  #006d2c   \n",
       "2     balbc_kupffer_control  #6baed6   \n",
       "3  balbc_kupffer_lps_2hours  #08519c   \n",
       "\n",
       "                                                   2                3  \n",
       "0  /home/h1bennet/strains/data/RNA/control_kupffe...    C5701C;C5701D  \n",
       "1  /home/h1bennet/strains/data/RNA/LPS_2h_kupffer...               2A  \n",
       "2  /home/h1bennet/strains/data/RNA/control_kupffe...  BALB01C;BALB01D  \n",
       "3  /home/h1bennet/strains/data/RNA/LPS_2h_kupffer...            1A;1B  "
      ]
     },
     "execution_count": 8,
     "metadata": {},
     "output_type": "execute_result"
    }
   ],
   "source": [
    "pd.DataFrame([ids,colors,paths,short_ids]).T"
   ]
  },
  {
   "cell_type": "markdown",
   "metadata": {},
   "source": [
    "# Run O'young RNA pipeline"
   ]
  },
  {
   "cell_type": "markdown",
   "metadata": {},
   "source": [
    "Run the code below in BASH.\n",
    "Edited for this pipeline to lower the minimum TPM threshold as this has kind of messed up our differential gene calling for borderline genes that do not meet the TPM in two of the strains ie TPM > 8 in one strain and TPM of 7 in the other two.\n",
    "\n",
    "    source activate r-ouyangPipe\n",
    "    \n",
    "    mkdir ./expression/\n",
    "    \n",
    "    mkdir ./differential/\n",
    "    \n",
    "    alignStats.R ./sampleDef.txt > qcStats.txt\n",
    "    \n",
    "    rnaQuan.R ./sampleDef.txt -o ./expression/\n",
    "\n",
    "    rnaDiff.R ./sampleDef.txt -c ./expression/rawC.txt \\\n",
    "    -t ./expression/rawT.txt -m 4 -o ./differential/\n",
    "\n",
    "    # annotate scatter files with tag counts\n",
    "    for scatter in ./differential/*scatter.txt;\n",
    "    do diff2Homer.R -d $scatter -q ./expression/HOMER.rawTPM.txt;\n",
    "    done\n",
    "    \n",
    "    rm ./differential/aj*balb*\n",
    "    rm ./differential/aj*c57*\n",
    "    rm ./differential/balb*aj*\n",
    "    rm ./differential/balb*c57*\n",
    "    rm ./differential/c57*aj*\n",
    "    rm ./differential/c57*balb*"
   ]
  },
  {
   "cell_type": "markdown",
   "metadata": {},
   "source": [
    "### Make sure to check the PCA pdf file for outliers"
   ]
  },
  {
   "cell_type": "markdown",
   "metadata": {},
   "source": [
    "## Make jupyter hub for vizualization"
   ]
  },
  {
   "cell_type": "markdown",
   "metadata": {},
   "source": [
    "    makeMultiWigHub.pl hrb_strains_viz_wholeliver_rna_leptin6h_control_merged mm10 \\\n",
    "    -color 222,45,38 165,15,21 107,174,214 8,81,156 116,196,118 0,109,44 \\\n",
    "    -force -d ./expression/mergeTag/aj_wholeliver_control_young \\\n",
    "    ./expression/mergeTag/aj_wholeliver_leptin_6hours \\\n",
    "    ./expression/mergeTag/balbc_wholeliver_control_young \\\n",
    "    ./expression/mergeTag/balbc_wholeliver_leptin_6hours \\\n",
    "    ./expression/mergeTag/c57_wholeliver_control_young \\\n",
    "    ./expression/mergeTag/c57_wholeliver_leptin_6hours"
   ]
  },
  {
   "cell_type": "markdown",
   "metadata": {},
   "source": [
    "# Import differential gene files for examination and plotting"
   ]
  },
  {
   "cell_type": "markdown",
   "metadata": {},
   "source": [
    "Make folder for figures"
   ]
  },
  {
   "cell_type": "code",
   "execution_count": 11,
   "metadata": {},
   "outputs": [],
   "source": [
    "if not os.path.isdir('./figures/'):\n",
    "    os.mkdir('./figures')"
   ]
  },
  {
   "cell_type": "markdown",
   "metadata": {},
   "source": [
    "Plot our own version of scatter"
   ]
  },
  {
   "cell_type": "code",
   "execution_count": 12,
   "metadata": {},
   "outputs": [],
   "source": [
    "comps = ['balbc_kupffer_control.vs.balbc_kupffer_lps_2hours.scatter.homer.txt']\n",
    "\n",
    "ids = [['BALB.*Kupffer', 'balb.*lp']]\n",
    "\n",
    "labels = [['BALBcJ control', 'BALBcJ 0.1 mg/kg LPS 2hours']]\n",
    "\n",
    "colors = [['#bdbdbd', '#08519c']]\n",
    "\n",
    "# set plotting thresholds\n",
    "pthresh = 0.05\n",
    "fontsize=10\n",
    "labelsize=10\n",
    "lfcthresh = (np.log2(2),2)\n",
    "dotsize = 1\n",
    "ax_max = 16\n",
    "n_yticks = 5\n",
    "ytickstep = 3\n",
    "color = '#636363'\n",
    "# filename='leptin_treatment_combined_scatter.png'"
   ]
  },
  {
   "cell_type": "code",
   "execution_count": 13,
   "metadata": {},
   "outputs": [
    {
     "name": "stdout",
     "output_type": "stream",
     "text": [
      "balbc_kupffer_control.vs.balbc_kupffer_lps_2hours.scatter.homer.txt\n",
      "ge all transcripts (24940, 14)\n",
      "Diff Gene selected transcripts (9132, 14)\n",
      "ge selected transcripts (9132, 14)\n",
      "6272 peaks\n",
      "1452 genes up in group 1\n",
      "1408 genes up in group 2\n"
     ]
    },
    {
     "data": {
      "image/png": "[encoded data removed]",
      "text/plain": [
       "<Figure size 288x288 with 1 Axes>"
      ]
     },
     "metadata": {},
     "output_type": "display_data"
    }
   ],
   "source": [
    "fig, ax = plt.subplots(1,1,\n",
    "                        figsize=(4,4),\n",
    "                        sharex=True,\n",
    "                        sharey=True)\n",
    "plt.subplots_adjust(wspace=0.2,\n",
    "                    hspace=0.2)\n",
    "\n",
    "# set count for labeling axes\n",
    "count=0\n",
    "\n",
    "for comp, grep, labs, color in zip(comps, ids, labels, colors):\n",
    "    print(comp)\n",
    "    de, tpm, tpm_mat, tpm_mat_quant = import_homer_diffgene(\n",
    "        './differential/'+comp,\n",
    "        './expression/HOMER.rawTPM.txt',\n",
    "        gene_name_index=True)\n",
    "    \n",
    "    # extract columns\n",
    "    g0 = tpm_mat.columns.str.contains(grep[0])\n",
    "    g1 = tpm_mat.columns.str.contains(grep[1])\n",
    "    col = g0 | g1\n",
    "    \n",
    "    de['logtpm'] = np.log2(tpm_mat.loc[:, col].mean(1)+1)\n",
    "    de['log10p'] = -np.log10(de.padj + 10**(-50))\n",
    "    de['g0_mean'] = np.log2(tpm_mat.loc[:, g0].mean(1)+1)\n",
    "    de['g1_mean'] = np.log2(tpm_mat.loc[:, g1].mean(1)+1)\n",
    "       \n",
    "    # plot group by group scatter:\n",
    "    de_nonsig = de.reindex(de.index[((de.padj >= pthresh) | (np.abs(de.log2FoldChange) <= lfcthresh[0]))])\n",
    "    de_sig_fc1 = de.reindex(de.index[(de.padj < pthresh) & (np.abs(de.log2FoldChange) >= lfcthresh[0])])\n",
    "    \n",
    "    # check number of peaks in each group\n",
    "    print(de_nonsig.shape[0], 'peaks')\n",
    "    print((de_sig_fc1.log2FoldChange > lfcthresh[0]).sum(), 'genes up in group 1')\n",
    "    print((de_sig_fc1.log2FoldChange < -lfcthresh[0]).sum(), 'genes up in group 2')\n",
    "    \n",
    "    for df, c in zip([de_nonsig, de_sig_fc1],\n",
    "                     color):\n",
    "        ax.scatter(\n",
    "            x=df.g0_mean,\n",
    "            y=df.g1_mean,\n",
    "            c=c,\n",
    "            s=dotsize,\n",
    "            #rasterized=True\n",
    "        )\n",
    "     \n",
    "    # Hide the right and top spines\n",
    "    ax.spines['right'].set_visible(False)\n",
    "    ax.spines['top'].set_visible(False)\n",
    "    \n",
    "\n",
    "    ax.set_xlabel(labs[0], fontsize=labelsize+4)\n",
    "    ax.set_ylabel(labs[1], fontsize=labelsize+4)\n",
    "    \n",
    "    #set max and min\n",
    "    ax.set_xlim([0,ax_max])\n",
    "    ax.set_ylim([0,ax_max])\n",
    "    \n",
    "    # set ticks\n",
    "    ax.set_xticks(np.arange(0,ax_max,ytickstep))\n",
    "    ax.set_xticklabels(np.arange(0,ax_max,ytickstep),\n",
    "                       fontdict={'fontsize':labelsize})\n",
    "    ax.set_yticks(np.arange(0,ax_max,ytickstep))\n",
    "    ax.set_yticklabels(np.arange(0,ax_max,ytickstep),\n",
    "                       fontdict={'fontsize':labelsize})\n",
    "    \n",
    "    count = count + 1\n",
    "# plt.savefig('./figures/'+filename, bbox_inches='tight')"
   ]
  },
  {
   "cell_type": "markdown",
   "metadata": {},
   "source": [
    "## Write differential genes to list for metascape"
   ]
  },
  {
   "cell_type": "code",
   "execution_count": 18,
   "metadata": {},
   "outputs": [],
   "source": [
    "if not os.path.isdir('./gene_lists/'):\n",
    "    os.mkdir('./gene_lists')"
   ]
  },
  {
   "cell_type": "code",
   "execution_count": 19,
   "metadata": {},
   "outputs": [],
   "source": [
    "log2fc = np.log2(2)\n",
    "pval = 0.05\n",
    "gene_list_dict ={}"
   ]
  },
  {
   "cell_type": "code",
   "execution_count": 20,
   "metadata": {
    "scrolled": false
   },
   "outputs": [
    {
     "name": "stdout",
     "output_type": "stream",
     "text": [
      "./differential/balbc_kupffer_control.vs.balbc_kupffer_lps_2hours.scatter.homer.txt\n",
      "ge all transcripts (24940, 14)\n",
      "Diff Gene selected transcripts (9132, 14)\n",
      "ge selected transcripts (9132, 14)\n",
      "./differential/balbc_kupffer_lps_2hours.vs.balbc_kupffer_control.scatter.homer.txt\n",
      "ge all transcripts (24940, 14)\n",
      "Diff Gene selected transcripts (9132, 14)\n",
      "ge selected transcripts (9132, 14)\n"
     ]
    }
   ],
   "source": [
    "for i in np.sort(glob.glob('./differential/c57*c57*homer.txt')):\n",
    "    print(i)\n",
    "    # read in gene expression data\n",
    "    df, tpm, tpm_mat, tpm_mat_quant = import_homer_diffgene(\n",
    "        depath=i,\n",
    "        gepath='./expression/HOMER.rawTPM.txt',\n",
    "        gene_name_index=True)\n",
    "\n",
    "    # select differential genes\n",
    "    df = df.loc[~(df.chr.str.contains('chrX|chrY|ChrUn')), :]\n",
    "    sig_genes = df.index[(df['padj'] < pval) & (df['log2FoldChange'] >= log2fc)].to_list()\n",
    "    gene_list_dict[i.split('.')[3]+'_up'] = list(sig_genes)\n",
    "    # print('union set length:', print(len(g_union)))\n",
    "    # print('intersection set length:', print(len(g_intersect)))\n",
    "\n",
    "for i in np.sort(glob.glob('./differential/balb*balb*homer.txt')):\n",
    "    print(i)\n",
    "    # read in gene expression data\n",
    "    df, tpm, tpm_mat, tpm_mat_quant = import_homer_diffgene(\n",
    "        depath=i,\n",
    "        gepath='./expression/HOMER.rawTPM.txt',\n",
    "        gene_name_index=True)\n",
    "\n",
    "    # select differential genes\n",
    "    df = df.loc[~(df.chr.str.contains('chrX|chrY|ChrUn')), :]\n",
    "    sig_genes = df.index[(df['padj'] < pval) & (df['log2FoldChange'] >= log2fc)].to_list()\n",
    "    gene_list_dict[i.split('.')[3]+'_up'] = list(sig_genes)\n",
    "    # print('union set length:', print(len(g_union)))\n",
    "    # print('intersection set length:', print(len(g_intersect)))\n",
    "    \n",
    "for i in np.sort(glob.glob('./differential/aj*aj*homer.txt')):\n",
    "    print(i)\n",
    "    # read in gene expression data\n",
    "    df, tpm, tpm_mat, tpm_mat_quant = import_homer_diffgene(\n",
    "        depath=i,\n",
    "        gepath='./expression/HOMER.rawTPM.txt',\n",
    "        gene_name_index=True)\n",
    "\n",
    "    # select differential genes\n",
    "    df = df.loc[~(df.chr.str.contains('chrX|chrY|ChrUn')), :]\n",
    "    sig_genes = df.index[(df['padj'] < pval) & (df['log2FoldChange'] >= log2fc)].to_list()\n",
    "    gene_list_dict[i.split('.')[3]+'_up'] = list(sig_genes)\n",
    "    # print('union set length:', print(len(g_union)))\n",
    "    # print('intersection set length:', print(len(g_intersect)))"
   ]
  },
  {
   "cell_type": "code",
   "execution_count": 21,
   "metadata": {},
   "outputs": [
    {
     "name": "stdout",
     "output_type": "stream",
     "text": [
      "balbc_kupffer_lps_2hours_up\n",
      "1407 genes\n",
      "balbc_kupffer_control_up\n",
      "1381 genes\n"
     ]
    }
   ],
   "source": [
    "for key in gene_list_dict.keys():\n",
    "    print(key)\n",
    "    print(len(gene_list_dict[key]), 'genes')\n",
    "    with open('./gene_lists/'+key+'_kupffer_genes_fc_%.2f_pval_%.2f_.txt' % (log2fc, pval), 'w') as f:\n",
    "        f.write('Gene\\n')\n",
    "        for i in gene_list_dict[key]:\n",
    "            f.write(i+'\\n')\n",
    "        f.close()"
   ]
  },
  {
   "cell_type": "markdown",
   "metadata": {},
   "source": [
    "# How many leptin induced genes are common"
   ]
  },
  {
   "cell_type": "code",
   "execution_count": 22,
   "metadata": {},
   "outputs": [],
   "source": [
    "# fig, ax = plt.subplots(figsize=(8,8))\n",
    "\n",
    "# # venn3 accepts a list with the following order\n",
    "# # (100, 010, 110, 001, 101, 011, 111)\n",
    "# # group1, group2, group1+2, group3, group1+3, group2+3, group3\n",
    "# venn2(subsets=[# set(gene_list_dict['c57_wholeliver_leptin_6hours_up']),\n",
    "#                set(gene_list_dict['balbc_kupffer_leptin_6hours_up']),\n",
    "#                set(gene_list_dict['aj_kupffer_leptin_6hours_up'])],\n",
    "#      ax=ax,\n",
    "#      set_colors=(# '#006d2c',\n",
    "#                  '#08519c', '#de2d26'),\n",
    "#      set_labels=(# 'C57',\n",
    "#                  'BALBC', 'AJ'),\n",
    "#      alpha=0.5)\n",
    "# ax.set_title('leptin Activated wholeliver Genes');\n",
    "\n",
    "# plt.savefig('./figures/venn2_activated_genes.png', bbox_inches='tight')"
   ]
  },
  {
   "cell_type": "code",
   "execution_count": 23,
   "metadata": {},
   "outputs": [],
   "source": [
    "# fig, ax = plt.subplots(figsize=(8,8))\n",
    "\n",
    "# # venn3 accepts a list with the following order\n",
    "# # (100, 010, 110, 001, 101, 011, 111)\n",
    "# # group1, group2, group1+2, group3, group1+3, group2+3, group3\n",
    "# venn2(subsets=[# set(gene_list_dict['c57_wholeliver_control_young_up']),\n",
    "#                set(gene_list_dict['balbc_kupffer_control_up']),\n",
    "#                set(gene_list_dict['aj_kupffer_control_up'])],\n",
    "#      ax=ax,\n",
    "#      set_colors=(# '#006d2c',\n",
    "#                  '#08519c', '#de2d26'),\n",
    "#      set_labels=(# 'C57',\n",
    "#                  'BALBC', 'AJ'),\n",
    "#      alpha=0.5)\n",
    "# ax.set_title('leptin repressed wholeliver Genes');\n",
    "\n",
    "# plt.savefig('./figures/venn2_activated_genes.png', bbox_inches='tight')"
   ]
  },
  {
   "cell_type": "markdown",
   "metadata": {},
   "source": [
    "### Pull sets for manual examination"
   ]
  },
  {
   "cell_type": "markdown",
   "metadata": {},
   "source": [
    "activated genes"
   ]
  },
  {
   "cell_type": "code",
   "execution_count": 24,
   "metadata": {},
   "outputs": [],
   "source": [
    "# all3 = set(gene_list_dict['aj_wholeliver_leptin_6hours_up']).intersection(set(gene_list_dict['balbc_wholeliver_leptin_6hours_up']).intersection(gene_list_dict['c57_wholeliver_leptin_6hours_up']))\n",
    "# C57_balbc = set(gene_list_dict['c57_wholeliver_leptin_6hours_up']).intersection(set(gene_list_dict['balbc_wholeliver_leptin_6hours_up']).difference(all3))\n",
    "# C57_aj = set(gene_list_dict['c57_wholeliver_leptin_6hours_up']).intersection(set(gene_list_dict['aj_wholeliver_leptin_6hours_up']).difference(all3))\n",
    "# balbc_aj = set(gene_list_dict['balbc_wholeliver_leptin_6hours_up']).intersection(gene_list_dict['aj_wholeliver_leptin_6hours_up']).difference(all3)\n",
    "# C57_private = set(gene_list_dict['c57_wholeliver_leptin_6hours_up']).difference(set(all3).union(set(C57_balbc).union(C57_aj)))\n",
    "# balbc_private = set(gene_list_dict['balbc_wholeliver_leptin_6hours_up']).difference(set(all3).union(set(C57_balbc).union(balbc_aj)))\n",
    "# aj_private = set(gene_list_dict['aj_wholeliver_leptin_6hours_up']).difference(set(all3).union(set(C57_aj).union(balbc_aj)))"
   ]
  },
  {
   "cell_type": "code",
   "execution_count": 25,
   "metadata": {},
   "outputs": [],
   "source": [
    "# genesets = [aj_private, C57_private, balbc_private]\n",
    "# genesetnames = ['aj_private', 'c57_private', 'balbc_private']\n",
    "# for listname, genelist in zip(genesetnames, genesets):\n",
    "#     with open('./gene_lists/'+listname+'_wholeliver_genes_fc_'+str(log2fc)+'_pval_'+str(pval)+'.txt', 'w') as f:\n",
    "#         f.write('Gene\\n')\n",
    "#         for i in genelist:\n",
    "#             f.write(i+'\\n')\n",
    "#         f.close()"
   ]
  },
  {
   "cell_type": "markdown",
   "metadata": {},
   "source": [
    "# Plot specific genes as barplots"
   ]
  },
  {
   "cell_type": "code",
   "execution_count": 26,
   "metadata": {},
   "outputs": [],
   "source": [
    "tpm_mat = pd.read_csv('./expression/rawT.txt', sep='\\t', index_col=0)"
   ]
  },
  {
   "cell_type": "code",
   "execution_count": 27,
   "metadata": {},
   "outputs": [
    {
     "data": {
      "text/plain": [
       "Index(['c57_kupffer_control_C5701C', 'c57_kupffer_control_C5701D',\n",
       "       'c57_kupffer_lps_2hours_2A', 'balbc_kupffer_control_BALB01C',\n",
       "       'balbc_kupffer_control_BALB01D', 'balbc_kupffer_lps_2hours_1A',\n",
       "       'balbc_kupffer_lps_2hours_1B'],\n",
       "      dtype='object')"
      ]
     },
     "execution_count": 27,
     "metadata": {},
     "output_type": "execute_result"
    }
   ],
   "source": [
    "tpm_mat.columns"
   ]
  },
  {
   "cell_type": "code",
   "execution_count": 28,
   "metadata": {},
   "outputs": [],
   "source": [
    "from matplotlib.patches import Patch"
   ]
  },
  {
   "cell_type": "code",
   "execution_count": 29,
   "metadata": {},
   "outputs": [],
   "source": [
    "groups = [[0,1],\n",
    "          [2],\n",
    "          [3,4],\n",
    "          [5,6]]\n",
    "\n",
    "group_labels = ['C57BL/6J Kupffer Control young',\n",
    "                'C57BL/6J Kupffer leptin 6 hours',\n",
    "                'Balb/cJ Kupffer Control young',\n",
    "                'Balb/cJ Kupffer leptin 6 hours']\n",
    "\n",
    "colors = ['#74c476',\n",
    "          '#006d2c',\n",
    "          '#6baed6',\n",
    "          '#08519c']\n",
    "\n",
    "legend_elements = []\n",
    "for lab, col in  zip(group_labels, colors):\n",
    "    legend_elements.append(Patch(label=lab, color=col))"
   ]
  },
  {
   "cell_type": "code",
   "execution_count": 30,
   "metadata": {},
   "outputs": [
    {
     "data": {
      "image/png": "[encoded data removed]",
      "text/plain": [
       "<Figure size 288x288 with 1 Axes>"
      ]
     },
     "metadata": {},
     "output_type": "display_data"
    }
   ],
   "source": [
    "fig, ax = plt.subplots(figsize=(4, 4))\n",
    "\n",
    "gene_list_bar_plot(['Fabp7'],\n",
    "                   tpm_mat,\n",
    "                   groups=groups,\n",
    "                   group_labels = group_labels,\n",
    "                   colors = colors,\n",
    "                   width = 0.15,\n",
    "                   ax=ax)\n",
    "\n",
    "ax.get_legend().remove()"
   ]
  },
  {
   "cell_type": "code",
   "execution_count": 31,
   "metadata": {},
   "outputs": [
    {
     "data": {
      "text/plain": [
       "[]"
      ]
     },
     "execution_count": 31,
     "metadata": {},
     "output_type": "execute_result"
    },
    {
     "data": {
      "image/png": "[encoded data removed]",
      "text/plain": [
       "<Figure size 1728x324 with 7 Axes>"
      ]
     },
     "metadata": {},
     "output_type": "display_data"
    }
   ],
   "source": [
    "gene_list = ['Aoah', 'Tnf', 'Tnfaip3', 'Irak3', 'Tlr9', 'Lbp']\n",
    "\n",
    "fig, axs = plt.subplots(1, len(gene_list)+1, figsize=(4*len(gene_list), 3*len(gene_list)/4))\n",
    "plt.subplots_adjust(wspace=0.5)\n",
    "\n",
    "\n",
    "for gene, ax in zip(gene_list, axs.flat):\n",
    "    gene_list_bar_plot([gene],\n",
    "                       tpm_mat,\n",
    "                       groups=groups,\n",
    "                       group_labels = group_labels,\n",
    "                       colors = colors,\n",
    "                       width = 0.15,\n",
    "                       ax=ax)\n",
    "\n",
    "    ax.get_legend().remove()\n",
    "    \n",
    "axs.flat[-1].legend(handles=legend_elements, loc='center')\n",
    "axs.flat[-1].spines['top'].set_visible(False)\n",
    "axs.flat[-1].spines['right'].set_visible(False)\n",
    "axs.flat[-1].spines['left'].set_visible(False)\n",
    "axs.flat[-1].spines['bottom'].set_visible(False)\n",
    "axs.flat[-1].set_xticklabels('')\n",
    "axs.flat[-1].set_yticklabels('')"
   ]
  },
  {
   "cell_type": "markdown",
   "metadata": {},
   "source": [
    "# Fisher exact test of overlap between C57 trans genes and genes induced by LPS in BALBcJ mice."
   ]
  },
  {
   "cell_type": "markdown",
   "metadata": {},
   "source": [
    "Read in balbcj differential data"
   ]
  },
  {
   "cell_type": "code",
   "execution_count": 32,
   "metadata": {},
   "outputs": [
    {
     "name": "stdout",
     "output_type": "stream",
     "text": [
      "ge all transcripts (24940, 14)\n",
      "Diff Gene selected transcripts (9132, 14)\n",
      "ge selected transcripts (9132, 14)\n"
     ]
    }
   ],
   "source": [
    "de, tpm, tpm_mat, tpm_mat_quant = import_homer_diffgene(\n",
    "    './differential/balbc_kupffer_control.vs.balbc_kupffer_lps_2hours.scatter.homer.txt',\n",
    "    './expression/HOMER.rawTPM.txt',\n",
    "    gene_name_index=True)"
   ]
  },
  {
   "cell_type": "markdown",
   "metadata": {},
   "source": [
    "Read in gene list for c57 trans genes"
   ]
  },
  {
   "cell_type": "code",
   "execution_count": 33,
   "metadata": {},
   "outputs": [],
   "source": [
    "with open('/home/h1bennet/strains_rna/results/K03_CB6F1_Kupffer_RNA/gene_lists/cb6f1_kupffer_trans_c57_filt.txt', 'r') as f:\n",
    "    c57_trans = [i.strip() for i in f.readlines()[1:]]"
   ]
  },
  {
   "cell_type": "code",
   "execution_count": 34,
   "metadata": {},
   "outputs": [
    {
     "name": "stdout",
     "output_type": "stream",
     "text": [
      "1407 genes up in Balb KC + LPS\n",
      "66 C57 trans regulated genes\n",
      "29 shared\n"
     ]
    }
   ],
   "source": [
    "print(len(gene_list_dict['balbc_kupffer_lps_2hours_up']), 'genes up in Balb KC + LPS')\n",
    "print(len(c57_trans), 'C57 trans regulated genes')\n",
    "print(len(set(gene_list_dict['balbc_kupffer_lps_2hours_up']).intersection(c57_trans)), 'shared')"
   ]
  },
  {
   "cell_type": "markdown",
   "metadata": {},
   "source": [
    "Contingency table explained:  \n",
    "\n",
    "genes in dataset: 9132  \n",
    "genes 2 fold up in balb LPS treatment: 1407  \n",
    "C57 Trans Genes: 66  \n",
    "overlap between two gene sets: 29.  \n",
    "\n",
    "|  |Not in A              | in A |\n",
    "|:---:|:----------------------:|:-----:\n",
    "Not in B|9132 - 1407 - 66 | 66-29\n",
    "In B|1407-29                | 29"
   ]
  },
  {
   "cell_type": "code",
   "execution_count": 37,
   "metadata": {},
   "outputs": [
    {
     "data": {
      "text/plain": [
       "(4.356313497822931, 3.037360128035335e-08)"
      ]
     },
     "execution_count": 37,
     "metadata": {},
     "output_type": "execute_result"
    }
   ],
   "source": [
    "stats.fisher_exact([[9132 - 1407 - 66, 66-29], [1407-29, 29]], alternative='greater')"
   ]
  },
  {
   "cell_type": "markdown",
   "metadata": {},
   "source": [
    "Test converse"
   ]
  },
  {
   "cell_type": "code",
   "execution_count": 40,
   "metadata": {},
   "outputs": [
    {
     "name": "stdout",
     "output_type": "stream",
     "text": [
      "1381 genes down in Balb KC + LPS\n",
      "34 C57 trans regulated genes\n",
      "0 shared\n"
     ]
    }
   ],
   "source": [
    "print(len(gene_list_dict['balbc_kupffer_control_up']), 'genes down in Balb KC + LPS')\n",
    "print(len(c57_trans), 'C57 trans regulated genes')\n",
    "print(len(set(gene_list_dict['balbc_kupffer_control_up']).intersection(c57_trans)), 'shared')"
   ]
  },
  {
   "cell_type": "markdown",
   "metadata": {},
   "source": [
    "Contingency table explained:  \n",
    "\n",
    "genes in dataset: 9132  \n",
    "genes 2 fold down in balb LPS treatment: 1381  \n",
    "C57 Trans Genes: 34  \n",
    "overlap between two gene sets: 0.  \n",
    "\n",
    "|  |Not in A              | in A |\n",
    "|:---:|:----------------------:|:-----:\n",
    "Not in B|9132 - 1381 - 0 | 66-0\n",
    "In B|1381-0                | 0"
   ]
  },
  {
   "cell_type": "code",
   "execution_count": 41,
   "metadata": {},
   "outputs": [
    {
     "data": {
      "text/plain": [
       "(0.0, 1.0)"
      ]
     },
     "execution_count": 41,
     "metadata": {},
     "output_type": "execute_result"
    }
   ],
   "source": [
    "stats.fisher_exact([[9132 - 1381 - 0, 34-0], [1381-0, 0]], alternative='greater')"
   ]
  },
  {
   "cell_type": "code",
   "execution_count": 36,
   "metadata": {},
   "outputs": [],
   "source": [
    "with open('/home/h1bennet/strains_rna/results/K03_CB6F1_Kupffer_RNA/gene_lists/cb6f1_kupffer_trans_c57_filt_pval.txt', 'r') as f:\n",
    "    c57_trans = [i.strip() for i in f.readlines()[1:]]"
   ]
  },
  {
   "cell_type": "code",
   "execution_count": 33,
   "metadata": {},
   "outputs": [
    {
     "name": "stdout",
     "output_type": "stream",
     "text": [
      "1407 genes up in Balb KC + LPS\n",
      "61 C57 trans regulated genes\n",
      "26 shared\n"
     ]
    }
   ],
   "source": [
    "print(len(gene_list_dict['balbc_kupffer_lps_2hours_up']), 'genes up in Balb KC + LPS')\n",
    "print(len(c57_trans), 'C57 trans regulated genes')\n",
    "print(len(set(gene_list_dict['balbc_kupffer_lps_2hours_up']).intersection(c57_trans)), 'shared')"
   ]
  },
  {
   "cell_type": "code",
   "execution_count": 35,
   "metadata": {},
   "outputs": [
    {
     "data": {
      "text/plain": [
       "(4.122561290989966, 3.262484042320674e-07)"
      ]
     },
     "execution_count": 35,
     "metadata": {},
     "output_type": "execute_result"
    }
   ],
   "source": [
    "stats.fisher_exact([[9132 - 1407 - 61, 61-26], [1407-26, 26]], alternative='greater')"
   ]
  },
  {
   "cell_type": "code",
   "execution_count": 71,
   "metadata": {
    "scrolled": true
   },
   "outputs": [
    {
     "data": {
      "text/plain": [
       "<matplotlib.axes._subplots.AxesSubplot at 0x7f7167a97b90>"
      ]
     },
     "execution_count": 71,
     "metadata": {},
     "output_type": "execute_result"
    },
    {
     "data": {
      "image/png": "[encoded data removed]",
      "text/plain": [
       "<Figure size 720x360 with 1 Axes>"
      ]
     },
     "metadata": {},
     "output_type": "display_data"
    }
   ],
   "source": [
    "fig, ax = plt.subplots(figsize=(10, 5))\n",
    "\n",
    "gene_list_bar_plot(['Per1', 'Per2', 'Per3', 'Noct', 'Cry1'],\n",
    "                   tpm_mat,\n",
    "                   groups=groups,\n",
    "                   group_labels = group_labels,\n",
    "                   colors = colors,\n",
    "                   width = 0.15,\n",
    "                   ax=ax)\n",
    "\n",
    "# ax.get_legend().remove()"
   ]
  }
 ],
 "metadata": {
  "kernelspec": {
   "display_name": "dataviz",
   "language": "python",
   "name": "dataviz"
  },
  "language_info": {
   "codemirror_mode": {
    "name": "ipython",
    "version": 3
   },
   "file_extension": ".py",
   "mimetype": "text/x-python",
   "name": "python",
   "nbconvert_exporter": "python",
   "pygments_lexer": "ipython3",
   "version": "3.7.5"
  }
 },
 "nbformat": 4,
 "nbformat_minor": 2
}
