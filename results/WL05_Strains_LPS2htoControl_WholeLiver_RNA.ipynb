{
 "cells": [
  {
   "cell_type": "code",
   "execution_count": 13,
   "metadata": {},
   "outputs": [
    {
     "name": "stdout",
     "output_type": "stream",
     "text": [
      "The autoreload extension is already loaded. To reload it, use:\n",
      "  %reload_ext autoreload\n"
     ]
    }
   ],
   "source": [
    "### header ###\n",
    "__author__ = \"Hunter Bennett\"\n",
    "__license__ = \"BSD\"\n",
    "__email__ = \"hunter.r.bennett@gmail.com\"\n",
    "%load_ext autoreload\n",
    "%autoreload 2\n",
    "%matplotlib inline\n",
    "### imports ###\n",
    "import sys\n",
    "import os\n",
    "import re\n",
    "import glob\n",
    "import pandas as pd\n",
    "import numpy as np\n",
    "import matplotlib\n",
    "import matplotlib.pyplot as plt\n",
    "from matplotlib_venn import venn3, venn2\n",
    "import seaborn as sns\n",
    "\n",
    "matplotlib.rcParams['savefig.dpi'] = 200\n",
    "sys.setrecursionlimit(3000)\n",
    "sns.set(font_scale=1)\n",
    "sns.set_context('talk')\n",
    "sns.set_style('white')\n",
    "\n",
    "# import custom functions\n",
    "sys.path.insert(0, '/home/h1bennet/code/')\n",
    "from hbUtils import ngs_qc, quantile_normalize_df\n",
    "from homer_preprocessing import import_homer_diffgene\n",
    "from plotting_scripts import plot_exp_rpkm, gene_list_bar_plot"
   ]
  },
  {
   "cell_type": "code",
   "execution_count": 14,
   "metadata": {},
   "outputs": [],
   "source": [
    "workingDirectory = '/home/h1bennet/strains_rna/results/WL05_Strains_LPS2htoControl_WholeLiver_RNA/'\n",
    "lpsDirectory = '/home/h1bennet/strains/data/RNA/LPS_2h_wholeliver/'\n",
    "controlDirectory = '/home/h1bennet/strains/data/RNA/control_wholeliver_young/'\n",
    "if not os.path.isdir(workingDirectory):\n",
    "    os.mkdir(workingDirectory)\n",
    "os.chdir(workingDirectory)\n"
   ]
  },
  {
   "cell_type": "markdown",
   "metadata": {},
   "source": [
    "    makeMultiWigHub.pl hrb_strains_qc_wholeliver_control_lps2h_rna mm10 \\\n",
    "    -color 49,130,189 49,130,189 49,130,189 \\\n",
    "    8,81,156 8,81,156 \\\n",
    "    49,163,84 49,163,84 49,163,84 \\\n",
    "    0,109,44 0,109,44 \\\n",
    "    -force -d \\\n",
    "    /home/h1bennet/strains/data/RNA/control_wholeliver_young/balbcj_M_WholeLiver_RNA_polyA_control_untreated_BALBcA_HBENN_l20210523_GGTGAACC_GCGTTGGA.balbcj.star_shifted_from_BALBCJ.sam \\\n",
    "    /home/h1bennet/strains/data/RNA/control_wholeliver_young/balbcj_M_WholeLiver_RNA_polyA_control_untreated_BALBcB_HBENN_l20210523_CAACAATG_CTTCACGG.balbcj.star_shifted_from_BALBCJ.sam \\\n",
    "    /home/h1bennet/strains/data/RNA/control_wholeliver_young/balbcj_M_WholeLiver_RNA_polyA_control_untreated_BALBcC_HBENN_l20210523_TGGTGGCA_TCCTGTAA.balbcj.star_shifted_from_BALBCJ.sam \\\n",
    "    /home/h1bennet/strains/data/RNA/LPS_2h_wholeliver/balbcj_M_WholeLiver_RNA_polyA_LPS_2h_1A_HBENN_l20210423_TACCGAGG_CCTGAACT.balbcj.star_shifted_from_BALBCJ.sam_combined \\\n",
    "    /home/h1bennet/strains/data/RNA/LPS_2h_wholeliver/balbcj_M_WholeLiver_RNA_polyA_LPS_2h_1B_HBENN_l20210423_CGTTAGAA_TTCAGGTC.balbcj.star_shifted_from_BALBCJ.sam_combined \\\n",
    "    /home/h1bennet/strains/data/RNA/control_wholeliver_young/c57bl6j_M_WholeLiver_RNA_polyA_control_untreated_C57cA_HBENN_l20210523_AGGCAGAG_AGAATGCC \\\n",
    "    /home/h1bennet/strains/data/RNA/control_wholeliver_young/c57bl6j_M_WholeLiver_RNA_polyA_control_untreated_C57cB_HBENN_l20210523_GAATGAGA_GAGGCATT \\\n",
    "    /home/h1bennet/strains/data/RNA/control_wholeliver_young/c57bl6j_M_WholeLiver_RNA_polyA_control_untreated_C57cC_HBENN_l20210523_CAATTAAC_CGAGATAT \\\n",
    "    /home/h1bennet/strains/data/RNA/LPS_2h_wholeliver/c57bl6j_M_WholeLiver_RNA_polyA_LPS_2h_1A_HBENN_l20210423_TCGTAGTG_AGACTTGG.c57bl6j.star_shifted_from_C57BL6J.sam_combined \\\n",
    "    /home/h1bennet/strains/data/RNA/LPS_2h_wholeliver/c57bl6j_M_WholeLiver_RNA_polyA_LPS_2h_2B_HBENN_l20210423_CTACGACA_GAGTCCAA.c57bl6j.star_shifted_from_C57BL6J.sam_combined"
   ]
  },
  {
   "cell_type": "code",
   "execution_count": null,
   "metadata": {},
   "outputs": [],
   "source": []
  },
  {
   "cell_type": "markdown",
   "metadata": {},
   "source": [
    "# Run Oyoung's pipeline to process RNA-seq data consistantly."
   ]
  },
  {
   "cell_type": "code",
   "execution_count": 15,
   "metadata": {},
   "outputs": [],
   "source": [
    "c57_control_paths = list(np.sort(glob.glob(controlDirectory+'/c57*')))\n",
    "balbc_control_paths = list(np.sort(glob.glob(controlDirectory+'/balb*')))\n",
    "# aj_control_paths = list(np.sort(glob.glob(controlDirectory+'/aj*')))\n",
    "\n",
    "c57_control_ids = [i.split('/')[-1].split('_')[7] for i in c57_control_paths]\n",
    "balbc_control_ids = [i.split('/')[-1].split('_')[7] for i in balbc_control_paths]\n",
    "# aj_control_ids = [i.split('/')[-1].split('_')[8] for i in aj_control_paths]"
   ]
  },
  {
   "cell_type": "code",
   "execution_count": 16,
   "metadata": {},
   "outputs": [],
   "source": [
    "c57_lps_paths = list(np.sort(glob.glob(lpsDirectory+'/*c57*')))\n",
    "balbc_lps_paths = list(np.sort(glob.glob(lpsDirectory+'/*balb*')))\n",
    "# aj_lps_paths = list(np.sort(glob.glob(lpsDirectory+'/aj*')))\n",
    "\n",
    "c57_lps_ids = [i.split('/')[-1].split('_')[9] for i in c57_lps_paths]\n",
    "balbc_lps_ids = [i.split('/')[-1].split('_')[9] for i in balbc_lps_paths]\n",
    "# aj_lps_ids = [i.split('/')[-1].split('_')[8] for i in aj_lps_paths]"
   ]
  },
  {
   "cell_type": "markdown",
   "metadata": {},
   "source": [
    "Put together into three separate comparisons"
   ]
  },
  {
   "cell_type": "code",
   "execution_count": 17,
   "metadata": {},
   "outputs": [],
   "source": [
    "ids = ['c57_wholeliver_control_young',\n",
    "       'c57_wholeliver_lps_6weeks',\n",
    "       'balbc_wholeliver_control_young',\n",
    "       'balbc_wholeliver_lps_6weeks'\n",
    "       #'aj_wholeliver_control_young',\n",
    "       #'aj_wholeliver_ccl4_6weeks'\n",
    "      ]\n",
    "\n",
    "colors = ['#74c476',\n",
    "          '#006d2c',\n",
    "          '#6baed6',\n",
    "          '#08519c'\n",
    "          # '#de2d26',\n",
    "          # '#a50f15'\n",
    "         ]\n",
    "\n",
    "paths = [';'.join(c57_control_paths),\n",
    "         ';'.join(c57_lps_paths),\n",
    "         ';'.join(balbc_control_paths),\n",
    "         ';'.join(balbc_lps_paths),\n",
    "         # ';'.join(aj_control_paths),\n",
    "         # ';'.join(aj_lps_paths)\n",
    "        ]\n",
    "\n",
    "short_ids = [';'.join(c57_control_ids),\n",
    "             ';'.join(c57_lps_ids),\n",
    "             ';'.join(balbc_control_ids),\n",
    "             ';'.join(balbc_lps_ids)\n",
    "             # ';'.join([ids[0]+'_'+i for i in aj_control_ids]),\n",
    "             # ';'.join([ids[1]+'_'+i for i in aj_lps_ids])\n",
    "            ]\n",
    "\n",
    "pd.DataFrame([ids,colors,paths,short_ids]).T.to_csv('./sampleDef.txt',\n",
    "                                                    sep='\\t',\n",
    "                                                    header=False,\n",
    "                                                    index=False)"
   ]
  },
  {
   "cell_type": "code",
   "execution_count": 18,
   "metadata": {},
   "outputs": [
    {
     "data": {
      "text/html": [
       "<div>\n",
       "<style scoped>\n",
       "    .dataframe tbody tr th:only-of-type {\n",
       "        vertical-align: middle;\n",
       "    }\n",
       "\n",
       "    .dataframe tbody tr th {\n",
       "        vertical-align: top;\n",
       "    }\n",
       "\n",
       "    .dataframe thead th {\n",
       "        text-align: right;\n",
       "    }\n",
       "</style>\n",
       "<table border=\"1\" class=\"dataframe\">\n",
       "  <thead>\n",
       "    <tr style=\"text-align: right;\">\n",
       "      <th></th>\n",
       "      <th>0</th>\n",
       "      <th>1</th>\n",
       "      <th>2</th>\n",
       "      <th>3</th>\n",
       "    </tr>\n",
       "  </thead>\n",
       "  <tbody>\n",
       "    <tr>\n",
       "      <th>0</th>\n",
       "      <td>c57_wholeliver_control_young</td>\n",
       "      <td>#74c476</td>\n",
       "      <td>/home/h1bennet/strains/data/RNA/control_wholel...</td>\n",
       "      <td>C57cA;C57cB;C57cC</td>\n",
       "    </tr>\n",
       "    <tr>\n",
       "      <th>1</th>\n",
       "      <td>c57_wholeliver_lps_6weeks</td>\n",
       "      <td>#006d2c</td>\n",
       "      <td>/home/h1bennet/strains/data/RNA/LPS_2h_wholeli...</td>\n",
       "      <td>1A;2B</td>\n",
       "    </tr>\n",
       "    <tr>\n",
       "      <th>2</th>\n",
       "      <td>balbc_wholeliver_control_young</td>\n",
       "      <td>#6baed6</td>\n",
       "      <td>/home/h1bennet/strains/data/RNA/control_wholel...</td>\n",
       "      <td>BALBcA;BALBcB;BALBcC</td>\n",
       "    </tr>\n",
       "    <tr>\n",
       "      <th>3</th>\n",
       "      <td>balbc_wholeliver_lps_6weeks</td>\n",
       "      <td>#08519c</td>\n",
       "      <td>/home/h1bennet/strains/data/RNA/LPS_2h_wholeli...</td>\n",
       "      <td>1A;1B</td>\n",
       "    </tr>\n",
       "  </tbody>\n",
       "</table>\n",
       "</div>"
      ],
      "text/plain": [
       "                                0        1  \\\n",
       "0    c57_wholeliver_control_young  #74c476   \n",
       "1       c57_wholeliver_lps_6weeks  #006d2c   \n",
       "2  balbc_wholeliver_control_young  #6baed6   \n",
       "3     balbc_wholeliver_lps_6weeks  #08519c   \n",
       "\n",
       "                                                   2                     3  \n",
       "0  /home/h1bennet/strains/data/RNA/control_wholel...     C57cA;C57cB;C57cC  \n",
       "1  /home/h1bennet/strains/data/RNA/LPS_2h_wholeli...                 1A;2B  \n",
       "2  /home/h1bennet/strains/data/RNA/control_wholel...  BALBcA;BALBcB;BALBcC  \n",
       "3  /home/h1bennet/strains/data/RNA/LPS_2h_wholeli...                 1A;1B  "
      ]
     },
     "execution_count": 18,
     "metadata": {},
     "output_type": "execute_result"
    }
   ],
   "source": [
    "pd.DataFrame([ids,colors,paths,short_ids]).T"
   ]
  },
  {
   "cell_type": "markdown",
   "metadata": {},
   "source": [
    "# Run O'young RNA pipeline"
   ]
  },
  {
   "cell_type": "markdown",
   "metadata": {},
   "source": [
    "Run the code below in BASH.\n",
    "Edited for this pipeline to lower the minimum TPM threshold as this has kind of messed up our differential gene calling for borderline genes that do not meet the TPM in two of the strains ie TPM > 8 in one strain and TPM of 7 in the other two.\n",
    "\n",
    "    source activate r-ouyangPipe\n",
    "    \n",
    "    mkdir ./expression/\n",
    "    \n",
    "    mkdir ./differential/\n",
    "    \n",
    "    rnaQuan.R ./sampleDef.txt -o ./expression/\n",
    "\n",
    "    rnaDiff.R ./sampleDef.txt -c ./expression/rawC.txt \\\n",
    "    -t ./expression/rawT.txt -m 4 -o ./differential/\n",
    "\n",
    "    # annotate scatter files with tag counts\n",
    "    for scatter in ./differential/*scatter.txt;\n",
    "    do diff2Homer.R -d $scatter -q ./expression/HOMER.rawTPM.txt;\n",
    "    done"
   ]
  },
  {
   "cell_type": "markdown",
   "metadata": {},
   "source": [
    "### Make sure to check the PCA pdf file for outliers"
   ]
  },
  {
   "cell_type": "markdown",
   "metadata": {},
   "source": [
    "## Make jupyter hub for vizualization"
   ]
  },
  {
   "cell_type": "markdown",
   "metadata": {},
   "source": [
    "    makeMultiWigHub.pl hrb_strains_viz_wholeliver_rna_lps2h_control_merged mm10 \\\n",
    "    -color 107,174,214 8,81,156 116,196,118 0,109,44 \\\n",
    "    -force -d ./expression/mergeTag/balbc_wholeliver_control_young \\\n",
    "    ./expression/mergeTag/balbc_wholeliver_lps_6weeks \\\n",
    "    ./expression/mergeTag/c57_wholeliver_control_young \\\n",
    "    ./expression/mergeTag/c57_wholeliver_lps_6weeks"
   ]
  },
  {
   "cell_type": "markdown",
   "metadata": {},
   "source": [
    "# Import differential gene files for examination and plotting"
   ]
  },
  {
   "cell_type": "markdown",
   "metadata": {},
   "source": [
    "Make folder for figures"
   ]
  },
  {
   "cell_type": "code",
   "execution_count": 22,
   "metadata": {},
   "outputs": [],
   "source": [
    "if not os.path.isdir('./figures/'):\n",
    "    os.mkdir('./figures')"
   ]
  },
  {
   "cell_type": "markdown",
   "metadata": {},
   "source": [
    "## Write differential genes to list for metascape"
   ]
  },
  {
   "cell_type": "code",
   "execution_count": 23,
   "metadata": {},
   "outputs": [],
   "source": [
    "if not os.path.isdir('./gene_lists/'):\n",
    "    os.mkdir('./gene_lists')"
   ]
  },
  {
   "cell_type": "code",
   "execution_count": 24,
   "metadata": {},
   "outputs": [],
   "source": [
    "log2fc = np.log2(2)\n",
    "pval = 0.05\n",
    "gene_list_dict ={}"
   ]
  },
  {
   "cell_type": "code",
   "execution_count": 25,
   "metadata": {
    "scrolled": false
   },
   "outputs": [
    {
     "name": "stdout",
     "output_type": "stream",
     "text": [
      "./differential/c57_wholeliver_control_young.vs.c57_wholeliver_lps_6weeks.scatter.homer.txt\n",
      "ge all transcripts (24940, 17)\n",
      "Diff Gene selected transcripts (7834, 14)\n",
      "ge selected transcripts (7834, 17)\n",
      "./differential/c57_wholeliver_lps_6weeks.vs.c57_wholeliver_control_young.scatter.homer.txt\n",
      "ge all transcripts (24940, 17)\n",
      "Diff Gene selected transcripts (7834, 14)\n",
      "ge selected transcripts (7834, 17)\n",
      "./differential/balbc_wholeliver_control_young.vs.balbc_wholeliver_lps_6weeks.scatter.homer.txt\n",
      "ge all transcripts (24940, 17)\n",
      "Diff Gene selected transcripts (8063, 14)\n",
      "ge selected transcripts (8063, 17)\n",
      "./differential/balbc_wholeliver_lps_6weeks.vs.balbc_wholeliver_control_young.scatter.homer.txt\n",
      "ge all transcripts (24940, 17)\n",
      "Diff Gene selected transcripts (8063, 14)\n",
      "ge selected transcripts (8063, 17)\n"
     ]
    }
   ],
   "source": [
    "for i in np.sort(glob.glob('./differential/c57*c57*homer.txt')):\n",
    "    print(i)\n",
    "    # read in gene expression data\n",
    "    df, tpm, tpm_mat, tpm_mat_quant = import_homer_diffgene(\n",
    "        depath=i,\n",
    "        gepath='./expression/HOMER.rawTPM.txt',\n",
    "        gene_name_index=True)\n",
    "\n",
    "    # select differential genes\n",
    "    df = df.loc[~(df.chr.str.contains('chrX|chrY|ChrUn')), :]\n",
    "    sig_genes = df.index[(df['padj'] < pval) & (df['log2FoldChange'] >= log2fc)].to_list()\n",
    "    gene_list_dict[i.split('.')[3]+'_up'] = list(sig_genes)\n",
    "    # print('union set length:', print(len(g_union)))\n",
    "    # print('intersection set length:', print(len(g_intersect)))\n",
    "\n",
    "for i in np.sort(glob.glob('./differential/balb*balb*homer.txt')):\n",
    "    print(i)\n",
    "    # read in gene expression data\n",
    "    df, tpm, tpm_mat, tpm_mat_quant = import_homer_diffgene(\n",
    "        depath=i,\n",
    "        gepath='./expression/HOMER.rawTPM.txt',\n",
    "        gene_name_index=True)\n",
    "\n",
    "    # select differential genes\n",
    "    df = df.loc[~(df.chr.str.contains('chrX|chrY|ChrUn')), :]\n",
    "    sig_genes = df.index[(df['padj'] < pval) & (df['log2FoldChange'] >= log2fc)].to_list()\n",
    "    gene_list_dict[i.split('.')[3]+'_up'] = list(sig_genes)\n",
    "    # print('union set length:', print(len(g_union)))\n",
    "    # print('intersection set length:', print(len(g_intersect)))"
   ]
  },
  {
   "cell_type": "code",
   "execution_count": 26,
   "metadata": {},
   "outputs": [
    {
     "name": "stdout",
     "output_type": "stream",
     "text": [
      "c57_wholeliver_lps_6weeks_up\n",
      "227 genes\n",
      "c57_wholeliver_control_young_up\n",
      "38 genes\n",
      "balbc_wholeliver_lps_6weeks_up\n",
      "654 genes\n",
      "balbc_wholeliver_control_young_up\n",
      "283 genes\n"
     ]
    }
   ],
   "source": [
    "for key in gene_list_dict.keys():\n",
    "    print(key)\n",
    "    print(len(gene_list_dict[key]), 'genes')\n",
    "    with open('./gene_lists/'+key+'_wholeliver_genes_fc_'+str(log2fc)+'_pval_'+str(pval)+'.txt', 'w') as f:\n",
    "        f.write('Gene\\n')\n",
    "        for i in gene_list_dict[key]:\n",
    "            f.write(i+'\\n')\n",
    "        f.close()"
   ]
  },
  {
   "cell_type": "markdown",
   "metadata": {},
   "source": [
    "# How many AMLN induced genes are common"
   ]
  },
  {
   "cell_type": "code",
   "execution_count": 27,
   "metadata": {},
   "outputs": [
    {
     "data": {
      "image/png": "[encoded data removed]",
      "text/plain": [
       "<Figure size 576x576 with 1 Axes>"
      ]
     },
     "metadata": {},
     "output_type": "display_data"
    }
   ],
   "source": [
    "fig, ax = plt.subplots(figsize=(8,8))\n",
    "\n",
    "# venn3 accepts a list with the following order\n",
    "# (100, 010, 110, 001, 101, 011, 111)\n",
    "# group1, group2, group1+2, group3, group1+3, group2+3, group3\n",
    "venn2(subsets=[set(gene_list_dict['c57_wholeliver_lps_6weeks_up']),\n",
    "               set(gene_list_dict['balbc_wholeliver_lps_6weeks_up'])],\n",
    "     ax=ax,\n",
    "     set_colors=('#006d2c', '#08519c'),\n",
    "     set_labels=('C57', 'BALBC'),\n",
    "     alpha=0.5)\n",
    "ax.set_title('LPS Activated wholeliver Genes');\n",
    "\n",
    "plt.savefig('./figures/venn2_activated_genes.png', bbox_inches='tight')"
   ]
  },
  {
   "cell_type": "code",
   "execution_count": 28,
   "metadata": {},
   "outputs": [
    {
     "data": {
      "image/png": "[encoded data removed]",
      "text/plain": [
       "<Figure size 576x576 with 1 Axes>"
      ]
     },
     "metadata": {},
     "output_type": "display_data"
    }
   ],
   "source": [
    "fig, ax = plt.subplots(figsize=(8,8))\n",
    "\n",
    "# venn3 accepts a list with the following order\n",
    "# (100, 010, 110, 001, 101, 011, 111)\n",
    "# group1, group2, group1+2, group3, group1+3, group2+3, group3\n",
    "venn2(subsets=[set(gene_list_dict['c57_wholeliver_control_young_up']),\n",
    "               set(gene_list_dict['balbc_wholeliver_control_young_up'])],\n",
    "     ax=ax,\n",
    "     set_colors=('#006d2c', '#08519c'),\n",
    "     set_labels=('C57', 'BALBC'),\n",
    "     alpha=0.5)\n",
    "ax.set_title('LPS Repressed wholeliver Genes');\n",
    "\n",
    "plt.savefig('./figures/venn2_repressed_genes.png', bbox_inches='tight')"
   ]
  },
  {
   "cell_type": "markdown",
   "metadata": {},
   "source": [
    "### Pull sets for manual examination"
   ]
  },
  {
   "cell_type": "markdown",
   "metadata": {},
   "source": [
    "activated genes"
   ]
  },
  {
   "cell_type": "code",
   "execution_count": 29,
   "metadata": {},
   "outputs": [],
   "source": [
    "c57_balbc = set(gene_list_dict['c57_wholeliver_lps_6weeks_up']).intersection(set(gene_list_dict['balbc_wholeliver_lps_6weeks_up']))\n",
    "c57_private = set(gene_list_dict['c57_wholeliver_lps_6weeks_up']).difference(set(gene_list_dict['balbc_wholeliver_lps_6weeks_up']))\n",
    "balbc_private = set(gene_list_dict['balbc_wholeliver_lps_6weeks_up']).difference(set(gene_list_dict['c57_wholeliver_lps_6weeks_up']))\n"
   ]
  },
  {
   "cell_type": "code",
   "execution_count": 30,
   "metadata": {},
   "outputs": [],
   "source": [
    "genesets = [c57_balbc, c57_private, balbc_private]\n",
    "genesetnames = ['c57_balbc', 'c57_private', 'balbc_private']\n",
    "for listname, genelist in zip(genesetnames, genesets):\n",
    "    with open('./gene_lists/'+listname+'_wholeliver_genes_fc_'+str(log2fc)+'_pval_'+str(pval)+'.txt', 'w') as f:\n",
    "        f.write('Gene\\n')\n",
    "        for i in genelist:\n",
    "            f.write(i+'\\n')\n",
    "        f.close()"
   ]
  },
  {
   "cell_type": "markdown",
   "metadata": {},
   "source": [
    "# Plot potential nichenet ligands"
   ]
  },
  {
   "cell_type": "code",
   "execution_count": null,
   "metadata": {},
   "outputs": [],
   "source": [
    "tpm_mat = pd.read_csv('./expression/rawT.txt', sep='\\t', index_col=0)"
   ]
  },
  {
   "cell_type": "code",
   "execution_count": null,
   "metadata": {},
   "outputs": [],
   "source": [
    "ligands = pd.read_csv('/home/h1bennet/data/gene_lists/nichenet_ligands.txt',\n",
    "                      sep='\\t')['x'].str.capitalize().tolist()\n",
    "ligands[:5]"
   ]
  },
  {
   "cell_type": "markdown",
   "metadata": {},
   "source": [
    "Collect ALL activated NASH genes"
   ]
  },
  {
   "cell_type": "code",
   "execution_count": null,
   "metadata": {},
   "outputs": [],
   "source": [
    "amln_act = []\n",
    "for key in gene_list_dict.keys():\n",
    "    if 'ccl4' in key:\n",
    "        amln_act.extend(gene_list_dict[key])\n",
    "\n",
    "amln_act = set(amln_act)"
   ]
  },
  {
   "cell_type": "markdown",
   "metadata": {},
   "source": [
    "Assess for overlap with ligands"
   ]
  },
  {
   "cell_type": "code",
   "execution_count": null,
   "metadata": {},
   "outputs": [],
   "source": [
    "amln_act_ligands = amln_act.intersection(ligands)"
   ]
  },
  {
   "cell_type": "markdown",
   "metadata": {},
   "source": [
    "## Plot for all samples"
   ]
  },
  {
   "cell_type": "code",
   "execution_count": null,
   "metadata": {},
   "outputs": [],
   "source": [
    "tpm_mat.columns"
   ]
  },
  {
   "cell_type": "code",
   "execution_count": null,
   "metadata": {
    "scrolled": false
   },
   "outputs": [],
   "source": [
    "sns.clustermap(\n",
    "    np.log2(tpm_mat.loc[amln_act_ligands]+1),\n",
    "    col_cluster=False,\n",
    "    #z_score=0,\n",
    "    cmap='Reds',\n",
    "    #vmin=-2,\n",
    "    vmax=8,\n",
    "    col_colors = ['#74c476', '#74c476',\n",
    "          '#006d2c', '#006d2c',\n",
    "          '#6baed6', '#6baed6', '#6baed6',\n",
    "          '#08519c', '#08519c',\n",
    "          '#de2d26', '#de2d26', '#de2d26',\n",
    "          '#a50f15', '#a50f15'],\n",
    "    figsize=(8,12),\n",
    "    yticklabels=1)\n",
    "\n",
    "plt.savefig('./figures/diff_genes_ligands_clustermap.png', bbox_inches='tight')\n",
    "# plt.close()"
   ]
  },
  {
   "cell_type": "code",
   "execution_count": null,
   "metadata": {
    "scrolled": false
   },
   "outputs": [],
   "source": [
    "sns.clustermap(\n",
    "    tpm_mat.loc[amln_act_ligands],\n",
    "    col_cluster=False,\n",
    "    z_score=0,\n",
    "    cmap='RdBu_r',\n",
    "    vmin=-2,\n",
    "    vmax=2,\n",
    "    col_colors = ['#74c476', '#74c476',\n",
    "          '#006d2c', '#006d2c',\n",
    "          '#6baed6', '#6baed6', '#6baed6',\n",
    "          '#08519c', '#08519c',\n",
    "          '#de2d26', '#de2d26', '#de2d26',\n",
    "          '#a50f15', '#a50f15'],\n",
    "    figsize=(8,12),\n",
    "    yticklabels=1)\n",
    "\n",
    "plt.savefig('./figures/diff_genes_ligands_clustermap_zscore.png', bbox_inches='tight')\n",
    "# plt.close()"
   ]
  },
  {
   "cell_type": "markdown",
   "metadata": {},
   "source": [
    "## Plot Strain Specific Ligands"
   ]
  },
  {
   "cell_type": "code",
   "execution_count": null,
   "metadata": {},
   "outputs": [],
   "source": [
    "all_strain_spec = C57_private.union(aj_private).union(balbc_private)\n",
    "all_strain_spec_ligands = all_strain_spec.intersection(ligands)"
   ]
  },
  {
   "cell_type": "code",
   "execution_count": null,
   "metadata": {},
   "outputs": [],
   "source": [
    "sns.clustermap(\n",
    "    np.log2(tpm_mat.loc[all_strain_spec_ligands]+1),\n",
    "    col_cluster=False,\n",
    "    #z_score=0,\n",
    "    cmap='Reds',\n",
    "    #vmin=-2,\n",
    "    vmax=8,\n",
    "    col_colors = ['#74c476', '#74c476',\n",
    "          '#006d2c', '#006d2c',\n",
    "          '#6baed6', '#6baed6', '#6baed6',\n",
    "          '#08519c', '#08519c',\n",
    "          '#de2d26', '#de2d26', '#de2d26',\n",
    "          '#a50f15', '#a50f15'],\n",
    "    figsize=(8,12),\n",
    "    yticklabels=1,\n",
    "    xticklabels=0)\n",
    "\n",
    "plt.savefig('./figures/diff_genes_strainspecligands_clustermap.png',\n",
    "            bbox_inches='tight')\n",
    "# plt.close()"
   ]
  },
  {
   "cell_type": "code",
   "execution_count": null,
   "metadata": {},
   "outputs": [],
   "source": [
    "sns.clustermap(\n",
    "    tpm_mat.loc[all_strain_spec_ligands],\n",
    "    col_cluster=False,\n",
    "    z_score=0,\n",
    "    cmap='RdBu_r',\n",
    "    vmin=-3,\n",
    "    vmax=3,\n",
    "    col_colors = ['#74c476', '#74c476',\n",
    "          '#006d2c', '#006d2c',\n",
    "          '#6baed6', '#6baed6', '#6baed6',\n",
    "          '#08519c', '#08519c',\n",
    "          '#de2d26', '#de2d26', '#de2d26',\n",
    "          '#a50f15', '#a50f15'],\n",
    "    figsize=(8,12),\n",
    "    yticklabels=1,\n",
    "    xticklabels=0)\n",
    "\n",
    "plt.savefig('./figures/diff_genes_strainspecligands_clustermap_zscore.png',\n",
    "            bbox_inches='tight')\n",
    "# plt.close()"
   ]
  },
  {
   "cell_type": "markdown",
   "metadata": {},
   "source": [
    "# Plot specific genes as barplots"
   ]
  },
  {
   "cell_type": "code",
   "execution_count": null,
   "metadata": {},
   "outputs": [],
   "source": [
    "groups = [[0,1,2,3],\n",
    "          [4,5],\n",
    "          [6,7,8,9],\n",
    "          [10,11],\n",
    "          [12,13,14,15],\n",
    "          [16,17]]\n",
    "\n",
    "group_labels = ['C57BL/6J wholeliver Control young',\n",
    "                'C57BL/6J wholeliver AMLN 30 weeks',\n",
    "                'Balb/cJ wholeliver Control young',\n",
    "                'Balb/cJ wholeliver AMLN 30 weeks',\n",
    "                'AJ wholeliver Control young',\n",
    "                'AJ wholeliver AMLN 30 weeks',]\n",
    "\n",
    "colors = ['#74c476',\n",
    "          '#006d2c',\n",
    "          '#6baed6',\n",
    "          '#08519c',\n",
    "          '#de2d26',\n",
    "          '#a50f15']"
   ]
  },
  {
   "cell_type": "code",
   "execution_count": null,
   "metadata": {
    "scrolled": true
   },
   "outputs": [],
   "source": [
    "fig, ax = plt.subplots(figsize=(4, 4))\n",
    "\n",
    "gene_list_bar_plot(['Itgb7'],\n",
    "                   tpm_mat,\n",
    "                   groups=groups,\n",
    "                   group_labels = group_labels,\n",
    "                   colors = colors,\n",
    "                   ax=ax)\n",
    "\n",
    "ax.get_legend().remove()"
   ]
  },
  {
   "cell_type": "code",
   "execution_count": null,
   "metadata": {},
   "outputs": [],
   "source": []
  }
 ],
 "metadata": {
  "kernelspec": {
   "display_name": "dataviz",
   "language": "python",
   "name": "dataviz"
  },
  "language_info": {
   "codemirror_mode": {
    "name": "ipython",
    "version": 3
   },
   "file_extension": ".py",
   "mimetype": "text/x-python",
   "name": "python",
   "nbconvert_exporter": "python",
   "pygments_lexer": "ipython3",
   "version": "3.7.5"
  }
 },
 "nbformat": 4,
 "nbformat_minor": 2
}
