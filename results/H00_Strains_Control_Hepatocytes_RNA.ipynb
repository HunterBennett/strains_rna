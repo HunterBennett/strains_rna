{
 "cells": [
  {
   "cell_type": "code",
   "execution_count": 1,
   "metadata": {},
   "outputs": [],
   "source": [
    "### header ###\n",
    "__author__ = \"Hunter Bennett\"\n",
    "__license__ = \"BSD\"\n",
    "__email__ = \"hunter.r.bennett@gmail.com\"\n",
    "%load_ext autoreload\n",
    "%autoreload 2\n",
    "%matplotlib inline\n",
    "### imports ###\n",
    "import sys\n",
    "import os\n",
    "import re\n",
    "import glob\n",
    "import pandas as pd\n",
    "import numpy as np\n",
    "import matplotlib\n",
    "import matplotlib.pyplot as plt \n",
    "import seaborn as sns\n",
    "\n",
    "matplotlib.rcParams['savefig.dpi'] = 200\n",
    "sys.setrecursionlimit(3000)\n",
    "sns.set(font_scale=1)\n",
    "sns.set_context('talk')\n",
    "sns.set_style('white')\n",
    "\n",
    "# import custom functions\n",
    "sys.path.insert(0, '/home/h1bennet/code/')\n",
    "from hbUtils import ngs_qc, quantile_normalize_df\n",
    "from homer_preprocessing import read_homer_gene_exp, import_homer_diffgene, pull_comparisons_get_diff\n",
    "from plotting_scripts import label_point, pca_rpkm_mat, get_diff_volcano, plot_exp_rpkm, gene_list_bar_plot"
   ]
  },
  {
   "cell_type": "code",
   "execution_count": 2,
   "metadata": {},
   "outputs": [],
   "source": [
    "workingDirectory = '/home/h1bennet/strains_rna/results/H00_Strains_Control_Hepatocyte_RNA/'\n",
    "dataDirectory = '/home/h1bennet/strains/data/RNA/control_hepatocyte/'\n",
    "if not os.path.isdir(workingDirectory):\n",
    "    os.mkdir(workingDirectory)\n",
    "os.chdir(workingDirectory)\n"
   ]
  },
  {
   "cell_type": "markdown",
   "metadata": {},
   "source": [
    "# Check qc stats"
   ]
  },
  {
   "cell_type": "code",
   "execution_count": 3,
   "metadata": {
    "scrolled": false
   },
   "outputs": [
    {
     "name": "stdout",
     "output_type": "stream",
     "text": [
      "/home/h1bennet/strains/data/RNA/control_hepatocyte//\n",
      "./control_hepatocyte_qc/\n"
     ]
    },
    {
     "name": "stderr",
     "output_type": "stream",
     "text": [
      "/gpfs/data01/glasslab/home/h1bennet/.conda/envs/dataviz/lib/python3.7/site-packages/statsmodels/nonparametric/kde.py:487: RuntimeWarning: invalid value encountered in true_divide\n",
      "  binned = fast_linbin(X, a, b, gridsize) / (delta * nobs)\n",
      "/gpfs/data01/glasslab/home/h1bennet/.conda/envs/dataviz/lib/python3.7/site-packages/statsmodels/nonparametric/kdetools.py:34: RuntimeWarning: invalid value encountered in double_scalars\n",
      "  FAC1 = 2*(np.pi*bw/RANGE)**2\n",
      "/gpfs/data01/glasslab/home/h1bennet/.conda/envs/dataviz/lib/python3.7/site-packages/statsmodels/nonparametric/kde.py:487: RuntimeWarning: invalid value encountered in true_divide\n",
      "  binned = fast_linbin(X, a, b, gridsize) / (delta * nobs)\n",
      "/gpfs/data01/glasslab/home/h1bennet/.conda/envs/dataviz/lib/python3.7/site-packages/statsmodels/nonparametric/kdetools.py:34: RuntimeWarning: invalid value encountered in double_scalars\n",
      "  FAC1 = 2*(np.pi*bw/RANGE)**2\n",
      "/gpfs/data01/glasslab/home/h1bennet/.conda/envs/dataviz/lib/python3.7/site-packages/statsmodels/nonparametric/kde.py:487: RuntimeWarning: invalid value encountered in true_divide\n",
      "  binned = fast_linbin(X, a, b, gridsize) / (delta * nobs)\n",
      "/gpfs/data01/glasslab/home/h1bennet/.conda/envs/dataviz/lib/python3.7/site-packages/statsmodels/nonparametric/kdetools.py:34: RuntimeWarning: invalid value encountered in double_scalars\n",
      "  FAC1 = 2*(np.pi*bw/RANGE)**2\n"
     ]
    },
    {
     "data": {
      "text/plain": [
       "<Figure size 432x288 with 0 Axes>"
      ]
     },
     "metadata": {},
     "output_type": "display_data"
    }
   ],
   "source": [
    "qc = ngs_qc(dataDirectory)"
   ]
  },
  {
   "cell_type": "code",
   "execution_count": 4,
   "metadata": {},
   "outputs": [
    {
     "data": {
      "text/html": [
       "<div>\n",
       "<style scoped>\n",
       "    .dataframe tbody tr th:only-of-type {\n",
       "        vertical-align: middle;\n",
       "    }\n",
       "\n",
       "    .dataframe tbody tr th {\n",
       "        vertical-align: top;\n",
       "    }\n",
       "\n",
       "    .dataframe thead th {\n",
       "        text-align: right;\n",
       "    }\n",
       "</style>\n",
       "<table border=\"1\" class=\"dataframe\">\n",
       "  <thead>\n",
       "    <tr style=\"text-align: right;\">\n",
       "      <th></th>\n",
       "      <th>uniquePositions</th>\n",
       "      <th>fragmentLengthEstimate</th>\n",
       "      <th>tagsPerBP</th>\n",
       "      <th>clonality</th>\n",
       "      <th>GC_Content</th>\n",
       "      <th>totalReads</th>\n",
       "      <th>uniquelyMappedReads</th>\n",
       "      <th>multiMappedReads</th>\n",
       "      <th>frac_unmappedReads_mismatch</th>\n",
       "      <th>frac_unmappedReads_short</th>\n",
       "      <th>frac_unmappedReads_other</th>\n",
       "      <th>uniquelyMappedFraction</th>\n",
       "      <th>mappedFraction</th>\n",
       "    </tr>\n",
       "  </thead>\n",
       "  <tbody>\n",
       "    <tr>\n",
       "      <th>AJ_M_Liver_Hepatocyte_RNA_notx_CG_1_VML_s20180131_GTCCGC.aj.star_shifted_from_AJ.sam</th>\n",
       "      <td>3485185.0</td>\n",
       "      <td>75.0</td>\n",
       "      <td>0.005318</td>\n",
       "      <td>4.131</td>\n",
       "      <td>2.721857e+09</td>\n",
       "      <td>0.0</td>\n",
       "      <td>0.0</td>\n",
       "      <td>0.0</td>\n",
       "      <td>0.0</td>\n",
       "      <td>0.0</td>\n",
       "      <td>0.0</td>\n",
       "      <td>0.0</td>\n",
       "      <td>0.0</td>\n",
       "    </tr>\n",
       "    <tr>\n",
       "      <th>AJ_M_Liver_Hepatocyte_RNA_notx_CG_2_VML_s20180131_GTGAAA.aj.star_shifted_from_AJ.sam</th>\n",
       "      <td>4279051.0</td>\n",
       "      <td>75.0</td>\n",
       "      <td>0.007456</td>\n",
       "      <td>4.708</td>\n",
       "      <td>2.721180e+09</td>\n",
       "      <td>0.0</td>\n",
       "      <td>0.0</td>\n",
       "      <td>0.0</td>\n",
       "      <td>0.0</td>\n",
       "      <td>0.0</td>\n",
       "      <td>0.0</td>\n",
       "      <td>0.0</td>\n",
       "      <td>0.0</td>\n",
       "    </tr>\n",
       "    <tr>\n",
       "      <th>BALB_M_Liver_Hepatocyte_RNA_notx_CG_1_VML_s20180131_GTGGCC.balbcj.star_shifted_from_BALBCJ.sam</th>\n",
       "      <td>2675145.0</td>\n",
       "      <td>75.0</td>\n",
       "      <td>0.009633</td>\n",
       "      <td>9.787</td>\n",
       "      <td>2.721385e+09</td>\n",
       "      <td>0.0</td>\n",
       "      <td>0.0</td>\n",
       "      <td>0.0</td>\n",
       "      <td>0.0</td>\n",
       "      <td>0.0</td>\n",
       "      <td>0.0</td>\n",
       "      <td>0.0</td>\n",
       "      <td>0.0</td>\n",
       "    </tr>\n",
       "    <tr>\n",
       "      <th>BALB_M_Liver_Hepatocyte_RNA_notx_CG_2_VML_s20180131_GTTTCG.balbcj.star_shifted_from_BALBCJ.sam</th>\n",
       "      <td>1537624.0</td>\n",
       "      <td>75.0</td>\n",
       "      <td>0.006273</td>\n",
       "      <td>11.096</td>\n",
       "      <td>2.720229e+09</td>\n",
       "      <td>0.0</td>\n",
       "      <td>0.0</td>\n",
       "      <td>0.0</td>\n",
       "      <td>0.0</td>\n",
       "      <td>0.0</td>\n",
       "      <td>0.0</td>\n",
       "      <td>0.0</td>\n",
       "      <td>0.0</td>\n",
       "    </tr>\n",
       "    <tr>\n",
       "      <th>C57_M_Liver_Hepatocyte_RNA_notx_CG_1_VML_s20180131_ATGTCA.c57bl6j.star_shifted_from_C57BL6J.sam</th>\n",
       "      <td>2349831.0</td>\n",
       "      <td>75.0</td>\n",
       "      <td>0.004667</td>\n",
       "      <td>5.276</td>\n",
       "      <td>2.722086e+09</td>\n",
       "      <td>0.0</td>\n",
       "      <td>0.0</td>\n",
       "      <td>0.0</td>\n",
       "      <td>0.0</td>\n",
       "      <td>0.0</td>\n",
       "      <td>0.0</td>\n",
       "      <td>0.0</td>\n",
       "      <td>0.0</td>\n",
       "    </tr>\n",
       "    <tr>\n",
       "      <th>C57_M_Liver_Hepatocyte_RNA_notx_CG_2_VML_s20180131_CCGTCC.c57bl6j.star_shifted_from_C57BL6J.sam</th>\n",
       "      <td>3640307.0</td>\n",
       "      <td>75.0</td>\n",
       "      <td>0.007761</td>\n",
       "      <td>5.681</td>\n",
       "      <td>2.721932e+09</td>\n",
       "      <td>0.0</td>\n",
       "      <td>0.0</td>\n",
       "      <td>0.0</td>\n",
       "      <td>0.0</td>\n",
       "      <td>0.0</td>\n",
       "      <td>0.0</td>\n",
       "      <td>0.0</td>\n",
       "      <td>0.0</td>\n",
       "    </tr>\n",
       "    <tr>\n",
       "      <th>C57_M_Liver_Hepatocyte_RNA_notx_CG_3_VML_s20180131_GTAGAG.c57bl6j.star_shifted_from_C57BL6J.sam</th>\n",
       "      <td>4060178.0</td>\n",
       "      <td>75.0</td>\n",
       "      <td>0.006735</td>\n",
       "      <td>4.512</td>\n",
       "      <td>2.721880e+09</td>\n",
       "      <td>0.0</td>\n",
       "      <td>0.0</td>\n",
       "      <td>0.0</td>\n",
       "      <td>0.0</td>\n",
       "      <td>0.0</td>\n",
       "      <td>0.0</td>\n",
       "      <td>0.0</td>\n",
       "      <td>0.0</td>\n",
       "    </tr>\n",
       "  </tbody>\n",
       "</table>\n",
       "</div>"
      ],
      "text/plain": [
       "                                                    uniquePositions  \\\n",
       "AJ_M_Liver_Hepatocyte_RNA_notx_CG_1_VML_s201801...        3485185.0   \n",
       "AJ_M_Liver_Hepatocyte_RNA_notx_CG_2_VML_s201801...        4279051.0   \n",
       "BALB_M_Liver_Hepatocyte_RNA_notx_CG_1_VML_s2018...        2675145.0   \n",
       "BALB_M_Liver_Hepatocyte_RNA_notx_CG_2_VML_s2018...        1537624.0   \n",
       "C57_M_Liver_Hepatocyte_RNA_notx_CG_1_VML_s20180...        2349831.0   \n",
       "C57_M_Liver_Hepatocyte_RNA_notx_CG_2_VML_s20180...        3640307.0   \n",
       "C57_M_Liver_Hepatocyte_RNA_notx_CG_3_VML_s20180...        4060178.0   \n",
       "\n",
       "                                                    fragmentLengthEstimate  \\\n",
       "AJ_M_Liver_Hepatocyte_RNA_notx_CG_1_VML_s201801...                    75.0   \n",
       "AJ_M_Liver_Hepatocyte_RNA_notx_CG_2_VML_s201801...                    75.0   \n",
       "BALB_M_Liver_Hepatocyte_RNA_notx_CG_1_VML_s2018...                    75.0   \n",
       "BALB_M_Liver_Hepatocyte_RNA_notx_CG_2_VML_s2018...                    75.0   \n",
       "C57_M_Liver_Hepatocyte_RNA_notx_CG_1_VML_s20180...                    75.0   \n",
       "C57_M_Liver_Hepatocyte_RNA_notx_CG_2_VML_s20180...                    75.0   \n",
       "C57_M_Liver_Hepatocyte_RNA_notx_CG_3_VML_s20180...                    75.0   \n",
       "\n",
       "                                                    tagsPerBP  clonality  \\\n",
       "AJ_M_Liver_Hepatocyte_RNA_notx_CG_1_VML_s201801...   0.005318      4.131   \n",
       "AJ_M_Liver_Hepatocyte_RNA_notx_CG_2_VML_s201801...   0.007456      4.708   \n",
       "BALB_M_Liver_Hepatocyte_RNA_notx_CG_1_VML_s2018...   0.009633      9.787   \n",
       "BALB_M_Liver_Hepatocyte_RNA_notx_CG_2_VML_s2018...   0.006273     11.096   \n",
       "C57_M_Liver_Hepatocyte_RNA_notx_CG_1_VML_s20180...   0.004667      5.276   \n",
       "C57_M_Liver_Hepatocyte_RNA_notx_CG_2_VML_s20180...   0.007761      5.681   \n",
       "C57_M_Liver_Hepatocyte_RNA_notx_CG_3_VML_s20180...   0.006735      4.512   \n",
       "\n",
       "                                                      GC_Content  totalReads  \\\n",
       "AJ_M_Liver_Hepatocyte_RNA_notx_CG_1_VML_s201801...  2.721857e+09         0.0   \n",
       "AJ_M_Liver_Hepatocyte_RNA_notx_CG_2_VML_s201801...  2.721180e+09         0.0   \n",
       "BALB_M_Liver_Hepatocyte_RNA_notx_CG_1_VML_s2018...  2.721385e+09         0.0   \n",
       "BALB_M_Liver_Hepatocyte_RNA_notx_CG_2_VML_s2018...  2.720229e+09         0.0   \n",
       "C57_M_Liver_Hepatocyte_RNA_notx_CG_1_VML_s20180...  2.722086e+09         0.0   \n",
       "C57_M_Liver_Hepatocyte_RNA_notx_CG_2_VML_s20180...  2.721932e+09         0.0   \n",
       "C57_M_Liver_Hepatocyte_RNA_notx_CG_3_VML_s20180...  2.721880e+09         0.0   \n",
       "\n",
       "                                                    uniquelyMappedReads  \\\n",
       "AJ_M_Liver_Hepatocyte_RNA_notx_CG_1_VML_s201801...                  0.0   \n",
       "AJ_M_Liver_Hepatocyte_RNA_notx_CG_2_VML_s201801...                  0.0   \n",
       "BALB_M_Liver_Hepatocyte_RNA_notx_CG_1_VML_s2018...                  0.0   \n",
       "BALB_M_Liver_Hepatocyte_RNA_notx_CG_2_VML_s2018...                  0.0   \n",
       "C57_M_Liver_Hepatocyte_RNA_notx_CG_1_VML_s20180...                  0.0   \n",
       "C57_M_Liver_Hepatocyte_RNA_notx_CG_2_VML_s20180...                  0.0   \n",
       "C57_M_Liver_Hepatocyte_RNA_notx_CG_3_VML_s20180...                  0.0   \n",
       "\n",
       "                                                    multiMappedReads  \\\n",
       "AJ_M_Liver_Hepatocyte_RNA_notx_CG_1_VML_s201801...               0.0   \n",
       "AJ_M_Liver_Hepatocyte_RNA_notx_CG_2_VML_s201801...               0.0   \n",
       "BALB_M_Liver_Hepatocyte_RNA_notx_CG_1_VML_s2018...               0.0   \n",
       "BALB_M_Liver_Hepatocyte_RNA_notx_CG_2_VML_s2018...               0.0   \n",
       "C57_M_Liver_Hepatocyte_RNA_notx_CG_1_VML_s20180...               0.0   \n",
       "C57_M_Liver_Hepatocyte_RNA_notx_CG_2_VML_s20180...               0.0   \n",
       "C57_M_Liver_Hepatocyte_RNA_notx_CG_3_VML_s20180...               0.0   \n",
       "\n",
       "                                                    frac_unmappedReads_mismatch  \\\n",
       "AJ_M_Liver_Hepatocyte_RNA_notx_CG_1_VML_s201801...                          0.0   \n",
       "AJ_M_Liver_Hepatocyte_RNA_notx_CG_2_VML_s201801...                          0.0   \n",
       "BALB_M_Liver_Hepatocyte_RNA_notx_CG_1_VML_s2018...                          0.0   \n",
       "BALB_M_Liver_Hepatocyte_RNA_notx_CG_2_VML_s2018...                          0.0   \n",
       "C57_M_Liver_Hepatocyte_RNA_notx_CG_1_VML_s20180...                          0.0   \n",
       "C57_M_Liver_Hepatocyte_RNA_notx_CG_2_VML_s20180...                          0.0   \n",
       "C57_M_Liver_Hepatocyte_RNA_notx_CG_3_VML_s20180...                          0.0   \n",
       "\n",
       "                                                    frac_unmappedReads_short  \\\n",
       "AJ_M_Liver_Hepatocyte_RNA_notx_CG_1_VML_s201801...                       0.0   \n",
       "AJ_M_Liver_Hepatocyte_RNA_notx_CG_2_VML_s201801...                       0.0   \n",
       "BALB_M_Liver_Hepatocyte_RNA_notx_CG_1_VML_s2018...                       0.0   \n",
       "BALB_M_Liver_Hepatocyte_RNA_notx_CG_2_VML_s2018...                       0.0   \n",
       "C57_M_Liver_Hepatocyte_RNA_notx_CG_1_VML_s20180...                       0.0   \n",
       "C57_M_Liver_Hepatocyte_RNA_notx_CG_2_VML_s20180...                       0.0   \n",
       "C57_M_Liver_Hepatocyte_RNA_notx_CG_3_VML_s20180...                       0.0   \n",
       "\n",
       "                                                    frac_unmappedReads_other  \\\n",
       "AJ_M_Liver_Hepatocyte_RNA_notx_CG_1_VML_s201801...                       0.0   \n",
       "AJ_M_Liver_Hepatocyte_RNA_notx_CG_2_VML_s201801...                       0.0   \n",
       "BALB_M_Liver_Hepatocyte_RNA_notx_CG_1_VML_s2018...                       0.0   \n",
       "BALB_M_Liver_Hepatocyte_RNA_notx_CG_2_VML_s2018...                       0.0   \n",
       "C57_M_Liver_Hepatocyte_RNA_notx_CG_1_VML_s20180...                       0.0   \n",
       "C57_M_Liver_Hepatocyte_RNA_notx_CG_2_VML_s20180...                       0.0   \n",
       "C57_M_Liver_Hepatocyte_RNA_notx_CG_3_VML_s20180...                       0.0   \n",
       "\n",
       "                                                    uniquelyMappedFraction  \\\n",
       "AJ_M_Liver_Hepatocyte_RNA_notx_CG_1_VML_s201801...                     0.0   \n",
       "AJ_M_Liver_Hepatocyte_RNA_notx_CG_2_VML_s201801...                     0.0   \n",
       "BALB_M_Liver_Hepatocyte_RNA_notx_CG_1_VML_s2018...                     0.0   \n",
       "BALB_M_Liver_Hepatocyte_RNA_notx_CG_2_VML_s2018...                     0.0   \n",
       "C57_M_Liver_Hepatocyte_RNA_notx_CG_1_VML_s20180...                     0.0   \n",
       "C57_M_Liver_Hepatocyte_RNA_notx_CG_2_VML_s20180...                     0.0   \n",
       "C57_M_Liver_Hepatocyte_RNA_notx_CG_3_VML_s20180...                     0.0   \n",
       "\n",
       "                                                    mappedFraction  \n",
       "AJ_M_Liver_Hepatocyte_RNA_notx_CG_1_VML_s201801...             0.0  \n",
       "AJ_M_Liver_Hepatocyte_RNA_notx_CG_2_VML_s201801...             0.0  \n",
       "BALB_M_Liver_Hepatocyte_RNA_notx_CG_1_VML_s2018...             0.0  \n",
       "BALB_M_Liver_Hepatocyte_RNA_notx_CG_2_VML_s2018...             0.0  \n",
       "C57_M_Liver_Hepatocyte_RNA_notx_CG_1_VML_s20180...             0.0  \n",
       "C57_M_Liver_Hepatocyte_RNA_notx_CG_2_VML_s20180...             0.0  \n",
       "C57_M_Liver_Hepatocyte_RNA_notx_CG_3_VML_s20180...             0.0  "
      ]
     },
     "execution_count": 4,
     "metadata": {},
     "output_type": "execute_result"
    }
   ],
   "source": [
    "qc"
   ]
  },
  {
   "cell_type": "markdown",
   "metadata": {},
   "source": [
    "# Run Oyoung's pipeline to process RNA-seq data consistantly."
   ]
  },
  {
   "cell_type": "code",
   "execution_count": 5,
   "metadata": {},
   "outputs": [],
   "source": [
    "c57_paths = list(np.sort(glob.glob(dataDirectory+'/C57*')))\n",
    "balbc_paths = list(np.sort(glob.glob(dataDirectory+'/BALB*')))\n",
    "aj_paths = list(np.sort(glob.glob(dataDirectory+'/AJ*')))"
   ]
  },
  {
   "cell_type": "code",
   "execution_count": 6,
   "metadata": {},
   "outputs": [],
   "source": [
    "c57_ids = [i.split('/')[-1].split('_')[7] for i in c57_paths]\n",
    "balbc_ids = [i.split('/')[-1].split('_')[7] for i in balbc_paths]\n",
    "aj_ids = [i.split('/')[-1].split('_')[7] for i in aj_paths]"
   ]
  },
  {
   "cell_type": "code",
   "execution_count": 7,
   "metadata": {},
   "outputs": [],
   "source": [
    "ids = ['c57_hepatocyte_control',\n",
    "       'balbc_hepatocyte_control',\n",
    "       'aj_hepatocyte_control']\n",
    "colors = ['#31a354',\n",
    "          '#3182bd',\n",
    "          '#de2d26']\n",
    "paths = [';'.join(c57_paths),\n",
    "         ';'.join(balbc_paths),\n",
    "         ';'.join(aj_paths)]\n",
    "short_ids = [';'.join([ids[0]+'_'+i for i in c57_ids]),\n",
    "             ';'.join([ids[1]+'_'+i for i in balbc_ids]),\n",
    "             ';'.join([ids[2]+'_'+i for i in aj_ids])]"
   ]
  },
  {
   "cell_type": "code",
   "execution_count": 8,
   "metadata": {},
   "outputs": [],
   "source": [
    "pd.DataFrame([ids,colors,paths,short_ids]).T.to_csv('./sampleDef.txt',\n",
    "                                                    sep='\\t',\n",
    "                                                    header=False,\n",
    "                                                    index=False)"
   ]
  },
  {
   "cell_type": "markdown",
   "metadata": {},
   "source": [
    "# Run O'young RNA pipeline"
   ]
  },
  {
   "cell_type": "markdown",
   "metadata": {},
   "source": [
    "Run the code below in BASH\n",
    "\n",
    "    source activate r-ouyangPipe\n",
    "    \n",
    "    mkdir ./expression/\n",
    "    \n",
    "    mkdir ./differential/\n",
    "    \n",
    "    rnaQuan.R ./sampleDef.txt -o ./expression/\n",
    "\n",
    "    rnaDiff.R ./sampleDef.txt -c ./expression/rawC.txt \\\n",
    "    -t ./expression/rawT.txt -o ./differential/\n",
    "\n",
    "    # annotate scatter files with tag counts\n",
    "    for scatter in ./differential/*scatter.txt;\n",
    "    do diff2Homer.R -d $scatter -q ./expression/HOMER.rawTPM.txt;\n",
    "    done"
   ]
  },
  {
   "cell_type": "markdown",
   "metadata": {},
   "source": [
    "### Make sure to check the PCA pdf file for outliers"
   ]
  },
  {
   "cell_type": "markdown",
   "metadata": {},
   "source": [
    "# Import differential gene files for examination and plotting"
   ]
  },
  {
   "cell_type": "code",
   "execution_count": 14,
   "metadata": {},
   "outputs": [],
   "source": [
    "if not os.path.isdir('./gene_lists/'):\n",
    "    os.mkdir('./gene_lists')"
   ]
  },
  {
   "cell_type": "code",
   "execution_count": 15,
   "metadata": {},
   "outputs": [],
   "source": [
    "strains = ['aj', 'balb', 'c57']\n",
    "log2fc = 1\n",
    "padj = 0.05"
   ]
  },
  {
   "cell_type": "code",
   "execution_count": 16,
   "metadata": {},
   "outputs": [],
   "source": [
    "gene_list_dict ={}"
   ]
  },
  {
   "cell_type": "code",
   "execution_count": 17,
   "metadata": {
    "scrolled": true
   },
   "outputs": [
    {
     "name": "stdout",
     "output_type": "stream",
     "text": [
      "./differential/aj_hepatocyte_control.vs.balbc_hepatocyte_control.scatter.homer.txt\n",
      "ge all transcripts (24940, 14)\n",
      "Diff Gene selected transcripts (5511, 14)\n",
      "ge selected transcripts (5511, 14)\n",
      "./differential/aj_hepatocyte_control.vs.c57_hepatocyte_control.scatter.homer.txt\n",
      "ge all transcripts (24940, 14)\n",
      "Diff Gene selected transcripts (5503, 14)\n",
      "ge selected transcripts (5503, 14)\n",
      "./differential/balbc_hepatocyte_control.vs.c57_hepatocyte_control.scatter.homer.txt\n",
      "ge all transcripts (24940, 14)\n",
      "Diff Gene selected transcripts (5658, 14)\n",
      "ge selected transcripts (5658, 14)\n",
      "./differential/balbc_hepatocyte_control.vs.aj_hepatocyte_control.scatter.homer.txt\n",
      "ge all transcripts (24940, 14)\n",
      "Diff Gene selected transcripts (5511, 14)\n",
      "ge selected transcripts (5511, 14)\n",
      "./differential/c57_hepatocyte_control.vs.balbc_hepatocyte_control.scatter.homer.txt\n",
      "ge all transcripts (24940, 14)\n",
      "Diff Gene selected transcripts (5658, 14)\n",
      "ge selected transcripts (5658, 14)\n",
      "./differential/c57_hepatocyte_control.vs.aj_hepatocyte_control.scatter.homer.txt\n",
      "ge all transcripts (24940, 14)\n",
      "Diff Gene selected transcripts (5503, 14)\n",
      "ge selected transcripts (5503, 14)\n"
     ]
    }
   ],
   "source": [
    "for strain in strains:\n",
    "    # initialize gene lists\n",
    "    g_intersect = set()\n",
    "    g_union = set()\n",
    "    for i in glob.glob('./differential/'+strain+'*homer.txt'):\n",
    "        print(i)\n",
    "        # read in gene expression data\n",
    "        df, tpm, tpm_mat, tpm_mat_quant = import_homer_diffgene(\n",
    "            depath=i,\n",
    "            gepath='./expression/HOMER.rawTPM.txt',\n",
    "            gene_name_index=True)\n",
    "\n",
    "        # select differential genes\n",
    "        df = df.loc[~(df.chr.str.contains('chrX|chrY|ChrUn')), :]\n",
    "        sig_genes = df.index[(df['padj'] < padj) & (df['log2FoldChange'] <= -log2fc)].to_list()\n",
    "        \n",
    "        # add to sets\n",
    "        if len(g_union) == 0:\n",
    "            g_union = set(sig_genes)\n",
    "            g_intersect = set(sig_genes)\n",
    "        else:\n",
    "            g_union = g_union.union(sig_genes)\n",
    "            g_intersect = g_intersect.intersection(sig_genes)\n",
    "        \n",
    "        # print('union set length:', print(len(g_union)))\n",
    "        # print('intersection set length:', print(len(g_intersect)))\n",
    "    \n",
    "    # after getting union and intersection sets add to dict\n",
    "    gene_list_dict[strain+'_union'] = list(g_union)\n",
    "    gene_list_dict[strain+'_intersection'] = list(g_intersect)\n",
    "        "
   ]
  },
  {
   "cell_type": "code",
   "execution_count": 18,
   "metadata": {},
   "outputs": [
    {
     "name": "stdout",
     "output_type": "stream",
     "text": [
      "aj_union\n",
      "209 genes\n",
      "aj_intersection\n",
      "25 genes\n",
      "balb_union\n",
      "235 genes\n",
      "balb_intersection\n",
      "57 genes\n",
      "c57_union\n",
      "288 genes\n",
      "c57_intersection\n",
      "59 genes\n"
     ]
    }
   ],
   "source": [
    "for key in gene_list_dict.keys():\n",
    "    print(key)\n",
    "    print(len(gene_list_dict[key]), 'genes')\n",
    "    with open('./gene_lists/'+key+'_hepatocyte_control_genes_fc_'+str(log2fc)+'_pval_'+str(padj)+'.txt', 'w') as f:\n",
    "        f.write('Gene\\n')\n",
    "        for i in gene_list_dict[key]:\n",
    "            f.write(i+'\\n')\n",
    "        f.close()"
   ]
  },
  {
   "cell_type": "markdown",
   "metadata": {},
   "source": [
    "# Plot potential nichenet ligands"
   ]
  },
  {
   "cell_type": "code",
   "execution_count": 14,
   "metadata": {},
   "outputs": [],
   "source": [
    "if not os.path.isdir('./figures/'):\n",
    "    os.mkdir('./figures')"
   ]
  },
  {
   "cell_type": "markdown",
   "metadata": {},
   "source": [
    "Read in raw expression values"
   ]
  },
  {
   "cell_type": "code",
   "execution_count": 15,
   "metadata": {},
   "outputs": [],
   "source": [
    "tpm_mat = pd.read_csv('./expression/rawT.txt', sep='\\t', index_col=0)"
   ]
  },
  {
   "cell_type": "markdown",
   "metadata": {},
   "source": [
    "Read in nichenet ligand list"
   ]
  },
  {
   "cell_type": "code",
   "execution_count": 16,
   "metadata": {},
   "outputs": [
    {
     "data": {
      "text/plain": [
       "['Cxcl1', 'Cxcl2', 'Cxcl3', 'Cxcl5', 'Ppbp']"
      ]
     },
     "execution_count": 16,
     "metadata": {},
     "output_type": "execute_result"
    }
   ],
   "source": [
    "ligands = pd.read_csv('/home/h1bennet/data/gene_lists/nichenet_ligands.txt',\n",
    "                      sep='\\t')['x'].str.capitalize().tolist()\n",
    "ligands[:5]"
   ]
  },
  {
   "cell_type": "markdown",
   "metadata": {},
   "source": [
    "## Intersection ligands"
   ]
  },
  {
   "cell_type": "code",
   "execution_count": 17,
   "metadata": {},
   "outputs": [],
   "source": [
    "act = []\n",
    "for key in gene_list_dict.keys():\n",
    "    if 'intersection' in key:\n",
    "        act.extend(gene_list_dict[key])\n",
    "\n",
    "act = set(act)\n",
    "# overlap with ligands\n",
    "act_ligands = act.intersection(ligands)"
   ]
  },
  {
   "cell_type": "code",
   "execution_count": 18,
   "metadata": {},
   "outputs": [
    {
     "data": {
      "text/plain": [
       "{'Nrg4', 'Tnfsf10'}"
      ]
     },
     "execution_count": 18,
     "metadata": {},
     "output_type": "execute_result"
    }
   ],
   "source": [
    "act_ligands"
   ]
  },
  {
   "cell_type": "code",
   "execution_count": 22,
   "metadata": {},
   "outputs": [],
   "source": [
    "groups = [[0,1,2],\n",
    "          [3,4],\n",
    "          [5,6]]\n",
    "\n",
    "group_labels = ['C57BL/6J LSEC Control young',\n",
    "                'Balb/cJ LSEC Control young',\n",
    "                'AJ LSEC Control young']\n",
    "\n",
    "colors = ['#74c476',\n",
    "          '#6baed6',\n",
    "          '#de2d26']"
   ]
  },
  {
   "cell_type": "code",
   "execution_count": 24,
   "metadata": {},
   "outputs": [
    {
     "data": {
      "image/png": "[encoded data removed]",
      "text/plain": [
       "<Figure size 288x288 with 1 Axes>"
      ]
     },
     "metadata": {
      "needs_background": "light"
     },
     "output_type": "display_data"
    }
   ],
   "source": [
    "fig, ax = plt.subplots(figsize=(4, 4))\n",
    "\n",
    "gene_list_bar_plot(act_ligands,\n",
    "                   tpm_mat,\n",
    "                   groups=groups,\n",
    "                   group_labels = group_labels,\n",
    "                   colors = colors,\n",
    "                   ax=ax,\n",
    "                   width=0.2)\n",
    "\n",
    "ax.get_legend().remove()"
   ]
  },
  {
   "cell_type": "markdown",
   "metadata": {},
   "source": [
    "# Look at union gene set"
   ]
  },
  {
   "cell_type": "code",
   "execution_count": 25,
   "metadata": {},
   "outputs": [],
   "source": [
    "act = []\n",
    "for key in gene_list_dict.keys():\n",
    "    if 'union' in key:\n",
    "        act.extend(gene_list_dict[key])\n",
    "\n",
    "act = set(act)\n",
    "# overlap with ligands\n",
    "act_ligands = act.intersection(ligands)"
   ]
  },
  {
   "cell_type": "code",
   "execution_count": 29,
   "metadata": {},
   "outputs": [
    {
     "data": {
      "image/png": "[encoded data removed]",
      "text/plain": [
       "<Figure size 288x432 with 5 Axes>"
      ]
     },
     "metadata": {
      "needs_background": "light"
     },
     "output_type": "display_data"
    }
   ],
   "source": [
    "sns.clustermap(\n",
    "    np.log2(tpm_mat.loc[act_ligands]+1),\n",
    "    col_cluster=False,\n",
    "    #z_score=0,\n",
    "    cmap='Reds',\n",
    "    #vmin=-2,\n",
    "    vmax=8,\n",
    "    col_colors = ['#74c476', '#74c476', '#74c476',\n",
    "          '#6baed6', '#6baed6',\n",
    "          '#de2d26', '#de2d26'],\n",
    "    figsize=(4,6),\n",
    "    yticklabels=1)\n",
    "\n",
    "plt.savefig('./figures/diff_genes_union_ligands_clustermap.png', bbox_inches='tight')\n",
    "# plt.close()"
   ]
  },
  {
   "cell_type": "code",
   "execution_count": 28,
   "metadata": {},
   "outputs": [
    {
     "data": {
      "image/png": "[encoded data removed]",
      "text/plain": [
       "<Figure size 288x432 with 5 Axes>"
      ]
     },
     "metadata": {
      "needs_background": "light"
     },
     "output_type": "display_data"
    }
   ],
   "source": [
    "sns.clustermap(\n",
    "    np.log2(tpm_mat.loc[act_ligands]+1),\n",
    "    col_cluster=False,\n",
    "    z_score=0,\n",
    "    cmap='RdBu_r',\n",
    "    vmin=-2,\n",
    "    vmax=2,\n",
    "    col_colors = ['#74c476', '#74c476', '#74c476',\n",
    "          '#6baed6', '#6baed6',\n",
    "          '#de2d26', '#de2d26'],\n",
    "    figsize=(4,6),\n",
    "    yticklabels=1)\n",
    "\n",
    "plt.savefig('./figures/diff_genes_union_ligands_clustermap_zscore.png', bbox_inches='tight')\n",
    "# plt.close()"
   ]
  },
  {
   "cell_type": "code",
   "execution_count": null,
   "metadata": {},
   "outputs": [],
   "source": []
  }
 ],
 "metadata": {
  "kernelspec": {
   "display_name": "dataviz",
   "language": "python",
   "name": "dataviz"
  },
  "language_info": {
   "codemirror_mode": {
    "name": "ipython",
    "version": 3
   },
   "file_extension": ".py",
   "mimetype": "text/x-python",
   "name": "python",
   "nbconvert_exporter": "python",
   "pygments_lexer": "ipython3",
   "version": "3.7.5"
  }
 },
 "nbformat": 4,
 "nbformat_minor": 2
}
