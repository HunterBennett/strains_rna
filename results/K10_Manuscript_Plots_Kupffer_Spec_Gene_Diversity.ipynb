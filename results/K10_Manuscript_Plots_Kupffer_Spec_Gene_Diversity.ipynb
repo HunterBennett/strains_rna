{
 "cells": [
  {
   "cell_type": "markdown",
   "metadata": {},
   "source": [
    "Hunter Bennett | Glass Lab | Kupffer Strains Project | February 24 2021  \n",
    "\n",
    "This notebook is for making fancier figure level plots describing differential gene expression for the strains NASH paper. It generates the following plots:\n",
    "1. Differential scatter plot similar to those make in Link et al. 2018 showing differential peaks at fc > 2 and fc > 4."
   ]
  },
  {
   "cell_type": "code",
   "execution_count": 27,
   "metadata": {},
   "outputs": [
    {
     "name": "stdout",
     "output_type": "stream",
     "text": [
      "The autoreload extension is already loaded. To reload it, use:\n",
      "  %reload_ext autoreload\n"
     ]
    }
   ],
   "source": [
    "### header ###\n",
    "__author__ = \"Hunter Bennett\"\n",
    "__license__ = \"BSD\"\n",
    "__email__ = \"hunter.r.bennett@gmail.com\"\n",
    "%load_ext autoreload\n",
    "%autoreload 2\n",
    "### imports ###\n",
    "import sys\n",
    "%matplotlib inline\n",
    "import os\n",
    "import re\n",
    "import glob\n",
    "import pandas as pd\n",
    "import numpy as np\n",
    "import matplotlib\n",
    "import matplotlib.pyplot as plt \n",
    "import seaborn as sns\n",
    "\n",
    "# import custom functions\n",
    "import sys\n",
    "sys.path.insert(0, '/home/h1bennet/code/')\n",
    "from hbUtils import ngs_qc, quantile_normalize_df\n",
    "from plotting_scripts import label_point, pca_rpkm_mat, get_diff_volcano\n",
    "from homer_preprocessing import read_annotated_peaks, import_homer_diffgene, pull_comparisons_get_diff"
   ]
  },
  {
   "cell_type": "code",
   "execution_count": 28,
   "metadata": {},
   "outputs": [],
   "source": [
    "#### PLOTTING PARAMETERS FOR MANUSCRIPT ####\n",
    "# # get matplotlib to save readable fonts\n",
    "matplotlib.rcParams['pdf.fonttype'] = 42\n",
    "matplotlib.rcParams['ps.fonttype'] = 42\n",
    "matplotlib.rcParams['font.size'] = 6\n",
    "matplotlib.rcParams['savefig.dpi'] = 500\n",
    "\n",
    "# line widths\n",
    "matplotlib.rcParams['axes.linewidth'] = 1\n",
    "matplotlib.rcParams['xtick.major.width'] = 1\n",
    "matplotlib.rcParams['ytick.major.width'] = 1\n",
    "\n",
    "# adjust defualt color for plots to black\n",
    "# normal default is a dark gray\n",
    "COLOR = 'black'\n",
    "matplotlib.rcParams['text.color'] = COLOR\n",
    "matplotlib.rcParams['axes.labelcolor'] = COLOR\n",
    "matplotlib.rcParams['xtick.color'] = COLOR\n",
    "matplotlib.rcParams['ytick.color'] = COLOR\n",
    "matplotlib.rcParams['axes.edgecolor'] = COLOR\n",
    "\n",
    "#### PLOT PARAMETERS FOR THIS PLOT ####"
   ]
  },
  {
   "cell_type": "code",
   "execution_count": 29,
   "metadata": {},
   "outputs": [],
   "source": [
    "dataDirectory = '/home/h1bennet/strains_rna/results/A00_Strains_Control_WholeLiver_RNA/'\n",
    "workingDirectory = '/home/h1bennet/strains_rna/results/A10_Manuscript_Figures_AllLiverCells/'\n",
    "if not os.path.isdir(workingDirectory):\n",
    "    os.mkdir(workingDirectory)\n",
    "os.chdir(workingDirectory)"
   ]
  },
  {
   "cell_type": "markdown",
   "metadata": {},
   "source": [
    "# Make folder for \"fancy figures\" for manuscript"
   ]
  },
  {
   "cell_type": "code",
   "execution_count": 30,
   "metadata": {},
   "outputs": [],
   "source": [
    "if not os.path.isdir('./fancy_figures/'):\n",
    "    os.mkdir('./fancy_figures/')"
   ]
  },
  {
   "cell_type": "code",
   "execution_count": 31,
   "metadata": {},
   "outputs": [],
   "source": [
    "strains = ['aj', 'balb', 'c57']\n",
    "log2fc = 1\n",
    "padj = 0.05\n",
    "diffpath = '/home/ttroutman/strainsKupffer/rnaKupfferNASH/rnaDiff/'"
   ]
  },
  {
   "cell_type": "code",
   "execution_count": 32,
   "metadata": {},
   "outputs": [
    {
     "data": {
      "text/plain": [
       "['/home/h1bennet/strains_rna/results/A00_Strains_Control_WholeLiver_RNA//differential/balbc_kupffer_control_young.vs.aj_kupffer_control_young.scatter.homer.txt',\n",
       " '/home/h1bennet/strains_rna/results/A00_Strains_Control_WholeLiver_RNA//differential/aj_kupffer_control_young.vs.c57_kupffer_control_young.scatter.homer.txt',\n",
       " '/home/h1bennet/strains_rna/results/A00_Strains_Control_WholeLiver_RNA//differential/balbc_kupffer_control_young.vs.c57_kupffer_control_young.scatter.homer.txt',\n",
       " '/home/h1bennet/strains_rna/results/A00_Strains_Control_WholeLiver_RNA//differential/c57_kupffer_control_young.vs.balbc_kupffer_control_young.scatter.homer.txt',\n",
       " '/home/h1bennet/strains_rna/results/A00_Strains_Control_WholeLiver_RNA//differential/c57_kupffer_control_young.vs.aj_kupffer_control_young.scatter.homer.txt',\n",
       " '/home/h1bennet/strains_rna/results/A00_Strains_Control_WholeLiver_RNA//differential/aj_kupffer_control_young.vs.balbc_kupffer_control_young.scatter.homer.txt']"
      ]
     },
     "execution_count": 32,
     "metadata": {},
     "output_type": "execute_result"
    }
   ],
   "source": [
    "glob.glob(dataDirectory+'/differential/*kupffer*kupffer*homer*')"
   ]
  },
  {
   "cell_type": "markdown",
   "metadata": {},
   "source": [
    "### Import differential peaks"
   ]
  },
  {
   "cell_type": "code",
   "execution_count": 33,
   "metadata": {},
   "outputs": [
    {
     "name": "stdout",
     "output_type": "stream",
     "text": [
      "ge all transcripts (24940, 43)\n",
      "Diff Gene selected transcripts (5501, 14)\n",
      "ge selected transcripts (5501, 43)\n"
     ]
    }
   ],
   "source": [
    "diff, tpm, tpm_mat, tpm_mat_quant = import_homer_diffgene(\n",
    "    dataDirectory+'./differential/aj_hepatocyte_control_young.vs.balbc_hepatocyte_control_young.scatter.homer.txt',\n",
    "    dataDirectory+'./expression/HOMER.rawTPM.txt')"
   ]
  },
  {
   "cell_type": "markdown",
   "metadata": {},
   "source": [
    "### Read in the amit list of KC transcripts"
   ]
  },
  {
   "cell_type": "code",
   "execution_count": 34,
   "metadata": {},
   "outputs": [],
   "source": [
    "with open('/gpfs/data01/glasslab/home/h1bennet/data/Amit_KC_genelist.txt', 'r') as f:\n",
    "    kc_list = [i.strip().replace('\\\"','') for i in f.readlines()]"
   ]
  },
  {
   "cell_type": "markdown",
   "metadata": {},
   "source": [
    "# Set parameters that don't change throughout plotting"
   ]
  },
  {
   "cell_type": "code",
   "execution_count": 35,
   "metadata": {},
   "outputs": [],
   "source": [
    "comps = ['aj_kupffer_control_young.vs.balbc_kupffer_control_young.scatter.homer.txt',\n",
    "         '/aj_kupffer_control_young.vs.c57_kupffer_control_young.scatter.homer.txt',\n",
    "         '/balbc_kupffer_control_young.vs.c57_kupffer_control_young.scatter.homer.txt']\n",
    "\n",
    "ids = [['AJ.*Kup', 'BALB.*Kup'],\n",
    "       ['AJ.*Kup', 'C57.*Kup'],\n",
    "       ['BALB.*Kup', 'C57.*Kup']]\n",
    "\n",
    "labels = [['AJ', 'BALB/cJ'],\n",
    "          ['AJ', 'C57BL/6J'],\n",
    "          ['BALB/cJ', 'C57BL/6J']]\n",
    "\n",
    "colors = [['#636363', '#de2d26'],\n",
    "          ['#636363', '#de2d26'],\n",
    "          ['#636363', '#de2d26']]\n",
    "\n",
    "# set plotting thresholds\n",
    "pthresh = 0.05\n",
    "fontsize=8\n",
    "labelsize=6\n",
    "lfcthresh = (np.log2(2),np.log2(4))\n",
    "dotsize = 0.5\n",
    "ax_max = 16\n",
    "n_yticks = 5\n",
    "ytickstep = 3\n",
    "color = '#636363'\n",
    "filename='kupffer_spec_gene_conservation.pdf'"
   ]
  },
  {
   "cell_type": "code",
   "execution_count": 36,
   "metadata": {},
   "outputs": [
    {
     "data": {
      "text/plain": [
       "'/home/h1bennet/strains_rna/results/A00_Strains_Control_WholeLiver_RNA/'"
      ]
     },
     "execution_count": 36,
     "metadata": {},
     "output_type": "execute_result"
    }
   ],
   "source": [
    "dataDirectory"
   ]
  },
  {
   "cell_type": "code",
   "execution_count": 37,
   "metadata": {
    "scrolled": false
   },
   "outputs": [
    {
     "name": "stdout",
     "output_type": "stream",
     "text": [
      "aj_kupffer_control_young.vs.balbc_kupffer_control_young.scatter.homer.txt\n",
      "ge all transcripts (24940, 43)\n",
      "Diff Gene selected transcripts (7612, 14)\n",
      "ge selected transcripts (7612, 43)\n",
      "7612 genes\n",
      "9/92 KC genes up\n",
      "2/99 KC genes down\n",
      "/aj_kupffer_control_young.vs.c57_kupffer_control_young.scatter.homer.txt\n",
      "ge all transcripts (24940, 43)\n",
      "Diff Gene selected transcripts (7652, 14)\n",
      "ge selected transcripts (7652, 43)\n",
      "7652 genes\n",
      "10/125 KC genes up\n",
      "9/159 KC genes down\n",
      "/balbc_kupffer_control_young.vs.c57_kupffer_control_young.scatter.homer.txt\n",
      "ge all transcripts (24940, 43)\n",
      "Diff Gene selected transcripts (7659, 14)\n",
      "ge selected transcripts (7659, 43)\n",
      "7659 genes\n",
      "8/180 KC genes up\n",
      "11/179 KC genes down\n"
     ]
    },
    {
     "data": {
      "image/png": "[encoded data removed]",
      "text/plain": [
       "<Figure size 108x324 with 3 Axes>"
      ]
     },
     "metadata": {
      "needs_background": "light"
     },
     "output_type": "display_data"
    }
   ],
   "source": [
    "filename='kupffer_spec_gene_conservation_vert.pdf'\n",
    "fig, axs = plt.subplots(3,1,\n",
    "                        figsize=(1.5,4.5),\n",
    "                        sharex=True,\n",
    "                        sharey=True)\n",
    "plt.subplots_adjust(wspace=0.2,\n",
    "                    hspace=0.2)\n",
    "\n",
    "# set count for labeling axes\n",
    "count=0\n",
    "\n",
    "for comp, grep, labs, color, ax in zip(comps, ids, labels, colors, axs.reshape(-1)):\n",
    "    print(comp)\n",
    "    de, tpm, tpm_mat, tpm_mat_quant = import_homer_diffgene(\n",
    "        dataDirectory+'./differential/'+comp,\n",
    "        dataDirectory+'./expression/HOMER.rawTPM.txt',\n",
    "        gene_name_index=True)\n",
    "    \n",
    "    # extract columns\n",
    "    g0 = tpm_mat.columns.str.contains(grep[0])\n",
    "    g1 = tpm_mat.columns.str.contains(grep[1])\n",
    "    col = g0 | g1\n",
    "    \n",
    "    de['logtpm'] = np.log2(tpm_mat.loc[:, col].mean(1)+1)\n",
    "    de['log10p'] = -np.log10(de.padj + 10**(-50))\n",
    "    de['g0_mean'] = np.log2(tpm_mat.loc[:, g0].mean(1)+1)\n",
    "    de['g1_mean'] = np.log2(tpm_mat.loc[:, g1].mean(1)+1)\n",
    "       \n",
    "    # plot group by group scatter:\n",
    "    de_all = de\n",
    "    de_kc_spec = de.reindex(kc_list).dropna()\n",
    "    de_sig_fc1 = de.reindex(de.index[(de.padj < pthresh) & (np.abs(de.log2FoldChange) >= lfcthresh[0])])\n",
    "    \n",
    "    # genes up in group 1\n",
    "    de_sig_fc1_up = de_sig_fc1.index[de_sig_fc1.log2FoldChange >= lfcthresh[0]].to_list()\n",
    "    de_sig_fc1_dn = de_sig_fc1.index[de_sig_fc1.log2FoldChange <= -lfcthresh[0]].to_list()\n",
    "    \n",
    "    # find overlap\n",
    "    kc_up = set(de_sig_fc1_up).intersection(kc_list)\n",
    "    kc_dn = set(de_sig_fc1_dn).intersection(kc_list)\n",
    "        \n",
    "    # check number of peaks in each group\n",
    "    print(de_all.shape[0], 'genes')\n",
    "    print('%i/%i KC genes up' % (len(kc_up), len(de_sig_fc1_up)))\n",
    "    print('%i/%i KC genes down' % (len(kc_dn), len(de_sig_fc1_dn)))\n",
    "    \n",
    "    for df, c in zip([de_all, de_kc_spec],\n",
    "                     color):\n",
    "        ax.scatter(\n",
    "            x=df.g0_mean,\n",
    "            y=df.g1_mean,\n",
    "            c=c,\n",
    "            s=dotsize,\n",
    "            rasterized=True)\n",
    "        \n",
    "    ax.text(1, 15, '%i/%i' % (len(kc_up), len(de_sig_fc1_up)))\n",
    "    ax.text(13, 1, '%i/%i' % (len(kc_dn), len(de_sig_fc1_dn)))\n",
    "    \n",
    "    # Hide the right and top spines\n",
    "    ax.spines['right'].set_visible(False)\n",
    "    ax.spines['top'].set_visible(False)\n",
    "    # set labels\n",
    "    ax.set_xlabel(labs[0])\n",
    "    ax.set_ylabel(labs[1])\n",
    "    #set max and min\n",
    "    ax.set_xlim([0,ax_max])\n",
    "    ax.set_ylim([0,ax_max])\n",
    "    # set ticks\n",
    "    ax.set_xticks(np.arange(0,ax_max,ytickstep))\n",
    "    ax.set_xticklabels(np.arange(0,ax_max,ytickstep),\n",
    "                       fontdict={'fontsize':labelsize})\n",
    "    ax.set_yticks(np.arange(0,ax_max,ytickstep))\n",
    "    ax.set_yticklabels(np.arange(0,ax_max,ytickstep),\n",
    "                       fontdict={'fontsize':labelsize})\n",
    "plt.savefig('./fancy_figures/'+filename, bbox_inches='tight')"
   ]
  },
  {
   "cell_type": "code",
   "execution_count": 15,
   "metadata": {},
   "outputs": [
    {
     "name": "stdout",
     "output_type": "stream",
     "text": [
      "aj_kupffer_control_young.vs.balbc_kupffer_control_young.scatter.homer.txt\n",
      "ge all transcripts (24940, 43)\n",
      "Diff Gene selected transcripts (7612, 14)\n",
      "ge selected transcripts (7612, 43)\n",
      "7612 genes\n",
      "9/92 KC genes up\n",
      "2/99 KC genes down\n",
      "/aj_kupffer_control_young.vs.c57_kupffer_control_young.scatter.homer.txt\n",
      "ge all transcripts (24940, 43)\n",
      "Diff Gene selected transcripts (7652, 14)\n",
      "ge selected transcripts (7652, 43)\n",
      "7652 genes\n",
      "10/125 KC genes up\n",
      "9/159 KC genes down\n",
      "/balbc_kupffer_control_young.vs.c57_kupffer_control_young.scatter.homer.txt\n",
      "ge all transcripts (24940, 43)\n",
      "Diff Gene selected transcripts (7659, 14)\n",
      "ge selected transcripts (7659, 43)\n",
      "7659 genes\n",
      "8/180 KC genes up\n",
      "11/179 KC genes down\n"
     ]
    },
    {
     "data": {
      "image/png": "[encoded data removed]",
      "text/plain": [
       "<Figure size 324x108 with 3 Axes>"
      ]
     },
     "metadata": {
      "needs_background": "light"
     },
     "output_type": "display_data"
    }
   ],
   "source": [
    "filename='kupffer_spec_gene_conservation.pdf'\n",
    "fig, axs = plt.subplots(1,3,\n",
    "                        figsize=(4.5,1.5),\n",
    "                        sharex=True,\n",
    "                        sharey=True)\n",
    "plt.subplots_adjust(wspace=0.2,\n",
    "                    hspace=0.2)\n",
    "\n",
    "# set count for labeling axes\n",
    "count=0\n",
    "strain_varying_kc_spec = []\n",
    "\n",
    "\n",
    "for comp, grep, labs, color, ax in zip(comps, ids, labels, colors, axs.reshape(-1)):\n",
    "    print(comp)\n",
    "    de, tpm, tpm_mat, tpm_mat_quant = import_homer_diffgene(\n",
    "        dataDirectory+'./differential/'+comp,\n",
    "        dataDirectory+'./expression/HOMER.rawTPM.txt',\n",
    "        gene_name_index=True)\n",
    "    \n",
    "    # extract columns\n",
    "    g0 = tpm_mat.columns.str.contains(grep[0])\n",
    "    g1 = tpm_mat.columns.str.contains(grep[1])\n",
    "    col = g0 | g1\n",
    "    \n",
    "    de['logtpm'] = np.log2(tpm_mat.loc[:, col].mean(1)+1)\n",
    "    de['log10p'] = -np.log10(de.padj + 10**(-50))\n",
    "    de['g0_mean'] = np.log2(tpm_mat.loc[:, g0].mean(1)+1)\n",
    "    de['g1_mean'] = np.log2(tpm_mat.loc[:, g1].mean(1)+1)\n",
    "       \n",
    "    # plot group by group scatter:\n",
    "    de_all = de\n",
    "    de_kc_spec = de.reindex(kc_list).dropna()\n",
    "    de_sig_fc1 = de.reindex(de.index[(de.padj < pthresh) & (np.abs(de.log2FoldChange) >= lfcthresh[0])])\n",
    "    \n",
    "    # genes up in group 1\n",
    "    de_sig_fc1_up = de_sig_fc1.index[de_sig_fc1.log2FoldChange >= lfcthresh[0]].to_list()\n",
    "    de_sig_fc1_dn = de_sig_fc1.index[de_sig_fc1.log2FoldChange <= -lfcthresh[0]].to_list()\n",
    "    \n",
    "    # find overlap\n",
    "    kc_up = set(de_sig_fc1_up).intersection(kc_list)\n",
    "    kc_dn = set(de_sig_fc1_dn).intersection(kc_list)\n",
    "    # store overlap\n",
    "    strain_varying_kc_spec.extend(set(kc_up))\n",
    "    strain_varying_kc_spec.extend(set(kc_dn))\n",
    "        \n",
    "    # check number of peaks in each group\n",
    "    print(de_all.shape[0], 'genes')\n",
    "    print('%i/%i KC genes up' % (len(kc_up), len(de_sig_fc1_up)))\n",
    "    print('%i/%i KC genes down' % (len(kc_dn), len(de_sig_fc1_dn)))\n",
    "    \n",
    "    for df, c in zip([de_all, de_kc_spec],\n",
    "                     color):\n",
    "        ax.scatter(\n",
    "            x=df.g0_mean,\n",
    "            y=df.g1_mean,\n",
    "            c=c,\n",
    "            s=dotsize,\n",
    "            rasterized=True)\n",
    "        \n",
    "    ax.text(1, 15, '%i/%i' % (len(kc_up), len(de_sig_fc1_up)))\n",
    "    ax.text(13, 1, '%i/%i' % (len(kc_dn), len(de_sig_fc1_dn)))\n",
    "    \n",
    "    # Hide the right and top spines\n",
    "    ax.spines['right'].set_visible(False)\n",
    "    ax.spines['top'].set_visible(False)\n",
    "    # set labels\n",
    "    ax.set_xlabel(labs[0])\n",
    "    ax.set_ylabel(labs[1])\n",
    "    #set max and min\n",
    "    ax.set_xlim([0,ax_max])\n",
    "    ax.set_ylim([0,ax_max])\n",
    "    # set ticks\n",
    "    ax.set_xticks(np.arange(0,ax_max,ytickstep))\n",
    "    ax.set_xticklabels(np.arange(0,ax_max,ytickstep),\n",
    "                       fontdict={'fontsize':labelsize})\n",
    "    ax.set_yticks(np.arange(0,ax_max,ytickstep))\n",
    "    ax.set_yticklabels(np.arange(0,ax_max,ytickstep),\n",
    "                       fontdict={'fontsize':labelsize})\n",
    "plt.savefig('./fancy_figures/'+filename, bbox_inches='tight')"
   ]
  },
  {
   "cell_type": "code",
   "execution_count": 16,
   "metadata": {
    "scrolled": false
   },
   "outputs": [
    {
     "data": {
      "text/plain": [
       "33"
      ]
     },
     "execution_count": 16,
     "metadata": {},
     "output_type": "execute_result"
    }
   ],
   "source": [
    "len(set(strain_varying_kc_spec))"
   ]
  },
  {
   "cell_type": "code",
   "execution_count": 17,
   "metadata": {},
   "outputs": [
    {
     "data": {
      "text/plain": [
       "303"
      ]
     },
     "execution_count": 17,
     "metadata": {},
     "output_type": "execute_result"
    }
   ],
   "source": [
    "len(kc_list)"
   ]
  },
  {
   "cell_type": "code",
   "execution_count": null,
   "metadata": {},
   "outputs": [],
   "source": []
  }
 ],
 "metadata": {
  "kernelspec": {
   "display_name": "dataviz",
   "language": "python",
   "name": "dataviz"
  },
  "language_info": {
   "codemirror_mode": {
    "name": "ipython",
    "version": 3
   },
   "file_extension": ".py",
   "mimetype": "text/x-python",
   "name": "python",
   "nbconvert_exporter": "python",
   "pygments_lexer": "ipython3",
   "version": "3.7.5"
  }
 },
 "nbformat": 4,
 "nbformat_minor": 2
}
