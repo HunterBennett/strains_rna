{
 "cells": [
  {
   "cell_type": "markdown",
   "id": "adaptive-router",
   "metadata": {},
   "source": [
    "Hunter Bennett | Glass Lab | Kupffer Strains Project | April 27 2021  \n",
    "\n",
    "This series of notebooks is for manuscript preparation of \"final\" figures for import into Adobe Illustrator.\n",
    "\n",
    "This notebook in particular prepares a panel showing that leptin treatment induces BALBcJ specific gene expression."
   ]
  },
  {
   "cell_type": "code",
   "execution_count": 56,
   "id": "previous-swift",
   "metadata": {},
   "outputs": [
    {
     "name": "stdout",
     "output_type": "stream",
     "text": [
      "/gpfs/data01/glasslab/home/h1bennet/strains_rna/results/10_Strains_Manuscript_Prep\r\n"
     ]
    }
   ],
   "source": [
    "!pwd"
   ]
  },
  {
   "cell_type": "code",
   "execution_count": 36,
   "id": "controlled-architecture",
   "metadata": {},
   "outputs": [
    {
     "name": "stdout",
     "output_type": "stream",
     "text": [
      "The autoreload extension is already loaded. To reload it, use:\n",
      "  %reload_ext autoreload\n"
     ]
    }
   ],
   "source": [
    "### header ###\n",
    "__author__ = \"Hunter Bennett\"\n",
    "__license__ = \"BSD\"\n",
    "__email__ = \"hunter.r.bennett@gmail.com\"\n",
    "%load_ext autoreload\n",
    "%autoreload 2\n",
    "### imports ###\n",
    "import sys\n",
    "%matplotlib inline\n",
    "import os\n",
    "import re\n",
    "import glob\n",
    "import pandas as pd\n",
    "import numpy as np\n",
    "import matplotlib\n",
    "import matplotlib.pyplot as plt\n",
    "from matplotlib.patches import Patch\n",
    "import seaborn as sns\n",
    "\n",
    "# import custom functions\n",
    "import sys\n",
    "sys.path.insert(0, '/home/h1bennet/code/')\n",
    "from hbUtils import ngs_qc, quantile_normalize_df\n",
    "from plotting_scripts import label_point, pca_rpkm_mat, get_diff_volcano, gene_list_bar_plot\n",
    "from homer_preprocessing import read_annotated_peaks, import_homer_diffgene, pull_comparisons_get_diff, read_homer_gene_exp"
   ]
  },
  {
   "cell_type": "code",
   "execution_count": 50,
   "id": "sophisticated-consultancy",
   "metadata": {},
   "outputs": [],
   "source": [
    "dataDirectory = '/home/h1bennet/strains_rna/results/A00_Strains_Control_WholeLiver_RNA/'\n",
    "workingDirectory = '/home/h1bennet/strains_rna/results/10_Strains_Manuscript_Prep/'\n",
    "if not os.path.isdir(workingDirectory):\n",
    "    os.mkdir(workingDirectory)\n",
    "os.chdir(workingDirectory)\n",
    "\n",
    "if not os.path.isdir('./kc_identity_gene_barplots'):\n",
    "    os.mkdir('./kc_identity_gene_barplots')"
   ]
  },
  {
   "cell_type": "code",
   "execution_count": 38,
   "id": "blond-memphis",
   "metadata": {},
   "outputs": [],
   "source": [
    "#### PLOTTING PARAMETERS FOR MANUSCRIPT ####\n",
    "# # get matplotlib to save readable fonts\n",
    "matplotlib.rcParams['pdf.fonttype'] = 42\n",
    "matplotlib.rcParams['ps.fonttype'] = 42\n",
    "matplotlib.rcParams['font.size'] = 6\n",
    "matplotlib.rcParams['savefig.dpi'] = 500\n",
    "\n",
    "# line widths\n",
    "matplotlib.rcParams['axes.linewidth'] = 1\n",
    "matplotlib.rcParams['xtick.major.width'] = 1\n",
    "matplotlib.rcParams['ytick.major.width'] = 1\n",
    "\n",
    "# adjust defualt color for plots to black\n",
    "# normal default is a dark gray\n",
    "COLOR = 'black'\n",
    "matplotlib.rcParams['text.color'] = COLOR\n",
    "matplotlib.rcParams['axes.labelcolor'] = COLOR\n",
    "matplotlib.rcParams['xtick.color'] = COLOR\n",
    "matplotlib.rcParams['ytick.color'] = COLOR\n",
    "matplotlib.rcParams['axes.edgecolor'] = COLOR\n",
    "\n",
    "#### PLOT PARAMETERS FOR THIS PLOT ####"
   ]
  },
  {
   "cell_type": "markdown",
   "id": "amazing-collectible",
   "metadata": {},
   "source": [
    "# Define plotting function"
   ]
  },
  {
   "cell_type": "code",
   "execution_count": 39,
   "id": "thousand-learning",
   "metadata": {},
   "outputs": [],
   "source": [
    "def gene_list_bar_plot_illus(genes, data, groups,\n",
    "                             group_labels, colors, width=0.5,\n",
    "                             spacing=0.0, title='', ylabel='', xlabel='',\n",
    "                             xticklabels=[],\n",
    "                             ax=None):\n",
    "    '''This function allows for visualization of expression in qPCR style\n",
    "    bar plots for multiple genes contained in an rpkm data file.\n",
    "    \n",
    "        Accepts:\n",
    "            genes (str): list of geneIDs to plot\n",
    "            data (pandas DataFrame): dataset in gene x sample format with geneIDs as index\n",
    "            groups (int): groups of samples in the columns of data\n",
    "            group_labels (str): labels of each group in groups\n",
    "            colors (str) = colors of each group in groups\n",
    "            width (float) = width of bars to plot, default 0.5\n",
    "            spacing (float) = extra spacing between bars to plot, default 0.0\n",
    "            relative (bool) = whether to standardize plot so that first group mean is 1,\n",
    "            ax (matplotlib.Axes object) = plot axis\n",
    "        \n",
    "        Returns:\n",
    "            ax (matplotlib.Axes object) = gene list bar plot'''\n",
    "\n",
    "    import pandas as pd\n",
    "    import matplotlib.pyplot as plt    \n",
    "    import numpy as np\n",
    "\n",
    "    # calculate means and standard deviations for plotting\n",
    "    # adjust if using a relative method (control group set to 1)\n",
    "    # get mean and std\n",
    "    means = []\n",
    "    stds = []\n",
    "    for (group, label) in zip(groups, group_labels):\n",
    "        means.append(data.iloc[:, group].reindex(genes).mean(1))\n",
    "        stds.append(data.iloc[:, group].reindex(genes).std(1))\n",
    "    \n",
    "    # set axis\n",
    "    if ax==None:\n",
    "        ax = plt.gca()\n",
    "    \n",
    "\n",
    "    # plot\n",
    "    ind = np.arange(len(genes))\n",
    "    ind = np.arange(len(genes))    # the x locations for the groups\n",
    "    i = 0\n",
    "    for mean, std, group, label, color in zip(means, stds, groups, group_labels, colors):\n",
    "        ax.bar(ind + (width+spacing)*i,\n",
    "               mean,\n",
    "               width,\n",
    "               color=color,\n",
    "               yerr=[np.zeros(len(std)), std],\n",
    "               edgecolor='k',\n",
    "               linewidth=1,\n",
    "               capsize=20,\n",
    "               error_kw={'elinewidth':1,\n",
    "                         'capthick':1,\n",
    "                         'capsize':4},\n",
    "               label=label)\n",
    "        i+=1\n",
    "        \n",
    "    if len(xticklabels) > 0:\n",
    "        ax.set_xticks([ind + (width+spacing)*i for i in np.arange(len(xticklabels))]);\n",
    "        ax.set_xticklabels(xticklabels);\n",
    "    ax.legend(fontsize=10);\n",
    "    ax.set_ylabel(ylabel, fontsize=8)\n",
    "    ax.set_xlabel(xlabel, fontsize=8)\n",
    "    ax.set_title(title, fontsize=8)\n",
    "    \n",
    "    return ax"
   ]
  },
  {
   "cell_type": "markdown",
   "id": "pressed-lodge",
   "metadata": {},
   "source": [
    "# Make folder for figures"
   ]
  },
  {
   "cell_type": "code",
   "execution_count": 40,
   "id": "massive-fifteen",
   "metadata": {},
   "outputs": [],
   "source": [
    "if not os.path.isdir('./kc_identity_rna_bar_plots/'):\n",
    "    os.mkdir('./kc_identity_rna_bar_plots/')"
   ]
  },
  {
   "cell_type": "markdown",
   "id": "oriental-earth",
   "metadata": {},
   "source": [
    "# Import RNA-seq data"
   ]
  },
  {
   "cell_type": "code",
   "execution_count": 41,
   "id": "miniature-article",
   "metadata": {},
   "outputs": [],
   "source": [
    "pval = 0.05\n",
    "log2fc = np.log2(2)\n",
    "pthresh = 0.05\n",
    "lfcthresh = (np.log2(2),np.log2(4))\n"
   ]
  },
  {
   "cell_type": "markdown",
   "id": "sonic-ballet",
   "metadata": {},
   "source": [
    "Read in data from experiment"
   ]
  },
  {
   "cell_type": "code",
   "execution_count": 42,
   "id": "descending-violin",
   "metadata": {},
   "outputs": [],
   "source": [
    "tpm_mat = pd.read_csv('/home/ttroutman/strainsKupffer/rnaKupfferNASH/rnaQuan/rawT.txt',\n",
    "                      sep='\\t', index_col=0)\n",
    "tpm_mat = tpm_mat.loc[:, tpm_mat.columns.str.contains('control')]"
   ]
  },
  {
   "cell_type": "markdown",
   "id": "everyday-apollo",
   "metadata": {},
   "source": [
    "Read in ido amit gene list"
   ]
  },
  {
   "cell_type": "code",
   "execution_count": 43,
   "id": "remarkable-celebration",
   "metadata": {},
   "outputs": [],
   "source": [
    "with open('/gpfs/data01/glasslab/home/h1bennet/data/Amit_KC_genelist.txt', 'r') as f:\n",
    "    kc_list = [i.strip().replace('\\\"','') for i in f.readlines()]"
   ]
  },
  {
   "cell_type": "markdown",
   "id": "mighty-maldives",
   "metadata": {},
   "source": [
    "Iterate through comparisons"
   ]
  },
  {
   "cell_type": "code",
   "execution_count": 44,
   "id": "inside-favor",
   "metadata": {},
   "outputs": [],
   "source": [
    "comps = ['aj_kupffer_control_young.vs.balbc_kupffer_control_young.scatter.homer.txt',\n",
    "         '/aj_kupffer_control_young.vs.c57_kupffer_control_young.scatter.homer.txt',\n",
    "         '/balbc_kupffer_control_young.vs.c57_kupffer_control_young.scatter.homer.txt']\n",
    "\n",
    "ids = [['AJ.*Kup', 'BALB.*Kup'],\n",
    "       ['AJ.*Kup', 'C57.*Kup'],\n",
    "       ['BALB.*Kup', 'C57.*Kup']]\n",
    "\n",
    "strain_varying_kc_spec = []"
   ]
  },
  {
   "cell_type": "code",
   "execution_count": 45,
   "id": "greatest-remove",
   "metadata": {},
   "outputs": [
    {
     "name": "stdout",
     "output_type": "stream",
     "text": [
      "aj_kupffer_control_young.vs.balbc_kupffer_control_young.scatter.homer.txt\n",
      "ge all transcripts (24940, 43)\n",
      "Diff Gene selected transcripts (7612, 14)\n",
      "ge selected transcripts (7612, 43)\n",
      "/aj_kupffer_control_young.vs.c57_kupffer_control_young.scatter.homer.txt\n",
      "ge all transcripts (24940, 43)\n",
      "Diff Gene selected transcripts (7652, 14)\n",
      "ge selected transcripts (7652, 43)\n",
      "/balbc_kupffer_control_young.vs.c57_kupffer_control_young.scatter.homer.txt\n",
      "ge all transcripts (24940, 43)\n",
      "Diff Gene selected transcripts (7659, 14)\n",
      "ge selected transcripts (7659, 43)\n"
     ]
    }
   ],
   "source": [
    "for comp, grep, in zip(comps, ids):\n",
    "    print(comp)\n",
    "    de, tpm, tpm_mat, tpm_mat_quant = import_homer_diffgene(\n",
    "        dataDirectory+'./differential/'+comp,\n",
    "        dataDirectory+'./expression/HOMER.rawTPM.txt',\n",
    "        gene_name_index=True)\n",
    "    \n",
    "    # extract columns\n",
    "    g0 = tpm_mat.columns.str.contains(grep[0])\n",
    "    g1 = tpm_mat.columns.str.contains(grep[1])\n",
    "    col = g0 | g1\n",
    "    \n",
    "    de['logtpm'] = np.log2(tpm_mat.loc[:, col].mean(1)+1)\n",
    "    de['log10p'] = -np.log10(de.padj + 10**(-50))\n",
    "    de['g0_mean'] = np.log2(tpm_mat.loc[:, g0].mean(1)+1)\n",
    "    de['g1_mean'] = np.log2(tpm_mat.loc[:, g1].mean(1)+1)\n",
    "       \n",
    "    # plot group by group scatter:\n",
    "    de_all = de\n",
    "    de_kc_spec = de.reindex(kc_list).dropna()\n",
    "    de_sig_fc1 = de.reindex(de.index[(de.padj < pthresh) & (np.abs(de.log2FoldChange) >= lfcthresh[0])])\n",
    "    \n",
    "    # genes up in group 1\n",
    "    de_sig_fc1_up = de_sig_fc1.index[de_sig_fc1.log2FoldChange >= lfcthresh[0]].to_list()\n",
    "    de_sig_fc1_dn = de_sig_fc1.index[de_sig_fc1.log2FoldChange <= -lfcthresh[0]].to_list()\n",
    "    \n",
    "    # find overlap\n",
    "    kc_up = set(de_sig_fc1_up).intersection(kc_list)\n",
    "    kc_dn = set(de_sig_fc1_dn).intersection(kc_list)\n",
    "    \n",
    "    # store overlap\n",
    "    strain_varying_kc_spec.extend(set(kc_up))\n",
    "    strain_varying_kc_spec.extend(set(kc_dn))"
   ]
  },
  {
   "cell_type": "code",
   "execution_count": 47,
   "id": "internal-arthur",
   "metadata": {},
   "outputs": [
    {
     "name": "stdout",
     "output_type": "stream",
     "text": [
      "303\n",
      "33\n"
     ]
    }
   ],
   "source": [
    "print(len(kc_list))\n",
    "print(len(set(strain_varying_kc_spec)))"
   ]
  },
  {
   "cell_type": "markdown",
   "id": "stupid-creation",
   "metadata": {},
   "source": [
    "# Barplots of strain specific genes"
   ]
  },
  {
   "cell_type": "code",
   "execution_count": 58,
   "id": "disciplinary-drinking",
   "metadata": {},
   "outputs": [],
   "source": [
    "groups = [[0,1],\n",
    "          [2,3],\n",
    "          [4,5]]\n",
    "\n",
    "group_labels = ['AJ',\n",
    "                'Balb/cJ',\n",
    "                'C57BL/6J']\n",
    "\n",
    "colors = ['#de2d26',\n",
    "          '#6baed6',\n",
    "          '#74c476']\n",
    "\n",
    "legend_elements = []\n",
    "for lab, col in  zip(group_labels, colors):\n",
    "    legend_elements.append(Patch(label=lab, color=col))"
   ]
  },
  {
   "cell_type": "code",
   "execution_count": 60,
   "id": "humanitarian-south",
   "metadata": {
    "scrolled": true
   },
   "outputs": [],
   "source": [
    "for gene in set(strain_varying_kc_spec):\n",
    "    fig, ax = plt.subplots(figsize=(1,1))\n",
    "    gene_list_bar_plot_illus([gene],\n",
    "                       tpm_mat,\n",
    "                       groups=groups,\n",
    "                       group_labels = group_labels,\n",
    "                       colors = colors,\n",
    "                       xticklabels=group_labels,\n",
    "                       title=gene,\n",
    "                       xlabel='',\n",
    "                       ylabel='',\n",
    "                       spacing=0.025,\n",
    "                       width = 0.10,\n",
    "                       ax=ax)\n",
    "    \n",
    "    # Hide the right and top spines\n",
    "    ax.spines['right'].set_visible(False)\n",
    "    ax.spines['top'].set_visible(False)\n",
    "    ax.get_legend().remove()\n",
    "    \n",
    "    ax.set_ylabel('TPM');\n",
    "\n",
    "    plt.savefig('./kc_identity_gene_barplots/%s_strain_kc_tpm_barplot.pdf' % gene,\n",
    "                bbox_inches='tight')\n",
    "    plt.close()"
   ]
  }
 ],
 "metadata": {
  "kernelspec": {
   "display_name": "dataviz",
   "language": "python",
   "name": "dataviz"
  },
  "language_info": {
   "codemirror_mode": {
    "name": "ipython",
    "version": 3
   },
   "file_extension": ".py",
   "mimetype": "text/x-python",
   "name": "python",
   "nbconvert_exporter": "python",
   "pygments_lexer": "ipython3",
   "version": "3.7.5"
  }
 },
 "nbformat": 4,
 "nbformat_minor": 5
}
