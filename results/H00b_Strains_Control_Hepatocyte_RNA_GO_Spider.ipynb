{
 "cells": [
  {
   "cell_type": "code",
   "execution_count": 14,
   "metadata": {},
   "outputs": [
    {
     "ename": "SyntaxError",
     "evalue": "invalid character in identifier (<ipython-input-14-800e4dd9c375>, line 43)",
     "output_type": "error",
     "traceback": [
      "\u001b[0;36m  File \u001b[0;32m\"<ipython-input-14-800e4dd9c375>\"\u001b[0;36m, line \u001b[0;32m43\u001b[0m\n\u001b[0;31m    rc(‘font’,**{‘family’:‘sans-serif’,‘sans-serif’:[‘Helvetica’]})\u001b[0m\n\u001b[0m            ^\u001b[0m\n\u001b[0;31mSyntaxError\u001b[0m\u001b[0;31m:\u001b[0m invalid character in identifier\n"
     ]
    }
   ],
   "source": [
    "### header ###\n",
    "__author__ = \"Hunter Bennett\"\n",
    "__license__ = \"BSD\"\n",
    "__email__ = \"hunter.r.bennett@gmail.com\"\n",
    "%load_ext autoreload\n",
    "%autoreload 2\n",
    "%matplotlib inline\n",
    "### imports ###\n",
    "import sys\n",
    "import os\n",
    "import re\n",
    "import glob\n",
    "import pandas as pd\n",
    "import numpy as np\n",
    "import matplotlib\n",
    "import matplotlib.pyplot as plt \n",
    "from matplotlib.patches import Patch\n",
    "import seaborn as sns\n",
    "\n",
    "# spider plot functions\n",
    "from matplotlib.patches import Circle, RegularPolygon\n",
    "from matplotlib.path import Path\n",
    "from matplotlib.projections.polar import PolarAxes\n",
    "from matplotlib.projections import register_projection\n",
    "from matplotlib.spines import Spine\n",
    "from matplotlib.transforms import Affine2D\n",
    "\n",
    "# clustering functions\n",
    "# cluster targets\n",
    "import scipy\n",
    "import scipy.cluster.hierarchy as sch\n",
    "import scipy.spatial.distance as dist\n",
    "\n",
    "# set plotting functions\n",
    "matplotlib.rcParams['savefig.dpi'] = 500\n",
    "sns.set(font_scale=1)\n",
    "sns.set_context('talk')\n",
    "sns.set_style('white')\n",
    "# get matplotlib to save readable fonts\n",
    "matplotlib.rcParams['pdf.fonttype'] = 42\n",
    "matplotlib.rcParams['ps.fonttype'] = 42\n",
    "from matplotlib import rc\n",
    "rc(‘font’, **{‘family’:‘sans-serif’,‘sans-serif’:[‘Helvetica’]})\n",
    "\n",
    "# import custom functions\n",
    "sys.path.insert(0, '/home/h1bennet/code/')\n",
    "from hbUtils import ngs_qc, quantile_normalize_df\n",
    "from homer_preprocessing import read_homer_gene_exp, import_homer_diffgene, pull_comparisons_get_diff\n",
    "from plotting_scripts import label_point, pca_rpkm_mat, get_diff_volcano, plot_exp_rpkm, gene_list_bar_plot"
   ]
  },
  {
   "cell_type": "code",
   "execution_count": 2,
   "metadata": {},
   "outputs": [],
   "source": [
    "# define functions\n",
    "def radar_factory(num_vars, frame='circle'):\n",
    "    \"\"\"\n",
    "    Create a radar chart with `num_vars` axes.\n",
    "\n",
    "    This function creates a RadarAxes projection and registers it.\n",
    "\n",
    "    Parameters\n",
    "    ----------\n",
    "    num_vars : int\n",
    "        Number of variables for radar chart.\n",
    "    frame : {'circle', 'polygon'}\n",
    "        Shape of frame surrounding axes.\n",
    "\n",
    "    \"\"\"\n",
    "    # calculate evenly-spaced axis angles\n",
    "    theta = np.linspace(0, 2*np.pi, num_vars, endpoint=False)\n",
    "\n",
    "    class RadarAxes(PolarAxes):\n",
    "\n",
    "        name = 'radar'\n",
    "        # use 1 line segment to connect specified points\n",
    "        RESOLUTION = 1\n",
    "\n",
    "        def __init__(self, *args, **kwargs):\n",
    "            super().__init__(*args, **kwargs)\n",
    "            # rotate plot such that the first axis is at the top\n",
    "            self.set_theta_zero_location('N')\n",
    "\n",
    "        def fill(self, *args, closed=True, **kwargs):\n",
    "            \"\"\"Override fill so that line is closed by default\"\"\"\n",
    "            return super().fill(closed=closed, *args, **kwargs)\n",
    "\n",
    "        def plot(self, *args, **kwargs):\n",
    "            \"\"\"Override plot so that line is closed by default\"\"\"\n",
    "            lines = super().plot(*args, **kwargs)\n",
    "            for line in lines:\n",
    "                self._close_line(line)\n",
    "\n",
    "        def _close_line(self, line):\n",
    "            x, y = line.get_data()\n",
    "            # FIXME: markers at x[0], y[0] get doubled-up\n",
    "            if x[0] != x[-1]:\n",
    "                x = np.append(x, x[0])\n",
    "                y = np.append(y, y[0])\n",
    "                line.set_data(x, y)\n",
    "\n",
    "        def set_varlabels(self, labels, fontsize=8):\n",
    "            self.set_thetagrids(np.degrees(theta), labels, fontsize=fontsize)\n",
    "\n",
    "        def _gen_axes_patch(self):\n",
    "            # The Axes patch must be centered at (0.5, 0.5) and of radius 0.5\n",
    "            # in axes coordinates.\n",
    "            if frame == 'circle':\n",
    "                return Circle((0.5, 0.5), 0.5)\n",
    "            elif frame == 'polygon':\n",
    "                return RegularPolygon((0.5, 0.5), num_vars,\n",
    "                                      radius=.5, edgecolor=\"k\")\n",
    "            else:\n",
    "                raise ValueError(\"Unknown value for 'frame': %s\" % frame)\n",
    "\n",
    "        def _gen_axes_spines(self):\n",
    "            if frame == 'circle':\n",
    "                return super()._gen_axes_spines()\n",
    "            elif frame == 'polygon':\n",
    "                # spine_type must be 'left'/'right'/'top'/'bottom'/'circle'.\n",
    "                spine = Spine(axes=self,\n",
    "                              spine_type='circle',\n",
    "                              path=Path.unit_regular_polygon(num_vars))\n",
    "                # unit_regular_polygon gives a polygon of radius 1 centered at\n",
    "                # (0, 0) but we want a polygon of radius 0.5 centered at (0.5,\n",
    "                # 0.5) in axes coordinates.\n",
    "                spine.set_transform(Affine2D().scale(.5).translate(.5, .5)\n",
    "                                    + self.transAxes)\n",
    "                return {'polar': spine}\n",
    "            else:\n",
    "                raise ValueError(\"Unknown value for 'frame': %s\" % frame)\n",
    "\n",
    "    register_projection(RadarAxes)\n",
    "    return theta"
   ]
  },
  {
   "cell_type": "code",
   "execution_count": 3,
   "metadata": {},
   "outputs": [],
   "source": [
    "workingDirectory = '/home/h1bennet/strains_rna/results/H00_Strains_Control_Hepatocyte_RNA/'\n",
    "dataDirectory = '/home/h1bennet/strains/data/RNA/control_lsec/'\n",
    "if not os.path.isdir(workingDirectory):\n",
    "    os.mkdir(workingDirectory)\n",
    "os.chdir(workingDirectory)\n"
   ]
  },
  {
   "cell_type": "markdown",
   "metadata": {},
   "source": [
    "# Import differential gene files for examination and plotting"
   ]
  },
  {
   "cell_type": "code",
   "execution_count": 4,
   "metadata": {},
   "outputs": [],
   "source": [
    "if not os.path.isdir('./gene_lists/'):\n",
    "    os.mkdir('./gene_lists')"
   ]
  },
  {
   "cell_type": "code",
   "execution_count": 5,
   "metadata": {},
   "outputs": [],
   "source": [
    "strains = ['aj', 'balb', 'c57']\n",
    "log2fc = 1\n",
    "padj = 0.05\n",
    "diffpath = ''"
   ]
  },
  {
   "cell_type": "code",
   "execution_count": 6,
   "metadata": {
    "scrolled": false
   },
   "outputs": [],
   "source": [
    "gene_list_dict ={}"
   ]
  },
  {
   "cell_type": "markdown",
   "metadata": {},
   "source": [
    "### Extract \"intersection\" and \"union\" gene sets"
   ]
  },
  {
   "cell_type": "code",
   "execution_count": 7,
   "metadata": {
    "scrolled": true
   },
   "outputs": [
    {
     "name": "stdout",
     "output_type": "stream",
     "text": [
      "./differential/c57_hepatocyte_control.vs.aj_hepatocyte_control.scatter.txt\n",
      "./differential/balbc_hepatocyte_control.vs.c57_hepatocyte_control.scatter.txt\n",
      "./differential/c57_hepatocyte_control.vs.balbc_hepatocyte_control.scatter.txt\n",
      "./differential/aj_hepatocyte_control.vs.c57_hepatocyte_control.scatter.txt\n",
      "./differential/balbc_hepatocyte_control.vs.aj_hepatocyte_control.scatter.txt\n",
      "./differential/aj_hepatocyte_control.vs.balbc_hepatocyte_control.scatter.txt\n",
      "./differential/c57_hepatocyte_control.vs.aj_hepatocyte_control.scatter.txt\n",
      "./differential/balbc_hepatocyte_control.vs.c57_hepatocyte_control.scatter.txt\n",
      "./differential/c57_hepatocyte_control.vs.balbc_hepatocyte_control.scatter.txt\n",
      "./differential/aj_hepatocyte_control.vs.c57_hepatocyte_control.scatter.txt\n",
      "./differential/balbc_hepatocyte_control.vs.aj_hepatocyte_control.scatter.txt\n",
      "./differential/aj_hepatocyte_control.vs.balbc_hepatocyte_control.scatter.txt\n",
      "./differential/c57_hepatocyte_control.vs.aj_hepatocyte_control.scatter.txt\n",
      "./differential/balbc_hepatocyte_control.vs.c57_hepatocyte_control.scatter.txt\n",
      "./differential/c57_hepatocyte_control.vs.balbc_hepatocyte_control.scatter.txt\n",
      "./differential/aj_hepatocyte_control.vs.c57_hepatocyte_control.scatter.txt\n",
      "./differential/balbc_hepatocyte_control.vs.aj_hepatocyte_control.scatter.txt\n",
      "./differential/aj_hepatocyte_control.vs.balbc_hepatocyte_control.scatter.txt\n"
     ]
    }
   ],
   "source": [
    "for strain in strains:\n",
    "    # initialize gene lists\n",
    "    g_intersect = set()\n",
    "    g_union = set()\n",
    "    for i in glob.glob('./differential/*control*.vs.*control*scatter.txt'):\n",
    "        print(i)\n",
    "        df = pd.read_csv(i,\n",
    "                 sep='\\t',\n",
    "                 index_col=0)\n",
    "\n",
    "        # select differential genes\n",
    "        # df = df.loc[~(df.chr.str.contains('chrX|chrY|ChrUn')), :]\n",
    "        sig_genes = df.index[(df['padj'] < padj) & (df['log2FoldChange'] <= -log2fc)].to_list()\n",
    "        \n",
    "        # add to sets\n",
    "        if len(g_union) == 0:\n",
    "            g_union = set(sig_genes)\n",
    "            g_intersect = set(sig_genes)\n",
    "        else:\n",
    "            g_union = g_union.union(sig_genes)\n",
    "            g_intersect = g_intersect.intersection(sig_genes)\n",
    "        \n",
    "        # print('union set length:', print(len(g_union)))\n",
    "        # print('intersection set length:', print(len(g_intersect)))\n",
    "    \n",
    "    # after getting union and intersection sets add to dict\n",
    "    gene_list_dict[strain+'_union'] = list(g_union)\n",
    "    gene_list_dict[strain+'_intersection'] = list(g_intersect)\n",
    "        "
   ]
  },
  {
   "cell_type": "markdown",
   "metadata": {},
   "source": [
    "### Write gene lists together for combined GO analysis"
   ]
  },
  {
   "cell_type": "code",
   "execution_count": 8,
   "metadata": {},
   "outputs": [],
   "source": [
    "meta_df = pd.DataFrame.from_dict(gene_list_dict, orient='index').T\n",
    "meta_df.to_csv('./gene_lists/all_hepatocyte_genes_fc_'+str(log2fc)+'_pval_'+str(padj)+'.csv',\n",
    "               # sep='',\n",
    "               index=False)"
   ]
  },
  {
   "cell_type": "markdown",
   "metadata": {},
   "source": [
    "### Try with homer\n",
    "HOMER is nice because it explicitly tests enrichment in all lists so that\n",
    "we know we are comparing the same test - metascape does filtering for top 25 or top 100.\n",
    "    \n",
    "    for i in *genes*txt; do findGO.pl $i mouse ${i/.txt/_go} -cpu 4; done"
   ]
  },
  {
   "cell_type": "markdown",
   "metadata": {},
   "source": [
    "### Read in go biological process terms"
   ]
  },
  {
   "cell_type": "code",
   "execution_count": 9,
   "metadata": {},
   "outputs": [],
   "source": [
    "df_dict = {}\n",
    "for i in np.sort(glob.glob('./gene_lists/*go/biological_process.txt')):\n",
    "    df = pd.read_csv(i, sep='\\t', index_col=0)\n",
    "    df_dict[i.split('/')[2].split('_hepatocyte')[0]] = df"
   ]
  },
  {
   "cell_type": "markdown",
   "metadata": {},
   "source": [
    "# extract subset of terms for spider plot\n",
    "Unbiased extraction of top three terms"
   ]
  },
  {
   "cell_type": "code",
   "execution_count": 10,
   "metadata": {},
   "outputs": [],
   "source": [
    "n=3\n",
    "top_terms = []\n",
    "for i in ['aj_union', 'balb_union', 'c57_union']:\n",
    "    top_terms.extend(df_dict[i].sort_values('logP', ascending=True).index.tolist()[:n])\n",
    "    \n",
    "top_terms_set = set(top_terms)"
   ]
  },
  {
   "cell_type": "markdown",
   "metadata": {},
   "source": [
    "# create DF with term IDs and scores"
   ]
  },
  {
   "cell_type": "code",
   "execution_count": 11,
   "metadata": {},
   "outputs": [],
   "source": [
    "df = df_dict['aj_union'].loc[top_terms_set, ['Term', 'logP']]\n",
    "df = df.merge(df_dict['balb_union'].loc[top_terms_set, ['logP']],\n",
    "              left_index=True,\n",
    "              right_index=True,\n",
    "              suffixes=('_aj', '_balb'))\n",
    "df = df.merge(df_dict['c57_union'].loc[top_terms_set, ['logP']],\n",
    "              left_index=True,\n",
    "              right_index=True,\n",
    "              suffixes=('', '_c57'))"
   ]
  },
  {
   "cell_type": "markdown",
   "metadata": {},
   "source": [
    "# cluster terms\n",
    "This makes a spider plot in which the strains specific functions are clustered together"
   ]
  },
  {
   "cell_type": "code",
   "execution_count": 12,
   "metadata": {},
   "outputs": [
    {
     "name": "stderr",
     "output_type": "stream",
     "text": [
      "/gpfs/data01/glasslab/home/h1bennet/.conda/envs/dataviz/lib/python3.7/site-packages/ipykernel_launcher.py:3: ClusterWarning: scipy.cluster: The symmetric non-negative hollow observation matrix looks suspiciously like an uncondensed distance matrix\n",
      "  This is separate from the ipykernel package so we can avoid doing imports until\n"
     ]
    },
    {
     "data": {
      "image/png": "[encoded data removed]",
      "text/plain": [
       "<Figure size 432x288 with 1 Axes>"
      ]
     },
     "metadata": {
      "needs_background": "light"
     },
     "output_type": "display_data"
    }
   ],
   "source": [
    "d2 = dist.pdist(df.iloc[:, 1:])\n",
    "D2 = dist.squareform(d2)\n",
    "Y2 = sch.linkage(D2, method='average', metric='euclidean') ### array-clustering metric - 'average', 'single', 'centroid', 'complete'\n",
    "Z2 = sch.dendrogram(Y2)"
   ]
  },
  {
   "cell_type": "markdown",
   "metadata": {},
   "source": [
    "### Make spider plot"
   ]
  },
  {
   "cell_type": "code",
   "execution_count": 13,
   "metadata": {},
   "outputs": [
    {
     "data": {
      "image/png": "[encoded data removed]",
      "text/plain": [
       "<Figure size 216x216 with 1 Axes>"
      ]
     },
     "metadata": {
      "needs_background": "light"
     },
     "output_type": "display_data"
    }
   ],
   "source": [
    "theta = radar_factory(df.shape[0], frame='polygon')\n",
    "fig, ax = plt.subplots(figsize=(3, 3),\n",
    "                       subplot_kw=dict(projection='radar'))\n",
    "\n",
    "ax.set_rgrids([10,20,30],\n",
    "              fontsize=8)\n",
    "\n",
    "# ax.set_title(title, weight='bold', size='medium', position=(0.5, 1.1),\n",
    "#              horizontalalignment='center', verticalalignment='center')\n",
    "colors = ['#e41a1c', '#377eb8', '#4daf4a']\n",
    "lists = ['logP_aj', 'logP_balb', 'logP']\n",
    "\n",
    "for color, logp_lists in zip(colors, lists):\n",
    "    ax.plot(theta,\n",
    "            -df[logp_lists].iloc[Z2['leaves']],\n",
    "            color=color,\n",
    "            linewidth=1,\n",
    "            marker='o',\n",
    "            markersize=5,\n",
    "            markerfacecolor='white')\n",
    "    ax.fill(theta,\n",
    "            -df[logp_lists].iloc[Z2['leaves']],\n",
    "            color=color,\n",
    "            alpha=0.25)\n",
    "ax.set_varlabels(df['Term'].iloc[Z2['leaves']],\n",
    "                 fontsize=8)\n",
    "\n",
    "plt.savefig('./figures/spider_plot_top_'+str(n)+'_terms.pdf',\n",
    "            sep='\\t')"
   ]
  },
  {
   "cell_type": "markdown",
   "metadata": {},
   "source": [
    "# Check whether bar plot is informative\n",
    "The best way to explain this information is unclear"
   ]
  },
  {
   "cell_type": "code",
   "execution_count": 19,
   "metadata": {},
   "outputs": [],
   "source": [
    "# # pivot to long format for use in seaborn\n",
    "# df_long = df.iloc[Z2['leaves'], :].melt(id_vars=['Term'])\n",
    "# df_long.value = -df_long.value\n",
    "\n",
    "# sns.catplot(x=\"value\",\n",
    "#             y=\"Term\",\n",
    "#             hue=\"variable\",\n",
    "#             kind=\"bar\",\n",
    "#             data=df_long)\n"
   ]
  },
  {
   "cell_type": "markdown",
   "metadata": {},
   "source": [
    "# Make with custom gene list\n",
    "Extract top 15 terms per cell type for manual examination"
   ]
  },
  {
   "cell_type": "code",
   "execution_count": 20,
   "metadata": {},
   "outputs": [],
   "source": [
    "n=15\n",
    "top_terms = []\n",
    "for i in ['aj_union', 'balb_union', 'c57_union']:\n",
    "    top_terms.extend(df_dict[i].sort_values('logP', ascending=True).index.tolist()[:n])\n",
    "    \n",
    "top_terms_set = set(top_terms)\n",
    "\n",
    "df = df_dict['aj_union'].loc[top_terms_set, ['Term', 'logP']]\n",
    "df = df.merge(df_dict['balb_union'].loc[top_terms_set, ['logP']],\n",
    "              left_index=True,\n",
    "              right_index=True,\n",
    "              suffixes=('_aj', '_balb'))\n",
    "df = df.merge(df_dict['c57_union'].loc[top_terms_set, ['logP']],\n",
    "              left_index=True,\n",
    "              right_index=True,\n",
    "              suffixes=('', '_c57'))"
   ]
  },
  {
   "cell_type": "markdown",
   "metadata": {},
   "source": [
    "Look at sorted term list and select terms of interest"
   ]
  },
  {
   "cell_type": "code",
   "execution_count": 23,
   "metadata": {
    "scrolled": true
   },
   "outputs": [
    {
     "data": {
      "text/html": [
       "<div>\n",
       "<style scoped>\n",
       "    .dataframe tbody tr th:only-of-type {\n",
       "        vertical-align: middle;\n",
       "    }\n",
       "\n",
       "    .dataframe tbody tr th {\n",
       "        vertical-align: top;\n",
       "    }\n",
       "\n",
       "    .dataframe thead th {\n",
       "        text-align: right;\n",
       "    }\n",
       "</style>\n",
       "<table border=\"1\" class=\"dataframe\">\n",
       "  <thead>\n",
       "    <tr style=\"text-align: right;\">\n",
       "      <th></th>\n",
       "      <th>Term</th>\n",
       "      <th>logP_aj</th>\n",
       "      <th>logP_balb</th>\n",
       "      <th>logP</th>\n",
       "    </tr>\n",
       "    <tr>\n",
       "      <th>TermID</th>\n",
       "      <th></th>\n",
       "      <th></th>\n",
       "      <th></th>\n",
       "      <th></th>\n",
       "    </tr>\n",
       "  </thead>\n",
       "  <tbody>\n",
       "    <tr>\n",
       "      <th>GO:0044281</th>\n",
       "      <td>small molecule metabolic process</td>\n",
       "      <td>-44.816</td>\n",
       "      <td>-17.934</td>\n",
       "      <td>-24.321</td>\n",
       "    </tr>\n",
       "    <tr>\n",
       "      <th>GO:0006629</th>\n",
       "      <td>lipid metabolic process</td>\n",
       "      <td>-43.606</td>\n",
       "      <td>-6.493</td>\n",
       "      <td>-18.809</td>\n",
       "    </tr>\n",
       "    <tr>\n",
       "      <th>GO:0008202</th>\n",
       "      <td>steroid metabolic process</td>\n",
       "      <td>-27.859</td>\n",
       "      <td>-5.051</td>\n",
       "      <td>-10.807</td>\n",
       "    </tr>\n",
       "    <tr>\n",
       "      <th>GO:0008152</th>\n",
       "      <td>metabolic process</td>\n",
       "      <td>-27.015</td>\n",
       "      <td>-12.719</td>\n",
       "      <td>-14.775</td>\n",
       "    </tr>\n",
       "    <tr>\n",
       "      <th>GO:0055114</th>\n",
       "      <td>oxidation-reduction process</td>\n",
       "      <td>-26.395</td>\n",
       "      <td>-15.832</td>\n",
       "      <td>-12.526</td>\n",
       "    </tr>\n",
       "    <tr>\n",
       "      <th>GO:0006082</th>\n",
       "      <td>organic acid metabolic process</td>\n",
       "      <td>-24.794</td>\n",
       "      <td>-12.152</td>\n",
       "      <td>-18.462</td>\n",
       "    </tr>\n",
       "    <tr>\n",
       "      <th>GO:1901615</th>\n",
       "      <td>organic hydroxy compound metabolic process</td>\n",
       "      <td>-23.161</td>\n",
       "      <td>-3.449</td>\n",
       "      <td>-9.642</td>\n",
       "    </tr>\n",
       "    <tr>\n",
       "      <th>GO:0044255</th>\n",
       "      <td>cellular lipid metabolic process</td>\n",
       "      <td>-22.528</td>\n",
       "      <td>-3.085</td>\n",
       "      <td>-11.203</td>\n",
       "    </tr>\n",
       "    <tr>\n",
       "      <th>GO:1902652</th>\n",
       "      <td>secondary alcohol metabolic process</td>\n",
       "      <td>-22.403</td>\n",
       "      <td>-5.387</td>\n",
       "      <td>-6.048</td>\n",
       "    </tr>\n",
       "    <tr>\n",
       "      <th>GO:0016125</th>\n",
       "      <td>sterol metabolic process</td>\n",
       "      <td>-21.752</td>\n",
       "      <td>-5.155</td>\n",
       "      <td>-5.773</td>\n",
       "    </tr>\n",
       "    <tr>\n",
       "      <th>GO:0008610</th>\n",
       "      <td>lipid biosynthetic process</td>\n",
       "      <td>-21.139</td>\n",
       "      <td>-5.811</td>\n",
       "      <td>-8.380</td>\n",
       "    </tr>\n",
       "    <tr>\n",
       "      <th>GO:0008203</th>\n",
       "      <td>cholesterol metabolic process</td>\n",
       "      <td>-20.218</td>\n",
       "      <td>-5.593</td>\n",
       "      <td>-6.293</td>\n",
       "    </tr>\n",
       "    <tr>\n",
       "      <th>GO:0016126</th>\n",
       "      <td>sterol biosynthetic process</td>\n",
       "      <td>-20.215</td>\n",
       "      <td>-2.820</td>\n",
       "      <td>-4.322</td>\n",
       "    </tr>\n",
       "    <tr>\n",
       "      <th>GO:0042221</th>\n",
       "      <td>response to chemical</td>\n",
       "      <td>-19.821</td>\n",
       "      <td>-7.307</td>\n",
       "      <td>-25.864</td>\n",
       "    </tr>\n",
       "    <tr>\n",
       "      <th>GO:0071704</th>\n",
       "      <td>organic substance metabolic process</td>\n",
       "      <td>-19.524</td>\n",
       "      <td>-9.060</td>\n",
       "      <td>-11.851</td>\n",
       "    </tr>\n",
       "    <tr>\n",
       "      <th>GO:0044283</th>\n",
       "      <td>small molecule biosynthetic process</td>\n",
       "      <td>-18.383</td>\n",
       "      <td>-13.151</td>\n",
       "      <td>-7.774</td>\n",
       "    </tr>\n",
       "    <tr>\n",
       "      <th>GO:0032787</th>\n",
       "      <td>monocarboxylic acid metabolic process</td>\n",
       "      <td>-14.986</td>\n",
       "      <td>-4.382</td>\n",
       "      <td>-15.698</td>\n",
       "    </tr>\n",
       "    <tr>\n",
       "      <th>GO:0070887</th>\n",
       "      <td>cellular response to chemical stimulus</td>\n",
       "      <td>-12.523</td>\n",
       "      <td>-5.843</td>\n",
       "      <td>-18.278</td>\n",
       "    </tr>\n",
       "    <tr>\n",
       "      <th>GO:0043436</th>\n",
       "      <td>oxoacid metabolic process</td>\n",
       "      <td>-11.680</td>\n",
       "      <td>-6.674</td>\n",
       "      <td>-16.086</td>\n",
       "    </tr>\n",
       "    <tr>\n",
       "      <th>GO:0019752</th>\n",
       "      <td>carboxylic acid metabolic process</td>\n",
       "      <td>-11.235</td>\n",
       "      <td>-6.324</td>\n",
       "      <td>-15.984</td>\n",
       "    </tr>\n",
       "    <tr>\n",
       "      <th>GO:0010033</th>\n",
       "      <td>response to organic substance</td>\n",
       "      <td>-8.307</td>\n",
       "      <td>-4.570</td>\n",
       "      <td>-17.080</td>\n",
       "    </tr>\n",
       "    <tr>\n",
       "      <th>GO:0009725</th>\n",
       "      <td>response to hormone</td>\n",
       "      <td>-8.115</td>\n",
       "      <td>-1.872</td>\n",
       "      <td>-16.828</td>\n",
       "    </tr>\n",
       "    <tr>\n",
       "      <th>GO:0071310</th>\n",
       "      <td>cellular response to organic substance</td>\n",
       "      <td>-5.772</td>\n",
       "      <td>-2.989</td>\n",
       "      <td>-15.524</td>\n",
       "    </tr>\n",
       "    <tr>\n",
       "      <th>GO:0010941</th>\n",
       "      <td>regulation of cell death</td>\n",
       "      <td>-3.550</td>\n",
       "      <td>-2.343</td>\n",
       "      <td>-14.992</td>\n",
       "    </tr>\n",
       "    <tr>\n",
       "      <th>GO:0009893</th>\n",
       "      <td>positive regulation of metabolic process</td>\n",
       "      <td>-3.470</td>\n",
       "      <td>-0.941</td>\n",
       "      <td>-15.309</td>\n",
       "    </tr>\n",
       "    <tr>\n",
       "      <th>GO:0031330</th>\n",
       "      <td>negative regulation of cellular catabolic process</td>\n",
       "      <td>-1.963</td>\n",
       "      <td>-14.460</td>\n",
       "      <td>-1.144</td>\n",
       "    </tr>\n",
       "    <tr>\n",
       "      <th>GO:0009895</th>\n",
       "      <td>negative regulation of catabolic process</td>\n",
       "      <td>-1.534</td>\n",
       "      <td>-12.501</td>\n",
       "      <td>-1.372</td>\n",
       "    </tr>\n",
       "    <tr>\n",
       "      <th>GO:0031329</th>\n",
       "      <td>regulation of cellular catabolic process</td>\n",
       "      <td>-1.525</td>\n",
       "      <td>-12.785</td>\n",
       "      <td>-4.000</td>\n",
       "    </tr>\n",
       "    <tr>\n",
       "      <th>GO:0048518</th>\n",
       "      <td>positive regulation of biological process</td>\n",
       "      <td>-1.467</td>\n",
       "      <td>-1.399</td>\n",
       "      <td>-14.830</td>\n",
       "    </tr>\n",
       "    <tr>\n",
       "      <th>GO:0061077</th>\n",
       "      <td>chaperone-mediated protein folding</td>\n",
       "      <td>-0.903</td>\n",
       "      <td>-13.139</td>\n",
       "      <td>-3.281</td>\n",
       "    </tr>\n",
       "    <tr>\n",
       "      <th>GO:0006950</th>\n",
       "      <td>response to stress</td>\n",
       "      <td>-0.859</td>\n",
       "      <td>-11.558</td>\n",
       "      <td>-6.708</td>\n",
       "    </tr>\n",
       "    <tr>\n",
       "      <th>GO:0035967</th>\n",
       "      <td>cellular response to topologically incorrect p...</td>\n",
       "      <td>-0.661</td>\n",
       "      <td>-10.888</td>\n",
       "      <td>-3.920</td>\n",
       "    </tr>\n",
       "    <tr>\n",
       "      <th>GO:0006986</th>\n",
       "      <td>response to unfolded protein</td>\n",
       "      <td>-0.562</td>\n",
       "      <td>-12.156</td>\n",
       "      <td>-3.441</td>\n",
       "    </tr>\n",
       "    <tr>\n",
       "      <th>GO:0035966</th>\n",
       "      <td>response to topologically incorrect protein</td>\n",
       "      <td>-0.456</td>\n",
       "      <td>-13.039</td>\n",
       "      <td>-2.903</td>\n",
       "    </tr>\n",
       "    <tr>\n",
       "      <th>GO:0006457</th>\n",
       "      <td>protein folding</td>\n",
       "      <td>-0.240</td>\n",
       "      <td>-19.756</td>\n",
       "      <td>-1.734</td>\n",
       "    </tr>\n",
       "    <tr>\n",
       "      <th>GO:0042026</th>\n",
       "      <td>protein refolding</td>\n",
       "      <td>0.000</td>\n",
       "      <td>-13.746</td>\n",
       "      <td>-3.734</td>\n",
       "    </tr>\n",
       "  </tbody>\n",
       "</table>\n",
       "</div>"
      ],
      "text/plain": [
       "                                                         Term  logP_aj  \\\n",
       "TermID                                                                   \n",
       "GO:0044281                   small molecule metabolic process  -44.816   \n",
       "GO:0006629                            lipid metabolic process  -43.606   \n",
       "GO:0008202                          steroid metabolic process  -27.859   \n",
       "GO:0008152                                  metabolic process  -27.015   \n",
       "GO:0055114                        oxidation-reduction process  -26.395   \n",
       "GO:0006082                     organic acid metabolic process  -24.794   \n",
       "GO:1901615         organic hydroxy compound metabolic process  -23.161   \n",
       "GO:0044255                   cellular lipid metabolic process  -22.528   \n",
       "GO:1902652                secondary alcohol metabolic process  -22.403   \n",
       "GO:0016125                           sterol metabolic process  -21.752   \n",
       "GO:0008610                         lipid biosynthetic process  -21.139   \n",
       "GO:0008203                      cholesterol metabolic process  -20.218   \n",
       "GO:0016126                        sterol biosynthetic process  -20.215   \n",
       "GO:0042221                               response to chemical  -19.821   \n",
       "GO:0071704                organic substance metabolic process  -19.524   \n",
       "GO:0044283                small molecule biosynthetic process  -18.383   \n",
       "GO:0032787              monocarboxylic acid metabolic process  -14.986   \n",
       "GO:0070887             cellular response to chemical stimulus  -12.523   \n",
       "GO:0043436                          oxoacid metabolic process  -11.680   \n",
       "GO:0019752                  carboxylic acid metabolic process  -11.235   \n",
       "GO:0010033                      response to organic substance   -8.307   \n",
       "GO:0009725                                response to hormone   -8.115   \n",
       "GO:0071310             cellular response to organic substance   -5.772   \n",
       "GO:0010941                           regulation of cell death   -3.550   \n",
       "GO:0009893           positive regulation of metabolic process   -3.470   \n",
       "GO:0031330  negative regulation of cellular catabolic process   -1.963   \n",
       "GO:0009895           negative regulation of catabolic process   -1.534   \n",
       "GO:0031329           regulation of cellular catabolic process   -1.525   \n",
       "GO:0048518          positive regulation of biological process   -1.467   \n",
       "GO:0061077                 chaperone-mediated protein folding   -0.903   \n",
       "GO:0006950                                 response to stress   -0.859   \n",
       "GO:0035967  cellular response to topologically incorrect p...   -0.661   \n",
       "GO:0006986                       response to unfolded protein   -0.562   \n",
       "GO:0035966        response to topologically incorrect protein   -0.456   \n",
       "GO:0006457                                    protein folding   -0.240   \n",
       "GO:0042026                                  protein refolding    0.000   \n",
       "\n",
       "            logP_balb    logP  \n",
       "TermID                         \n",
       "GO:0044281    -17.934 -24.321  \n",
       "GO:0006629     -6.493 -18.809  \n",
       "GO:0008202     -5.051 -10.807  \n",
       "GO:0008152    -12.719 -14.775  \n",
       "GO:0055114    -15.832 -12.526  \n",
       "GO:0006082    -12.152 -18.462  \n",
       "GO:1901615     -3.449  -9.642  \n",
       "GO:0044255     -3.085 -11.203  \n",
       "GO:1902652     -5.387  -6.048  \n",
       "GO:0016125     -5.155  -5.773  \n",
       "GO:0008610     -5.811  -8.380  \n",
       "GO:0008203     -5.593  -6.293  \n",
       "GO:0016126     -2.820  -4.322  \n",
       "GO:0042221     -7.307 -25.864  \n",
       "GO:0071704     -9.060 -11.851  \n",
       "GO:0044283    -13.151  -7.774  \n",
       "GO:0032787     -4.382 -15.698  \n",
       "GO:0070887     -5.843 -18.278  \n",
       "GO:0043436     -6.674 -16.086  \n",
       "GO:0019752     -6.324 -15.984  \n",
       "GO:0010033     -4.570 -17.080  \n",
       "GO:0009725     -1.872 -16.828  \n",
       "GO:0071310     -2.989 -15.524  \n",
       "GO:0010941     -2.343 -14.992  \n",
       "GO:0009893     -0.941 -15.309  \n",
       "GO:0031330    -14.460  -1.144  \n",
       "GO:0009895    -12.501  -1.372  \n",
       "GO:0031329    -12.785  -4.000  \n",
       "GO:0048518     -1.399 -14.830  \n",
       "GO:0061077    -13.139  -3.281  \n",
       "GO:0006950    -11.558  -6.708  \n",
       "GO:0035967    -10.888  -3.920  \n",
       "GO:0006986    -12.156  -3.441  \n",
       "GO:0035966    -13.039  -2.903  \n",
       "GO:0006457    -19.756  -1.734  \n",
       "GO:0042026    -13.746  -3.734  "
      ]
     },
     "execution_count": 23,
     "metadata": {},
     "output_type": "execute_result"
    }
   ],
   "source": [
    "df.sort_values('logP_aj').round(3)"
   ]
  },
  {
   "cell_type": "markdown",
   "metadata": {},
   "source": [
    "## Select terms"
   ]
  },
  {
   "cell_type": "code",
   "execution_count": 35,
   "metadata": {},
   "outputs": [],
   "source": [
    "go_list = ['GO:0044281', 'GO:0006629', 'GO:0010941',\n",
    "           'GO:0006457', 'GO:0055114', 'GO:0031330',\n",
    "           'GO:0006629', 'GO:0008202', 'GO:0044255']\n",
    "\n",
    "# extract merged DF\n",
    "df = df_dict['aj_union'].loc[go_list, ['Term', 'logP']]\n",
    "df = df.merge(df_dict['balb_union'].loc[go_list, ['logP']],\n",
    "              left_index=True,\n",
    "              right_index=True,\n",
    "              suffixes=('_aj', '_balb'))\n",
    "df = df.merge(df_dict['c57_union'].loc[go_list, ['logP']],\n",
    "              left_index=True,\n",
    "              right_index=True,\n",
    "              suffixes=('', '_c57'))\n",
    "\n",
    "df = df.drop_duplicates()"
   ]
  },
  {
   "cell_type": "markdown",
   "metadata": {},
   "source": [
    "# cluster terms\n",
    "This makes a spider plot in which the strains specific functions are clustered together"
   ]
  },
  {
   "cell_type": "code",
   "execution_count": 37,
   "metadata": {},
   "outputs": [
    {
     "name": "stderr",
     "output_type": "stream",
     "text": [
      "/gpfs/data01/glasslab/home/h1bennet/.conda/envs/dataviz/lib/python3.7/site-packages/ipykernel_launcher.py:3: ClusterWarning: scipy.cluster: The symmetric non-negative hollow observation matrix looks suspiciously like an uncondensed distance matrix\n",
      "  This is separate from the ipykernel package so we can avoid doing imports until\n"
     ]
    },
    {
     "data": {
      "image/png": "[encoded data removed]",
      "text/plain": [
       "<Figure size 432x288 with 1 Axes>"
      ]
     },
     "metadata": {
      "needs_background": "light"
     },
     "output_type": "display_data"
    }
   ],
   "source": [
    "d2 = dist.pdist(df.iloc[:, 1:])\n",
    "D2 = dist.squareform(d2)\n",
    "Y2 = sch.linkage(D2, method='average', metric='euclidean') ### array-clustering metric - 'average', 'single', 'centroid', 'complete'\n",
    "Z2 = sch.dendrogram(Y2)"
   ]
  },
  {
   "cell_type": "code",
   "execution_count": 38,
   "metadata": {},
   "outputs": [
    {
     "data": {
      "image/png": "[encoded data removed]",
      "text/plain": [
       "<Figure size 216x216 with 1 Axes>"
      ]
     },
     "metadata": {
      "needs_background": "light"
     },
     "output_type": "display_data"
    }
   ],
   "source": [
    "theta = radar_factory(df.shape[0], frame='polygon')\n",
    "fig, ax = plt.subplots(figsize=(3, 3),\n",
    "                       subplot_kw=dict(projection='radar'))\n",
    "\n",
    "ax.set_rgrids([10,20,30],\n",
    "              fontsize=8)\n",
    "\n",
    "# ax.set_title(title, weight='bold', size='medium', position=(0.5, 1.1),\n",
    "#              horizontalalignment='center', verticalalignment='center')\n",
    "colors = ['#e41a1c', '#377eb8', '#4daf4a']\n",
    "lists = ['logP_aj', 'logP_balb', 'logP']\n",
    "\n",
    "for color, logp_lists in zip(colors, lists):\n",
    "    ax.plot(theta,\n",
    "            -df[logp_lists].iloc[Z2['leaves']],\n",
    "            color=color,\n",
    "            linewidth=1,\n",
    "            marker='o',\n",
    "            markersize=5,\n",
    "            markerfacecolor='white')\n",
    "    ax.fill(theta,\n",
    "            -df[logp_lists].iloc[Z2['leaves']],\n",
    "            color=color,\n",
    "            alpha=0.25)\n",
    "ax.set_varlabels(df['Term'].iloc[Z2['leaves']],\n",
    "                 fontsize=8)\n",
    "\n",
    "plt.savefig('./figures/spider_plot_curated_terms.pdf',sep='\\t')"
   ]
  },
  {
   "cell_type": "code",
   "execution_count": null,
   "metadata": {},
   "outputs": [],
   "source": []
  },
  {
   "cell_type": "code",
   "execution_count": null,
   "metadata": {},
   "outputs": [],
   "source": []
  }
 ],
 "metadata": {
  "kernelspec": {
   "display_name": "dataviz",
   "language": "python",
   "name": "dataviz"
  },
  "language_info": {
   "codemirror_mode": {
    "name": "ipython",
    "version": 3
   },
   "file_extension": ".py",
   "mimetype": "text/x-python",
   "name": "python",
   "nbconvert_exporter": "python",
   "pygments_lexer": "ipython3",
   "version": "3.7.5"
  }
 },
 "nbformat": 4,
 "nbformat_minor": 2
}
