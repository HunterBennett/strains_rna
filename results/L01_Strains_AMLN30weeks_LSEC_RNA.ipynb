{
 "cells": [
  {
   "cell_type": "code",
   "execution_count": 12,
   "metadata": {},
   "outputs": [
    {
     "name": "stdout",
     "output_type": "stream",
     "text": [
      "The autoreload extension is already loaded. To reload it, use:\n",
      "  %reload_ext autoreload\n"
     ]
    }
   ],
   "source": [
    "### header ###\n",
    "__author__ = \"Hunter Bennett\"\n",
    "__license__ = \"BSD\"\n",
    "__email__ = \"hunter.r.bennett@gmail.com\"\n",
    "%load_ext autoreload\n",
    "%autoreload 2\n",
    "%matplotlib inline\n",
    "### imports ###\n",
    "import sys\n",
    "import os\n",
    "import re\n",
    "import glob\n",
    "import pandas as pd\n",
    "import numpy as np\n",
    "import matplotlib\n",
    "import matplotlib.pyplot as plt \n",
    "import seaborn as sns\n",
    "\n",
    "matplotlib.rcParams['savefig.dpi'] = 200\n",
    "sys.setrecursionlimit(3000)\n",
    "sns.set(font_scale=1)\n",
    "sns.set_context('talk')\n",
    "sns.set_style('white')\n",
    "\n",
    "# import custom functions\n",
    "sys.path.insert(0, '/home/h1bennet/code/')\n",
    "from hbUtils import ngs_qc, quantile_normalize_df\n",
    "from homer_preprocessing import read_homer_gene_exp, import_homer_diffgene, pull_comparisons_get_diff\n",
    "from plotting_scripts import label_point, pca_rpkm_mat, get_diff_volcano, plot_exp_rpkm, gene_list_bar_plot"
   ]
  },
  {
   "cell_type": "code",
   "execution_count": 13,
   "metadata": {},
   "outputs": [],
   "source": [
    "workingDirectory = '/home/h1bennet/strains_rna/results/00_Strains_AMLN30weeks_LSEC_RNA/'\n",
    "dataDirectory = '/home/h1bennet/strains/data/RNA/AMLN_30week_lsec/'\n",
    "if not os.path.isdir(workingDirectory):\n",
    "    os.mkdir(workingDirectory)\n",
    "os.chdir(workingDirectory)\n"
   ]
  },
  {
   "cell_type": "markdown",
   "metadata": {},
   "source": [
    "# Check qc stats"
   ]
  },
  {
   "cell_type": "code",
   "execution_count": 14,
   "metadata": {},
   "outputs": [
    {
     "name": "stdout",
     "output_type": "stream",
     "text": [
      "/home/h1bennet/strains/data/RNA/AMLN_30week_lsec//\n",
      "./AMLN_30week_lsec_qc/\n"
     ]
    },
    {
     "data": {
      "text/plain": [
       "<Figure size 432x288 with 0 Axes>"
      ]
     },
     "metadata": {},
     "output_type": "display_data"
    }
   ],
   "source": [
    "qc = ngs_qc(dataDirectory)"
   ]
  },
  {
   "cell_type": "code",
   "execution_count": 15,
   "metadata": {},
   "outputs": [
    {
     "data": {
      "text/html": [
       "<div>\n",
       "<style scoped>\n",
       "    .dataframe tbody tr th:only-of-type {\n",
       "        vertical-align: middle;\n",
       "    }\n",
       "\n",
       "    .dataframe tbody tr th {\n",
       "        vertical-align: top;\n",
       "    }\n",
       "\n",
       "    .dataframe thead th {\n",
       "        text-align: right;\n",
       "    }\n",
       "</style>\n",
       "<table border=\"1\" class=\"dataframe\">\n",
       "  <thead>\n",
       "    <tr style=\"text-align: right;\">\n",
       "      <th></th>\n",
       "      <th>uniquePositions</th>\n",
       "      <th>fragmentLengthEstimate</th>\n",
       "      <th>tagsPerBP</th>\n",
       "      <th>clonality</th>\n",
       "      <th>GC_Content</th>\n",
       "      <th>totalReads</th>\n",
       "      <th>uniquelyMappedReads</th>\n",
       "      <th>multiMappedReads</th>\n",
       "      <th>frac_unmappedReads_mismatch</th>\n",
       "      <th>frac_unmappedReads_short</th>\n",
       "      <th>frac_unmappedReads_other</th>\n",
       "      <th>uniquelyMappedFraction</th>\n",
       "      <th>mappedFraction</th>\n",
       "    </tr>\n",
       "  </thead>\n",
       "  <tbody>\n",
       "    <tr>\n",
       "      <th>NCoRWT_M_LSEC_RNA_polyA_AMLNDiet30weeks_JSSTDT_LN144B_JSS_l20170916_GATCAG</th>\n",
       "      <td>7668460.0</td>\n",
       "      <td>75.0</td>\n",
       "      <td>0.004833</td>\n",
       "      <td>1.715</td>\n",
       "      <td>0.48</td>\n",
       "      <td>14347153.0</td>\n",
       "      <td>13152139.0</td>\n",
       "      <td>914684.0</td>\n",
       "      <td>0.0</td>\n",
       "      <td>0.0079</td>\n",
       "      <td>0.0042</td>\n",
       "      <td>0.916707</td>\n",
       "      <td>0.9879</td>\n",
       "    </tr>\n",
       "    <tr>\n",
       "      <th>NCoRWT_M_LSEC_RNA_polyA_AMLNDiet30weeks_JSSTDT_LN155A_JSS_l20170916_TACAGC</th>\n",
       "      <td>6889131.0</td>\n",
       "      <td>75.0</td>\n",
       "      <td>0.005198</td>\n",
       "      <td>2.054</td>\n",
       "      <td>0.47</td>\n",
       "      <td>15372805.0</td>\n",
       "      <td>14148141.0</td>\n",
       "      <td>922889.0</td>\n",
       "      <td>0.0</td>\n",
       "      <td>0.0089</td>\n",
       "      <td>0.0044</td>\n",
       "      <td>0.920336</td>\n",
       "      <td>0.9867</td>\n",
       "    </tr>\n",
       "    <tr>\n",
       "      <th>aj_M_LSEC_RNA_polyA_AMLNDiet30weeks_JSSTDT_AJ6A_JSS_l20170916_TCCCGA</th>\n",
       "      <td>7454501.0</td>\n",
       "      <td>75.0</td>\n",
       "      <td>0.005969</td>\n",
       "      <td>2.179</td>\n",
       "      <td>-1.00</td>\n",
       "      <td>17582328.0</td>\n",
       "      <td>16243424.0</td>\n",
       "      <td>993571.0</td>\n",
       "      <td>0.0</td>\n",
       "      <td>0.0099</td>\n",
       "      <td>0.0046</td>\n",
       "      <td>0.923849</td>\n",
       "      <td>0.9855</td>\n",
       "    </tr>\n",
       "    <tr>\n",
       "      <th>aj_M_LSEC_RNA_polyA_AMLNDiet30weeks_JSSTDT_AJ6D_JSS_l20170916_GTCCGC</th>\n",
       "      <td>6543197.0</td>\n",
       "      <td>75.0</td>\n",
       "      <td>0.005472</td>\n",
       "      <td>2.276</td>\n",
       "      <td>-1.00</td>\n",
       "      <td>16045403.0</td>\n",
       "      <td>14893831.0</td>\n",
       "      <td>878893.0</td>\n",
       "      <td>0.0</td>\n",
       "      <td>0.0084</td>\n",
       "      <td>0.0039</td>\n",
       "      <td>0.928230</td>\n",
       "      <td>0.9877</td>\n",
       "    </tr>\n",
       "    <tr>\n",
       "      <th>balbc_M_LSEC_RNA_polyA_AMLNDiet30weeks_JSSTDT_BALB6A_JSS_l20170916_CAACTA</th>\n",
       "      <td>5819852.0</td>\n",
       "      <td>75.0</td>\n",
       "      <td>0.005672</td>\n",
       "      <td>2.653</td>\n",
       "      <td>-1.00</td>\n",
       "      <td>16610404.0</td>\n",
       "      <td>15437423.0</td>\n",
       "      <td>789404.0</td>\n",
       "      <td>0.0</td>\n",
       "      <td>0.0107</td>\n",
       "      <td>0.0044</td>\n",
       "      <td>0.929383</td>\n",
       "      <td>0.9849</td>\n",
       "    </tr>\n",
       "    <tr>\n",
       "      <th>balbc_M_LSEC_RNA_polyA_AMLNDiet30weeks_JSSTDT_BALB6B_JSS_l20170916_CACCGG</th>\n",
       "      <td>6394090.0</td>\n",
       "      <td>75.0</td>\n",
       "      <td>0.006157</td>\n",
       "      <td>2.620</td>\n",
       "      <td>-1.00</td>\n",
       "      <td>18435897.0</td>\n",
       "      <td>16755059.0</td>\n",
       "      <td>993687.0</td>\n",
       "      <td>0.0</td>\n",
       "      <td>0.0226</td>\n",
       "      <td>0.0048</td>\n",
       "      <td>0.908828</td>\n",
       "      <td>0.9726</td>\n",
       "    </tr>\n",
       "    <tr>\n",
       "      <th>balbc_M_LSEC_RNA_polyA_AMLNDiet30weeks_JSSTDT_Balb3a_JSS_l160928</th>\n",
       "      <td>8858428.0</td>\n",
       "      <td>75.0</td>\n",
       "      <td>0.007093</td>\n",
       "      <td>2.179</td>\n",
       "      <td>-1.00</td>\n",
       "      <td>21511335.0</td>\n",
       "      <td>19299306.0</td>\n",
       "      <td>1835295.0</td>\n",
       "      <td>0.0</td>\n",
       "      <td>0.0041</td>\n",
       "      <td>0.0052</td>\n",
       "      <td>0.897169</td>\n",
       "      <td>0.9907</td>\n",
       "    </tr>\n",
       "    <tr>\n",
       "      <th>balbc_M_LSEC_RNA_polyA_AMLNDiet30weeks_JSSTDT_Balb3d_JSS_l160928</th>\n",
       "      <td>9780858.0</td>\n",
       "      <td>75.0</td>\n",
       "      <td>0.009892</td>\n",
       "      <td>2.753</td>\n",
       "      <td>-1.00</td>\n",
       "      <td>30005809.0</td>\n",
       "      <td>26922569.0</td>\n",
       "      <td>2519247.0</td>\n",
       "      <td>0.0</td>\n",
       "      <td>0.0046</td>\n",
       "      <td>0.0046</td>\n",
       "      <td>0.897245</td>\n",
       "      <td>0.9908</td>\n",
       "    </tr>\n",
       "  </tbody>\n",
       "</table>\n",
       "</div>"
      ],
      "text/plain": [
       "                                                    uniquePositions  \\\n",
       "NCoRWT_M_LSEC_RNA_polyA_AMLNDiet30weeks_JSSTDT_...        7668460.0   \n",
       "NCoRWT_M_LSEC_RNA_polyA_AMLNDiet30weeks_JSSTDT_...        6889131.0   \n",
       "aj_M_LSEC_RNA_polyA_AMLNDiet30weeks_JSSTDT_AJ6A...        7454501.0   \n",
       "aj_M_LSEC_RNA_polyA_AMLNDiet30weeks_JSSTDT_AJ6D...        6543197.0   \n",
       "balbc_M_LSEC_RNA_polyA_AMLNDiet30weeks_JSSTDT_B...        5819852.0   \n",
       "balbc_M_LSEC_RNA_polyA_AMLNDiet30weeks_JSSTDT_B...        6394090.0   \n",
       "balbc_M_LSEC_RNA_polyA_AMLNDiet30weeks_JSSTDT_B...        8858428.0   \n",
       "balbc_M_LSEC_RNA_polyA_AMLNDiet30weeks_JSSTDT_B...        9780858.0   \n",
       "\n",
       "                                                    fragmentLengthEstimate  \\\n",
       "NCoRWT_M_LSEC_RNA_polyA_AMLNDiet30weeks_JSSTDT_...                    75.0   \n",
       "NCoRWT_M_LSEC_RNA_polyA_AMLNDiet30weeks_JSSTDT_...                    75.0   \n",
       "aj_M_LSEC_RNA_polyA_AMLNDiet30weeks_JSSTDT_AJ6A...                    75.0   \n",
       "aj_M_LSEC_RNA_polyA_AMLNDiet30weeks_JSSTDT_AJ6D...                    75.0   \n",
       "balbc_M_LSEC_RNA_polyA_AMLNDiet30weeks_JSSTDT_B...                    75.0   \n",
       "balbc_M_LSEC_RNA_polyA_AMLNDiet30weeks_JSSTDT_B...                    75.0   \n",
       "balbc_M_LSEC_RNA_polyA_AMLNDiet30weeks_JSSTDT_B...                    75.0   \n",
       "balbc_M_LSEC_RNA_polyA_AMLNDiet30weeks_JSSTDT_B...                    75.0   \n",
       "\n",
       "                                                    tagsPerBP  clonality  \\\n",
       "NCoRWT_M_LSEC_RNA_polyA_AMLNDiet30weeks_JSSTDT_...   0.004833      1.715   \n",
       "NCoRWT_M_LSEC_RNA_polyA_AMLNDiet30weeks_JSSTDT_...   0.005198      2.054   \n",
       "aj_M_LSEC_RNA_polyA_AMLNDiet30weeks_JSSTDT_AJ6A...   0.005969      2.179   \n",
       "aj_M_LSEC_RNA_polyA_AMLNDiet30weeks_JSSTDT_AJ6D...   0.005472      2.276   \n",
       "balbc_M_LSEC_RNA_polyA_AMLNDiet30weeks_JSSTDT_B...   0.005672      2.653   \n",
       "balbc_M_LSEC_RNA_polyA_AMLNDiet30weeks_JSSTDT_B...   0.006157      2.620   \n",
       "balbc_M_LSEC_RNA_polyA_AMLNDiet30weeks_JSSTDT_B...   0.007093      2.179   \n",
       "balbc_M_LSEC_RNA_polyA_AMLNDiet30weeks_JSSTDT_B...   0.009892      2.753   \n",
       "\n",
       "                                                    GC_Content  totalReads  \\\n",
       "NCoRWT_M_LSEC_RNA_polyA_AMLNDiet30weeks_JSSTDT_...        0.48  14347153.0   \n",
       "NCoRWT_M_LSEC_RNA_polyA_AMLNDiet30weeks_JSSTDT_...        0.47  15372805.0   \n",
       "aj_M_LSEC_RNA_polyA_AMLNDiet30weeks_JSSTDT_AJ6A...       -1.00  17582328.0   \n",
       "aj_M_LSEC_RNA_polyA_AMLNDiet30weeks_JSSTDT_AJ6D...       -1.00  16045403.0   \n",
       "balbc_M_LSEC_RNA_polyA_AMLNDiet30weeks_JSSTDT_B...       -1.00  16610404.0   \n",
       "balbc_M_LSEC_RNA_polyA_AMLNDiet30weeks_JSSTDT_B...       -1.00  18435897.0   \n",
       "balbc_M_LSEC_RNA_polyA_AMLNDiet30weeks_JSSTDT_B...       -1.00  21511335.0   \n",
       "balbc_M_LSEC_RNA_polyA_AMLNDiet30weeks_JSSTDT_B...       -1.00  30005809.0   \n",
       "\n",
       "                                                    uniquelyMappedReads  \\\n",
       "NCoRWT_M_LSEC_RNA_polyA_AMLNDiet30weeks_JSSTDT_...           13152139.0   \n",
       "NCoRWT_M_LSEC_RNA_polyA_AMLNDiet30weeks_JSSTDT_...           14148141.0   \n",
       "aj_M_LSEC_RNA_polyA_AMLNDiet30weeks_JSSTDT_AJ6A...           16243424.0   \n",
       "aj_M_LSEC_RNA_polyA_AMLNDiet30weeks_JSSTDT_AJ6D...           14893831.0   \n",
       "balbc_M_LSEC_RNA_polyA_AMLNDiet30weeks_JSSTDT_B...           15437423.0   \n",
       "balbc_M_LSEC_RNA_polyA_AMLNDiet30weeks_JSSTDT_B...           16755059.0   \n",
       "balbc_M_LSEC_RNA_polyA_AMLNDiet30weeks_JSSTDT_B...           19299306.0   \n",
       "balbc_M_LSEC_RNA_polyA_AMLNDiet30weeks_JSSTDT_B...           26922569.0   \n",
       "\n",
       "                                                    multiMappedReads  \\\n",
       "NCoRWT_M_LSEC_RNA_polyA_AMLNDiet30weeks_JSSTDT_...          914684.0   \n",
       "NCoRWT_M_LSEC_RNA_polyA_AMLNDiet30weeks_JSSTDT_...          922889.0   \n",
       "aj_M_LSEC_RNA_polyA_AMLNDiet30weeks_JSSTDT_AJ6A...          993571.0   \n",
       "aj_M_LSEC_RNA_polyA_AMLNDiet30weeks_JSSTDT_AJ6D...          878893.0   \n",
       "balbc_M_LSEC_RNA_polyA_AMLNDiet30weeks_JSSTDT_B...          789404.0   \n",
       "balbc_M_LSEC_RNA_polyA_AMLNDiet30weeks_JSSTDT_B...          993687.0   \n",
       "balbc_M_LSEC_RNA_polyA_AMLNDiet30weeks_JSSTDT_B...         1835295.0   \n",
       "balbc_M_LSEC_RNA_polyA_AMLNDiet30weeks_JSSTDT_B...         2519247.0   \n",
       "\n",
       "                                                    frac_unmappedReads_mismatch  \\\n",
       "NCoRWT_M_LSEC_RNA_polyA_AMLNDiet30weeks_JSSTDT_...                          0.0   \n",
       "NCoRWT_M_LSEC_RNA_polyA_AMLNDiet30weeks_JSSTDT_...                          0.0   \n",
       "aj_M_LSEC_RNA_polyA_AMLNDiet30weeks_JSSTDT_AJ6A...                          0.0   \n",
       "aj_M_LSEC_RNA_polyA_AMLNDiet30weeks_JSSTDT_AJ6D...                          0.0   \n",
       "balbc_M_LSEC_RNA_polyA_AMLNDiet30weeks_JSSTDT_B...                          0.0   \n",
       "balbc_M_LSEC_RNA_polyA_AMLNDiet30weeks_JSSTDT_B...                          0.0   \n",
       "balbc_M_LSEC_RNA_polyA_AMLNDiet30weeks_JSSTDT_B...                          0.0   \n",
       "balbc_M_LSEC_RNA_polyA_AMLNDiet30weeks_JSSTDT_B...                          0.0   \n",
       "\n",
       "                                                    frac_unmappedReads_short  \\\n",
       "NCoRWT_M_LSEC_RNA_polyA_AMLNDiet30weeks_JSSTDT_...                    0.0079   \n",
       "NCoRWT_M_LSEC_RNA_polyA_AMLNDiet30weeks_JSSTDT_...                    0.0089   \n",
       "aj_M_LSEC_RNA_polyA_AMLNDiet30weeks_JSSTDT_AJ6A...                    0.0099   \n",
       "aj_M_LSEC_RNA_polyA_AMLNDiet30weeks_JSSTDT_AJ6D...                    0.0084   \n",
       "balbc_M_LSEC_RNA_polyA_AMLNDiet30weeks_JSSTDT_B...                    0.0107   \n",
       "balbc_M_LSEC_RNA_polyA_AMLNDiet30weeks_JSSTDT_B...                    0.0226   \n",
       "balbc_M_LSEC_RNA_polyA_AMLNDiet30weeks_JSSTDT_B...                    0.0041   \n",
       "balbc_M_LSEC_RNA_polyA_AMLNDiet30weeks_JSSTDT_B...                    0.0046   \n",
       "\n",
       "                                                    frac_unmappedReads_other  \\\n",
       "NCoRWT_M_LSEC_RNA_polyA_AMLNDiet30weeks_JSSTDT_...                    0.0042   \n",
       "NCoRWT_M_LSEC_RNA_polyA_AMLNDiet30weeks_JSSTDT_...                    0.0044   \n",
       "aj_M_LSEC_RNA_polyA_AMLNDiet30weeks_JSSTDT_AJ6A...                    0.0046   \n",
       "aj_M_LSEC_RNA_polyA_AMLNDiet30weeks_JSSTDT_AJ6D...                    0.0039   \n",
       "balbc_M_LSEC_RNA_polyA_AMLNDiet30weeks_JSSTDT_B...                    0.0044   \n",
       "balbc_M_LSEC_RNA_polyA_AMLNDiet30weeks_JSSTDT_B...                    0.0048   \n",
       "balbc_M_LSEC_RNA_polyA_AMLNDiet30weeks_JSSTDT_B...                    0.0052   \n",
       "balbc_M_LSEC_RNA_polyA_AMLNDiet30weeks_JSSTDT_B...                    0.0046   \n",
       "\n",
       "                                                    uniquelyMappedFraction  \\\n",
       "NCoRWT_M_LSEC_RNA_polyA_AMLNDiet30weeks_JSSTDT_...                0.916707   \n",
       "NCoRWT_M_LSEC_RNA_polyA_AMLNDiet30weeks_JSSTDT_...                0.920336   \n",
       "aj_M_LSEC_RNA_polyA_AMLNDiet30weeks_JSSTDT_AJ6A...                0.923849   \n",
       "aj_M_LSEC_RNA_polyA_AMLNDiet30weeks_JSSTDT_AJ6D...                0.928230   \n",
       "balbc_M_LSEC_RNA_polyA_AMLNDiet30weeks_JSSTDT_B...                0.929383   \n",
       "balbc_M_LSEC_RNA_polyA_AMLNDiet30weeks_JSSTDT_B...                0.908828   \n",
       "balbc_M_LSEC_RNA_polyA_AMLNDiet30weeks_JSSTDT_B...                0.897169   \n",
       "balbc_M_LSEC_RNA_polyA_AMLNDiet30weeks_JSSTDT_B...                0.897245   \n",
       "\n",
       "                                                    mappedFraction  \n",
       "NCoRWT_M_LSEC_RNA_polyA_AMLNDiet30weeks_JSSTDT_...          0.9879  \n",
       "NCoRWT_M_LSEC_RNA_polyA_AMLNDiet30weeks_JSSTDT_...          0.9867  \n",
       "aj_M_LSEC_RNA_polyA_AMLNDiet30weeks_JSSTDT_AJ6A...          0.9855  \n",
       "aj_M_LSEC_RNA_polyA_AMLNDiet30weeks_JSSTDT_AJ6D...          0.9877  \n",
       "balbc_M_LSEC_RNA_polyA_AMLNDiet30weeks_JSSTDT_B...          0.9849  \n",
       "balbc_M_LSEC_RNA_polyA_AMLNDiet30weeks_JSSTDT_B...          0.9726  \n",
       "balbc_M_LSEC_RNA_polyA_AMLNDiet30weeks_JSSTDT_B...          0.9907  \n",
       "balbc_M_LSEC_RNA_polyA_AMLNDiet30weeks_JSSTDT_B...          0.9908  "
      ]
     },
     "execution_count": 15,
     "metadata": {},
     "output_type": "execute_result"
    }
   ],
   "source": [
    "qc"
   ]
  },
  {
   "cell_type": "markdown",
   "metadata": {},
   "source": [
    "# Run Oyoung's pipeline to process RNA-seq data consistantly."
   ]
  },
  {
   "cell_type": "code",
   "execution_count": 24,
   "metadata": {},
   "outputs": [],
   "source": [
    "c57_paths = list(np.sort(glob.glob(dataDirectory+'/NCoRWT*')))\n",
    "balbc_paths = list(np.sort(glob.glob(dataDirectory+'/*BALB6*')))\n",
    "aj_paths = list(np.sort(glob.glob(dataDirectory+'/aj*')))"
   ]
  },
  {
   "cell_type": "code",
   "execution_count": 25,
   "metadata": {},
   "outputs": [],
   "source": [
    "c57_ids = [i.split('/')[-1].split('_')[7] for i in c57_paths]\n",
    "balbc_ids = [i.split('/')[-1].split('_')[7] for i in balbc_paths]\n",
    "aj_ids = [i.split('/')[-1].split('_')[7] for i in aj_paths]"
   ]
  },
  {
   "cell_type": "code",
   "execution_count": 26,
   "metadata": {},
   "outputs": [],
   "source": [
    "ids = ['c57_lsec_amlndiet_30weeks',\n",
    "       'balbc_lsec_amlndiet_30weeks',\n",
    "       'aj_lsec_amlndiet_30weeks']\n",
    "colors = ['#006d2c',\n",
    "          '#08519c',\n",
    "          '#a50f15']\n",
    "paths = [';'.join(c57_paths),\n",
    "         ';'.join(balbc_paths),\n",
    "         ';'.join(aj_paths)]\n",
    "short_ids = [';'.join([ids[0]+'_'+i for i in c57_ids]),\n",
    "             ';'.join([ids[1]+'_'+i for i in balbc_ids]),\n",
    "             ';'.join([ids[2]+'_'+i for i in aj_ids])]"
   ]
  },
  {
   "cell_type": "code",
   "execution_count": 27,
   "metadata": {},
   "outputs": [],
   "source": [
    "pd.DataFrame([ids,colors,paths,short_ids]).T.to_csv('./sampleDef.txt',\n",
    "                                                    sep='\\t',\n",
    "                                                    header=False,\n",
    "                                                    index=False)"
   ]
  },
  {
   "cell_type": "markdown",
   "metadata": {},
   "source": [
    "# Run O'young RNA pipeline"
   ]
  },
  {
   "cell_type": "markdown",
   "metadata": {},
   "source": [
    "Run the code below in BASH\n",
    "\n",
    "    source activate r-ouyangPipe\n",
    "    \n",
    "    mkdir ./expression/\n",
    "    \n",
    "    mkdir ./differential/\n",
    "    \n",
    "    rnaQuan.R ./sampleDef.txt -o ./expression/\n",
    "\n",
    "    rnaDiff.R ./sampleDef.txt -c ./expression/rawC.txt \\\n",
    "    -t ./expression/rawT.txt -o ./differential/\n",
    "\n",
    "    # annotate scatter files with tag counts\n",
    "    for scatter in ./differential/*scatter.txt;\n",
    "    do diff2Homer.R -d $scatter -q ./expression/HOMER.rawTPM.txt;\n",
    "    done"
   ]
  },
  {
   "cell_type": "markdown",
   "metadata": {},
   "source": [
    "### Make sure to check the PCA pdf file for outliers"
   ]
  },
  {
   "cell_type": "markdown",
   "metadata": {},
   "source": [
    "# Import differential gene files for examination and plotting"
   ]
  },
  {
   "cell_type": "markdown",
   "metadata": {},
   "source": [
    "## Write differential genes to list for metascape"
   ]
  },
  {
   "cell_type": "code",
   "execution_count": 110,
   "metadata": {},
   "outputs": [],
   "source": [
    "if not os.path.isdir('./gene_lists/'):\n",
    "    os.mkdir('./gene_lists')"
   ]
  },
  {
   "cell_type": "code",
   "execution_count": 111,
   "metadata": {},
   "outputs": [],
   "source": [
    "strains = ['aj', 'balb', 'c57']\n",
    "log2fc = 1\n",
    "pval = 0.05"
   ]
  },
  {
   "cell_type": "code",
   "execution_count": 112,
   "metadata": {
    "scrolled": false
   },
   "outputs": [],
   "source": [
    "gene_list_dict ={}"
   ]
  },
  {
   "cell_type": "code",
   "execution_count": 113,
   "metadata": {
    "scrolled": true
   },
   "outputs": [
    {
     "name": "stdout",
     "output_type": "stream",
     "text": [
      "./differential/aj_lsec_amlndiet_30weeks.vs.balbc_lsec_amlndiet_30weeks.scatter.homer.txt\n",
      "ge all transcripts (24940, 13)\n",
      "Diff Gene selected transcripts (9028, 14)\n",
      "ge selected transcripts (9028, 13)\n",
      "./differential/aj_lsec_amlndiet_30weeks.vs.c57_lsec_amlndiet_30weeks.scatter.homer.txt\n",
      "ge all transcripts (24940, 13)\n",
      "Diff Gene selected transcripts (9181, 14)\n",
      "ge selected transcripts (9181, 13)\n",
      "./differential/balbc_lsec_amlndiet_30weeks.vs.aj_lsec_amlndiet_30weeks.scatter.homer.txt\n",
      "ge all transcripts (24940, 13)\n",
      "Diff Gene selected transcripts (9028, 14)\n",
      "ge selected transcripts (9028, 13)\n",
      "./differential/balbc_lsec_amlndiet_30weeks.vs.c57_lsec_amlndiet_30weeks.scatter.homer.txt\n",
      "ge all transcripts (24940, 13)\n",
      "Diff Gene selected transcripts (9096, 14)\n",
      "ge selected transcripts (9096, 13)\n",
      "./differential/c57_lsec_amlndiet_30weeks.vs.aj_lsec_amlndiet_30weeks.scatter.homer.txt\n",
      "ge all transcripts (24940, 13)\n",
      "Diff Gene selected transcripts (9181, 14)\n",
      "ge selected transcripts (9181, 13)\n",
      "./differential/c57_lsec_amlndiet_30weeks.vs.balbc_lsec_amlndiet_30weeks.scatter.homer.txt\n",
      "ge all transcripts (24940, 13)\n",
      "Diff Gene selected transcripts (9096, 14)\n",
      "ge selected transcripts (9096, 13)\n"
     ]
    }
   ],
   "source": [
    "for strain in strains:\n",
    "    # initialize gene lists\n",
    "    g_intersect = set()\n",
    "    g_union = set()\n",
    "    for i in glob.glob('./differential/'+strain+'*homer.txt'):\n",
    "        print(i)\n",
    "        # read in gene expression data\n",
    "        df, tpm, tpm_mat, tpm_mat_quant = import_homer_diffgene(\n",
    "            depath=i,\n",
    "            gepath='./expression/HOMER.rawTPM.txt',\n",
    "            gene_name_index=True)\n",
    "\n",
    "        # select differential genes\n",
    "        df = df.loc[~(df.chr.str.contains('chrX|chrY|ChrUn')), :]\n",
    "        sig_genes = df.index[(df['padj'] < padj) & (df['log2FoldChange'] >= log2fc)].to_list()\n",
    "        \n",
    "        # add to sets\n",
    "        if len(g_union) == 0:\n",
    "            g_union = set(sig_genes)\n",
    "            g_intersect = set(sig_genes)\n",
    "        else:\n",
    "            g_union = g_union.union(sig_genes)\n",
    "            g_intersect = g_intersect.intersection(sig_genes)\n",
    "        \n",
    "        # print('union set length:', print(len(g_union)))\n",
    "        # print('intersection set length:', print(len(g_intersect)))\n",
    "    \n",
    "    # after getting union and intersection sets add to dict\n",
    "    gene_list_dict[strain+'_union'] = list(g_union)\n",
    "    gene_list_dict[strain+'_intersection'] = list(g_intersect)\n",
    "        "
   ]
  },
  {
   "cell_type": "code",
   "execution_count": 118,
   "metadata": {},
   "outputs": [
    {
     "name": "stdout",
     "output_type": "stream",
     "text": [
      "aj_union\n",
      "167 genes\n",
      "aj_intersection\n",
      "13 genes\n",
      "balb_union\n",
      "554 genes\n",
      "balb_intersection\n",
      "155 genes\n",
      "c57_union\n",
      "233 genes\n",
      "c57_intersection\n",
      "33 genes\n"
     ]
    }
   ],
   "source": [
    "for key in gene_list_dict.keys():\n",
    "    print(key)\n",
    "    print(len(gene_list_dict[key]), 'genes')\n",
    "    with open('./gene_lists/'+key+'_lsec_genes_fc_'+str(log2fc)+'_pval_'+str(pval)+'.txt', 'w') as f:\n",
    "        f.write('Gene\\n')\n",
    "        for i in gene_list_dict[key]:\n",
    "            f.write(i+'\\n')\n",
    "        f.close()\n"
   ]
  },
  {
   "cell_type": "code",
   "execution_count": null,
   "metadata": {},
   "outputs": [],
   "source": []
  }
 ],
 "metadata": {
  "kernelspec": {
   "display_name": "dataviz",
   "language": "python",
   "name": "dataviz"
  },
  "language_info": {
   "codemirror_mode": {
    "name": "ipython",
    "version": 3
   },
   "file_extension": ".py",
   "mimetype": "text/x-python",
   "name": "python",
   "nbconvert_exporter": "python",
   "pygments_lexer": "ipython3",
   "version": "3.7.5"
  }
 },
 "nbformat": 4,
 "nbformat_minor": 2
}
