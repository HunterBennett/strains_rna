{
 "cells": [
  {
   "cell_type": "markdown",
   "metadata": {},
   "source": [
    "Hunter Bennett | Glass Lab | Kupffer Strains Project | June 17 2021\n",
    "\n",
    "This notebook is for making fancier figure level plots describing differential gene expression for the strains NASH paper. It generates the following plots:\n",
    "1. Differential scatter plot similar to those make in Link et al. 2018 showing differential peaks at fc > 2 and fc > 4."
   ]
  },
  {
   "cell_type": "code",
   "execution_count": 9,
   "metadata": {},
   "outputs": [
    {
     "name": "stdout",
     "output_type": "stream",
     "text": [
      "The autoreload extension is already loaded. To reload it, use:\n",
      "  %reload_ext autoreload\n"
     ]
    }
   ],
   "source": [
    "### header ###\n",
    "__author__ = \"Hunter Bennett\"\n",
    "__license__ = \"BSD\"\n",
    "__email__ = \"hunter.r.bennett@gmail.com\"\n",
    "%load_ext autoreload\n",
    "%autoreload 2\n",
    "### imports ###\n",
    "import sys\n",
    "%matplotlib inline\n",
    "import os\n",
    "import re\n",
    "import glob\n",
    "import pandas as pd\n",
    "import numpy as np\n",
    "import matplotlib\n",
    "import matplotlib.pyplot as plt \n",
    "import seaborn as sns\n",
    "\n",
    "# import custom functions\n",
    "# import custom functions\n",
    "import sys\n",
    "sys.path.insert(0, '/home/h1bennet/code/')\n",
    "from hbUtils import ngs_qc, quantile_normalize_df\n",
    "from plotting_scripts import label_point, pca_rpkm_mat\n",
    "from homer_preprocessing import import_homer_diffgene"
   ]
  },
  {
   "cell_type": "code",
   "execution_count": 10,
   "metadata": {},
   "outputs": [],
   "source": [
    "#### PLOTTING PARAMETERS FOR MANUSCRIPT ####\n",
    "# # get matplotlib to save readable fonts\n",
    "matplotlib.rcParams['pdf.fonttype'] = 42\n",
    "matplotlib.rcParams['ps.fonttype'] = 42\n",
    "matplotlib.rcParams['font.size'] = 6\n",
    "matplotlib.rcParams['savefig.dpi'] = 500\n",
    "\n",
    "# line widths\n",
    "matplotlib.rcParams['axes.linewidth'] = 1\n",
    "matplotlib.rcParams['xtick.major.width'] = 1\n",
    "matplotlib.rcParams['ytick.major.width'] = 1\n",
    "\n",
    "# adjust defualt color for plots to black\n",
    "# normal default is a dark gray\n",
    "COLOR = 'black'\n",
    "matplotlib.rcParams['text.color'] = COLOR\n",
    "matplotlib.rcParams['axes.labelcolor'] = COLOR\n",
    "matplotlib.rcParams['xtick.color'] = COLOR\n",
    "matplotlib.rcParams['ytick.color'] = COLOR\n",
    "matplotlib.rcParams['axes.edgecolor'] = COLOR\n",
    "\n",
    "#### PLOT PARAMETERS FOR THIS PLOT ####"
   ]
  },
  {
   "cell_type": "code",
   "execution_count": 11,
   "metadata": {},
   "outputs": [],
   "source": [
    "dataDirectory = '../A00_Strains_Control_WholeLiver_RNA/'\n",
    "workingDirectory = '/home/h1bennet/strains_rna/results/A10_Manuscript_Figures_AllLiverCells/'\n",
    "if not os.path.isdir(workingDirectory):\n",
    "    os.mkdir(workingDirectory)\n",
    "os.chdir(workingDirectory)"
   ]
  },
  {
   "cell_type": "markdown",
   "metadata": {},
   "source": [
    "# Make folder for \"fancy figures\" for manuscript"
   ]
  },
  {
   "cell_type": "code",
   "execution_count": 12,
   "metadata": {},
   "outputs": [],
   "source": [
    "if not os.path.isdir('./fancy_figures/'):\n",
    "    os.mkdir('./fancy_figures/')"
   ]
  },
  {
   "cell_type": "markdown",
   "metadata": {},
   "source": [
    "### Import differential peaks"
   ]
  },
  {
   "cell_type": "code",
   "execution_count": 13,
   "metadata": {},
   "outputs": [
    {
     "name": "stdout",
     "output_type": "stream",
     "text": [
      "ge all transcripts (24940, 43)\n",
      "Diff Gene selected transcripts (5501, 14)\n",
      "ge selected transcripts (5501, 43)\n"
     ]
    }
   ],
   "source": [
    "diff, tpm, tpm_mat, tpm_mat_quant = import_homer_diffgene(\n",
    "    '../A00_Strains_Control_WholeLiver_RNA/differential/aj_hepatocyte_control_young.vs.balbc_hepatocyte_control_young.scatter.homer.txt',\n",
    "    '../A00_Strains_Control_WholeLiver_RNA/expression/HOMER.rawTPM.txt')"
   ]
  },
  {
   "cell_type": "code",
   "execution_count": 14,
   "metadata": {},
   "outputs": [],
   "source": [
    "def pca_rpkm_mat(rpkm, group_labels, n_pca=10, plot_size=8, legend=True):\n",
    "    '''This function takes a pandas DF of rpkm values (genes x samples) with\n",
    "    genes as the index and sample names as the column names and runs a simple\n",
    "    PCA analysis.\n",
    "    Accepts: \n",
    "    rpkm: gene x n_sample matrix of rpkm values\n",
    "    group_labels: n_sample length array of group labels\n",
    "    n_pca: number of principal components to analyze\n",
    "    legend (bool): whether to plot legend\n",
    "    Returns:\n",
    "    tpm_pca_df: dataframe of principal components per each sample\n",
    "    exp_var: array of explained variances for each PC\n",
    "    \n",
    "    TO DO:\n",
    "    - change to matplotlib based scatter and return two subplots\n",
    "    PC1 vs PC2 and PC2 vs PC3'''\n",
    "    \n",
    "    # import packages\n",
    "    import pandas as pd\n",
    "    import numpy as np\n",
    "    import seaborn as sns\n",
    "    # Import packages for PCA analysis\n",
    "    from sklearn.preprocessing import StandardScaler\n",
    "    from sklearn.decomposition import PCA # uses SVD\n",
    "    \n",
    "    # scale data\n",
    "    tpm_std = StandardScaler().fit_transform(rpkm)\n",
    "    # run PCA\n",
    "    pca = PCA(n_components=n_pca)\n",
    "    tpm_pca = pca.fit_transform(tpm_std.T)\n",
    "    exp_var = pca.explained_variance_ratio_\n",
    "    \n",
    "    #create df for plotting\n",
    "    tpm_pca_df = pd.DataFrame(tpm_pca,\n",
    "                              columns=['PC'+str(i) for i in np.arange(1,tpm_pca.shape[1]+1)],\n",
    "                              index=(group_labels))\n",
    "    tpm_pca_df.index.rename('group', inplace=True)\n",
    "    tpm_pca_df.reset_index(inplace=True)\n",
    "    \n",
    "    ax = sns.lmplot('PC1', 'PC2', tpm_pca_df, fit_reg=False,\n",
    "                hue='group', # palette=color_dict,\n",
    "                height=plot_size, scatter_kws={'s': 150},\n",
    "                legend=legend)\n",
    "    ax.set(xlabel=('PC1 %.2f' % exp_var[0]), ylabel=('PC2 %.2f' % exp_var[1]))\n",
    "    \n",
    "    # return weights of each gene  \n",
    "    transcript_pc = pd.DataFrame(pca.components_.T,\n",
    "                                 rpkm.index,\n",
    "                                 columns=['PC'+str(i) for i in np.arange(1,tpm_pca.shape[1]+1)])    \n",
    "\n",
    "    return tpm_pca_df, exp_var, transcript_pc\n",
    "\n"
   ]
  },
  {
   "cell_type": "markdown",
   "metadata": {},
   "source": [
    "# Make PCA Plot"
   ]
  },
  {
   "cell_type": "code",
   "execution_count": 15,
   "metadata": {},
   "outputs": [],
   "source": [
    "# this part must be done manually - use the sample ID fields to pick out\n",
    "# identifiers for each sample.\n",
    "samples = pd.Series(tpm_mat.columns.str.split('/').str[-1])\n",
    "strain = samples.str.split('_').str[0]\n",
    "cell = []\n",
    "for celltype in ['Kupffer', 'Hepatocyte', 'LSEC', 'Stellate']:\n",
    "    for samp in samples.tolist():\n",
    "        if celltype in samp:\n",
    "            cell.append(celltype)\n",
    "\n",
    "samplesDF = pd.DataFrame([pd.Series(samples),\n",
    "                          pd.Series(strain),\n",
    "                          pd.Series(cell)],\n",
    "                         index=['sampleID', \n",
    "                                'strain',\n",
    "                                'cell']).T"
   ]
  },
  {
   "cell_type": "markdown",
   "metadata": {},
   "source": [
    "Run PCA Analysis"
   ]
  },
  {
   "cell_type": "code",
   "execution_count": 16,
   "metadata": {},
   "outputs": [],
   "source": [
    "# import packages\n",
    "import pandas as pd\n",
    "import numpy as np\n",
    "import seaborn as sns\n",
    "# Import packages for PCA analysis\n",
    "from sklearn.preprocessing import StandardScaler\n",
    "from sklearn.decomposition import PCA # uses SVD\n",
    "\n",
    "# scale data\n",
    "tpm_std = StandardScaler().fit_transform(tpm_mat)\n",
    "# run PCA\n",
    "pca = PCA(n_components=3)\n",
    "tpm_pca = pca.fit_transform(tpm_std.T)\n",
    "exp_var = pca.explained_variance_ratio_\n",
    "\n",
    "#create df for plotting\n",
    "tpm_pca_df = pd.DataFrame(tpm_pca,\n",
    "                          columns=['PC'+str(i) for i in np.arange(1,tpm_pca.shape[1]+1)],\n",
    "                          index=(samplesDF.strain+'_'+samplesDF.cell))\n",
    "tpm_pca_df.index.rename('group', inplace=True)\n",
    "tpm_pca_df.reset_index(inplace=True)"
   ]
  },
  {
   "cell_type": "markdown",
   "metadata": {},
   "source": [
    "Prep plotting stuff"
   ]
  },
  {
   "cell_type": "code",
   "execution_count": 17,
   "metadata": {},
   "outputs": [],
   "source": [
    "\n",
    "cell_types = ['AJ_Hepatocyte'\n",
    "                     'BALB_Hepatocyte'\n",
    "                     'C57_Hepatocyte'\n",
    "                     'AJ_Kupffer'\n",
    "                     'BALBC_Kupffer'\n",
    "                     'C57B6J_Kupffer'\n",
    "                     'AJ_LSEC'\n",
    "                     'BALBC_LSEC'\n",
    "                     'C57B6J_LSEC'\n",
    "                     'AJ_Stellate'\n",
    "                     'BALBC_Stellate'\n",
    "                     'C57B6J_Stellate']"
   ]
  },
  {
   "cell_type": "code",
   "execution_count": 18,
   "metadata": {},
   "outputs": [],
   "source": [
    "strain_color_dict = {'AJ_Hepatocyte':'#fe9929',\n",
    "                     'BALB_Hepatocyte':'#d95f0e',\n",
    "                     'C57_Hepatocyte':'#d95f0e',\n",
    "                     'AJ_Kupffer':'#74c476',\n",
    "                     'BALBC_Kupffer':'#31a354',\n",
    "                     'C57B6J_Kupffer':'#006d2c',\n",
    "                     'AJ_LSEC':'#fb6a4a',\n",
    "                     'BALBC_LSEC':'#de2d26',\n",
    "                     'C57B6J_LSEC':'#a50f15',\n",
    "                     'AJ_Stellate':'#9e9ac8',\n",
    "                     'BALBC_Stellate':'#756bb1',\n",
    "                     'C57B6J_Stellate':'#54278f'}\n",
    "\n",
    "cell_types = ['AJ_Hepatocyte',\n",
    "                     'BALB_Hepatocyte',\n",
    "                     'C57_Hepatocyte',\n",
    "                     'AJ_Kupffer',\n",
    "                     'BALBC_Kupffer',\n",
    "                     'C57B6J_Kupffer',\n",
    "                     'AJ_LSEC',\n",
    "                     'BALBC_LSEC',\n",
    "                     'C57B6J_LSEC',\n",
    "                     'AJ_Stellate',\n",
    "                     'BALBC_Stellate',\n",
    "                     'C57B6J_Stellate']\n",
    "\n",
    "from matplotlib.patches import Patch\n",
    "\n",
    "legend_elements = []\n",
    "for lab, in  zip(cell_types):\n",
    "    legend_elements.append(Patch(label=lab, color=strain_color_dict[lab]))"
   ]
  },
  {
   "cell_type": "code",
   "execution_count": 19,
   "metadata": {
    "scrolled": true
   },
   "outputs": [
    {
     "data": {
      "image/png": "[encoded data removed]",
      "text/plain": [
       "<Figure size 216x216 with 1 Axes>"
      ]
     },
     "metadata": {
      "needs_background": "light"
     },
     "output_type": "display_data"
    }
   ],
   "source": [
    "fig, ax = plt.subplots(figsize=(3,3))\n",
    "\n",
    "ax.scatter(tpm_pca_df.PC1,\n",
    "           tpm_pca_df.PC2,\n",
    "           c=[strain_color_dict[i] for i in tpm_pca_df.group])\n",
    "\n",
    "ax.set(xlabel=('PC1 %.2f' % exp_var[0]), ylabel=('PC2 %.2f' % exp_var[1]))\n",
    "ax.legend(handles=legend_elements, fontsize=6,markerscale=1, frameon=False, ncol=1, loc=[1.05,0.2],\n",
    "          handletextpad=0.3, columnspacing=0.1)\n",
    "\n",
    "plt.savefig('./fancy_figures/hepatic_facs_rna_pca.pdf',\n",
    "            bbox_inches='tight')"
   ]
  },
  {
   "cell_type": "markdown",
   "metadata": {},
   "source": [
    "# Correlation plot"
   ]
  },
  {
   "cell_type": "code",
   "execution_count": 26,
   "metadata": {},
   "outputs": [],
   "source": [
    "tpm_mat.columns = samplesDF.strain+'_'+samplesDF.cell"
   ]
  },
  {
   "cell_type": "code",
   "execution_count": 33,
   "metadata": {},
   "outputs": [
    {
     "data": {
      "image/png": "[encoded data removed]",
      "text/plain": [
       "<Figure size 216x216 with 4 Axes>"
      ]
     },
     "metadata": {
      "needs_background": "light"
     },
     "output_type": "display_data"
    }
   ],
   "source": [
    "sns.clustermap(tpm_mat.corr(),\n",
    "               cmap='Reds',\n",
    "               figsize=(3,3),\n",
    "               cbar_kws={'label':'Pearson R'})\n",
    "plt.savefig('./fancy_figures/hepatic_facs_rna_corr.pdf',\n",
    "            bbox_inches='tight')"
   ]
  },
  {
   "cell_type": "code",
   "execution_count": null,
   "metadata": {},
   "outputs": [],
   "source": []
  }
 ],
 "metadata": {
  "kernelspec": {
   "display_name": "dataviz",
   "language": "python",
   "name": "dataviz"
  },
  "language_info": {
   "codemirror_mode": {
    "name": "ipython",
    "version": 3
   },
   "file_extension": ".py",
   "mimetype": "text/x-python",
   "name": "python",
   "nbconvert_exporter": "python",
   "pygments_lexer": "ipython3",
   "version": "3.7.5"
  }
 },
 "nbformat": 4,
 "nbformat_minor": 2
}
