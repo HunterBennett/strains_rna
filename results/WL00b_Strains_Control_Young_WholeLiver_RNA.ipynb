{
 "cells": [
  {
   "cell_type": "code",
   "execution_count": 1,
   "metadata": {},
   "outputs": [],
   "source": [
    "### header ###\n",
    "__author__ = \"Hunter Bennett\"\n",
    "__license__ = \"BSD\"\n",
    "__email__ = \"hunter.r.bennett@gmail.com\"\n",
    "%load_ext autoreload\n",
    "%autoreload 2\n",
    "%matplotlib inline\n",
    "### imports ###\n",
    "import sys\n",
    "import os\n",
    "import re\n",
    "import glob\n",
    "import pandas as pd\n",
    "import numpy as np\n",
    "import matplotlib\n",
    "import matplotlib.pyplot as plt\n",
    "from matplotlib_venn import venn3, venn2\n",
    "import seaborn as sns\n",
    "\n",
    "matplotlib.rcParams['savefig.dpi'] = 200\n",
    "sys.setrecursionlimit(3000)\n",
    "sns.set(font_scale=1)\n",
    "sns.set_context('talk')\n",
    "sns.set_style('white')\n",
    "\n",
    "# import custom functions\n",
    "sys.path.insert(0, '/home/h1bennet/code/')\n",
    "from hbUtils import ngs_qc, quantile_normalize_df\n",
    "from homer_preprocessing import import_homer_diffgene\n",
    "from plotting_scripts import plot_exp_rpkm, gene_list_bar_plot"
   ]
  },
  {
   "cell_type": "code",
   "execution_count": 2,
   "metadata": {},
   "outputs": [],
   "source": [
    "workingDirectory = '/home/h1bennet/strains_rna/results/WL00b_Strains_Control_Young_WholeLiver/'\n",
    "controlDirectory = '/home/h1bennet/strains/data/RNA/control_wholeliver_young/'\n",
    "if not os.path.isdir(workingDirectory):\n",
    "    os.mkdir(workingDirectory)\n",
    "os.chdir(workingDirectory)\n"
   ]
  },
  {
   "cell_type": "markdown",
   "metadata": {},
   "source": [
    "    \n",
    "    makeMultiWigHub.pl hrb_strains_qc_wholeliver_young_rna mm10 \\\n",
    "    -gradient 252,146,114 103,0,13 \\\n",
    "    -force -d /home/h1bennet/strains/data/RNA/control_wholeliver_young/aj_M_WholeLiver_RNA_polyA_control_untreated_AJcA_HBENN_l20210523_ATATCTCG_ATCTTAGT.aj.star_shifted_from_AJ.sam \\\n",
    "    /home/h1bennet/strains/data/RNA/control_wholeliver_young/aj_M_WholeLiver_RNA_polyA_control_untreated_AJcB_HBENN_l20210523_GCGCTCTA_GCTCCGAC.aj.star_shifted_from_AJ.sam \\\n",
    "    /home/h1bennet/strains/data/RNA/control_wholeliver_young/aj_M_WholeLiver_RNA_polyA_control_untreated_AJcC_HBENN_l20210523_AACAGGTT_ATACCAAG.aj.star_shifted_from_AJ.sam \\\n",
    "    /home/h1bennet/strains/data/RNA/control_wholeliver_young/balbcj_M_WholeLiver_RNA_polyA_control_untreated_BALBcA_HBENN_l20210523_GGTGAACC_GCGTTGGA.balbcj.star_shifted_from_BALBCJ.sam \\\n",
    "    /home/h1bennet/strains/data/RNA/control_wholeliver_young/balbcj_M_WholeLiver_RNA_polyA_control_untreated_BALBcB_HBENN_l20210523_CAACAATG_CTTCACGG.balbcj.star_shifted_from_BALBCJ.sam \\\n",
    "    /home/h1bennet/strains/data/RNA/control_wholeliver_young/balbcj_M_WholeLiver_RNA_polyA_control_untreated_BALBcC_HBENN_l20210523_TGGTGGCA_TCCTGTAA.balbcj.star_shifted_from_BALBCJ.sam \\\n",
    "    /home/h1bennet/strains/data/RNA/control_wholeliver_young/c57bl6j_M_WholeLiver_RNA_polyA_control_untreated_C57cA_HBENN_l20210523_AGGCAGAG_AGAATGCC \\\n",
    "    /home/h1bennet/strains/data/RNA/control_wholeliver_young/c57bl6j_M_WholeLiver_RNA_polyA_control_untreated_C57cB_HBENN_l20210523_GAATGAGA_GAGGCATT \\\n",
    "    /home/h1bennet/strains/data/RNA/control_wholeliver_young/c57bl6j_M_WholeLiver_RNA_polyA_control_untreated_C57cC_HBENN_l20210523_CAATTAAC_CGAGATAT \\\n",
    "    /home/h1bennet/strains/data/RNA/control_wholeliver_young/b6af1j_M_WholeLiver_RNA_polyA_control_untreated_B6AcA_HBENN_l20210523_TGGCCGGT_TAGAGCGC \\\n",
    "    /home/h1bennet/strains/data/RNA/control_wholeliver_young/b6af1j_M_WholeLiver_RNA_polyA_control_untreated_B6AcB_HBENN_l20210523_AGTACTCC_AACCTGTT \\\n",
    "    /home/h1bennet/strains/data/RNA/control_wholeliver_young/b6af1j_M_WholeLiver_RNA_polyA_control_untreated_B6AcC_HBENN_l20210523_GACGTCTT_GGTTCACC \\\n",
    "    /home/h1bennet/strains/data/RNA/control_wholeliver_young/cb6f1j_M_WholeLiver_RNA_polyA_control_untreated_CB6cA_HBENN_l20210523_TGCGAGAC_CATTGTTG \\\n",
    "    /home/h1bennet/strains/data/RNA/control_wholeliver_young/cb6f1j_M_WholeLiver_RNA_polyA_control_untreated_CB6cB_HBENN_l20210523_CATAGAGT_TGCCACCA \\\n",
    "    /home/h1bennet/strains/data/RNA/control_wholeliver_young/cb6f1j_M_WholeLiver_RNA_polyA_control_untreated_CB6cC_HBENN_l20210523_ACAGGCGC_CTCTGCCT \n",
    "    "
   ]
  },
  {
   "cell_type": "markdown",
   "metadata": {},
   "source": [
    "* Afm - alternative promoter in AJ/BALB"
   ]
  },
  {
   "cell_type": "markdown",
   "metadata": {},
   "source": [
    "# Run Oyoung's pipeline to process RNA-seq data consistantly."
   ]
  },
  {
   "cell_type": "code",
   "execution_count": 3,
   "metadata": {},
   "outputs": [],
   "source": [
    "c57_control_paths = list(np.sort(glob.glob(controlDirectory+'/c57*')))\n",
    "balbc_control_paths = list(np.sort(glob.glob(controlDirectory+'/balb*')))\n",
    "aj_control_paths = list(np.sort(glob.glob(controlDirectory+'/aj*')))\n",
    "\n",
    "c57_control_ids = [i.split('/')[-1].split('_')[7] for i in c57_control_paths]\n",
    "balbc_control_ids = [i.split('/')[-1].split('_')[7] for i in balbc_control_paths]\n",
    "aj_control_ids = [i.split('/')[-1].split('_')[7] for i in aj_control_paths]"
   ]
  },
  {
   "cell_type": "markdown",
   "metadata": {},
   "source": [
    "Put together into three separate comparisons"
   ]
  },
  {
   "cell_type": "code",
   "execution_count": 4,
   "metadata": {},
   "outputs": [],
   "source": [
    "ids = ['c57_wholeliver_control_young',\n",
    "       'balbc_wholeliver_control_young',\n",
    "       'aj_wholeliver_control_young',\n",
    "      ]\n",
    "\n",
    "colors = ['#74c476',\n",
    "          '#6baed6',\n",
    "          '#de2d26',\n",
    "         ]\n",
    "\n",
    "paths = [';'.join(c57_control_paths),\n",
    "         ';'.join(balbc_control_paths),\n",
    "         ';'.join(aj_control_paths),\n",
    "        ]\n",
    "\n",
    "short_ids = [';'.join(c57_control_ids),\n",
    "             ';'.join(balbc_control_ids),\n",
    "             ';'.join(aj_control_ids),\n",
    "            ]\n",
    "\n",
    "pd.DataFrame([ids,colors,paths,short_ids]).T.to_csv('./sampleDef.txt',\n",
    "                                                    sep='\\t',\n",
    "                                                    header=False,\n",
    "                                                    index=False)"
   ]
  },
  {
   "cell_type": "code",
   "execution_count": 5,
   "metadata": {},
   "outputs": [
    {
     "data": {
      "text/html": [
       "<div>\n",
       "<style scoped>\n",
       "    .dataframe tbody tr th:only-of-type {\n",
       "        vertical-align: middle;\n",
       "    }\n",
       "\n",
       "    .dataframe tbody tr th {\n",
       "        vertical-align: top;\n",
       "    }\n",
       "\n",
       "    .dataframe thead th {\n",
       "        text-align: right;\n",
       "    }\n",
       "</style>\n",
       "<table border=\"1\" class=\"dataframe\">\n",
       "  <thead>\n",
       "    <tr style=\"text-align: right;\">\n",
       "      <th></th>\n",
       "      <th>0</th>\n",
       "      <th>1</th>\n",
       "      <th>2</th>\n",
       "      <th>3</th>\n",
       "    </tr>\n",
       "  </thead>\n",
       "  <tbody>\n",
       "    <tr>\n",
       "      <th>0</th>\n",
       "      <td>c57_wholeliver_control_young</td>\n",
       "      <td>#74c476</td>\n",
       "      <td>/home/h1bennet/strains/data/RNA/control_wholel...</td>\n",
       "      <td>C57cA;C57cB;C57cC</td>\n",
       "    </tr>\n",
       "    <tr>\n",
       "      <th>1</th>\n",
       "      <td>balbc_wholeliver_control_young</td>\n",
       "      <td>#6baed6</td>\n",
       "      <td>/home/h1bennet/strains/data/RNA/control_wholel...</td>\n",
       "      <td>BALBcA;BALBcB;BALBcC</td>\n",
       "    </tr>\n",
       "    <tr>\n",
       "      <th>2</th>\n",
       "      <td>aj_wholeliver_control_young</td>\n",
       "      <td>#de2d26</td>\n",
       "      <td>/home/h1bennet/strains/data/RNA/control_wholel...</td>\n",
       "      <td>AJcA;AJcB;AJcC</td>\n",
       "    </tr>\n",
       "  </tbody>\n",
       "</table>\n",
       "</div>"
      ],
      "text/plain": [
       "                                0        1  \\\n",
       "0    c57_wholeliver_control_young  #74c476   \n",
       "1  balbc_wholeliver_control_young  #6baed6   \n",
       "2     aj_wholeliver_control_young  #de2d26   \n",
       "\n",
       "                                                   2                     3  \n",
       "0  /home/h1bennet/strains/data/RNA/control_wholel...     C57cA;C57cB;C57cC  \n",
       "1  /home/h1bennet/strains/data/RNA/control_wholel...  BALBcA;BALBcB;BALBcC  \n",
       "2  /home/h1bennet/strains/data/RNA/control_wholel...        AJcA;AJcB;AJcC  "
      ]
     },
     "execution_count": 5,
     "metadata": {},
     "output_type": "execute_result"
    }
   ],
   "source": [
    "pd.DataFrame([ids,colors,paths,short_ids]).T"
   ]
  },
  {
   "cell_type": "markdown",
   "metadata": {},
   "source": [
    "# Run O'young RNA pipeline"
   ]
  },
  {
   "cell_type": "markdown",
   "metadata": {},
   "source": [
    "Run the code below in BASH.\n",
    "Edited for this pipeline to lower the minimum TPM threshold as this has kind of messed up our differential gene calling for borderline genes that do not meet the TPM in two of the strains ie TPM > 8 in one strain and TPM of 7 in the other two.\n",
    "\n",
    "    source activate r-ouyangPipe\n",
    "    \n",
    "    mkdir ./expression/\n",
    "    \n",
    "    mkdir ./differential/\n",
    "    \n",
    "    rnaQuan.R ./sampleDef.txt -o ./expression/\n",
    "\n",
    "    rnaDiff.R ./sampleDef.txt -c ./expression/rawC.txt \\\n",
    "    -t ./expression/rawT.txt -m 4 -o ./differential/\n",
    "\n",
    "    # annotate scatter files with tag counts\n",
    "    for scatter in ./differential/*scatter.txt;\n",
    "    do diff2Homer.R -d $scatter -q ./expression/HOMER.rawTPM.txt;\n",
    "    done"
   ]
  },
  {
   "cell_type": "markdown",
   "metadata": {},
   "source": [
    "### Make sure to check the PCA pdf file for outliers"
   ]
  },
  {
   "cell_type": "markdown",
   "metadata": {},
   "source": [
    "## Make jupyter hub for vizualization"
   ]
  },
  {
   "cell_type": "markdown",
   "metadata": {},
   "source": [
    "    makeMultiWigHub.pl hrb_strains_viz_wholeliver_rna_amln_control_merged mm10 \\\n",
    "    -color 251,106,74 165,15,21 107,174,214 8,81,156 116,196,118 0,109,44 \\\n",
    "    -d ./expression/mergeTag/aj_wholeliver_control_young/ \\\n",
    "    ./expression/mergeTag/aj_wholeliver_amlndiet_30weeks/ \\\n",
    "    ./expression/mergeTag/balbc_wholeliver_control_young \\\n",
    "    ./expression/mergeTag/balbc_wholeliver_amlndiet_30weeks \\\n",
    "    ./expression/mergeTag/c57_wholeliver_control_young \\\n",
    "    ./expression/mergeTag/c57_wholeliver_amlndiet_30weeks"
   ]
  },
  {
   "cell_type": "markdown",
   "metadata": {},
   "source": [
    "# Import differential gene files for examination and plotting"
   ]
  },
  {
   "cell_type": "markdown",
   "metadata": {},
   "source": [
    "Make folder for figures"
   ]
  },
  {
   "cell_type": "code",
   "execution_count": 6,
   "metadata": {},
   "outputs": [],
   "source": [
    "if not os.path.isdir('./figures/'):\n",
    "    os.mkdir('./figures')"
   ]
  },
  {
   "cell_type": "markdown",
   "metadata": {},
   "source": [
    "## Write differential genes to list for metascape"
   ]
  },
  {
   "cell_type": "code",
   "execution_count": 7,
   "metadata": {},
   "outputs": [],
   "source": [
    "if not os.path.isdir('./gene_lists/'):\n",
    "    os.mkdir('./gene_lists')"
   ]
  },
  {
   "cell_type": "code",
   "execution_count": 8,
   "metadata": {},
   "outputs": [],
   "source": [
    "strains = ['aj', 'balb', 'c57']\n",
    "\n",
    "log2fc = np.log2(2)\n",
    "pval = 0.05\n",
    "gene_list_dict ={}"
   ]
  },
  {
   "cell_type": "code",
   "execution_count": 10,
   "metadata": {
    "scrolled": false
   },
   "outputs": [
    {
     "name": "stdout",
     "output_type": "stream",
     "text": [
      "./differential/aj_wholeliver_control_young.vs.balbc_wholeliver_control_young.scatter.homer.txt\n",
      "ge all transcripts (24940, 16)\n",
      "Diff Gene selected transcripts (7844, 14)\n",
      "ge selected transcripts (7844, 16)\n",
      "./differential/aj_wholeliver_control_young.vs.c57_wholeliver_control_young.scatter.homer.txt\n",
      "ge all transcripts (24940, 16)\n",
      "Diff Gene selected transcripts (7833, 14)\n",
      "ge selected transcripts (7833, 16)\n",
      "./differential/balbc_wholeliver_control_young.vs.aj_wholeliver_control_young.scatter.homer.txt\n",
      "ge all transcripts (24940, 16)\n",
      "Diff Gene selected transcripts (7844, 14)\n",
      "ge selected transcripts (7844, 16)\n",
      "./differential/balbc_wholeliver_control_young.vs.c57_wholeliver_control_young.scatter.homer.txt\n",
      "ge all transcripts (24940, 16)\n",
      "Diff Gene selected transcripts (7983, 14)\n",
      "ge selected transcripts (7983, 16)\n",
      "./differential/c57_wholeliver_control_young.vs.aj_wholeliver_control_young.scatter.homer.txt\n",
      "ge all transcripts (24940, 16)\n",
      "Diff Gene selected transcripts (7833, 14)\n",
      "ge selected transcripts (7833, 16)\n",
      "./differential/c57_wholeliver_control_young.vs.balbc_wholeliver_control_young.scatter.homer.txt\n",
      "ge all transcripts (24940, 16)\n",
      "Diff Gene selected transcripts (7983, 14)\n",
      "ge selected transcripts (7983, 16)\n"
     ]
    }
   ],
   "source": [
    "for strain in strains:\n",
    "    # initialize gene lists\n",
    "    g_intersect = set()\n",
    "    g_union = set()\n",
    "    for i in glob.glob('./differential/'+strain+'*homer.txt'):\n",
    "        print(i)\n",
    "        # read in gene expression data\n",
    "        df, tpm, tpm_mat, tpm_mat_quant = import_homer_diffgene(\n",
    "            depath=i,\n",
    "            gepath='./expression/HOMER.rawTPM.txt',\n",
    "            gene_name_index=True)\n",
    "\n",
    "        # select differential genes\n",
    "        df = df.loc[~(df.chr.str.contains('chrX|chrY|ChrUn')), :]\n",
    "        sig_genes = df.index[(df['padj'] < pval) & (df['log2FoldChange'] <= -log2fc)].to_list()\n",
    "        \n",
    "        # add to sets\n",
    "        if len(g_union) == 0:\n",
    "            g_union = set(sig_genes)\n",
    "            g_intersect = set(sig_genes)\n",
    "        else:\n",
    "            g_union = g_union.union(sig_genes)\n",
    "            g_intersect = g_intersect.intersection(sig_genes)\n",
    "        \n",
    "        # print('union set length:', print(len(g_union)))\n",
    "        # print('intersection set length:', print(len(g_intersect)))\n",
    "    \n",
    "    # after getting union and intersection sets add to dict\n",
    "    gene_list_dict[strain+'_union'] = list(g_union)\n",
    "    gene_list_dict[strain+'_intersection'] = list(g_intersect)\n",
    "        "
   ]
  },
  {
   "cell_type": "code",
   "execution_count": 11,
   "metadata": {
    "scrolled": true
   },
   "outputs": [
    {
     "name": "stdout",
     "output_type": "stream",
     "text": [
      "aj_union\n",
      "298 genes\n",
      "aj_intersection\n",
      "58 genes\n",
      "balb_union\n",
      "293 genes\n",
      "balb_intersection\n",
      "75 genes\n",
      "c57_union\n",
      "299 genes\n",
      "c57_intersection\n",
      "84 genes\n"
     ]
    }
   ],
   "source": [
    "for key in gene_list_dict.keys():\n",
    "    print(key)\n",
    "    print(len(gene_list_dict[key]), 'genes')\n",
    "    with open('./gene_lists/'+key+'_wholeliver_genes_fc_'+str(log2fc)+'_pval_'+str(pval)+'.txt', 'w') as f:\n",
    "        f.write('Gene\\n')\n",
    "        for i in gene_list_dict[key]:\n",
    "            f.write(i+'\\n')\n",
    "        f.close()"
   ]
  },
  {
   "cell_type": "code",
   "execution_count": 12,
   "metadata": {},
   "outputs": [],
   "source": [
    "groups = [[0,1,2],\n",
    "          [3,4,5],\n",
    "          [6,7,8]]\n",
    "\n",
    "group_labels = ['C57BL/6J Control young',\n",
    "                'AJ Control young',\n",
    "                'C57BL/6J Control young']\n",
    "\n",
    "colors = ['#de2d26',\n",
    "          '#6baed6',\n",
    "          '#74c476']"
   ]
  },
  {
   "cell_type": "markdown",
   "metadata": {},
   "source": [
    "### Pull sets for manual examination"
   ]
  },
  {
   "cell_type": "markdown",
   "metadata": {},
   "source": [
    "activated genes"
   ]
  },
  {
   "cell_type": "markdown",
   "metadata": {},
   "source": [
    "# Plot potential nichenet ligands"
   ]
  },
  {
   "cell_type": "code",
   "execution_count": 13,
   "metadata": {},
   "outputs": [],
   "source": [
    "tpm_mat = pd.read_csv('./expression/rawT.txt', sep='\\t', index_col=0)"
   ]
  },
  {
   "cell_type": "code",
   "execution_count": 14,
   "metadata": {},
   "outputs": [
    {
     "data": {
      "text/plain": [
       "['Cxcl1', 'Cxcl2', 'Cxcl3', 'Cxcl5', 'Ppbp']"
      ]
     },
     "execution_count": 14,
     "metadata": {},
     "output_type": "execute_result"
    }
   ],
   "source": [
    "ligands = pd.read_csv('/home/h1bennet/data/gene_lists/nichenet_ligands.txt',\n",
    "                      sep='\\t')['x'].str.capitalize().tolist()\n",
    "ligands[:5]"
   ]
  },
  {
   "cell_type": "markdown",
   "metadata": {},
   "source": [
    "Collect ALL activated NASH genes"
   ]
  },
  {
   "cell_type": "code",
   "execution_count": 15,
   "metadata": {},
   "outputs": [],
   "source": [
    "act = []\n",
    "for key in gene_list_dict.keys():\n",
    "    if 'union' in key:\n",
    "        act.extend(gene_list_dict[key])\n",
    "\n",
    "act = set(act)\n",
    "# overlap with ligands\n",
    "act_ligands = act.intersection(ligands)"
   ]
  },
  {
   "cell_type": "code",
   "execution_count": 16,
   "metadata": {},
   "outputs": [
    {
     "data": {
      "image/png": "[encoded data removed]",
      "text/plain": [
       "<Figure size 288x432 with 5 Axes>"
      ]
     },
     "metadata": {
      "needs_background": "light"
     },
     "output_type": "display_data"
    }
   ],
   "source": [
    "sns.clustermap(\n",
    "    np.log2(tpm_mat.loc[act_ligands]+1),\n",
    "    col_cluster=False,\n",
    "    #z_score=0,\n",
    "    cmap='Reds',\n",
    "    #vmin=-2,\n",
    "    vmax=8,\n",
    "    col_colors = ['#74c476', '#74c476', '#74c476',\n",
    "          '#6baed6', '#6baed6', '#6baed6',\n",
    "          '#de2d26', '#de2d26', '#de2d26'],\n",
    "    figsize=(4,6),\n",
    "    yticklabels=1)\n",
    "\n",
    "plt.savefig('./figures/diff_genes_union_ligands_clustermap.png', bbox_inches='tight')\n",
    "# plt.close()"
   ]
  },
  {
   "cell_type": "code",
   "execution_count": 17,
   "metadata": {},
   "outputs": [
    {
     "data": {
      "image/png": "[encoded data removed]",
      "text/plain": [
       "<Figure size 288x432 with 5 Axes>"
      ]
     },
     "metadata": {
      "needs_background": "light"
     },
     "output_type": "display_data"
    }
   ],
   "source": [
    "sns.clustermap(\n",
    "    np.log2(tpm_mat.loc[act_ligands]+1),\n",
    "    col_cluster=False,\n",
    "    z_score=0,\n",
    "    cmap='RdBu_r',\n",
    "    vmin=-2,\n",
    "    vmax=2,\n",
    "    col_colors = ['#74c476', '#74c476', '#74c476',\n",
    "          '#6baed6', '#6baed6', '#6baed6',\n",
    "          '#de2d26', '#de2d26', '#de2d26'],\n",
    "    figsize=(4,6),\n",
    "    yticklabels=1)\n",
    "\n",
    "plt.savefig('./figures/diff_genes_union_ligands_clustermap_zscore.png', bbox_inches='tight')\n",
    "# plt.close()"
   ]
  },
  {
   "cell_type": "markdown",
   "metadata": {},
   "source": [
    "# Plot genes for manual examination"
   ]
  },
  {
   "cell_type": "code",
   "execution_count": 18,
   "metadata": {},
   "outputs": [
    {
     "data": {
      "text/plain": [
       "Index(['c57_wholeliver_control_young_C57cA',\n",
       "       'c57_wholeliver_control_young_C57cB',\n",
       "       'c57_wholeliver_control_young_C57cC',\n",
       "       'balbc_wholeliver_control_young_BALBcA',\n",
       "       'balbc_wholeliver_control_young_BALBcB',\n",
       "       'balbc_wholeliver_control_young_BALBcC',\n",
       "       'aj_wholeliver_control_young_AJcA', 'aj_wholeliver_control_young_AJcB',\n",
       "       'aj_wholeliver_control_young_AJcC'],\n",
       "      dtype='object')"
      ]
     },
     "execution_count": 18,
     "metadata": {},
     "output_type": "execute_result"
    }
   ],
   "source": [
    "tpm_mat.columns"
   ]
  },
  {
   "cell_type": "code",
   "execution_count": 19,
   "metadata": {},
   "outputs": [],
   "source": [
    "groups = [[0,1,2],\n",
    "          [3,4,5],\n",
    "          [6,7,8]]\n",
    "\n",
    "group_labels = ['C57BL/6J Control young',\n",
    "                'BALB/cJ Control young',\n",
    "                'AJ Control young']\n",
    "\n",
    "colors = ['#74c476',\n",
    "          '#6baed6',\n",
    "          '#de2d26']"
   ]
  },
  {
   "cell_type": "code",
   "execution_count": 21,
   "metadata": {},
   "outputs": [
    {
     "data": {
      "image/png": "[encoded data removed]",
      "text/plain": [
       "<Figure size 2016x378 with 7 Axes>"
      ]
     },
     "metadata": {
      "needs_background": "light"
     },
     "output_type": "display_data"
    }
   ],
   "source": [
    "gene_list = ['Nr1d1', 'Nr1d2', 'Per1', 'Per2', 'Per3', 'Noct', 'Cry1']\n",
    "\n",
    "fig, axs = plt.subplots(1, len(gene_list), figsize=(4*len(gene_list), 3*len(gene_list)/4))\n",
    "plt.subplots_adjust(wspace=0.5)\n",
    "\n",
    "\n",
    "for gene, ax in zip(gene_list, axs.flat):\n",
    "    gene_list_bar_plot([gene],\n",
    "                       tpm_mat,\n",
    "                       groups=groups,\n",
    "                       group_labels = group_labels,\n",
    "                       colors = colors,\n",
    "                       width = 0.15,\n",
    "                       ax=ax)\n",
    "\n",
    "    ax.get_legend().remove()"
   ]
  },
  {
   "cell_type": "code",
   "execution_count": 20,
   "metadata": {
    "scrolled": true
   },
   "outputs": [
    {
     "data": {
      "text/plain": [
       "<matplotlib.axes._subplots.AxesSubplot at 0x7f77007b64d0>"
      ]
     },
     "execution_count": 20,
     "metadata": {},
     "output_type": "execute_result"
    },
    {
     "data": {
      "image/png": "[encoded data removed]",
      "text/plain": [
       "<Figure size 288x288 with 1 Axes>"
      ]
     },
     "metadata": {
      "needs_background": "light"
     },
     "output_type": "display_data"
    }
   ],
   "source": [
    "fig, ax = plt.subplots(figsize=(4, 4))\n",
    "\n",
    "gene_list_bar_plot(['Cxcl1'],\n",
    "                   tpm_mat,\n",
    "                   groups=groups,\n",
    "                   group_labels = group_labels,\n",
    "                   colors = colors,\n",
    "                   ax=ax)\n",
    "\n",
    "# ax.get_legend().remove()"
   ]
  },
  {
   "cell_type": "code",
   "execution_count": null,
   "metadata": {},
   "outputs": [],
   "source": []
  }
 ],
 "metadata": {
  "kernelspec": {
   "display_name": "dataviz",
   "language": "python",
   "name": "dataviz"
  },
  "language_info": {
   "codemirror_mode": {
    "name": "ipython",
    "version": 3
   },
   "file_extension": ".py",
   "mimetype": "text/x-python",
   "name": "python",
   "nbconvert_exporter": "python",
   "pygments_lexer": "ipython3",
   "version": "3.7.5"
  }
 },
 "nbformat": 4,
 "nbformat_minor": 2
}
