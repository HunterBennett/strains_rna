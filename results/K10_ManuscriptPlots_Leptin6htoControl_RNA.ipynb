{
 "cells": [
  {
   "cell_type": "code",
   "execution_count": 30,
   "metadata": {},
   "outputs": [
    {
     "name": "stdout",
     "output_type": "stream",
     "text": [
      "The autoreload extension is already loaded. To reload it, use:\n",
      "  %reload_ext autoreload\n"
     ]
    }
   ],
   "source": [
    "### header ###\n",
    "__author__ = \"Hunter Bennett\"\n",
    "__license__ = \"BSD\"\n",
    "__email__ = \"hunter.r.bennett@gmail.com\"\n",
    "%load_ext autoreload\n",
    "%autoreload 2\n",
    "%matplotlib inline\n",
    "### imports ###\n",
    "import sys\n",
    "import os\n",
    "import re\n",
    "import glob\n",
    "import pandas as pd\n",
    "import numpy as np\n",
    "import matplotlib\n",
    "import matplotlib.pyplot as plt\n",
    "import scipy.stats as stats\n",
    "from matplotlib_venn import venn3, venn2\n",
    "import seaborn as sns\n",
    "\n",
    "# import custom functions\n",
    "sys.path.insert(0, '/home/h1bennet/code/')\n",
    "from hbUtils import ngs_qc, quantile_normalize_df\n",
    "from homer_preprocessing import import_homer_diffgene\n",
    "from plotting_scripts import plot_exp_rpkm, gene_list_bar_plot"
   ]
  },
  {
   "cell_type": "code",
   "execution_count": 31,
   "metadata": {},
   "outputs": [],
   "source": [
    "workingDirectory = '/home/h1bennet/strains_rna/results/A10_Manuscript_Figures_AllLiverCells//'\n",
    "leptinDirectory = '/home/h1bennet/strains/data/RNA/leptin_6h_strains_kupffer/'\n",
    "controlDirectory = '/home/h1bennet/strains/data/RNA/control_kupffer/'\n",
    "dataDirectory = '/home/h1bennet/strains_rna/results/K06b_Strains_Leptin6htoControl_Kupffer_OutliersDropped//'\n",
    "if not os.path.isdir(workingDirectory):\n",
    "    os.mkdir(workingDirectory)\n",
    "os.chdir(workingDirectory)\n",
    "\n",
    "if not os.path.isdir('./leptin_treatment'):\n",
    "    os.mkdir('./leptin_treatment')\n"
   ]
  },
  {
   "cell_type": "code",
   "execution_count": 32,
   "metadata": {},
   "outputs": [],
   "source": [
    "#### PLOTTING PARAMETERS FOR MANUSCRIPT ####\n",
    "# # get matplotlib to save readable fonts\n",
    "matplotlib.rcParams['pdf.fonttype'] = 42\n",
    "matplotlib.rcParams['ps.fonttype'] = 42\n",
    "matplotlib.rcParams['font.size'] = 6\n",
    "matplotlib.rcParams['savefig.dpi'] = 500\n",
    "\n",
    "\n",
    "# line widths\n",
    "matplotlib.rcParams['axes.linewidth'] = 1\n",
    "matplotlib.rcParams['xtick.major.width'] = 1\n",
    "matplotlib.rcParams['ytick.major.width'] = 1\n",
    "\n",
    "# adjust defualt color for plots to black\n",
    "# normal default is a dark gray\n",
    "COLOR = 'black'\n",
    "matplotlib.rcParams['text.color'] = COLOR\n",
    "matplotlib.rcParams['axes.labelcolor'] = COLOR\n",
    "matplotlib.rcParams['xtick.color'] = COLOR\n",
    "matplotlib.rcParams['ytick.color'] = COLOR\n",
    "matplotlib.rcParams['axes.edgecolor'] = COLOR\n",
    "\n",
    "#### PLOT PARAMETERS FOR THIS PLOT ####"
   ]
  },
  {
   "cell_type": "markdown",
   "metadata": {},
   "source": [
    "# Make hub to look at individual files"
   ]
  },
  {
   "cell_type": "markdown",
   "metadata": {},
   "source": [
    "# Import differential gene files for examination and plotting"
   ]
  },
  {
   "cell_type": "markdown",
   "metadata": {},
   "source": [
    "Make folder for figures"
   ]
  },
  {
   "cell_type": "code",
   "execution_count": 33,
   "metadata": {},
   "outputs": [],
   "source": [
    "if not os.path.isdir('./figures/'):\n",
    "    os.mkdir('./figures')"
   ]
  },
  {
   "cell_type": "markdown",
   "metadata": {},
   "source": [
    "Plot our own version of scatter"
   ]
  },
  {
   "cell_type": "code",
   "execution_count": 34,
   "metadata": {},
   "outputs": [],
   "source": [
    "comps = ['aj_kupffer_control.vs.aj_kupffer_leptin_6hours.scatter.homer.txt']\n",
    "\n",
    "ids = [['AJ.*Kupffer', 'aj.*leptin_6h']]\n",
    "\n",
    "labels = [['AJ control', 'AJ Leptin 6hours']]\n",
    "\n",
    "colors = [['#bdbdbd', '#a50f15']]\n",
    "\n",
    "# set plotting thresholds\n",
    "pthresh = 0.05\n",
    "fontsize=10\n",
    "labelsize=6\n",
    "lfcthresh = (np.log2(1.5),2)\n",
    "dotsize = 0.5\n",
    "ax_max = 16\n",
    "n_yticks = 5\n",
    "ytickstep = 3\n",
    "color = '#636363'\n",
    "filename='aj_leptin_treatment_combined_scatter.pdf'"
   ]
  },
  {
   "cell_type": "code",
   "execution_count": 35,
   "metadata": {},
   "outputs": [
    {
     "name": "stdout",
     "output_type": "stream",
     "text": [
      "aj_kupffer_control.vs.aj_kupffer_leptin_6hours.scatter.homer.txt\n",
      "ge all transcripts (24940, 18)\n",
      "Diff Gene selected transcripts (9289, 14)\n",
      "ge selected transcripts (9289, 18)\n",
      "8018 peaks\n",
      "39 genes up in group 1\n",
      "27 genes up in group 2\n"
     ]
    },
    {
     "data": {
      "image/png": "[encoded data removed]",
      "text/plain": [
       "<Figure size 144x144 with 1 Axes>"
      ]
     },
     "metadata": {
      "needs_background": "light"
     },
     "output_type": "display_data"
    }
   ],
   "source": [
    "fig, ax = plt.subplots(1,1,\n",
    "                        figsize=(2,2),\n",
    "                        sharex=True,\n",
    "                        sharey=True)\n",
    "plt.subplots_adjust(wspace=0.2,\n",
    "                    hspace=0.2)\n",
    "\n",
    "# set count for labeling axes\n",
    "count=0\n",
    "\n",
    "for comp, grep, labs, color in zip(comps, ids, labels, colors):\n",
    "    print(comp)\n",
    "    de, tpm, tpm_mat, tpm_mat_quant = import_homer_diffgene(\n",
    "        '../K06b_Strains_Leptin6htoControl_Kupffer_OutliersDropped/differential/'+comp,\n",
    "        '../K06b_Strains_Leptin6htoControl_Kupffer_OutliersDropped/expression/HOMER.rawTPM.txt',\n",
    "        gene_name_index=True)\n",
    "    \n",
    "    # extract columns\n",
    "    g0 = tpm_mat.columns.str.contains(grep[0])\n",
    "    g1 = tpm_mat.columns.str.contains(grep[1])\n",
    "    col = g0 | g1\n",
    "    \n",
    "    de['logtpm'] = np.log2(tpm_mat.loc[:, col].mean(1)+1)\n",
    "    de['log10p'] = -np.log10(de.padj + 10**(-50))\n",
    "    de['g0_mean'] = np.log2(tpm_mat.loc[:, g0].mean(1)+1)\n",
    "    de['g1_mean'] = np.log2(tpm_mat.loc[:, g1].mean(1)+1)\n",
    "       \n",
    "    # plot group by group scatter:\n",
    "    de_nonsig = de.reindex(de.index[de.padj >= pthresh])\n",
    "    de_sig_fc1 = de.reindex(de.index[(de.padj < pthresh) & (np.abs(de.log2FoldChange) >= lfcthresh[0])])\n",
    "    \n",
    "    # check number of peaks in each group\n",
    "    print(de_nonsig.shape[0], 'peaks')\n",
    "    print((de_sig_fc1.log2FoldChange > lfcthresh[0]).sum(), 'genes up in group 1')\n",
    "    print((de_sig_fc1.log2FoldChange < -lfcthresh[0]).sum(), 'genes up in group 2')\n",
    "    \n",
    "    for df, c in zip([de_nonsig, de_sig_fc1],\n",
    "                     color):\n",
    "        ax.scatter(\n",
    "            x=df.g0_mean,\n",
    "            y=df.g1_mean,\n",
    "            c=c,\n",
    "            s=dotsize,\n",
    "            #rasterized=True\n",
    "        )\n",
    "     \n",
    "    # Hide the right and top spines\n",
    "    ax.spines['right'].set_visible(False)\n",
    "    ax.spines['top'].set_visible(False)\n",
    "    \n",
    "\n",
    "    ax.set_xlabel(labs[0], fontsize=labelsize+2)\n",
    "    ax.set_ylabel(labs[1], fontsize=labelsize+2)\n",
    "    \n",
    "    #set max and min\n",
    "    ax.set_xlim([0,ax_max])\n",
    "    ax.set_ylim([0,ax_max])\n",
    "    \n",
    "    # set ticks\n",
    "    ax.set_xticks(np.arange(0,ax_max,ytickstep))\n",
    "    ax.set_xticklabels(np.arange(0,ax_max,ytickstep),\n",
    "                       fontdict={'fontsize':labelsize})\n",
    "    ax.set_yticks(np.arange(0,ax_max,ytickstep))\n",
    "    ax.set_yticklabels(np.arange(0,ax_max,ytickstep),\n",
    "                       fontdict={'fontsize':labelsize})\n",
    "    \n",
    "    count = count + 1\n",
    "plt.savefig('./leptin_treatment/'+filename, bbox_inches='tight')"
   ]
  },
  {
   "cell_type": "markdown",
   "metadata": {},
   "source": [
    "# Metascape"
   ]
  },
  {
   "cell_type": "code",
   "execution_count": 7,
   "metadata": {},
   "outputs": [],
   "source": [
    "meta = pd.read_excel('../K06b_Strains_Leptin6htoControl_Kupffer_OutliersDropped/gene_lists/aj_kupffer_leptin_6hours_up_kupffer_genes_fc_0.58_pval_0.05_/metascape_result.xlsx',\n",
    "                     sheet_name=1)"
   ]
  },
  {
   "cell_type": "code",
   "execution_count": 8,
   "metadata": {},
   "outputs": [
    {
     "data": {
      "text/plain": [
       "['Mononuclear Cell\\nDifferentiation',\n",
       " 'AMPK\\nSignaling',\n",
       " 'Reg. of Cellular\\nCatabolism']"
      ]
     },
     "execution_count": 8,
     "metadata": {},
     "output_type": "execute_result"
    }
   ],
   "source": [
    "['GO:1903131', 'ko04152', 'GO:0031331']\n",
    "['Mononuclear Cell\\nDifferentiation',\n",
    "                      'AMPK\\nSignaling',\n",
    "                      'Reg. of Cellular\\nCatabolism']"
   ]
  },
  {
   "cell_type": "code",
   "execution_count": 9,
   "metadata": {},
   "outputs": [],
   "source": [
    "leptin_act_terms = ['R-MMU-1799339', 'GO:0006119', 'GO:0032642']\n",
    "leptin_act_strings = ['Antigen\\nPresentation',\n",
    "                    'Oxidative\\nPhosphorylation',\n",
    "                    'Chemokine\\nProduction']\n",
    "leptin_rep_terms = ['GO:1903131', 'ko04152', 'GO:0031331']\n",
    "leptin_rep_strings = ['Mononuclear Cell\\nDifferentiation',\n",
    "                      'AMPK\\nSignaling',\n",
    "                      'Reg. of Cellular\\nCatabolism']"
   ]
  },
  {
   "cell_type": "code",
   "execution_count": 10,
   "metadata": {},
   "outputs": [
    {
     "data": {
      "image/png": "[encoded data removed]",
      "text/plain": [
       "<Figure size 108x216 with 2 Axes>"
      ]
     },
     "metadata": {
      "needs_background": "light"
     },
     "output_type": "display_data"
    }
   ],
   "source": [
    "fig, (ax1, ax2) = plt.subplots(2, 1, figsize=(1.5,3),\n",
    "                               sharex=True)\n",
    "plt.subplots_adjust(wspace=0.7)\n",
    "\n",
    "meta = pd.read_excel(\n",
    "    '../K06b_Strains_Leptin6htoControl_Kupffer_OutliersDropped/gene_lists/aj_kupffer_leptin_6hours_up_kupffer_genes_fc_0.58_pval_0.05_/metascape_result.xlsx',\n",
    "    sheet_name=1)\n",
    "meta_filt = meta.loc[meta['Term'].str.contains('|'.join(leptin_act_terms))]\n",
    "meta_filt = meta_filt.sort_values('LogP', ascending=True)\n",
    "meta_filt = meta_filt.reindex(meta_filt.Term.drop_duplicates().index)\n",
    "\n",
    "y_ind = np.arange(len(leptin_act_terms))\n",
    "enrichment = -meta_filt['LogP']\n",
    "ax1.barh(y_ind,\n",
    "         enrichment,\n",
    "         align='center',\n",
    "         linewidth=1,\n",
    "         edgecolor='k',\n",
    "         color='#bdbdbd')\n",
    "ax1.set_yticks(y_ind)\n",
    "ax1.set_yticklabels(leptin_act_strings)\n",
    "ax1.invert_yaxis()\n",
    "ax1.set_title('Leptin Activated')\n",
    "# ax1.set_xlabel('-log(p-value)')\n",
    "\n",
    "\n",
    "meta = pd.read_excel(\n",
    "    '../K06b_Strains_Leptin6htoControl_Kupffer_OutliersDropped/gene_lists/aj_kupffer_control_up_kupffer_genes_fc_0.58_pval_0.05_//metascape_result.xlsx',\n",
    "    sheet_name=1)\n",
    "meta_filt = meta.loc[meta['Term'].str.contains('|'.join(leptin_rep_terms))]\n",
    "meta_filt = meta_filt.sort_values('LogP', ascending=True)\n",
    "meta_filt = meta_filt.reindex(meta_filt.Term.drop_duplicates().index)\n",
    "\n",
    "y_ind = np.arange(len(leptin_rep_terms))\n",
    "enrichment = -meta_filt['LogP']\n",
    "ax2.barh(y_ind,\n",
    "         enrichment,\n",
    "         align='center',\n",
    "         linewidth=1,\n",
    "         edgecolor='k',\n",
    "         color='#bdbdbd')\n",
    "ax2.set_yticks(y_ind)\n",
    "ax2.set_yticklabels(leptin_rep_strings)\n",
    "ax2.invert_yaxis()\n",
    "ax2.set_title('Leptin Repressed')\n",
    "ax2.set_xlabel('-log(p-value)')\n",
    "\n",
    "plt.savefig('../A10_Manuscript_Figures_AllLiverCells/leptin_treatment_GO_long.pdf',\n",
    "            bbox_inches='tight')"
   ]
  },
  {
   "cell_type": "markdown",
   "metadata": {},
   "source": [
    "## Write differential genes to list for metascape"
   ]
  },
  {
   "cell_type": "code",
   "execution_count": 36,
   "metadata": {},
   "outputs": [
    {
     "data": {
      "text/plain": [
       "['../K06b_Strains_Leptin6htoControl_Kupffer_OutliersDropped/differential/overall.heatmap.txt',\n",
       " '../K06b_Strains_Leptin6htoControl_Kupffer_OutliersDropped/differential/balbc_kupffer_control.vs.balbc_kupffer_leptin_6hours.scatter.homer.txt',\n",
       " '../K06b_Strains_Leptin6htoControl_Kupffer_OutliersDropped/differential/balbc_kupffer_leptin_6hours.vs.balbc_kupffer_control.scatter.homer.txt',\n",
       " '../K06b_Strains_Leptin6htoControl_Kupffer_OutliersDropped/differential/balbc_kupffer_leptin_6hours.vs.balbc_kupffer_control.scatter.pdf',\n",
       " '../K06b_Strains_Leptin6htoControl_Kupffer_OutliersDropped/differential/balbc_kupffer_control.vs.balbc_kupffer_leptin_6hours.scatter.txt',\n",
       " '../K06b_Strains_Leptin6htoControl_Kupffer_OutliersDropped/differential/balbc_kupffer_leptin_6hours.vs.balbc_kupffer_control.scatter.txt',\n",
       " '../K06b_Strains_Leptin6htoControl_Kupffer_OutliersDropped/differential/aj_kupffer_control.vs.aj_kupffer_leptin_6hours.scatter.homer.txt',\n",
       " '../K06b_Strains_Leptin6htoControl_Kupffer_OutliersDropped/differential/balbc_kupffer_control.vs.balbc_kupffer_leptin_6hours.scatter.pdf',\n",
       " '../K06b_Strains_Leptin6htoControl_Kupffer_OutliersDropped/differential/aj_kupffer_leptin_6hours.vs.aj_kupffer_control.scatter.txt',\n",
       " '../K06b_Strains_Leptin6htoControl_Kupffer_OutliersDropped/differential/aj_kupffer_control.vs.aj_kupffer_leptin_6hours.scatter.txt',\n",
       " '../K06b_Strains_Leptin6htoControl_Kupffer_OutliersDropped/differential/aj_kupffer_control.vs.aj_kupffer_leptin_6hours.scatter.pdf',\n",
       " '../K06b_Strains_Leptin6htoControl_Kupffer_OutliersDropped/differential/aj_kupffer_leptin_6hours.vs.aj_kupffer_control.scatter.pdf',\n",
       " '../K06b_Strains_Leptin6htoControl_Kupffer_OutliersDropped/differential/aj_kupffer_leptin_6hours.vs.aj_kupffer_control.scatter.homer.txt',\n",
       " '../K06b_Strains_Leptin6htoControl_Kupffer_OutliersDropped/differential/overall.heatmap.pdf']"
      ]
     },
     "execution_count": 36,
     "metadata": {},
     "output_type": "execute_result"
    }
   ],
   "source": [
    "glob.glob('../K06b_Strains_Leptin6htoControl_Kupffer_OutliersDropped/differential/*')"
   ]
  },
  {
   "cell_type": "code",
   "execution_count": 48,
   "metadata": {},
   "outputs": [
    {
     "data": {
      "text/plain": [
       "['',\n",
       " '',\n",
       " '/K06b_Strains_Leptin6htoControl_Kupffer_OutliersDropped/differential/aj_kupffer_leptin_6hours',\n",
       " 'vs',\n",
       " 'aj_kupffer_control',\n",
       " 'scatter',\n",
       " 'homer',\n",
       " 'txt']"
      ]
     },
     "execution_count": 48,
     "metadata": {},
     "output_type": "execute_result"
    }
   ],
   "source": [
    "i.split('.')"
   ]
  },
  {
   "cell_type": "code",
   "execution_count": 61,
   "metadata": {
    "scrolled": false
   },
   "outputs": [
    {
     "name": "stdout",
     "output_type": "stream",
     "text": [
      "../K06b_Strains_Leptin6htoControl_Kupffer_OutliersDropped/differential/balbc_kupffer_control.vs.balbc_kupffer_leptin_6hours.scatter.homer.txt\n",
      "ge all transcripts (24940, 18)\n",
      "Diff Gene selected transcripts (9168, 14)\n",
      "ge selected transcripts (9168, 18)\n",
      "../K06b_Strains_Leptin6htoControl_Kupffer_OutliersDropped/differential/balbc_kupffer_leptin_6hours.vs.balbc_kupffer_control.scatter.homer.txt\n",
      "ge all transcripts (24940, 18)\n",
      "Diff Gene selected transcripts (9168, 14)\n",
      "ge selected transcripts (9168, 18)\n",
      "../K06b_Strains_Leptin6htoControl_Kupffer_OutliersDropped/differential/aj_kupffer_control.vs.aj_kupffer_leptin_6hours.scatter.homer.txt\n",
      "ge all transcripts (24940, 18)\n",
      "Diff Gene selected transcripts (9289, 14)\n",
      "ge selected transcripts (9289, 18)\n",
      "../K06b_Strains_Leptin6htoControl_Kupffer_OutliersDropped/differential/aj_kupffer_leptin_6hours.vs.aj_kupffer_control.scatter.homer.txt\n",
      "ge all transcripts (24940, 18)\n",
      "Diff Gene selected transcripts (9289, 14)\n",
      "ge selected transcripts (9289, 18)\n"
     ]
    }
   ],
   "source": [
    "gene_list_dict = {}\n",
    "pval=0.05\n",
    "log2fc=np.log2(1.5)\n",
    "for i in np.sort(glob.glob('../K06b_Strains_Leptin6htoControl_Kupffer_OutliersDropped/differential/c57*c57*homer.txt')):\n",
    "    print(i)\n",
    "    # read in gene expression data\n",
    "    df, tpm, tpm_mat, tpm_mat_quant = import_homer_diffgene(\n",
    "        depath=i,\n",
    "        gepath='../K06b_Strains_Leptin6htoControl_Kupffer_OutliersDropped/expression/HOMER.rawTPM.txt',\n",
    "        gene_name_index=True)\n",
    "\n",
    "    # select differential genes\n",
    "    df = df.loc[~(df.chr.str.contains('chrX|chrY|ChrUn')), :]\n",
    "    sig_genes = df.index[(df['padj'] < pval) & (df['log2FoldChange'] >= log2fc)].to_list()\n",
    "    gene_list_dict[i.split('.')[4]+'_up'] = list(sig_genes)\n",
    "    # print('union set length:', print(len(g_union)))\n",
    "    # print('intersection set length:', print(len(g_intersect)))\n",
    "\n",
    "for i in np.sort(glob.glob('../K06b_Strains_Leptin6htoControl_Kupffer_OutliersDropped/differential/balb*balb*homer.txt')):\n",
    "    print(i)\n",
    "    # read in gene expression data\n",
    "    df, tpm, tpm_mat, tpm_mat_quant = import_homer_diffgene(\n",
    "        depath=i,\n",
    "        gepath='../K06b_Strains_Leptin6htoControl_Kupffer_OutliersDropped/expression/HOMER.rawTPM.txt',\n",
    "        gene_name_index=True)\n",
    "\n",
    "    # select differential genes\n",
    "    df = df.loc[~(df.chr.str.contains('chrX|chrY|ChrUn')), :]\n",
    "    sig_genes = df.index[(df['padj'] < pval) & (df['log2FoldChange'] >= log2fc)].to_list()\n",
    "    gene_list_dict[i.split('.')[4]+'_up'] = list(sig_genes)\n",
    "    # print('union set length:', print(len(g_union)))\n",
    "    # print('intersection set length:', print(len(g_intersect)))\n",
    "    \n",
    "for i in np.sort(glob.glob('../K06b_Strains_Leptin6htoControl_Kupffer_OutliersDropped/differential/aj*aj*homer.txt')):\n",
    "    print(i)\n",
    "    # read in gene expression data\n",
    "    df, tpm, tpm_mat, tpm_mat_quant = import_homer_diffgene(\n",
    "        depath=i,\n",
    "        gepath='../K06b_Strains_Leptin6htoControl_Kupffer_OutliersDropped/expression/HOMER.rawTPM.txt',\n",
    "        gene_name_index=True)\n",
    "\n",
    "    # select differential genes\n",
    "    df = df.loc[~(df.chr.str.contains('chrX|chrY|ChrUn')), :]\n",
    "    sig_genes = df.index[(df['padj'] < pval) & (df['log2FoldChange'] >= log2fc)].to_list()\n",
    "    gene_list_dict[i.split('.')[4]+'_up'] = list(sig_genes)\n",
    "    # print('union set length:', print(len(g_union)))\n",
    "    # print('intersection set length:', print(len(g_intersect)))"
   ]
  },
  {
   "cell_type": "code",
   "execution_count": 62,
   "metadata": {
    "scrolled": true
   },
   "outputs": [],
   "source": [
    "# for key in gene_list_dict.keys():\n",
    "#     print(key)\n",
    "#     print(len(gene_list_dict[key]), 'genes')\n",
    "#     with open('./gene_lists/'+key+'_kupffer_genes_fc_%.2f_pval_%.2f_.txt' % (log2fc, pval), 'w') as f:\n",
    "#         f.write('Gene\\n')\n",
    "#         for i in gene_list_dict[key]:\n",
    "#             f.write(i+'\\n')\n",
    "#         f.close()"
   ]
  },
  {
   "cell_type": "markdown",
   "metadata": {},
   "source": [
    "# look at  overlap with strain specific gene sets"
   ]
  },
  {
   "cell_type": "markdown",
   "metadata": {},
   "source": [
    "Read in strain specific gene sets"
   ]
  },
  {
   "cell_type": "code",
   "execution_count": 63,
   "metadata": {},
   "outputs": [],
   "source": [
    "strain_spec_kc_genes = {}\n",
    "for gene_list_path in glob.glob('/home/h1bennet/strains_rna/results/K00_Strains_Control_Kupffer_RNA/gene_lists/*txt'):\n",
    "    gene_list = []\n",
    "    gene_list_name = gene_list_path.split('/')[-1].split('_kupffer')[0]\n",
    "    with open(gene_list_path, 'r') as f:\n",
    "        strain_spec_kc_genes[gene_list_name] = [i.strip() for i in f.readlines()][1:]\n",
    "    "
   ]
  },
  {
   "cell_type": "markdown",
   "metadata": {},
   "source": [
    "There is mild overlap between these gene sets"
   ]
  },
  {
   "cell_type": "code",
   "execution_count": 64,
   "metadata": {
    "scrolled": true
   },
   "outputs": [
    {
     "data": {
      "text/plain": [
       "dict_keys(['balbc_kupffer_leptin_6hours_up', 'balbc_kupffer_control_up', 'aj_kupffer_leptin_6hours_up', 'aj_kupffer_control_up'])"
      ]
     },
     "execution_count": 64,
     "metadata": {},
     "output_type": "execute_result"
    }
   ],
   "source": [
    "gene_list_dict.keys()"
   ]
  },
  {
   "cell_type": "code",
   "execution_count": 65,
   "metadata": {
    "scrolled": false
   },
   "outputs": [
    {
     "name": "stdout",
     "output_type": "stream",
     "text": [
      "aj_intersection\n",
      "0\n",
      "set()\n",
      "balb_intersection\n",
      "3\n",
      "{'Lgals1', 'Ifi27l2a', 'Trem2'}\n",
      "c57_intersection\n",
      "0\n",
      "set()\n",
      "balb_union\n",
      "6\n",
      "{'Lgals1', 'Ifi27l2a', 'Trem2', 'Per1', 'Anxa2', 'Rcan1'}\n",
      "aj_union\n",
      "3\n",
      "{'Marco', 'Lgals1', 'Ikbke'}\n",
      "c57_union\n",
      "6\n",
      "{'Ikbke', 'Per1', 'Marco', 'Rgs1', 'D17H6S56E-5', 'Mki67'}\n"
     ]
    }
   ],
   "source": [
    "for key in strain_spec_kc_genes.keys():\n",
    "    print(key)\n",
    "    print(len(set(gene_list_dict['aj_kupffer_leptin_6hours_up']).intersection(strain_spec_kc_genes[key])))\n",
    "    print(set(gene_list_dict['aj_kupffer_leptin_6hours_up']).intersection(strain_spec_kc_genes[key]))"
   ]
  },
  {
   "cell_type": "code",
   "execution_count": 66,
   "metadata": {
    "scrolled": true
   },
   "outputs": [
    {
     "name": "stdout",
     "output_type": "stream",
     "text": [
      "230\n"
     ]
    }
   ],
   "source": [
    "print(len(strain_spec_kc_genes['balb_union']))"
   ]
  },
  {
   "cell_type": "code",
   "execution_count": 67,
   "metadata": {
    "scrolled": true
   },
   "outputs": [
    {
     "name": "stdout",
     "output_type": "stream",
     "text": [
      "27\n"
     ]
    }
   ],
   "source": [
    "print(len(set(gene_list_dict['aj_kupffer_control_up'])))"
   ]
  },
  {
   "cell_type": "code",
   "execution_count": 68,
   "metadata": {},
   "outputs": [
    {
     "name": "stdout",
     "output_type": "stream",
     "text": [
      "aj_intersection\n",
      "0\n",
      "set()\n",
      "balb_intersection\n",
      "0\n",
      "set()\n",
      "c57_intersection\n",
      "0\n",
      "set()\n",
      "balb_union\n",
      "2\n",
      "{'Lepr', 'Rnf144b'}\n",
      "aj_union\n",
      "4\n",
      "{'Fosb', 'Mturn', 'Rnf144b', 'Vipr1'}\n",
      "c57_union\n",
      "4\n",
      "{'Fosb', 'Ncoa1', 'Lepr', 'Vipr1'}\n"
     ]
    }
   ],
   "source": [
    "for key in strain_spec_kc_genes.keys():\n",
    "    print(key)\n",
    "    print(len(set(gene_list_dict['aj_kupffer_control_up']).intersection(strain_spec_kc_genes[key])))\n",
    "    print(set(gene_list_dict['aj_kupffer_control_up']).intersection(strain_spec_kc_genes[key]))"
   ]
  },
  {
   "cell_type": "code",
   "execution_count": 69,
   "metadata": {},
   "outputs": [
    {
     "data": {
      "text/plain": [
       "227"
      ]
     },
     "execution_count": 69,
     "metadata": {},
     "output_type": "execute_result"
    }
   ],
   "source": [
    "len(strain_spec_kc_genes['aj_union'])"
   ]
  },
  {
   "cell_type": "code",
   "execution_count": 70,
   "metadata": {},
   "outputs": [
    {
     "name": "stdout",
     "output_type": "stream",
     "text": [
      "27\n"
     ]
    }
   ],
   "source": [
    "print(len(set(gene_list_dict['aj_kupffer_control_up'])))"
   ]
  },
  {
   "cell_type": "code",
   "execution_count": 71,
   "metadata": {
    "scrolled": true
   },
   "outputs": [
    {
     "data": {
      "text/plain": [
       "(7.043088321310197, 0.0039301583384493705)"
      ]
     },
     "execution_count": 71,
     "metadata": {},
     "output_type": "execute_result"
    }
   ],
   "source": [
    "stats.fisher_exact([[9289-227-27-4, 27-4], [227-4, 4]], alternative='greater')"
   ]
  },
  {
   "cell_type": "code",
   "execution_count": 59,
   "metadata": {},
   "outputs": [],
   "source": [
    "import scipy.stats as stats"
   ]
  },
  {
   "cell_type": "markdown",
   "metadata": {},
   "source": [
    "## test enrichment of balb union genes in leptin induced set"
   ]
  },
  {
   "cell_type": "code",
   "execution_count": 72,
   "metadata": {},
   "outputs": [
    {
     "data": {
      "text/plain": [
       "(9289, 19)"
      ]
     },
     "execution_count": 72,
     "metadata": {},
     "output_type": "execute_result"
    }
   ],
   "source": [
    "de.shape"
   ]
  },
  {
   "cell_type": "code",
   "execution_count": 77,
   "metadata": {},
   "outputs": [
    {
     "name": "stdout",
     "output_type": "stream",
     "text": [
      "9289\n",
      "230\n",
      "37\n",
      "6\n"
     ]
    }
   ],
   "source": [
    "print(de.shape[0])\n",
    "print(len(set(strain_spec_kc_genes['balb_union'])))\n",
    "print(len(set(gene_list_dict['aj_kupffer_leptin_6hours_up'])))\n",
    "print(len(set(gene_list_dict['aj_kupffer_leptin_6hours_up']).intersection(strain_spec_kc_genes['balb_union'])))"
   ]
  },
  {
   "cell_type": "markdown",
   "metadata": {},
   "source": [
    "Contingency table explained:  \n",
    "\n",
    "genes in dataset: 9289  \n",
    "genes 2 fold up in balb union: 230  \n",
    "genes 1.5 fold induced by leptin in aj: 37  \n",
    "overlap between two gene sets: 6.  \n",
    "\n",
    "|  |Not in A              | in A |\n",
    "|:---:|:----------------------:|:-----:\n",
    "Not in B|9289 - 224 - 31 - 6 | 37-6\n",
    "In B|230-6                | 6"
   ]
  },
  {
   "cell_type": "code",
   "execution_count": 60,
   "metadata": {},
   "outputs": [
    {
     "data": {
      "text/plain": [
       "(7.8058755760368665, 0.0002628836657345142)"
      ]
     },
     "execution_count": 60,
     "metadata": {},
     "output_type": "execute_result"
    }
   ],
   "source": [
    "stats.fisher_exact([[9289-224-31, 37-6], [230-6, 6]], alternative='greater')"
   ]
  },
  {
   "cell_type": "code",
   "execution_count": 78,
   "metadata": {},
   "outputs": [
    {
     "name": "stdout",
     "output_type": "stream",
     "text": [
      "9289\n",
      "230\n",
      "27\n",
      "2\n"
     ]
    }
   ],
   "source": [
    "print(de.shape[0])\n",
    "print(len(set(strain_spec_kc_genes['balb_union'])))\n",
    "print(len(set(gene_list_dict['aj_kupffer_control_up'])))\n",
    "print(len(set(gene_list_dict['aj_kupffer_control_up']).intersection(strain_spec_kc_genes['balb_union'])))"
   ]
  },
  {
   "cell_type": "code",
   "execution_count": 79,
   "metadata": {},
   "outputs": [
    {
     "data": {
      "text/plain": [
       "(3.170526315789474, 0.14325594424333038)"
      ]
     },
     "execution_count": 79,
     "metadata": {},
     "output_type": "execute_result"
    }
   ],
   "source": [
    "stats.fisher_exact([[9289-224-27-2, 27-2], [230-2, 2]], alternative='greater')"
   ]
  },
  {
   "cell_type": "markdown",
   "metadata": {},
   "source": [
    "# Lets look at overlap between BALB and AJ differential genes in particular"
   ]
  },
  {
   "cell_type": "code",
   "execution_count": 81,
   "metadata": {},
   "outputs": [
    {
     "name": "stdout",
     "output_type": "stream",
     "text": [
      "/home/ttroutman/strainsKupffer/rnaKupfferNASH/rnaDiff/aj_control.vs.balbcj_control.scatter.txt\n"
     ]
    }
   ],
   "source": [
    "pval = 0.05\n",
    "log2fc = np.log2(1.5)\n",
    "for i in np.sort(glob.glob('/home/ttroutman/strainsKupffer/rnaKupfferNASH/rnaDiff/aj_control.vs.balbcj_control.scatter.txt')):\n",
    "    print(i)\n",
    "    # read in gene expression data\n",
    "    df = pd.read_csv(i,\n",
    "                 sep='\\t',\n",
    "                 index_col=0)\n",
    "    \n",
    "    # select differential genes\n",
    "    # df = df.loc[~(df.chr.str.contains('chrX|chrY|ChrUn')), :]\n",
    "    sig_genes = df.index[(df['padj'] < pval) & (df['log2FoldChange'] >= log2fc)].to_list()\n",
    "    gene_list_dict[i.split('/')[-1]] = list(sig_genes)"
   ]
  },
  {
   "cell_type": "code",
   "execution_count": 82,
   "metadata": {},
   "outputs": [
    {
     "data": {
      "text/plain": [
       "(7619, 7)"
      ]
     },
     "execution_count": 82,
     "metadata": {},
     "output_type": "execute_result"
    }
   ],
   "source": [
    "df.shape"
   ]
  },
  {
   "cell_type": "code",
   "execution_count": 83,
   "metadata": {},
   "outputs": [],
   "source": [
    "import scipy.stats as stats"
   ]
  },
  {
   "cell_type": "code",
   "execution_count": 84,
   "metadata": {},
   "outputs": [
    {
     "name": "stdout",
     "output_type": "stream",
     "text": [
      "aj_control.vs.balbcj_control.scatter.txt\n",
      "10\n",
      "{'Hspa1a', 'Lgals1', 'Ifi27l2a', 'Trem2', 'Rpl37rt', 'Sem1', 'Per1', 'Anxa3', 'Fabp7', 'Rcan1'}\n"
     ]
    }
   ],
   "source": [
    "key='aj_control.vs.balbcj_control.scatter.txt'\n",
    "print(key)\n",
    "print(len(set(gene_list_dict['aj_kupffer_leptin_6hours_up']).intersection(gene_list_dict[key])))\n",
    "print(set(gene_list_dict['aj_kupffer_leptin_6hours_up']).intersection(gene_list_dict[key]))"
   ]
  },
  {
   "cell_type": "code",
   "execution_count": 85,
   "metadata": {},
   "outputs": [
    {
     "name": "stdout",
     "output_type": "stream",
     "text": [
      "aj_control.vs.balbcj_control.scatter.txt\n",
      "1\n",
      "{'Lepr'}\n"
     ]
    }
   ],
   "source": [
    "key='aj_control.vs.balbcj_control.scatter.txt'\n",
    "print(key)\n",
    "print(len(set(gene_list_dict['aj_kupffer_control_up']).intersection(gene_list_dict[key])))\n",
    "print(set(gene_list_dict['aj_kupffer_control_up']).intersection(gene_list_dict[key]))"
   ]
  },
  {
   "cell_type": "code",
   "execution_count": 86,
   "metadata": {},
   "outputs": [
    {
     "name": "stdout",
     "output_type": "stream",
     "text": [
      "239\n"
     ]
    }
   ],
   "source": [
    "print(len(gene_list_dict[key]))"
   ]
  },
  {
   "cell_type": "markdown",
   "metadata": {},
   "source": [
    "## test enrichment of balb up vs aj genes in leptin induced set"
   ]
  },
  {
   "cell_type": "markdown",
   "metadata": {},
   "source": [
    "Contingency table explained:\n",
    "genes in dataset: 7619\n",
    "genes 2 fold up in balb vs aj: 239\n",
    "genes 1.5 fold induced by leptin in aj: 37\n",
    "overlap between two gene sets: 10.\n",
    "\n",
    "|  |Not in A              | in A |\n",
    "|:---:|:----------------------:|:-----:\n",
    "Not in B|7353 - 229 - 27 - 10 | 37-10\n",
    "In B|229-10                | 10"
   ]
  },
  {
   "cell_type": "code",
   "execution_count": 87,
   "metadata": {},
   "outputs": [
    {
     "data": {
      "text/plain": [
       "(11.985455775410113, 1.1897668481120654e-07)"
      ]
     },
     "execution_count": 87,
     "metadata": {},
     "output_type": "execute_result"
    }
   ],
   "source": [
    "stats.fisher_exact([[7353-229-27-10, 37-10], [229-10, 10]], alternative='greater')"
   ]
  },
  {
   "cell_type": "code",
   "execution_count": 88,
   "metadata": {},
   "outputs": [
    {
     "data": {
      "text/plain": [
       "(0.8645224171539961, 0.6903356597654796)"
      ]
     },
     "execution_count": 88,
     "metadata": {},
     "output_type": "execute_result"
    }
   ],
   "source": [
    "stats.fisher_exact([[7353-229-27-1, 37-1], [229-1, 1]], alternative='greater')"
   ]
  },
  {
   "cell_type": "code",
   "execution_count": null,
   "metadata": {},
   "outputs": [],
   "source": []
  }
 ],
 "metadata": {
  "kernelspec": {
   "display_name": "dataviz",
   "language": "python",
   "name": "dataviz"
  },
  "language_info": {
   "codemirror_mode": {
    "name": "ipython",
    "version": 3
   },
   "file_extension": ".py",
   "mimetype": "text/x-python",
   "name": "python",
   "nbconvert_exporter": "python",
   "pygments_lexer": "ipython3",
   "version": "3.7.5"
  }
 },
 "nbformat": 4,
 "nbformat_minor": 2
}
