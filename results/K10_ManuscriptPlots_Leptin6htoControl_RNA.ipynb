{
 "cells": [
  {
   "cell_type": "code",
   "execution_count": 10,
   "metadata": {},
   "outputs": [
    {
     "name": "stdout",
     "output_type": "stream",
     "text": [
      "The autoreload extension is already loaded. To reload it, use:\n",
      "  %reload_ext autoreload\n"
     ]
    }
   ],
   "source": [
    "### header ###\n",
    "__author__ = \"Hunter Bennett\"\n",
    "__license__ = \"BSD\"\n",
    "__email__ = \"hunter.r.bennett@gmail.com\"\n",
    "%load_ext autoreload\n",
    "%autoreload 2\n",
    "%matplotlib inline\n",
    "### imports ###\n",
    "import sys\n",
    "import os\n",
    "import re\n",
    "import glob\n",
    "import pandas as pd\n",
    "import numpy as np\n",
    "import matplotlib\n",
    "import matplotlib.pyplot as plt\n",
    "import scipy.stats as stats\n",
    "from matplotlib_venn import venn3, venn2\n",
    "import seaborn as sns\n",
    "\n",
    "# import custom functions\n",
    "sys.path.insert(0, '/home/h1bennet/code/')\n",
    "from hbUtils import ngs_qc, quantile_normalize_df\n",
    "from homer_preprocessing import import_homer_diffgene\n",
    "from plotting_scripts import plot_exp_rpkm, gene_list_bar_plot"
   ]
  },
  {
   "cell_type": "code",
   "execution_count": 11,
   "metadata": {},
   "outputs": [],
   "source": [
    "workingDirectory = '/home/h1bennet/strains_rna/results/A10_Manuscript_Figures_AllLiverCells//'\n",
    "leptinDirectory = '/home/h1bennet/strains/data/RNA/leptin_6h_strains_kupffer/'\n",
    "controlDirectory = '/home/h1bennet/strains/data/RNA/control_kupffer/'\n",
    "if not os.path.isdir(workingDirectory):\n",
    "    os.mkdir(workingDirectory)\n",
    "os.chdir(workingDirectory)\n",
    "\n",
    "if not os.path.isdir('./leptin_treatment'):\n",
    "    os.mkdir('./leptin_treatment')\n"
   ]
  },
  {
   "cell_type": "code",
   "execution_count": 12,
   "metadata": {},
   "outputs": [],
   "source": [
    "#### PLOTTING PARAMETERS FOR MANUSCRIPT ####\n",
    "# # get matplotlib to save readable fonts\n",
    "matplotlib.rcParams['pdf.fonttype'] = 42\n",
    "matplotlib.rcParams['ps.fonttype'] = 42\n",
    "matplotlib.rcParams['font.size'] = 6\n",
    "matplotlib.rcParams['savefig.dpi'] = 500\n",
    "\n",
    "\n",
    "# line widths\n",
    "matplotlib.rcParams['axes.linewidth'] = 1\n",
    "matplotlib.rcParams['xtick.major.width'] = 1\n",
    "matplotlib.rcParams['ytick.major.width'] = 1\n",
    "\n",
    "# adjust defualt color for plots to black\n",
    "# normal default is a dark gray\n",
    "COLOR = 'black'\n",
    "matplotlib.rcParams['text.color'] = COLOR\n",
    "matplotlib.rcParams['axes.labelcolor'] = COLOR\n",
    "matplotlib.rcParams['xtick.color'] = COLOR\n",
    "matplotlib.rcParams['ytick.color'] = COLOR\n",
    "matplotlib.rcParams['axes.edgecolor'] = COLOR\n",
    "\n",
    "#### PLOT PARAMETERS FOR THIS PLOT ####"
   ]
  },
  {
   "cell_type": "markdown",
   "metadata": {},
   "source": [
    "# Make hub to look at individual files"
   ]
  },
  {
   "cell_type": "markdown",
   "metadata": {},
   "source": [
    "# Import differential gene files for examination and plotting"
   ]
  },
  {
   "cell_type": "markdown",
   "metadata": {},
   "source": [
    "Make folder for figures"
   ]
  },
  {
   "cell_type": "code",
   "execution_count": 13,
   "metadata": {},
   "outputs": [],
   "source": [
    "if not os.path.isdir('./figures/'):\n",
    "    os.mkdir('./figures')"
   ]
  },
  {
   "cell_type": "markdown",
   "metadata": {},
   "source": [
    "Plot our own version of scatter"
   ]
  },
  {
   "cell_type": "code",
   "execution_count": 14,
   "metadata": {},
   "outputs": [],
   "source": [
    "comps = ['aj_kupffer_control.vs.aj_kupffer_leptin_6hours.scatter.homer.txt']\n",
    "\n",
    "ids = [['AJ.*Kupffer', 'aj.*leptin_6h']]\n",
    "\n",
    "labels = [['AJ control', 'AJ Leptin 6hours']]\n",
    "\n",
    "colors = [['#bdbdbd', '#a50f15']]\n",
    "\n",
    "# set plotting thresholds\n",
    "pthresh = 0.05\n",
    "fontsize=10\n",
    "labelsize=6\n",
    "lfcthresh = (np.log2(1.5),2)\n",
    "dotsize = 0.5\n",
    "ax_max = 16\n",
    "n_yticks = 5\n",
    "ytickstep = 3\n",
    "color = '#636363'\n",
    "filename='aj_leptin_treatment_combined_scatter.png'"
   ]
  },
  {
   "cell_type": "code",
   "execution_count": 16,
   "metadata": {},
   "outputs": [
    {
     "name": "stdout",
     "output_type": "stream",
     "text": [
      "aj_kupffer_control.vs.aj_kupffer_leptin_6hours.scatter.homer.txt\n",
      "ge all transcripts (24940, 18)\n",
      "Diff Gene selected transcripts (9289, 14)\n",
      "ge selected transcripts (9289, 18)\n",
      "8018 peaks\n",
      "39 genes up in group 1\n",
      "27 genes up in group 2\n"
     ]
    },
    {
     "data": {
      "image/png": "[encoded data removed]",
      "text/plain": [
       "<Figure size 144x144 with 1 Axes>"
      ]
     },
     "metadata": {
      "needs_background": "light"
     },
     "output_type": "display_data"
    }
   ],
   "source": [
    "fig, ax = plt.subplots(1,1,\n",
    "                        figsize=(2,2),\n",
    "                        sharex=True,\n",
    "                        sharey=True)\n",
    "plt.subplots_adjust(wspace=0.2,\n",
    "                    hspace=0.2)\n",
    "\n",
    "# set count for labeling axes\n",
    "count=0\n",
    "\n",
    "for comp, grep, labs, color in zip(comps, ids, labels, colors):\n",
    "    print(comp)\n",
    "    de, tpm, tpm_mat, tpm_mat_quant = import_homer_diffgene(\n",
    "        '../K06b_Strains_Leptin6htoControl_Kupffer_OutliersDropped/differential/'+comp,\n",
    "        '../K06b_Strains_Leptin6htoControl_Kupffer_OutliersDropped/expression/HOMER.rawTPM.txt',\n",
    "        gene_name_index=True)\n",
    "    \n",
    "    # extract columns\n",
    "    g0 = tpm_mat.columns.str.contains(grep[0])\n",
    "    g1 = tpm_mat.columns.str.contains(grep[1])\n",
    "    col = g0 | g1\n",
    "    \n",
    "    de['logtpm'] = np.log2(tpm_mat.loc[:, col].mean(1)+1)\n",
    "    de['log10p'] = -np.log10(de.padj + 10**(-50))\n",
    "    de['g0_mean'] = np.log2(tpm_mat.loc[:, g0].mean(1)+1)\n",
    "    de['g1_mean'] = np.log2(tpm_mat.loc[:, g1].mean(1)+1)\n",
    "       \n",
    "    # plot group by group scatter:\n",
    "    de_nonsig = de.reindex(de.index[de.padj >= pthresh])\n",
    "    de_sig_fc1 = de.reindex(de.index[(de.padj < pthresh) & (np.abs(de.log2FoldChange) >= lfcthresh[0])])\n",
    "    \n",
    "    # check number of peaks in each group\n",
    "    print(de_nonsig.shape[0], 'peaks')\n",
    "    print((de_sig_fc1.log2FoldChange > lfcthresh[0]).sum(), 'genes up in group 1')\n",
    "    print((de_sig_fc1.log2FoldChange < -lfcthresh[0]).sum(), 'genes up in group 2')\n",
    "    \n",
    "    for df, c in zip([de_nonsig, de_sig_fc1],\n",
    "                     color):\n",
    "        ax.scatter(\n",
    "            x=df.g0_mean,\n",
    "            y=df.g1_mean,\n",
    "            c=c,\n",
    "            s=dotsize,\n",
    "            #rasterized=True\n",
    "        )\n",
    "     \n",
    "    # Hide the right and top spines\n",
    "    ax.spines['right'].set_visible(False)\n",
    "    ax.spines['top'].set_visible(False)\n",
    "    \n",
    "\n",
    "    ax.set_xlabel(labs[0], fontsize=labelsize+2)\n",
    "    ax.set_ylabel(labs[1], fontsize=labelsize+2)\n",
    "    \n",
    "    #set max and min\n",
    "    ax.set_xlim([0,ax_max])\n",
    "    ax.set_ylim([0,ax_max])\n",
    "    \n",
    "    # set ticks\n",
    "    ax.set_xticks(np.arange(0,ax_max,ytickstep))\n",
    "    ax.set_xticklabels(np.arange(0,ax_max,ytickstep),\n",
    "                       fontdict={'fontsize':labelsize})\n",
    "    ax.set_yticks(np.arange(0,ax_max,ytickstep))\n",
    "    ax.set_yticklabels(np.arange(0,ax_max,ytickstep),\n",
    "                       fontdict={'fontsize':labelsize})\n",
    "    \n",
    "    count = count + 1\n",
    "plt.savefig('./leptin_treatment/'+filename, bbox_inches='tight')"
   ]
  },
  {
   "cell_type": "markdown",
   "metadata": {},
   "source": [
    "# Metascape"
   ]
  },
  {
   "cell_type": "code",
   "execution_count": 18,
   "metadata": {},
   "outputs": [],
   "source": [
    "meta = pd.read_excel('../K06b_Strains_Leptin6htoControl_Kupffer_OutliersDropped/gene_lists/aj_kupffer_leptin_6hours_up_kupffer_genes_fc_0.58_pval_0.05_/metascape_result.xlsx',\n",
    "                     sheet_name=1)"
   ]
  },
  {
   "cell_type": "code",
   "execution_count": null,
   "metadata": {},
   "outputs": [],
   "source": [
    "['GO:1903131', 'ko04152', 'GO:0031331']\n",
    "['Mononuclear Cell\\nDifferentiation',\n",
    "                      'AMPK\\nSignaling',\n",
    "                      'Reg. of Cellular\\nCatabolism']"
   ]
  },
  {
   "cell_type": "code",
   "execution_count": 28,
   "metadata": {},
   "outputs": [],
   "source": [
    "leptin_act_terms = ['R-MMU-1799339', 'GO:0006119', 'GO:0032642']\n",
    "leptin_act_strings = ['Antigen\\nPresentation',\n",
    "                    'Oxidative\\nPhosphorylation',\n",
    "                    'Chemokine\\nProduction']\n",
    "leptin_rep_terms = ['GO:1903131', 'ko04152', 'GO:0031331']\n",
    "leptin_rep_strings = ['Mononuclear Cell\\nDifferentiation',\n",
    "                      'AMPK\\nSignaling',\n",
    "                      'Reg. of Cellular\\nCatabolism']"
   ]
  },
  {
   "cell_type": "code",
   "execution_count": 35,
   "metadata": {},
   "outputs": [
    {
     "data": {
      "image/png": "[encoded data removed]",
      "text/plain": [
       "<Figure size 108x216 with 2 Axes>"
      ]
     },
     "metadata": {
      "needs_background": "light"
     },
     "output_type": "display_data"
    }
   ],
   "source": [
    "fig, (ax1, ax2) = plt.subplots(2, 1, figsize=(1.5,3),\n",
    "                               sharex=True)\n",
    "plt.subplots_adjust(wspace=0.7)\n",
    "\n",
    "meta = pd.read_excel(\n",
    "    '../K06b_Strains_Leptin6htoControl_Kupffer_OutliersDropped/gene_lists/aj_kupffer_leptin_6hours_up_kupffer_genes_fc_0.58_pval_0.05_/metascape_result.xlsx',\n",
    "    sheet_name=1)\n",
    "meta_filt = meta.loc[meta['Term'].str.contains('|'.join(leptin_act_terms))]\n",
    "meta_filt = meta_filt.sort_values('LogP', ascending=True)\n",
    "meta_filt = meta_filt.reindex(meta_filt.Term.drop_duplicates().index)\n",
    "\n",
    "y_ind = np.arange(len(leptin_act_terms))\n",
    "enrichment = -meta_filt['LogP']\n",
    "ax1.barh(y_ind,\n",
    "         enrichment,\n",
    "         align='center',\n",
    "         linewidth=1,\n",
    "         edgecolor='k',\n",
    "         color='#bdbdbd')\n",
    "ax1.set_yticks(y_ind)\n",
    "ax1.set_yticklabels(leptin_act_strings)\n",
    "ax1.invert_yaxis()\n",
    "ax1.set_title('Leptin Activated')\n",
    "# ax1.set_xlabel('-log(p-value)')\n",
    "\n",
    "\n",
    "meta = pd.read_excel(\n",
    "    '../K06b_Strains_Leptin6htoControl_Kupffer_OutliersDropped/gene_lists/aj_kupffer_control_up_kupffer_genes_fc_0.58_pval_0.05_//metascape_result.xlsx',\n",
    "    sheet_name=1)\n",
    "meta_filt = meta.loc[meta['Term'].str.contains('|'.join(leptin_rep_terms))]\n",
    "meta_filt = meta_filt.sort_values('LogP', ascending=True)\n",
    "meta_filt = meta_filt.reindex(meta_filt.Term.drop_duplicates().index)\n",
    "\n",
    "y_ind = np.arange(len(leptin_rep_terms))\n",
    "enrichment = -meta_filt['LogP']\n",
    "ax2.barh(y_ind,\n",
    "         enrichment,\n",
    "         align='center',\n",
    "         linewidth=1,\n",
    "         edgecolor='k',\n",
    "         color='#bdbdbd')\n",
    "ax2.set_yticks(y_ind)\n",
    "ax2.set_yticklabels(leptin_rep_strings)\n",
    "ax2.invert_yaxis()\n",
    "ax2.set_title('Leptin Repressed')\n",
    "ax2.set_xlabel('-log(p-value)')\n",
    "\n",
    "plt.savefig('../A10_Manuscript_Figures_AllLiverCells/leptin_treatment_GO_long.pdf',\n",
    "            bbox_inches='tight')"
   ]
  },
  {
   "cell_type": "code",
   "execution_count": 30,
   "metadata": {},
   "outputs": [
    {
     "data": {
      "text/html": [
       "<div>\n",
       "<style scoped>\n",
       "    .dataframe tbody tr th:only-of-type {\n",
       "        vertical-align: middle;\n",
       "    }\n",
       "\n",
       "    .dataframe tbody tr th {\n",
       "        vertical-align: top;\n",
       "    }\n",
       "\n",
       "    .dataframe thead th {\n",
       "        text-align: right;\n",
       "    }\n",
       "</style>\n",
       "<table border=\"1\" class=\"dataframe\">\n",
       "  <thead>\n",
       "    <tr style=\"text-align: right;\">\n",
       "      <th></th>\n",
       "      <th>GroupID</th>\n",
       "      <th>Category</th>\n",
       "      <th>Term</th>\n",
       "      <th>Description</th>\n",
       "      <th>LogP</th>\n",
       "      <th>Log(q-value)</th>\n",
       "      <th>InTerm_InList</th>\n",
       "      <th>Genes</th>\n",
       "      <th>Symbols</th>\n",
       "    </tr>\n",
       "  </thead>\n",
       "  <tbody>\n",
       "    <tr>\n",
       "      <th>0</th>\n",
       "      <td>1_Summary</td>\n",
       "      <td>GO Biological Processes</td>\n",
       "      <td>GO:1903131</td>\n",
       "      <td>mononuclear cell differentiation</td>\n",
       "      <td>-3.490773</td>\n",
       "      <td>0</td>\n",
       "      <td>5/471</td>\n",
       "      <td>12193,14104,16847,16848,74126,94212</td>\n",
       "      <td>Zfp36l2,Fasn,Lepr,Lfng,Syvn1,Pag1</td>\n",
       "    </tr>\n",
       "    <tr>\n",
       "      <th>1</th>\n",
       "      <td>1_Member</td>\n",
       "      <td>GO Biological Processes</td>\n",
       "      <td>GO:1903131</td>\n",
       "      <td>mononuclear cell differentiation</td>\n",
       "      <td>-3.490773</td>\n",
       "      <td>0</td>\n",
       "      <td>5/471</td>\n",
       "      <td>12193,14104,16847,16848,74126</td>\n",
       "      <td>Zfp36l2,Fasn,Lepr,Lfng,Syvn1</td>\n",
       "    </tr>\n",
       "    <tr>\n",
       "      <th>2</th>\n",
       "      <td>1_Member</td>\n",
       "      <td>GO Biological Processes</td>\n",
       "      <td>GO:0002521</td>\n",
       "      <td>leukocyte differentiation</td>\n",
       "      <td>-2.987562</td>\n",
       "      <td>0</td>\n",
       "      <td>5/608</td>\n",
       "      <td>12193,14104,16847,16848,74126</td>\n",
       "      <td>Zfp36l2,Fasn,Lepr,Lfng,Syvn1</td>\n",
       "    </tr>\n",
       "    <tr>\n",
       "      <th>3</th>\n",
       "      <td>1_Member</td>\n",
       "      <td>GO Biological Processes</td>\n",
       "      <td>GO:0030183</td>\n",
       "      <td>B cell differentiation</td>\n",
       "      <td>-2.933048</td>\n",
       "      <td>0</td>\n",
       "      <td>3/160</td>\n",
       "      <td>12193,16848,74126</td>\n",
       "      <td>Zfp36l2,Lfng,Syvn1</td>\n",
       "    </tr>\n",
       "    <tr>\n",
       "      <th>4</th>\n",
       "      <td>1_Member</td>\n",
       "      <td>GO Biological Processes</td>\n",
       "      <td>GO:0030098</td>\n",
       "      <td>lymphocyte differentiation</td>\n",
       "      <td>-2.666317</td>\n",
       "      <td>0</td>\n",
       "      <td>4/426</td>\n",
       "      <td>12193,16847,16848,74126</td>\n",
       "      <td>Zfp36l2,Lepr,Lfng,Syvn1</td>\n",
       "    </tr>\n",
       "    <tr>\n",
       "      <th>5</th>\n",
       "      <td>1_Member</td>\n",
       "      <td>GO Biological Processes</td>\n",
       "      <td>GO:0042110</td>\n",
       "      <td>T cell activation</td>\n",
       "      <td>-2.331757</td>\n",
       "      <td>0</td>\n",
       "      <td>4/528</td>\n",
       "      <td>12193,16847,16848,94212</td>\n",
       "      <td>Zfp36l2,Lepr,Lfng,Pag1</td>\n",
       "    </tr>\n",
       "    <tr>\n",
       "      <th>6</th>\n",
       "      <td>1_Member</td>\n",
       "      <td>GO Biological Processes</td>\n",
       "      <td>GO:0030217</td>\n",
       "      <td>T cell differentiation</td>\n",
       "      <td>-2.191242</td>\n",
       "      <td>0</td>\n",
       "      <td>3/293</td>\n",
       "      <td>12193,16847,16848</td>\n",
       "      <td>Zfp36l2,Lepr,Lfng</td>\n",
       "    </tr>\n",
       "    <tr>\n",
       "      <th>7</th>\n",
       "      <td>2_Summary</td>\n",
       "      <td>KEGG Pathway</td>\n",
       "      <td>ko04152</td>\n",
       "      <td>AMPK signaling pathway</td>\n",
       "      <td>-3.233671</td>\n",
       "      <td>0</td>\n",
       "      <td>3/126</td>\n",
       "      <td>14104,16847,22241</td>\n",
       "      <td>Fasn,Lepr,Ulk1</td>\n",
       "    </tr>\n",
       "    <tr>\n",
       "      <th>8</th>\n",
       "      <td>2_Member</td>\n",
       "      <td>KEGG Pathway</td>\n",
       "      <td>ko04152</td>\n",
       "      <td>AMPK signaling pathway</td>\n",
       "      <td>-3.233671</td>\n",
       "      <td>0</td>\n",
       "      <td>3/126</td>\n",
       "      <td>14104,16847,22241</td>\n",
       "      <td>Fasn,Lepr,Ulk1</td>\n",
       "    </tr>\n",
       "    <tr>\n",
       "      <th>9</th>\n",
       "      <td>2_Member</td>\n",
       "      <td>KEGG Pathway</td>\n",
       "      <td>mmu04152</td>\n",
       "      <td>AMPK signaling pathway</td>\n",
       "      <td>-3.155867</td>\n",
       "      <td>0</td>\n",
       "      <td>3/134</td>\n",
       "      <td>14104,16847,22241</td>\n",
       "      <td>Fasn,Lepr,Ulk1</td>\n",
       "    </tr>\n",
       "    <tr>\n",
       "      <th>10</th>\n",
       "      <td>3_Summary</td>\n",
       "      <td>GO Biological Processes</td>\n",
       "      <td>GO:0031331</td>\n",
       "      <td>positive regulation of cellular catabolic process</td>\n",
       "      <td>-2.810402</td>\n",
       "      <td>0</td>\n",
       "      <td>4/389</td>\n",
       "      <td>12193,22241,66853,218215,16847</td>\n",
       "      <td>Zfp36l2,Ulk1,Pnpla2,Rnf144b,Lepr</td>\n",
       "    </tr>\n",
       "    <tr>\n",
       "      <th>11</th>\n",
       "      <td>3_Member</td>\n",
       "      <td>GO Biological Processes</td>\n",
       "      <td>GO:0031331</td>\n",
       "      <td>positive regulation of cellular catabolic process</td>\n",
       "      <td>-2.810402</td>\n",
       "      <td>0</td>\n",
       "      <td>4/389</td>\n",
       "      <td>12193,22241,66853,218215</td>\n",
       "      <td>Zfp36l2,Ulk1,Pnpla2,Rnf144b</td>\n",
       "    </tr>\n",
       "    <tr>\n",
       "      <th>12</th>\n",
       "      <td>3_Member</td>\n",
       "      <td>GO Biological Processes</td>\n",
       "      <td>GO:0031329</td>\n",
       "      <td>regulation of cellular catabolic process</td>\n",
       "      <td>-2.657671</td>\n",
       "      <td>0</td>\n",
       "      <td>5/722</td>\n",
       "      <td>12193,16847,22241,66853,218215</td>\n",
       "      <td>Zfp36l2,Lepr,Ulk1,Pnpla2,Rnf144b</td>\n",
       "    </tr>\n",
       "    <tr>\n",
       "      <th>13</th>\n",
       "      <td>3_Member</td>\n",
       "      <td>GO Biological Processes</td>\n",
       "      <td>GO:0009896</td>\n",
       "      <td>positive regulation of catabolic process</td>\n",
       "      <td>-2.555887</td>\n",
       "      <td>0</td>\n",
       "      <td>4/457</td>\n",
       "      <td>12193,22241,66853,218215</td>\n",
       "      <td>Zfp36l2,Ulk1,Pnpla2,Rnf144b</td>\n",
       "    </tr>\n",
       "    <tr>\n",
       "      <th>14</th>\n",
       "      <td>4_Summary</td>\n",
       "      <td>GO Biological Processes</td>\n",
       "      <td>GO:0071560</td>\n",
       "      <td>cellular response to transforming growth facto...</td>\n",
       "      <td>-2.532990</td>\n",
       "      <td>0</td>\n",
       "      <td>3/221</td>\n",
       "      <td>12193,22793,80288,22241</td>\n",
       "      <td>Zfp36l2,Zyx,Bcl9l,Ulk1</td>\n",
       "    </tr>\n",
       "    <tr>\n",
       "      <th>15</th>\n",
       "      <td>4_Member</td>\n",
       "      <td>GO Biological Processes</td>\n",
       "      <td>GO:0071560</td>\n",
       "      <td>cellular response to transforming growth facto...</td>\n",
       "      <td>-2.532990</td>\n",
       "      <td>0</td>\n",
       "      <td>3/221</td>\n",
       "      <td>12193,22793,80288</td>\n",
       "      <td>Zfp36l2,Zyx,Bcl9l</td>\n",
       "    </tr>\n",
       "    <tr>\n",
       "      <th>16</th>\n",
       "      <td>4_Member</td>\n",
       "      <td>GO Biological Processes</td>\n",
       "      <td>GO:0071559</td>\n",
       "      <td>response to transforming growth factor beta</td>\n",
       "      <td>-2.505596</td>\n",
       "      <td>0</td>\n",
       "      <td>3/226</td>\n",
       "      <td>12193,22793,80288</td>\n",
       "      <td>Zfp36l2,Zyx,Bcl9l</td>\n",
       "    </tr>\n",
       "    <tr>\n",
       "      <th>17</th>\n",
       "      <td>4_Member</td>\n",
       "      <td>GO Biological Processes</td>\n",
       "      <td>GO:0071363</td>\n",
       "      <td>cellular response to growth factor stimulus</td>\n",
       "      <td>-2.056529</td>\n",
       "      <td>0</td>\n",
       "      <td>4/633</td>\n",
       "      <td>12193,22241,22793,80288</td>\n",
       "      <td>Zfp36l2,Ulk1,Zyx,Bcl9l</td>\n",
       "    </tr>\n",
       "    <tr>\n",
       "      <th>18</th>\n",
       "      <td>4_Member</td>\n",
       "      <td>GO Biological Processes</td>\n",
       "      <td>GO:0070848</td>\n",
       "      <td>response to growth factor</td>\n",
       "      <td>-2.023859</td>\n",
       "      <td>0</td>\n",
       "      <td>4/647</td>\n",
       "      <td>12193,22241,22793,80288</td>\n",
       "      <td>Zfp36l2,Ulk1,Zyx,Bcl9l</td>\n",
       "    </tr>\n",
       "    <tr>\n",
       "      <th>19</th>\n",
       "      <td>5_Summary</td>\n",
       "      <td>GO Biological Processes</td>\n",
       "      <td>GO:2001234</td>\n",
       "      <td>negative regulation of apoptotic signaling pat...</td>\n",
       "      <td>-2.463093</td>\n",
       "      <td>0</td>\n",
       "      <td>3/234</td>\n",
       "      <td>17428,74126,223701</td>\n",
       "      <td>Mnt,Syvn1,Mrtfa</td>\n",
       "    </tr>\n",
       "    <tr>\n",
       "      <th>20</th>\n",
       "      <td>5_Member</td>\n",
       "      <td>GO Biological Processes</td>\n",
       "      <td>GO:2001234</td>\n",
       "      <td>negative regulation of apoptotic signaling pat...</td>\n",
       "      <td>-2.463093</td>\n",
       "      <td>0</td>\n",
       "      <td>3/234</td>\n",
       "      <td>17428,74126,223701</td>\n",
       "      <td>Mnt,Syvn1,Mrtfa</td>\n",
       "    </tr>\n",
       "    <tr>\n",
       "      <th>21</th>\n",
       "      <td>6_Summary</td>\n",
       "      <td>GO Biological Processes</td>\n",
       "      <td>GO:0032870</td>\n",
       "      <td>cellular response to hormone stimulus</td>\n",
       "      <td>-2.367160</td>\n",
       "      <td>0</td>\n",
       "      <td>4/516</td>\n",
       "      <td>12193,13688,16847,17977</td>\n",
       "      <td>Zfp36l2,Eif4ebp2,Lepr,Ncoa1</td>\n",
       "    </tr>\n",
       "    <tr>\n",
       "      <th>22</th>\n",
       "      <td>6_Member</td>\n",
       "      <td>GO Biological Processes</td>\n",
       "      <td>GO:0032870</td>\n",
       "      <td>cellular response to hormone stimulus</td>\n",
       "      <td>-2.367160</td>\n",
       "      <td>0</td>\n",
       "      <td>4/516</td>\n",
       "      <td>12193,13688,16847,17977</td>\n",
       "      <td>Zfp36l2,Eif4ebp2,Lepr,Ncoa1</td>\n",
       "    </tr>\n",
       "    <tr>\n",
       "      <th>23</th>\n",
       "      <td>7_Summary</td>\n",
       "      <td>KEGG Pathway</td>\n",
       "      <td>ko04080</td>\n",
       "      <td>Neuroactive ligand-receptor interaction</td>\n",
       "      <td>-2.224423</td>\n",
       "      <td>0</td>\n",
       "      <td>3/285</td>\n",
       "      <td>16847,22354,53978</td>\n",
       "      <td>Lepr,Vipr1,Lpar2</td>\n",
       "    </tr>\n",
       "    <tr>\n",
       "      <th>24</th>\n",
       "      <td>7_Member</td>\n",
       "      <td>KEGG Pathway</td>\n",
       "      <td>ko04080</td>\n",
       "      <td>Neuroactive ligand-receptor interaction</td>\n",
       "      <td>-2.224423</td>\n",
       "      <td>0</td>\n",
       "      <td>3/285</td>\n",
       "      <td>16847,22354,53978</td>\n",
       "      <td>Lepr,Vipr1,Lpar2</td>\n",
       "    </tr>\n",
       "    <tr>\n",
       "      <th>25</th>\n",
       "      <td>7_Member</td>\n",
       "      <td>KEGG Pathway</td>\n",
       "      <td>mmu04080</td>\n",
       "      <td>Neuroactive ligand-receptor interaction</td>\n",
       "      <td>-2.151134</td>\n",
       "      <td>0</td>\n",
       "      <td>3/303</td>\n",
       "      <td>16847,22354,53978</td>\n",
       "      <td>Lepr,Vipr1,Lpar2</td>\n",
       "    </tr>\n",
       "  </tbody>\n",
       "</table>\n",
       "</div>"
      ],
      "text/plain": [
       "      GroupID                 Category        Term  \\\n",
       "0   1_Summary  GO Biological Processes  GO:1903131   \n",
       "1    1_Member  GO Biological Processes  GO:1903131   \n",
       "2    1_Member  GO Biological Processes  GO:0002521   \n",
       "3    1_Member  GO Biological Processes  GO:0030183   \n",
       "4    1_Member  GO Biological Processes  GO:0030098   \n",
       "5    1_Member  GO Biological Processes  GO:0042110   \n",
       "6    1_Member  GO Biological Processes  GO:0030217   \n",
       "7   2_Summary             KEGG Pathway     ko04152   \n",
       "8    2_Member             KEGG Pathway     ko04152   \n",
       "9    2_Member             KEGG Pathway    mmu04152   \n",
       "10  3_Summary  GO Biological Processes  GO:0031331   \n",
       "11   3_Member  GO Biological Processes  GO:0031331   \n",
       "12   3_Member  GO Biological Processes  GO:0031329   \n",
       "13   3_Member  GO Biological Processes  GO:0009896   \n",
       "14  4_Summary  GO Biological Processes  GO:0071560   \n",
       "15   4_Member  GO Biological Processes  GO:0071560   \n",
       "16   4_Member  GO Biological Processes  GO:0071559   \n",
       "17   4_Member  GO Biological Processes  GO:0071363   \n",
       "18   4_Member  GO Biological Processes  GO:0070848   \n",
       "19  5_Summary  GO Biological Processes  GO:2001234   \n",
       "20   5_Member  GO Biological Processes  GO:2001234   \n",
       "21  6_Summary  GO Biological Processes  GO:0032870   \n",
       "22   6_Member  GO Biological Processes  GO:0032870   \n",
       "23  7_Summary             KEGG Pathway     ko04080   \n",
       "24   7_Member             KEGG Pathway     ko04080   \n",
       "25   7_Member             KEGG Pathway    mmu04080   \n",
       "\n",
       "                                          Description      LogP  Log(q-value)  \\\n",
       "0                    mononuclear cell differentiation -3.490773             0   \n",
       "1                    mononuclear cell differentiation -3.490773             0   \n",
       "2                           leukocyte differentiation -2.987562             0   \n",
       "3                              B cell differentiation -2.933048             0   \n",
       "4                          lymphocyte differentiation -2.666317             0   \n",
       "5                                   T cell activation -2.331757             0   \n",
       "6                              T cell differentiation -2.191242             0   \n",
       "7                              AMPK signaling pathway -3.233671             0   \n",
       "8                              AMPK signaling pathway -3.233671             0   \n",
       "9                              AMPK signaling pathway -3.155867             0   \n",
       "10  positive regulation of cellular catabolic process -2.810402             0   \n",
       "11  positive regulation of cellular catabolic process -2.810402             0   \n",
       "12           regulation of cellular catabolic process -2.657671             0   \n",
       "13           positive regulation of catabolic process -2.555887             0   \n",
       "14  cellular response to transforming growth facto... -2.532990             0   \n",
       "15  cellular response to transforming growth facto... -2.532990             0   \n",
       "16        response to transforming growth factor beta -2.505596             0   \n",
       "17        cellular response to growth factor stimulus -2.056529             0   \n",
       "18                          response to growth factor -2.023859             0   \n",
       "19  negative regulation of apoptotic signaling pat... -2.463093             0   \n",
       "20  negative regulation of apoptotic signaling pat... -2.463093             0   \n",
       "21              cellular response to hormone stimulus -2.367160             0   \n",
       "22              cellular response to hormone stimulus -2.367160             0   \n",
       "23            Neuroactive ligand-receptor interaction -2.224423             0   \n",
       "24            Neuroactive ligand-receptor interaction -2.224423             0   \n",
       "25            Neuroactive ligand-receptor interaction -2.151134             0   \n",
       "\n",
       "   InTerm_InList                                Genes  \\\n",
       "0          5/471  12193,14104,16847,16848,74126,94212   \n",
       "1          5/471        12193,14104,16847,16848,74126   \n",
       "2          5/608        12193,14104,16847,16848,74126   \n",
       "3          3/160                    12193,16848,74126   \n",
       "4          4/426              12193,16847,16848,74126   \n",
       "5          4/528              12193,16847,16848,94212   \n",
       "6          3/293                    12193,16847,16848   \n",
       "7          3/126                    14104,16847,22241   \n",
       "8          3/126                    14104,16847,22241   \n",
       "9          3/134                    14104,16847,22241   \n",
       "10         4/389       12193,22241,66853,218215,16847   \n",
       "11         4/389             12193,22241,66853,218215   \n",
       "12         5/722       12193,16847,22241,66853,218215   \n",
       "13         4/457             12193,22241,66853,218215   \n",
       "14         3/221              12193,22793,80288,22241   \n",
       "15         3/221                    12193,22793,80288   \n",
       "16         3/226                    12193,22793,80288   \n",
       "17         4/633              12193,22241,22793,80288   \n",
       "18         4/647              12193,22241,22793,80288   \n",
       "19         3/234                   17428,74126,223701   \n",
       "20         3/234                   17428,74126,223701   \n",
       "21         4/516              12193,13688,16847,17977   \n",
       "22         4/516              12193,13688,16847,17977   \n",
       "23         3/285                    16847,22354,53978   \n",
       "24         3/285                    16847,22354,53978   \n",
       "25         3/303                    16847,22354,53978   \n",
       "\n",
       "                              Symbols  \n",
       "0   Zfp36l2,Fasn,Lepr,Lfng,Syvn1,Pag1  \n",
       "1        Zfp36l2,Fasn,Lepr,Lfng,Syvn1  \n",
       "2        Zfp36l2,Fasn,Lepr,Lfng,Syvn1  \n",
       "3                  Zfp36l2,Lfng,Syvn1  \n",
       "4             Zfp36l2,Lepr,Lfng,Syvn1  \n",
       "5              Zfp36l2,Lepr,Lfng,Pag1  \n",
       "6                   Zfp36l2,Lepr,Lfng  \n",
       "7                      Fasn,Lepr,Ulk1  \n",
       "8                      Fasn,Lepr,Ulk1  \n",
       "9                      Fasn,Lepr,Ulk1  \n",
       "10   Zfp36l2,Ulk1,Pnpla2,Rnf144b,Lepr  \n",
       "11        Zfp36l2,Ulk1,Pnpla2,Rnf144b  \n",
       "12   Zfp36l2,Lepr,Ulk1,Pnpla2,Rnf144b  \n",
       "13        Zfp36l2,Ulk1,Pnpla2,Rnf144b  \n",
       "14             Zfp36l2,Zyx,Bcl9l,Ulk1  \n",
       "15                  Zfp36l2,Zyx,Bcl9l  \n",
       "16                  Zfp36l2,Zyx,Bcl9l  \n",
       "17             Zfp36l2,Ulk1,Zyx,Bcl9l  \n",
       "18             Zfp36l2,Ulk1,Zyx,Bcl9l  \n",
       "19                    Mnt,Syvn1,Mrtfa  \n",
       "20                    Mnt,Syvn1,Mrtfa  \n",
       "21        Zfp36l2,Eif4ebp2,Lepr,Ncoa1  \n",
       "22        Zfp36l2,Eif4ebp2,Lepr,Ncoa1  \n",
       "23                   Lepr,Vipr1,Lpar2  \n",
       "24                   Lepr,Vipr1,Lpar2  \n",
       "25                   Lepr,Vipr1,Lpar2  "
      ]
     },
     "execution_count": 30,
     "metadata": {},
     "output_type": "execute_result"
    }
   ],
   "source": [
    "meta"
   ]
  },
  {
   "cell_type": "markdown",
   "metadata": {},
   "source": [
    "## Write differential genes to list for metascape"
   ]
  },
  {
   "cell_type": "code",
   "execution_count": 9,
   "metadata": {
    "scrolled": false
   },
   "outputs": [
    {
     "name": "stdout",
     "output_type": "stream",
     "text": [
      "./differential/balbc_kupffer_control.vs.balbc_kupffer_leptin_6hours.scatter.homer.txt\n",
      "ge all transcripts (24940, 18)\n",
      "Diff Gene selected transcripts (9168, 14)\n",
      "ge selected transcripts (9168, 18)\n",
      "./differential/balbc_kupffer_leptin_6hours.vs.balbc_kupffer_control.scatter.homer.txt\n",
      "ge all transcripts (24940, 18)\n",
      "Diff Gene selected transcripts (9168, 14)\n",
      "ge selected transcripts (9168, 18)\n",
      "./differential/aj_kupffer_control.vs.aj_kupffer_leptin_6hours.scatter.homer.txt\n",
      "ge all transcripts (24940, 18)\n",
      "Diff Gene selected transcripts (9289, 14)\n",
      "ge selected transcripts (9289, 18)\n",
      "./differential/aj_kupffer_leptin_6hours.vs.aj_kupffer_control.scatter.homer.txt\n",
      "ge all transcripts (24940, 18)\n",
      "Diff Gene selected transcripts (9289, 14)\n",
      "ge selected transcripts (9289, 18)\n"
     ]
    }
   ],
   "source": [
    "for i in np.sort(glob.glob('./differential/c57*c57*homer.txt')):\n",
    "    print(i)\n",
    "    # read in gene expression data\n",
    "    df, tpm, tpm_mat, tpm_mat_quant = import_homer_diffgene(\n",
    "        depath=i,\n",
    "        gepath='./expression/HOMER.rawTPM.txt',\n",
    "        gene_name_index=True)\n",
    "\n",
    "    # select differential genes\n",
    "    df = df.loc[~(df.chr.str.contains('chrX|chrY|ChrUn')), :]\n",
    "    sig_genes = df.index[(df['padj'] < pval) & (df['log2FoldChange'] >= log2fc)].to_list()\n",
    "    gene_list_dict[i.split('.')[3]+'_up'] = list(sig_genes)\n",
    "    # print('union set length:', print(len(g_union)))\n",
    "    # print('intersection set length:', print(len(g_intersect)))\n",
    "\n",
    "for i in np.sort(glob.glob('./differential/balb*balb*homer.txt')):\n",
    "    print(i)\n",
    "    # read in gene expression data\n",
    "    df, tpm, tpm_mat, tpm_mat_quant = import_homer_diffgene(\n",
    "        depath=i,\n",
    "        gepath='./expression/HOMER.rawTPM.txt',\n",
    "        gene_name_index=True)\n",
    "\n",
    "    # select differential genes\n",
    "    df = df.loc[~(df.chr.str.contains('chrX|chrY|ChrUn')), :]\n",
    "    sig_genes = df.index[(df['padj'] < pval) & (df['log2FoldChange'] >= log2fc)].to_list()\n",
    "    gene_list_dict[i.split('.')[3]+'_up'] = list(sig_genes)\n",
    "    # print('union set length:', print(len(g_union)))\n",
    "    # print('intersection set length:', print(len(g_intersect)))\n",
    "    \n",
    "for i in np.sort(glob.glob('./differential/aj*aj*homer.txt')):\n",
    "    print(i)\n",
    "    # read in gene expression data\n",
    "    df, tpm, tpm_mat, tpm_mat_quant = import_homer_diffgene(\n",
    "        depath=i,\n",
    "        gepath='./expression/HOMER.rawTPM.txt',\n",
    "        gene_name_index=True)\n",
    "\n",
    "    # select differential genes\n",
    "    df = df.loc[~(df.chr.str.contains('chrX|chrY|ChrUn')), :]\n",
    "    sig_genes = df.index[(df['padj'] < pval) & (df['log2FoldChange'] >= log2fc)].to_list()\n",
    "    gene_list_dict[i.split('.')[3]+'_up'] = list(sig_genes)\n",
    "    # print('union set length:', print(len(g_union)))\n",
    "    # print('intersection set length:', print(len(g_intersect)))"
   ]
  },
  {
   "cell_type": "code",
   "execution_count": 10,
   "metadata": {
    "scrolled": true
   },
   "outputs": [
    {
     "name": "stdout",
     "output_type": "stream",
     "text": [
      "balbc_kupffer_leptin_6hours_up\n",
      "22 genes\n",
      "balbc_kupffer_control_up\n",
      "25 genes\n",
      "aj_kupffer_leptin_6hours_up\n",
      "37 genes\n",
      "aj_kupffer_control_up\n",
      "27 genes\n"
     ]
    }
   ],
   "source": [
    "for key in gene_list_dict.keys():\n",
    "    print(key)\n",
    "    print(len(gene_list_dict[key]), 'genes')\n",
    "    with open('./gene_lists/'+key+'_kupffer_genes_fc_%.2f_pval_%.2f_.txt' % (log2fc, pval), 'w') as f:\n",
    "        f.write('Gene\\n')\n",
    "        for i in gene_list_dict[key]:\n",
    "            f.write(i+'\\n')\n",
    "        f.close()"
   ]
  },
  {
   "cell_type": "markdown",
   "metadata": {},
   "source": [
    "# look at  overlap with strain specific gene sets"
   ]
  },
  {
   "cell_type": "markdown",
   "metadata": {},
   "source": [
    "Read in strain specific gene sets"
   ]
  },
  {
   "cell_type": "code",
   "execution_count": 19,
   "metadata": {},
   "outputs": [],
   "source": [
    "strain_spec_kc_genes = {}\n",
    "for gene_list_path in glob.glob('/home/h1bennet/strains_rna/results/K00_Strains_Control_Kupffer_RNA/gene_lists/*txt'):\n",
    "    gene_list = []\n",
    "    gene_list_name = gene_list_path.split('/')[-1].split('_kupffer')[0]\n",
    "    with open(gene_list_path, 'r') as f:\n",
    "        strain_spec_kc_genes[gene_list_name] = [i.strip() for i in f.readlines()][1:]\n",
    "    "
   ]
  },
  {
   "cell_type": "markdown",
   "metadata": {},
   "source": [
    "There is mild overlap between these gene sets"
   ]
  },
  {
   "cell_type": "code",
   "execution_count": 20,
   "metadata": {
    "scrolled": true
   },
   "outputs": [
    {
     "name": "stdout",
     "output_type": "stream",
     "text": [
      "aj_intersection\n",
      "0\n",
      "set()\n",
      "balb_intersection\n",
      "3\n",
      "{'Trem2', 'Lgals1', 'Ifi27l2a'}\n",
      "c57_intersection\n",
      "0\n",
      "set()\n",
      "balb_union\n",
      "6\n",
      "{'Lgals1', 'Anxa2', 'Rcan1', 'Ifi27l2a', 'Per1', 'Trem2'}\n",
      "aj_union\n",
      "3\n",
      "{'Lgals1', 'Ikbke', 'Marco'}\n",
      "c57_union\n",
      "6\n",
      "{'Ikbke', 'Marco', 'Rgs1', 'D17H6S56E-5', 'Mki67', 'Per1'}\n"
     ]
    }
   ],
   "source": [
    "for key in strain_spec_kc_genes.keys():\n",
    "    print(key)\n",
    "    print(len(set(gene_list_dict['aj_kupffer_leptin_6hours_up']).intersection(strain_spec_kc_genes[key])))\n",
    "    print(set(gene_list_dict['aj_kupffer_leptin_6hours_up']).intersection(strain_spec_kc_genes[key]))"
   ]
  },
  {
   "cell_type": "code",
   "execution_count": 23,
   "metadata": {},
   "outputs": [
    {
     "name": "stdout",
     "output_type": "stream",
     "text": [
      "230\n"
     ]
    }
   ],
   "source": [
    "print(len(strain_spec_kc_genes['balb_union']))"
   ]
  },
  {
   "cell_type": "code",
   "execution_count": 24,
   "metadata": {},
   "outputs": [
    {
     "name": "stdout",
     "output_type": "stream",
     "text": [
      "27\n"
     ]
    }
   ],
   "source": [
    "print(len(set(gene_list_dict['aj_kupffer_control_up'])))"
   ]
  },
  {
   "cell_type": "code",
   "execution_count": 25,
   "metadata": {},
   "outputs": [
    {
     "name": "stdout",
     "output_type": "stream",
     "text": [
      "aj_intersection\n",
      "0\n",
      "set()\n",
      "balb_intersection\n",
      "0\n",
      "set()\n",
      "c57_intersection\n",
      "0\n",
      "set()\n",
      "balb_union\n",
      "2\n",
      "{'Lepr', 'Rnf144b'}\n",
      "aj_union\n",
      "4\n",
      "{'Mturn', 'Fosb', 'Vipr1', 'Rnf144b'}\n",
      "c57_union\n",
      "4\n",
      "{'Ncoa1', 'Fosb', 'Vipr1', 'Lepr'}\n"
     ]
    }
   ],
   "source": [
    "for key in strain_spec_kc_genes.keys():\n",
    "    print(key)\n",
    "    print(len(set(gene_list_dict['aj_kupffer_control_up']).intersection(strain_spec_kc_genes[key])))\n",
    "    print(set(gene_list_dict['aj_kupffer_control_up']).intersection(strain_spec_kc_genes[key]))"
   ]
  },
  {
   "cell_type": "code",
   "execution_count": 27,
   "metadata": {},
   "outputs": [
    {
     "data": {
      "text/plain": [
       "227"
      ]
     },
     "execution_count": 27,
     "metadata": {},
     "output_type": "execute_result"
    }
   ],
   "source": [
    "len(strain_spec_kc_genes['aj_union'])"
   ]
  },
  {
   "cell_type": "code",
   "execution_count": 28,
   "metadata": {},
   "outputs": [
    {
     "name": "stdout",
     "output_type": "stream",
     "text": [
      "27\n"
     ]
    }
   ],
   "source": [
    "print(len(set(gene_list_dict['aj_kupffer_control_up'])))"
   ]
  },
  {
   "cell_type": "code",
   "execution_count": 28,
   "metadata": {
    "scrolled": true
   },
   "outputs": [
    {
     "data": {
      "text/plain": [
       "(7.043088321310197, 0.0039301583384493705)"
      ]
     },
     "execution_count": 28,
     "metadata": {},
     "output_type": "execute_result"
    }
   ],
   "source": [
    "stats.fisher_exact([[9289-227-27-4, 27-4], [227-4, 4]], alternative='greater')"
   ]
  },
  {
   "cell_type": "code",
   "execution_count": 27,
   "metadata": {},
   "outputs": [],
   "source": [
    "import scipy.stats as stats"
   ]
  },
  {
   "cell_type": "markdown",
   "metadata": {},
   "source": [
    "## test enrichment of balb union genes in leptin induced set"
   ]
  },
  {
   "cell_type": "markdown",
   "metadata": {},
   "source": [
    "Contingency table explained:  \n",
    "\n",
    "genes in dataset: 9289  \n",
    "genes 2 fold up in balb union: 230  \n",
    "genes 1.5 fold induced by leptin in aj: 37  \n",
    "overlap between two gene sets: 6.  \n",
    "\n",
    "|  |Not in A              | in A |\n",
    "|:---:|:----------------------:|:-----:\n",
    "Not in B|9289 - 224 - 31 - 6 | 37-6\n",
    "In B|230-6                | 6"
   ]
  },
  {
   "cell_type": "code",
   "execution_count": 31,
   "metadata": {},
   "outputs": [
    {
     "data": {
      "text/plain": [
       "(7.8058755760368665, 0.0002628836657345142)"
      ]
     },
     "execution_count": 31,
     "metadata": {},
     "output_type": "execute_result"
    }
   ],
   "source": [
    "stats.fisher_exact([[9289-224-31, 37-6], [230-6, 6]], alternative='greater')"
   ]
  },
  {
   "cell_type": "code",
   "execution_count": 32,
   "metadata": {},
   "outputs": [
    {
     "data": {
      "text/plain": [
       "(7.052446870735036, 0.003912133605260192)"
      ]
     },
     "execution_count": 32,
     "metadata": {},
     "output_type": "execute_result"
    }
   ],
   "source": [
    "stats.fisher_exact([[9289-223-23, 27-4], [227-4, 4]], alternative='greater')"
   ]
  },
  {
   "cell_type": "markdown",
   "metadata": {},
   "source": [
    "# Lets look at overlap between BALB and AJ differential genes in particular"
   ]
  },
  {
   "cell_type": "code",
   "execution_count": 35,
   "metadata": {},
   "outputs": [
    {
     "name": "stdout",
     "output_type": "stream",
     "text": [
      "/home/ttroutman/strainsKupffer/rnaKupfferNASH/rnaDiff/aj_control.vs.balbcj_control.scatter.txt\n"
     ]
    }
   ],
   "source": [
    "pval = 0.05\n",
    "log2fc = np.log2(1.5)\n",
    "for i in np.sort(glob.glob('/home/ttroutman/strainsKupffer/rnaKupfferNASH/rnaDiff/aj_control.vs.balbcj_control.scatter.txt')):\n",
    "    print(i)\n",
    "    # read in gene expression data\n",
    "    df = pd.read_csv(i,\n",
    "                 sep='\\t',\n",
    "                 index_col=0)\n",
    "    \n",
    "    # select differential genes\n",
    "    # df = df.loc[~(df.chr.str.contains('chrX|chrY|ChrUn')), :]\n",
    "    sig_genes = df.index[(df['padj'] < pval) & (df['log2FoldChange'] >= log2fc)].to_list()\n",
    "    gene_list_dict[i.split('/')[-1]] = list(sig_genes)"
   ]
  },
  {
   "cell_type": "code",
   "execution_count": 58,
   "metadata": {},
   "outputs": [
    {
     "data": {
      "text/plain": [
       "(7619, 7)"
      ]
     },
     "execution_count": 58,
     "metadata": {},
     "output_type": "execute_result"
    }
   ],
   "source": [
    "df.shape"
   ]
  },
  {
   "cell_type": "code",
   "execution_count": 50,
   "metadata": {},
   "outputs": [],
   "source": [
    "import scipy.stats as stats"
   ]
  },
  {
   "cell_type": "code",
   "execution_count": 56,
   "metadata": {},
   "outputs": [
    {
     "name": "stdout",
     "output_type": "stream",
     "text": [
      "aj_control.vs.balbcj_control.scatter.txt\n",
      "10\n",
      "{'Sem1', 'Anxa3', 'Fabp7', 'Hspa1a', 'Lgals1', 'Rpl37rt', 'Ifi27l2a', 'Trem2', 'Rcan1', 'Per1'}\n"
     ]
    }
   ],
   "source": [
    "key='aj_control.vs.balbcj_control.scatter.txt'\n",
    "print(key)\n",
    "print(len(set(gene_list_dict['aj_kupffer_leptin_6hours_up']).intersection(gene_list_dict[key])))\n",
    "print(set(gene_list_dict['aj_kupffer_leptin_6hours_up']).intersection(gene_list_dict[key]))"
   ]
  },
  {
   "cell_type": "code",
   "execution_count": 57,
   "metadata": {},
   "outputs": [
    {
     "name": "stdout",
     "output_type": "stream",
     "text": [
      "239\n"
     ]
    }
   ],
   "source": [
    "print(len(gene_list_dict[key]))"
   ]
  },
  {
   "cell_type": "markdown",
   "metadata": {},
   "source": [
    "## test enrichment of balb up vs aj genes in leptin induced set"
   ]
  },
  {
   "cell_type": "markdown",
   "metadata": {},
   "source": [
    "Contingency table explained:\n",
    "genes in dataset: 7619\n",
    "genes 2 fold up in balb vs aj: 239\n",
    "genes 1.5 fold induced by leptin in aj: 37\n",
    "overlap between two gene sets: 10.\n",
    "\n",
    "|  |Not in A              | in A |\n",
    "|:---:|:----------------------:|:-----:\n",
    "Not in B|7353 - 229 - 27 - 10 | 37-10\n",
    "In B|229-10                | 10"
   ]
  },
  {
   "cell_type": "code",
   "execution_count": 60,
   "metadata": {},
   "outputs": [
    {
     "data": {
      "text/plain": [
       "(11.892285298398836, 1.2644931614576053e-07)"
      ]
     },
     "execution_count": 60,
     "metadata": {},
     "output_type": "execute_result"
    }
   ],
   "source": [
    "stats.fisher_exact([[7353, 27], [229, 10]], alternative='greater')"
   ]
  }
 ],
 "metadata": {
  "kernelspec": {
   "display_name": "dataviz",
   "language": "python",
   "name": "dataviz"
  },
  "language_info": {
   "codemirror_mode": {
    "name": "ipython",
    "version": 3
   },
   "file_extension": ".py",
   "mimetype": "text/x-python",
   "name": "python",
   "nbconvert_exporter": "python",
   "pygments_lexer": "ipython3",
   "version": "3.7.5"
  }
 },
 "nbformat": 4,
 "nbformat_minor": 2
}
