{
 "cells": [
  {
   "cell_type": "code",
   "execution_count": 2,
   "metadata": {},
   "outputs": [],
   "source": [
    "### header ###\n",
    "__author__ = \"Hunter Bennett\"\n",
    "__license__ = \"BSD\"\n",
    "__email__ = \"hunter.r.bennett@gmail.com\"\n",
    "%load_ext autoreload\n",
    "%autoreload 2\n",
    "%matplotlib inline\n",
    "### imports ###\n",
    "import sys\n",
    "import os\n",
    "import re\n",
    "import glob\n",
    "import pandas as pd\n",
    "import numpy as np\n",
    "import matplotlib\n",
    "import matplotlib.pyplot as plt \n",
    "import seaborn as sns\n",
    "\n",
    "matplotlib.rcParams['savefig.dpi'] = 200\n",
    "sys.setrecursionlimit(3000)\n",
    "sns.set(font_scale=1)\n",
    "sns.set_context('talk')\n",
    "sns.set_style('white')\n",
    "\n",
    "# import custom functions\n",
    "sys.path.insert(0, '/home/h1bennet/code/')\n",
    "from hbUtils import ngs_qc, quantile_normalize_df\n",
    "from homer_preprocessing import read_homer_gene_exp, import_homer_diffgene, pull_comparisons_get_diff\n",
    "from plotting_scripts import label_point, pca_rpkm_mat, get_diff_volcano, plot_exp_rpkm, gene_list_bar_plot"
   ]
  },
  {
   "cell_type": "code",
   "execution_count": 3,
   "metadata": {},
   "outputs": [],
   "source": [
    "workingDirectory = '/home/h1bennet/strains_rna/results/A00_Strains_Control_WholeLiver_RNA/'\n",
    "kcDirectory = '/home/h1bennet/strains/data/RNA/control_kupffer/'\n",
    "hepDirectory = '/home/h1bennet/strains/data/RNA/control_hepatocyte/'\n",
    "lsecDirectory = '/home/h1bennet/strains/data/RNA/control_lsec'\n",
    "stelDirectory = '/home/h1bennet/strains/data/RNA/control_stellate/'\n",
    "if not os.path.isdir(workingDirectory):\n",
    "    os.mkdir(workingDirectory)\n",
    "os.chdir(workingDirectory)\n"
   ]
  },
  {
   "cell_type": "markdown",
   "metadata": {},
   "source": [
    "# Check qc stats"
   ]
  },
  {
   "cell_type": "markdown",
   "metadata": {},
   "source": [
    "# Run Oyoung's pipeline to process RNA-seq data consistantly."
   ]
  },
  {
   "cell_type": "code",
   "execution_count": 32,
   "metadata": {},
   "outputs": [],
   "source": [
    "c57_kc_paths = list(np.sort(glob.glob(kcDirectory+'/C57*')))\n",
    "balbc_kc_paths = list(np.sort(glob.glob(kcDirectory+'/BALB*')))\n",
    "aj_kc_paths = list(np.sort(glob.glob(kcDirectory+'/AJ*')))\n",
    "\n",
    "c57_kc_ids = [i.split('/')[-1].split('_')[3] for i in c57_kc_paths]\n",
    "balbc_kc_ids = [i.split('/')[-1].split('_')[3] for i in balbc_kc_paths]\n",
    "aj_kc_ids = [i.split('/')[-1].split('_')[3] for i in aj_kc_paths]"
   ]
  },
  {
   "cell_type": "code",
   "execution_count": 35,
   "metadata": {},
   "outputs": [],
   "source": [
    "c57_hep_paths = list(np.sort(glob.glob(hepDirectory+'/C57*')))\n",
    "balbc_hep_paths = list(np.sort(glob.glob(hepDirectory+'/BALB*')))\n",
    "aj_hep_paths = list(np.sort(glob.glob(hepDirectory+'/AJ*')))\n",
    "\n",
    "c57_hep_ids = [i.split('/')[-1].split('_')[7] for i in c57_hep_paths]\n",
    "balbc_hep_ids = [i.split('/')[-1].split('_')[7] for i in balbc_hep_paths]\n",
    "aj_hep_ids = [i.split('/')[-1].split('_')[7] for i in aj_hep_paths]"
   ]
  },
  {
   "cell_type": "code",
   "execution_count": 50,
   "metadata": {},
   "outputs": [],
   "source": [
    "c57_lsec_paths = list(np.sort(glob.glob(lsecDirectory+'/C57*')))\n",
    "balbc_lsec_paths = list(np.sort(glob.glob(lsecDirectory+'/BALB*')))\n",
    "aj_lsec_paths = list(np.sort(glob.glob(lsecDirectory+'/AJ*')))\n",
    "\n",
    "c57_lsec_ids = [i.split('/')[-1].split('_')[4] for i in c57_lsec_paths]\n",
    "balbc_lsec_ids = [i.split('/')[-1].split('_')[4] for i in balbc_lsec_paths]\n",
    "aj_lsec_ids = [i.split('/')[-1].split('_')[4] for i in aj_lsec_paths]"
   ]
  },
  {
   "cell_type": "code",
   "execution_count": 52,
   "metadata": {},
   "outputs": [],
   "source": [
    "c57_stel_paths = list(np.sort(glob.glob(stelDirectory+'/C57*')))\n",
    "balbc_stel_paths = list(np.sort(glob.glob(stelDirectory+'/BALB*')))\n",
    "aj_stel_paths = list(np.sort(glob.glob(stelDirectory+'/AJ*')))\n",
    "\n",
    "c57_stel_ids = [i.split('/')[-1].split('_')[4] for i in c57_stel_paths]\n",
    "balbc_stel_ids = [i.split('/')[-1].split('_')[4] for i in balbc_stel_paths]\n",
    "aj_stel_ids = [i.split('/')[-1].split('_')[4] for i in aj_stel_paths]"
   ]
  },
  {
   "cell_type": "code",
   "execution_count": 54,
   "metadata": {},
   "outputs": [],
   "source": [
    "ids = ['c57_kupffer_control_young',\n",
    "       'balbc_kupffer_control_young',\n",
    "       'aj_kupffer_control_young',\n",
    "       'c57_hepatocyte_control_young',\n",
    "       'balbc_hepatocyte_control_young',\n",
    "       'aj_hepatocyte_control_young',\n",
    "       'c57_lsec_control_young',\n",
    "       'balbc_lsec_control_young',\n",
    "       'aj_lsec_control_young',\n",
    "       'c57_stellate_control_young',\n",
    "       'balbc_stellate_control_young',\n",
    "       'aj_stellate_control_young']\n",
    "       \n",
    "colors = ['#31a354',\n",
    "          '#3182bd',\n",
    "          '#de2d26',\n",
    "          '#31a354',\n",
    "          '#3182bd',\n",
    "          '#de2d26',\n",
    "          '#31a354',\n",
    "          '#3182bd',\n",
    "          '#de2d26',\n",
    "          '#31a354',\n",
    "          '#3182bd',\n",
    "          '#de2d26']\n",
    "       \n",
    "paths = [';'.join(c57_kc_paths),\n",
    "         ';'.join(balbc_kc_paths),\n",
    "         ';'.join(aj_kc_paths),\n",
    "         ';'.join(c57_hep_paths),\n",
    "         ';'.join(balbc_hep_paths),\n",
    "         ';'.join(aj_hep_paths),\n",
    "         ';'.join(c57_lsec_paths),\n",
    "         ';'.join(balbc_lsec_paths),\n",
    "         ';'.join(aj_lsec_paths),\n",
    "         ';'.join(c57_stel_paths),\n",
    "         ';'.join(balbc_stel_paths),\n",
    "         ';'.join(aj_stel_paths)]\n",
    "       \n",
    "short_ids = [';'.join([ids[0]+'_'+i for i in c57_kc_ids]),\n",
    "             ';'.join([ids[1]+'_'+i for i in balbc_kc_ids]),\n",
    "             ';'.join([ids[2]+'_'+i for i in aj_kc_ids]),\n",
    "             ';'.join([ids[3]+'_'+i for i in c57_hep_ids]),\n",
    "             ';'.join([ids[4]+'_'+i for i in balbc_hep_ids]),\n",
    "             ';'.join([ids[5]+'_'+i for i in aj_hep_ids]),\n",
    "             ';'.join([ids[6]+'_'+i for i in c57_lsec_ids]),\n",
    "             ';'.join([ids[7]+'_'+i for i in balbc_lsec_ids]),\n",
    "             ';'.join([ids[8]+'_'+i for i in aj_lsec_ids]),\n",
    "             ';'.join([ids[9]+'_'+i for i in c57_stel_ids]),\n",
    "             ';'.join([ids[10]+'_'+i for i in balbc_stel_ids]),\n",
    "             ';'.join([ids[11]+'_'+i for i in aj_stel_ids])]"
   ]
  },
  {
   "cell_type": "code",
   "execution_count": 55,
   "metadata": {},
   "outputs": [
    {
     "name": "stdout",
     "output_type": "stream",
     "text": [
      "[1, 1, 1, 2, 1, 1, 3, 3, 3, 2, 3, 3]\n",
      "[1, 1, 1, 2, 1, 1, 3, 3, 3, 2, 3, 3]\n"
     ]
    }
   ],
   "source": [
    "print([i.count(';') for i in paths])\n",
    "print([i.count(';') for i in short_ids])"
   ]
  },
  {
   "cell_type": "code",
   "execution_count": 56,
   "metadata": {},
   "outputs": [],
   "source": [
    "pd.DataFrame([ids,colors,paths,short_ids]).T.to_csv('./sampleDef.txt',\n",
    "                                                    sep='\\t',\n",
    "                                                    header=False,\n",
    "                                                    index=False)"
   ]
  },
  {
   "cell_type": "markdown",
   "metadata": {},
   "source": [
    "# Run O'young RNA pipeline"
   ]
  },
  {
   "cell_type": "markdown",
   "metadata": {},
   "source": [
    "Run the code below in BASH\n",
    "\n",
    "    source activate r-ouyangPipe\n",
    "    \n",
    "    mkdir ./expression/\n",
    "    \n",
    "    mkdir ./differential/\n",
    "    \n",
    "    rnaQuan.R ./sampleDef.txt -o ./expression/"
   ]
  },
  {
   "cell_type": "markdown",
   "metadata": {},
   "source": [
    "### Make sure to check the PCA pdf file for outliers"
   ]
  }
 ],
 "metadata": {
  "kernelspec": {
   "display_name": "dataviz",
   "language": "python",
   "name": "dataviz"
  },
  "language_info": {
   "codemirror_mode": {
    "name": "ipython",
    "version": 3
   },
   "file_extension": ".py",
   "mimetype": "text/x-python",
   "name": "python",
   "nbconvert_exporter": "python",
   "pygments_lexer": "ipython3",
   "version": "3.7.5"
  }
 },
 "nbformat": 4,
 "nbformat_minor": 2
}
