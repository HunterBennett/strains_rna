{
 "cells": [
  {
   "cell_type": "code",
   "execution_count": 48,
   "metadata": {},
   "outputs": [
    {
     "name": "stdout",
     "output_type": "stream",
     "text": [
      "The autoreload extension is already loaded. To reload it, use:\n",
      "  %reload_ext autoreload\n"
     ]
    }
   ],
   "source": [
    "### header ###\n",
    "__author__ = \"Hunter Bennett\"\n",
    "__license__ = \"BSD\"\n",
    "__email__ = \"hunter.r.bennett@gmail.com\"\n",
    "%load_ext autoreload\n",
    "%autoreload 2\n",
    "%matplotlib inline\n",
    "### imports ###\n",
    "import sys\n",
    "import os\n",
    "import re\n",
    "import glob\n",
    "import pandas as pd\n",
    "import numpy as np\n",
    "import matplotlib\n",
    "import matplotlib.pyplot as plt \n",
    "from matplotlib.patches import Patch\n",
    "import seaborn as sns\n",
    "\n",
    "# spider plot functions\n",
    "from matplotlib.patches import Circle, RegularPolygon\n",
    "from matplotlib.path import Path\n",
    "from matplotlib.projections.polar import PolarAxes\n",
    "from matplotlib.projections import register_projection\n",
    "from matplotlib.spines import Spine\n",
    "from matplotlib.transforms import Affine2D\n",
    "\n",
    "# clustering functions\n",
    "# cluster targets\n",
    "import scipy\n",
    "import scipy.cluster.hierarchy as sch\n",
    "import scipy.spatial.distance as dist\n",
    "\n",
    "# set plotting functions\n",
    "matplotlib.rcParams['savefig.dpi'] = 500\n",
    "sns.set(font_scale=1)\n",
    "sns.set_context('talk')\n",
    "sns.set_style('white')\n",
    "# get matplotlib to save readable fonts\n",
    "matplotlib.rcParams['pdf.fonttype'] = 42\n",
    "matplotlib.rcParams['ps.fonttype'] = 42\n",
    "\n",
    "# import custom functions\n",
    "sys.path.insert(0, '/home/h1bennet/code/')\n",
    "from hbUtils import ngs_qc, quantile_normalize_df\n",
    "from homer_preprocessing import read_homer_gene_exp, import_homer_diffgene, pull_comparisons_get_diff\n",
    "from plotting_scripts import label_point, pca_rpkm_mat, get_diff_volcano, plot_exp_rpkm, gene_list_bar_plot"
   ]
  },
  {
   "cell_type": "code",
   "execution_count": 49,
   "metadata": {},
   "outputs": [],
   "source": [
    "# define functions\n",
    "def radar_factory(num_vars, frame='circle'):\n",
    "    \"\"\"\n",
    "    Create a radar chart with `num_vars` axes.\n",
    "\n",
    "    This function creates a RadarAxes projection and registers it.\n",
    "\n",
    "    Parameters\n",
    "    ----------\n",
    "    num_vars : int\n",
    "        Number of variables for radar chart.\n",
    "    frame : {'circle', 'polygon'}\n",
    "        Shape of frame surrounding axes.\n",
    "\n",
    "    \"\"\"\n",
    "    # calculate evenly-spaced axis angles\n",
    "    theta = np.linspace(0, 2*np.pi, num_vars, endpoint=False)\n",
    "\n",
    "    class RadarAxes(PolarAxes):\n",
    "\n",
    "        name = 'radar'\n",
    "        # use 1 line segment to connect specified points\n",
    "        RESOLUTION = 1\n",
    "\n",
    "        def __init__(self, *args, **kwargs):\n",
    "            super().__init__(*args, **kwargs)\n",
    "            # rotate plot such that the first axis is at the top\n",
    "            self.set_theta_zero_location('N')\n",
    "\n",
    "        def fill(self, *args, closed=True, **kwargs):\n",
    "            \"\"\"Override fill so that line is closed by default\"\"\"\n",
    "            return super().fill(closed=closed, *args, **kwargs)\n",
    "\n",
    "        def plot(self, *args, **kwargs):\n",
    "            \"\"\"Override plot so that line is closed by default\"\"\"\n",
    "            lines = super().plot(*args, **kwargs)\n",
    "            for line in lines:\n",
    "                self._close_line(line)\n",
    "\n",
    "        def _close_line(self, line):\n",
    "            x, y = line.get_data()\n",
    "            # FIXME: markers at x[0], y[0] get doubled-up\n",
    "            if x[0] != x[-1]:\n",
    "                x = np.append(x, x[0])\n",
    "                y = np.append(y, y[0])\n",
    "                line.set_data(x, y)\n",
    "\n",
    "        def set_varlabels(self, labels, fontsize=8):\n",
    "            self.set_thetagrids(np.degrees(theta), labels, fontsize=fontsize)\n",
    "\n",
    "        def _gen_axes_patch(self):\n",
    "            # The Axes patch must be centered at (0.5, 0.5) and of radius 0.5\n",
    "            # in axes coordinates.\n",
    "            if frame == 'circle':\n",
    "                return Circle((0.5, 0.5), 0.5)\n",
    "            elif frame == 'polygon':\n",
    "                return RegularPolygon((0.5, 0.5), num_vars,\n",
    "                                      radius=.5, edgecolor=\"k\")\n",
    "            else:\n",
    "                raise ValueError(\"Unknown value for 'frame': %s\" % frame)\n",
    "\n",
    "        def _gen_axes_spines(self):\n",
    "            if frame == 'circle':\n",
    "                return super()._gen_axes_spines()\n",
    "            elif frame == 'polygon':\n",
    "                # spine_type must be 'left'/'right'/'top'/'bottom'/'circle'.\n",
    "                spine = Spine(axes=self,\n",
    "                              spine_type='circle',\n",
    "                              path=Path.unit_regular_polygon(num_vars))\n",
    "                # unit_regular_polygon gives a polygon of radius 1 centered at\n",
    "                # (0, 0) but we want a polygon of radius 0.5 centered at (0.5,\n",
    "                # 0.5) in axes coordinates.\n",
    "                spine.set_transform(Affine2D().scale(.5).translate(.5, .5)\n",
    "                                    + self.transAxes)\n",
    "                return {'polar': spine}\n",
    "            else:\n",
    "                raise ValueError(\"Unknown value for 'frame': %s\" % frame)\n",
    "\n",
    "    register_projection(RadarAxes)\n",
    "    return theta"
   ]
  },
  {
   "cell_type": "code",
   "execution_count": 50,
   "metadata": {},
   "outputs": [],
   "source": [
    "workingDirectory = '/home/h1bennet/strains_rna/results/K00_Strains_Control_Kupffer_RNA/'\n",
    "dataDirectory = '/home/h1bennet/strains/data/RNA/control_kupffer/'\n",
    "if not os.path.isdir(workingDirectory):\n",
    "    os.mkdir(workingDirectory)\n",
    "os.chdir(workingDirectory)\n"
   ]
  },
  {
   "cell_type": "markdown",
   "metadata": {},
   "source": [
    "To do this analysis we will pull from the differential analysis performed by Ty at the following location:  \n",
    "\n",
    "     /home/ttroutman/strainsKupffer/rnaKupfferNASH/\n",
    " "
   ]
  },
  {
   "cell_type": "markdown",
   "metadata": {},
   "source": [
    "# Import differential gene files for examination and plotting"
   ]
  },
  {
   "cell_type": "code",
   "execution_count": 51,
   "metadata": {},
   "outputs": [],
   "source": [
    "if not os.path.isdir('./gene_lists/'):\n",
    "    os.mkdir('./gene_lists')"
   ]
  },
  {
   "cell_type": "code",
   "execution_count": 52,
   "metadata": {},
   "outputs": [],
   "source": [
    "strains = ['aj', 'balb', 'c57']\n",
    "log2fc = 1\n",
    "padj = 0.05\n",
    "diffpath = '/home/ttroutman/strainsKupffer/rnaKupfferNASH/rnaDiff/'"
   ]
  },
  {
   "cell_type": "code",
   "execution_count": 53,
   "metadata": {
    "scrolled": false
   },
   "outputs": [],
   "source": [
    "gene_list_dict ={}"
   ]
  },
  {
   "cell_type": "markdown",
   "metadata": {},
   "source": [
    "### Extract \"intersection\" and \"union\" gene sets"
   ]
  },
  {
   "cell_type": "code",
   "execution_count": 54,
   "metadata": {
    "scrolled": true
   },
   "outputs": [
    {
     "name": "stdout",
     "output_type": "stream",
     "text": [
      "/home/ttroutman/strainsKupffer/rnaKupfferNASH/rnaDiff/aj_control.vs.c57bl6j_control.scatter.txt\n",
      "/home/ttroutman/strainsKupffer/rnaKupfferNASH/rnaDiff/aj_control.vs.balbcj_control.scatter.txt\n",
      "/home/ttroutman/strainsKupffer/rnaKupfferNASH/rnaDiff/balbcj_control.vs.aj_control.scatter.txt\n",
      "/home/ttroutman/strainsKupffer/rnaKupfferNASH/rnaDiff/balbcj_control.vs.c57bl6j_control.scatter.txt\n",
      "/home/ttroutman/strainsKupffer/rnaKupfferNASH/rnaDiff/c57bl6j_control.vs.aj_control.scatter.txt\n",
      "/home/ttroutman/strainsKupffer/rnaKupfferNASH/rnaDiff/c57bl6j_control.vs.balbcj_control.scatter.txt\n"
     ]
    }
   ],
   "source": [
    "for strain in strains:\n",
    "    # initialize gene lists\n",
    "    g_intersect = set()\n",
    "    g_union = set()\n",
    "    for i in glob.glob(diffpath+strain+'*control.vs.*control*.txt'):\n",
    "        print(i)\n",
    "        df = pd.read_csv(i,\n",
    "                 sep='\\t',\n",
    "                 index_col=0)\n",
    "\n",
    "        # select differential genes\n",
    "        # df = df.loc[~(df.chr.str.contains('chrX|chrY|ChrUn')), :]\n",
    "        sig_genes = df.index[(df['padj'] < padj) & (df['log2FoldChange'] <= -log2fc)].to_list()\n",
    "        \n",
    "        # add to sets\n",
    "        if len(g_union) == 0:\n",
    "            g_union = set(sig_genes)\n",
    "            g_intersect = set(sig_genes)\n",
    "        else:\n",
    "            g_union = g_union.union(sig_genes)\n",
    "            g_intersect = g_intersect.intersection(sig_genes)\n",
    "        \n",
    "        # print('union set length:', print(len(g_union)))\n",
    "        # print('intersection set length:', print(len(g_intersect)))\n",
    "    \n",
    "    # after getting union and intersection sets add to dict\n",
    "    gene_list_dict[strain+'_union'] = list(g_union)\n",
    "    gene_list_dict[strain+'_intersection'] = list(g_intersect)\n",
    "        "
   ]
  },
  {
   "cell_type": "markdown",
   "metadata": {},
   "source": [
    "### Write gene lists together for combined GO analysis"
   ]
  },
  {
   "cell_type": "code",
   "execution_count": 55,
   "metadata": {},
   "outputs": [],
   "source": [
    "meta_df = pd.DataFrame.from_dict(gene_list_dict, orient='index').T\n",
    "meta_df.to_csv('./gene_lists/all_kupffer_genes_fc_'+str(log2fc)+'_pval_'+str(padj)+'.csv',\n",
    "               # sep='',\n",
    "               index=False)"
   ]
  },
  {
   "cell_type": "markdown",
   "metadata": {},
   "source": [
    "### Try with homer\n",
    "HOMER is nice because it explicitly tests enrichment in all lists so that\n",
    "we know we are comparing the same test - metascape does filtering for top 25 or top 100.\n",
    "    \n",
    "    for i in *genes*; do echo findGO.pl $i mouse ${i/.txt/_go} -cpu 4; done"
   ]
  },
  {
   "cell_type": "markdown",
   "metadata": {},
   "source": [
    "### Read in go biological process terms"
   ]
  },
  {
   "cell_type": "code",
   "execution_count": 56,
   "metadata": {},
   "outputs": [],
   "source": [
    "df_dict = {}\n",
    "for i in np.sort(glob.glob('./gene_lists/*go/biological_process.txt')):\n",
    "    df = pd.read_csv(i, sep='\\t', index_col=0)\n",
    "    df_dict[i.split('/')[2].split('_kupffer')[0]] = df"
   ]
  },
  {
   "cell_type": "markdown",
   "metadata": {},
   "source": [
    "# extract subset of terms for spider plot\n",
    "Unbiased extraction of top three terms"
   ]
  },
  {
   "cell_type": "code",
   "execution_count": 57,
   "metadata": {},
   "outputs": [],
   "source": [
    "n=3\n",
    "top_terms = []\n",
    "for i in ['aj_union', 'balb_union', 'c57_union']:\n",
    "    top_terms.extend(df_dict[i].sort_values('logP', ascending=True).index.tolist()[:n])\n",
    "    \n",
    "top_terms_set = set(top_terms)"
   ]
  },
  {
   "cell_type": "markdown",
   "metadata": {},
   "source": [
    "# create DF with term IDs and scores"
   ]
  },
  {
   "cell_type": "code",
   "execution_count": 58,
   "metadata": {},
   "outputs": [],
   "source": [
    "df = df_dict['aj_union'].loc[top_terms_set, ['Term', 'logP']]\n",
    "df = df.merge(df_dict['balb_union'].loc[top_terms_set, ['logP']],\n",
    "              left_index=True,\n",
    "              right_index=True,\n",
    "              suffixes=('_aj', '_balb'))\n",
    "df = df.merge(df_dict['c57_union'].loc[top_terms_set, ['logP']],\n",
    "              left_index=True,\n",
    "              right_index=True,\n",
    "              suffixes=('', '_c57'))"
   ]
  },
  {
   "cell_type": "markdown",
   "metadata": {},
   "source": [
    "# cluster terms\n",
    "This makes a spider plot in which the strains specific functions are clustered together"
   ]
  },
  {
   "cell_type": "code",
   "execution_count": 59,
   "metadata": {},
   "outputs": [
    {
     "name": "stderr",
     "output_type": "stream",
     "text": [
      "/gpfs/data01/glasslab/home/h1bennet/.conda/envs/dataviz/lib/python3.7/site-packages/ipykernel_launcher.py:3: ClusterWarning: scipy.cluster: The symmetric non-negative hollow observation matrix looks suspiciously like an uncondensed distance matrix\n",
      "  This is separate from the ipykernel package so we can avoid doing imports until\n"
     ]
    },
    {
     "data": {
      "image/png": "[encoded data removed]",
      "text/plain": [
       "<Figure size 432x288 with 1 Axes>"
      ]
     },
     "metadata": {},
     "output_type": "display_data"
    }
   ],
   "source": [
    "d2 = dist.pdist(df.iloc[:, 1:])\n",
    "D2 = dist.squareform(d2)\n",
    "Y2 = sch.linkage(D2, method='average', metric='euclidean') ### array-clustering metric - 'average', 'single', 'centroid', 'complete'\n",
    "Z2 = sch.dendrogram(Y2)"
   ]
  },
  {
   "cell_type": "markdown",
   "metadata": {},
   "source": [
    "### Make spider plot"
   ]
  },
  {
   "cell_type": "code",
   "execution_count": 61,
   "metadata": {},
   "outputs": [
    {
     "data": {
      "image/png": "[encoded data removed]",
      "text/plain": [
       "<Figure size 216x216 with 1 Axes>"
      ]
     },
     "metadata": {},
     "output_type": "display_data"
    }
   ],
   "source": [
    "theta = radar_factory(df.shape[0], frame='polygon')\n",
    "fig, ax = plt.subplots(figsize=(3, 3),\n",
    "                       subplot_kw=dict(projection='radar'))\n",
    "\n",
    "ax.set_rgrids([5,15,25],\n",
    "              fontsize=8)\n",
    "\n",
    "# ax.set_title(title, weight='bold', size='medium', position=(0.5, 1.1),\n",
    "#              horizontalalignment='center', verticalalignment='center')\n",
    "colors = ['#e41a1c', '#377eb8', '#4daf4a']\n",
    "lists = ['logP_aj', 'logP_balb', 'logP']\n",
    "\n",
    "for color, logp_lists in zip(colors, lists):\n",
    "    ax.plot(theta,\n",
    "            -df[logp_lists].iloc[Z2['leaves']],\n",
    "            color=color,\n",
    "            linewidth=1,\n",
    "            marker='o',\n",
    "            markersize=5,\n",
    "            markerfacecolor='white')\n",
    "    ax.fill(theta,\n",
    "            -df[logp_lists].iloc[Z2['leaves']],\n",
    "            color=color,\n",
    "            alpha=0.25)\n",
    "ax.set_varlabels(df['Term'].iloc[Z2['leaves']],\n",
    "                 fontsize=8)\n",
    "\n",
    "plt.savefig('./figures/spider_plot_top_'+str(n)+'_terms.pdf',\n",
    "            sep='\\t')"
   ]
  },
  {
   "cell_type": "markdown",
   "metadata": {},
   "source": [
    "# Check whether bar plot is informative\n",
    "The best way to explain this information is unclear"
   ]
  },
  {
   "cell_type": "code",
   "execution_count": 62,
   "metadata": {},
   "outputs": [],
   "source": [
    "# # pivot to long format for use in seaborn\n",
    "# df_long = df.iloc[Z2['leaves'], :].melt(id_vars=['Term'])\n",
    "# df_long.value = -df_long.value\n",
    "\n",
    "# sns.catplot(x=\"value\",\n",
    "#             y=\"Term\",\n",
    "#             hue=\"variable\",\n",
    "#             kind=\"bar\",\n",
    "#             data=df_long)\n"
   ]
  },
  {
   "cell_type": "markdown",
   "metadata": {},
   "source": [
    "# Make with custom gene list\n",
    "Extract top 15 terms per cell type for manual examination"
   ]
  },
  {
   "cell_type": "code",
   "execution_count": 63,
   "metadata": {},
   "outputs": [],
   "source": [
    "n=15\n",
    "top_terms = []\n",
    "for i in ['aj_union', 'balb_union', 'c57_union']:\n",
    "    top_terms.extend(df_dict[i].sort_values('logP', ascending=True).index.tolist()[:n])\n",
    "    \n",
    "top_terms_set = set(top_terms)\n",
    "\n",
    "df = df_dict['aj_union'].loc[top_terms_set, ['Term', 'logP']]\n",
    "df = df.merge(df_dict['balb_union'].loc[top_terms_set, ['logP']],\n",
    "              left_index=True,\n",
    "              right_index=True,\n",
    "              suffixes=('_aj', '_balb'))\n",
    "df = df.merge(df_dict['c57_union'].loc[top_terms_set, ['logP']],\n",
    "              left_index=True,\n",
    "              right_index=True,\n",
    "              suffixes=('', '_c57'))"
   ]
  },
  {
   "cell_type": "markdown",
   "metadata": {},
   "source": [
    "Look at sorted term list and select terms of interest"
   ]
  },
  {
   "cell_type": "code",
   "execution_count": 64,
   "metadata": {
    "scrolled": true
   },
   "outputs": [
    {
     "data": {
      "text/html": [
       "<div>\n",
       "<style scoped>\n",
       "    .dataframe tbody tr th:only-of-type {\n",
       "        vertical-align: middle;\n",
       "    }\n",
       "\n",
       "    .dataframe tbody tr th {\n",
       "        vertical-align: top;\n",
       "    }\n",
       "\n",
       "    .dataframe thead th {\n",
       "        text-align: right;\n",
       "    }\n",
       "</style>\n",
       "<table border=\"1\" class=\"dataframe\">\n",
       "  <thead>\n",
       "    <tr style=\"text-align: right;\">\n",
       "      <th></th>\n",
       "      <th>Term</th>\n",
       "      <th>logP_aj</th>\n",
       "      <th>logP_balb</th>\n",
       "      <th>logP</th>\n",
       "    </tr>\n",
       "    <tr>\n",
       "      <th>TermID</th>\n",
       "      <th></th>\n",
       "      <th></th>\n",
       "      <th></th>\n",
       "      <th></th>\n",
       "    </tr>\n",
       "  </thead>\n",
       "  <tbody>\n",
       "    <tr>\n",
       "      <th>GO:0002376</th>\n",
       "      <td>immune system process</td>\n",
       "      <td>-31.663</td>\n",
       "      <td>-18.776</td>\n",
       "      <td>-37.872</td>\n",
       "    </tr>\n",
       "    <tr>\n",
       "      <th>GO:0006955</th>\n",
       "      <td>immune response</td>\n",
       "      <td>-24.951</td>\n",
       "      <td>-13.869</td>\n",
       "      <td>-30.587</td>\n",
       "    </tr>\n",
       "    <tr>\n",
       "      <th>GO:0006952</th>\n",
       "      <td>defense response</td>\n",
       "      <td>-16.541</td>\n",
       "      <td>-8.796</td>\n",
       "      <td>-25.296</td>\n",
       "    </tr>\n",
       "    <tr>\n",
       "      <th>GO:0009605</th>\n",
       "      <td>response to external stimulus</td>\n",
       "      <td>-9.103</td>\n",
       "      <td>-16.358</td>\n",
       "      <td>-22.837</td>\n",
       "    </tr>\n",
       "    <tr>\n",
       "      <th>GO:0009607</th>\n",
       "      <td>response to biotic stimulus</td>\n",
       "      <td>-5.299</td>\n",
       "      <td>-6.941</td>\n",
       "      <td>-21.206</td>\n",
       "    </tr>\n",
       "    <tr>\n",
       "      <th>GO:0045087</th>\n",
       "      <td>innate immune response</td>\n",
       "      <td>-12.023</td>\n",
       "      <td>-9.296</td>\n",
       "      <td>-20.805</td>\n",
       "    </tr>\n",
       "    <tr>\n",
       "      <th>GO:0051707</th>\n",
       "      <td>response to other organism</td>\n",
       "      <td>-4.843</td>\n",
       "      <td>-6.453</td>\n",
       "      <td>-20.652</td>\n",
       "    </tr>\n",
       "    <tr>\n",
       "      <th>GO:0043207</th>\n",
       "      <td>response to external biotic stimulus</td>\n",
       "      <td>-4.822</td>\n",
       "      <td>-6.427</td>\n",
       "      <td>-20.595</td>\n",
       "    </tr>\n",
       "    <tr>\n",
       "      <th>GO:0006950</th>\n",
       "      <td>response to stress</td>\n",
       "      <td>-8.316</td>\n",
       "      <td>-10.155</td>\n",
       "      <td>-20.253</td>\n",
       "    </tr>\n",
       "    <tr>\n",
       "      <th>GO:0002252</th>\n",
       "      <td>immune effector process</td>\n",
       "      <td>-12.257</td>\n",
       "      <td>-10.692</td>\n",
       "      <td>-20.086</td>\n",
       "    </tr>\n",
       "    <tr>\n",
       "      <th>GO:0019886</th>\n",
       "      <td>antigen processing and presentation of exogeno...</td>\n",
       "      <td>-19.896</td>\n",
       "      <td>-2.042</td>\n",
       "      <td>-19.779</td>\n",
       "    </tr>\n",
       "    <tr>\n",
       "      <th>GO:0034341</th>\n",
       "      <td>response to interferon-gamma</td>\n",
       "      <td>-6.787</td>\n",
       "      <td>-3.491</td>\n",
       "      <td>-19.759</td>\n",
       "    </tr>\n",
       "    <tr>\n",
       "      <th>GO:0042221</th>\n",
       "      <td>response to chemical</td>\n",
       "      <td>-8.975</td>\n",
       "      <td>-11.424</td>\n",
       "      <td>-19.353</td>\n",
       "    </tr>\n",
       "    <tr>\n",
       "      <th>GO:0002504</th>\n",
       "      <td>antigen processing and presentation of peptide...</td>\n",
       "      <td>-18.932</td>\n",
       "      <td>-1.918</td>\n",
       "      <td>-18.815</td>\n",
       "    </tr>\n",
       "    <tr>\n",
       "      <th>GO:0002495</th>\n",
       "      <td>antigen processing and presentation of peptide...</td>\n",
       "      <td>-18.932</td>\n",
       "      <td>-1.918</td>\n",
       "      <td>-18.815</td>\n",
       "    </tr>\n",
       "    <tr>\n",
       "      <th>GO:0032101</th>\n",
       "      <td>regulation of response to external stimulus</td>\n",
       "      <td>-11.999</td>\n",
       "      <td>-14.424</td>\n",
       "      <td>-18.441</td>\n",
       "    </tr>\n",
       "    <tr>\n",
       "      <th>GO:0002684</th>\n",
       "      <td>positive regulation of immune system process</td>\n",
       "      <td>-15.218</td>\n",
       "      <td>-8.020</td>\n",
       "      <td>-17.530</td>\n",
       "    </tr>\n",
       "    <tr>\n",
       "      <th>GO:0048002</th>\n",
       "      <td>antigen processing and presentation of peptide...</td>\n",
       "      <td>-17.006</td>\n",
       "      <td>-1.225</td>\n",
       "      <td>-16.872</td>\n",
       "    </tr>\n",
       "    <tr>\n",
       "      <th>GO:0002478</th>\n",
       "      <td>antigen processing and presentation of exogeno...</td>\n",
       "      <td>-16.749</td>\n",
       "      <td>-1.628</td>\n",
       "      <td>-16.633</td>\n",
       "    </tr>\n",
       "    <tr>\n",
       "      <th>GO:0019884</th>\n",
       "      <td>antigen processing and presentation of exogeno...</td>\n",
       "      <td>-15.178</td>\n",
       "      <td>-1.416</td>\n",
       "      <td>-15.063</td>\n",
       "    </tr>\n",
       "    <tr>\n",
       "      <th>GO:0019882</th>\n",
       "      <td>antigen processing and presentation</td>\n",
       "      <td>-15.172</td>\n",
       "      <td>-0.732</td>\n",
       "      <td>-12.382</td>\n",
       "    </tr>\n",
       "    <tr>\n",
       "      <th>GO:0002696</th>\n",
       "      <td>positive regulation of leukocyte activation</td>\n",
       "      <td>-13.446</td>\n",
       "      <td>-4.648</td>\n",
       "      <td>-9.983</td>\n",
       "    </tr>\n",
       "    <tr>\n",
       "      <th>GO:0050867</th>\n",
       "      <td>positive regulation of cell activation</td>\n",
       "      <td>-12.906</td>\n",
       "      <td>-5.551</td>\n",
       "      <td>-9.541</td>\n",
       "    </tr>\n",
       "    <tr>\n",
       "      <th>GO:0043410</th>\n",
       "      <td>positive regulation of MAPK cascade</td>\n",
       "      <td>-3.554</td>\n",
       "      <td>-14.064</td>\n",
       "      <td>-8.563</td>\n",
       "    </tr>\n",
       "    <tr>\n",
       "      <th>GO:0048245</th>\n",
       "      <td>eosinophil chemotaxis</td>\n",
       "      <td>-1.770</td>\n",
       "      <td>-13.888</td>\n",
       "      <td>-7.080</td>\n",
       "    </tr>\n",
       "    <tr>\n",
       "      <th>GO:0072677</th>\n",
       "      <td>eosinophil migration</td>\n",
       "      <td>-1.723</td>\n",
       "      <td>-13.609</td>\n",
       "      <td>-6.925</td>\n",
       "    </tr>\n",
       "    <tr>\n",
       "      <th>GO:0030888</th>\n",
       "      <td>regulation of B cell proliferation</td>\n",
       "      <td>-12.510</td>\n",
       "      <td>-3.591</td>\n",
       "      <td>-3.566</td>\n",
       "    </tr>\n",
       "    <tr>\n",
       "      <th>GO:0052695</th>\n",
       "      <td>cellular glucuronidation</td>\n",
       "      <td>0.000</td>\n",
       "      <td>-26.660</td>\n",
       "      <td>0.000</td>\n",
       "    </tr>\n",
       "    <tr>\n",
       "      <th>GO:0071466</th>\n",
       "      <td>cellular response to xenobiotic stimulus</td>\n",
       "      <td>-1.861</td>\n",
       "      <td>-15.793</td>\n",
       "      <td>0.000</td>\n",
       "    </tr>\n",
       "    <tr>\n",
       "      <th>GO:0006063</th>\n",
       "      <td>uronic acid metabolic process</td>\n",
       "      <td>0.000</td>\n",
       "      <td>-25.793</td>\n",
       "      <td>0.000</td>\n",
       "    </tr>\n",
       "    <tr>\n",
       "      <th>GO:0019585</th>\n",
       "      <td>glucuronate metabolic process</td>\n",
       "      <td>0.000</td>\n",
       "      <td>-25.793</td>\n",
       "      <td>0.000</td>\n",
       "    </tr>\n",
       "    <tr>\n",
       "      <th>GO:0006805</th>\n",
       "      <td>xenobiotic metabolic process</td>\n",
       "      <td>-1.406</td>\n",
       "      <td>-14.496</td>\n",
       "      <td>0.000</td>\n",
       "    </tr>\n",
       "    <tr>\n",
       "      <th>GO:0009812</th>\n",
       "      <td>flavonoid metabolic process</td>\n",
       "      <td>0.000</td>\n",
       "      <td>-27.663</td>\n",
       "      <td>0.000</td>\n",
       "    </tr>\n",
       "    <tr>\n",
       "      <th>GO:0052696</th>\n",
       "      <td>flavonoid glucuronidation</td>\n",
       "      <td>0.000</td>\n",
       "      <td>-30.355</td>\n",
       "      <td>0.000</td>\n",
       "    </tr>\n",
       "    <tr>\n",
       "      <th>GO:0052697</th>\n",
       "      <td>xenobiotic glucuronidation</td>\n",
       "      <td>0.000</td>\n",
       "      <td>-30.355</td>\n",
       "      <td>0.000</td>\n",
       "    </tr>\n",
       "  </tbody>\n",
       "</table>\n",
       "</div>"
      ],
      "text/plain": [
       "                                                         Term  logP_aj  \\\n",
       "TermID                                                                   \n",
       "GO:0002376                              immune system process  -31.663   \n",
       "GO:0006955                                    immune response  -24.951   \n",
       "GO:0006952                                   defense response  -16.541   \n",
       "GO:0009605                      response to external stimulus   -9.103   \n",
       "GO:0009607                        response to biotic stimulus   -5.299   \n",
       "GO:0045087                             innate immune response  -12.023   \n",
       "GO:0051707                         response to other organism   -4.843   \n",
       "GO:0043207               response to external biotic stimulus   -4.822   \n",
       "GO:0006950                                 response to stress   -8.316   \n",
       "GO:0002252                            immune effector process  -12.257   \n",
       "GO:0019886  antigen processing and presentation of exogeno...  -19.896   \n",
       "GO:0034341                       response to interferon-gamma   -6.787   \n",
       "GO:0042221                               response to chemical   -8.975   \n",
       "GO:0002504  antigen processing and presentation of peptide...  -18.932   \n",
       "GO:0002495  antigen processing and presentation of peptide...  -18.932   \n",
       "GO:0032101        regulation of response to external stimulus  -11.999   \n",
       "GO:0002684       positive regulation of immune system process  -15.218   \n",
       "GO:0048002  antigen processing and presentation of peptide...  -17.006   \n",
       "GO:0002478  antigen processing and presentation of exogeno...  -16.749   \n",
       "GO:0019884  antigen processing and presentation of exogeno...  -15.178   \n",
       "GO:0019882                antigen processing and presentation  -15.172   \n",
       "GO:0002696        positive regulation of leukocyte activation  -13.446   \n",
       "GO:0050867             positive regulation of cell activation  -12.906   \n",
       "GO:0043410                positive regulation of MAPK cascade   -3.554   \n",
       "GO:0048245                              eosinophil chemotaxis   -1.770   \n",
       "GO:0072677                               eosinophil migration   -1.723   \n",
       "GO:0030888                 regulation of B cell proliferation  -12.510   \n",
       "GO:0052695                           cellular glucuronidation    0.000   \n",
       "GO:0071466           cellular response to xenobiotic stimulus   -1.861   \n",
       "GO:0006063                      uronic acid metabolic process    0.000   \n",
       "GO:0019585                      glucuronate metabolic process    0.000   \n",
       "GO:0006805                       xenobiotic metabolic process   -1.406   \n",
       "GO:0009812                        flavonoid metabolic process    0.000   \n",
       "GO:0052696                          flavonoid glucuronidation    0.000   \n",
       "GO:0052697                         xenobiotic glucuronidation    0.000   \n",
       "\n",
       "            logP_balb    logP  \n",
       "TermID                         \n",
       "GO:0002376    -18.776 -37.872  \n",
       "GO:0006955    -13.869 -30.587  \n",
       "GO:0006952     -8.796 -25.296  \n",
       "GO:0009605    -16.358 -22.837  \n",
       "GO:0009607     -6.941 -21.206  \n",
       "GO:0045087     -9.296 -20.805  \n",
       "GO:0051707     -6.453 -20.652  \n",
       "GO:0043207     -6.427 -20.595  \n",
       "GO:0006950    -10.155 -20.253  \n",
       "GO:0002252    -10.692 -20.086  \n",
       "GO:0019886     -2.042 -19.779  \n",
       "GO:0034341     -3.491 -19.759  \n",
       "GO:0042221    -11.424 -19.353  \n",
       "GO:0002504     -1.918 -18.815  \n",
       "GO:0002495     -1.918 -18.815  \n",
       "GO:0032101    -14.424 -18.441  \n",
       "GO:0002684     -8.020 -17.530  \n",
       "GO:0048002     -1.225 -16.872  \n",
       "GO:0002478     -1.628 -16.633  \n",
       "GO:0019884     -1.416 -15.063  \n",
       "GO:0019882     -0.732 -12.382  \n",
       "GO:0002696     -4.648  -9.983  \n",
       "GO:0050867     -5.551  -9.541  \n",
       "GO:0043410    -14.064  -8.563  \n",
       "GO:0048245    -13.888  -7.080  \n",
       "GO:0072677    -13.609  -6.925  \n",
       "GO:0030888     -3.591  -3.566  \n",
       "GO:0052695    -26.660   0.000  \n",
       "GO:0071466    -15.793   0.000  \n",
       "GO:0006063    -25.793   0.000  \n",
       "GO:0019585    -25.793   0.000  \n",
       "GO:0006805    -14.496   0.000  \n",
       "GO:0009812    -27.663   0.000  \n",
       "GO:0052696    -30.355   0.000  \n",
       "GO:0052697    -30.355   0.000  "
      ]
     },
     "execution_count": 64,
     "metadata": {},
     "output_type": "execute_result"
    }
   ],
   "source": [
    "df.sort_values('logP').round(3)"
   ]
  },
  {
   "cell_type": "markdown",
   "metadata": {},
   "source": [
    "## Select terms"
   ]
  },
  {
   "cell_type": "code",
   "execution_count": 65,
   "metadata": {},
   "outputs": [],
   "source": [
    "go_list = ['GO:0002376', 'GO:0002504', 'GO:0006952',\n",
    "           'GO:0009812', 'GO:0009605', 'GO:0043410',\n",
    "           'GO:0006950', 'GO:0034341', 'GO:0051707']\n",
    "\n",
    "# extract merged DF\n",
    "df = df_dict['aj_union'].loc[go_list, ['Term', 'logP']]\n",
    "df = df.merge(df_dict['balb_union'].loc[go_list, ['logP']],\n",
    "              left_index=True,\n",
    "              right_index=True,\n",
    "              suffixes=('_aj', '_balb'))\n",
    "df = df.merge(df_dict['c57_union'].loc[go_list, ['logP']],\n",
    "              left_index=True,\n",
    "              right_index=True,\n",
    "              suffixes=('', '_c57'))"
   ]
  },
  {
   "cell_type": "markdown",
   "metadata": {},
   "source": [
    "# cluster terms\n",
    "This makes a spider plot in which the strains specific functions are clustered together"
   ]
  },
  {
   "cell_type": "code",
   "execution_count": 66,
   "metadata": {},
   "outputs": [
    {
     "name": "stderr",
     "output_type": "stream",
     "text": [
      "/gpfs/data01/glasslab/home/h1bennet/.conda/envs/dataviz/lib/python3.7/site-packages/ipykernel_launcher.py:3: ClusterWarning: scipy.cluster: The symmetric non-negative hollow observation matrix looks suspiciously like an uncondensed distance matrix\n",
      "  This is separate from the ipykernel package so we can avoid doing imports until\n"
     ]
    },
    {
     "data": {
      "image/png": "[encoded data removed]",
      "text/plain": [
       "<Figure size 432x288 with 1 Axes>"
      ]
     },
     "metadata": {},
     "output_type": "display_data"
    }
   ],
   "source": [
    "d2 = dist.pdist(df.iloc[:, 1:])\n",
    "D2 = dist.squareform(d2)\n",
    "Y2 = sch.linkage(D2, method='average', metric='euclidean') ### array-clustering metric - 'average', 'single', 'centroid', 'complete'\n",
    "Z2 = sch.dendrogram(Y2)"
   ]
  },
  {
   "cell_type": "code",
   "execution_count": 67,
   "metadata": {},
   "outputs": [
    {
     "data": {
      "image/png": "[encoded data removed]",
      "text/plain": [
       "<Figure size 216x216 with 1 Axes>"
      ]
     },
     "metadata": {},
     "output_type": "display_data"
    }
   ],
   "source": [
    "theta = radar_factory(df.shape[0], frame='polygon')\n",
    "fig, ax = plt.subplots(figsize=(3, 3),\n",
    "                       subplot_kw=dict(projection='radar'))\n",
    "\n",
    "ax.set_rgrids([5,15,25],\n",
    "              fontsize=8)\n",
    "\n",
    "# ax.set_title(title, weight='bold', size='medium', position=(0.5, 1.1),\n",
    "#              horizontalalignment='center', verticalalignment='center')\n",
    "colors = ['#e41a1c', '#377eb8', '#4daf4a']\n",
    "lists = ['logP_aj', 'logP_balb', 'logP']\n",
    "\n",
    "for color, logp_lists in zip(colors, lists):\n",
    "    ax.plot(theta,\n",
    "            -df[logp_lists].iloc[Z2['leaves']],\n",
    "            color=color,\n",
    "            linewidth=1,\n",
    "            marker='o',\n",
    "            markersize=5,\n",
    "            markerfacecolor='white')\n",
    "    ax.fill(theta,\n",
    "            -df[logp_lists].iloc[Z2['leaves']],\n",
    "            color=color,\n",
    "            alpha=0.25)\n",
    "ax.set_varlabels(df['Term'].iloc[Z2['leaves']],\n",
    "                 fontsize=8)\n",
    "\n",
    "plt.savefig('./figures/spider_plot_curated_terms.pdf',\n",
    "            sep='\\t')"
   ]
  },
  {
   "cell_type": "code",
   "execution_count": null,
   "metadata": {},
   "outputs": [],
   "source": []
  },
  {
   "cell_type": "code",
   "execution_count": null,
   "metadata": {},
   "outputs": [],
   "source": []
  },
  {
   "cell_type": "code",
   "execution_count": null,
   "metadata": {},
   "outputs": [],
   "source": []
  }
 ],
 "metadata": {
  "kernelspec": {
   "display_name": "dataviz",
   "language": "python",
   "name": "dataviz"
  },
  "language_info": {
   "codemirror_mode": {
    "name": "ipython",
    "version": 3
   },
   "file_extension": ".py",
   "mimetype": "text/x-python",
   "name": "python",
   "nbconvert_exporter": "python",
   "pygments_lexer": "ipython3",
   "version": "3.7.5"
  }
 },
 "nbformat": 4,
 "nbformat_minor": 2
}
