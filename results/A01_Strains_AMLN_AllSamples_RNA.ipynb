{
 "cells": [
  {
   "cell_type": "code",
   "execution_count": 3,
   "metadata": {},
   "outputs": [
    {
     "name": "stdout",
     "output_type": "stream",
     "text": [
      "The autoreload extension is already loaded. To reload it, use:\n",
      "  %reload_ext autoreload\n"
     ]
    }
   ],
   "source": [
    "### header ###\n",
    "__author__ = \"Hunter Bennett\"\n",
    "__license__ = \"BSD\"\n",
    "__email__ = \"hunter.r.bennett@gmail.com\"\n",
    "%load_ext autoreload\n",
    "%autoreload 2\n",
    "%matplotlib inline\n",
    "### imports ###\n",
    "import sys\n",
    "import os\n",
    "import re\n",
    "import glob\n",
    "import pandas as pd\n",
    "import numpy as np\n",
    "import matplotlib\n",
    "import matplotlib.pyplot as plt \n",
    "import seaborn as sns\n",
    "\n",
    "matplotlib.rcParams['savefig.dpi'] = 200\n",
    "sys.setrecursionlimit(3000)\n",
    "sns.set(font_scale=1)\n",
    "sns.set_context('talk')\n",
    "sns.set_style('white')\n",
    "\n",
    "# import custom functions\n",
    "sys.path.insert(0, '/home/h1bennet/code/')\n",
    "from hbUtils import ngs_qc, quantile_normalize_df\n",
    "from homer_preprocessing import read_homer_gene_exp, import_homer_diffgene, pull_comparisons_get_diff\n",
    "from plotting_scripts import label_point, pca_rpkm_mat, get_diff_volcano, plot_exp_rpkm, gene_list_bar_plot"
   ]
  },
  {
   "cell_type": "code",
   "execution_count": 4,
   "metadata": {},
   "outputs": [],
   "source": [
    "workingDirectory = '/home/h1bennet/strains_rna/results/A01_Strains_AMLN_AllSamples_RNA/'\n",
    "kcDirectory = '/home/h1bennet/strains/data/RNA/AMLN_30week_kupffer/'\n",
    "hepDirectory = '/home/h1bennet/strains/data/RNA/AMLN_21week_wholeliver/'\n",
    "lsecDirectory = '/home/h1bennet/strains/data/RNA/AMLN_30week_lsec'\n",
    "stelDirectory = '/home/h1bennet/strains/data/RNA/AMLN_30week_stellate/'\n",
    "if not os.path.isdir(workingDirectory):\n",
    "    os.mkdir(workingDirectory)\n",
    "os.chdir(workingDirectory)\n"
   ]
  },
  {
   "cell_type": "markdown",
   "metadata": {},
   "source": [
    "# Check qc stats"
   ]
  },
  {
   "cell_type": "markdown",
   "metadata": {},
   "source": [
    "# Run Oyoung's pipeline to process RNA-seq data consistantly."
   ]
  },
  {
   "cell_type": "code",
   "execution_count": 46,
   "metadata": {},
   "outputs": [],
   "source": [
    "c57_kc_paths = ['/data/mm10/Kupffer/RNA/NCoRWT_KupfferTim4Pos_RNA_polyA_AMLNDiet_30week_LN144B_JSS_TDT_16_10_20',\n",
    "                '/data/mm10/Kupffer/RNA/NCoRWT_KupfferTim4Pos_RNA_polyA_AMLNDiet_30week_LN146C_JSS_TDT_16_10_20',\n",
    "                '/data/mm10/Kupffer/RNA/NCoRWT_KupfferTim4Pos_RNA_polyA_AMLNDiet_30week_LN146D_JSS_TDT_16_10_20',\n",
    "                '/data/mm10/Kupffer/RNA/NCoRWT_KupfferTim4Pos_RNA_polyA_AMLNDiet_30week_LN152B_JSS_TDT_16_10_20']\n",
    "balbc_kc_paths = ['/data/mm10/Kupffer/RNA/balbc_KupfferTotal_RNA_polyA_AMLNDiet_30week_Balb3B_JSSTDT_16_09_26',\n",
    "                  '/data/mm10/Kupffer/RNA/balbc_KupfferTotal_RNA_polyA_AMLNDiet_30week_Balb3C_JSSTDT_16_09_26',\n",
    "                  '/data/mm10/Kupffer/RNA/balbc_KupfferTotal_RNA_polyA_AMLNDiet_30week_Balb3d_JSS_TDT_16_09_28']\n",
    "aj_kc_paths = ['/data/mm10/Kupffer/RNA/aj_KupfferTim4Pos_RNA_polyA_AMLNDiet_30week_AJ6A_JSS_TDT_16_10_24',\n",
    "               '/data/mm10/Kupffer/RNA/aj_KupfferTotal_RNA_polyA_AMLNDiet_30week_AJ3A_JSSTDT_16_09_26',\n",
    "               '/data/mm10/Kupffer/RNA/aj_KupfferTotal_RNA_polyA_AMLNDiet_30week_AJ3B_JSSTDT_16_09_26',\n",
    "               '/data/mm10/Kupffer/RNA/aj_KupfferTotal_RNA_polyA_AMLNDiet_30week_AJ3c_JSS_TDT_16_09_28']\n",
    "\n",
    "c57_kc_ids = ['LN144B','LN146C','LN146D','LN152B']\n",
    "balbc_kc_ids = ['BALB3B','BALB3C','BALB3D']\n",
    "aj_kc_ids = ['AJ6A','AJ3A','AJ3B','AJ3C']"
   ]
  },
  {
   "cell_type": "code",
   "execution_count": 47,
   "metadata": {},
   "outputs": [],
   "source": [
    "c57_hep_paths = list(np.sort(glob.glob(hepDirectory+'/NCoRWT*')))\n",
    "balbc_hep_paths = list(np.sort(glob.glob(hepDirectory+'/balbc*')))\n",
    "aj_hep_paths = list(np.sort(glob.glob(hepDirectory+'/aj*')))\n",
    "\n",
    "c57_hep_ids = [i.split('/')[-1].split('_')[5] for i in c57_hep_paths]\n",
    "balbc_hep_ids = [i.split('/')[-1].split('_')[5] for i in balbc_hep_paths]\n",
    "aj_hep_ids = [i.split('/')[-1].split('_')[5] for i in aj_hep_paths]"
   ]
  },
  {
   "cell_type": "code",
   "execution_count": 48,
   "metadata": {},
   "outputs": [],
   "source": [
    "c57_lsec_paths = list(np.sort(glob.glob(lsecDirectory+'/NCoRWT*')))\n",
    "balbc_lsec_paths = list(np.sort(glob.glob(lsecDirectory+'/balbc*')))\n",
    "aj_lsec_paths = list(np.sort(glob.glob(lsecDirectory+'/aj*')))\n",
    "\n",
    "c57_lsec_ids = [i.split('/')[-1].split('_')[7] for i in c57_lsec_paths]\n",
    "balbc_lsec_ids = [i.split('/')[-1].split('_')[7] for i in balbc_lsec_paths]\n",
    "aj_lsec_ids = [i.split('/')[-1].split('_')[7] for i in aj_lsec_paths]"
   ]
  },
  {
   "cell_type": "code",
   "execution_count": 49,
   "metadata": {},
   "outputs": [],
   "source": [
    "c57_stel_paths = list(np.sort(glob.glob(stelDirectory+'/NCoRWT*')))\n",
    "balbc_stel_paths = list(np.sort(glob.glob(stelDirectory+'/balbc*')))\n",
    "aj_stel_paths = list(np.sort(glob.glob(stelDirectory+'/aj*')))\n",
    "\n",
    "c57_stel_ids = [i.split('/')[-1].split('_')[5] for i in c57_stel_paths]\n",
    "balbc_stel_ids = [i.split('/')[-1].split('_')[5] for i in balbc_stel_paths]\n",
    "aj_stel_ids = [i.split('/')[-1].split('_')[5] for i in aj_stel_paths]"
   ]
  },
  {
   "cell_type": "code",
   "execution_count": 50,
   "metadata": {},
   "outputs": [],
   "source": [
    "ids = ['c57_kupffer_amln',\n",
    "       'balbc_kupffer_amln',\n",
    "       'aj_kupffer_amln',\n",
    "       'c57_hepatocyte_amln',\n",
    "       'balbc_hepatocyte_amln',\n",
    "       'aj_hepatocyte_amln',\n",
    "       'c57_lsec_amln',\n",
    "       'balbc_lsec_amln',\n",
    "       'aj_lsec_amln',\n",
    "       'c57_stellate_amln',\n",
    "       'balbc_stellate_amln',\n",
    "       'aj_stellate_amln']\n",
    "       \n",
    "colors = ['#31a354',\n",
    "          '#3182bd',\n",
    "          '#de2d26',\n",
    "          '#31a354',\n",
    "          '#3182bd',\n",
    "          '#de2d26',\n",
    "          '#31a354',\n",
    "          '#3182bd',\n",
    "          '#de2d26',\n",
    "          '#31a354',\n",
    "          '#3182bd',\n",
    "          '#de2d26']\n",
    "       \n",
    "paths = [';'.join(c57_kc_paths),\n",
    "         ';'.join(balbc_kc_paths),\n",
    "         ';'.join(aj_kc_paths),\n",
    "         ';'.join(c57_hep_paths),\n",
    "         ';'.join(balbc_hep_paths),\n",
    "         ';'.join(aj_hep_paths),\n",
    "         ';'.join(c57_lsec_paths),\n",
    "         ';'.join(balbc_lsec_paths),\n",
    "         ';'.join(aj_lsec_paths),\n",
    "         ';'.join(c57_stel_paths),\n",
    "         ';'.join(balbc_stel_paths),\n",
    "         ';'.join(aj_stel_paths)]\n",
    "       \n",
    "short_ids = [';'.join([ids[0]+'_'+i for i in c57_kc_ids]),\n",
    "             ';'.join([ids[1]+'_'+i for i in balbc_kc_ids]),\n",
    "             ';'.join([ids[2]+'_'+i for i in aj_kc_ids]),\n",
    "             ';'.join([ids[3]+'_'+i for i in c57_hep_ids]),\n",
    "             ';'.join([ids[4]+'_'+i for i in balbc_hep_ids]),\n",
    "             ';'.join([ids[5]+'_'+i for i in aj_hep_ids]),\n",
    "             ';'.join([ids[6]+'_'+i for i in c57_lsec_ids]),\n",
    "             ';'.join([ids[7]+'_'+i for i in balbc_lsec_ids]),\n",
    "             ';'.join([ids[8]+'_'+i for i in aj_lsec_ids]),\n",
    "             ';'.join([ids[9]+'_'+i for i in c57_stel_ids]),\n",
    "             ';'.join([ids[10]+'_'+i for i in balbc_stel_ids]),\n",
    "             ';'.join([ids[11]+'_'+i for i in aj_stel_ids])]"
   ]
  },
  {
   "cell_type": "code",
   "execution_count": 51,
   "metadata": {},
   "outputs": [
    {
     "name": "stdout",
     "output_type": "stream",
     "text": [
      "[3, 2, 3, 2, 2, 2, 1, 3, 1, 1, 1, 1]\n",
      "[3, 2, 3, 2, 2, 2, 1, 3, 1, 1, 1, 1]\n"
     ]
    }
   ],
   "source": [
    "print([i.count(';') for i in paths])\n",
    "print([i.count(';') for i in short_ids])"
   ]
  },
  {
   "cell_type": "code",
   "execution_count": 52,
   "metadata": {},
   "outputs": [],
   "source": [
    "pd.DataFrame([ids,colors,paths,short_ids]).T.to_csv('./sampleDef.txt',\n",
    "                                                    sep='\\t',\n",
    "                                                    header=False,\n",
    "                                                    index=False)"
   ]
  },
  {
   "cell_type": "markdown",
   "metadata": {},
   "source": [
    "# Run O'young RNA pipeline"
   ]
  },
  {
   "cell_type": "markdown",
   "metadata": {},
   "source": [
    "Run the code below in BASH\n",
    "\n",
    "    source activate r-ouyangPipe\n",
    "    \n",
    "    mkdir ./expression/\n",
    "    \n",
    "    mkdir ./differential/\n",
    "    \n",
    "    rnaQuan.R ./sampleDef.txt -o ./expression/"
   ]
  },
  {
   "cell_type": "markdown",
   "metadata": {},
   "source": [
    "### Make sure to check the PCA pdf file for outliers"
   ]
  }
 ],
 "metadata": {
  "kernelspec": {
   "display_name": "dataviz",
   "language": "python",
   "name": "dataviz"
  },
  "language_info": {
   "codemirror_mode": {
    "name": "ipython",
    "version": 3
   },
   "file_extension": ".py",
   "mimetype": "text/x-python",
   "name": "python",
   "nbconvert_exporter": "python",
   "pygments_lexer": "ipython3",
   "version": "3.7.5"
  }
 },
 "nbformat": 4,
 "nbformat_minor": 2
}
