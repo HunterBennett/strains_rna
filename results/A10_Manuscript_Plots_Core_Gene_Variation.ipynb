{
 "cells": [
  {
   "cell_type": "markdown",
   "id": "entitled-rochester",
   "metadata": {},
   "source": [
    "Hunter Bennett | June 10 2021\n",
    "\n",
    "Goal here is to get a sense of the variation in the 'top expressed' genes within each cell type across strains."
   ]
  },
  {
   "cell_type": "code",
   "execution_count": 1,
   "id": "organizational-special",
   "metadata": {},
   "outputs": [],
   "source": [
    "### header ###\n",
    "__author__ = \"Hunter Bennett\"\n",
    "__license__ = \"BSD\"\n",
    "__email__ = \"hunter.r.bennett@gmail.com\"\n",
    "%load_ext autoreload\n",
    "%autoreload 2\n",
    "%matplotlib inline\n",
    "### imports ###\n",
    "import sys\n",
    "import os\n",
    "import re\n",
    "import glob\n",
    "import pandas as pd\n",
    "import numpy as np\n",
    "import matplotlib\n",
    "import matplotlib.pyplot as plt\n",
    "from matplotlib.patches import Patch\n",
    "import seaborn as sns\n",
    "\n",
    "# import custom functions\n",
    "sys.path.insert(0, '/home/h1bennet/code/')\n",
    "from homer_preprocessing import import_homer_diffgene, read_homer_gene_exp\n",
    "from plotting_scripts import plot_exp_rpkm, gene_list_bar_plot"
   ]
  },
  {
   "cell_type": "code",
   "execution_count": 2,
   "id": "bottom-honor",
   "metadata": {},
   "outputs": [],
   "source": [
    "#### PLOTTING PARAMETERS FOR MANUSCRIPT ####\n",
    "# # get matplotlib to save readable fonts\n",
    "matplotlib.rcParams['pdf.fonttype'] = 42\n",
    "matplotlib.rcParams['ps.fonttype'] = 42\n",
    "matplotlib.rcParams['font.size'] = 6\n",
    "matplotlib.rcParams['savefig.dpi'] = 500\n",
    "\n",
    "\n",
    "# line widths\n",
    "matplotlib.rcParams['axes.linewidth'] = 1\n",
    "matplotlib.rcParams['xtick.major.width'] = 1\n",
    "matplotlib.rcParams['ytick.major.width'] = 1\n",
    "\n",
    "# adjust defualt color for plots to black\n",
    "# normal default is a dark gray\n",
    "COLOR = 'black'\n",
    "matplotlib.rcParams['text.color'] = COLOR\n",
    "matplotlib.rcParams['axes.labelcolor'] = COLOR\n",
    "matplotlib.rcParams['xtick.color'] = COLOR\n",
    "matplotlib.rcParams['ytick.color'] = COLOR\n",
    "matplotlib.rcParams['axes.edgecolor'] = COLOR\n",
    "\n",
    "#### PLOT PARAMETERS FOR THIS PLOT ####"
   ]
  },
  {
   "cell_type": "code",
   "execution_count": 3,
   "id": "affecting-transition",
   "metadata": {},
   "outputs": [],
   "source": [
    "workingDirectory = '/home/h1bennet/strains_rna/results/A10_Manuscript_Figures_AllLiverCells//'\n",
    "dataDirectory = '/home/h1bennet/strains_rna/results/A00_Strains_Control_WholeLiver_RNA/'\n",
    "if not os.path.isdir(workingDirectory):\n",
    "    os.mkdir(workingDirectory)\n",
    "os.chdir(workingDirectory)\n"
   ]
  },
  {
   "cell_type": "code",
   "execution_count": 4,
   "id": "aggregate-torture",
   "metadata": {},
   "outputs": [],
   "source": [
    "df = pd.read_csv('./hepatic_cells_average_tpm.txt', sep='\\t', index_col=0)"
   ]
  },
  {
   "cell_type": "code",
   "execution_count": 5,
   "id": "innocent-hours",
   "metadata": {},
   "outputs": [],
   "source": [
    "cell_list = ['hepatocyte', 'kupffer', 'lsec', 'stellate']\n",
    "comp_cell_dict = {'hepatocyte':['kupffer', 'lsec', 'stellate'],\n",
    "                  'kupffer':['hepatocyte', 'lsec', 'stellate'],\n",
    "                  'lsec':['hepatocyte', 'kupffer', 'stellate'],\n",
    "                  'stellate':['hepatocyte', 'kupffer', 'lsec']}"
   ]
  },
  {
   "cell_type": "markdown",
   "id": "civil-delay",
   "metadata": {},
   "source": [
    "# Assess variance in data using coeff of variation"
   ]
  },
  {
   "cell_type": "code",
   "execution_count": 8,
   "id": "comparable-massage",
   "metadata": {},
   "outputs": [],
   "source": [
    "from scipy.stats import ttest_ind, wilcoxon, mannwhitneyu\n",
    "import itertools"
   ]
  },
  {
   "cell_type": "code",
   "execution_count": 10,
   "id": "vulnerable-confidence",
   "metadata": {
    "scrolled": true
   },
   "outputs": [
    {
     "name": "stdout",
     "output_type": "stream",
     "text": [
      "hepatocyte\n",
      "947\n",
      "kupffer\n",
      "573\n",
      "lsec\n",
      "21\n",
      "stellate\n",
      "464\n"
     ]
    }
   ],
   "source": [
    "fc = 4\n",
    "tpm_filt = 4\n",
    "\n",
    "cell_spec_dict = {}\n",
    "cell_coef_var_list_incl_all_genes = []\n",
    "cell_coefvar_list = []\n",
    "cell_coefvar_dict = {}\n",
    "\n",
    "for cell in ['hepatocyte', 'kupffer', 'lsec', 'stellate']:\n",
    "    cell_avg_tpm = df.loc[:, df.columns.str.contains(cell)].mean(1)\n",
    "    # cell_avg_tpm = cell_avg_tpm.loc[cell_avg_tpm>4]\n",
    "    other_cell_avg_tpm = []\n",
    "    for other_cell in comp_cell_dict[cell]:\n",
    "        other_cell_avg_tpm.append(df.loc[:, df.columns.str.contains(other_cell)].mean(1))\n",
    "        \n",
    "    # extract cell specific genes\n",
    "    cell_spec_bool = ((cell_avg_tpm>(fc*other_cell_avg_tpm[0])) & (cell_avg_tpm>(fc*other_cell_avg_tpm[1]))) & (cell_avg_tpm>(fc*other_cell_avg_tpm[2]))\n",
    "    cell_min_expression = (cell_avg_tpm > tpm_filt)\n",
    "    \n",
    "    # extract cell specific genes\n",
    "    cell_spec_genes = cell_avg_tpm.index[(cell_spec_bool & cell_min_expression)].to_list()\n",
    "    cell_spec_dict[cell] = cell_spec_genes\n",
    "    \n",
    "    # extrace coefficient of variation for all genes with tpm > 4\n",
    "    coeff_var_unfilt = df.loc[cell_min_expression, df.columns.str.contains(cell)].std(1) / df.loc[cell_min_expression, df.columns.str.contains(cell)].mean(1)\n",
    "    cell_coef_var_list_incl_all_genes.append(coeff_var_unfilt)\n",
    "    \n",
    "    # extract filtered coefficient of variation\n",
    "    coeff_var = df.loc[cell_spec_genes, df.columns.str.contains(cell)].std(1) / df.loc[cell_spec_genes, df.columns.str.contains(cell)].mean(1)\n",
    "    cell_coef_var_list_incl_all_genes.append(coeff_var)\n",
    "    cell_coefvar_list.append(coeff_var)\n",
    "    cell_coefvar_dict[cell]=coeff_var\n",
    "\n",
    "    \n",
    "    \n",
    "    print(cell)\n",
    "    print(len(cell_avg_tpm.index[(cell_spec_bool & cell_min_expression)].to_list()))"
   ]
  },
  {
   "cell_type": "markdown",
   "id": "resistant-retro",
   "metadata": {},
   "source": [
    "# Look at strain dependent coefficient of variation across cell types"
   ]
  },
  {
   "cell_type": "code",
   "execution_count": 12,
   "id": "steady-wealth",
   "metadata": {},
   "outputs": [
    {
     "data": {
      "image/png": "[encoded data removed]",
      "text/plain": [
       "<Figure size 72x72 with 1 Axes>"
      ]
     },
     "metadata": {
      "needs_background": "light"
     },
     "output_type": "display_data"
    }
   ],
   "source": [
    "fig, ax = plt.subplots(figsize=(1,1))\n",
    "c='k'\n",
    "g = sns.boxplot(data=cell_coefvar_list,\n",
    "                boxprops=dict(edgecolor=c),\n",
    "                capprops=dict(color=c),\n",
    "                whiskerprops=dict(color=c),\n",
    "                flierprops=dict(color=c, markeredgecolor=c),\n",
    "                medianprops=dict(color=c),\n",
    "                palette = ['#d95f0e',\n",
    "                           '#31a354',\n",
    "                           '#de2d26',\n",
    "                           '#756bb1'],\n",
    "                ax=ax,\n",
    "                width=0.5,\n",
    "                linewidth=0.5,\n",
    "                showfliers=True,\n",
    "                # rasterized=True,\n",
    "                fliersize=0.5)\n",
    "# g.set(yscale=\"log\")\n",
    "\n",
    "ax.set_ylabel('Strain\\nCoeff. Var.',\n",
    "              fontsize=6)\n",
    "ax.set_xticklabels(['Hep',\n",
    "                    'KC',\n",
    "                    'LSEC',\n",
    "                    'HSC'],\n",
    "                   fontsize=6);\n",
    "\n",
    "# Hide the right and top spines\n",
    "ax.spines['right'].set_visible(False)\n",
    "ax.spines['top'].set_visible(False)\n",
    "\n",
    "plt.savefig('./fancy_figures/identity_gene_strain_coeff_var.pdf',\n",
    "            bbox_inches='tight')"
   ]
  },
  {
   "cell_type": "code",
   "execution_count": 13,
   "id": "sound-capability",
   "metadata": {},
   "outputs": [
    {
     "name": "stdout",
     "output_type": "stream",
     "text": [
      "hepatocyte kupffer\n",
      "MannwhitneyuResult(statistic=267095.0, pvalue=0.3054301679524909)\n",
      "hepatocyte lsec\n",
      "MannwhitneyuResult(statistic=5760.0, pvalue=0.000481881423384552)\n",
      "hepatocyte stellate\n",
      "MannwhitneyuResult(statistic=150154.0, pvalue=1.9754255161173307e-22)\n",
      "kupffer lsec\n",
      "MannwhitneyuResult(statistic=3636.0, pvalue=0.0010307851678402252)\n",
      "kupffer stellate\n",
      "MannwhitneyuResult(statistic=92877.0, pvalue=3.323281277977909e-17)\n",
      "lsec stellate\n",
      "MannwhitneyuResult(statistic=3971.0, pvalue=0.07586227355093741)\n"
     ]
    }
   ],
   "source": [
    "for a, b in itertools.combinations(cell_coefvar_dict.keys(), 2):\n",
    "    print(a, b)\n",
    "    print(mannwhitneyu(cell_coefvar_dict[a], cell_coefvar_dict[b]))"
   ]
  },
  {
   "cell_type": "code",
   "execution_count": 14,
   "id": "expected-flavor",
   "metadata": {},
   "outputs": [
    {
     "data": {
      "image/png": "[encoded data removed]",
      "text/plain": [
       "<Figure size 144x72 with 1 Axes>"
      ]
     },
     "metadata": {
      "needs_background": "light"
     },
     "output_type": "display_data"
    }
   ],
   "source": [
    "fig, ax = plt.subplots(figsize=(2,1))\n",
    "c='k'\n",
    "g = sns.boxplot(data=cell_coef_var_list_incl_all_genes,\n",
    "                palette = ['#969696', '#d95f0e',\n",
    "                           '#969696', '#31a354',\n",
    "                           '#969696', '#de2d26',\n",
    "                           '#969696', '#756bb1'],\n",
    "                boxprops=dict(edgecolor=c),\n",
    "                capprops=dict(color=c),\n",
    "                whiskerprops=dict(color=c),\n",
    "                flierprops=dict(color=c, markeredgecolor=c),\n",
    "                medianprops=dict(color=c),\n",
    "                ax=ax,\n",
    "                width=0.4,\n",
    "                linewidth=0.5,\n",
    "                showfliers=True,\n",
    "                fliersize=0.5)\n",
    "# g.set(yscale=\"log\")\n",
    "\n",
    "ax.set_ylabel('Strain\\nCoeff. Var.')\n",
    "ax.set_xticklabels(['All', 'Hep',\n",
    "                    'All', 'KC',\n",
    "                    'All', 'LSEC',\n",
    "                    'All', 'HSC']);\n",
    "\n",
    "# Hide the right and top spines\n",
    "ax.spines['right'].set_visible(False)\n",
    "ax.spines['top'].set_visible(False)\n",
    "\n",
    "plt.savefig('./fancy_figures/identity_gene_strain_coeff_var_all.pdf',\n",
    "            bbox_inches='tight')"
   ]
  },
  {
   "cell_type": "markdown",
   "id": "dietary-shell",
   "metadata": {},
   "source": [
    "# How many of the top expressed genes are differential?"
   ]
  },
  {
   "cell_type": "markdown",
   "id": "genuine-climb",
   "metadata": {},
   "source": [
    "Kupffer cells"
   ]
  },
  {
   "cell_type": "code",
   "execution_count": 188,
   "id": "diagnostic-intelligence",
   "metadata": {},
   "outputs": [],
   "source": [
    "comps = ['aj_kupffer_control_young.vs.balbc_kupffer_control_young.scatter.homer.txt',\n",
    "         '/aj_kupffer_control_young.vs.c57_kupffer_control_young.scatter.homer.txt',\n",
    "         '/balbc_kupffer_control_young.vs.c57_kupffer_control_young.scatter.homer.txt']\n",
    "\n",
    "ids = [['AJ.*Kup', 'BALB.*Kup'],\n",
    "       ['AJ.*Kup', 'C57.*Kup'],\n",
    "       ['BALB.*Kup', 'C57.*Kup']]\n",
    "\n",
    "labels = [['AJ', 'BALB/cJ'],\n",
    "          ['AJ', 'C57BL/6J'],\n",
    "          ['BALB/cJ', 'C57BL/6J']]\n",
    "\n",
    "colors = [['#636363', '#de2d26'],\n",
    "          ['#636363', '#de2d26'],\n",
    "          ['#636363', '#de2d26']]\n",
    "\n",
    "# set plotting thresholds\n",
    "pthresh = 0.05\n",
    "fontsize=8\n",
    "labelsize=6\n",
    "lfcthresh = (1,2)\n",
    "dotsize = 0.5\n",
    "ax_max = 16\n",
    "n_yticks = 5\n",
    "ytickstep = 3\n",
    "color = '#636363'\n"
   ]
  },
  {
   "cell_type": "code",
   "execution_count": 190,
   "id": "convinced-treasurer",
   "metadata": {},
   "outputs": [
    {
     "name": "stdout",
     "output_type": "stream",
     "text": [
      "aj_kupffer_control_young.vs.balbc_kupffer_control_young.scatter.homer.txt\n",
      "ge all transcripts (24940, 43)\n",
      "Diff Gene selected transcripts (7612, 14)\n",
      "ge selected transcripts (7612, 43)\n",
      "7612 genes\n",
      "573 core kc genes\n",
      "22/92 KC genes up\n",
      "34/99 KC genes down\n",
      "/aj_kupffer_control_young.vs.c57_kupffer_control_young.scatter.homer.txt\n",
      "ge all transcripts (24940, 43)\n",
      "Diff Gene selected transcripts (7652, 14)\n",
      "ge selected transcripts (7652, 43)\n",
      "7652 genes\n",
      "573 core kc genes\n",
      "29/125 KC genes up\n",
      "41/159 KC genes down\n",
      "/balbc_kupffer_control_young.vs.c57_kupffer_control_young.scatter.homer.txt\n",
      "ge all transcripts (24940, 43)\n",
      "Diff Gene selected transcripts (7659, 14)\n",
      "ge selected transcripts (7659, 43)\n",
      "7659 genes\n",
      "573 core kc genes\n",
      "55/180 KC genes up\n",
      "52/179 KC genes down\n"
     ]
    },
    {
     "data": {
      "image/png": "[encoded data removed]",
      "text/plain": [
       "<Figure size 108x324 with 3 Axes>"
      ]
     },
     "metadata": {
      "needs_background": "light"
     },
     "output_type": "display_data"
    }
   ],
   "source": [
    "fig, axs = plt.subplots(3,1, figsize=(1.5,4.5), sharex=True, sharey=True)\n",
    "plt.subplots_adjust(wspace=0.2,\n",
    "                    hspace=0.2)\n",
    "\n",
    "# set count for labeling axes\n",
    "count=0\n",
    "\n",
    "\n",
    "for comp, grep, labs, color, ax in zip(comps, ids, labels, colors, axs.reshape(-1)):\n",
    "    print(comp)\n",
    "    de, tpm, tpm_mat, tpm_mat_quant = import_homer_diffgene(\n",
    "        dataDirectory+'./differential/'+comp,\n",
    "        dataDirectory+'./expression/HOMER.rawTPM.txt',\n",
    "        gene_name_index=True)\n",
    "    \n",
    "    # extract columns\n",
    "    g0 = tpm_mat.columns.str.contains(grep[0])\n",
    "    g1 = tpm_mat.columns.str.contains(grep[1])\n",
    "    col = g0 | g1\n",
    "    \n",
    "    de['logtpm'] = np.log2(tpm_mat.loc[:, col].mean(1)+1)\n",
    "    de['log10p'] = -np.log10(de.padj + 10**(-50))\n",
    "    de['g0_mean'] = np.log2(tpm_mat.loc[:, g0].mean(1)+1)\n",
    "    de['g1_mean'] = np.log2(tpm_mat.loc[:, g1].mean(1)+1)\n",
    "       \n",
    "    # plot group by group scatter:\n",
    "    de_all = de\n",
    "    de_kc_spec = de.reindex(cell_spec_dict['kupffer']).dropna()\n",
    "    de_sig_fc1 = de.reindex(de.index[(de.padj < pthresh) & (np.abs(de.log2FoldChange) >= lfcthresh[0])])\n",
    "    \n",
    "    # genes up in group 1\n",
    "    de_sig_fc1_up = de_sig_fc1.index[de_sig_fc1.log2FoldChange >= lfcthresh[0]].to_list()\n",
    "    de_sig_fc1_dn = de_sig_fc1.index[de_sig_fc1.log2FoldChange <= -lfcthresh[0]].to_list()\n",
    "    \n",
    "    # find overlap\n",
    "    kc_up = set(de_sig_fc1_up).intersection(cell_spec_dict['kupffer'])\n",
    "    kc_dn = set(de_sig_fc1_dn).intersection(cell_spec_dict['kupffer'])\n",
    "        \n",
    "    # check number of peaks in each group\n",
    "    print(de_all.shape[0], 'genes')\n",
    "    print(len(cell_spec_dict['kupffer']), 'core kc genes')\n",
    "    print('%i/%i KC genes up' % (len(kc_up), len(de_sig_fc1_up)))\n",
    "    print('%i/%i KC genes down' % (len(kc_dn), len(de_sig_fc1_dn)))\n",
    "    \n",
    "    for df, c in zip([de_all, de_kc_spec],\n",
    "                     color):\n",
    "        ax.scatter(\n",
    "            x=df.g0_mean,\n",
    "            y=df.g1_mean,\n",
    "            c=c,\n",
    "            s=dotsize,\n",
    "            rasterized=True)\n",
    "        \n",
    "    ax.text(1, 15, '%i/%i' % (len(kc_up), len(de_sig_fc1_up)))\n",
    "    ax.text(13, 1, '%i/%i' % (len(kc_dn), len(de_sig_fc1_dn)))\n",
    "    \n",
    "    # Hide the right and top spines\n",
    "    ax.spines['right'].set_visible(False)\n",
    "    ax.spines['top'].set_visible(False)\n",
    "    # set labels\n",
    "    ax.set_xlabel(labs[0])\n",
    "    ax.set_ylabel(labs[1])\n",
    "    #set max and min\n",
    "    ax.set_xlim([0,ax_max])\n",
    "    ax.set_ylim([0,ax_max])\n",
    "    # set ticks\n",
    "    ax.set_xticks(np.arange(0,ax_max,ytickstep))\n",
    "    ax.set_xticklabels(np.arange(0,ax_max,ytickstep),\n",
    "                       fontdict={'fontsize':labelsize})\n",
    "    ax.set_yticks(np.arange(0,ax_max,ytickstep))\n",
    "    ax.set_yticklabels(np.arange(0,ax_max,ytickstep),\n",
    "                       fontdict={'fontsize':labelsize})\n",
    "# plt.savefig('./fancy_figures/'+filename, bbox_inches='tight')"
   ]
  },
  {
   "cell_type": "code",
   "execution_count": 163,
   "id": "coordinate-south",
   "metadata": {},
   "outputs": [
    {
     "name": "stdout",
     "output_type": "stream",
     "text": [
      "hepatocyte\n",
      "1068\n",
      "kupffer\n",
      "727\n",
      "lsec\n",
      "178\n",
      "stellate\n",
      "528\n"
     ]
    }
   ],
   "source": [
    "fc = 3\n",
    "tpm_filt = 4\n",
    "\n",
    "cell_spec_dict = {}\n",
    "cell_var_dict = {}\n",
    "cell_var_list = []\n",
    "cell_coefvar_list = []\n",
    "\n",
    "for cell in ['hepatocyte', 'kupffer', 'lsec', 'stellate']:\n",
    "    cell_avg_tpm = df.loc[:, df.columns.str.contains(cell)].mean(1)\n",
    "    # cell_avg_tpm = cell_avg_tpm.loc[cell_avg_tpm>4]\n",
    "    other_cell_avg_tpm = []\n",
    "    for other_cell in comp_cell_dict[cell]:\n",
    "        other_cell_avg_tpm.append(df.loc[:, df.columns.str.contains(other_cell)].mean(1))\n",
    "        \n",
    "    cell_spec_bool = ((cell_avg_tpm>(fc*other_cell_avg_tpm[0])) & (cell_avg_tpm>(fc*other_cell_avg_tpm[1]))) & (cell_avg_tpm>(fc*other_cell_avg_tpm[2]))\n",
    "    cell_min_expression = (cell_avg_tpm > tpm_filt)\n",
    "    cell_spec_genes = cell_avg_tpm.index[(cell_spec_bool & cell_min_expression)].to_list()\n",
    "    cell_spec_dict[cell] = cell_spec_genes\n",
    "    cell_var_dict[cell] = df.loc[cell_spec_genes, df.columns.str.contains(cell)].sem(1).tolist()\n",
    "    cell_var_list.append(np.array(df.loc[cell_spec_genes, df.columns.str.contains(cell)].sem(1).tolist()))\n",
    "    \n",
    "    coeff_var = df.loc[cell_spec_genes, df.columns.str.contains(cell)].std(1) / df.loc[cell_spec_genes, df.columns.str.contains(cell)].mean(1)\n",
    "    cell_coefvar_list.append(coeff_var)\n",
    "    \n",
    "    print(cell)\n",
    "    print(len(cell_avg_tpm.index[(cell_spec_bool & cell_min_expression)].to_list()))"
   ]
  },
  {
   "cell_type": "code",
   "execution_count": 164,
   "id": "handed-scotland",
   "metadata": {},
   "outputs": [
    {
     "data": {
      "image/png": "[encoded data removed]",
      "text/plain": [
       "<Figure size 72x72 with 1 Axes>"
      ]
     },
     "metadata": {
      "needs_background": "light"
     },
     "output_type": "display_data"
    }
   ],
   "source": [
    "fig, ax = plt.subplots(figsize=(1,1))\n",
    "\n",
    "g = sns.boxplot(data=cell_var_list,\n",
    "                palette = ['#d95f0e', '#31a354', '#de2d26', '#756bb1'],\n",
    "                ax=ax,\n",
    "                width=0.4,\n",
    "                linewidth=1,\n",
    "                showfliers=True,\n",
    "                fliersize=1)\n",
    "g.set(yscale=\"log\")\n",
    "\n",
    "ax.set_ylabel('Strain\\nStandard Error')\n",
    "ax.set_xticklabels(['Hep.', 'KC', 'LSEC', 'HSC']);\n",
    "\n",
    "# Hide the right and top spines\n",
    "ax.spines['right'].set_visible(False)\n",
    "ax.spines['top'].set_visible(False)\n",
    "\n",
    "plt.savefig('./fancy_figures/identity_gene_strain_standard_error.pdf',\n",
    "            bbox_inches='tight')"
   ]
  },
  {
   "cell_type": "code",
   "execution_count": null,
   "id": "sapphire-allergy",
   "metadata": {},
   "outputs": [],
   "source": []
  }
 ],
 "metadata": {
  "kernelspec": {
   "display_name": "dataviz",
   "language": "python",
   "name": "dataviz"
  },
  "language_info": {
   "codemirror_mode": {
    "name": "ipython",
    "version": 3
   },
   "file_extension": ".py",
   "mimetype": "text/x-python",
   "name": "python",
   "nbconvert_exporter": "python",
   "pygments_lexer": "ipython3",
   "version": "3.7.5"
  }
 },
 "nbformat": 4,
 "nbformat_minor": 5
}
